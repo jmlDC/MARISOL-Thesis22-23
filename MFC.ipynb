{
  "nbformat": 4,
  "nbformat_minor": 0,
  "metadata": {
    "colab": {
      "provenance": [],
      "authorship_tag": "ABX9TyOqKf+CvjZV6E6+bIlCBXlD",
      "include_colab_link": true
    },
    "kernelspec": {
      "name": "python3",
      "display_name": "Python 3"
    },
    "language_info": {
      "name": "python"
    }
  },
  "cells": [
    {
      "cell_type": "markdown",
      "metadata": {
        "id": "view-in-github",
        "colab_type": "text"
      },
      "source": [
        "<a href=\"https://colab.research.google.com/github/jmlDC/MediaBias-Thesis22-23/blob/MFC/MFC.ipynb\" target=\"_parent\"><img src=\"https://colab.research.google.com/assets/colab-badge.svg\" alt=\"Open In Colab\"/></a>"
      ]
    },
    {
      "cell_type": "markdown",
      "source": [
        "# MFC"
      ],
      "metadata": {
        "id": "Fyr5BS-fEA9V"
      }
    },
    {
      "cell_type": "markdown",
      "source": [
        "## Mounting Gdrive"
      ],
      "metadata": {
        "id": "12-MLEUyD_un"
      }
    },
    {
      "cell_type": "code",
      "execution_count": 1,
      "metadata": {
        "colab": {
          "base_uri": "https://localhost:8080/"
        },
        "id": "Zm4zt5caAi5y",
        "outputId": "a13609e2-51a0-40ae-d2e6-9edebd4913d7"
      },
      "outputs": [
        {
          "output_type": "stream",
          "name": "stdout",
          "text": [
            "Mounted at /content/gdrive\n"
          ]
        }
      ],
      "source": [
        "from google.colab import drive\n",
        "drive.mount('/content/gdrive')\n",
        "\n",
        "dir  = \"/content/gdrive/MyDrive/THESIS-MS/Git-Thesis22-23/\""
      ]
    },
    {
      "cell_type": "markdown",
      "source": [
        "## Imports"
      ],
      "metadata": {
        "id": "If_VntTUEIRo"
      }
    },
    {
      "cell_type": "code",
      "source": [
        "import pandas as pd"
      ],
      "metadata": {
        "id": "Z7Pr-vPxEQyx"
      },
      "execution_count": 4,
      "outputs": []
    },
    {
      "cell_type": "markdown",
      "source": [
        "## DATASETS"
      ],
      "metadata": {
        "id": "gtFKXkk7EhtR"
      }
    },
    {
      "cell_type": "markdown",
      "source": [
        "Immigration"
      ],
      "metadata": {
        "id": "zFRfa5LcETT0"
      }
    },
    {
      "cell_type": "code",
      "source": [
        "IMM_df = pd.read_json(f'{dir}mfc_v4.0/immigration/immigration_labeled.json')\n",
        "IMM_df = IMM_df.T\n",
        "IMM_df"
      ],
      "metadata": {
        "id": "lfdLR_emA_xQ",
        "outputId": "ecec3d80-6428-4004-90bc-ccbb9258b846",
        "colab": {
          "base_uri": "https://localhost:8080/",
          "height": 852
        }
      },
      "execution_count": 18,
      "outputs": [
        {
          "output_type": "execute_result",
          "data": {
            "text/plain": [
              "                                                            annotations  \\\n",
              "Immigration1.0-10005  {'framing': {'hannah_47.0_r': [{'code': 10.2, ...   \n",
              "Immigration1.0-10006  {'framing': {'alex_54.0_r': [{'code': 5.2, 'en...   \n",
              "Immigration1.0-10013  {'framing': {'jeremy_44.0_r': [{'code': 2.2, '...   \n",
              "Immigration1.0-10015  {'framing': {'corey_55.0_r': [{'code': 10.2, '...   \n",
              "Immigration1.0-10018  {'framing': {'haley_46.0_r': [{'code': 11.2, '...   \n",
              "...                                                                 ...   \n",
              "Immigration1.0-9981   {'framing': {'allie_54.0_r': [{'code': 13.2, '...   \n",
              "Immigration1.0-9983   {'framing': {'haley_49.0_r': [{'code': 2.2, 'e...   \n",
              "Immigration1.0-9986   {'framing': {'corey_43.0_r': [{'code': 12.2, '...   \n",
              "Immigration1.0-9987   {'framing': {'corey_54.0_r': [{'code': 13.2, '...   \n",
              "Immigration1.0-9998   {'framing': {'corey_51.0_r': [{'code': 7.2, 'e...   \n",
              "\n",
              "                     headline_frame irrelevant primary_frame primary_tone  \\\n",
              "Immigration1.0-10005           10.1          0          10.2           17   \n",
              "Immigration1.0-10006           15.1          0           5.2           19   \n",
              "Immigration1.0-10013            1.1          0           2.2           19   \n",
              "Immigration1.0-10015           None          0          10.2           17   \n",
              "Immigration1.0-10018           None          0          None         None   \n",
              "...                             ...        ...           ...          ...   \n",
              "Immigration1.0-9981            13.1          0          13.2           17   \n",
              "Immigration1.0-9983            None          0           2.2           19   \n",
              "Immigration1.0-9986            None          0          12.2           19   \n",
              "Immigration1.0-9987            None          0          13.2           17   \n",
              "Immigration1.0-9998             7.1          0           7.2           19   \n",
              "\n",
              "                                                                   text  year  \\\n",
              "Immigration1.0-10005  IMM-10005\\n\\nPRIMARY\\n\\nImmigrants without HOP...  2001   \n",
              "Immigration1.0-10006  IMM-10006\\n\\nPRIMARY\\n\\nReaction to Tancredo, ...  2001   \n",
              "Immigration1.0-10013  IMM-10013\\n\\nPRIMARY\\n\\n$50,000 per entry\\n\\nT...  2001   \n",
              "Immigration1.0-10015  IMM-10015\\n\\nPRIMARY\\n\\nDangerous crossing; PU...  2001   \n",
              "Immigration1.0-10018  IMM-10018\\n\\nPRIMARY\\n\\nCHILDREN OF LATINO IMM...  2001   \n",
              "...                                                                 ...   ...   \n",
              "Immigration1.0-9981   IMM-9981\\n\\nPRIMARY\\n\\nBush Goes Slow on Immig...  2001   \n",
              "Immigration1.0-9983   IMM-9983\\n\\nPRIMARY\\n\\nTHE OPEN FORUM\\n\\nLAMM ...  2001   \n",
              "Immigration1.0-9986   IMM-9986\\n\\nPRIMARY\\n\\nImmigration Foes Find P...  2001   \n",
              "Immigration1.0-9987   IMM-9987\\n\\nPRIMARY\\n\\nEasy immigration finds ...  2001   \n",
              "Immigration1.0-9998   IMM-9998\\n\\nPRIMARY\\n\\nVideo link helps INS id...  2001   \n",
              "\n",
              "                     month day                            source  \n",
              "Immigration1.0-10005     8  15  atlanta journal and constitution  \n",
              "Immigration1.0-10006     8  15                       denver post  \n",
              "Immigration1.0-10013     8  14                        herald-sun  \n",
              "Immigration1.0-10015     8  13  atlanta journal and constitution  \n",
              "Immigration1.0-10018     8  13             san jose mercury news  \n",
              "...                    ...  ..                               ...  \n",
              "Immigration1.0-9981      8  20                   washington post  \n",
              "Immigration1.0-9983      8  19                       denver post  \n",
              "Immigration1.0-9986      8  19                   washington post  \n",
              "Immigration1.0-9987      8  18  atlanta journal and constitution  \n",
              "Immigration1.0-9998      8  16  atlanta journal and constitution  \n",
              "\n",
              "[6757 rows x 10 columns]"
            ],
            "text/html": [
              "\n",
              "  <div id=\"df-e120fa85-4bdc-445d-88e1-be45fb968b5e\">\n",
              "    <div class=\"colab-df-container\">\n",
              "      <div>\n",
              "<style scoped>\n",
              "    .dataframe tbody tr th:only-of-type {\n",
              "        vertical-align: middle;\n",
              "    }\n",
              "\n",
              "    .dataframe tbody tr th {\n",
              "        vertical-align: top;\n",
              "    }\n",
              "\n",
              "    .dataframe thead th {\n",
              "        text-align: right;\n",
              "    }\n",
              "</style>\n",
              "<table border=\"1\" class=\"dataframe\">\n",
              "  <thead>\n",
              "    <tr style=\"text-align: right;\">\n",
              "      <th></th>\n",
              "      <th>annotations</th>\n",
              "      <th>headline_frame</th>\n",
              "      <th>irrelevant</th>\n",
              "      <th>primary_frame</th>\n",
              "      <th>primary_tone</th>\n",
              "      <th>text</th>\n",
              "      <th>year</th>\n",
              "      <th>month</th>\n",
              "      <th>day</th>\n",
              "      <th>source</th>\n",
              "    </tr>\n",
              "  </thead>\n",
              "  <tbody>\n",
              "    <tr>\n",
              "      <th>Immigration1.0-10005</th>\n",
              "      <td>{'framing': {'hannah_47.0_r': [{'code': 10.2, ...</td>\n",
              "      <td>10.1</td>\n",
              "      <td>0</td>\n",
              "      <td>10.2</td>\n",
              "      <td>17</td>\n",
              "      <td>IMM-10005\\n\\nPRIMARY\\n\\nImmigrants without HOP...</td>\n",
              "      <td>2001</td>\n",
              "      <td>8</td>\n",
              "      <td>15</td>\n",
              "      <td>atlanta journal and constitution</td>\n",
              "    </tr>\n",
              "    <tr>\n",
              "      <th>Immigration1.0-10006</th>\n",
              "      <td>{'framing': {'alex_54.0_r': [{'code': 5.2, 'en...</td>\n",
              "      <td>15.1</td>\n",
              "      <td>0</td>\n",
              "      <td>5.2</td>\n",
              "      <td>19</td>\n",
              "      <td>IMM-10006\\n\\nPRIMARY\\n\\nReaction to Tancredo, ...</td>\n",
              "      <td>2001</td>\n",
              "      <td>8</td>\n",
              "      <td>15</td>\n",
              "      <td>denver post</td>\n",
              "    </tr>\n",
              "    <tr>\n",
              "      <th>Immigration1.0-10013</th>\n",
              "      <td>{'framing': {'jeremy_44.0_r': [{'code': 2.2, '...</td>\n",
              "      <td>1.1</td>\n",
              "      <td>0</td>\n",
              "      <td>2.2</td>\n",
              "      <td>19</td>\n",
              "      <td>IMM-10013\\n\\nPRIMARY\\n\\n$50,000 per entry\\n\\nT...</td>\n",
              "      <td>2001</td>\n",
              "      <td>8</td>\n",
              "      <td>14</td>\n",
              "      <td>herald-sun</td>\n",
              "    </tr>\n",
              "    <tr>\n",
              "      <th>Immigration1.0-10015</th>\n",
              "      <td>{'framing': {'corey_55.0_r': [{'code': 10.2, '...</td>\n",
              "      <td>None</td>\n",
              "      <td>0</td>\n",
              "      <td>10.2</td>\n",
              "      <td>17</td>\n",
              "      <td>IMM-10015\\n\\nPRIMARY\\n\\nDangerous crossing; PU...</td>\n",
              "      <td>2001</td>\n",
              "      <td>8</td>\n",
              "      <td>13</td>\n",
              "      <td>atlanta journal and constitution</td>\n",
              "    </tr>\n",
              "    <tr>\n",
              "      <th>Immigration1.0-10018</th>\n",
              "      <td>{'framing': {'haley_46.0_r': [{'code': 11.2, '...</td>\n",
              "      <td>None</td>\n",
              "      <td>0</td>\n",
              "      <td>None</td>\n",
              "      <td>None</td>\n",
              "      <td>IMM-10018\\n\\nPRIMARY\\n\\nCHILDREN OF LATINO IMM...</td>\n",
              "      <td>2001</td>\n",
              "      <td>8</td>\n",
              "      <td>13</td>\n",
              "      <td>san jose mercury news</td>\n",
              "    </tr>\n",
              "    <tr>\n",
              "      <th>...</th>\n",
              "      <td>...</td>\n",
              "      <td>...</td>\n",
              "      <td>...</td>\n",
              "      <td>...</td>\n",
              "      <td>...</td>\n",
              "      <td>...</td>\n",
              "      <td>...</td>\n",
              "      <td>...</td>\n",
              "      <td>...</td>\n",
              "      <td>...</td>\n",
              "    </tr>\n",
              "    <tr>\n",
              "      <th>Immigration1.0-9981</th>\n",
              "      <td>{'framing': {'allie_54.0_r': [{'code': 13.2, '...</td>\n",
              "      <td>13.1</td>\n",
              "      <td>0</td>\n",
              "      <td>13.2</td>\n",
              "      <td>17</td>\n",
              "      <td>IMM-9981\\n\\nPRIMARY\\n\\nBush Goes Slow on Immig...</td>\n",
              "      <td>2001</td>\n",
              "      <td>8</td>\n",
              "      <td>20</td>\n",
              "      <td>washington post</td>\n",
              "    </tr>\n",
              "    <tr>\n",
              "      <th>Immigration1.0-9983</th>\n",
              "      <td>{'framing': {'haley_49.0_r': [{'code': 2.2, 'e...</td>\n",
              "      <td>None</td>\n",
              "      <td>0</td>\n",
              "      <td>2.2</td>\n",
              "      <td>19</td>\n",
              "      <td>IMM-9983\\n\\nPRIMARY\\n\\nTHE OPEN FORUM\\n\\nLAMM ...</td>\n",
              "      <td>2001</td>\n",
              "      <td>8</td>\n",
              "      <td>19</td>\n",
              "      <td>denver post</td>\n",
              "    </tr>\n",
              "    <tr>\n",
              "      <th>Immigration1.0-9986</th>\n",
              "      <td>{'framing': {'corey_43.0_r': [{'code': 12.2, '...</td>\n",
              "      <td>None</td>\n",
              "      <td>0</td>\n",
              "      <td>12.2</td>\n",
              "      <td>19</td>\n",
              "      <td>IMM-9986\\n\\nPRIMARY\\n\\nImmigration Foes Find P...</td>\n",
              "      <td>2001</td>\n",
              "      <td>8</td>\n",
              "      <td>19</td>\n",
              "      <td>washington post</td>\n",
              "    </tr>\n",
              "    <tr>\n",
              "      <th>Immigration1.0-9987</th>\n",
              "      <td>{'framing': {'corey_54.0_r': [{'code': 13.2, '...</td>\n",
              "      <td>None</td>\n",
              "      <td>0</td>\n",
              "      <td>13.2</td>\n",
              "      <td>17</td>\n",
              "      <td>IMM-9987\\n\\nPRIMARY\\n\\nEasy immigration finds ...</td>\n",
              "      <td>2001</td>\n",
              "      <td>8</td>\n",
              "      <td>18</td>\n",
              "      <td>atlanta journal and constitution</td>\n",
              "    </tr>\n",
              "    <tr>\n",
              "      <th>Immigration1.0-9998</th>\n",
              "      <td>{'framing': {'corey_51.0_r': [{'code': 7.2, 'e...</td>\n",
              "      <td>7.1</td>\n",
              "      <td>0</td>\n",
              "      <td>7.2</td>\n",
              "      <td>19</td>\n",
              "      <td>IMM-9998\\n\\nPRIMARY\\n\\nVideo link helps INS id...</td>\n",
              "      <td>2001</td>\n",
              "      <td>8</td>\n",
              "      <td>16</td>\n",
              "      <td>atlanta journal and constitution</td>\n",
              "    </tr>\n",
              "  </tbody>\n",
              "</table>\n",
              "<p>6757 rows × 10 columns</p>\n",
              "</div>\n",
              "      <button class=\"colab-df-convert\" onclick=\"convertToInteractive('df-e120fa85-4bdc-445d-88e1-be45fb968b5e')\"\n",
              "              title=\"Convert this dataframe to an interactive table.\"\n",
              "              style=\"display:none;\">\n",
              "        \n",
              "  <svg xmlns=\"http://www.w3.org/2000/svg\" height=\"24px\"viewBox=\"0 0 24 24\"\n",
              "       width=\"24px\">\n",
              "    <path d=\"M0 0h24v24H0V0z\" fill=\"none\"/>\n",
              "    <path d=\"M18.56 5.44l.94 2.06.94-2.06 2.06-.94-2.06-.94-.94-2.06-.94 2.06-2.06.94zm-11 1L8.5 8.5l.94-2.06 2.06-.94-2.06-.94L8.5 2.5l-.94 2.06-2.06.94zm10 10l.94 2.06.94-2.06 2.06-.94-2.06-.94-.94-2.06-.94 2.06-2.06.94z\"/><path d=\"M17.41 7.96l-1.37-1.37c-.4-.4-.92-.59-1.43-.59-.52 0-1.04.2-1.43.59L10.3 9.45l-7.72 7.72c-.78.78-.78 2.05 0 2.83L4 21.41c.39.39.9.59 1.41.59.51 0 1.02-.2 1.41-.59l7.78-7.78 2.81-2.81c.8-.78.8-2.07 0-2.86zM5.41 20L4 18.59l7.72-7.72 1.47 1.35L5.41 20z\"/>\n",
              "  </svg>\n",
              "      </button>\n",
              "      \n",
              "  <style>\n",
              "    .colab-df-container {\n",
              "      display:flex;\n",
              "      flex-wrap:wrap;\n",
              "      gap: 12px;\n",
              "    }\n",
              "\n",
              "    .colab-df-convert {\n",
              "      background-color: #E8F0FE;\n",
              "      border: none;\n",
              "      border-radius: 50%;\n",
              "      cursor: pointer;\n",
              "      display: none;\n",
              "      fill: #1967D2;\n",
              "      height: 32px;\n",
              "      padding: 0 0 0 0;\n",
              "      width: 32px;\n",
              "    }\n",
              "\n",
              "    .colab-df-convert:hover {\n",
              "      background-color: #E2EBFA;\n",
              "      box-shadow: 0px 1px 2px rgba(60, 64, 67, 0.3), 0px 1px 3px 1px rgba(60, 64, 67, 0.15);\n",
              "      fill: #174EA6;\n",
              "    }\n",
              "\n",
              "    [theme=dark] .colab-df-convert {\n",
              "      background-color: #3B4455;\n",
              "      fill: #D2E3FC;\n",
              "    }\n",
              "\n",
              "    [theme=dark] .colab-df-convert:hover {\n",
              "      background-color: #434B5C;\n",
              "      box-shadow: 0px 1px 3px 1px rgba(0, 0, 0, 0.15);\n",
              "      filter: drop-shadow(0px 1px 2px rgba(0, 0, 0, 0.3));\n",
              "      fill: #FFFFFF;\n",
              "    }\n",
              "  </style>\n",
              "\n",
              "      <script>\n",
              "        const buttonEl =\n",
              "          document.querySelector('#df-e120fa85-4bdc-445d-88e1-be45fb968b5e button.colab-df-convert');\n",
              "        buttonEl.style.display =\n",
              "          google.colab.kernel.accessAllowed ? 'block' : 'none';\n",
              "\n",
              "        async function convertToInteractive(key) {\n",
              "          const element = document.querySelector('#df-e120fa85-4bdc-445d-88e1-be45fb968b5e');\n",
              "          const dataTable =\n",
              "            await google.colab.kernel.invokeFunction('convertToInteractive',\n",
              "                                                     [key], {});\n",
              "          if (!dataTable) return;\n",
              "\n",
              "          const docLinkHtml = 'Like what you see? Visit the ' +\n",
              "            '<a target=\"_blank\" href=https://colab.research.google.com/notebooks/data_table.ipynb>data table notebook</a>'\n",
              "            + ' to learn more about interactive tables.';\n",
              "          element.innerHTML = '';\n",
              "          dataTable['output_type'] = 'display_data';\n",
              "          await google.colab.output.renderOutput(dataTable, element);\n",
              "          const docLink = document.createElement('div');\n",
              "          docLink.innerHTML = docLinkHtml;\n",
              "          element.appendChild(docLink);\n",
              "        }\n",
              "      </script>\n",
              "    </div>\n",
              "  </div>\n",
              "  "
            ]
          },
          "metadata": {},
          "execution_count": 18
        }
      ]
    },
    {
      "cell_type": "code",
      "source": [],
      "metadata": {
        "id": "KspIsRI_ExMe"
      },
      "execution_count": 16,
      "outputs": []
    },
    {
      "cell_type": "code",
      "source": [],
      "metadata": {
        "id": "jXWeTR_6GC4R"
      },
      "execution_count": null,
      "outputs": []
    }
  ]
}