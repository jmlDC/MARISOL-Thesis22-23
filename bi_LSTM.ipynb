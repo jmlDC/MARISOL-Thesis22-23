{
  "nbformat": 4,
  "nbformat_minor": 0,
  "metadata": {
    "colab": {
      "provenance": [],
      "toc_visible": true,
      "gpuType": "T4",
      "authorship_tag": "ABX9TyOXty9JSMvEpicefPFjpXVG",
      "include_colab_link": true
    },
    "kernelspec": {
      "name": "python3",
      "display_name": "Python 3"
    },
    "language_info": {
      "name": "python"
    },
    "gpuClass": "standard"
  },
  "cells": [
    {
      "cell_type": "markdown",
      "metadata": {
        "id": "view-in-github",
        "colab_type": "text"
      },
      "source": [
        "<a href=\"https://colab.research.google.com/github/jmlDC/MediaBias-Thesis22-23/blob/Modeling/bi_LSTM.ipynb\" target=\"_parent\"><img src=\"https://colab.research.google.com/assets/colab-badge.svg\" alt=\"Open In Colab\"/></a>"
      ]
    },
    {
      "cell_type": "markdown",
      "source": [
        "reference\n",
        "https://colab.research.google.com/github/keras-team/keras-io/blob/master/examples/nlp/ipynb/bidirectional_lstm_imdb.ipynb#scrollTo=6Rf3oHV3zOzD \n",
        "\n",
        "*   https://towardsdatascience.com/multiclass-text-classification-using-lstm-in-pytorch-eac56baed8df\n",
        "*   https://towardsdatascience.com/sentiment-analysis-using-lstm-and-glove-embeddings-99223a87fe8e\n",
        "\n"
      ],
      "metadata": {
        "id": "P3A3khwwi4mB"
      }
    },
    {
      "cell_type": "markdown",
      "source": [
        "### Installs"
      ],
      "metadata": {
        "id": "rL0ZCtlZ_qNY"
      }
    },
    {
      "cell_type": "code",
      "execution_count": 199,
      "metadata": {
        "id": "lIojWnaTyuh5"
      },
      "outputs": [],
      "source": [
        "import numpy as np\n",
        "from tensorflow import keras\n",
        "from keras.preprocessing.text import Tokenizer\n",
        "from keras.layers import Embedding\n",
        "from keras.layers import LSTM, Activation, Dropout, Dense, Input, Conv1D, MaxPooling1D, GlobalMaxPooling1D\n",
        "from keras.models import Model\n",
        "\n",
        "import re\n",
        "import spacy\n",
        "import string\n",
        "from collections import Counter\n",
        "import torch\n",
        "from sklearn.metrics import mean_squared_error\n",
        "from torch.utils.data import Dataset, DataLoader\n",
        "import torch.nn.functional as F\n",
        "import torch.nn as nn\n"
      ]
    },
    {
      "cell_type": "markdown",
      "source": [
        "## Gdrive"
      ],
      "metadata": {
        "id": "ZvmvNP-vi6sq"
      }
    },
    {
      "cell_type": "code",
      "source": [
        "from google.colab import drive\n",
        "drive.mount('/content/gdrive')\n",
        "\n",
        "dir  = \"/content/gdrive/MyDrive/THESIS-MS/Git-Thesis22-23/\""
      ],
      "metadata": {
        "colab": {
          "base_uri": "https://localhost:8080/"
        },
        "id": "hjFPi1QZ3Obl",
        "outputId": "2c7b29d1-b733-4f42-e968-eb3f086a6070"
      },
      "execution_count": 16,
      "outputs": [
        {
          "output_type": "stream",
          "name": "stdout",
          "text": [
            "Drive already mounted at /content/gdrive; to attempt to forcibly remount, call drive.mount(\"/content/gdrive\", force_remount=True).\n"
          ]
        }
      ]
    },
    {
      "cell_type": "markdown",
      "source": [
        "## Dataset"
      ],
      "metadata": {
        "id": "NAOSPi-x_wxT"
      }
    },
    {
      "cell_type": "code",
      "source": [
        "import pandas as pd\n",
        "\n",
        "df = pd.read_csv(f'{dir}Official/MFC_prepared.csv', usecols=[\"code_frames\", \"annotations\"], header=0)\n",
        "df.code_frames = df.code_frames.astype(int)\n",
        "\n",
        "label_dict = {}\n",
        "for x in range(15):\n",
        "    label_dict[x+1] = x\n",
        "\n",
        "label_dict\n",
        "df['label'] = df.code_frames.replace(label_dict)\n",
        "df = df.drop([\"code_frames\"], axis=1)\n",
        "df"
      ],
      "metadata": {
        "colab": {
          "base_uri": "https://localhost:8080/",
          "height": 423
        },
        "id": "yrK_ulaZ3XwU",
        "outputId": "96cc009b-8c22-477b-e09d-77df3d95f105"
      },
      "execution_count": 17,
      "outputs": [
        {
          "output_type": "execute_result",
          "data": {
            "text/plain": [
              "                                             annotations  label\n",
              "0      Immigrants without HOPE need help entering col...      9\n",
              "1      But in the eyes of the law, he is an illegal i...      4\n",
              "2                Reaction to Tancredo, Lamm as predicted     14\n",
              "3      That, said the congressman, is what always hap...     12\n",
              "4                                      $50,000 per entry      0\n",
              "...                                                  ...    ...\n",
              "46794                 Smoking is becoming a social taboo     10\n",
              "46795   Nor does it aid lawyers seeking novel ways to...      4\n",
              "46796                                   'Ashes to Ashes'     14\n",
              "46797          SMOKE SCREEN IS SEEN BEHIND THE SMOKELESS     14\n",
              "46798             CIGARETTE MAKERS AND THE PUBLIC HEALTH      0\n",
              "\n",
              "[46799 rows x 2 columns]"
            ],
            "text/html": [
              "\n",
              "  <div id=\"df-5b531bfa-6c8f-47e4-a377-e12ce4a426ce\">\n",
              "    <div class=\"colab-df-container\">\n",
              "      <div>\n",
              "<style scoped>\n",
              "    .dataframe tbody tr th:only-of-type {\n",
              "        vertical-align: middle;\n",
              "    }\n",
              "\n",
              "    .dataframe tbody tr th {\n",
              "        vertical-align: top;\n",
              "    }\n",
              "\n",
              "    .dataframe thead th {\n",
              "        text-align: right;\n",
              "    }\n",
              "</style>\n",
              "<table border=\"1\" class=\"dataframe\">\n",
              "  <thead>\n",
              "    <tr style=\"text-align: right;\">\n",
              "      <th></th>\n",
              "      <th>annotations</th>\n",
              "      <th>label</th>\n",
              "    </tr>\n",
              "  </thead>\n",
              "  <tbody>\n",
              "    <tr>\n",
              "      <th>0</th>\n",
              "      <td>Immigrants without HOPE need help entering col...</td>\n",
              "      <td>9</td>\n",
              "    </tr>\n",
              "    <tr>\n",
              "      <th>1</th>\n",
              "      <td>But in the eyes of the law, he is an illegal i...</td>\n",
              "      <td>4</td>\n",
              "    </tr>\n",
              "    <tr>\n",
              "      <th>2</th>\n",
              "      <td>Reaction to Tancredo, Lamm as predicted</td>\n",
              "      <td>14</td>\n",
              "    </tr>\n",
              "    <tr>\n",
              "      <th>3</th>\n",
              "      <td>That, said the congressman, is what always hap...</td>\n",
              "      <td>12</td>\n",
              "    </tr>\n",
              "    <tr>\n",
              "      <th>4</th>\n",
              "      <td>$50,000 per entry</td>\n",
              "      <td>0</td>\n",
              "    </tr>\n",
              "    <tr>\n",
              "      <th>...</th>\n",
              "      <td>...</td>\n",
              "      <td>...</td>\n",
              "    </tr>\n",
              "    <tr>\n",
              "      <th>46794</th>\n",
              "      <td>Smoking is becoming a social taboo</td>\n",
              "      <td>10</td>\n",
              "    </tr>\n",
              "    <tr>\n",
              "      <th>46795</th>\n",
              "      <td>Nor does it aid lawyers seeking novel ways to...</td>\n",
              "      <td>4</td>\n",
              "    </tr>\n",
              "    <tr>\n",
              "      <th>46796</th>\n",
              "      <td>'Ashes to Ashes'</td>\n",
              "      <td>14</td>\n",
              "    </tr>\n",
              "    <tr>\n",
              "      <th>46797</th>\n",
              "      <td>SMOKE SCREEN IS SEEN BEHIND THE SMOKELESS</td>\n",
              "      <td>14</td>\n",
              "    </tr>\n",
              "    <tr>\n",
              "      <th>46798</th>\n",
              "      <td>CIGARETTE MAKERS AND THE PUBLIC HEALTH</td>\n",
              "      <td>0</td>\n",
              "    </tr>\n",
              "  </tbody>\n",
              "</table>\n",
              "<p>46799 rows × 2 columns</p>\n",
              "</div>\n",
              "      <button class=\"colab-df-convert\" onclick=\"convertToInteractive('df-5b531bfa-6c8f-47e4-a377-e12ce4a426ce')\"\n",
              "              title=\"Convert this dataframe to an interactive table.\"\n",
              "              style=\"display:none;\">\n",
              "        \n",
              "  <svg xmlns=\"http://www.w3.org/2000/svg\" height=\"24px\"viewBox=\"0 0 24 24\"\n",
              "       width=\"24px\">\n",
              "    <path d=\"M0 0h24v24H0V0z\" fill=\"none\"/>\n",
              "    <path d=\"M18.56 5.44l.94 2.06.94-2.06 2.06-.94-2.06-.94-.94-2.06-.94 2.06-2.06.94zm-11 1L8.5 8.5l.94-2.06 2.06-.94-2.06-.94L8.5 2.5l-.94 2.06-2.06.94zm10 10l.94 2.06.94-2.06 2.06-.94-2.06-.94-.94-2.06-.94 2.06-2.06.94z\"/><path d=\"M17.41 7.96l-1.37-1.37c-.4-.4-.92-.59-1.43-.59-.52 0-1.04.2-1.43.59L10.3 9.45l-7.72 7.72c-.78.78-.78 2.05 0 2.83L4 21.41c.39.39.9.59 1.41.59.51 0 1.02-.2 1.41-.59l7.78-7.78 2.81-2.81c.8-.78.8-2.07 0-2.86zM5.41 20L4 18.59l7.72-7.72 1.47 1.35L5.41 20z\"/>\n",
              "  </svg>\n",
              "      </button>\n",
              "      \n",
              "  <style>\n",
              "    .colab-df-container {\n",
              "      display:flex;\n",
              "      flex-wrap:wrap;\n",
              "      gap: 12px;\n",
              "    }\n",
              "\n",
              "    .colab-df-convert {\n",
              "      background-color: #E8F0FE;\n",
              "      border: none;\n",
              "      border-radius: 50%;\n",
              "      cursor: pointer;\n",
              "      display: none;\n",
              "      fill: #1967D2;\n",
              "      height: 32px;\n",
              "      padding: 0 0 0 0;\n",
              "      width: 32px;\n",
              "    }\n",
              "\n",
              "    .colab-df-convert:hover {\n",
              "      background-color: #E2EBFA;\n",
              "      box-shadow: 0px 1px 2px rgba(60, 64, 67, 0.3), 0px 1px 3px 1px rgba(60, 64, 67, 0.15);\n",
              "      fill: #174EA6;\n",
              "    }\n",
              "\n",
              "    [theme=dark] .colab-df-convert {\n",
              "      background-color: #3B4455;\n",
              "      fill: #D2E3FC;\n",
              "    }\n",
              "\n",
              "    [theme=dark] .colab-df-convert:hover {\n",
              "      background-color: #434B5C;\n",
              "      box-shadow: 0px 1px 3px 1px rgba(0, 0, 0, 0.15);\n",
              "      filter: drop-shadow(0px 1px 2px rgba(0, 0, 0, 0.3));\n",
              "      fill: #FFFFFF;\n",
              "    }\n",
              "  </style>\n",
              "\n",
              "      <script>\n",
              "        const buttonEl =\n",
              "          document.querySelector('#df-5b531bfa-6c8f-47e4-a377-e12ce4a426ce button.colab-df-convert');\n",
              "        buttonEl.style.display =\n",
              "          google.colab.kernel.accessAllowed ? 'block' : 'none';\n",
              "\n",
              "        async function convertToInteractive(key) {\n",
              "          const element = document.querySelector('#df-5b531bfa-6c8f-47e4-a377-e12ce4a426ce');\n",
              "          const dataTable =\n",
              "            await google.colab.kernel.invokeFunction('convertToInteractive',\n",
              "                                                     [key], {});\n",
              "          if (!dataTable) return;\n",
              "\n",
              "          const docLinkHtml = 'Like what you see? Visit the ' +\n",
              "            '<a target=\"_blank\" href=https://colab.research.google.com/notebooks/data_table.ipynb>data table notebook</a>'\n",
              "            + ' to learn more about interactive tables.';\n",
              "          element.innerHTML = '';\n",
              "          dataTable['output_type'] = 'display_data';\n",
              "          await google.colab.output.renderOutput(dataTable, element);\n",
              "          const docLink = document.createElement('div');\n",
              "          docLink.innerHTML = docLinkHtml;\n",
              "          element.appendChild(docLink);\n",
              "        }\n",
              "      </script>\n",
              "    </div>\n",
              "  </div>\n",
              "  "
            ]
          },
          "metadata": {},
          "execution_count": 17
        }
      ]
    },
    {
      "cell_type": "markdown",
      "source": [
        "## Model LSTM"
      ],
      "metadata": {
        "id": "lODgdAcXbYXy"
      }
    },
    {
      "cell_type": "markdown",
      "source": [
        "### Prep"
      ],
      "metadata": {
        "id": "mxx_xPz3AGzA"
      }
    },
    {
      "cell_type": "code",
      "source": [
        "max_features = 200000  # Only consider the top 20k words\n",
        "maxLen = 150  # Only consider the first 200 words of each movie review"
      ],
      "metadata": {
        "id": "L-LuIaITy6ZB"
      },
      "execution_count": 201,
      "outputs": []
    },
    {
      "cell_type": "markdown",
      "source": [
        "#### Tain and Test Splitting"
      ],
      "metadata": {
        "id": "XiiDXeAi_zVa"
      }
    },
    {
      "cell_type": "code",
      "source": [
        "from sklearn.model_selection import train_test_split\n",
        "X_train, X_val, y_train, y_val = train_test_split(df.annotations.values, \n",
        "                                                  df.label.values, \n",
        "                                                  test_size=0.15, \n",
        "                                                  random_state=42,\n",
        "                                                  stratify=df.label.values\n",
        "                                                )"
      ],
      "metadata": {
        "id": "SDbG6Osg4Hfa"
      },
      "execution_count": null,
      "outputs": []
    },
    {
      "cell_type": "code",
      "source": [
        "X_train.shape"
      ],
      "metadata": {
        "colab": {
          "base_uri": "https://localhost:8080/"
        },
        "id": "V-63sBdO9lxm",
        "outputId": "e07e4257-a024-46c7-b98e-a2b4c6ed7945"
      },
      "execution_count": null,
      "outputs": [
        {
          "output_type": "execute_result",
          "data": {
            "text/plain": [
              "(39779,)"
            ]
          },
          "metadata": {},
          "execution_count": 35
        }
      ]
    },
    {
      "cell_type": "markdown",
      "source": [
        "#### tokenizing"
      ],
      "metadata": {
        "id": "Hc_Kufzq_09t"
      }
    },
    {
      "cell_type": "code",
      "source": [
        "tokenizer = Tokenizer(num_words=200)\n",
        "tokenizer.fit_on_texts(X_train)"
      ],
      "metadata": {
        "id": "z7XTjgiLi6f9"
      },
      "execution_count": null,
      "outputs": []
    },
    {
      "cell_type": "code",
      "source": [
        "words_to_index = tokenizer.word_index"
      ],
      "metadata": {
        "id": "P032zIxo1qsJ"
      },
      "execution_count": null,
      "outputs": []
    },
    {
      "cell_type": "markdown",
      "source": [
        "#### GLOVE"
      ],
      "metadata": {
        "id": "6ru400GE_29x"
      }
    },
    {
      "cell_type": "code",
      "source": [
        "def read_glove_vector(glove_vec):\n",
        "  with open(glove_vec, 'r', encoding='UTF-8') as f:\n",
        "    words = set()\n",
        "    word_to_vec_map = {}\n",
        "    for line in f:\n",
        "      w_line = line.split()\n",
        "      curr_word = w_line[0]\n",
        "      word_to_vec_map[curr_word] = np.array(w_line[1:], dtype=np.float64)\n",
        "\n",
        "  return word_to_vec_map\n",
        "\n",
        "word_to_vec_map = read_glove_vector(f'{dir}glove.6B/glove.6B.100d.txt')"
      ],
      "metadata": {
        "id": "JlwqKdbVy5b_"
      },
      "execution_count": 21,
      "outputs": []
    },
    {
      "cell_type": "code",
      "source": [
        "# added minus 1, due to out of bounds\n",
        "vocab_len = len(words_to_index) \n",
        "embed_vector_len = word_to_vec_map['moon'].shape[0]\n",
        "\n",
        "emb_matrix = np.zeros((vocab_len, embed_vector_len))\n",
        "\n",
        "for word, index in words_to_index.items():\n",
        "  embedding_vector = word_to_vec_map.get(word)\n",
        "  if embedding_vector is not None:\n",
        "    emb_matrix[index-1, :] = embedding_vector\n",
        "\n",
        "embedding_layer = Embedding(input_dim=vocab_len, output_dim=embed_vector_len, input_length=maxLen, weights = [emb_matrix], trainable=False)\n"
      ],
      "metadata": {
        "id": "PiVOzK721XEe"
      },
      "execution_count": null,
      "outputs": []
    },
    {
      "cell_type": "markdown",
      "source": [
        "### Model1 no glove"
      ],
      "metadata": {
        "id": "BKQAV6GgG_p9"
      }
    },
    {
      "cell_type": "code",
      "source": [
        "# No glove\n",
        "\n",
        "# Input for variable-length sequences of integers\n",
        "inputs = keras.Input(shape=(None,), dtype=\"int32\")\n",
        "# embeddings = embedding_layer(inputs)                    #added this for glove\n",
        "# Embed each integer in a 128-dimensional vector\n",
        "x = layers.Embedding(max_features, 128)(inputs)\n",
        "# Add 2 bidirectional LSTMs\n",
        "x = layers.Bidirectional(layers.LSTM(64, return_sequences=True))(x)\n",
        "x = layers.Bidirectional(layers.LSTM(64))(x)\n",
        "# Add a classifier\n",
        "outputs = layers.Dense(15, activation=\"sigmoid\")(x)\n",
        "model = keras.Model(inputs, outputs)\n",
        "model.summary()\n"
      ],
      "metadata": {
        "colab": {
          "base_uri": "https://localhost:8080/"
        },
        "id": "1rvk1nJP0tYP",
        "outputId": "caf85fee-0a71-4b42-f5d2-34693be29dca"
      },
      "execution_count": 205,
      "outputs": [
        {
          "output_type": "stream",
          "name": "stdout",
          "text": [
            "Model: \"model_2\"\n",
            "_________________________________________________________________\n",
            " Layer (type)                Output Shape              Param #   \n",
            "=================================================================\n",
            " input_6 (InputLayer)        [(None, None)]            0         \n",
            "                                                                 \n",
            " embedding_5 (Embedding)     (None, None, 128)         25600000  \n",
            "                                                                 \n",
            " bidirectional_4 (Bidirectio  (None, None, 128)        98816     \n",
            " nal)                                                            \n",
            "                                                                 \n",
            " bidirectional_5 (Bidirectio  (None, 128)              98816     \n",
            " nal)                                                            \n",
            "                                                                 \n",
            " dense_5 (Dense)             (None, 15)                1935      \n",
            "                                                                 \n",
            "=================================================================\n",
            "Total params: 25,799,567\n",
            "Trainable params: 25,799,567\n",
            "Non-trainable params: 0\n",
            "_________________________________________________________________\n"
          ]
        }
      ]
    },
    {
      "cell_type": "code",
      "source": [
        "X_train_indices = tokenizer.texts_to_sequences(X_train)\n",
        "X_val_indices = tokenizer.texts_to_sequences(X_val)\n",
        "\n",
        "x_train = keras.utils.pad_sequences(X_train_indices, maxlen=maxLen)\n",
        "x_val = keras.utils.pad_sequences(X_val_indices, maxlen=maxLen)\n"
      ],
      "metadata": {
        "id": "bavjwNh88EZv"
      },
      "execution_count": null,
      "outputs": []
    },
    {
      "cell_type": "code",
      "source": [
        "model.compile(\"adam\", \"sparse_categorical_crossentropy\", metrics=[\"accuracy\"])\n",
        "model.fit(x_train, y_train, batch_size=32, epochs=10, validation_data=(x_val, y_val))\n"
      ],
      "metadata": {
        "colab": {
          "base_uri": "https://localhost:8080/"
        },
        "id": "BFd6KqBf9eDe",
        "outputId": "e938d28e-3c67-4566-9ed5-224d4e7c7adc"
      },
      "execution_count": null,
      "outputs": [
        {
          "output_type": "stream",
          "name": "stdout",
          "text": [
            "Epoch 1/10\n",
            "1244/1244 [==============================] - 61s 42ms/step - loss: nan - accuracy: 0.0713 - val_loss: nan - val_accuracy: 0.0712\n",
            "Epoch 2/10\n",
            "1244/1244 [==============================] - 39s 31ms/step - loss: nan - accuracy: 0.0713 - val_loss: nan - val_accuracy: 0.0712\n",
            "Epoch 3/10\n",
            "1244/1244 [==============================] - 41s 33ms/step - loss: nan - accuracy: 0.0713 - val_loss: nan - val_accuracy: 0.0712\n",
            "Epoch 4/10\n",
            "1244/1244 [==============================] - 40s 32ms/step - loss: nan - accuracy: 0.0713 - val_loss: nan - val_accuracy: 0.0712\n",
            "Epoch 5/10\n",
            "1244/1244 [==============================] - 41s 33ms/step - loss: nan - accuracy: 0.0713 - val_loss: nan - val_accuracy: 0.0712\n",
            "Epoch 6/10\n",
            "1244/1244 [==============================] - 38s 31ms/step - loss: nan - accuracy: 0.0713 - val_loss: nan - val_accuracy: 0.0712\n",
            "Epoch 7/10\n",
            "1244/1244 [==============================] - 37s 30ms/step - loss: nan - accuracy: 0.0713 - val_loss: nan - val_accuracy: 0.0712\n",
            "Epoch 8/10\n",
            "1244/1244 [==============================] - 38s 30ms/step - loss: nan - accuracy: 0.0713 - val_loss: nan - val_accuracy: 0.0712\n",
            "Epoch 9/10\n",
            "1244/1244 [==============================] - 38s 30ms/step - loss: nan - accuracy: 0.0713 - val_loss: nan - val_accuracy: 0.0712\n",
            "Epoch 10/10\n",
            "1244/1244 [==============================] - 39s 31ms/step - loss: nan - accuracy: 0.0713 - val_loss: nan - val_accuracy: 0.0712\n"
          ]
        },
        {
          "output_type": "execute_result",
          "data": {
            "text/plain": [
              "<keras.callbacks.History at 0x7f39984b5150>"
            ]
          },
          "metadata": {},
          "execution_count": 50
        }
      ]
    },
    {
      "cell_type": "code",
      "source": [],
      "metadata": {
        "id": "MU4TkOO7e6N2"
      },
      "execution_count": null,
      "outputs": []
    },
    {
      "cell_type": "markdown",
      "source": [
        "### Model2 with glove\n",
        "\n",
        "\n",
        "** https://github.com/ketanvaidya25/IMDb-Movie-Sentiment-Analysis/blob/main/IMDb_Movie_Sentiment_Analysis.ipynb\n",
        "\n"
      ],
      "metadata": {
        "id": "axYcJiTMHBNe"
      }
    },
    {
      "cell_type": "code",
      "source": [
        "def media_frames(input_shape):\n",
        "  X_indices = keras.Input(input_shape)\n",
        "  embeddings = embedding_layer(X_indices)\n",
        "  X = LSTM(128, return_sequences=True) (embeddings)\n",
        "  X = Dropout(0.6)(X)\n",
        "  X = LSTM(128, return_sequences=True)(X)\n",
        "  X = Dropout(0.6)(X)\n",
        "  X = LSTM(128)(X)\n",
        "  X = Dense(14, activation='sigmoid')(X)\n",
        "  model = Model(inputs=X_indices, outputs=X)\n",
        "  return model"
      ],
      "metadata": {
        "id": "JF4Vax6eGrxH"
      },
      "execution_count": null,
      "outputs": []
    },
    {
      "cell_type": "code",
      "source": [
        "model_2 = media_frames((maxLen,))\n",
        "model_2.summary()"
      ],
      "metadata": {
        "colab": {
          "base_uri": "https://localhost:8080/"
        },
        "id": "xfElQL4wHSOq",
        "outputId": "413255b4-b42b-45b5-9b70-a89053cc6ad6"
      },
      "execution_count": null,
      "outputs": [
        {
          "output_type": "stream",
          "name": "stdout",
          "text": [
            "Model: \"model_3\"\n",
            "_________________________________________________________________\n",
            " Layer (type)                Output Shape              Param #   \n",
            "=================================================================\n",
            " input_5 (InputLayer)        [(None, 150)]             0         \n",
            "                                                                 \n",
            " embedding_2 (Embedding)     (None, 150, 100)          3089000   \n",
            "                                                                 \n",
            " lstm_7 (LSTM)               (None, 150, 128)          117248    \n",
            "                                                                 \n",
            " dropout_2 (Dropout)         (None, 150, 128)          0         \n",
            "                                                                 \n",
            " lstm_8 (LSTM)               (None, 150, 128)          131584    \n",
            "                                                                 \n",
            " dropout_3 (Dropout)         (None, 150, 128)          0         \n",
            "                                                                 \n",
            " lstm_9 (LSTM)               (None, 128)               131584    \n",
            "                                                                 \n",
            " dense_3 (Dense)             (None, 1)                 129       \n",
            "                                                                 \n",
            "=================================================================\n",
            "Total params: 3,469,545\n",
            "Trainable params: 380,545\n",
            "Non-trainable params: 3,089,000\n",
            "_________________________________________________________________\n"
          ]
        }
      ]
    },
    {
      "cell_type": "code",
      "source": [
        "X_train_indices = tokenizer.texts_to_sequences(X_train)\n",
        "X_train_indices = keras.utils.pad_sequences(X_train_indices, maxlen=maxLen, padding='post')\n",
        "adam = keras.optimizers.Adam(learning_rate = 0.0001)\n",
        "model_2.compile(optimizer=adam, loss='sparse_categorical_crossentropy', metrics=['accuracy'])"
      ],
      "metadata": {
        "id": "yNb_MnvOJbZn"
      },
      "execution_count": null,
      "outputs": []
    },
    {
      "cell_type": "code",
      "source": [
        "model_2.fit(X_train_indices, y_train, batch_size=32, epochs=10)"
      ],
      "metadata": {
        "colab": {
          "base_uri": "https://localhost:8080/"
        },
        "id": "K8PFWFn2JwRp",
        "outputId": "e795c5fa-4bbf-4513-8d88-df4a64df8ec1"
      },
      "execution_count": null,
      "outputs": [
        {
          "output_type": "stream",
          "name": "stdout",
          "text": [
            "Epoch 1/10\n",
            "1244/1244 [==============================] - 32s 22ms/step - loss: nan - accuracy: 0.0713\n",
            "Epoch 2/10\n",
            "1244/1244 [==============================] - 25s 20ms/step - loss: nan - accuracy: 0.0713\n",
            "Epoch 3/10\n",
            "1244/1244 [==============================] - 26s 21ms/step - loss: nan - accuracy: 0.0713\n",
            "Epoch 4/10\n",
            "1244/1244 [==============================] - 25s 20ms/step - loss: nan - accuracy: 0.0713\n",
            "Epoch 5/10\n",
            "1244/1244 [==============================] - 24s 20ms/step - loss: nan - accuracy: 0.0713\n",
            "Epoch 6/10\n",
            "1244/1244 [==============================] - 25s 20ms/step - loss: nan - accuracy: 0.0713\n",
            "Epoch 7/10\n",
            "1244/1244 [==============================] - 25s 20ms/step - loss: nan - accuracy: 0.0713\n",
            "Epoch 8/10\n",
            "1244/1244 [==============================] - 25s 20ms/step - loss: nan - accuracy: 0.0713\n",
            "Epoch 9/10\n",
            "1244/1244 [==============================] - 25s 20ms/step - loss: nan - accuracy: 0.0713\n",
            "Epoch 10/10\n",
            "1244/1244 [==============================] - 24s 19ms/step - loss: nan - accuracy: 0.0713\n"
          ]
        },
        {
          "output_type": "execute_result",
          "data": {
            "text/plain": [
              "<keras.callbacks.History at 0x7f39983092d0>"
            ]
          },
          "metadata": {},
          "execution_count": 58
        }
      ]
    },
    {
      "cell_type": "code",
      "source": [
        "X_test_indices = tokenizer.texts_to_sequences(X_val)\n",
        "X_test_indices = keras.utils.pad_sequences(X_test_indices, maxlen=maxLen, padding='post')\n",
        "     "
      ],
      "metadata": {
        "id": "-ID6QKpjJ_iu"
      },
      "execution_count": null,
      "outputs": []
    },
    {
      "cell_type": "code",
      "source": [
        "model_2.evaluate(X_test_indices, y_val)"
      ],
      "metadata": {
        "colab": {
          "base_uri": "https://localhost:8080/"
        },
        "id": "gebBq-yMKrRe",
        "outputId": "35db841a-6ee8-4728-9122-2af7a2f62611"
      },
      "execution_count": null,
      "outputs": [
        {
          "output_type": "stream",
          "name": "stdout",
          "text": [
            "220/220 [==============================] - 3s 11ms/step - loss: nan - accuracy: 0.0712\n"
          ]
        },
        {
          "output_type": "execute_result",
          "data": {
            "text/plain": [
              "[nan, 0.07122506946325302]"
            ]
          },
          "metadata": {},
          "execution_count": 60
        }
      ]
    },
    {
      "cell_type": "code",
      "source": [],
      "metadata": {
        "id": "sgsmA_YaQaOy"
      },
      "execution_count": null,
      "outputs": []
    },
    {
      "cell_type": "markdown",
      "source": [
        "### Model3"
      ],
      "metadata": {
        "id": "XMAWy5ZJM1Jk"
      }
    },
    {
      "cell_type": "code",
      "source": [
        "import numpy as np \n",
        "import pandas as pd\n",
        "from keras.preprocessing.text import Tokenizer\n",
        "from keras.utils import pad_sequences\n",
        "from keras.models import Sequential\n",
        "from keras.layers import Dense, Embedding, LSTM, SpatialDropout1D\n",
        "from sklearn.model_selection import train_test_split\n",
        "from keras.utils.np_utils import to_categorical\n",
        "from keras.callbacks import EarlyStopping\n",
        "from keras.layers import Dropout\n",
        "import re"
      ],
      "metadata": {
        "id": "kywfmp3NM-Xg"
      },
      "execution_count": 18,
      "outputs": []
    },
    {
      "cell_type": "code",
      "source": [
        "# The maximum number of words to be used. (most frequent)\n",
        "MAX_NB_WORDS = 20000\n",
        "# Max number of words in each complaint.\n",
        "MAX_SEQUENCE_LENGTH = 128\n",
        "# This is fixed.\n",
        "EMBEDDING_DIM = 100"
      ],
      "metadata": {
        "id": "Fzx_PAqaNS8J"
      },
      "execution_count": 19,
      "outputs": []
    },
    {
      "cell_type": "code",
      "source": [
        "tokenizer = Tokenizer(num_words=MAX_NB_WORDS, filters='!\"#$%&()*+,-./:;<=>?@[\\]^_`{|}~', lower=True)\n",
        "tokenizer.fit_on_texts(df['annotations'].values)\n",
        "word_index = tokenizer.word_index\n",
        "print('Found %s unique tokens.' % len(word_index))"
      ],
      "metadata": {
        "colab": {
          "base_uri": "https://localhost:8080/"
        },
        "id": "kULgrl4DN1EE",
        "outputId": "163e8e80-af3b-45a1-ead1-a4b0a1a36077"
      },
      "execution_count": 20,
      "outputs": [
        {
          "output_type": "stream",
          "name": "stdout",
          "text": [
            "Found 34612 unique tokens.\n"
          ]
        }
      ]
    },
    {
      "cell_type": "code",
      "source": [
        "X = tokenizer.texts_to_sequences(df['annotations'].values)\n",
        "X = pad_sequences(X, maxlen=MAX_SEQUENCE_LENGTH)\n",
        "\n",
        "print('Shape of data tensor:', X.shape)\n"
      ],
      "metadata": {
        "colab": {
          "base_uri": "https://localhost:8080/"
        },
        "id": "GdFtf8FXNma8",
        "outputId": "ece92d4d-792c-4a4b-b987-1895776cd47a"
      },
      "execution_count": 21,
      "outputs": [
        {
          "output_type": "stream",
          "name": "stdout",
          "text": [
            "Shape of data tensor: (46799, 128)\n"
          ]
        }
      ]
    },
    {
      "cell_type": "code",
      "source": [
        "Y = pd.get_dummies(df['label']).values\n",
        "print('Shape of label tensor:', Y.shape)"
      ],
      "metadata": {
        "colab": {
          "base_uri": "https://localhost:8080/"
        },
        "id": "97Nlu5EgNoq2",
        "outputId": "7360729c-70e7-46e7-f3b5-d6c4bf85baad"
      },
      "execution_count": 22,
      "outputs": [
        {
          "output_type": "stream",
          "name": "stdout",
          "text": [
            "Shape of label tensor: (46799, 15)\n"
          ]
        }
      ]
    },
    {
      "cell_type": "code",
      "source": [
        "X_train, X_test, Y_train, Y_test = train_test_split(X,Y, \n",
        "                                                    test_size = 0.15, \n",
        "                                                    random_state = 42, \n",
        "                                                    stratify=df.label.values)\n",
        "print(X_train.shape,Y_train.shape)\n",
        "print(X_test.shape,Y_test.shape)"
      ],
      "metadata": {
        "colab": {
          "base_uri": "https://localhost:8080/"
        },
        "id": "F-dRO4RhOsiQ",
        "outputId": "ce0789ff-b19f-457b-deba-67982e8f095e"
      },
      "execution_count": 23,
      "outputs": [
        {
          "output_type": "stream",
          "name": "stdout",
          "text": [
            "(39779, 128) (39779, 15)\n",
            "(7020, 128) (7020, 15)\n"
          ]
        }
      ]
    },
    {
      "cell_type": "markdown",
      "source": [
        "Glove"
      ],
      "metadata": {
        "id": "iXz3bHBYVw3g"
      }
    },
    {
      "cell_type": "code",
      "source": [
        "embeddings_index = {}\n",
        "f = open(f'{dir}glove.6B/glove.6B.100d.txt')\n",
        "for line in f:\n",
        "    values = line.split()\n",
        "    word = values[0]\n",
        "    coefs = np.asarray(values[1:], dtype='float32')\n",
        "    embeddings_index[word] = coefs\n",
        "f.close()\n",
        "\n",
        "print('Found %s word vectors.' % len(embeddings_index))"
      ],
      "metadata": {
        "colab": {
          "base_uri": "https://localhost:8080/"
        },
        "id": "Osg1HpuDUL15",
        "outputId": "5e04466f-d613-4a9f-b01e-57fdef5dbcc4"
      },
      "execution_count": 24,
      "outputs": [
        {
          "output_type": "stream",
          "name": "stdout",
          "text": [
            "Found 400000 word vectors.\n"
          ]
        }
      ]
    },
    {
      "cell_type": "code",
      "source": [
        "embedding_matrix = np.zeros((len(word_index) + 1, EMBEDDING_DIM))\n",
        "for word, i in word_index.items():\n",
        "    embedding_vector = embeddings_index.get(word)\n",
        "    if embedding_vector is not None:\n",
        "        # words not found in embedding index will be all-zeros.\n",
        "        embedding_matrix[i] = embedding_vector"
      ],
      "metadata": {
        "id": "4AZM3r_sUhWl"
      },
      "execution_count": 25,
      "outputs": []
    },
    {
      "cell_type": "markdown",
      "source": [
        "Model"
      ],
      "metadata": {
        "id": "MC3A-h3qVyX9"
      }
    },
    {
      "cell_type": "code",
      "source": [
        "model_lstm = Sequential()\n",
        "model_lstm.add(Embedding(len(word_index) + 1, \n",
        "                    EMBEDDING_DIM, \n",
        "                    weights=[embedding_matrix], \n",
        "                    input_length=X.shape[1], \n",
        "                    trainable=False))\n",
        "model_lstm.add(SpatialDropout1D(0.2))\n",
        "model_lstm.add(LSTM(120, dropout=0.2, recurrent_dropout=0.2))\n",
        "model_lstm.add(Dense(15, activation='softmax'))\n",
        "model_lstm.compile(loss='categorical_crossentropy', optimizer='adam', metrics=['accuracy'])\n",
        "print(model_lstm.summary())"
      ],
      "metadata": {
        "colab": {
          "base_uri": "https://localhost:8080/"
        },
        "id": "D23ZOpgpM21J",
        "outputId": "e87e5592-329c-437f-84f5-bd4ec4610c1d"
      },
      "execution_count": 26,
      "outputs": [
        {
          "output_type": "stream",
          "name": "stdout",
          "text": [
            "Model: \"sequential_2\"\n",
            "_________________________________________________________________\n",
            " Layer (type)                Output Shape              Param #   \n",
            "=================================================================\n",
            " embedding_2 (Embedding)     (None, 128, 100)          3461300   \n",
            "                                                                 \n",
            " spatial_dropout1d_2 (Spatia  (None, 128, 100)         0         \n",
            " lDropout1D)                                                     \n",
            "                                                                 \n",
            " lstm_2 (LSTM)               (None, 120)               106080    \n",
            "                                                                 \n",
            " dense_2 (Dense)             (None, 15)                1815      \n",
            "                                                                 \n",
            "=================================================================\n",
            "Total params: 3,569,195\n",
            "Trainable params: 107,895\n",
            "Non-trainable params: 3,461,300\n",
            "_________________________________________________________________\n",
            "None\n"
          ]
        }
      ]
    },
    {
      "cell_type": "markdown",
      "source": [
        "Model Training"
      ],
      "metadata": {
        "id": "eKyccLGAVzXz"
      }
    },
    {
      "cell_type": "code",
      "source": [
        "epochs = 10\n",
        "batch_size = 32\n",
        "\n",
        "frames = model_lstm.fit(X_train, Y_train, epochs=epochs, batch_size=batch_size,validation_split=0.1,callbacks=[EarlyStopping(monitor='val_loss', patience=3, min_delta=0.0001)])\n"
      ],
      "metadata": {
        "colab": {
          "base_uri": "https://localhost:8080/"
        },
        "id": "S_2Iq19COQYu",
        "outputId": "91008f33-7241-4d7f-e8e2-e8853b671ede"
      },
      "execution_count": 27,
      "outputs": [
        {
          "output_type": "stream",
          "name": "stdout",
          "text": [
            "Epoch 1/10\n",
            "1119/1119 [==============================] - 411s 364ms/step - loss: 1.5165 - accuracy: 0.5289 - val_loss: 1.1972 - val_accuracy: 0.6317\n",
            "Epoch 2/10\n",
            "1119/1119 [==============================] - 381s 340ms/step - loss: 1.2135 - accuracy: 0.6161 - val_loss: 1.0761 - val_accuracy: 0.6621\n",
            "Epoch 3/10\n",
            "1119/1119 [==============================] - 374s 334ms/step - loss: 1.1255 - accuracy: 0.6450 - val_loss: 1.0526 - val_accuracy: 0.6657\n",
            "Epoch 4/10\n",
            "1119/1119 [==============================] - 373s 333ms/step - loss: 1.0638 - accuracy: 0.6620 - val_loss: 1.0008 - val_accuracy: 0.6873\n",
            "Epoch 5/10\n",
            "1119/1119 [==============================] - 375s 335ms/step - loss: 1.0242 - accuracy: 0.6728 - val_loss: 0.9731 - val_accuracy: 0.6933\n",
            "Epoch 6/10\n",
            "1119/1119 [==============================] - 371s 332ms/step - loss: 0.9901 - accuracy: 0.6817 - val_loss: 0.9628 - val_accuracy: 0.6926\n",
            "Epoch 7/10\n",
            "1119/1119 [==============================] - 373s 334ms/step - loss: 0.9581 - accuracy: 0.6917 - val_loss: 0.9515 - val_accuracy: 0.7006\n",
            "Epoch 8/10\n",
            "1119/1119 [==============================] - 371s 332ms/step - loss: 0.9324 - accuracy: 0.7019 - val_loss: 0.9545 - val_accuracy: 0.7001\n",
            "Epoch 9/10\n",
            "1119/1119 [==============================] - 373s 334ms/step - loss: 0.9081 - accuracy: 0.7049 - val_loss: 0.9524 - val_accuracy: 0.6976\n",
            "Epoch 10/10\n",
            "1119/1119 [==============================] - 376s 336ms/step - loss: 0.8932 - accuracy: 0.7116 - val_loss: 0.9409 - val_accuracy: 0.7069\n"
          ]
        }
      ]
    },
    {
      "cell_type": "code",
      "source": [
        "model=load_model(f\"{dir}LSTM-keras-model\")\n",
        "accr = model.evaluate(X_test,Y_test)\n",
        "print('Test set\\n  Loss: {:0.3f}\\n  Accuracy: {:0.3f}'.format(accr[0],accr[1]))"
      ],
      "metadata": {
        "colab": {
          "base_uri": "https://localhost:8080/"
        },
        "id": "Z-Pr9hL7Putf",
        "outputId": "0b83a67a-e81e-4065-c97d-03b238edd591"
      },
      "execution_count": 254,
      "outputs": [
        {
          "output_type": "stream",
          "name": "stdout",
          "text": [
            "220/220 [==============================] - 15s 65ms/step - loss: 0.9413 - accuracy: 0.7078\n",
            "Test set\n",
            "  Loss: 0.941\n",
            "  Accuracy: 0.708\n"
          ]
        }
      ]
    },
    {
      "cell_type": "code",
      "source": [
        "# model_lstm.save(f'{dir}LSTM-keras-model')"
      ],
      "metadata": {
        "colab": {
          "base_uri": "https://localhost:8080/"
        },
        "id": "Vpdsw6xtwj1M",
        "outputId": "668c33f3-d166-405b-ea54-01abcc5a0141"
      },
      "execution_count": 94,
      "outputs": [
        {
          "output_type": "stream",
          "name": "stderr",
          "text": [
            "WARNING:absl:Found untraced functions such as _update_step_xla while saving (showing 1 of 1). These functions will not be directly callable after loading.\n"
          ]
        }
      ]
    },
    {
      "cell_type": "markdown",
      "source": [
        "##### Prediction"
      ],
      "metadata": {
        "id": "QBVpUt-MIuX3"
      }
    },
    {
      "cell_type": "code",
      "source": [
        "print(df.label.value_counts())\n",
        "\n",
        "desc_count_frames = ['12', '4', '6', '5', '0', '10', '11', '8', '9', '2', '14', '3', '7', '13', '1']\n",
        "zero_index_label = ['0','1','2','3','4','5','6','7','8','9','10','11','12','13','14']\n",
        "code = ['1','2','3', '4','5','6', '7', '8', '9', '10', '11', '12', '13', '14','15']"
      ],
      "metadata": {
        "id": "i_zDK3L1DC4F"
      },
      "execution_count": null,
      "outputs": []
    },
    {
      "cell_type": "code",
      "source": [
        "from keras.models import load_model\n",
        "tokenizer = Tokenizer(num_words=MAX_NB_WORDS, filters='!\"#$%&()*+,-./:;<=>?@[\\]^_`{|}~', lower=True)\n",
        "tokenizer.fit_on_texts(df['annotations'].values)\n",
        "\n",
        "def lstm_predict(text, labels=code, model=load_model(f\"{dir}LSTM-keras-model\")):\n",
        "    seq = tokenizer.texts_to_sequences(text)\n",
        "    # print(text, '\\n seq',seq)\n",
        "    padded = pad_sequences(seq, maxlen=128)\n",
        "    pred = model.predict(padded)\n",
        "    # print(pred, labels[np.argmax(pred)]\n",
        "    try:\n",
        "        return labels[np.argmax(pred)]\n",
        "    except:\n",
        "        return 'error'\n"
      ],
      "metadata": {
        "id": "FC6UWP19fnAY"
      },
      "execution_count": 255,
      "outputs": []
    },
    {
      "cell_type": "code",
      "source": [
        "text = ['Immigrants without HOPE need help entering college'] #9, og 10\n",
        "lstm_predict(text)"
      ],
      "metadata": {
        "colab": {
          "base_uri": "https://localhost:8080/",
          "height": 54
        },
        "id": "DhMAAYWoExlR",
        "outputId": "97a0e3dc-d9dc-4380-9a0f-d6c77ceac372"
      },
      "execution_count": 244,
      "outputs": [
        {
          "output_type": "stream",
          "name": "stdout",
          "text": [
            "1/1 [==============================] - 0s 328ms/step\n"
          ]
        },
        {
          "output_type": "execute_result",
          "data": {
            "text/plain": [
              "'10'"
            ],
            "application/vnd.google.colaboratory.intrinsic+json": {
              "type": "string"
            }
          },
          "metadata": {},
          "execution_count": 244
        }
      ]
    },
    {
      "cell_type": "code",
      "source": [
        "accuracy_c=0\n",
        "rang = 1000\n",
        "for i,row in df.iloc[:rang].iterrows():\n",
        "    y = row['label']\n",
        "    pred = lstm_predict([row['annotations']])\n",
        "    print(row['annotations'], '\\n truth:',y, \"pred:\", pred)\n",
        "    if (y==pred ):\n",
        "        accuracy_c += 1\n",
        "\n",
        "print(accuracy_c/rang)"
      ],
      "metadata": {
        "colab": {
          "base_uri": "https://localhost:8080/"
        },
        "id": "MyFWP99F__V6",
        "outputId": "227c5572-b9ec-4f74-f146-967ee78b16fa"
      },
      "execution_count": null,
      "outputs": [
        {
          "output_type": "stream",
          "name": "stdout",
          "text": [
            "1/1 [==============================] - 1s 940ms/step\n",
            "Immigrants without HOPE need help entering college \n",
            " truth: 9 pred: 10\n",
            "1/1 [==============================] - 0s 151ms/step\n",
            "But in the eyes of the law, he is an illegal immigrant. \n",
            " truth: 4 pred: 6\n",
            "1/1 [==============================] - 0s 72ms/step\n",
            "Reaction to Tancredo, Lamm as predicted \n",
            " truth: 14 pred: 13\n",
            "1/1 [==============================] - 0s 74ms/step\n",
            "That, said the congressman, is what always happens  when the opposition to something can't fashion a coherent and  logical argument. \n",
            " truth: 12 pred: 13\n",
            "1/1 [==============================] - 0s 119ms/step\n",
            "$50,000 per entry \n",
            " truth: 0 pred: 1\n",
            "1/1 [==============================] - 0s 68ms/step\n",
            "If they are illegal and they are working, then the companies that employ them are breaking the law and should be fined to the fullest. \n",
            " truth: 6 pred: 7\n",
            "1/1 [==============================] - 0s 93ms/step\n",
            "HURTADO WINS INS APPEAL IMMIGRANT FROM EL SALVADOR HOPES 19-YEAR FIGHT TO STAY IN U.S. IS ENDING \n",
            " truth: 4 pred: 5\n",
            "1/1 [==============================] - 0s 41ms/step\n",
            "Increase in Latino residents brings anti-immigration backlash \n",
            " truth: 10 pred: 12\n",
            "1/1 [==============================] - 0s 57ms/step\n",
            "Mexico's Open Southern Border Lures Migrants Headed to U.S. \n",
            " truth: 7 pred: 8\n",
            "1/1 [==============================] - 0s 54ms/step\n",
            "Government officials report that hundreds of immigrants -- who come from as far away as Ecuador, Somalia and China -- are assaulted and raped by bandits, robbed by corrupt police officers and immigration officials, or abandoned by high-priced immigrant smugglers within the first legs of their journey. And according to government statistics, a soaring number of them are dying. \n",
            " truth: 8 pred: 7\n",
            "1/1 [==============================] - 0s 48ms/step\n",
            "The number who died along the border last year rose to 136 from 29 the previous year, according to officials from Mexico's National Migration Institute. Close to 50 deaths have been reported so far this year. \n",
            " truth: 8 pred: 9\n",
            "1/1 [==============================] - 0s 51ms/step\n",
            "REPORT CITES DANGER OF BORDER CRACKDOWN \n",
            " truth: 7 pred: 8\n",
            "1/1 [==============================] - 0s 42ms/step\n",
            "The clampdown, which began in October 1994 has been extended to cities in Arizona and Texas that are hot spots for illegal crossings. \n",
            " truth: 7 pred: 7\n",
            "1/1 [==============================] - 0s 58ms/step\n",
            "Cheap labor is actually costly for U.S. \n",
            " truth: 0 pred: 1\n",
            "1/1 [==============================] - 0s 41ms/step\n",
            "National Briefing Southwest: Texas: Health Care Inquiry \n",
            " truth: 8 pred: 9\n",
            "1/1 [==============================] - 0s 45ms/step\n",
            "AMNESTY PLAN; Try the third way \n",
            " truth: 4 pred: 5\n",
            "1/1 [==============================] - 0s 45ms/step\n",
            "We do not agree with critics who say that any amnesty is tantamount to rewarding lawbreakers. \n",
            " truth: 4 pred: 5\n",
            "1/1 [==============================] - 0s 49ms/step\n",
            " But this approach to the problem would harm this country's promising efforts to improve trade ties with Mexico. \n",
            " truth: 13 pred: 14\n",
            "1/1 [==============================] - 0s 44ms/step\n",
            "Perhaps there is a third way, one that supports the Bush plan while addressing the fairness issue \n",
            " truth: 3 pred: 13\n",
            "1/1 [==============================] - 0s 46ms/step\n",
            "Desperate for help and consumed by fear, San Jose mother Maria Isabel Eugenio thought she had no place to turn in caring for her 40-year-old mentally disabled daughter, whose immigration status remains in limbo. \n",
            " truth: 9 pred: 10\n",
            "1/1 [==============================] - 0s 48ms/step\n",
            "\n",
            "Californians who suffer from developmental disabilities like Eugenio's daughter typically qualify for Medi-Cal, the state's insurance program for low-income residents, regardless of immigration status, Rosenstein said. With that insurance, Eugenio would have been able to seek out healthcare services from a variety of county programs that offer everything from home visits to off-site day care \n",
            " truth: 8 pred: 9\n",
            "1/1 [==============================] - 0s 47ms/step\n",
            "\"Clinics and immigration attorneys are aware of the laws,\" he said, \"but many immigrants are not. It's a very major concern.\" \n",
            " truth: 4 pred: 5\n",
            "1/1 [==============================] - 0s 54ms/step\n",
            "No Amnesty For Illegal Immigrants \n",
            " truth: 4 pred: 5\n",
            "1/1 [==============================] - 0s 51ms/step\n",
            "This process can be stressful, tiresome, even morale-deadening \n",
            " truth: 9 pred: 10\n",
            "1/1 [==============================] - 0s 52ms/step\n",
            "Amnesty debate inches forward \n",
            " truth: 4 pred: 13\n",
            "1/1 [==============================] - 0s 49ms/step\n",
            "IMMIGRANT 'PIONEER' DIES UNEXPECTEDLY; HMONG BUSINESSWOMAN CALLED 'MOM' BY MANY \n",
            " truth: 10 pred: 10\n",
            "1/1 [==============================] - 0s 60ms/step\n",
            "\"She's been a businesswoman all her life,\" said Her. \"Even in Laos, she started going into business (as a shopkeeper during the Vietnam War). She was from Long Cheng, where she had a store similar to what she's doing right now - selling food, drink, clothing.\" \n",
            " truth: 0 pred: 10\n",
            "1/1 [==============================] - 0s 51ms/step\n",
            "Yang was among the first wave of refugees to leave Laos after the communist regime took over in 1975. After spending four years in Thailand's Ban Vinai refugee camp, Yang settled in Minnesota. \n",
            " truth: 10 pred: 7\n",
            "1/1 [==============================] - 0s 54ms/step\n",
            "THE REGION \n",
            " truth: 14 pred: 15\n",
            "1/1 [==============================] - 0s 63ms/step\n",
            "Bush's amnesty plan draws bipartisan fire; Permanent legality for many of the 3M illegal Mexican immigrants is an \"old, failed program\" \n",
            " truth: 12 pred: 6\n",
            "1/1 [==============================] - 0s 59ms/step\n",
            " permanent legal status \n",
            " truth: 4 pred: 5\n",
            "1/1 [==============================] - 0s 46ms/step\n",
            "\"As our classrooms fill to the brim, \n",
            " truth: 1 pred: 2\n",
            "1/1 [==============================] - 0s 40ms/step\n",
            "they are becoming breeding grounds for violence \n",
            " truth: 8 pred: 7\n",
            "1/1 [==============================] - 0s 40ms/step\n",
            "\"A less stringent immigration policy will only make this problem worse.\" \n",
            " truth: 5 pred: 6\n",
            "1/1 [==============================] - 0s 50ms/step\n",
            "The plan would give guest-worker status to the immigrants and eventually could lead to permanent legal status to some of the 3 million Mexicans now in the United States unlawfully. \n",
            " truth: 4 pred: 6\n",
            "1/1 [==============================] - 0s 54ms/step\n",
            "Sister shows the way; Vietnamese nun eases transition for immigrants in Atlanta area, giving a voice to those least likely to be heard; International Atlanta: A look at our community and its impact on metro Atlanta \n",
            " truth: 9 pred: 11\n",
            "1/1 [==============================] - 0s 43ms/step\n",
            "IMMIGRANT IS AMNESTY SUCCESS STORY \n",
            " truth: 4 pred: 5\n",
            "1/1 [==============================] - 0s 40ms/step\n",
            " amnesty for illegal immigrants \n",
            " truth: 4 pred: 5\n",
            "1/1 [==============================] - 0s 39ms/step\n",
            "31 HAITIANS DETAINED AFTER WADING ASHORE \n",
            " truth: 6 pred: 7\n",
            "1/1 [==============================] - 0s 50ms/step\n",
            "A total of 31 Haitian immigrants were detained by officers early Wednesday morning after coming ashore in Riviera Beach and Palm Beach. \n",
            " truth: 6 pred: 7\n",
            "1/1 [==============================] - 0s 42ms/step\n",
            "Police said the two groups, which included 30 men and one woman, were most likely smuggled from Haiti aboard two speedboats that dropped the immigrants close to shore. \n",
            " truth: 6 pred: 7\n",
            "1/1 [==============================] - 0s 44ms/step\n",
            "Ashcroft orders crackdown on human trafficking \n",
            " truth: 6 pred: 7\n",
            "1/1 [==============================] - 0s 42ms/step\n",
            "Immigrant loses battle with cancer \n",
            " truth: 8 pred: 9\n",
            "1/1 [==============================] - 0s 54ms/step\n",
            "Two weeks ago, the family learned it would get some help paying bills. More than $ 20,000 was raised to help the Sarics. \n",
            " truth: 0 pred: 1\n",
            "1/1 [==============================] - 0s 49ms/step\n",
            "DUTY, HONOR, BUT WHERE'S THE COUNTRY? \n",
            " truth: 2 pred: 11\n",
            "1/1 [==============================] - 0s 43ms/step\n",
            "I speak of the nation's veterans, particularly those who live in Florida. They served in World War II, Korea and Vietnam, and all they want is for America to help them with problems they encountered as a result of that service. But they are stuck in a state where, as editorials and columns in this section have shown, they get the justified sense that the country has forgotten them. \n",
            " truth: 2 pred: 11\n",
            "1/1 [==============================] - 0s 44ms/step\n",
            "\n",
            "'Roses': Labor of Love \n",
            " truth: 0 pred: 15\n",
            "1/1 [==============================] - 0s 42ms/step\n",
            "- and find employment scrubbing toilets for the Man. \n",
            " truth: 0 pred: 10\n",
            "1/1 [==============================] - 0s 43ms/step\n",
            "Mexican study shatters stereotypes about migrants \n",
            " truth: 10 pred: 11\n",
            "1/1 [==============================] - 0s 48ms/step\n",
            "IT TAKES A CITY (AND A LOT OF HARD WORK) TO ATTRACT IMMIGRANTS \n",
            " truth: 1 pred: 11\n",
            "1/1 [==============================] - 0s 46ms/step\n",
            "REFUGEES FIND HOPE IN NEW CITY, NEW LIFE (2 OF 2 ARTICLES) \n",
            " truth: 9 pred: 10\n",
            "1/1 [==============================] - 0s 50ms/step\n",
            "There are more things that many foreigners are scared of or complain about, but I think it's because these things are strange for us, and we need to get used to them. \n",
            " truth: 10 pred: 10\n",
            "1/1 [==============================] - 0s 47ms/step\n",
            "Bush orders student visa crackdown; Task force to track, prevent terrorists from getting in U.S. \n",
            " truth: 7 pred: 13\n",
            "1/1 [==============================] - 0s 48ms/step\n",
            "TIME, IDS OF ESSENCE TO LOCATE ALL IMMIGRANTS \n",
            " truth: 1 pred: 11\n",
            "1/1 [==============================] - 0s 45ms/step\n",
            "IMMIGRATION DATA ON LINE \n",
            " truth: 14 pred: 15\n",
            "1/1 [==============================] - 0s 42ms/step\n",
            "Up to half the country's 4 million or so illegal immigrants live in California. \n",
            " truth: 10 pred: 11\n",
            "1/1 [==============================] - 0s 41ms/step\n",
            "Pakistani man arrested by FBI dies in jail cell \n",
            " truth: 8 pred: 7\n",
            "1/1 [==============================] - 0s 41ms/step\n",
            "U.S. INDICTMENT ACCUSES 5 PEOPLE OF VIOLATING IMMIGRATION LAWS \n",
            " truth: 6 pred: 7\n",
            "1/1 [==============================] - 0s 41ms/step\n",
            "The indictments were returned Wednesday and involve three unrelated cases, said Todd P. Graves, U.S. attorney for the Western District. \n",
            " truth: 4 pred: 5\n",
            "1/1 [==============================] - 0s 46ms/step\n",
            "If convicted, he faces a maximum of 20 years in prison and up to $250,000 in fines. \n",
            " truth: 6 pred: 7\n",
            "1/1 [==============================] - 0s 41ms/step\n",
            "In the second case, Victor Torres-Campos, 46, of Mexico was charged with possession with intent to transfer or use five or more identification documents, as well as false use of a Social Security number. \n",
            " truth: 6 pred: 7\n",
            "1/1 [==============================] - 0s 48ms/step\n",
            "In the third case, Maurice Saustegui, 38, of Springfield, along with Marcelino Fernandez-Martinez, 40, and Luz Victoria Rosas, 36, both of Mexico, were charged with conspiracy to transfer false resident alien cards. They also were charged with two counts each of transferring false resident alien cards. \n",
            " truth: 6 pred: 7\n",
            "1/1 [==============================] - 0s 43ms/step\n",
            "BOOK EXPLAINS WHY MEXICAN MIGRANTS KEEP CROSSING THE BORDER \n",
            " truth: 9 pred: 8\n",
            "1/1 [==============================] - 0s 44ms/step\n",
            "Citing the \"menace of terrorism\" after the Sept. 11 attacks, South Carolina Attorney General Charlie Condon last week offered to enlist South Carolina law enforcement officers to assist the INS investigative branch. \n",
            " truth: 7 pred: 8\n",
            "1/1 [==============================] - 0s 42ms/step\n",
            "Safety checks at Mexican border take toll on 2 cities' economies \n",
            " truth: 0 pred: 9\n",
            "1/1 [==============================] - 0s 44ms/step\n",
            "Mexican official faces sentencing for role in smuggling of aliens \n",
            " truth: 6 pred: 7\n",
            "1/1 [==============================] - 0s 40ms/step\n",
            "The ringleader of the operation, George Tajirian, a  57-year-old Iraqi-born Mexican citizen, who prosecutors say  pocketed $ 1.25 million from his smuggling ring in 1996 and 1997,  was sentenced in 1998. Prosecutors say Tajirian coordinated the  transportation of more than 1,000 Middle Eastern aliens into the  United States beginning in 1980. \n",
            " truth: 6 pred: 7\n",
            "1/1 [==============================] - 0s 43ms/step\n",
            "AIRPORTS FACE IDENTITY CRISIS \n",
            " truth: 10 pred: 8\n",
            "1/1 [==============================] - 0s 54ms/step\n",
            "\n",
            "PRIMARY \n",
            " truth: 4 pred: 5\n",
            "1/1 [==============================] - 0s 42ms/step\n",
            "\n",
            "CRIME & JUSTICE \n",
            " truth: 6 pred: 5\n",
            "1/1 [==============================] - 0s 57ms/step\n",
            "Security with liberty; Efforts to assist law enforcement in ratcheting up the war on terrorism need not infringe on Americans' freedoms. \n",
            " truth: 7 pred: 8\n",
            "1/1 [==============================] - 0s 51ms/step\n",
            "The other 13 hijackers entered the United States legally but three had allowed their visas to expire, Ziglar said. \n",
            " truth: 7 pred: 5\n",
            "1/1 [==============================] - 0s 41ms/step\n",
            "CASINOS A GLITZY TRAP FOR MANY IMMIGRANTS FROM SOUTHEAST ASIA \n",
            " truth: 10 pred: 11\n",
            "1/1 [==============================] - 0s 48ms/step\n",
            "\"Quite a few family take the paycheck, go straight to the casino, and come home with nothing,\" \n",
            " truth: 0 pred: 1\n",
            "1/1 [==============================] - 0s 44ms/step\n",
            "\n",
            "\"They look to get out from some depression symptom or PTSD (post-traumatic stress disorder) \n",
            " truth: 8 pred: 9\n",
            "1/1 [==============================] - 0s 51ms/step\n",
            "A NATION CHALLENGED: CHARITY; Second Loss Compounds Widow's Grief \n",
            " truth: 9 pred: 10\n",
            "1/1 [==============================] - 0s 49ms/step\n",
            "ELENA THE ENGINEER WILL MAKE A GREATER CONTRIBUTION TO THE ECONOMY AND THE TAX BASE THAN ELENA THE SALES CLERK A COLLEGE GRANT IS ACTUALLY AN INVESTMENT \n",
            " truth: 0 pred: 1\n",
            "1/1 [==============================] - 0s 41ms/step\n",
            " Naturalized citizens no longer would have the same rights as native-born citizens. \n",
            " truth: 3 pred: 4\n",
            "1/1 [==============================] - 0s 42ms/step\n",
            "A NATION CHALLENGED: NATIONAL MEASURES; Entire Nation On High Alert As Security Is Stepped Up\n",
            " \n",
            " truth: 7 pred: 8\n",
            "1/1 [==============================] - 0s 59ms/step\n",
            "\n",
            "Federal, state and local law enforcement officials, fearing reprisals for the air strikes in Afghanistan, immediately tightened security and increased patrols today at airports, train stations, sports stadiums and public buildings across the country. \n",
            " truth: 7 pred: 8\n",
            "1/1 [==============================] - 0s 50ms/step\n",
            "Migrant workers sue citrus company for wages \n",
            " truth: 0 pred: 1\n",
            "1/1 [==============================] - 0s 42ms/step\n",
            "\n",
            "The suit, filed in federal court on Friday, alleges 112 Mexican workers were underpaid while they picked fruit for Sorrells Brothers Packing during the  past two years. \n",
            " truth: 4 pred: 5\n",
            "1/1 [==============================] - 0s 44ms/step\n",
            "\n",
            "The workers were guaranteed wages of $ 7.66 an hour, but received $ 5 an hour or less, based on production, attorney Gregory Schell said. \n",
            " truth: 0 pred: 1\n",
            "1/1 [==============================] - 0s 41ms/step\n",
            "No trial date has been set. Calls placed to Sorrells Brothers Packing on Saturday seeking comment were not immediately returned.\n",
            " \n",
            " truth: 4 pred: 5\n",
            "1/1 [==============================] - 0s 45ms/step\n",
            "INS adjusts to role in terrorism fight \n",
            " truth: 7 pred: 8\n",
            "1/1 [==============================] - 0s 42ms/step\n",
            "The real reason for their detention, of course, was law enforcement's dragnet for Arabs and Muslims cast after the Sept. 11 terrorist attacks. \n",
            " truth: 7 pred: 7\n",
            "1/1 [==============================] - 0s 51ms/step\n",
            "Three weeks after the worst terrorist attack ever on U.S. soil, the INS - one of the most maligned agencies in the federal government - has been garnering generally good reviews for its procedures in the aftermath of the crisis. \n",
            " truth: 7 pred: 8\n",
            "1/1 [==============================] - 0s 54ms/step\n",
            "IMMIGRANTS POUR INTO GEORGIA, HEARTLAND STATES, STUDY FINDS \n",
            " truth: 10 pred: 11\n",
            "1/1 [==============================] - 0s 51ms/step\n",
            "A new county-by-county report of population shows a historic influx of immigrants into the nation's heartland, with Georgia posting the greatest increases. \n",
            " truth: 10 pred: 11\n",
            "1/1 [==============================] - 0s 56ms/step\n",
            "Metro Briefing New York: Bronx: 2 Arrested In Immigrant Fraud \n",
            " truth: 6 pred: 7\n",
            "1/1 [==============================] - 0s 72ms/step\n",
            "Two men, one a minister, have been charged with stealing more than $260,000 from illegal immigrants by telling the immigrants that they could get them green cards, said Robert T. Johnson, the Bronx district attorney, left. \n",
            " truth: 6 pred: 7\n",
            "1/1 [==============================] - 0s 70ms/step\n",
            "The men, the Rev. Errol O'Connor, 48, of the Bronx, and Emanuel Felder, 33, of Uniondale, N.Y., were arrested on Tuesday and face grand larceny and other charges. Prosecutors say that Mr. O'Connor, of the Pentecostal Deliverance Ministries in the Bronx, falsely claimed in radio commercials that he could obtain resident alien status for immigrants for a fee, which averaged about $4,000.   Richard Lezin Jones (NYT) \n",
            " truth: 6 pred: 7\n",
            "1/1 [==============================] - 0s 71ms/step\n",
            "RADIO REV, PAL CHARGED IN IMMIGRANT SCHEME \n",
            " truth: 6 pred: 7\n",
            "1/1 [==============================] - 0s 72ms/step\n",
            "A popular radio evangelist and an associate were arrested on charges they bilked dozens of immigrants in a massive green card scam exposed by the Daily News, authorities said yesterday. \n",
            " truth: 6 pred: 7\n",
            "1/1 [==============================] - 0s 69ms/step\n",
            "Also arrested was Emanuel Felder, 33, of Argyle Ave., Uniondale, L.I., who allegedly posed as an Immigration and Naturalization Service agent in the scam. \n",
            " truth: 6 pred: 7\n",
            "1/1 [==============================] - 0s 68ms/step\n",
            "The two were arrested and charged with numerous counts of grand larceny, scheming to defraud and criminal possession of stolen property. Felder also was charged with criminal impersonation. They face a maximum of seven years behind bars for each count. \n",
            " truth: 6 pred: 7\n",
            "1/1 [==============================] - 0s 81ms/step\n",
            "The two men bilked victims of an average of $4,000 each, according to Bronx prosecutors. One man allegedly paid $18,000 hoping to get a green card for himself, his wife and two children; another coughed up $10,000. \n",
            " truth: 6 pred: 7\n",
            "1/1 [==============================] - 0s 77ms/step\n",
            "Looking just at border control, I'd like to point out four areas of reform: \n",
            " truth: 5 pred: 8\n",
            "1/1 [==============================] - 0s 75ms/step\n",
            "More Than 350 Held in Probe, Ashcroft Says \n",
            " truth: 6 pred: 13\n",
            "1/1 [==============================] - 0s 76ms/step\n",
            "In revealing that law enforcement officers have taken into custody many more people than they had previously acknowledged, Ashcroft said that 98 are being held by the Immigration and Naturalization Service on alleged immigration violations, and many of the remaining 254 have been charged with traffic offenses, identification fraud or other minor crimes. \n",
            " truth: 6 pred: 7\n",
            "1/1 [==============================] - 0s 81ms/step\n",
            "Beth Wilkinson, a former assistant U.S. attorney who prosecuted the Oklahoma City bombing case, called the FBI's tactics \"a very aggressive posture to use, although not one that's illegal, assuming they're following all the strictures of the law and the provisions of the warrants. \n",
            " truth: 7 pred: 5\n",
            "1/1 [==============================] - 0s 90ms/step\n",
            "\"It's an extraordinary number of people [to detain], but this is an extraordinary crime and investigation,\" she said. \n",
            " truth: 6 pred: 7\n",
            "1/1 [==============================] - 0s 70ms/step\n",
            "War on Terrorism Stirs Memory of Internment \n",
            " truth: 10 pred: 8\n",
            "1/1 [==============================] - 0s 65ms/step\n",
            "But critics say immigrants in particular face new dangers from the proposals that they say parallel the treatment of Japanese in this country during the 1940's. \n",
            " truth: 3 pred: 6\n",
            "1/1 [==============================] - 0s 71ms/step\n",
            "Mexico and U.S. to Patrol Border Trouble Spots \n",
            " truth: 7 pred: 8\n",
            "1/1 [==============================] - 0s 83ms/step\n",
            "IMMIGRANTS DECLINE TO CHANGE APPEARANCE, DESPITE HARASSMENT \n",
            " truth: 10 pred: 11\n",
            "1/1 [==============================] - 0s 65ms/step\n",
            "Layla El-Wafi decided to keep wearing the headscarf used by Muslim women despite the \"dirty remarks and dirty looks\" from strangers. \n",
            " truth: 10 pred: 11\n",
            "1/1 [==============================] - 0s 67ms/step\n",
            "\"I don't want to feel that I can't have the kind of freedom of expression we guarantee to everyone,\" said El-Wafi, whose family begged her to modify her appearance. \n",
            " truth: 3 pred: 4\n",
            "1/1 [==============================] - 0s 70ms/step\n",
            "LOCAL GROUPS AIMING AT WELFARE-REFORM BILLS IMMIGRANT ADVOCATES URGE END TO SCAPEGOATING \n",
            " truth: 11 pred: 12\n",
            "1/1 [==============================] - 0s 65ms/step\n",
            "\n",
            "La Rumorosa Journal; To Risk Death in the Desert: An Inalienable Right?\n",
            " \n",
            " truth: 8 pred: 9\n",
            "1/1 [==============================] - 0s 79ms/step\n",
            "In This Section \n",
            " truth: 14 pred: 15\n",
            "1/1 [==============================] - 0s 69ms/step\n",
            "Legal experts, noting that when the nation's security was threatened in the past the courts had effectively ceded vast powers to the government to limit freedoms, said that new measures to fight terrorism might not receive a rigorous court review. \n",
            " truth: 4 pred: 5\n",
            "1/1 [==============================] - 0s 64ms/step\n",
            "\n",
            "PRIMARY \n",
            " truth: 7 pred: 5\n",
            "1/1 [==============================] - 0s 70ms/step\n",
            "More arrests coming, U.S. says \n",
            " truth: 6 pred: 7\n",
            "1/1 [==============================] - 0s 73ms/step\n",
            "'FRIENDLY' BORDER UNDER NEW SCRUTINY VEHICLES CROSSING BETWEEN U.S. AND CANADA FACE UNFAMILIAR SEARCHES AND LONG LINES \n",
            " truth: 7 pred: 8\n",
            "1/1 [==============================] - 0s 70ms/step\n",
            "LETTING ILLEGALS STAY WON'T AID ECONOMY \n",
            " truth: 0 pred: 1\n",
            "1/1 [==============================] - 0s 73ms/step\n",
            "President Bush \n",
            " truth: 12 pred: 13\n",
            "1/1 [==============================] - 0s 53ms/step\n",
            "legalize these Mexicans \n",
            " truth: 4 pred: 6\n",
            "1/1 [==============================] - 0s 59ms/step\n",
            "SENATE PASSES IMMIGRATION BILL \n",
            " truth: 12 pred: 13\n",
            "1/1 [==============================] - 0s 49ms/step\n",
            "In the House, Democratic leader Richard Gephardt of Missouri said he agreed with Fox's request - made to Bush on Wednesday and to a joint session of Congress yesterday - for quick action on legalizing millions of undocumented workers and said he thought legislation was possible by the end of the year. \n",
            " truth: 12 pred: 13\n",
            "1/1 [==============================] - 0s 44ms/step\n",
            "Tancredo's enforcement push grabs TV spotlight \n",
            " truth: 12 pred: 7\n",
            "1/1 [==============================] - 0s 43ms/step\n",
            "A Jamaican Way Station in the Bronx; Community of Striving Immigrants Fosters Middle-Class Values \n",
            " truth: 10 pred: 11\n",
            "1/1 [==============================] - 0s 46ms/step\n",
            "MEXICAN PRESIDENT ASKS AMERICANS FOR \"TRUST\"; IMMIGRATION REFORM REQUIRES COOPERATIVE EFFORT, VICENTE FOX SAYS \n",
            " truth: 13 pred: 14\n",
            "1/1 [==============================] - 0s 55ms/step\n",
            "Fox sets immigration reform deadline \n",
            " truth: 13 pred: 13\n",
            "1/1 [==============================] - 0s 53ms/step\n",
            "President Vicente Fox of Mexico, the guest of honor Wednesday at President Bush's first state dinner, sparked controversy by challenging his host to strike an agreement on immigration reform by the end of the year. \n",
            " truth: 13 pred: 14\n",
            "1/1 [==============================] - 0s 54ms/step\n",
            "By the end of the day, however, administration officials were scrambling to contain the political fallout. For weeks they had worked to lower expectations for a deal on the politically volatile issue of immigration. \n",
            " truth: 12 pred: 13\n",
            "1/1 [==============================] - 0s 59ms/step\n",
            "Only a day earlier, Bush had said he needed time to work with Congress to build political support for immigration reform. \n",
            " truth: 12 pred: 13\n",
            "1/1 [==============================] - 0s 46ms/step\n",
            "Mexican government officials say the anti-immigrant backlash in the United States is what prompted Fox to take such a bold position Wednesday. \n",
            " truth: 13 pred: 12\n",
            "1/1 [==============================] - 0s 42ms/step\n",
            "For Bush, any immigration pact with Mexico is only half the battle; American and Mexican presidents may make agreement, but Congress controls changes in laws \n",
            " truth: 13 pred: 13\n",
            "1/1 [==============================] - 0s 40ms/step\n",
            "Borscht, Please, With a Side of Sushi; Ethnic Chefs Borrow and Blend, But Spaghetti and Sake? Never \n",
            " truth: 14 pred: 11\n",
            "1/1 [==============================] - 0s 44ms/step\n",
            "Immigrant magnet that it is, New York City has long been the scene of some cross-cultural cuisine, \n",
            " truth: 10 pred: 11\n",
            "1/1 [==============================] - 0s 44ms/step\n",
            "Garner's case is one of thousands moving through the nation's 52 immigration courts, which until recently have been almost unknown outside the orbit of immigration lawyers, their clients and immigrant advocacy groups. \n",
            " truth: 4 pred: 5\n",
            "1/1 [==============================] - 0s 51ms/step\n",
            "Two arguments on licensing \n",
            " truth: 4 pred: 5\n",
            "1/1 [==============================] - 0s 51ms/step\n",
            "State law says only U.S. citizens or people who are in this country legally can get a license. That means a few hundred thousand illegal immigrants cannot get a license \n",
            " truth: 4 pred: 5\n",
            "1/1 [==============================] - 0s 43ms/step\n",
            "International Atlanta: Immigrants add own cultures to Christmas \n",
            " truth: 10 pred: 11\n",
            "1/1 [==============================] - 0s 54ms/step\n",
            "Gloria Hsu welcomes visitors with a warm hello, guiding them into the room at the Chinese Cultural Center in Chamblee where a dozen people are playing badminton and pingpong. \n",
            " truth: 10 pred: 11\n",
            "1/1 [==============================] - 0s 52ms/step\n",
            "Instead, the members of the Atlanta Senior Chinese Athletic Club have a table filled with homemade foods --- sushi, pickled seaweed, chicken broth, roasted pork and duck. \n",
            " truth: 10 pred: 11\n",
            "1/1 [==============================] - 0s 51ms/step\n",
            "Christmas as many have come to know it in the United States --- dragging home a tree or pulling a fake one out of a box, the frenzy of last-minute shopping, stuffing cards into envelopes --- is different in many immigrant communities in metro Atlanta. \n",
            " truth: 10 pred: 11\n",
            "1/1 [==============================] - 0s 51ms/step\n",
            "Some like the Hsus and their friends embrace the feeling of brotherhood and love. Others, like Mexican Catholics, hold on to the traditions of their homeland. Still others buy into Santa Claus and all the trappings while introducing their children to the traditions they learned as youngsters \n",
            " truth: 10 pred: 3\n",
            "1/1 [==============================] - 0s 51ms/step\n",
            "Hiring of illegals props poultry 'culture' \n",
            " truth: 10 pred: 1\n",
            "1/1 [==============================] - 0s 51ms/step\n",
            "A Silver Spring couple was found guilty yesterday of enslaving a teenager from Cameroon by forcing her to work long hours as a housekeeper and nanny for three years without pay. \n",
            " truth: 6 pred: 7\n",
            "1/1 [==============================] - 0s 49ms/step\n",
            "\n",
            "Federal officials have said that thousands of domestic workers are brought into the United States by their employers, often from their native country, and abused. Last year, a Gaithersburg man who kept a Brazilian woman in his home for nearly 20 years was sentenced to 6 1/2 years in prison for violating immigration laws. \n",
            " truth: 6 pred: 7\n",
            "1/1 [==============================] - 0s 53ms/step\n",
            "Attacks Shelve GOP Effort to Woo Hispanics \n",
            " truth: 12 pred: 13\n",
            "1/1 [==============================] - 0s 57ms/step\n",
            "New driver's license rules kick in early \n",
            " truth: 5 pred: 5\n",
            "1/1 [==============================] - 0s 52ms/step\n",
            "Federal law enforcement officials have broken up a large smuggling ring that used a Los Angeles-based bus company to transport illegal immigrants from U.S. cities near the Mexican border to locations around the western United States, Attorney General John D. Ashcroft announced yesterday. \n",
            " truth: 6 pred: 7\n",
            "1/1 [==============================] - 0s 60ms/step\n",
            "A NATION CHALLENGED: THE HOLY LAND FOUNDATION; Paterson Again Finds Itself With Links to Sept. 11 \n",
            " truth: 7 pred: 3\n",
            "1/1 [==============================] - 0s 52ms/step\n",
            "NO BIG FISH IN 9/1 DRAGNET City catch included hustlers & those with v isa woes \n",
            " truth: 7 pred: 7\n",
            "1/1 [==============================] - 0s 48ms/step\n",
            "Palestinian-Born Man Deported to Jordan; Technician Accused of Immigration Fraud; Lawyer Fears Torture in Amman \n",
            " truth: 6 pred: 7\n",
            "1/1 [==============================] - 0s 43ms/step\n",
            "Va. Case a Window on Terror Probe \n",
            " truth: 7 pred: 8\n",
            "1/1 [==============================] - 0s 64ms/step\n",
            "Immigration and Naturalization Service agents arrested Al-Najjar Saturday outside his Tampa apartment after a federal appeals court in Atlanta affirmed his deportation order on Nov. 13. \n",
            " truth: 6 pred: 7\n",
            "1/1 [==============================] - 0s 50ms/step\n",
            "He was released last year after a federal judge in Miami ruled his due process rights had been violated because the government would not reveal enough of the classified evidence to allow him to mount a defense. \n",
            " truth: 4 pred: 5\n",
            "1/1 [==============================] - 0s 48ms/step\n",
            "\"The way I read the rules, if the government decides to deport him anywhere other than the (United Arab) Emirates, he can challenge the decision, which could take another two years,\" Al-Arian said Monday. \"Even if it is the Emirates, he'll have some avenues to challenge.\" \n",
            " truth: 4 pred: 5\n",
            "1/1 [==============================] - 0s 54ms/step\n",
            "CLOSE THE RIGHT BORDER \n",
            " truth: 7 pred: 8\n",
            "1/1 [==============================] - 0s 50ms/step\n",
            "At Phila. airport, acting on instinct; Airport inspectors place priority on their instincts Immigration officers have stepped up their scrutiny since Sept. 11 \n",
            " truth: 7 pred: 8\n",
            "1/1 [==============================] - 0s 55ms/step\n",
            "SILENT GUESTS; LITTLE NOTICED, ILLEGAL IMMIGRANTS ARE GROWING PRESENCE HERE \n",
            " truth: 10 pred: 11\n",
            "1/1 [==============================] - 0s 46ms/step\n",
            "Fourteen Mexicans live in the two apartments - Julio and six other men in one, an extended family in the other - on the top floor of the three-story building a few blocks south of Tower Grove Park. \n",
            " truth: 9 pred: 10\n",
            "1/1 [==============================] - 0s 51ms/step\n",
            "LAWYER NAMED 'BORDER CZAR' \n",
            " truth: 7 pred: 5\n",
            "1/1 [==============================] - 0s 58ms/step\n",
            "PHCC adds scrutiny on foreign students \n",
            " truth: 5 pred: 6\n",
            "1/1 [==============================] - 0s 56ms/step\n",
            "The board also debated whether the college should report foreign students who drop out or stop coming to class. \n",
            " truth: 5 pred: 6\n",
            "1/1 [==============================] - 0s 57ms/step\n",
            "Trustees said they thought the new rules were necessary in light of the Sept. 11 terrorist attacks. Several of the terrorists implicated in the attacks had come to the United States on student visas and remained after their credentials expired. \n",
            " truth: 7 pred: 8\n",
            "1/1 [==============================] - 0s 58ms/step\n",
            "AIR TRAGEDY CAN'T OPEN U.S. BORDERS \n",
            " truth: 7 pred: 8\n",
            "1/1 [==============================] - 0s 50ms/step\n",
            "Top Democrats Politick Through Rural Mexico \n",
            " truth: 12 pred: 13\n",
            "1/1 [==============================] - 0s 50ms/step\n",
            "Senator Tom Daschle, the majority leader from South Dakota, and Representative Richard A. Gephardt, the minority leader from Missouri, visited villages in Puebla State that are connected to the United States by the blood and money of immigrants.  \n",
            " truth: 12 pred: 13\n",
            "1/1 [==============================] - 0s 51ms/step\n",
            "Although they never asked for votes here, Mr. Daschle and Mr. Gephardt made a series of stunning promises. \n",
            " truth: 12 pred: 13\n",
            "1/1 [==============================] - 0s 48ms/step\n",
            "CRASH KIN MAY LOSE HOPE FOR GREEN CARD \n",
            " truth: 9 pred: 10\n",
            "1/1 [==============================] - 0s 51ms/step\n",
            "\"Juan was eligible to apply for his green card based on the marriage, but when that plane went down the petition died with his wife,\" said Vasquez's lawyer, Kerry Bretz, of Manhattan. \n",
            " truth: 4 pred: 5\n",
            "1/1 [==============================] - 0s 57ms/step\n",
            "A NATION CHALLENGED: IMMIGRATION; BUSH SETS OPTION OF MILITARY TRIALS IN TERRORIST CASES \n",
            " truth: 7 pred: 13\n",
            "1/1 [==============================] - 0s 52ms/step\n",
            "Arab, Muslim Men to Get Tougher U.S. Visa Screening \n",
            " truth: 3 pred: 12\n",
            "1/1 [==============================] - 0s 52ms/step\n",
            "The temporary measure is a response to the Sept. 11 terrorist attacks on New York and Washington, which allegedly were carried out by 19 Middle Eastern men.\n",
            " \n",
            " truth: 7 pred: 8\n",
            "1/1 [==============================] - 0s 51ms/step\n",
            "From train station kiosk to terror probe; Two Indian immigrants held since Sept. 12 are among a handful facing the most intense scrutiny \n",
            " truth: 7 pred: 8\n",
            "1/1 [==============================] - 0s 52ms/step\n",
            "6 Guards in New Jersey Charged With Beating Jailed Immigrants \n",
            " truth: 6 pred: 7\n",
            "1/1 [==============================] - 0s 52ms/step\n",
            "Keeping terrorists out \n",
            " truth: 7 pred: 8\n",
            "1/1 [==============================] - 0s 50ms/step\n",
            "Cut back on immigration and step up screening \n",
            " truth: 1 pred: 6\n",
            "1/1 [==============================] - 0s 56ms/step\n",
            "Proposed amnesty program could disappoint immigrants; MANY FEAR THOUSANDS WILL BE LOCKED OUT \n",
            " truth: 5 pred: 6\n",
            "1/1 [==============================] - 0s 51ms/step\n",
            "Border security bill is stalled \n",
            " truth: 7 pred: 8\n",
            "1/1 [==============================] - 0s 61ms/step\n",
            "The inspectors must check the documents of each foreigner to try to keep out terrorists, smugglers and other criminals who would harm the country \n",
            " truth: 7 pred: 7\n",
            "1/1 [==============================] - 0s 58ms/step\n",
            "The bill passed the House on a voice vote late last year and came within an inch of immediate Senate approval, until it was halted by Sen. Robert Byrd (D-W.Va.). \n",
            " truth: 12 pred: 13\n",
            "1/1 [==============================] - 0s 53ms/step\n",
            "U.S. MUST STAY TOUGH ABOUT SEALING BORDERS \n",
            " truth: 7 pred: 8\n",
            "1/1 [==============================] - 0s 50ms/step\n",
            " we were reminded by those two columns of light that six months ago there were two silver towers rising above all Manhattan.\n",
            " \n",
            " truth: 7 pred: 11\n",
            "1/1 [==============================] - 0s 56ms/step\n",
            "I.N.S. Is Sued for Legal Aid for Minors It Holds \n",
            " truth: 4 pred: 5\n",
            "1/1 [==============================] - 0s 45ms/step\n",
            "Legal groups are suing to require the Immigration and Naturalization Service to provide free legal representation for hundreds of minors being detained in deportation cases. \n",
            " truth: 4 pred: 5\n",
            "1/1 [==============================] - 0s 43ms/step\n",
            "Last week, a federal judge in Spokane, Wash., halted deportation proceedings for Marcos until he decided on the class-action request. The judge also ordered that counsel be appointed for Marcos at the government's expense. \n",
            " truth: 4 pred: 5\n",
            "1/1 [==============================] - 0s 40ms/step\n",
            "Rhonda Brownstein, a lawyer working on the case at the Southern Poverty Law Center in Montgomery, Ala., said the judge's decision to intervene was \"unprecedented.\" \n",
            " truth: 4 pred: 5\n",
            "1/1 [==============================] - 0s 40ms/step\n",
            "At an immigration hearing last month, Marcos signed a consent agreement that waived his right to contest deportation, his lawyers said. But Marcos, who speaks limited English and has been living with relatives in Seattle for nine months, said he wanted to remain in the United States. \n",
            " truth: 4 pred: 5\n",
            "1/1 [==============================] - 0s 46ms/step\n",
            "\n",
            "FLIGHT SCHOOL GETS PAPERS ON HIJACKERS' VISA APPROVALS \n",
            " truth: 7 pred: 5\n",
            "1/1 [==============================] - 0s 40ms/step\n",
            "Ridge: U.S., Mexico to tighten border security \n",
            " truth: 7 pred: 8\n",
            "1/1 [==============================] - 0s 41ms/step\n",
            "MERCHANT SLAIN IN B'KLYN Immigrant dad of 2 stabbed, beaten in apparen t robbery \n",
            " truth: 6 pred: 7\n",
            "1/1 [==============================] - 0s 44ms/step\n",
            "An immigrant TV repairman was found dead early yesterday in his Brooklyn store, bludgeoned and stabbed during an apparent robbery, police said. \n",
            " truth: 6 pred: 7\n",
            "1/1 [==============================] - 0s 43ms/step\n",
            "Republicans Attack Shift In Cuba Policy \n",
            " truth: 12 pred: 13\n",
            "1/1 [==============================] - 0s 48ms/step\n",
            "Lawyers seek reduction of charges for brothers in immigration fraud-sex case \n",
            " truth: 6 pred: 5\n",
            "1/1 [==============================] - 0s 49ms/step\n",
            "Attorneys for Vijay and Prasad Lakireddy, brothers of a wealthy Berkeley family charged in an immigration fraud and sex case, want four charges dismissed because some of the alleged sex was in India. \n",
            " truth: 6 pred: 5\n",
            "1/1 [==============================] - 0s 44ms/step\n",
            "They deny their clients had sex with minors and argue the case is unfair because some alleged crimes happened outside U.S. jurisdiction \n",
            " truth: 4 pred: 7\n",
            "1/1 [==============================] - 0s 45ms/step\n",
            "\n",
            "Their father, Lakireddy Bali Reddy, of Berkeley, was given eight years in prison for illegally importing Indians to work in his restaurants and apartments. \n",
            " truth: 6 pred: 7\n",
            "1/1 [==============================] - 0s 54ms/step\n",
            "Sweatshops proliferate around the city and employers allegedly threaten undocumented employees with deportation if they unionize. \n",
            " truth: 6 pred: 7\n",
            "1/1 [==============================] - 0s 55ms/step\n",
            "IMMIGRANT SMUGGLER SENTENCED \n",
            " truth: 6 pred: 7\n",
            "1/1 [==============================] - 0s 44ms/step\n",
            "Defense attorney Gerald Williams said he planned to appeal the sentence.\n",
            " \n",
            " truth: 4 pred: 5\n",
            "1/1 [==============================] - 0s 62ms/step\n",
            "FIX ANTI-TERROR DEBACLE \n",
            " truth: 7 pred: 8\n",
            "1/1 [==============================] - 0s 44ms/step\n",
            "'Immigration': NSO's Many-Flavored Melting Pot \n",
            " truth: 10 pred: 11\n",
            "1/1 [==============================] - 0s 41ms/step\n",
            "The immigration deliberation 'Fortress America' won't make us safer \n",
            " truth: 7 pred: 9\n",
            "1/1 [==============================] - 0s 53ms/step\n",
            "It has become something of an axiom since Sept. 11: Our loose  borders and lax immigration policies bear a great deal of  responsibility for the terrorism that visited our shores. \n",
            " truth: 7 pred: 8\n",
            "1/1 [==============================] - 0s 47ms/step\n",
            "A NATION CHALLENGED: DETAINEES; Civil Rights Groups Allowed to Visit Two Jails in New Jersey \n",
            " truth: 6 pred: 7\n",
            "1/1 [==============================] - 0s 63ms/step\n",
            "Jail officials have let personal lawyers, family members and friends visit some of the detainees. But they had not previously given access to an array of civil rights groups, some of which have filed suits to try to penetrate the secrecy surrounding the detentions \n",
            " truth: 6 pred: 7\n",
            "1/1 [==============================] - 0s 43ms/step\n",
            "Fiesta cheers immigrant stew \n",
            " truth: 10 pred: 11\n",
            "1/1 [==============================] - 0s 44ms/step\n",
            "Pakistani pleads guilty to gun violation \n",
            " truth: 6 pred: 7\n",
            "1/1 [==============================] - 0s 39ms/step\n",
            "Rizvi's younger brother, Armoghan Rizvi, 23, was arrested by  the INS outside the federal courthouse in Denver while using a  cellphone during his brother's arraignment in November. Charged  with being an undocumented immigrant, Armoghan is expected to  plead guilty on Feb. 11. \n",
            " truth: 6 pred: 7\n",
            "1/1 [==============================] - 0s 46ms/step\n",
            "Staff Shortage Lengthening Dulles Airport Passport Lines \n",
            " truth: 1 pred: 2\n",
            "1/1 [==============================] - 0s 39ms/step\n",
            "A shortage of Immigration and Naturalization Service agents at Dulles International Airport has led to longer-than-usual waits at passport control for arriving international passengers, airport and INS officials said. \n",
            " truth: 1 pred: 2\n",
            "1/1 [==============================] - 0s 42ms/step\n",
            "At times in the past two months, passengers have waited so long during 90-minute stopovers that they have missed connections with domestic flights, an airline representative said. Arriving passengers also have been held on their planes or on the airport's mobile lounges until the crowded immigration area cleared out. \n",
            " truth: 1 pred: 2\n",
            "1/1 [==============================] - 0s 39ms/step\n",
            "Airline officials say they are concerned that waits will grow even longer when they add more international flights in May for the busy summer travel season \n",
            " truth: 1 pred: 1\n",
            "1/1 [==============================] - 0s 62ms/step\n",
            "\"If it's this bad now, what's it going to be like then?\" said Dick DeiTos, executive director of the Metropolitan Washington Airlines Committee, made up of airlines that use Dulles and Reagan National airports \n",
            " truth: 1 pred: 13\n",
            "1/1 [==============================] - 0s 77ms/step\n",
            "Census estimates a doubling of illegal immigrants in '90s \n",
            " truth: 1 pred: 11\n",
            "1/1 [==============================] - 0s 78ms/step\n",
            "The number of illegal immigrants in the United States more than doubled during the 1990s, preliminary Census Bureau estimates show. \n",
            " truth: 1 pred: 11\n",
            "1/1 [==============================] - 0s 68ms/step\n",
            "And after the Sept. 11 attacks, the focus has shifted even more to closing immigration loopholes and tightening border patrols amid greater suspicion of foreigners. \n",
            " truth: 7 pred: 8\n",
            "1/1 [==============================] - 0s 65ms/step\n",
            "Reorganization, Anti-Terrorism Effort Keeping INS Chief Busy \n",
            " truth: 7 pred: 8\n",
            "1/1 [==============================] - 0s 69ms/step\n",
            "James W. Ziglar gained fame on the Hill as the man who called to order President Bill Clinton's impeachment trial with chants of \"Hear ye, hear ye.\" \n",
            " truth: 12 pred: 13\n",
            "1/1 [==============================] - 0s 67ms/step\n",
            "Food stamp plan would skip Latinos; Advocate cites 'legal' barrier \n",
            " truth: 3 pred: 6\n",
            "1/1 [==============================] - 0s 71ms/step\n",
            "ST. LOUIS-AREA BUSINESSMAN WINS FREEDOM WHILE FIGHTING DEPORTATION; APPEALS COURT RULING ALLOWS INDIA NATIVE TO BE RELEASED ON BOND \n",
            " truth: 4 pred: 5\n",
            "1/1 [==============================] - 0s 83ms/step\n",
            "It's an issue expected to spark an INS appeal to the Supreme Court. A source at the Justice Department, which oversees the INS, said \"the matter is under review.\" \n",
            " truth: 4 pred: 5\n",
            "1/1 [==============================] - 0s 72ms/step\n",
            "A NATION CHALLENGED; Marshals Transfer Detainee to Chicago \n",
            " truth: 6 pred: 5\n",
            "1/1 [==============================] - 0s 76ms/step\n",
            "Immigrant women find shelter from spousal rage \n",
            " truth: 9 pred: 10\n",
            "1/1 [==============================] - 0s 73ms/step\n",
            "A NATION CHALLENGED: THE BORDERS; Official Urges Combining Several Agencies to Create One That Protects Borders \n",
            " truth: 7 pred: 8\n",
            "1/1 [==============================] - 0s 76ms/step\n",
            "World Briefing Americas: Mexico: Talks With U.S. On Immigration \n",
            " truth: 13 pred: 14\n",
            "1/1 [==============================] - 0s 66ms/step\n",
            "Foreign Minister Jorge G. Castaneda began a two-day visit to Washington aimed at reviving negotiations with the Bush administration on immigration reforms. \n",
            " truth: 13 pred: 14\n",
            "1/1 [==============================] - 0s 64ms/step\n",
            "OUR OPINIONS: No shortcut to driver's license \n",
            " truth: 4 pred: 5\n",
            "1/1 [==============================] - 0s 66ms/step\n",
            "NO CORPORATE CONSPIRACY TO SMUGGLE ILLEGAL ALIENS \n",
            " truth: 0 pred: 7\n",
            "1/1 [==============================] - 0s 64ms/step\n",
            " while providing 120,000 people in the United States with good-paying jobs and benefits, regardless of ethnic origin. \n",
            " truth: 0 pred: 1\n",
            "1/1 [==============================] - 0s 87ms/step\n",
            "U.S. Seeks Thousands Of Fugitive Deportees; Middle Eastern Men Are Focus of Search \n",
            " truth: 6 pred: 7\n",
            "1/1 [==============================] - 0s 63ms/step\n",
            "The Justice Department has identified about 6,000 young men from the Middle East who have ignored deportation orders, and has decided to make the arrest and removal of them the highest priority among efforts to locate hundreds of thousands of foreign nationals who have defied such rulings, authorities said. \n",
            " truth: 6 pred: 5\n",
            "1/1 [==============================] - 0s 70ms/step\n",
            "The men hail from nations that U.S. authorities consider havens for members of Osama bin Laden's al Qaeda terrorist network, \n",
            " truth: 7 pred: 8\n",
            "1/1 [==============================] - 0s 69ms/step\n",
            "MINNEAPOLIS-ST. PAUL INTERNATIONAL AIRPORT: 21 airport workers detained \n",
            " truth: 6 pred: 7\n",
            "1/1 [==============================] - 0s 81ms/step\n",
            "Twenty-one people, most working in food service businesses in secure areas at Minneapolis-St. Paul International Airport, were detained Tuesday by federal agents on suspicion of various immigration violations. \n",
            " truth: 6 pred: 7\n",
            "1/1 [==============================] - 0s 71ms/step\n",
            "The sweep was aimed at businesses and not because of information about any particular person, Heffelfinger said. \n",
            " truth: 0 pred: 1\n",
            "1/1 [==============================] - 0s 68ms/step\n",
            "Last month, federal officials said they had arrested or indicted more than 450 workers at 15 airports across the country on such charges as using phony Social Security numbers, lying about past criminal convictions or being in the country illegally. \n",
            " truth: 6 pred: 7\n",
            "1/1 [==============================] - 0s 71ms/step\n",
            "The arrests have been criticized by some as a long overdue response to the Sept. 11 terrorist attacks on the Pentagon in Washington, D.C., and the World Trade towers in New York City. \n",
            " truth: 7 pred: 8\n",
            "1/1 [==============================] - 0s 75ms/step\n",
            "Metro Briefing New York: Manhattan: Immigrant Amnesty Campaign \n",
            " truth: 11 pred: 12\n",
            "1/1 [==============================] - 0s 75ms/step\n",
            "Tancredo launches bid for third term \n",
            " truth: 12 pred: 13\n",
            "1/1 [==============================] - 0s 46ms/step\n",
            "INS CHIEF ZIGLAR CAUGHT IN PINCH \n",
            " truth: 14 pred: 7\n",
            "1/1 [==============================] - 0s 64ms/step\n",
            "In the aftermath of the Sept. 11 terrorist attacks, the agency he heads is now seen as a national security problem because of its failure to secure the borders and enforce immigration laws. \n",
            " truth: 7 pred: 8\n",
            "1/1 [==============================] - 0s 52ms/step\n",
            "\n",
            "Farewell to the I.N.S. \n",
            " truth: 5 pred: 11\n",
            "1/1 [==============================] - 0s 55ms/step\n",
            "House approves bill to abolish INS \n",
            " truth: 12 pred: 13\n",
            "1/1 [==============================] - 0s 56ms/step\n",
            "Rep. James Sensenbrenner, who pushed the measure through faster than the White House wanted but eventually got its blessing, called for abolishing an embattled INS he described as an \"undesirable and unwanted stepchild.\" \n",
            " truth: 12 pred: 13\n",
            "1/1 [==============================] - 0s 56ms/step\n",
            "The Democratic-led Senate will begin work next week on its own version. INS Commissioner James Ziglar is to appear May 2 before the Senate Judiciary subcommittee on immigration \n",
            " truth: 12 pred: 13\n",
            "1/1 [==============================] - 0s 55ms/step\n",
            "Under Sensenbrenner's plan, the Justice Department would create a single agency to enforce laws and keep unqualified people from entering the United States. A second agency would smooth the way to possible citizenship for legal immigrants \n",
            " truth: 5 pred: 5\n",
            "1/1 [==============================] - 0s 49ms/step\n",
            "Many in Congress believe abolishing the INS is necessary because of a series of foul-ups. \n",
            " truth: 12 pred: 13\n",
            "1/1 [==============================] - 0s 56ms/step\n",
            "Congress Plans Stiff New Curb On Immigration \n",
            " truth: 5 pred: 13\n",
            "1/1 [==============================] - 0s 53ms/step\n",
            "The proposals have been criticized by an unusual array of interests, from traditional supporters of immigration to American industries, particularly high-tech companies, that need more professionals than the United States produces. \n",
            " truth: 11 pred: 6\n",
            "1/1 [==============================] - 0s 62ms/step\n",
            "Registry protects legal immigrants \n",
            " truth: 0 pred: 5\n",
            "1/1 [==============================] - 0s 52ms/step\n",
            "Local immigrant professionals maintain extensive ties to their homes, bringing business opportunities, technology and networks that link Silicon Valley to urban centers in countries like India, China and Taiwan, according to a study by the non-profit Public Policy Institute of California.\n",
            " \n",
            " truth: 0 pred: 1\n",
            "1/1 [==============================] - 0s 56ms/step\n",
            "Other aspects of the bill are less controversial. \n",
            " truth: 5 pred: 6\n",
            "1/1 [==============================] - 0s 51ms/step\n",
            "BILINGUALISM AND INSECURITY MAKING ENGLISH THE OFFICIAL LANGUAGE IS LARGELY AN ISSUE OF POLITICS, NOT EDUCATION \n",
            " truth: 10 pred: 11\n",
            "1/1 [==============================] - 0s 48ms/step\n",
            "A NATION CHALLENGED: IMMIGRATION; Congress Set to Break Up Beleaguered Agency \n",
            " truth: 12 pred: 13\n",
            "1/1 [==============================] - 0s 58ms/step\n",
            "The full House could vote by the end of the month on the legislation, which has the support of both Speaker J. Dennis Hastert, Republican of Illinois, and Representative Richard A. Gephardt of Missouri, the House Democratic leader \n",
            " truth: 12 pred: 13\n",
            "1/1 [==============================] - 0s 46ms/step\n",
            "Similar legislation in the Senate sponsored by Senators Edward M. Kennedy, Democrat of Massachusetts, and Sam Brownback, Republican of Kansas, is likely to be introduced this week or next, Congressional aides said. \n",
            " truth: 12 pred: 13\n",
            "1/1 [==============================] - 0s 45ms/step\n",
            "Immigrant smugglers get prison in van crash \n",
            " truth: 6 pred: 7\n",
            "1/1 [==============================] - 0s 44ms/step\n",
            "MINNEAPOLIS: Judge bars Somali man's deportation \n",
            " truth: 4 pred: 5\n",
            "1/1 [==============================] - 0s 52ms/step\n",
            "A federal judge in Minneapolis has ordered immigration officials not to deport a Somali refugee convicted of assault, ruling that sending Somalis back to a country with no functioning government is illegal. \n",
            " truth: 4 pred: 5\n",
            "1/1 [==============================] - 0s 63ms/step\n",
            "\"It's clear that the implication is that if it's not legal in this case, it should not be legal in any case,\" said Michele Garnett McKenzie, acting director of refugee and immigrant programs for Minnesota Advocates for Human Rights. \"We hope this will encourage the INS to stop this illegal practice and put on hold any plans for removals they may have.\" \n",
            " truth: 4 pred: 5\n",
            "1/1 [==============================] - 0s 48ms/step\n",
            "17 Arrested in New York In a Nationwide Drug Sting \n",
            " truth: 6 pred: 7\n",
            "1/1 [==============================] - 0s 49ms/step\n",
            "Using the prospect of immigration documents as bait in a sting operation, law enforcement officials lured scores of suspected Jamaican drug traffickers out of hiding and were rounding them up yesterday in six cities across the country, the authorities said last night. \n",
            " truth: 6 pred: 7\n",
            "1/1 [==============================] - 0s 46ms/step\n",
            "The 17 arrests in New York smashed a Brooklyn-based Jamaican gang, or posse, that has operated in the shadows in recent years but has shown no reluctance to spill blood to attain its goals, said Mr. Domroe, an assistant special agent in charge of the F.B.I.'s criminal division in New York. \n",
            " truth: 6 pred: 7\n",
            "1/1 [==============================] - 0s 52ms/step\n",
            "The undercover operation, which led to 43 indictments charging the 119 people, was centered in Miami, where it was begun in January 1993 by the F.B.I. and the Immigration and Naturalization Service, the authorities said. \n",
            " truth: 6 pred: 7\n",
            "1/1 [==============================] - 0s 47ms/step\n",
            "When a College Is Out of Reach \n",
            " truth: 9 pred: 15\n",
            "1/1 [==============================] - 0s 48ms/step\n",
            " they aren't citizens and don't have permanent resident status. \n",
            " truth: 4 pred: 5\n",
            "1/1 [==============================] - 0s 54ms/step\n",
            "U.S. Weighs the Fate of Child Immigrants \n",
            " truth: 9 pred: 10\n",
            "1/1 [==============================] - 0s 62ms/step\n",
            "\"I thought I could have a new life here,\" Mr. Jarno said in an interview, which was translated by one of his lawyers, Benoit Jacqmotte. \"I also thought this was a country that respected human rights. But I am not sure anymore.\" \n",
            " truth: 9 pred: 10\n",
            "1/1 [==============================] - 0s 54ms/step\n",
            "Court Denies Back Pay to Fired Illegal Immigrants \n",
            " truth: 4 pred: 5\n",
            "1/1 [==============================] - 0s 43ms/step\n",
            "The Supreme Court ruled yesterday that the federal government may not compel employers to award back pay to undocumented immigrants who were illegally fired for trying to join a labor union. \n",
            " truth: 4 pred: 5\n",
            "1/1 [==============================] - 0s 47ms/step\n",
            "The NLRB, Rehnquist wrote, \"asks that we . . . allow it to award backpay to an illegal alien for years of work not performed, for wages that could not lawfully have been earned and for a job obtained in the first instance by a criminal fraud.\" \n",
            " truth: 4 pred: 5\n",
            "1/1 [==============================] - 0s 46ms/step\n",
            "When Immigrants Are Children \n",
            " truth: 9 pred: 11\n",
            "1/1 [==============================] - 0s 47ms/step\n",
            " he was allowed to stay with family and given legal representation. \n",
            " truth: 4 pred: 5\n",
            "1/1 [==============================] - 0s 43ms/step\n",
            "Hundreds of children escaping mistreatment find more of it when they arrive here \n",
            " truth: 9 pred: 9\n",
            "1/1 [==============================] - 0s 48ms/step\n",
            "When taken from jail to court hearings, they are shackled and handcuffed, and no arriving minor is entitled to free legal representation. One 16-year-old boy was locked in a hotel room for five weeks alone, without anyone to talk to, anything to read or a change of clothes. An 18-month-old girl was taken to court for a hearing in Florida two years ago with no lawyer or other adult to represent her. \n",
            " truth: 9 pred: 5\n",
            "1/1 [==============================] - 0s 56ms/step\n",
            "A 'DREAM' TURNS DEADLY   Jimmy Breslin details an immigrant's tragedy \n",
            " truth: 8 pred: 10\n",
            "1/1 [==============================] - 0s 60ms/step\n",
            "beyond learning that the 21-year-old day laborer was born into poverty in rural Mexico, grew up in a brickyard and lusted after the streets of New York. \n",
            " truth: 9 pred: 10\n",
            "1/1 [==============================] - 0s 49ms/step\n",
            "Report: U.S. relies heavily on illegal workers; Half on farm, 25% in home, 10% in eateries \n",
            " truth: 1 pred: 1\n",
            "1/1 [==============================] - 0s 54ms/step\n",
            "House Panel Agrees On Plan to Split INS \n",
            " truth: 12 pred: 13\n",
            "1/1 [==============================] - 0s 50ms/step\n",
            "would create a clearer split between the INS's enforcement and administrative functions by giving the two separate budgets. \n",
            " truth: 5 pred: 7\n",
            "1/1 [==============================] - 0s 50ms/step\n",
            "For the Record \n",
            " truth: 14 pred: 15\n",
            "1/1 [==============================] - 0s 52ms/step\n",
            "U.S. immigration policies: From the absurd to the ridiculous \n",
            " truth: 5 pred: 6\n",
            "1/1 [==============================] - 0s 54ms/step\n",
            "Mexico Leader Hopes His Talks With Bush Will Unblock Aid \n",
            " truth: 13 pred: 14\n",
            "1/1 [==============================] - 0s 48ms/step\n",
            "Immigrants With Skills\n",
            " \n",
            " truth: 1 pred: 11\n",
            "1/1 [==============================] - 0s 47ms/step\n",
            "The total number of immigrants and refugees admitted into this country (now 800,000 a year) will almost certainly be reduced by Congress. \n",
            " truth: 1 pred: 11\n",
            "1/1 [==============================] - 0s 55ms/step\n",
            "But because the total will be smaller, the actual number of spots for skilled workers will go down from the present 140,000 a year to something in the 75,000 to 100,000 range.\n",
            " \n",
            " truth: 1 pred: 1\n",
            "1/1 [==============================] - 0s 50ms/step\n",
            "ENGLISH LANGUAGE UNITES A DIVERSE NATION \n",
            " truth: 10 pred: 11\n",
            "1/1 [==============================] - 0s 48ms/step\n",
            "Insisting that all our citizens are fluent in English is a welcoming act of inclusion and insist we must. We need the glue of language to help hold us together. \n",
            " truth: 10 pred: 11\n",
            "1/1 [==============================] - 0s 48ms/step\n",
            "Of course Dole was playing politics, catering to the American Legion at whose convention in Indianapolis he was speaking last week. \n",
            " truth: 12 pred: 13\n",
            "1/1 [==============================] - 0s 41ms/step\n",
            "Of course he was trying to win points with the hard-core political right, to keep its support from swinging to more conservative presidential candidates. \n",
            " truth: 12 pred: 13\n",
            "1/1 [==============================] - 0s 43ms/step\n",
            "Even so, Dole is right. He is right about making English the official language of government. He is right about insisting that immigrant children learn English quickly in school. And he is right that the current trend toward pushing multiculturalism and diversity has gone too far, emphasizing what divides us instead of what unites us. \n",
            " truth: 10 pred: 13\n",
            "1/1 [==============================] - 0s 41ms/step\n",
            "\n",
            "From 1990 to 1994, almost as many immigrants - 4.5 million - have come to the United States as during all of the 1970s. One-fourth of the people living in California were born in other countries. \n",
            " truth: 10 pred: 11\n",
            "1/1 [==============================] - 0s 59ms/step\n",
            "Latino Population Growth Is Widespread, Study Says \n",
            " truth: 10 pred: 11\n",
            "1/1 [==============================] - 0s 50ms/step\n",
            "NO HAVEN FOR TORTURERS; ACT AGAINST GENERALS \n",
            " truth: 6 pred: 7\n",
            "1/1 [==============================] - 0s 53ms/step\n",
            "Immigration law excludes persons who have been or are engaged in \"genocide, or otherwise ordered, incited, assisted or otherwise participated in the killing of any person because of race, religion, nationality, ethnic origin or political opinion.\" \n",
            " truth: 4 pred: 5\n",
            "1/1 [==============================] - 0s 68ms/step\n",
            "Immigrant Fraud Case May Reach Beyond Va.; Arlington Lawyer Accused of Filing Bogus Labor Forms \n",
            " truth: 6 pred: 7\n",
            "1/1 [==============================] - 0s 53ms/step\n",
            "The Arlington lawyer accused last week of immigration fraud in Virginia by filing false documents is being investigated for submitting thousands of similar forms in other states, a federal prosecutor said yesterday during a hearing in U.S. District Court in Alexandria. \n",
            " truth: 6 pred: 5\n",
            "1/1 [==============================] - 0s 49ms/step\n",
            "Yesterday's hearing was for Ronald W. Bogardus, 65, a contract engineer for the State Department who is accused of being Kooritzky's accomplice. During a search of Bogardus's Arlington apartment, agents found a suitcase stuffed with what they believed was $ 500,000. \n",
            " truth: 6 pred: 7\n",
            "1/1 [==============================] - 0s 48ms/step\n",
            "Two charged in deaths of illegal immigrants in truck \n",
            " truth: 6 pred: 7\n",
            "1/1 [==============================] - 0s 45ms/step\n",
            "Two men accused of smuggling a semitrailer truck full of illegal Mexican immigrants across the border were charged with murder Sunday in the deaths of two of the passengers. \n",
            " truth: 6 pred: 7\n",
            "1/1 [==============================] - 0s 41ms/step\n",
            "2 truckers are charged in deaths of illegal aliens \n",
            " truth: 6 pred: 7\n",
            "1/1 [==============================] - 0s 50ms/step\n",
            " After a 12-hour journey, the immigrants poured out of the 53-foot trailer exhausted and dehydrated at a truck stop. \n",
            " truth: 8 pred: 9\n",
            "1/1 [==============================] - 0s 50ms/step\n",
            "2 ARE FOUND DEAD IN TRUCK HAULING ILLEGAL IMMIGRANTS \n",
            " truth: 8 pred: 9\n",
            "1/1 [==============================] - 0s 56ms/step\n",
            "Two bodies were found in a tractor-trailer Saturday that had apparently hauled dozens of illegal immigrants for several hours in 90-degree heat, police said. Several people were hospitalized for heat-related injuries. \n",
            " truth: 8 pred: 9\n",
            "1/1 [==============================] - 0s 63ms/step\n",
            "The driver and another man in the cab were taken into custody, Vinger said. \n",
            " truth: 6 pred: 7\n",
            "1/1 [==============================] - 0s 53ms/step\n",
            "\n",
            "At least 14 people were hospitalized for heat exhaustion and possible heat stroke. Authorities said at least five were in critical condition. It was about 96 degrees Saturday afternoon in the Dallas area. \n",
            " truth: 8 pred: 9\n",
            "1/1 [==============================] - 0s 54ms/step\n",
            "Moving? Tell the INS     Aliens must report within 10 days - or else \n",
            " truth: 5 pred: 7\n",
            "1/1 [==============================] - 0s 55ms/step\n",
            "Margie McHugh, executive director of the New York Immigration Coalition, said the program seems misdirected because the federal agency already has a huge backlog of address changes \n",
            " truth: 1 pred: 2\n",
            "1/1 [==============================] - 0s 60ms/step\n",
            "\n",
            "Raids sow fear, resentment in immigrant neighborhood; U.S. agents, looking for illegal residents, terrorists and other criminals, have scooped up Pakistanis in a South Phila. area. \n",
            " truth: 9 pred: 7\n",
            "1/1 [==============================] - 0s 52ms/step\n",
            "\"But most of these people aren't doing anything wrong. They're just here trying to work.\" \n",
            " truth: 9 pred: 12\n",
            "1/1 [==============================] - 0s 50ms/step\n",
            "High-Tech Firms Oppose Major Immigration Cuts; Entry for Skilled Technicians Is Defended \n",
            " truth: 0 pred: 1\n",
            "1/1 [==============================] - 0s 52ms/step\n",
            "separating the issues of legal and illegal immigration \n",
            " truth: 4 pred: 5\n",
            "1/1 [==============================] - 0s 52ms/step\n",
            "New rules for driver's licenses will begin \n",
            " truth: 5 pred: 6\n",
            "1/1 [==============================] - 0s 59ms/step\n",
            "LA GUNMAN WAS NEARLY DEPORTED IN '96; BUT YEAR LATER HE GAINED RESIDENCY THROUGH WIFE \n",
            " truth: 6 pred: 7\n",
            "1/1 [==============================] - 0s 46ms/step\n",
            "L.A. Airport Shooting Was Planned, Investigators Say; Officials Believe Egyptian Immigrant Acted Alone \n",
            " truth: 6 pred: 7\n",
            "1/1 [==============================] - 0s 63ms/step\n",
            "FBI investigators said Friday that the gunman who went on a rampage inside Los Angeles International Airport on July 4 was an Egyptian immigrant living in Southern California who had no criminal history or known ties to terrorist groups but apparently planned the attack in advance. \n",
            " truth: 6 pred: 7\n",
            "1/1 [==============================] - 0s 52ms/step\n",
            "MEXICO SAYS FEWER MIGRANTS ARE DYING WHILE TRYING TO CROSS THE U.S. BORDER \n",
            " truth: 8 pred: 9\n",
            "1/1 [==============================] - 0s 46ms/step\n",
            "Saddam Hussein's stepson will likely be deported back to New Zealand after his arrest on immigration charges, federal authorities said. \n",
            " truth: 6 pred: 7\n",
            "1/1 [==============================] - 0s 45ms/step\n",
            "According to the INS, the Iraqi leader's stepson was traveling as a tourist and had not applied for a student visa that would have allowed him to take courses. \n",
            " truth: 4 pred: 5\n",
            "1/1 [==============================] - 0s 46ms/step\n",
            "There was no evidence that Saffi was connected to any terrorist group \n",
            " truth: 7 pred: 8\n",
            "1/1 [==============================] - 0s 49ms/step\n",
            "INS says Hussein stepson is arrested \n",
            " truth: 7 pred: 7\n",
            "1/1 [==============================] - 0s 87ms/step\n",
            "INS launches Web site to track students with visas \n",
            " truth: 5 pred: 5\n",
            "1/1 [==============================] - 0s 83ms/step\n",
            "Arrests target illegal workers, some in Phila. \n",
            " truth: 6 pred: 7\n",
            "1/1 [==============================] - 0s 74ms/step\n",
            "Officials said the arrests, which began Wednesday, were meant to target illegal foreign workers, although there was no immediate explanation why the FBI was involved. \n",
            " truth: 6 pred: 7\n",
            "1/1 [==============================] - 0s 74ms/step\n",
            "The Embassy of Pakistan sent a formal request for more information yesterday to the U.S. Department of Justice, along with an expression of concern about the arrests, said Asad Hayauddin, the embassy press attache. (The Justice Department oversees the INS and FBI.) \n",
            " truth: 13 pred: 7\n",
            "1/1 [==============================] - 0s 89ms/step\n",
            "Initial reports yesterday said the operation was conducted in Philadelphia, Pittsburgh and Atlanta. Subsequent reports said sweeps also occurred in Alabama, Georgia, North Carolina and South Carolina. Although federal officials have said the number of people placed in custody is several dozen, it was unclear yesterday how many of them were from the Philadelphia area. \n",
            " truth: 6 pred: 7\n",
            "1/1 [==============================] - 0s 80ms/step\n",
            "SUPREME COURT WILL HEAR CASE CENTERED ON RIGHTS OF IMMIGRANTS \n",
            " truth: 4 pred: 5\n",
            "1/1 [==============================] - 0s 83ms/step\n",
            "Court Allows Closed Immigration Hearings to Continue \n",
            " truth: 4 pred: 5\n",
            "1/1 [==============================] - 0s 81ms/step\n",
            " the high court blocked an order to immediately open the hearings. That order was issued last month by a federal judge who had ruled that the closed hearings were unconstitutional. \n",
            " truth: 4 pred: 5\n",
            "1/1 [==============================] - 0s 76ms/step\n",
            "LOGIC FOREIGN TO U.S. IMMIGRATION \n",
            " truth: 5 pred: 6\n",
            "1/1 [==============================] - 0s 78ms/step\n",
            "Immigrant health benefits \n",
            " truth: 8 pred: 9\n",
            "1/1 [==============================] - 0s 77ms/step\n",
            "The Immigrants And the Suburbs \n",
            " truth: 14 pred: 11\n",
            "1/1 [==============================] - 0s 78ms/step\n",
            "Immigrants without visas re-arrested \n",
            " truth: 6 pred: 7\n",
            "1/1 [==============================] - 0s 93ms/step\n",
            "For years, foreigners arrested in the United States for overstaying their visas have often been let go with a promise that they leave the country. Not surprising, many never did leave. \n",
            " truth: 6 pred: 7\n",
            "1/1 [==============================] - 0s 83ms/step\n",
            "For the past six months, however, the government has been quietly re-arresting many of these \"absconders\" on a U.S. Justice Department list about 1,000 names long. \n",
            " truth: 6 pred: 7\n",
            "1/1 [==============================] - 0s 73ms/step\n",
            "As of Friday, 708 of the approximately 1,000 people on the government list had been arrested under what is being called the Alien Absconder Apprehension Initiative, INS official Nancy Cohen said. \n",
            " truth: 6 pred: 7\n"
          ]
        }
      ]
    },
    {
      "cell_type": "markdown",
      "source": [
        "### Model4 created torch.nn model\n",
        "\n",
        "** https://towardsdatascience.com/multiclass-text-classification-using-lstm-in-pytorch-eac56baed8df"
      ],
      "metadata": {
        "id": "uvR-46CnQlSb"
      }
    },
    {
      "cell_type": "code",
      "source": [
        "# from datasets import Dataset\n",
        "import pandas as pd\n",
        "\n",
        "df = pd.read_csv(f'{dir}Official/MFC_prepared.csv', usecols=[\"code_frames\", \"annotations\"], header=0)\n",
        "df.code_frames = df.code_frames.astype(int)\n",
        "\n",
        "label_dict = {}\n",
        "for x in range(15):\n",
        "    label_dict[x+1] = x\n",
        "\n",
        "label_dict\n",
        "df['label'] = df['code_frames'].apply(lambda x: label_dict[x])\n",
        "df"
      ],
      "metadata": {
        "colab": {
          "base_uri": "https://localhost:8080/",
          "height": 423
        },
        "id": "y-bksxhQSqcZ",
        "outputId": "26c74c6a-4734-470d-cc7d-71219c0c60f4"
      },
      "execution_count": 28,
      "outputs": [
        {
          "output_type": "execute_result",
          "data": {
            "text/plain": [
              "       code_frames                                        annotations  label\n",
              "0               10  Immigrants without HOPE need help entering col...      9\n",
              "1                5  But in the eyes of the law, he is an illegal i...      4\n",
              "2               15            Reaction to Tancredo, Lamm as predicted     14\n",
              "3               13  That, said the congressman, is what always hap...     12\n",
              "4                1                                  $50,000 per entry      0\n",
              "...            ...                                                ...    ...\n",
              "46794           11                 Smoking is becoming a social taboo     10\n",
              "46795            5   Nor does it aid lawyers seeking novel ways to...      4\n",
              "46796           15                                   'Ashes to Ashes'     14\n",
              "46797           15          SMOKE SCREEN IS SEEN BEHIND THE SMOKELESS     14\n",
              "46798            1             CIGARETTE MAKERS AND THE PUBLIC HEALTH      0\n",
              "\n",
              "[46799 rows x 3 columns]"
            ],
            "text/html": [
              "\n",
              "  <div id=\"df-cf921296-64af-4cb7-9c55-dec1f64b2678\">\n",
              "    <div class=\"colab-df-container\">\n",
              "      <div>\n",
              "<style scoped>\n",
              "    .dataframe tbody tr th:only-of-type {\n",
              "        vertical-align: middle;\n",
              "    }\n",
              "\n",
              "    .dataframe tbody tr th {\n",
              "        vertical-align: top;\n",
              "    }\n",
              "\n",
              "    .dataframe thead th {\n",
              "        text-align: right;\n",
              "    }\n",
              "</style>\n",
              "<table border=\"1\" class=\"dataframe\">\n",
              "  <thead>\n",
              "    <tr style=\"text-align: right;\">\n",
              "      <th></th>\n",
              "      <th>code_frames</th>\n",
              "      <th>annotations</th>\n",
              "      <th>label</th>\n",
              "    </tr>\n",
              "  </thead>\n",
              "  <tbody>\n",
              "    <tr>\n",
              "      <th>0</th>\n",
              "      <td>10</td>\n",
              "      <td>Immigrants without HOPE need help entering col...</td>\n",
              "      <td>9</td>\n",
              "    </tr>\n",
              "    <tr>\n",
              "      <th>1</th>\n",
              "      <td>5</td>\n",
              "      <td>But in the eyes of the law, he is an illegal i...</td>\n",
              "      <td>4</td>\n",
              "    </tr>\n",
              "    <tr>\n",
              "      <th>2</th>\n",
              "      <td>15</td>\n",
              "      <td>Reaction to Tancredo, Lamm as predicted</td>\n",
              "      <td>14</td>\n",
              "    </tr>\n",
              "    <tr>\n",
              "      <th>3</th>\n",
              "      <td>13</td>\n",
              "      <td>That, said the congressman, is what always hap...</td>\n",
              "      <td>12</td>\n",
              "    </tr>\n",
              "    <tr>\n",
              "      <th>4</th>\n",
              "      <td>1</td>\n",
              "      <td>$50,000 per entry</td>\n",
              "      <td>0</td>\n",
              "    </tr>\n",
              "    <tr>\n",
              "      <th>...</th>\n",
              "      <td>...</td>\n",
              "      <td>...</td>\n",
              "      <td>...</td>\n",
              "    </tr>\n",
              "    <tr>\n",
              "      <th>46794</th>\n",
              "      <td>11</td>\n",
              "      <td>Smoking is becoming a social taboo</td>\n",
              "      <td>10</td>\n",
              "    </tr>\n",
              "    <tr>\n",
              "      <th>46795</th>\n",
              "      <td>5</td>\n",
              "      <td>Nor does it aid lawyers seeking novel ways to...</td>\n",
              "      <td>4</td>\n",
              "    </tr>\n",
              "    <tr>\n",
              "      <th>46796</th>\n",
              "      <td>15</td>\n",
              "      <td>'Ashes to Ashes'</td>\n",
              "      <td>14</td>\n",
              "    </tr>\n",
              "    <tr>\n",
              "      <th>46797</th>\n",
              "      <td>15</td>\n",
              "      <td>SMOKE SCREEN IS SEEN BEHIND THE SMOKELESS</td>\n",
              "      <td>14</td>\n",
              "    </tr>\n",
              "    <tr>\n",
              "      <th>46798</th>\n",
              "      <td>1</td>\n",
              "      <td>CIGARETTE MAKERS AND THE PUBLIC HEALTH</td>\n",
              "      <td>0</td>\n",
              "    </tr>\n",
              "  </tbody>\n",
              "</table>\n",
              "<p>46799 rows × 3 columns</p>\n",
              "</div>\n",
              "      <button class=\"colab-df-convert\" onclick=\"convertToInteractive('df-cf921296-64af-4cb7-9c55-dec1f64b2678')\"\n",
              "              title=\"Convert this dataframe to an interactive table.\"\n",
              "              style=\"display:none;\">\n",
              "        \n",
              "  <svg xmlns=\"http://www.w3.org/2000/svg\" height=\"24px\"viewBox=\"0 0 24 24\"\n",
              "       width=\"24px\">\n",
              "    <path d=\"M0 0h24v24H0V0z\" fill=\"none\"/>\n",
              "    <path d=\"M18.56 5.44l.94 2.06.94-2.06 2.06-.94-2.06-.94-.94-2.06-.94 2.06-2.06.94zm-11 1L8.5 8.5l.94-2.06 2.06-.94-2.06-.94L8.5 2.5l-.94 2.06-2.06.94zm10 10l.94 2.06.94-2.06 2.06-.94-2.06-.94-.94-2.06-.94 2.06-2.06.94z\"/><path d=\"M17.41 7.96l-1.37-1.37c-.4-.4-.92-.59-1.43-.59-.52 0-1.04.2-1.43.59L10.3 9.45l-7.72 7.72c-.78.78-.78 2.05 0 2.83L4 21.41c.39.39.9.59 1.41.59.51 0 1.02-.2 1.41-.59l7.78-7.78 2.81-2.81c.8-.78.8-2.07 0-2.86zM5.41 20L4 18.59l7.72-7.72 1.47 1.35L5.41 20z\"/>\n",
              "  </svg>\n",
              "      </button>\n",
              "      \n",
              "  <style>\n",
              "    .colab-df-container {\n",
              "      display:flex;\n",
              "      flex-wrap:wrap;\n",
              "      gap: 12px;\n",
              "    }\n",
              "\n",
              "    .colab-df-convert {\n",
              "      background-color: #E8F0FE;\n",
              "      border: none;\n",
              "      border-radius: 50%;\n",
              "      cursor: pointer;\n",
              "      display: none;\n",
              "      fill: #1967D2;\n",
              "      height: 32px;\n",
              "      padding: 0 0 0 0;\n",
              "      width: 32px;\n",
              "    }\n",
              "\n",
              "    .colab-df-convert:hover {\n",
              "      background-color: #E2EBFA;\n",
              "      box-shadow: 0px 1px 2px rgba(60, 64, 67, 0.3), 0px 1px 3px 1px rgba(60, 64, 67, 0.15);\n",
              "      fill: #174EA6;\n",
              "    }\n",
              "\n",
              "    [theme=dark] .colab-df-convert {\n",
              "      background-color: #3B4455;\n",
              "      fill: #D2E3FC;\n",
              "    }\n",
              "\n",
              "    [theme=dark] .colab-df-convert:hover {\n",
              "      background-color: #434B5C;\n",
              "      box-shadow: 0px 1px 3px 1px rgba(0, 0, 0, 0.15);\n",
              "      filter: drop-shadow(0px 1px 2px rgba(0, 0, 0, 0.3));\n",
              "      fill: #FFFFFF;\n",
              "    }\n",
              "  </style>\n",
              "\n",
              "      <script>\n",
              "        const buttonEl =\n",
              "          document.querySelector('#df-cf921296-64af-4cb7-9c55-dec1f64b2678 button.colab-df-convert');\n",
              "        buttonEl.style.display =\n",
              "          google.colab.kernel.accessAllowed ? 'block' : 'none';\n",
              "\n",
              "        async function convertToInteractive(key) {\n",
              "          const element = document.querySelector('#df-cf921296-64af-4cb7-9c55-dec1f64b2678');\n",
              "          const dataTable =\n",
              "            await google.colab.kernel.invokeFunction('convertToInteractive',\n",
              "                                                     [key], {});\n",
              "          if (!dataTable) return;\n",
              "\n",
              "          const docLinkHtml = 'Like what you see? Visit the ' +\n",
              "            '<a target=\"_blank\" href=https://colab.research.google.com/notebooks/data_table.ipynb>data table notebook</a>'\n",
              "            + ' to learn more about interactive tables.';\n",
              "          element.innerHTML = '';\n",
              "          dataTable['output_type'] = 'display_data';\n",
              "          await google.colab.output.renderOutput(dataTable, element);\n",
              "          const docLink = document.createElement('div');\n",
              "          docLink.innerHTML = docLinkHtml;\n",
              "          element.appendChild(docLink);\n",
              "        }\n",
              "      </script>\n",
              "    </div>\n",
              "  </div>\n",
              "  "
            ]
          },
          "metadata": {},
          "execution_count": 28
        }
      ]
    },
    {
      "cell_type": "code",
      "source": [
        "df_2 = df.copy()\n",
        "df_2['annotations_length'] = df_2['annotations'].apply(lambda x: len(x.split()))\n"
      ],
      "metadata": {
        "id": "FjKrqYXhSwkL"
      },
      "execution_count": 29,
      "outputs": []
    },
    {
      "cell_type": "code",
      "source": [
        "np.mean(df_2['annotations_length'])"
      ],
      "metadata": {
        "colab": {
          "base_uri": "https://localhost:8080/"
        },
        "id": "sfuYhj9xS6Ak",
        "outputId": "6eae84cf-e37a-4571-cd8b-5e3d8f119894"
      },
      "execution_count": 30,
      "outputs": [
        {
          "output_type": "execute_result",
          "data": {
            "text/plain": [
              "18.55368704459497"
            ]
          },
          "metadata": {},
          "execution_count": 30
        }
      ]
    },
    {
      "cell_type": "code",
      "source": [
        "df_2= df_2.drop(['code_frames', 'annotations_length'], axis=1)\n",
        "df_2"
      ],
      "metadata": {
        "colab": {
          "base_uri": "https://localhost:8080/",
          "height": 423
        },
        "id": "n7z0L3oZo7d5",
        "outputId": "839c1cd7-6221-4dc0-c68e-45a3cd7a7dea"
      },
      "execution_count": 31,
      "outputs": [
        {
          "output_type": "execute_result",
          "data": {
            "text/plain": [
              "                                             annotations  label\n",
              "0      Immigrants without HOPE need help entering col...      9\n",
              "1      But in the eyes of the law, he is an illegal i...      4\n",
              "2                Reaction to Tancredo, Lamm as predicted     14\n",
              "3      That, said the congressman, is what always hap...     12\n",
              "4                                      $50,000 per entry      0\n",
              "...                                                  ...    ...\n",
              "46794                 Smoking is becoming a social taboo     10\n",
              "46795   Nor does it aid lawyers seeking novel ways to...      4\n",
              "46796                                   'Ashes to Ashes'     14\n",
              "46797          SMOKE SCREEN IS SEEN BEHIND THE SMOKELESS     14\n",
              "46798             CIGARETTE MAKERS AND THE PUBLIC HEALTH      0\n",
              "\n",
              "[46799 rows x 2 columns]"
            ],
            "text/html": [
              "\n",
              "  <div id=\"df-e8d8f048-d2f3-4b67-be5f-603cfc64b506\">\n",
              "    <div class=\"colab-df-container\">\n",
              "      <div>\n",
              "<style scoped>\n",
              "    .dataframe tbody tr th:only-of-type {\n",
              "        vertical-align: middle;\n",
              "    }\n",
              "\n",
              "    .dataframe tbody tr th {\n",
              "        vertical-align: top;\n",
              "    }\n",
              "\n",
              "    .dataframe thead th {\n",
              "        text-align: right;\n",
              "    }\n",
              "</style>\n",
              "<table border=\"1\" class=\"dataframe\">\n",
              "  <thead>\n",
              "    <tr style=\"text-align: right;\">\n",
              "      <th></th>\n",
              "      <th>annotations</th>\n",
              "      <th>label</th>\n",
              "    </tr>\n",
              "  </thead>\n",
              "  <tbody>\n",
              "    <tr>\n",
              "      <th>0</th>\n",
              "      <td>Immigrants without HOPE need help entering col...</td>\n",
              "      <td>9</td>\n",
              "    </tr>\n",
              "    <tr>\n",
              "      <th>1</th>\n",
              "      <td>But in the eyes of the law, he is an illegal i...</td>\n",
              "      <td>4</td>\n",
              "    </tr>\n",
              "    <tr>\n",
              "      <th>2</th>\n",
              "      <td>Reaction to Tancredo, Lamm as predicted</td>\n",
              "      <td>14</td>\n",
              "    </tr>\n",
              "    <tr>\n",
              "      <th>3</th>\n",
              "      <td>That, said the congressman, is what always hap...</td>\n",
              "      <td>12</td>\n",
              "    </tr>\n",
              "    <tr>\n",
              "      <th>4</th>\n",
              "      <td>$50,000 per entry</td>\n",
              "      <td>0</td>\n",
              "    </tr>\n",
              "    <tr>\n",
              "      <th>...</th>\n",
              "      <td>...</td>\n",
              "      <td>...</td>\n",
              "    </tr>\n",
              "    <tr>\n",
              "      <th>46794</th>\n",
              "      <td>Smoking is becoming a social taboo</td>\n",
              "      <td>10</td>\n",
              "    </tr>\n",
              "    <tr>\n",
              "      <th>46795</th>\n",
              "      <td>Nor does it aid lawyers seeking novel ways to...</td>\n",
              "      <td>4</td>\n",
              "    </tr>\n",
              "    <tr>\n",
              "      <th>46796</th>\n",
              "      <td>'Ashes to Ashes'</td>\n",
              "      <td>14</td>\n",
              "    </tr>\n",
              "    <tr>\n",
              "      <th>46797</th>\n",
              "      <td>SMOKE SCREEN IS SEEN BEHIND THE SMOKELESS</td>\n",
              "      <td>14</td>\n",
              "    </tr>\n",
              "    <tr>\n",
              "      <th>46798</th>\n",
              "      <td>CIGARETTE MAKERS AND THE PUBLIC HEALTH</td>\n",
              "      <td>0</td>\n",
              "    </tr>\n",
              "  </tbody>\n",
              "</table>\n",
              "<p>46799 rows × 2 columns</p>\n",
              "</div>\n",
              "      <button class=\"colab-df-convert\" onclick=\"convertToInteractive('df-e8d8f048-d2f3-4b67-be5f-603cfc64b506')\"\n",
              "              title=\"Convert this dataframe to an interactive table.\"\n",
              "              style=\"display:none;\">\n",
              "        \n",
              "  <svg xmlns=\"http://www.w3.org/2000/svg\" height=\"24px\"viewBox=\"0 0 24 24\"\n",
              "       width=\"24px\">\n",
              "    <path d=\"M0 0h24v24H0V0z\" fill=\"none\"/>\n",
              "    <path d=\"M18.56 5.44l.94 2.06.94-2.06 2.06-.94-2.06-.94-.94-2.06-.94 2.06-2.06.94zm-11 1L8.5 8.5l.94-2.06 2.06-.94-2.06-.94L8.5 2.5l-.94 2.06-2.06.94zm10 10l.94 2.06.94-2.06 2.06-.94-2.06-.94-.94-2.06-.94 2.06-2.06.94z\"/><path d=\"M17.41 7.96l-1.37-1.37c-.4-.4-.92-.59-1.43-.59-.52 0-1.04.2-1.43.59L10.3 9.45l-7.72 7.72c-.78.78-.78 2.05 0 2.83L4 21.41c.39.39.9.59 1.41.59.51 0 1.02-.2 1.41-.59l7.78-7.78 2.81-2.81c.8-.78.8-2.07 0-2.86zM5.41 20L4 18.59l7.72-7.72 1.47 1.35L5.41 20z\"/>\n",
              "  </svg>\n",
              "      </button>\n",
              "      \n",
              "  <style>\n",
              "    .colab-df-container {\n",
              "      display:flex;\n",
              "      flex-wrap:wrap;\n",
              "      gap: 12px;\n",
              "    }\n",
              "\n",
              "    .colab-df-convert {\n",
              "      background-color: #E8F0FE;\n",
              "      border: none;\n",
              "      border-radius: 50%;\n",
              "      cursor: pointer;\n",
              "      display: none;\n",
              "      fill: #1967D2;\n",
              "      height: 32px;\n",
              "      padding: 0 0 0 0;\n",
              "      width: 32px;\n",
              "    }\n",
              "\n",
              "    .colab-df-convert:hover {\n",
              "      background-color: #E2EBFA;\n",
              "      box-shadow: 0px 1px 2px rgba(60, 64, 67, 0.3), 0px 1px 3px 1px rgba(60, 64, 67, 0.15);\n",
              "      fill: #174EA6;\n",
              "    }\n",
              "\n",
              "    [theme=dark] .colab-df-convert {\n",
              "      background-color: #3B4455;\n",
              "      fill: #D2E3FC;\n",
              "    }\n",
              "\n",
              "    [theme=dark] .colab-df-convert:hover {\n",
              "      background-color: #434B5C;\n",
              "      box-shadow: 0px 1px 3px 1px rgba(0, 0, 0, 0.15);\n",
              "      filter: drop-shadow(0px 1px 2px rgba(0, 0, 0, 0.3));\n",
              "      fill: #FFFFFF;\n",
              "    }\n",
              "  </style>\n",
              "\n",
              "      <script>\n",
              "        const buttonEl =\n",
              "          document.querySelector('#df-e8d8f048-d2f3-4b67-be5f-603cfc64b506 button.colab-df-convert');\n",
              "        buttonEl.style.display =\n",
              "          google.colab.kernel.accessAllowed ? 'block' : 'none';\n",
              "\n",
              "        async function convertToInteractive(key) {\n",
              "          const element = document.querySelector('#df-e8d8f048-d2f3-4b67-be5f-603cfc64b506');\n",
              "          const dataTable =\n",
              "            await google.colab.kernel.invokeFunction('convertToInteractive',\n",
              "                                                     [key], {});\n",
              "          if (!dataTable) return;\n",
              "\n",
              "          const docLinkHtml = 'Like what you see? Visit the ' +\n",
              "            '<a target=\"_blank\" href=https://colab.research.google.com/notebooks/data_table.ipynb>data table notebook</a>'\n",
              "            + ' to learn more about interactive tables.';\n",
              "          element.innerHTML = '';\n",
              "          dataTable['output_type'] = 'display_data';\n",
              "          await google.colab.output.renderOutput(dataTable, element);\n",
              "          const docLink = document.createElement('div');\n",
              "          docLink.innerHTML = docLinkHtml;\n",
              "          element.appendChild(docLink);\n",
              "        }\n",
              "      </script>\n",
              "    </div>\n",
              "  </div>\n",
              "  "
            ]
          },
          "metadata": {},
          "execution_count": 31
        }
      ]
    },
    {
      "cell_type": "code",
      "source": [
        "#tokenization\n",
        "tok = spacy.load('en_core_web_sm')\n",
        "def tokenize (text):\n",
        "    text = re.sub(r\"[^\\x00-\\x7F]+\", \" \", text)\n",
        "    regex = re.compile('[' + re.escape(string.punctuation) + '0-9\\\\r\\\\t\\\\n]') # remove punctuation and numbers\n",
        "    nopunct = regex.sub(\" \", text.lower())\n",
        "    return [token.text for token in tok.tokenizer(nopunct)]"
      ],
      "metadata": {
        "id": "XgRSIYASVEWJ"
      },
      "execution_count": 32,
      "outputs": []
    },
    {
      "cell_type": "code",
      "source": [
        "#count number of occurences of each word\n",
        "counts = Counter()\n",
        "for index, row in df_2.iterrows():\n",
        "    counts.update(tokenize(row['annotations']))\n",
        "    \n",
        "#deleting infrequent words\n",
        "print(\"num_words before:\",len(counts.keys()))\n",
        "\n",
        "for word in list(counts):\n",
        "    if counts[word] < 3:\n",
        "        del counts[word]\n",
        "print(\"num_words after:\",len(counts.keys()))\n"
      ],
      "metadata": {
        "colab": {
          "base_uri": "https://localhost:8080/"
        },
        "id": "c2JNWc8KVdxk",
        "outputId": "d772af1a-6875-4205-dd69-0737b224eed5"
      },
      "execution_count": 70,
      "outputs": [
        {
          "output_type": "stream",
          "name": "stdout",
          "text": [
            "num_words before: 28683\n",
            "num_words after: 13550\n"
          ]
        }
      ]
    },
    {
      "cell_type": "code",
      "source": [
        "#creating vocabulary\n",
        "vocab2index = {\"\":0, \"UNK\":1}\n",
        "words = [\"\", \"UNK\"]\n",
        "for word in counts:\n",
        "    vocab2index[word] = len(words)\n",
        "    words.append(word)"
      ],
      "metadata": {
        "id": "y0pBErGsVyxm"
      },
      "execution_count": 71,
      "outputs": []
    },
    {
      "cell_type": "code",
      "source": [
        "def encode_sentence(text, vocab2index, N=70):\n",
        "    tokenized = tokenize(text)\n",
        "    encoded = np.zeros(N, dtype=int)\n",
        "    enc1 = np.array([vocab2index.get(word, vocab2index[\"UNK\"]) for word in tokenized])\n",
        "    length = min(N, len(enc1))\n",
        "    encoded[:length] = enc1[:length]\n",
        "    return encoded, length"
      ],
      "metadata": {
        "id": "fW5IdAa-V2lz"
      },
      "execution_count": 72,
      "outputs": []
    },
    {
      "cell_type": "code",
      "source": [
        "df_2['encoded'] = df_2['annotations'].apply(lambda x: np.array(encode_sentence(x,vocab2index )))\n",
        "df_2.head()"
      ],
      "metadata": {
        "colab": {
          "base_uri": "https://localhost:8080/",
          "height": 262
        },
        "id": "ne9wnorLV5CQ",
        "outputId": "383ab7c4-1097-4d64-bd19-d0edc841b919"
      },
      "execution_count": 73,
      "outputs": [
        {
          "output_type": "stream",
          "name": "stderr",
          "text": [
            "<ipython-input-73-d86d27090de5>:1: VisibleDeprecationWarning: Creating an ndarray from ragged nested sequences (which is a list-or-tuple of lists-or-tuples-or ndarrays with different lengths or shapes) is deprecated. If you meant to do this, you must specify 'dtype=object' when creating the ndarray.\n",
            "  df_2['encoded'] = df_2['annotations'].apply(lambda x: np.array(encode_sentence(x,vocab2index )))\n"
          ]
        },
        {
          "output_type": "execute_result",
          "data": {
            "text/plain": [
              "                                         annotations  label  \\\n",
              "0  Immigrants without HOPE need help entering col...      9   \n",
              "1  But in the eyes of the law, he is an illegal i...      4   \n",
              "2            Reaction to Tancredo, Lamm as predicted     14   \n",
              "3  That, said the congressman, is what always hap...     12   \n",
              "4                                  $50,000 per entry      0   \n",
              "\n",
              "                                             encoded  \n",
              "0  [[2, 3, 4, 5, 6, 7, 8, 0, 0, 0, 0, 0, 0, 0, 0,...  \n",
              "1  [[9, 10, 11, 12, 13, 11, 14, 15, 16, 17, 18, 1...  \n",
              "2  [[21, 22, 23, 15, 1, 24, 25, 0, 0, 0, 0, 0, 0,...  \n",
              "3  [[26, 15, 27, 11, 28, 15, 17, 29, 30, 31, 15, ...  \n",
              "4  [[42, 43, 44, 0, 0, 0, 0, 0, 0, 0, 0, 0, 0, 0,...  "
            ],
            "text/html": [
              "\n",
              "  <div id=\"df-19fd42a2-e950-4d96-a936-f380dfc98106\">\n",
              "    <div class=\"colab-df-container\">\n",
              "      <div>\n",
              "<style scoped>\n",
              "    .dataframe tbody tr th:only-of-type {\n",
              "        vertical-align: middle;\n",
              "    }\n",
              "\n",
              "    .dataframe tbody tr th {\n",
              "        vertical-align: top;\n",
              "    }\n",
              "\n",
              "    .dataframe thead th {\n",
              "        text-align: right;\n",
              "    }\n",
              "</style>\n",
              "<table border=\"1\" class=\"dataframe\">\n",
              "  <thead>\n",
              "    <tr style=\"text-align: right;\">\n",
              "      <th></th>\n",
              "      <th>annotations</th>\n",
              "      <th>label</th>\n",
              "      <th>encoded</th>\n",
              "    </tr>\n",
              "  </thead>\n",
              "  <tbody>\n",
              "    <tr>\n",
              "      <th>0</th>\n",
              "      <td>Immigrants without HOPE need help entering col...</td>\n",
              "      <td>9</td>\n",
              "      <td>[[2, 3, 4, 5, 6, 7, 8, 0, 0, 0, 0, 0, 0, 0, 0,...</td>\n",
              "    </tr>\n",
              "    <tr>\n",
              "      <th>1</th>\n",
              "      <td>But in the eyes of the law, he is an illegal i...</td>\n",
              "      <td>4</td>\n",
              "      <td>[[9, 10, 11, 12, 13, 11, 14, 15, 16, 17, 18, 1...</td>\n",
              "    </tr>\n",
              "    <tr>\n",
              "      <th>2</th>\n",
              "      <td>Reaction to Tancredo, Lamm as predicted</td>\n",
              "      <td>14</td>\n",
              "      <td>[[21, 22, 23, 15, 1, 24, 25, 0, 0, 0, 0, 0, 0,...</td>\n",
              "    </tr>\n",
              "    <tr>\n",
              "      <th>3</th>\n",
              "      <td>That, said the congressman, is what always hap...</td>\n",
              "      <td>12</td>\n",
              "      <td>[[26, 15, 27, 11, 28, 15, 17, 29, 30, 31, 15, ...</td>\n",
              "    </tr>\n",
              "    <tr>\n",
              "      <th>4</th>\n",
              "      <td>$50,000 per entry</td>\n",
              "      <td>0</td>\n",
              "      <td>[[42, 43, 44, 0, 0, 0, 0, 0, 0, 0, 0, 0, 0, 0,...</td>\n",
              "    </tr>\n",
              "  </tbody>\n",
              "</table>\n",
              "</div>\n",
              "      <button class=\"colab-df-convert\" onclick=\"convertToInteractive('df-19fd42a2-e950-4d96-a936-f380dfc98106')\"\n",
              "              title=\"Convert this dataframe to an interactive table.\"\n",
              "              style=\"display:none;\">\n",
              "        \n",
              "  <svg xmlns=\"http://www.w3.org/2000/svg\" height=\"24px\"viewBox=\"0 0 24 24\"\n",
              "       width=\"24px\">\n",
              "    <path d=\"M0 0h24v24H0V0z\" fill=\"none\"/>\n",
              "    <path d=\"M18.56 5.44l.94 2.06.94-2.06 2.06-.94-2.06-.94-.94-2.06-.94 2.06-2.06.94zm-11 1L8.5 8.5l.94-2.06 2.06-.94-2.06-.94L8.5 2.5l-.94 2.06-2.06.94zm10 10l.94 2.06.94-2.06 2.06-.94-2.06-.94-.94-2.06-.94 2.06-2.06.94z\"/><path d=\"M17.41 7.96l-1.37-1.37c-.4-.4-.92-.59-1.43-.59-.52 0-1.04.2-1.43.59L10.3 9.45l-7.72 7.72c-.78.78-.78 2.05 0 2.83L4 21.41c.39.39.9.59 1.41.59.51 0 1.02-.2 1.41-.59l7.78-7.78 2.81-2.81c.8-.78.8-2.07 0-2.86zM5.41 20L4 18.59l7.72-7.72 1.47 1.35L5.41 20z\"/>\n",
              "  </svg>\n",
              "      </button>\n",
              "      \n",
              "  <style>\n",
              "    .colab-df-container {\n",
              "      display:flex;\n",
              "      flex-wrap:wrap;\n",
              "      gap: 12px;\n",
              "    }\n",
              "\n",
              "    .colab-df-convert {\n",
              "      background-color: #E8F0FE;\n",
              "      border: none;\n",
              "      border-radius: 50%;\n",
              "      cursor: pointer;\n",
              "      display: none;\n",
              "      fill: #1967D2;\n",
              "      height: 32px;\n",
              "      padding: 0 0 0 0;\n",
              "      width: 32px;\n",
              "    }\n",
              "\n",
              "    .colab-df-convert:hover {\n",
              "      background-color: #E2EBFA;\n",
              "      box-shadow: 0px 1px 2px rgba(60, 64, 67, 0.3), 0px 1px 3px 1px rgba(60, 64, 67, 0.15);\n",
              "      fill: #174EA6;\n",
              "    }\n",
              "\n",
              "    [theme=dark] .colab-df-convert {\n",
              "      background-color: #3B4455;\n",
              "      fill: #D2E3FC;\n",
              "    }\n",
              "\n",
              "    [theme=dark] .colab-df-convert:hover {\n",
              "      background-color: #434B5C;\n",
              "      box-shadow: 0px 1px 3px 1px rgba(0, 0, 0, 0.15);\n",
              "      filter: drop-shadow(0px 1px 2px rgba(0, 0, 0, 0.3));\n",
              "      fill: #FFFFFF;\n",
              "    }\n",
              "  </style>\n",
              "\n",
              "      <script>\n",
              "        const buttonEl =\n",
              "          document.querySelector('#df-19fd42a2-e950-4d96-a936-f380dfc98106 button.colab-df-convert');\n",
              "        buttonEl.style.display =\n",
              "          google.colab.kernel.accessAllowed ? 'block' : 'none';\n",
              "\n",
              "        async function convertToInteractive(key) {\n",
              "          const element = document.querySelector('#df-19fd42a2-e950-4d96-a936-f380dfc98106');\n",
              "          const dataTable =\n",
              "            await google.colab.kernel.invokeFunction('convertToInteractive',\n",
              "                                                     [key], {});\n",
              "          if (!dataTable) return;\n",
              "\n",
              "          const docLinkHtml = 'Like what you see? Visit the ' +\n",
              "            '<a target=\"_blank\" href=https://colab.research.google.com/notebooks/data_table.ipynb>data table notebook</a>'\n",
              "            + ' to learn more about interactive tables.';\n",
              "          element.innerHTML = '';\n",
              "          dataTable['output_type'] = 'display_data';\n",
              "          await google.colab.output.renderOutput(dataTable, element);\n",
              "          const docLink = document.createElement('div');\n",
              "          docLink.innerHTML = docLinkHtml;\n",
              "          element.appendChild(docLink);\n",
              "        }\n",
              "      </script>\n",
              "    </div>\n",
              "  </div>\n",
              "  "
            ]
          },
          "metadata": {},
          "execution_count": 73
        }
      ]
    },
    {
      "cell_type": "code",
      "source": [
        "Counter(df_2['label'])"
      ],
      "metadata": {
        "colab": {
          "base_uri": "https://localhost:8080/"
        },
        "id": "FiOUg_wnWTvD",
        "outputId": "bccb149c-b85c-4e84-abd8-3a4ccbc56645"
      },
      "execution_count": 74,
      "outputs": [
        {
          "output_type": "execute_result",
          "data": {
            "text/plain": [
              "Counter({9: 1686,\n",
              "         4: 9690,\n",
              "         14: 1324,\n",
              "         12: 9812,\n",
              "         0: 3336,\n",
              "         6: 5039,\n",
              "         10: 2818,\n",
              "         7: 1122,\n",
              "         8: 2575,\n",
              "         13: 407,\n",
              "         3: 1187,\n",
              "         1: 254,\n",
              "         5: 3413,\n",
              "         2: 1486,\n",
              "         11: 2650})"
            ]
          },
          "metadata": {},
          "execution_count": 74
        }
      ]
    },
    {
      "cell_type": "code",
      "source": [
        "X = list(df_2['encoded'])\n",
        "y = list(df_2['label'])\n",
        "from sklearn.model_selection import train_test_split\n",
        "X_train, X_valid, y_train, y_valid = train_test_split(X, y, test_size=0.2, stratify=df_2['label'])"
      ],
      "metadata": {
        "id": "CVGaRneSWeBO"
      },
      "execution_count": 75,
      "outputs": []
    },
    {
      "cell_type": "code",
      "source": [
        "class customDataset(Dataset):\n",
        "    def __init__(self, X, Y):\n",
        "        self.X = X\n",
        "        self.y = Y\n",
        "        \n",
        "    def __len__(self):\n",
        "        return len(self.y)\n",
        "    \n",
        "    def __getitem__(self, idx):\n",
        "        return torch.from_numpy(self.X[idx][0].astype(np.int32)), self.y[idx], self.X[idx][1]"
      ],
      "metadata": {
        "id": "k3qO5n0ZWqBj"
      },
      "execution_count": 76,
      "outputs": []
    },
    {
      "cell_type": "code",
      "source": [
        "train_ds = customDataset(X_train, y_train)\n",
        "valid_ds = customDataset(X_valid, y_valid)"
      ],
      "metadata": {
        "id": "7tjmY6RAWzdt"
      },
      "execution_count": 77,
      "outputs": []
    },
    {
      "cell_type": "markdown",
      "source": [
        "#### train_model"
      ],
      "metadata": {
        "id": "iVvEi8RG-wdZ"
      }
    },
    {
      "cell_type": "code",
      "source": [
        "def train_model(model, epochs=10, lr=0.001):\n",
        "    parameters = filter(lambda p: p.requires_grad, model.parameters())\n",
        "    optimizer = torch.optim.Adam(parameters, lr=lr)\n",
        "    for i in range(epochs):\n",
        "        model.train()\n",
        "        sum_loss = 0.0\n",
        "        total = 0\n",
        "        for x, y, l in train_dl:\n",
        "            x = x.long()\n",
        "            y = y.long()\n",
        "            y_pred = model(x, l)\n",
        "            optimizer.zero_grad()\n",
        "            loss = F.cross_entropy(y_pred, y)\n",
        "            loss.backward()\n",
        "            optimizer.step()\n",
        "            sum_loss += loss.item()*y.shape[0]\n",
        "            total += y.shape[0]\n",
        "        val_loss, val_acc, val_rmse = validation_metrics(model, val_dl)\n",
        "        # if i % 5 == 1:\n",
        "        print(\"Epoch %d/%d: train loss %.3f, val loss %.3f, val accuracy %.3f, and val rmse %.3f\" % (i+1,epochs,sum_loss/total, val_loss, val_acc, val_rmse))\n",
        "\n",
        "def validation_metrics (model, valid_dl):\n",
        "    model.eval()\n",
        "    correct = 0\n",
        "    total = 0\n",
        "    sum_loss = 0.0\n",
        "    sum_rmse = 0.0\n",
        "    for x, y, l in valid_dl:\n",
        "        x = x.long()\n",
        "        y = y.long()\n",
        "        y_hat = model(x, l)\n",
        "        loss = F.cross_entropy(y_hat, y)\n",
        "        pred = torch.max(y_hat, 1)[1]\n",
        "        correct += (pred == y).float().sum()\n",
        "        total += y.shape[0]\n",
        "        sum_loss += loss.item()*y.shape[0]\n",
        "        sum_rmse += np.sqrt(mean_squared_error(pred, y.unsqueeze(-1)))*y.shape[0]\n",
        "    return sum_loss/total, correct/total, sum_rmse/total"
      ],
      "metadata": {
        "id": "BKEv3EQxXHLz"
      },
      "execution_count": 78,
      "outputs": []
    },
    {
      "cell_type": "code",
      "source": [
        "batch_size = 5000\n",
        "vocab_size = len(words)\n",
        "train_dl = DataLoader(train_ds, batch_size=batch_size, shuffle=True)\n",
        "val_dl = DataLoader(valid_ds, batch_size=batch_size)"
      ],
      "metadata": {
        "id": "e59CMNNWXSWz"
      },
      "execution_count": 79,
      "outputs": []
    },
    {
      "cell_type": "code",
      "source": [
        "def load_glove_vectors(glove_file=f\"{dir}glove.6B/glove.6B.50d.txt\"):\n",
        "    \"\"\"Load the glove word vectors\"\"\"\n",
        "    word_vectors = {}\n",
        "    with open(glove_file, 'r', encoding='UTF-8') as f:\n",
        "        for line in f:\n",
        "            split = line.split()\n",
        "            word_vectors[split[0]] = np.array([float(x) for x in split[1:]])\n",
        "    return word_vectors"
      ],
      "metadata": {
        "id": "X4lsw0OIXnWG"
      },
      "execution_count": 80,
      "outputs": []
    },
    {
      "cell_type": "code",
      "source": [
        "def get_emb_matrix(pretrained, word_counts, emb_size = 50):\n",
        "    \"\"\" Creates embedding matrix from word vectors\"\"\"\n",
        "    vocab_size = len(word_counts) + 2\n",
        "    vocab_to_idx = {}\n",
        "    vocab = [\"\", \"UNK\"]\n",
        "    W = np.zeros((vocab_size, emb_size), dtype=\"float32\")\n",
        "    W[0] = np.zeros(emb_size, dtype='float32') # adding a vector for padding\n",
        "    W[1] = np.random.uniform(-0.25, 0.25, emb_size) # adding a vector for unknown words \n",
        "    vocab_to_idx[\"UNK\"] = 1\n",
        "    i = 2\n",
        "    for word in word_counts:\n",
        "        if word in word_vecs:\n",
        "            W[i] = word_vecs[word]\n",
        "        else:\n",
        "            W[i] = np.random.uniform(-0.25,0.25, emb_size)\n",
        "        vocab_to_idx[word] = i\n",
        "        vocab.append(word)\n",
        "        i += 1   \n",
        "    return W, np.array(vocab), vocab_to_idx"
      ],
      "metadata": {
        "id": "2PscyybNX0wO"
      },
      "execution_count": 81,
      "outputs": []
    },
    {
      "cell_type": "code",
      "source": [
        "word_vecs = load_glove_vectors()\n",
        "pretrained_weights, vocab, vocab2index = get_emb_matrix(word_vecs, counts)"
      ],
      "metadata": {
        "id": "7gMDjx4-X-Yn"
      },
      "execution_count": 82,
      "outputs": []
    },
    {
      "cell_type": "code",
      "source": [
        "class LSTM_glove_vecs(torch.nn.Module) :\n",
        "    def __init__(self, vocab_size, embedding_dim, hidden_dim, glove_weights) :\n",
        "        super().__init__()\n",
        "        self.embeddings = nn.Embedding(vocab_size, embedding_dim, padding_idx=0)\n",
        "        self.embeddings.weight.data.copy_(torch.from_numpy(glove_weights))\n",
        "        self.embeddings.weight.requires_grad = False ## freeze embeddings\n",
        "        self.lstm = nn.LSTM(embedding_dim, hidden_dim, batch_first=True)\n",
        "        self.linear = nn.Linear(hidden_dim, 15)\n",
        "        self.dropout = nn.Dropout(0.2)\n",
        "        \n",
        "    def forward(self, x, l):\n",
        "        x = self.embeddings(x)\n",
        "        x = self.dropout(x)\n",
        "        lstm_out, (ht, ct) = self.lstm(x)\n",
        "        return self.linear(ht[-1])"
      ],
      "metadata": {
        "id": "MUyUbepmX-XY"
      },
      "execution_count": 83,
      "outputs": []
    },
    {
      "cell_type": "code",
      "source": [
        "model = LSTM_glove_vecs(vocab_size, 50, 50, pretrained_weights)"
      ],
      "metadata": {
        "id": "F2siYQeeYKOM"
      },
      "execution_count": 84,
      "outputs": []
    },
    {
      "cell_type": "markdown",
      "source": [
        "#### training"
      ],
      "metadata": {
        "id": "pGhMRlB4-zMK"
      }
    },
    {
      "cell_type": "code",
      "source": [
        "train_model(model, epochs=100, lr=0.01)"
      ],
      "metadata": {
        "colab": {
          "base_uri": "https://localhost:8080/"
        },
        "id": "YXOtrNyMZOm1",
        "outputId": "8335a26a-7b88-424e-f74d-1f2942227f92"
      },
      "execution_count": 89,
      "outputs": [
        {
          "output_type": "stream",
          "name": "stdout",
          "text": [
            "Epoch 1/100: train loss 1.387, val loss 1.293, val accuracy 0.607, and val rmse 3.277\n",
            "Epoch 2/100: train loss 1.281, val loss 1.252, val accuracy 0.626, and val rmse 3.327\n",
            "Epoch 3/100: train loss 1.243, val loss 1.238, val accuracy 0.627, and val rmse 3.339\n",
            "Epoch 4/100: train loss 1.218, val loss 1.214, val accuracy 0.631, and val rmse 3.284\n",
            "Epoch 5/100: train loss 1.195, val loss 1.200, val accuracy 0.641, and val rmse 3.224\n",
            "Epoch 6/100: train loss 1.185, val loss 1.193, val accuracy 0.640, and val rmse 3.274\n",
            "Epoch 7/100: train loss 1.170, val loss 1.183, val accuracy 0.643, and val rmse 3.165\n",
            "Epoch 8/100: train loss 1.160, val loss 1.172, val accuracy 0.643, and val rmse 3.204\n",
            "Epoch 9/100: train loss 1.149, val loss 1.169, val accuracy 0.646, and val rmse 3.175\n",
            "Epoch 10/100: train loss 1.145, val loss 1.159, val accuracy 0.650, and val rmse 3.162\n",
            "Epoch 11/100: train loss 1.134, val loss 1.162, val accuracy 0.648, and val rmse 3.133\n",
            "Epoch 12/100: train loss 1.126, val loss 1.148, val accuracy 0.650, and val rmse 3.104\n",
            "Epoch 13/100: train loss 1.115, val loss 1.140, val accuracy 0.653, and val rmse 3.150\n",
            "Epoch 14/100: train loss 1.108, val loss 1.133, val accuracy 0.659, and val rmse 3.155\n",
            "Epoch 15/100: train loss 1.101, val loss 1.132, val accuracy 0.660, and val rmse 3.200\n",
            "Epoch 16/100: train loss 1.091, val loss 1.126, val accuracy 0.659, and val rmse 3.116\n",
            "Epoch 17/100: train loss 1.081, val loss 1.121, val accuracy 0.659, and val rmse 3.122\n",
            "Epoch 18/100: train loss 1.074, val loss 1.116, val accuracy 0.662, and val rmse 3.188\n",
            "Epoch 19/100: train loss 1.064, val loss 1.109, val accuracy 0.662, and val rmse 3.089\n",
            "Epoch 20/100: train loss 1.061, val loss 1.111, val accuracy 0.660, and val rmse 3.108\n",
            "Epoch 21/100: train loss 1.054, val loss 1.102, val accuracy 0.662, and val rmse 3.103\n",
            "Epoch 22/100: train loss 1.046, val loss 1.093, val accuracy 0.668, and val rmse 3.169\n",
            "Epoch 23/100: train loss 1.041, val loss 1.091, val accuracy 0.666, and val rmse 3.130\n",
            "Epoch 24/100: train loss 1.032, val loss 1.089, val accuracy 0.665, and val rmse 3.122\n",
            "Epoch 25/100: train loss 1.028, val loss 1.087, val accuracy 0.665, and val rmse 3.142\n",
            "Epoch 26/100: train loss 1.025, val loss 1.078, val accuracy 0.672, and val rmse 3.151\n",
            "Epoch 27/100: train loss 1.021, val loss 1.078, val accuracy 0.667, and val rmse 3.129\n",
            "Epoch 28/100: train loss 1.016, val loss 1.075, val accuracy 0.669, and val rmse 3.060\n",
            "Epoch 29/100: train loss 1.014, val loss 1.072, val accuracy 0.670, and val rmse 3.052\n",
            "Epoch 30/100: train loss 1.007, val loss 1.077, val accuracy 0.672, and val rmse 3.106\n",
            "Epoch 31/100: train loss 1.006, val loss 1.069, val accuracy 0.673, and val rmse 3.155\n",
            "Epoch 32/100: train loss 0.998, val loss 1.061, val accuracy 0.670, and val rmse 3.134\n",
            "Epoch 33/100: train loss 0.990, val loss 1.065, val accuracy 0.673, and val rmse 3.131\n",
            "Epoch 34/100: train loss 0.987, val loss 1.063, val accuracy 0.677, and val rmse 3.164\n",
            "Epoch 35/100: train loss 0.979, val loss 1.055, val accuracy 0.676, and val rmse 3.096\n",
            "Epoch 36/100: train loss 0.975, val loss 1.054, val accuracy 0.680, and val rmse 3.179\n",
            "Epoch 37/100: train loss 0.973, val loss 1.062, val accuracy 0.674, and val rmse 3.096\n",
            "Epoch 38/100: train loss 0.968, val loss 1.053, val accuracy 0.679, and val rmse 3.089\n",
            "Epoch 39/100: train loss 0.962, val loss 1.054, val accuracy 0.676, and val rmse 3.131\n",
            "Epoch 40/100: train loss 0.967, val loss 1.055, val accuracy 0.674, and val rmse 3.113\n",
            "Epoch 41/100: train loss 0.968, val loss 1.053, val accuracy 0.679, and val rmse 3.158\n",
            "Epoch 42/100: train loss 0.961, val loss 1.052, val accuracy 0.675, and val rmse 3.193\n",
            "Epoch 43/100: train loss 0.955, val loss 1.050, val accuracy 0.677, and val rmse 3.095\n",
            "Epoch 44/100: train loss 0.951, val loss 1.044, val accuracy 0.679, and val rmse 3.141\n",
            "Epoch 45/100: train loss 0.948, val loss 1.048, val accuracy 0.684, and val rmse 3.140\n",
            "Epoch 46/100: train loss 0.941, val loss 1.042, val accuracy 0.682, and val rmse 3.110\n",
            "Epoch 47/100: train loss 0.948, val loss 1.039, val accuracy 0.680, and val rmse 3.067\n",
            "Epoch 48/100: train loss 0.941, val loss 1.046, val accuracy 0.682, and val rmse 3.145\n",
            "Epoch 49/100: train loss 0.935, val loss 1.045, val accuracy 0.678, and val rmse 3.103\n",
            "Epoch 50/100: train loss 0.936, val loss 1.042, val accuracy 0.681, and val rmse 3.061\n",
            "Epoch 51/100: train loss 0.936, val loss 1.047, val accuracy 0.682, and val rmse 3.130\n",
            "Epoch 52/100: train loss 0.933, val loss 1.045, val accuracy 0.682, and val rmse 3.193\n",
            "Epoch 53/100: train loss 0.928, val loss 1.042, val accuracy 0.682, and val rmse 3.107\n",
            "Epoch 54/100: train loss 0.926, val loss 1.037, val accuracy 0.679, and val rmse 3.114\n",
            "Epoch 55/100: train loss 0.926, val loss 1.042, val accuracy 0.678, and val rmse 3.146\n",
            "Epoch 56/100: train loss 0.927, val loss 1.046, val accuracy 0.682, and val rmse 3.136\n",
            "Epoch 57/100: train loss 0.925, val loss 1.040, val accuracy 0.678, and val rmse 3.092\n",
            "Epoch 58/100: train loss 0.924, val loss 1.040, val accuracy 0.680, and val rmse 3.113\n",
            "Epoch 59/100: train loss 0.920, val loss 1.038, val accuracy 0.683, and val rmse 3.170\n",
            "Epoch 60/100: train loss 0.915, val loss 1.036, val accuracy 0.682, and val rmse 3.116\n",
            "Epoch 61/100: train loss 0.916, val loss 1.036, val accuracy 0.683, and val rmse 3.104\n",
            "Epoch 62/100: train loss 0.912, val loss 1.041, val accuracy 0.677, and val rmse 3.173\n",
            "Epoch 63/100: train loss 0.910, val loss 1.042, val accuracy 0.684, and val rmse 3.117\n",
            "Epoch 64/100: train loss 0.909, val loss 1.031, val accuracy 0.679, and val rmse 3.107\n",
            "Epoch 65/100: train loss 0.906, val loss 1.042, val accuracy 0.677, and val rmse 3.147\n",
            "Epoch 66/100: train loss 0.913, val loss 1.033, val accuracy 0.683, and val rmse 3.140\n",
            "Epoch 67/100: train loss 0.900, val loss 1.046, val accuracy 0.677, and val rmse 3.120\n",
            "Epoch 68/100: train loss 0.904, val loss 1.044, val accuracy 0.679, and val rmse 3.243\n",
            "Epoch 69/100: train loss 0.903, val loss 1.042, val accuracy 0.678, and val rmse 3.110\n",
            "Epoch 70/100: train loss 0.901, val loss 1.038, val accuracy 0.682, and val rmse 3.172\n",
            "Epoch 71/100: train loss 0.903, val loss 1.034, val accuracy 0.680, and val rmse 3.151\n",
            "Epoch 72/100: train loss 0.894, val loss 1.039, val accuracy 0.684, and val rmse 3.172\n",
            "Epoch 73/100: train loss 0.897, val loss 1.042, val accuracy 0.679, and val rmse 3.126\n",
            "Epoch 74/100: train loss 0.891, val loss 1.041, val accuracy 0.682, and val rmse 3.163\n",
            "Epoch 75/100: train loss 0.893, val loss 1.034, val accuracy 0.683, and val rmse 3.131\n",
            "Epoch 76/100: train loss 0.893, val loss 1.030, val accuracy 0.685, and val rmse 3.074\n",
            "Epoch 77/100: train loss 0.886, val loss 1.034, val accuracy 0.685, and val rmse 3.180\n",
            "Epoch 78/100: train loss 0.888, val loss 1.025, val accuracy 0.681, and val rmse 3.095\n",
            "Epoch 79/100: train loss 0.880, val loss 1.030, val accuracy 0.685, and val rmse 3.166\n",
            "Epoch 80/100: train loss 0.886, val loss 1.029, val accuracy 0.682, and val rmse 3.104\n",
            "Epoch 81/100: train loss 0.883, val loss 1.034, val accuracy 0.685, and val rmse 3.202\n",
            "Epoch 82/100: train loss 0.883, val loss 1.028, val accuracy 0.685, and val rmse 3.113\n",
            "Epoch 83/100: train loss 0.882, val loss 1.031, val accuracy 0.685, and val rmse 3.136\n",
            "Epoch 84/100: train loss 0.880, val loss 1.028, val accuracy 0.688, and val rmse 3.144\n",
            "Epoch 85/100: train loss 0.876, val loss 1.036, val accuracy 0.685, and val rmse 3.074\n",
            "Epoch 86/100: train loss 0.874, val loss 1.036, val accuracy 0.686, and val rmse 3.098\n",
            "Epoch 87/100: train loss 0.876, val loss 1.026, val accuracy 0.688, and val rmse 3.076\n",
            "Epoch 88/100: train loss 0.871, val loss 1.033, val accuracy 0.688, and val rmse 3.093\n",
            "Epoch 89/100: train loss 0.870, val loss 1.034, val accuracy 0.682, and val rmse 3.054\n",
            "Epoch 90/100: train loss 0.871, val loss 1.028, val accuracy 0.689, and val rmse 3.082\n",
            "Epoch 91/100: train loss 0.863, val loss 1.034, val accuracy 0.686, and val rmse 3.092\n",
            "Epoch 92/100: train loss 0.868, val loss 1.030, val accuracy 0.684, and val rmse 3.079\n",
            "Epoch 93/100: train loss 0.866, val loss 1.038, val accuracy 0.685, and val rmse 3.113\n",
            "Epoch 94/100: train loss 0.866, val loss 1.036, val accuracy 0.685, and val rmse 3.091\n",
            "Epoch 95/100: train loss 0.866, val loss 1.030, val accuracy 0.687, and val rmse 3.095\n",
            "Epoch 96/100: train loss 0.867, val loss 1.036, val accuracy 0.685, and val rmse 3.072\n",
            "Epoch 97/100: train loss 0.867, val loss 1.030, val accuracy 0.682, and val rmse 3.057\n",
            "Epoch 98/100: train loss 0.865, val loss 1.030, val accuracy 0.689, and val rmse 3.124\n",
            "Epoch 99/100: train loss 0.861, val loss 1.019, val accuracy 0.686, and val rmse 3.086\n",
            "Epoch 100/100: train loss 0.858, val loss 1.031, val accuracy 0.684, and val rmse 3.101\n"
          ]
        }
      ]
    },
    {
      "cell_type": "code",
      "source": [
        "# Epoch 30/30: train loss 1.228, val loss 1.209, val accuracy 0.631, and val rmse 3.312\n",
        "# Epoch 100/100: train loss 0.858, val loss 1.031, val accuracy 0.684, and val rmse 3.101"
      ],
      "metadata": {
        "id": "5KmbnSB5SfYC"
      },
      "execution_count": null,
      "outputs": []
    },
    {
      "cell_type": "code",
      "source": [
        "torch.save(model.state_dict(), f'{dir}LSTM_model')\n",
        "# https://pytorch.org/tutorials/beginner/saving_loading_models.html"
      ],
      "metadata": {
        "id": "X_gDoDhycUGN"
      },
      "execution_count": 90,
      "outputs": []
    },
    {
      "cell_type": "code",
      "source": [
        "text = 'Immigrants without HOPE need help entering college'\n",
        "df_2.annotations[0], '9'\n",
        "\n",
        "# y_pred = model(x, l)\n",
        "#  text -> enncode -> ds -> dl -> predict"
      ],
      "metadata": {
        "id": "Q6fdwnEISdbE"
      },
      "execution_count": null,
      "outputs": []
    },
    {
      "cell_type": "code",
      "source": [
        "encoded_text = np.array(encode_sentence(text,vocab2index ))\n",
        "x,l = encoded_text\n",
        "x = torch.from_numpy(x.astype(np.int32)).long()\n",
        "model(x,l)"
      ],
      "metadata": {
        "colab": {
          "base_uri": "https://localhost:8080/"
        },
        "id": "13uibcl1BseV",
        "outputId": "bcc8ac14-3346-499b-fc93-b6770ace0ef6"
      },
      "execution_count": 125,
      "outputs": [
        {
          "output_type": "stream",
          "name": "stderr",
          "text": [
            "<ipython-input-125-08a7c4cecc0b>:1: VisibleDeprecationWarning: Creating an ndarray from ragged nested sequences (which is a list-or-tuple of lists-or-tuples-or ndarrays with different lengths or shapes) is deprecated. If you meant to do this, you must specify 'dtype=object' when creating the ndarray.\n",
            "  encoded_text = np.array(encode_sentence(text,vocab2index ))\n"
          ]
        },
        {
          "output_type": "execute_result",
          "data": {
            "text/plain": [
              "tensor([ 0.5939,  1.5913, -2.8517, -0.6758,  1.7557, -0.7119, -1.3342, -0.8125,\n",
              "        -0.2294,  4.1930,  0.0908, -0.9462, -2.0648, -0.7570, -0.0934],\n",
              "       grad_fn=<AddBackward0>)"
            ]
          },
          "metadata": {},
          "execution_count": 125
        }
      ]
    },
    {
      "cell_type": "markdown",
      "source": [
        "# Model GRU"
      ],
      "metadata": {
        "id": "Mz1tuwdfaumm"
      }
    },
    {
      "cell_type": "code",
      "source": [
        "import numpy as np \n",
        "import pandas as pd\n",
        "from keras.preprocessing.text import Tokenizer\n",
        "from keras.utils import pad_sequences\n",
        "from keras.models import Sequential\n",
        "from keras.layers import Dense, Embedding, GRU, SpatialDropout1D\n",
        "from sklearn.model_selection import train_test_split\n",
        "from keras.utils.np_utils import to_categorical\n",
        "from keras.callbacks import EarlyStopping\n",
        "from keras.layers import Dropout\n",
        "import re"
      ],
      "metadata": {
        "id": "5lT57jFPa7bQ"
      },
      "execution_count": 192,
      "outputs": []
    },
    {
      "cell_type": "code",
      "source": [
        "# The maximum number of words to be used. (most frequent)\n",
        "MAX_NB_WORDS = 20000\n",
        "# Max number of words in each complaint.\n",
        "MAX_SEQUENCE_LENGTH = 128\n",
        "# This is fixed.\n",
        "EMBEDDING_DIM = 100"
      ],
      "metadata": {
        "id": "pb9vZpmga1t3"
      },
      "execution_count": 193,
      "outputs": []
    },
    {
      "cell_type": "code",
      "source": [
        "tokenizer = Tokenizer(num_words=MAX_NB_WORDS, filters='!\"#$%&()*+,-./:;<=>?@[\\]^_`{|}~', lower=True)\n",
        "tokenizer.fit_on_texts(df['annotations'].values)\n",
        "word_index = tokenizer.word_index\n",
        "print('Found %s unique tokens.' % len(word_index))"
      ],
      "metadata": {
        "colab": {
          "base_uri": "https://localhost:8080/"
        },
        "id": "-wlmfQIqbDcH",
        "outputId": "41888c6d-516e-4a16-b5f2-b70a7f7a778f"
      },
      "execution_count": 194,
      "outputs": [
        {
          "output_type": "stream",
          "name": "stdout",
          "text": [
            "Found 34612 unique tokens.\n"
          ]
        }
      ]
    },
    {
      "cell_type": "code",
      "source": [
        "X = tokenizer.texts_to_sequences(df['annotations'].values)\n",
        "X = pad_sequences(X, maxlen=MAX_SEQUENCE_LENGTH)\n",
        "\n",
        "print('Shape of data tensor:', X.shape)\n",
        "\n",
        "Y = pd.get_dummies(df['label']).values\n",
        "print('Shape of label tensor:', Y.shape)"
      ],
      "metadata": {
        "colab": {
          "base_uri": "https://localhost:8080/"
        },
        "id": "BUl8QMZ2bFv7",
        "outputId": "559f2f52-e60c-4ccb-f9a2-2b676c193974"
      },
      "execution_count": 195,
      "outputs": [
        {
          "output_type": "stream",
          "name": "stdout",
          "text": [
            "Shape of data tensor: (46799, 128)\n",
            "Shape of label tensor: (46799, 15)\n"
          ]
        }
      ]
    },
    {
      "cell_type": "code",
      "source": [
        "X_train, X_test, Y_train, Y_test = train_test_split(X,Y, \n",
        "                                                    test_size = 0.15, \n",
        "                                                    random_state = 42, \n",
        "                                                    stratify=df.label.values)\n",
        "print(X_train.shape,Y_train.shape)\n",
        "print(X_test.shape,Y_test.shape)"
      ],
      "metadata": {
        "colab": {
          "base_uri": "https://localhost:8080/"
        },
        "id": "nTH2ZzRAbOHu",
        "outputId": "9e625dc0-1aab-4c82-c4a1-85c2455d2b2d"
      },
      "execution_count": 196,
      "outputs": [
        {
          "output_type": "stream",
          "name": "stdout",
          "text": [
            "(39779, 128) (39779, 15)\n",
            "(7020, 128) (7020, 15)\n"
          ]
        }
      ]
    },
    {
      "cell_type": "code",
      "source": [
        "embeddings_index = {}\n",
        "f = open(f'{dir}glove.6B/glove.6B.100d.txt')\n",
        "for line in f:\n",
        "    values = line.split()\n",
        "    word = values[0]\n",
        "    coefs = np.asarray(values[1:], dtype='float32')\n",
        "    embeddings_index[word] = coefs\n",
        "f.close()\n",
        "\n",
        "print('Found %s word vectors.' % len(embeddings_index))\n",
        "\n",
        "embedding_matrix = np.zeros((len(word_index) + 1, EMBEDDING_DIM))\n",
        "for word, i in word_index.items():\n",
        "    embedding_vector = embeddings_index.get(word)\n",
        "    if embedding_vector is not None:\n",
        "        # words not found in embedding index will be all-zeros.\n",
        "        embedding_matrix[i] = embedding_vector"
      ],
      "metadata": {
        "id": "AvcLyKhJboM6"
      },
      "execution_count": null,
      "outputs": []
    },
    {
      "cell_type": "code",
      "source": [
        "model_gru = Sequential()\n",
        "model_gru.add(Embedding(len(word_index) + 1, \n",
        "                        EMBEDDING_DIM, \n",
        "                        weights=[embedding_matrix], \n",
        "                        input_length=X.shape[1], \n",
        "                        trainable=False))\n",
        "model_gru.add(SpatialDropout1D(0.2))\n",
        "model_gru.add(GRU(128, return_sequences = False))\n",
        "model_gru.add(Dropout(0.2))\n",
        "model_gru.add(Dense(15, activation = 'softmax'))\n",
        "model_gru.compile(loss='categorical_crossentropy', optimizer='adam', metrics=['accuracy'])\n",
        "print(model_gru.summary())"
      ],
      "metadata": {
        "id": "x3yZYAnMKmgn"
      },
      "execution_count": null,
      "outputs": []
    },
    {
      "cell_type": "code",
      "source": [
        "epochs = 10\n",
        "batch_size = 32\n",
        "\n",
        "frames_gru = model_gru.fit(X_train, Y_train, epochs=epochs, batch_size=batch_size,validation_split=0.1,callbacks=[EarlyStopping(monitor='val_loss', patience=3, min_delta=0.0001)])\n"
      ],
      "metadata": {
        "id": "hb2fgdhoKpOT"
      },
      "execution_count": null,
      "outputs": []
    },
    {
      "cell_type": "code",
      "source": [
        "accr = model_gru.evaluate(X_test,Y_test)\n",
        "print('Test set\\n  Loss: {:0.3f}\\n  Accuracy: {:0.3f}'.format(accr[0],accr[1]))"
      ],
      "metadata": {
        "id": "y53tQgXrP6sM"
      },
      "execution_count": null,
      "outputs": []
    },
    {
      "cell_type": "code",
      "source": [
        "model_gru.save(f'{dir}GRU-keras-model')"
      ],
      "metadata": {
        "id": "caNBhXzZwtZP"
      },
      "execution_count": null,
      "outputs": []
    }
  ]
}