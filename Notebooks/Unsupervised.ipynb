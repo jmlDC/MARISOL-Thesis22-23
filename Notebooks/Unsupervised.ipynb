{
  "nbformat": 4,
  "nbformat_minor": 0,
  "metadata": {
    "colab": {
      "provenance": [],
      "toc_visible": true,
      "authorship_tag": "ABX9TyM3YwW7K8N2jlqeVx5yM/SG",
      "include_colab_link": true
    },
    "kernelspec": {
      "name": "python3",
      "display_name": "Python 3"
    },
    "language_info": {
      "name": "python"
    }
  },
  "cells": [
    {
      "cell_type": "markdown",
      "metadata": {
        "id": "view-in-github",
        "colab_type": "text"
      },
      "source": [
        "<a href=\"https://colab.research.google.com/github/jmlDC/MediaBias-Thesis22-23/blob/PostAnnotation/Notebooks/Unsupervised.ipynb\" target=\"_parent\"><img src=\"https://colab.research.google.com/assets/colab-badge.svg\" alt=\"Open In Colab\"/></a>"
      ]
    },
    {
      "cell_type": "markdown",
      "source": [
        "# Install"
      ],
      "metadata": {
        "id": "Xc2oz4PvdVTe"
      }
    },
    {
      "cell_type": "code",
      "source": [
        "!pip install pyLDAvis -qq\n",
        "!pip install -U jax -qq\n",
        "!pip install -U gensim -qq\n",
        "!pip install spacy -qq\n",
        "!pip install matplotlib -qq\n",
        "!pip install seaborn -qq\n",
        "!python -m spacy download en_core_web_md -qq\n",
        "!pip install --upgrade numpy -qq\n",
        "!pip install --upgrade google-colab numba tensorflow -qq"
      ],
      "metadata": {
        "colab": {
          "base_uri": "https://localhost:8080/"
        },
        "id": "aMj6JbkUdQJg",
        "outputId": "ea14bfcb-7f33-4731-b764-26405f2a1afa"
      },
      "execution_count": 1,
      "outputs": [
        {
          "output_type": "stream",
          "name": "stdout",
          "text": [
            "\u001b[31mERROR: pip's dependency resolver does not currently take into account all the packages that are installed. This behaviour is the source of the following dependency conflicts.\n",
            "google-colab 1.0.0 requires pandas==1.5.3, but you have pandas 2.1.1 which is incompatible.\u001b[0m\u001b[31m\n",
            "\u001b[0m2023-09-26 02:55:44.269382: I tensorflow/core/platform/cpu_feature_guard.cc:182] This TensorFlow binary is optimized to use available CPU instructions in performance-critical operations.\n",
            "To enable the following instructions: AVX2 FMA, in other operations, rebuild TensorFlow with the appropriate compiler flags.\n",
            "2023-09-26 02:55:46.164967: W tensorflow/compiler/tf2tensorrt/utils/py_utils.cc:38] TF-TRT Warning: Could not find TensorRT\n",
            "\u001b[2K     \u001b[90m━━━━━━━━━━━━━━━━━━━━━━━━━━━━━━━━━━━━━━━━\u001b[0m \u001b[32m42.8/42.8 MB\u001b[0m \u001b[31m13.4 MB/s\u001b[0m eta \u001b[36m0:00:00\u001b[0m\n",
            "\u001b[?25h\u001b[38;5;2m✔ Download and installation successful\u001b[0m\n",
            "You can now load the package via spacy.load('en_core_web_md')\n",
            "\u001b[31mERROR: pip's dependency resolver does not currently take into account all the packages that are installed. This behaviour is the source of the following dependency conflicts.\n",
            "numba 0.58.0 requires numpy<1.26,>=1.21, but you have numpy 1.26.0 which is incompatible.\n",
            "tensorflow 2.13.0 requires numpy<=1.24.3,>=1.22, but you have numpy 1.26.0 which is incompatible.\u001b[0m\u001b[31m\n",
            "\u001b[0m\u001b[31mERROR: pip's dependency resolver does not currently take into account all the packages that are installed. This behaviour is the source of the following dependency conflicts.\n",
            "pyldavis 3.4.1 requires pandas>=2.0.0, but you have pandas 1.5.3 which is incompatible.\u001b[0m\u001b[31m\n",
            "\u001b[0m"
          ]
        }
      ]
    },
    {
      "cell_type": "markdown",
      "source": [
        "# Import\n"
      ],
      "metadata": {
        "id": "46LubFKfdxRt"
      }
    },
    {
      "cell_type": "code",
      "source": [
        "import pandas as pd\n",
        "import matplotlib.pyplot as plt\n",
        "import spacy\n",
        "import seaborn as sns\n",
        "sns.set()\n",
        "import pyLDAvis.gensim_models\n",
        "pyLDAvis.enable_notebook() # Visualise inside a notebook\n",
        "import en_core_web_md\n",
        "from gensim.corpora.dictionary import Dictionary\n",
        "from gensim.models import LdaMulticore\n",
        "from gensim.models import CoherenceModel\n",
        "from gensim.test.utils import datapath\n",
        "from gensim import  models\n",
        "from spacy import displacy"
      ],
      "metadata": {
        "id": "S61HNzyTdUH8"
      },
      "execution_count": 30,
      "outputs": []
    },
    {
      "cell_type": "code",
      "source": [
        "import warnings\n",
        "warnings.filterwarnings(\"ignore\", category=DeprecationWarning)"
      ],
      "metadata": {
        "id": "tEkP7tffLXfF",
        "colab": {
          "base_uri": "https://localhost:8080/"
        },
        "outputId": "e3d07e4b-1b5a-4347-abf7-23fcda7ee924"
      },
      "execution_count": 3,
      "outputs": [
        {
          "output_type": "stream",
          "name": "stderr",
          "text": [
            "/usr/local/lib/python3.10/dist-packages/ipykernel/ipkernel.py:283: DeprecationWarning: `should_run_async` will not call `transform_cell` automatically in the future. Please pass the result to `transformed_cell` argument and any exception that happen during thetransform in `preprocessing_exc_tuple` in IPython 7.17 and above.\n",
            "  and should_run_async(code)\n"
          ]
        }
      ]
    },
    {
      "cell_type": "markdown",
      "source": [
        "# Mounting Gdrive"
      ],
      "metadata": {
        "id": "cOELWSLEdXkl"
      }
    },
    {
      "cell_type": "code",
      "execution_count": 4,
      "metadata": {
        "id": "Y2zHf4UnXKRr",
        "colab": {
          "base_uri": "https://localhost:8080/"
        },
        "outputId": "ea5fe6ab-149d-4f96-b510-e7f55f3079fc"
      },
      "outputs": [
        {
          "output_type": "stream",
          "name": "stdout",
          "text": [
            "Mounted at /content/drive\n"
          ]
        }
      ],
      "source": [
        "from google.colab import drive\n",
        "drive.mount('/content/drive')"
      ]
    },
    {
      "cell_type": "code",
      "source": [
        "dir  = \"/content/drive/MyDrive/THESIS-MS/MediaBias-Thesis22-23/\"\n",
        "dir_actual = \"/content/drive/MyDrive/THESIS-MS/MediaBias-Thesis22-23/dataset/annotators raw CSV/Actual/\""
      ],
      "metadata": {
        "id": "cBj3-yDqXNHK"
      },
      "execution_count": 5,
      "outputs": []
    },
    {
      "cell_type": "markdown",
      "source": [
        "# Dataset prep"
      ],
      "metadata": {
        "id": "X450_Naodaaz"
      }
    },
    {
      "cell_type": "code",
      "source": [
        "mfc = pd.read_csv(f'{dir}dataset/Extracted-News-May5-7/MFC_prepared.csv', usecols=[\"code_frames\", \"annotations\"], header=0)\n",
        "mfc.rename(columns = {'annotations':'Text'}, inplace = True)\n",
        "\n",
        "mfc"
      ],
      "metadata": {
        "colab": {
          "base_uri": "https://localhost:8080/",
          "height": 423
        },
        "id": "AYQ1jD1UXlBa",
        "outputId": "14e36230-6584-499e-8078-598075fb8423"
      },
      "execution_count": 6,
      "outputs": [
        {
          "output_type": "execute_result",
          "data": {
            "text/plain": [
              "       code_frames                                               Text\n",
              "0             10.0  Immigrants without HOPE need help entering col...\n",
              "1              5.0  But in the eyes of the law, he is an illegal i...\n",
              "2             15.0            Reaction to Tancredo, Lamm as predicted\n",
              "3             13.0  That, said the congressman, is what always hap...\n",
              "4              1.0                                  $50,000 per entry\n",
              "...            ...                                                ...\n",
              "46794         11.0                 Smoking is becoming a social taboo\n",
              "46795          5.0   Nor does it aid lawyers seeking novel ways to...\n",
              "46796         15.0                                   'Ashes to Ashes'\n",
              "46797         15.0          SMOKE SCREEN IS SEEN BEHIND THE SMOKELESS\n",
              "46798          1.0             CIGARETTE MAKERS AND THE PUBLIC HEALTH\n",
              "\n",
              "[46799 rows x 2 columns]"
            ],
            "text/html": [
              "\n",
              "  <div id=\"df-9fc780dc-a55a-4098-9537-c8a944962795\" class=\"colab-df-container\">\n",
              "    <div>\n",
              "<style scoped>\n",
              "    .dataframe tbody tr th:only-of-type {\n",
              "        vertical-align: middle;\n",
              "    }\n",
              "\n",
              "    .dataframe tbody tr th {\n",
              "        vertical-align: top;\n",
              "    }\n",
              "\n",
              "    .dataframe thead th {\n",
              "        text-align: right;\n",
              "    }\n",
              "</style>\n",
              "<table border=\"1\" class=\"dataframe\">\n",
              "  <thead>\n",
              "    <tr style=\"text-align: right;\">\n",
              "      <th></th>\n",
              "      <th>code_frames</th>\n",
              "      <th>Text</th>\n",
              "    </tr>\n",
              "  </thead>\n",
              "  <tbody>\n",
              "    <tr>\n",
              "      <th>0</th>\n",
              "      <td>10.0</td>\n",
              "      <td>Immigrants without HOPE need help entering col...</td>\n",
              "    </tr>\n",
              "    <tr>\n",
              "      <th>1</th>\n",
              "      <td>5.0</td>\n",
              "      <td>But in the eyes of the law, he is an illegal i...</td>\n",
              "    </tr>\n",
              "    <tr>\n",
              "      <th>2</th>\n",
              "      <td>15.0</td>\n",
              "      <td>Reaction to Tancredo, Lamm as predicted</td>\n",
              "    </tr>\n",
              "    <tr>\n",
              "      <th>3</th>\n",
              "      <td>13.0</td>\n",
              "      <td>That, said the congressman, is what always hap...</td>\n",
              "    </tr>\n",
              "    <tr>\n",
              "      <th>4</th>\n",
              "      <td>1.0</td>\n",
              "      <td>$50,000 per entry</td>\n",
              "    </tr>\n",
              "    <tr>\n",
              "      <th>...</th>\n",
              "      <td>...</td>\n",
              "      <td>...</td>\n",
              "    </tr>\n",
              "    <tr>\n",
              "      <th>46794</th>\n",
              "      <td>11.0</td>\n",
              "      <td>Smoking is becoming a social taboo</td>\n",
              "    </tr>\n",
              "    <tr>\n",
              "      <th>46795</th>\n",
              "      <td>5.0</td>\n",
              "      <td>Nor does it aid lawyers seeking novel ways to...</td>\n",
              "    </tr>\n",
              "    <tr>\n",
              "      <th>46796</th>\n",
              "      <td>15.0</td>\n",
              "      <td>'Ashes to Ashes'</td>\n",
              "    </tr>\n",
              "    <tr>\n",
              "      <th>46797</th>\n",
              "      <td>15.0</td>\n",
              "      <td>SMOKE SCREEN IS SEEN BEHIND THE SMOKELESS</td>\n",
              "    </tr>\n",
              "    <tr>\n",
              "      <th>46798</th>\n",
              "      <td>1.0</td>\n",
              "      <td>CIGARETTE MAKERS AND THE PUBLIC HEALTH</td>\n",
              "    </tr>\n",
              "  </tbody>\n",
              "</table>\n",
              "<p>46799 rows × 2 columns</p>\n",
              "</div>\n",
              "    <div class=\"colab-df-buttons\">\n",
              "\n",
              "  <div class=\"colab-df-container\">\n",
              "    <button class=\"colab-df-convert\" onclick=\"convertToInteractive('df-9fc780dc-a55a-4098-9537-c8a944962795')\"\n",
              "            title=\"Convert this dataframe to an interactive table.\"\n",
              "            style=\"display:none;\">\n",
              "\n",
              "  <svg xmlns=\"http://www.w3.org/2000/svg\" height=\"24px\" viewBox=\"0 -960 960 960\">\n",
              "    <path d=\"M120-120v-720h720v720H120Zm60-500h600v-160H180v160Zm220 220h160v-160H400v160Zm0 220h160v-160H400v160ZM180-400h160v-160H180v160Zm440 0h160v-160H620v160ZM180-180h160v-160H180v160Zm440 0h160v-160H620v160Z\"/>\n",
              "  </svg>\n",
              "    </button>\n",
              "\n",
              "  <style>\n",
              "    .colab-df-container {\n",
              "      display:flex;\n",
              "      gap: 12px;\n",
              "    }\n",
              "\n",
              "    .colab-df-convert {\n",
              "      background-color: #E8F0FE;\n",
              "      border: none;\n",
              "      border-radius: 50%;\n",
              "      cursor: pointer;\n",
              "      display: none;\n",
              "      fill: #1967D2;\n",
              "      height: 32px;\n",
              "      padding: 0 0 0 0;\n",
              "      width: 32px;\n",
              "    }\n",
              "\n",
              "    .colab-df-convert:hover {\n",
              "      background-color: #E2EBFA;\n",
              "      box-shadow: 0px 1px 2px rgba(60, 64, 67, 0.3), 0px 1px 3px 1px rgba(60, 64, 67, 0.15);\n",
              "      fill: #174EA6;\n",
              "    }\n",
              "\n",
              "    .colab-df-buttons div {\n",
              "      margin-bottom: 4px;\n",
              "    }\n",
              "\n",
              "    [theme=dark] .colab-df-convert {\n",
              "      background-color: #3B4455;\n",
              "      fill: #D2E3FC;\n",
              "    }\n",
              "\n",
              "    [theme=dark] .colab-df-convert:hover {\n",
              "      background-color: #434B5C;\n",
              "      box-shadow: 0px 1px 3px 1px rgba(0, 0, 0, 0.15);\n",
              "      filter: drop-shadow(0px 1px 2px rgba(0, 0, 0, 0.3));\n",
              "      fill: #FFFFFF;\n",
              "    }\n",
              "  </style>\n",
              "\n",
              "    <script>\n",
              "      const buttonEl =\n",
              "        document.querySelector('#df-9fc780dc-a55a-4098-9537-c8a944962795 button.colab-df-convert');\n",
              "      buttonEl.style.display =\n",
              "        google.colab.kernel.accessAllowed ? 'block' : 'none';\n",
              "\n",
              "      async function convertToInteractive(key) {\n",
              "        const element = document.querySelector('#df-9fc780dc-a55a-4098-9537-c8a944962795');\n",
              "        const dataTable =\n",
              "          await google.colab.kernel.invokeFunction('convertToInteractive',\n",
              "                                                    [key], {});\n",
              "        if (!dataTable) return;\n",
              "\n",
              "        const docLinkHtml = 'Like what you see? Visit the ' +\n",
              "          '<a target=\"_blank\" href=https://colab.research.google.com/notebooks/data_table.ipynb>data table notebook</a>'\n",
              "          + ' to learn more about interactive tables.';\n",
              "        element.innerHTML = '';\n",
              "        dataTable['output_type'] = 'display_data';\n",
              "        await google.colab.output.renderOutput(dataTable, element);\n",
              "        const docLink = document.createElement('div');\n",
              "        docLink.innerHTML = docLinkHtml;\n",
              "        element.appendChild(docLink);\n",
              "      }\n",
              "    </script>\n",
              "  </div>\n",
              "\n",
              "\n",
              "<div id=\"df-104110c3-4202-43a9-8c13-dd8a7d8619c7\">\n",
              "  <button class=\"colab-df-quickchart\" onclick=\"quickchart('df-104110c3-4202-43a9-8c13-dd8a7d8619c7')\"\n",
              "            title=\"Suggest charts.\"\n",
              "            style=\"display:none;\">\n",
              "\n",
              "<svg xmlns=\"http://www.w3.org/2000/svg\" height=\"24px\"viewBox=\"0 0 24 24\"\n",
              "     width=\"24px\">\n",
              "    <g>\n",
              "        <path d=\"M19 3H5c-1.1 0-2 .9-2 2v14c0 1.1.9 2 2 2h14c1.1 0 2-.9 2-2V5c0-1.1-.9-2-2-2zM9 17H7v-7h2v7zm4 0h-2V7h2v10zm4 0h-2v-4h2v4z\"/>\n",
              "    </g>\n",
              "</svg>\n",
              "  </button>\n",
              "\n",
              "<style>\n",
              "  .colab-df-quickchart {\n",
              "      --bg-color: #E8F0FE;\n",
              "      --fill-color: #1967D2;\n",
              "      --hover-bg-color: #E2EBFA;\n",
              "      --hover-fill-color: #174EA6;\n",
              "      --disabled-fill-color: #AAA;\n",
              "      --disabled-bg-color: #DDD;\n",
              "  }\n",
              "\n",
              "  [theme=dark] .colab-df-quickchart {\n",
              "      --bg-color: #3B4455;\n",
              "      --fill-color: #D2E3FC;\n",
              "      --hover-bg-color: #434B5C;\n",
              "      --hover-fill-color: #FFFFFF;\n",
              "      --disabled-bg-color: #3B4455;\n",
              "      --disabled-fill-color: #666;\n",
              "  }\n",
              "\n",
              "  .colab-df-quickchart {\n",
              "    background-color: var(--bg-color);\n",
              "    border: none;\n",
              "    border-radius: 50%;\n",
              "    cursor: pointer;\n",
              "    display: none;\n",
              "    fill: var(--fill-color);\n",
              "    height: 32px;\n",
              "    padding: 0;\n",
              "    width: 32px;\n",
              "  }\n",
              "\n",
              "  .colab-df-quickchart:hover {\n",
              "    background-color: var(--hover-bg-color);\n",
              "    box-shadow: 0 1px 2px rgba(60, 64, 67, 0.3), 0 1px 3px 1px rgba(60, 64, 67, 0.15);\n",
              "    fill: var(--button-hover-fill-color);\n",
              "  }\n",
              "\n",
              "  .colab-df-quickchart-complete:disabled,\n",
              "  .colab-df-quickchart-complete:disabled:hover {\n",
              "    background-color: var(--disabled-bg-color);\n",
              "    fill: var(--disabled-fill-color);\n",
              "    box-shadow: none;\n",
              "  }\n",
              "\n",
              "  .colab-df-spinner {\n",
              "    border: 2px solid var(--fill-color);\n",
              "    border-color: transparent;\n",
              "    border-bottom-color: var(--fill-color);\n",
              "    animation:\n",
              "      spin 1s steps(1) infinite;\n",
              "  }\n",
              "\n",
              "  @keyframes spin {\n",
              "    0% {\n",
              "      border-color: transparent;\n",
              "      border-bottom-color: var(--fill-color);\n",
              "      border-left-color: var(--fill-color);\n",
              "    }\n",
              "    20% {\n",
              "      border-color: transparent;\n",
              "      border-left-color: var(--fill-color);\n",
              "      border-top-color: var(--fill-color);\n",
              "    }\n",
              "    30% {\n",
              "      border-color: transparent;\n",
              "      border-left-color: var(--fill-color);\n",
              "      border-top-color: var(--fill-color);\n",
              "      border-right-color: var(--fill-color);\n",
              "    }\n",
              "    40% {\n",
              "      border-color: transparent;\n",
              "      border-right-color: var(--fill-color);\n",
              "      border-top-color: var(--fill-color);\n",
              "    }\n",
              "    60% {\n",
              "      border-color: transparent;\n",
              "      border-right-color: var(--fill-color);\n",
              "    }\n",
              "    80% {\n",
              "      border-color: transparent;\n",
              "      border-right-color: var(--fill-color);\n",
              "      border-bottom-color: var(--fill-color);\n",
              "    }\n",
              "    90% {\n",
              "      border-color: transparent;\n",
              "      border-bottom-color: var(--fill-color);\n",
              "    }\n",
              "  }\n",
              "</style>\n",
              "\n",
              "  <script>\n",
              "    async function quickchart(key) {\n",
              "      const quickchartButtonEl =\n",
              "        document.querySelector('#' + key + ' button');\n",
              "      quickchartButtonEl.disabled = true;  // To prevent multiple clicks.\n",
              "      quickchartButtonEl.classList.add('colab-df-spinner');\n",
              "      try {\n",
              "        const charts = await google.colab.kernel.invokeFunction(\n",
              "            'suggestCharts', [key], {});\n",
              "      } catch (error) {\n",
              "        console.error('Error during call to suggestCharts:', error);\n",
              "      }\n",
              "      quickchartButtonEl.classList.remove('colab-df-spinner');\n",
              "      quickchartButtonEl.classList.add('colab-df-quickchart-complete');\n",
              "    }\n",
              "    (() => {\n",
              "      let quickchartButtonEl =\n",
              "        document.querySelector('#df-104110c3-4202-43a9-8c13-dd8a7d8619c7 button');\n",
              "      quickchartButtonEl.style.display =\n",
              "        google.colab.kernel.accessAllowed ? 'block' : 'none';\n",
              "    })();\n",
              "  </script>\n",
              "</div>\n",
              "    </div>\n",
              "  </div>\n"
            ]
          },
          "metadata": {},
          "execution_count": 6
        }
      ]
    },
    {
      "cell_type": "code",
      "source": [
        "ph = pd.read_csv(f'{dir_actual}agreed-PHdataset.csv')\n",
        "ph.rename(columns = {'Majority-Frame':'code_frames'}, inplace = True)\n",
        "\n",
        "code_frame_dict_1 = {'1. Economic': 1,\n",
        "                   '2. Capacity and Resources':2,\n",
        "                   '3. Morality':3,\n",
        "                   '4. Fairness and Equality':4,\n",
        "                   '5. Constitutionality and Jurisprudence':5,\n",
        "                   '6. Policy Prescription and Evaluation':6,\n",
        "                   '7. Law and Order, Crime and Justice':7,\n",
        "                   '8. Security and Defense':8,\n",
        "                   '9. Health and Safety':9,\n",
        "                   '10. Quality of Life':10,\n",
        "                   '11. Cultural Identity':11,\n",
        "                   '12. Public Opinion':12,\n",
        "                   '13. Political':13,\n",
        "                   '14. External Regulation and Reputation':14,\n",
        "                   '15. Other':15\n",
        " }\n",
        "\n",
        "ph['code_frames'] = ph.code_frames.replace(code_frame_dict_1)\n",
        "\n",
        "\n",
        "ph"
      ],
      "metadata": {
        "colab": {
          "base_uri": "https://localhost:8080/",
          "height": 423
        },
        "id": "rrj-F2XdZBZ_",
        "outputId": "d91e51af-a1d5-4793-b1b9-737fa06a5915"
      },
      "execution_count": 7,
      "outputs": [
        {
          "output_type": "execute_result",
          "data": {
            "text/plain": [
              "                                                    Text  code_frames\n",
              "0      Dumagat-Remontados opposed to Kaliwa Dam urge ...            4\n",
              "1      The number of Filipinos against changing the C...           12\n",
              "2      Jinggoy Estrada calls ICC probers 'white monke...           13\n",
              "3      President Ferdinand “Bongbong” Marcos Jr. has ...           13\n",
              "4      The Department of Health (DOH) on Thursday mon...            9\n",
              "...                                                  ...          ...\n",
              "12288  PH diplomat tells China not to question PH-US ...           14\n",
              "12289  Philippine Ambassador to the United States Jos...           14\n",
              "12290  China enjoins Asian countries to uphold ‘strat...           14\n",
              "12291  China wants countries in Asia to “uphold strat...           14\n",
              "12292  Public told: ‘Remember, honor, emulate valor o...           11\n",
              "\n",
              "[12293 rows x 2 columns]"
            ],
            "text/html": [
              "\n",
              "  <div id=\"df-289b57ea-1cf4-4b53-a568-b7f9ab760d83\" class=\"colab-df-container\">\n",
              "    <div>\n",
              "<style scoped>\n",
              "    .dataframe tbody tr th:only-of-type {\n",
              "        vertical-align: middle;\n",
              "    }\n",
              "\n",
              "    .dataframe tbody tr th {\n",
              "        vertical-align: top;\n",
              "    }\n",
              "\n",
              "    .dataframe thead th {\n",
              "        text-align: right;\n",
              "    }\n",
              "</style>\n",
              "<table border=\"1\" class=\"dataframe\">\n",
              "  <thead>\n",
              "    <tr style=\"text-align: right;\">\n",
              "      <th></th>\n",
              "      <th>Text</th>\n",
              "      <th>code_frames</th>\n",
              "    </tr>\n",
              "  </thead>\n",
              "  <tbody>\n",
              "    <tr>\n",
              "      <th>0</th>\n",
              "      <td>Dumagat-Remontados opposed to Kaliwa Dam urge ...</td>\n",
              "      <td>4</td>\n",
              "    </tr>\n",
              "    <tr>\n",
              "      <th>1</th>\n",
              "      <td>The number of Filipinos against changing the C...</td>\n",
              "      <td>12</td>\n",
              "    </tr>\n",
              "    <tr>\n",
              "      <th>2</th>\n",
              "      <td>Jinggoy Estrada calls ICC probers 'white monke...</td>\n",
              "      <td>13</td>\n",
              "    </tr>\n",
              "    <tr>\n",
              "      <th>3</th>\n",
              "      <td>President Ferdinand “Bongbong” Marcos Jr. has ...</td>\n",
              "      <td>13</td>\n",
              "    </tr>\n",
              "    <tr>\n",
              "      <th>4</th>\n",
              "      <td>The Department of Health (DOH) on Thursday mon...</td>\n",
              "      <td>9</td>\n",
              "    </tr>\n",
              "    <tr>\n",
              "      <th>...</th>\n",
              "      <td>...</td>\n",
              "      <td>...</td>\n",
              "    </tr>\n",
              "    <tr>\n",
              "      <th>12288</th>\n",
              "      <td>PH diplomat tells China not to question PH-US ...</td>\n",
              "      <td>14</td>\n",
              "    </tr>\n",
              "    <tr>\n",
              "      <th>12289</th>\n",
              "      <td>Philippine Ambassador to the United States Jos...</td>\n",
              "      <td>14</td>\n",
              "    </tr>\n",
              "    <tr>\n",
              "      <th>12290</th>\n",
              "      <td>China enjoins Asian countries to uphold ‘strat...</td>\n",
              "      <td>14</td>\n",
              "    </tr>\n",
              "    <tr>\n",
              "      <th>12291</th>\n",
              "      <td>China wants countries in Asia to “uphold strat...</td>\n",
              "      <td>14</td>\n",
              "    </tr>\n",
              "    <tr>\n",
              "      <th>12292</th>\n",
              "      <td>Public told: ‘Remember, honor, emulate valor o...</td>\n",
              "      <td>11</td>\n",
              "    </tr>\n",
              "  </tbody>\n",
              "</table>\n",
              "<p>12293 rows × 2 columns</p>\n",
              "</div>\n",
              "    <div class=\"colab-df-buttons\">\n",
              "\n",
              "  <div class=\"colab-df-container\">\n",
              "    <button class=\"colab-df-convert\" onclick=\"convertToInteractive('df-289b57ea-1cf4-4b53-a568-b7f9ab760d83')\"\n",
              "            title=\"Convert this dataframe to an interactive table.\"\n",
              "            style=\"display:none;\">\n",
              "\n",
              "  <svg xmlns=\"http://www.w3.org/2000/svg\" height=\"24px\" viewBox=\"0 -960 960 960\">\n",
              "    <path d=\"M120-120v-720h720v720H120Zm60-500h600v-160H180v160Zm220 220h160v-160H400v160Zm0 220h160v-160H400v160ZM180-400h160v-160H180v160Zm440 0h160v-160H620v160ZM180-180h160v-160H180v160Zm440 0h160v-160H620v160Z\"/>\n",
              "  </svg>\n",
              "    </button>\n",
              "\n",
              "  <style>\n",
              "    .colab-df-container {\n",
              "      display:flex;\n",
              "      gap: 12px;\n",
              "    }\n",
              "\n",
              "    .colab-df-convert {\n",
              "      background-color: #E8F0FE;\n",
              "      border: none;\n",
              "      border-radius: 50%;\n",
              "      cursor: pointer;\n",
              "      display: none;\n",
              "      fill: #1967D2;\n",
              "      height: 32px;\n",
              "      padding: 0 0 0 0;\n",
              "      width: 32px;\n",
              "    }\n",
              "\n",
              "    .colab-df-convert:hover {\n",
              "      background-color: #E2EBFA;\n",
              "      box-shadow: 0px 1px 2px rgba(60, 64, 67, 0.3), 0px 1px 3px 1px rgba(60, 64, 67, 0.15);\n",
              "      fill: #174EA6;\n",
              "    }\n",
              "\n",
              "    .colab-df-buttons div {\n",
              "      margin-bottom: 4px;\n",
              "    }\n",
              "\n",
              "    [theme=dark] .colab-df-convert {\n",
              "      background-color: #3B4455;\n",
              "      fill: #D2E3FC;\n",
              "    }\n",
              "\n",
              "    [theme=dark] .colab-df-convert:hover {\n",
              "      background-color: #434B5C;\n",
              "      box-shadow: 0px 1px 3px 1px rgba(0, 0, 0, 0.15);\n",
              "      filter: drop-shadow(0px 1px 2px rgba(0, 0, 0, 0.3));\n",
              "      fill: #FFFFFF;\n",
              "    }\n",
              "  </style>\n",
              "\n",
              "    <script>\n",
              "      const buttonEl =\n",
              "        document.querySelector('#df-289b57ea-1cf4-4b53-a568-b7f9ab760d83 button.colab-df-convert');\n",
              "      buttonEl.style.display =\n",
              "        google.colab.kernel.accessAllowed ? 'block' : 'none';\n",
              "\n",
              "      async function convertToInteractive(key) {\n",
              "        const element = document.querySelector('#df-289b57ea-1cf4-4b53-a568-b7f9ab760d83');\n",
              "        const dataTable =\n",
              "          await google.colab.kernel.invokeFunction('convertToInteractive',\n",
              "                                                    [key], {});\n",
              "        if (!dataTable) return;\n",
              "\n",
              "        const docLinkHtml = 'Like what you see? Visit the ' +\n",
              "          '<a target=\"_blank\" href=https://colab.research.google.com/notebooks/data_table.ipynb>data table notebook</a>'\n",
              "          + ' to learn more about interactive tables.';\n",
              "        element.innerHTML = '';\n",
              "        dataTable['output_type'] = 'display_data';\n",
              "        await google.colab.output.renderOutput(dataTable, element);\n",
              "        const docLink = document.createElement('div');\n",
              "        docLink.innerHTML = docLinkHtml;\n",
              "        element.appendChild(docLink);\n",
              "      }\n",
              "    </script>\n",
              "  </div>\n",
              "\n",
              "\n",
              "<div id=\"df-dc46686f-dc0c-4a56-9617-4e82ffefa784\">\n",
              "  <button class=\"colab-df-quickchart\" onclick=\"quickchart('df-dc46686f-dc0c-4a56-9617-4e82ffefa784')\"\n",
              "            title=\"Suggest charts.\"\n",
              "            style=\"display:none;\">\n",
              "\n",
              "<svg xmlns=\"http://www.w3.org/2000/svg\" height=\"24px\"viewBox=\"0 0 24 24\"\n",
              "     width=\"24px\">\n",
              "    <g>\n",
              "        <path d=\"M19 3H5c-1.1 0-2 .9-2 2v14c0 1.1.9 2 2 2h14c1.1 0 2-.9 2-2V5c0-1.1-.9-2-2-2zM9 17H7v-7h2v7zm4 0h-2V7h2v10zm4 0h-2v-4h2v4z\"/>\n",
              "    </g>\n",
              "</svg>\n",
              "  </button>\n",
              "\n",
              "<style>\n",
              "  .colab-df-quickchart {\n",
              "      --bg-color: #E8F0FE;\n",
              "      --fill-color: #1967D2;\n",
              "      --hover-bg-color: #E2EBFA;\n",
              "      --hover-fill-color: #174EA6;\n",
              "      --disabled-fill-color: #AAA;\n",
              "      --disabled-bg-color: #DDD;\n",
              "  }\n",
              "\n",
              "  [theme=dark] .colab-df-quickchart {\n",
              "      --bg-color: #3B4455;\n",
              "      --fill-color: #D2E3FC;\n",
              "      --hover-bg-color: #434B5C;\n",
              "      --hover-fill-color: #FFFFFF;\n",
              "      --disabled-bg-color: #3B4455;\n",
              "      --disabled-fill-color: #666;\n",
              "  }\n",
              "\n",
              "  .colab-df-quickchart {\n",
              "    background-color: var(--bg-color);\n",
              "    border: none;\n",
              "    border-radius: 50%;\n",
              "    cursor: pointer;\n",
              "    display: none;\n",
              "    fill: var(--fill-color);\n",
              "    height: 32px;\n",
              "    padding: 0;\n",
              "    width: 32px;\n",
              "  }\n",
              "\n",
              "  .colab-df-quickchart:hover {\n",
              "    background-color: var(--hover-bg-color);\n",
              "    box-shadow: 0 1px 2px rgba(60, 64, 67, 0.3), 0 1px 3px 1px rgba(60, 64, 67, 0.15);\n",
              "    fill: var(--button-hover-fill-color);\n",
              "  }\n",
              "\n",
              "  .colab-df-quickchart-complete:disabled,\n",
              "  .colab-df-quickchart-complete:disabled:hover {\n",
              "    background-color: var(--disabled-bg-color);\n",
              "    fill: var(--disabled-fill-color);\n",
              "    box-shadow: none;\n",
              "  }\n",
              "\n",
              "  .colab-df-spinner {\n",
              "    border: 2px solid var(--fill-color);\n",
              "    border-color: transparent;\n",
              "    border-bottom-color: var(--fill-color);\n",
              "    animation:\n",
              "      spin 1s steps(1) infinite;\n",
              "  }\n",
              "\n",
              "  @keyframes spin {\n",
              "    0% {\n",
              "      border-color: transparent;\n",
              "      border-bottom-color: var(--fill-color);\n",
              "      border-left-color: var(--fill-color);\n",
              "    }\n",
              "    20% {\n",
              "      border-color: transparent;\n",
              "      border-left-color: var(--fill-color);\n",
              "      border-top-color: var(--fill-color);\n",
              "    }\n",
              "    30% {\n",
              "      border-color: transparent;\n",
              "      border-left-color: var(--fill-color);\n",
              "      border-top-color: var(--fill-color);\n",
              "      border-right-color: var(--fill-color);\n",
              "    }\n",
              "    40% {\n",
              "      border-color: transparent;\n",
              "      border-right-color: var(--fill-color);\n",
              "      border-top-color: var(--fill-color);\n",
              "    }\n",
              "    60% {\n",
              "      border-color: transparent;\n",
              "      border-right-color: var(--fill-color);\n",
              "    }\n",
              "    80% {\n",
              "      border-color: transparent;\n",
              "      border-right-color: var(--fill-color);\n",
              "      border-bottom-color: var(--fill-color);\n",
              "    }\n",
              "    90% {\n",
              "      border-color: transparent;\n",
              "      border-bottom-color: var(--fill-color);\n",
              "    }\n",
              "  }\n",
              "</style>\n",
              "\n",
              "  <script>\n",
              "    async function quickchart(key) {\n",
              "      const quickchartButtonEl =\n",
              "        document.querySelector('#' + key + ' button');\n",
              "      quickchartButtonEl.disabled = true;  // To prevent multiple clicks.\n",
              "      quickchartButtonEl.classList.add('colab-df-spinner');\n",
              "      try {\n",
              "        const charts = await google.colab.kernel.invokeFunction(\n",
              "            'suggestCharts', [key], {});\n",
              "      } catch (error) {\n",
              "        console.error('Error during call to suggestCharts:', error);\n",
              "      }\n",
              "      quickchartButtonEl.classList.remove('colab-df-spinner');\n",
              "      quickchartButtonEl.classList.add('colab-df-quickchart-complete');\n",
              "    }\n",
              "    (() => {\n",
              "      let quickchartButtonEl =\n",
              "        document.querySelector('#df-dc46686f-dc0c-4a56-9617-4e82ffefa784 button');\n",
              "      quickchartButtonEl.style.display =\n",
              "        google.colab.kernel.accessAllowed ? 'block' : 'none';\n",
              "    })();\n",
              "  </script>\n",
              "</div>\n",
              "    </div>\n",
              "  </div>\n"
            ]
          },
          "metadata": {},
          "execution_count": 7
        }
      ]
    },
    {
      "cell_type": "code",
      "source": [
        "all = pd.concat([mfc, ph], axis=0)"
      ],
      "metadata": {
        "id": "AiSeNYooZM_Z"
      },
      "execution_count": 8,
      "outputs": []
    },
    {
      "cell_type": "code",
      "source": [
        "all.dropna()"
      ],
      "metadata": {
        "colab": {
          "base_uri": "https://localhost:8080/",
          "height": 423
        },
        "id": "DRTzF8RDZXhP",
        "outputId": "25268dcd-035b-4f05-f5c3-673a9f90e241"
      },
      "execution_count": 9,
      "outputs": [
        {
          "output_type": "execute_result",
          "data": {
            "text/plain": [
              "       code_frames                                               Text\n",
              "0             10.0  Immigrants without HOPE need help entering col...\n",
              "1              5.0  But in the eyes of the law, he is an illegal i...\n",
              "2             15.0            Reaction to Tancredo, Lamm as predicted\n",
              "3             13.0  That, said the congressman, is what always hap...\n",
              "4              1.0                                  $50,000 per entry\n",
              "...            ...                                                ...\n",
              "12288         14.0  PH diplomat tells China not to question PH-US ...\n",
              "12289         14.0  Philippine Ambassador to the United States Jos...\n",
              "12290         14.0  China enjoins Asian countries to uphold ‘strat...\n",
              "12291         14.0  China wants countries in Asia to “uphold strat...\n",
              "12292         11.0  Public told: ‘Remember, honor, emulate valor o...\n",
              "\n",
              "[59092 rows x 2 columns]"
            ],
            "text/html": [
              "\n",
              "  <div id=\"df-0c7eedc1-1127-4696-af00-a89b2c800336\" class=\"colab-df-container\">\n",
              "    <div>\n",
              "<style scoped>\n",
              "    .dataframe tbody tr th:only-of-type {\n",
              "        vertical-align: middle;\n",
              "    }\n",
              "\n",
              "    .dataframe tbody tr th {\n",
              "        vertical-align: top;\n",
              "    }\n",
              "\n",
              "    .dataframe thead th {\n",
              "        text-align: right;\n",
              "    }\n",
              "</style>\n",
              "<table border=\"1\" class=\"dataframe\">\n",
              "  <thead>\n",
              "    <tr style=\"text-align: right;\">\n",
              "      <th></th>\n",
              "      <th>code_frames</th>\n",
              "      <th>Text</th>\n",
              "    </tr>\n",
              "  </thead>\n",
              "  <tbody>\n",
              "    <tr>\n",
              "      <th>0</th>\n",
              "      <td>10.0</td>\n",
              "      <td>Immigrants without HOPE need help entering col...</td>\n",
              "    </tr>\n",
              "    <tr>\n",
              "      <th>1</th>\n",
              "      <td>5.0</td>\n",
              "      <td>But in the eyes of the law, he is an illegal i...</td>\n",
              "    </tr>\n",
              "    <tr>\n",
              "      <th>2</th>\n",
              "      <td>15.0</td>\n",
              "      <td>Reaction to Tancredo, Lamm as predicted</td>\n",
              "    </tr>\n",
              "    <tr>\n",
              "      <th>3</th>\n",
              "      <td>13.0</td>\n",
              "      <td>That, said the congressman, is what always hap...</td>\n",
              "    </tr>\n",
              "    <tr>\n",
              "      <th>4</th>\n",
              "      <td>1.0</td>\n",
              "      <td>$50,000 per entry</td>\n",
              "    </tr>\n",
              "    <tr>\n",
              "      <th>...</th>\n",
              "      <td>...</td>\n",
              "      <td>...</td>\n",
              "    </tr>\n",
              "    <tr>\n",
              "      <th>12288</th>\n",
              "      <td>14.0</td>\n",
              "      <td>PH diplomat tells China not to question PH-US ...</td>\n",
              "    </tr>\n",
              "    <tr>\n",
              "      <th>12289</th>\n",
              "      <td>14.0</td>\n",
              "      <td>Philippine Ambassador to the United States Jos...</td>\n",
              "    </tr>\n",
              "    <tr>\n",
              "      <th>12290</th>\n",
              "      <td>14.0</td>\n",
              "      <td>China enjoins Asian countries to uphold ‘strat...</td>\n",
              "    </tr>\n",
              "    <tr>\n",
              "      <th>12291</th>\n",
              "      <td>14.0</td>\n",
              "      <td>China wants countries in Asia to “uphold strat...</td>\n",
              "    </tr>\n",
              "    <tr>\n",
              "      <th>12292</th>\n",
              "      <td>11.0</td>\n",
              "      <td>Public told: ‘Remember, honor, emulate valor o...</td>\n",
              "    </tr>\n",
              "  </tbody>\n",
              "</table>\n",
              "<p>59092 rows × 2 columns</p>\n",
              "</div>\n",
              "    <div class=\"colab-df-buttons\">\n",
              "\n",
              "  <div class=\"colab-df-container\">\n",
              "    <button class=\"colab-df-convert\" onclick=\"convertToInteractive('df-0c7eedc1-1127-4696-af00-a89b2c800336')\"\n",
              "            title=\"Convert this dataframe to an interactive table.\"\n",
              "            style=\"display:none;\">\n",
              "\n",
              "  <svg xmlns=\"http://www.w3.org/2000/svg\" height=\"24px\" viewBox=\"0 -960 960 960\">\n",
              "    <path d=\"M120-120v-720h720v720H120Zm60-500h600v-160H180v160Zm220 220h160v-160H400v160Zm0 220h160v-160H400v160ZM180-400h160v-160H180v160Zm440 0h160v-160H620v160ZM180-180h160v-160H180v160Zm440 0h160v-160H620v160Z\"/>\n",
              "  </svg>\n",
              "    </button>\n",
              "\n",
              "  <style>\n",
              "    .colab-df-container {\n",
              "      display:flex;\n",
              "      gap: 12px;\n",
              "    }\n",
              "\n",
              "    .colab-df-convert {\n",
              "      background-color: #E8F0FE;\n",
              "      border: none;\n",
              "      border-radius: 50%;\n",
              "      cursor: pointer;\n",
              "      display: none;\n",
              "      fill: #1967D2;\n",
              "      height: 32px;\n",
              "      padding: 0 0 0 0;\n",
              "      width: 32px;\n",
              "    }\n",
              "\n",
              "    .colab-df-convert:hover {\n",
              "      background-color: #E2EBFA;\n",
              "      box-shadow: 0px 1px 2px rgba(60, 64, 67, 0.3), 0px 1px 3px 1px rgba(60, 64, 67, 0.15);\n",
              "      fill: #174EA6;\n",
              "    }\n",
              "\n",
              "    .colab-df-buttons div {\n",
              "      margin-bottom: 4px;\n",
              "    }\n",
              "\n",
              "    [theme=dark] .colab-df-convert {\n",
              "      background-color: #3B4455;\n",
              "      fill: #D2E3FC;\n",
              "    }\n",
              "\n",
              "    [theme=dark] .colab-df-convert:hover {\n",
              "      background-color: #434B5C;\n",
              "      box-shadow: 0px 1px 3px 1px rgba(0, 0, 0, 0.15);\n",
              "      filter: drop-shadow(0px 1px 2px rgba(0, 0, 0, 0.3));\n",
              "      fill: #FFFFFF;\n",
              "    }\n",
              "  </style>\n",
              "\n",
              "    <script>\n",
              "      const buttonEl =\n",
              "        document.querySelector('#df-0c7eedc1-1127-4696-af00-a89b2c800336 button.colab-df-convert');\n",
              "      buttonEl.style.display =\n",
              "        google.colab.kernel.accessAllowed ? 'block' : 'none';\n",
              "\n",
              "      async function convertToInteractive(key) {\n",
              "        const element = document.querySelector('#df-0c7eedc1-1127-4696-af00-a89b2c800336');\n",
              "        const dataTable =\n",
              "          await google.colab.kernel.invokeFunction('convertToInteractive',\n",
              "                                                    [key], {});\n",
              "        if (!dataTable) return;\n",
              "\n",
              "        const docLinkHtml = 'Like what you see? Visit the ' +\n",
              "          '<a target=\"_blank\" href=https://colab.research.google.com/notebooks/data_table.ipynb>data table notebook</a>'\n",
              "          + ' to learn more about interactive tables.';\n",
              "        element.innerHTML = '';\n",
              "        dataTable['output_type'] = 'display_data';\n",
              "        await google.colab.output.renderOutput(dataTable, element);\n",
              "        const docLink = document.createElement('div');\n",
              "        docLink.innerHTML = docLinkHtml;\n",
              "        element.appendChild(docLink);\n",
              "      }\n",
              "    </script>\n",
              "  </div>\n",
              "\n",
              "\n",
              "<div id=\"df-0fee6901-ac00-4acc-b7a3-e2722de5756f\">\n",
              "  <button class=\"colab-df-quickchart\" onclick=\"quickchart('df-0fee6901-ac00-4acc-b7a3-e2722de5756f')\"\n",
              "            title=\"Suggest charts.\"\n",
              "            style=\"display:none;\">\n",
              "\n",
              "<svg xmlns=\"http://www.w3.org/2000/svg\" height=\"24px\"viewBox=\"0 0 24 24\"\n",
              "     width=\"24px\">\n",
              "    <g>\n",
              "        <path d=\"M19 3H5c-1.1 0-2 .9-2 2v14c0 1.1.9 2 2 2h14c1.1 0 2-.9 2-2V5c0-1.1-.9-2-2-2zM9 17H7v-7h2v7zm4 0h-2V7h2v10zm4 0h-2v-4h2v4z\"/>\n",
              "    </g>\n",
              "</svg>\n",
              "  </button>\n",
              "\n",
              "<style>\n",
              "  .colab-df-quickchart {\n",
              "      --bg-color: #E8F0FE;\n",
              "      --fill-color: #1967D2;\n",
              "      --hover-bg-color: #E2EBFA;\n",
              "      --hover-fill-color: #174EA6;\n",
              "      --disabled-fill-color: #AAA;\n",
              "      --disabled-bg-color: #DDD;\n",
              "  }\n",
              "\n",
              "  [theme=dark] .colab-df-quickchart {\n",
              "      --bg-color: #3B4455;\n",
              "      --fill-color: #D2E3FC;\n",
              "      --hover-bg-color: #434B5C;\n",
              "      --hover-fill-color: #FFFFFF;\n",
              "      --disabled-bg-color: #3B4455;\n",
              "      --disabled-fill-color: #666;\n",
              "  }\n",
              "\n",
              "  .colab-df-quickchart {\n",
              "    background-color: var(--bg-color);\n",
              "    border: none;\n",
              "    border-radius: 50%;\n",
              "    cursor: pointer;\n",
              "    display: none;\n",
              "    fill: var(--fill-color);\n",
              "    height: 32px;\n",
              "    padding: 0;\n",
              "    width: 32px;\n",
              "  }\n",
              "\n",
              "  .colab-df-quickchart:hover {\n",
              "    background-color: var(--hover-bg-color);\n",
              "    box-shadow: 0 1px 2px rgba(60, 64, 67, 0.3), 0 1px 3px 1px rgba(60, 64, 67, 0.15);\n",
              "    fill: var(--button-hover-fill-color);\n",
              "  }\n",
              "\n",
              "  .colab-df-quickchart-complete:disabled,\n",
              "  .colab-df-quickchart-complete:disabled:hover {\n",
              "    background-color: var(--disabled-bg-color);\n",
              "    fill: var(--disabled-fill-color);\n",
              "    box-shadow: none;\n",
              "  }\n",
              "\n",
              "  .colab-df-spinner {\n",
              "    border: 2px solid var(--fill-color);\n",
              "    border-color: transparent;\n",
              "    border-bottom-color: var(--fill-color);\n",
              "    animation:\n",
              "      spin 1s steps(1) infinite;\n",
              "  }\n",
              "\n",
              "  @keyframes spin {\n",
              "    0% {\n",
              "      border-color: transparent;\n",
              "      border-bottom-color: var(--fill-color);\n",
              "      border-left-color: var(--fill-color);\n",
              "    }\n",
              "    20% {\n",
              "      border-color: transparent;\n",
              "      border-left-color: var(--fill-color);\n",
              "      border-top-color: var(--fill-color);\n",
              "    }\n",
              "    30% {\n",
              "      border-color: transparent;\n",
              "      border-left-color: var(--fill-color);\n",
              "      border-top-color: var(--fill-color);\n",
              "      border-right-color: var(--fill-color);\n",
              "    }\n",
              "    40% {\n",
              "      border-color: transparent;\n",
              "      border-right-color: var(--fill-color);\n",
              "      border-top-color: var(--fill-color);\n",
              "    }\n",
              "    60% {\n",
              "      border-color: transparent;\n",
              "      border-right-color: var(--fill-color);\n",
              "    }\n",
              "    80% {\n",
              "      border-color: transparent;\n",
              "      border-right-color: var(--fill-color);\n",
              "      border-bottom-color: var(--fill-color);\n",
              "    }\n",
              "    90% {\n",
              "      border-color: transparent;\n",
              "      border-bottom-color: var(--fill-color);\n",
              "    }\n",
              "  }\n",
              "</style>\n",
              "\n",
              "  <script>\n",
              "    async function quickchart(key) {\n",
              "      const quickchartButtonEl =\n",
              "        document.querySelector('#' + key + ' button');\n",
              "      quickchartButtonEl.disabled = true;  // To prevent multiple clicks.\n",
              "      quickchartButtonEl.classList.add('colab-df-spinner');\n",
              "      try {\n",
              "        const charts = await google.colab.kernel.invokeFunction(\n",
              "            'suggestCharts', [key], {});\n",
              "      } catch (error) {\n",
              "        console.error('Error during call to suggestCharts:', error);\n",
              "      }\n",
              "      quickchartButtonEl.classList.remove('colab-df-spinner');\n",
              "      quickchartButtonEl.classList.add('colab-df-quickchart-complete');\n",
              "    }\n",
              "    (() => {\n",
              "      let quickchartButtonEl =\n",
              "        document.querySelector('#df-0fee6901-ac00-4acc-b7a3-e2722de5756f button');\n",
              "      quickchartButtonEl.style.display =\n",
              "        google.colab.kernel.accessAllowed ? 'block' : 'none';\n",
              "    })();\n",
              "  </script>\n",
              "</div>\n",
              "    </div>\n",
              "  </div>\n"
            ]
          },
          "metadata": {},
          "execution_count": 9
        }
      ]
    },
    {
      "cell_type": "code",
      "source": [
        "# https://towardsdatascience.com/topic-modelling-in-python-with-spacy-and-gensim-dc8f7748bdbf"
      ],
      "metadata": {
        "id": "A9yTGKN4dCeC"
      },
      "execution_count": 10,
      "outputs": []
    },
    {
      "cell_type": "markdown",
      "source": [
        "# ALL"
      ],
      "metadata": {
        "id": "pL4hYc41ddbe"
      }
    },
    {
      "cell_type": "code",
      "source": [
        "import spacy\n",
        "\n",
        "# Load the spaCy language model\n",
        "nlp = spacy.load('en_core_web_sm')\n",
        "\n",
        "removal = ['ADV', 'PRON', 'CCONJ', 'PUNCT', 'PART', 'DET', 'ADP', 'SPACE', 'NUM', 'SYM']\n",
        "tokens = []\n",
        "\n",
        "# Assuming 'all' is a DataFrame containing the 'Text' column\n",
        "for doc in nlp.pipe(all['Text']):\n",
        "    proj_tok = [token.lemma_.lower() for token in doc if token.pos_ not in removal and not token.is_stop and token.is_alpha]\n",
        "    tokens.append(proj_tok)\n",
        "\n",
        "# Display the tokens\n",
        "print(tokens)\n"
      ],
      "metadata": {
        "id": "dHlc9P8uZYXk"
      },
      "execution_count": null,
      "outputs": []
    },
    {
      "cell_type": "code",
      "source": [
        "# Add tokens to new column\n",
        "all['tokens'] = tokens\n",
        "all['tokens']"
      ],
      "metadata": {
        "id": "K3zx_qJkeBED"
      },
      "execution_count": null,
      "outputs": []
    },
    {
      "cell_type": "code",
      "source": [
        "# Create dictionary\n",
        "# I will apply the Dictionary Object from Gensim, which maps each word to their unique ID:\n",
        "dictionary = Dictionary(all['tokens'])\n",
        "print(dictionary.token2id)"
      ],
      "metadata": {
        "id": "8DO1h0z6iZ2T"
      },
      "execution_count": null,
      "outputs": []
    },
    {
      "cell_type": "code",
      "source": [
        "# Filter dictionary\n",
        "dictionary.filter_extremes(no_below=5, no_above=0.5, keep_n=1000)\n",
        "\n",
        "# Create corpus\n",
        "corpus = [dictionary.doc2bow(doc) for doc in all['tokens']]"
      ],
      "metadata": {
        "id": "a8CUioeCidsv"
      },
      "execution_count": null,
      "outputs": []
    },
    {
      "cell_type": "code",
      "source": [
        "# LDA model building\n",
        "lda_model = LdaMulticore(corpus=corpus, id2word=dictionary, iterations=50, num_topics=10, workers = 4, passes=10)\n",
        "\n",
        "# Coherence score using C_umass:\n",
        "topics = []\n",
        "score = []\n",
        "for i in range(1,20,1):\n",
        "   lda_model = LdaMulticore(corpus=corpus, id2word=dictionary, iterations=10, num_topics=i, workers = 4, passes=10, random_state=100)\n",
        "   cm = CoherenceModel(model=lda_model, corpus=corpus, dictionary=dictionary, coherence='u_mass')\n",
        "   topics.append(i)\n",
        "   score.append(cm.get_coherence())\n",
        "_=plt.plot(topics, score)\n",
        "_=plt.xlabel('Number of Topics')\n",
        "_=plt.ylabel('Coherence Score')\n",
        "plt.show()"
      ],
      "metadata": {
        "id": "tWr-o85dse-k"
      },
      "execution_count": null,
      "outputs": []
    },
    {
      "cell_type": "code",
      "source": [
        "# Coherence score using C_v:\n",
        "topics = []\n",
        "score = []\n",
        "for i in range(1,20,1):\n",
        "   lda_model = LdaMulticore(corpus=corpus, id2word=dictionary, iterations=10, num_topics=i, workers = 4, passes=10, random_state=100)\n",
        "   cm = CoherenceModel(model=lda_model, texts = all['tokens'], corpus=corpus, dictionary=dictionary, coherence='c_v')\n",
        "   topics.append(i)\n",
        "   score.append(cm.get_coherence())\n",
        "_=plt.plot(topics, score)\n",
        "_=plt.xlabel('Number of Topics')\n",
        "_=plt.ylabel('Coherence Score')\n",
        "plt.show()\n"
      ],
      "metadata": {
        "id": "iMGuhjnOisUs"
      },
      "execution_count": null,
      "outputs": []
    },
    {
      "cell_type": "code",
      "source": [
        "# Optimal model\n",
        "lda_model = LdaMulticore(corpus=corpus, id2word=dictionary, iterations=100, num_topics=5, workers = 4, passes=100)"
      ],
      "metadata": {
        "id": "NxRpGia5ivB8"
      },
      "execution_count": null,
      "outputs": []
    },
    {
      "cell_type": "code",
      "source": [
        "#Print topics\n",
        "lda_model.print_topics(-1)\n",
        "\n",
        "# Where does a text belong to\n",
        "lda_model[corpus][0]\n",
        "all['Text'][0]\n",
        "\n",
        "# Visualize topics\n",
        "lda_display = pyLDAvis.gensim_models.prepare(lda_model, corpus, dictionary)\n",
        "pyLDAvis.display(lda_display)\n",
        "\n"
      ],
      "metadata": {
        "id": "KrmklyfjijNO"
      },
      "execution_count": null,
      "outputs": []
    },
    {
      "cell_type": "code",
      "source": [
        "# Save the report\n",
        "pyLDAvis.save_html(lda_display, f'{dir_actual}lda-index.html')"
      ],
      "metadata": {
        "id": "8UyR2OW9kDYj"
      },
      "execution_count": null,
      "outputs": []
    },
    {
      "cell_type": "markdown",
      "source": [
        "# PH"
      ],
      "metadata": {
        "id": "swoKKx9NJEPr"
      }
    },
    {
      "cell_type": "code",
      "source": [
        "from itertools import islice\n",
        "\n",
        "# Function to display a summary of trigrams\n",
        "def display_trigram_summary(trigrams):\n",
        "    summary = list(islice(trigrams, 5))  # Display the first 5 trigrams\n",
        "    print(\"Trigram Summary:\", summary)\n"
      ],
      "metadata": {
        "id": "404RKoUimdT_"
      },
      "execution_count": 11,
      "outputs": []
    },
    {
      "cell_type": "code",
      "source": [
        "import spacy\n",
        "from nltk.util import ngrams\n",
        "\n",
        "\n",
        "# Load the spaCy language model\n",
        "nlp = spacy.load('en_core_web_sm')\n",
        "\n",
        "removal = ['ADV', 'PRON', 'CCONJ', 'PUNCT', 'PART', 'DET', 'ADP', 'SPACE', 'NUM', 'SYM']\n",
        "stopWords = [] #[\"phillipine\",\"phillipines\", \"manila\", \"Manila\", \"MANILA\"]\n",
        "tokens = []\n",
        "\n",
        "# Lemmatize then n-gram\n",
        "for doc in nlp.pipe(ph['Text']):\n",
        "    proj_tok = [token.lemma_ for token in doc if token.pos_ not in removal and not token.is_stop and token.is_alpha and token.lemma_ not in stopWords]\n",
        "    trigrams = list(ngrams(proj_tok, 3))\n",
        "\n",
        "    # Convert each trigram tuple to a string representation\n",
        "    trigrams_strings = [' '.join(trigram) for trigram in trigrams]\n",
        "\n",
        "    # Append the string representation of trigrams to the 'tokens' list\n",
        "    tokens.append(trigrams_strings)\n",
        "\n",
        "    # Display a summary of trigrams for each document\n",
        "    display_trigram_summary(trigrams_strings)\n",
        "\n",
        "\n",
        "\n"
      ],
      "metadata": {
        "id": "bxFVyKR1JEP2"
      },
      "execution_count": null,
      "outputs": []
    },
    {
      "cell_type": "code",
      "source": [
        "# Add tokens to new column\n",
        "ph['tokens'] = tokens\n",
        "ph['tokens']"
      ],
      "metadata": {
        "colab": {
          "base_uri": "https://localhost:8080/"
        },
        "outputId": "12cb1c1b-b8f8-4b2b-d440-b514b27f5594",
        "id": "Ip8JGPnaJEP3"
      },
      "execution_count": 49,
      "outputs": [
        {
          "output_type": "execute_result",
          "data": {
            "text/plain": [
              "0        [Dumagat Remontados oppose, Remontados oppose ...\n",
              "1        [number Filipinos change, Filipinos change Con...\n",
              "2        [Jinggoy Estrada call, Estrada call ICC, call ...\n",
              "3        [President Ferdinand Bongbong, Ferdinand Bongb...\n",
              "4        [Department Health DOH, Health DOH Thursday, D...\n",
              "                               ...                        \n",
              "12288    [PH diplomat tell, diplomat tell China, tell C...\n",
              "12289    [philippine Ambassador United, Ambassador Unit...\n",
              "12290    [China enjoin asian, enjoin asian country, asi...\n",
              "12291    [China want country, want country Asia, countr...\n",
              "12292    [Public tell remember, tell remember honor, re...\n",
              "Name: tokens, Length: 12293, dtype: object"
            ]
          },
          "metadata": {},
          "execution_count": 49
        }
      ]
    },
    {
      "cell_type": "code",
      "source": [
        "# Create dictionary\n",
        "# I will apply the Dictionary Object from Gensim, which maps each word to their unique ID:\n",
        "dictionary = Dictionary(ph['tokens'])\n",
        "# print(dictionary.token2id)"
      ],
      "metadata": {
        "id": "KynHVl8GJEP3"
      },
      "execution_count": 50,
      "outputs": []
    },
    {
      "cell_type": "code",
      "source": [
        "# Filter dictionary\n",
        "dictionary.filter_extremes(no_below=5, no_above=0.5, keep_n=1000)\n",
        "\n",
        "# Create corpus\n",
        "corpus = [dictionary.doc2bow(doc) for doc in ph['tokens']]"
      ],
      "metadata": {
        "id": "aNPVLGUxJEP3"
      },
      "execution_count": 51,
      "outputs": []
    },
    {
      "cell_type": "code",
      "source": [
        "# LDA model building\n",
        "lda_model = LdaMulticore(corpus=corpus, id2word=dictionary, iterations=50, num_topics=10, workers = 4, passes=10)"
      ],
      "metadata": {
        "id": "97dFOXFgJEP4"
      },
      "execution_count": 52,
      "outputs": []
    },
    {
      "cell_type": "code",
      "source": [
        "# Coherence score using C_umass:\n",
        "topics = []\n",
        "score = []\n",
        "for i in range(1,20,1):\n",
        "   lda_model = LdaMulticore(corpus=corpus, id2word=dictionary, iterations=10, num_topics=i, workers = 4, passes=10, random_state=100)\n",
        "   cm = CoherenceModel(model=lda_model, corpus=corpus, dictionary=dictionary, coherence='u_mass')\n",
        "   topics.append(i)\n",
        "   score.append(cm.get_coherence())\n",
        "_=plt.plot(topics, score)\n",
        "_=plt.xlabel('Number of Topics')\n",
        "_=plt.ylabel('Coherence Score')\n",
        "plt.show()"
      ],
      "metadata": {
        "colab": {
          "base_uri": "https://localhost:8080/",
          "height": 458
        },
        "id": "3MXdN8osK9gs",
        "outputId": "1c3a0455-3a4a-4e13-b668-28daf95cb416"
      },
      "execution_count": 53,
      "outputs": [
        {
          "output_type": "display_data",
          "data": {
            "text/plain": [
              "<Figure size 640x480 with 1 Axes>"
            ],
            "image/png": "[encoded data removed]"
          },
          "metadata": {}
        }
      ]
    },
    {
      "cell_type": "code",
      "source": [
        "for x in range(19):\n",
        "    print(topics[x], score[x])"
      ],
      "metadata": {
        "colab": {
          "base_uri": "https://localhost:8080/"
        },
        "id": "pwXW6ZqSraG-",
        "outputId": "aa06a63f-fe56-42c3-e620-70682863e7c1"
      },
      "execution_count": 54,
      "outputs": [
        {
          "output_type": "stream",
          "name": "stdout",
          "text": [
            "1 -14.851285518804746\n",
            "2 -15.837036097493215\n",
            "3 -15.461609333631493\n",
            "4 -16.801483358036442\n",
            "5 -16.72031563835717\n",
            "6 -17.001703116427944\n",
            "7 -16.152012107647973\n",
            "8 -17.46202411892054\n",
            "9 -17.103651139775806\n",
            "10 -17.48295631812321\n",
            "11 -17.535375111826863\n",
            "12 -17.86932773397113\n",
            "13 -17.697666374400423\n",
            "14 -17.845527270542988\n",
            "15 -17.508202288517353\n",
            "16 -17.664683947110063\n",
            "17 -17.764048125226314\n",
            "18 -17.470708840795318\n",
            "19 -17.388311541742908\n"
          ]
        }
      ]
    },
    {
      "cell_type": "code",
      "source": [
        "# Coherence score using C_v:\n",
        "topics = []\n",
        "score = []\n",
        "for i in range(1,20,1):\n",
        "   lda_model = LdaMulticore(corpus=corpus, id2word=dictionary, iterations=10, num_topics=i, workers = 4, passes=10, random_state=100)\n",
        "   cm = CoherenceModel(model=lda_model, texts = ph['tokens'], corpus=corpus, dictionary=dictionary, coherence='c_v')\n",
        "   topics.append(i)\n",
        "   score.append(cm.get_coherence())\n",
        "_=plt.plot(topics, score)\n",
        "_=plt.xlabel('Number of Topics')\n",
        "_=plt.ylabel('Coherence Score')\n",
        "plt.show()\n"
      ],
      "metadata": {
        "colab": {
          "base_uri": "https://localhost:8080/",
          "height": 1000
        },
        "outputId": "8e83c681-755c-4bb8-abc8-7448b427309c",
        "id": "4bSK6NRbJEP4"
      },
      "execution_count": 55,
      "outputs": [
        {
          "output_type": "stream",
          "name": "stderr",
          "text": [
            "Process ForkPoolWorker-104:\n",
            "Process ForkPoolWorker-101:\n",
            "Process ForkPoolWorker-102:\n",
            "Traceback (most recent call last):\n",
            "Traceback (most recent call last):\n",
            "Traceback (most recent call last):\n",
            "Process ForkPoolWorker-103:\n",
            "  File \"/usr/lib/python3.10/multiprocessing/process.py\", line 314, in _bootstrap\n",
            "    self.run()\n",
            "  File \"/usr/lib/python3.10/multiprocessing/process.py\", line 314, in _bootstrap\n",
            "    self.run()\n",
            "  File \"/usr/lib/python3.10/multiprocessing/process.py\", line 314, in _bootstrap\n",
            "    self.run()\n",
            "  File \"/usr/lib/python3.10/multiprocessing/process.py\", line 108, in run\n",
            "    self._target(*self._args, **self._kwargs)\n",
            "Traceback (most recent call last):\n",
            "  File \"/usr/lib/python3.10/multiprocessing/process.py\", line 108, in run\n",
            "    self._target(*self._args, **self._kwargs)\n",
            "  File \"/usr/lib/python3.10/multiprocessing/process.py\", line 314, in _bootstrap\n",
            "    self.run()\n",
            "  File \"/usr/lib/python3.10/multiprocessing/process.py\", line 108, in run\n",
            "    self._target(*self._args, **self._kwargs)\n",
            "  File \"/usr/lib/python3.10/multiprocessing/process.py\", line 108, in run\n",
            "    self._target(*self._args, **self._kwargs)\n",
            "  File \"/usr/lib/python3.10/multiprocessing/pool.py\", line 109, in worker\n",
            "    initializer(*initargs)\n",
            "  File \"/usr/lib/python3.10/multiprocessing/pool.py\", line 109, in worker\n",
            "    initializer(*initargs)\n",
            "  File \"/usr/lib/python3.10/multiprocessing/pool.py\", line 109, in worker\n",
            "    initializer(*initargs)\n",
            "  File \"/usr/local/lib/python3.10/dist-packages/gensim/models/ldamulticore.py\", line 341, in worker_e_step\n",
            "    chunk_no, chunk, w_state = input_queue.get()\n",
            "  File \"/usr/lib/python3.10/multiprocessing/pool.py\", line 109, in worker\n",
            "    initializer(*initargs)\n",
            "  File \"/usr/local/lib/python3.10/dist-packages/gensim/models/ldamulticore.py\", line 346, in worker_e_step\n",
            "    worker_lda.do_estep(chunk)  # TODO: auto-tune alpha?\n",
            "  File \"/usr/local/lib/python3.10/dist-packages/gensim/models/ldamulticore.py\", line 341, in worker_e_step\n",
            "    chunk_no, chunk, w_state = input_queue.get()\n",
            "  File \"/usr/local/lib/python3.10/dist-packages/gensim/models/ldamulticore.py\", line 346, in worker_e_step\n",
            "    worker_lda.do_estep(chunk)  # TODO: auto-tune alpha?\n",
            "  File \"/usr/lib/python3.10/multiprocessing/queues.py\", line 102, in get\n",
            "    with self._rlock:\n",
            "  File \"/usr/local/lib/python3.10/dist-packages/gensim/models/ldamodel.py\", line 768, in do_estep\n",
            "    gamma, sstats = self.inference(chunk, collect_sstats=True)\n",
            "  File \"/usr/lib/python3.10/multiprocessing/synchronize.py\", line 95, in __enter__\n",
            "    return self._semlock.__enter__()\n",
            "  File \"/usr/lib/python3.10/multiprocessing/queues.py\", line 103, in get\n",
            "    res = self._recv_bytes()\n",
            "  File \"/usr/local/lib/python3.10/dist-packages/gensim/models/ldamodel.py\", line 768, in do_estep\n",
            "    gamma, sstats = self.inference(chunk, collect_sstats=True)\n",
            "  File \"/usr/local/lib/python3.10/dist-packages/gensim/models/ldamodel.py\", line 724, in inference\n",
            "    meanchange = mean_absolute_difference(gammad, lastgamma)\n",
            "KeyboardInterrupt\n",
            "  File \"/usr/local/lib/python3.10/dist-packages/gensim/models/ldamodel.py\", line 702, in inference\n",
            "    cts = np.fromiter((cnt for _, cnt in doc), dtype=self.dtype, count=len(doc))\n",
            "  File \"/usr/lib/python3.10/multiprocessing/connection.py\", line 216, in recv_bytes\n",
            "    buf = self._recv_bytes(maxlength)\n",
            "KeyboardInterrupt\n",
            "KeyboardInterrupt\n",
            "  File \"/usr/lib/python3.10/multiprocessing/connection.py\", line 414, in _recv_bytes\n",
            "    buf = self._recv(4)\n",
            "  File \"/usr/lib/python3.10/multiprocessing/connection.py\", line 379, in _recv\n",
            "    chunk = read(handle, remaining)\n",
            "KeyboardInterrupt\n"
          ]
        },
        {
          "output_type": "error",
          "ename": "KeyboardInterrupt",
          "evalue": "ignored",
          "traceback": [
            "\u001b[0;31m---------------------------------------------------------------------------\u001b[0m",
            "\u001b[0;31mKeyboardInterrupt\u001b[0m                         Traceback (most recent call last)",
            "\u001b[0;32m<ipython-input-55-4cae35ff479e>\u001b[0m in \u001b[0;36m<cell line: 4>\u001b[0;34m()\u001b[0m\n\u001b[1;32m      3\u001b[0m \u001b[0mscore\u001b[0m \u001b[0;34m=\u001b[0m \u001b[0;34m[\u001b[0m\u001b[0;34m]\u001b[0m\u001b[0;34m\u001b[0m\u001b[0;34m\u001b[0m\u001b[0m\n\u001b[1;32m      4\u001b[0m \u001b[0;32mfor\u001b[0m \u001b[0mi\u001b[0m \u001b[0;32min\u001b[0m \u001b[0mrange\u001b[0m\u001b[0;34m(\u001b[0m\u001b[0;36m1\u001b[0m\u001b[0;34m,\u001b[0m\u001b[0;36m20\u001b[0m\u001b[0;34m,\u001b[0m\u001b[0;36m1\u001b[0m\u001b[0;34m)\u001b[0m\u001b[0;34m:\u001b[0m\u001b[0;34m\u001b[0m\u001b[0;34m\u001b[0m\u001b[0m\n\u001b[0;32m----> 5\u001b[0;31m    \u001b[0mlda_model\u001b[0m \u001b[0;34m=\u001b[0m \u001b[0mLdaMulticore\u001b[0m\u001b[0;34m(\u001b[0m\u001b[0mcorpus\u001b[0m\u001b[0;34m=\u001b[0m\u001b[0mcorpus\u001b[0m\u001b[0;34m,\u001b[0m \u001b[0mid2word\u001b[0m\u001b[0;34m=\u001b[0m\u001b[0mdictionary\u001b[0m\u001b[0;34m,\u001b[0m \u001b[0miterations\u001b[0m\u001b[0;34m=\u001b[0m\u001b[0;36m10\u001b[0m\u001b[0;34m,\u001b[0m \u001b[0mnum_topics\u001b[0m\u001b[0;34m=\u001b[0m\u001b[0mi\u001b[0m\u001b[0;34m,\u001b[0m \u001b[0mworkers\u001b[0m \u001b[0;34m=\u001b[0m \u001b[0;36m4\u001b[0m\u001b[0;34m,\u001b[0m \u001b[0mpasses\u001b[0m\u001b[0;34m=\u001b[0m\u001b[0;36m10\u001b[0m\u001b[0;34m,\u001b[0m \u001b[0mrandom_state\u001b[0m\u001b[0;34m=\u001b[0m\u001b[0;36m100\u001b[0m\u001b[0;34m)\u001b[0m\u001b[0;34m\u001b[0m\u001b[0;34m\u001b[0m\u001b[0m\n\u001b[0m\u001b[1;32m      6\u001b[0m    \u001b[0mcm\u001b[0m \u001b[0;34m=\u001b[0m \u001b[0mCoherenceModel\u001b[0m\u001b[0;34m(\u001b[0m\u001b[0mmodel\u001b[0m\u001b[0;34m=\u001b[0m\u001b[0mlda_model\u001b[0m\u001b[0;34m,\u001b[0m \u001b[0mtexts\u001b[0m \u001b[0;34m=\u001b[0m \u001b[0mph\u001b[0m\u001b[0;34m[\u001b[0m\u001b[0;34m'tokens'\u001b[0m\u001b[0;34m]\u001b[0m\u001b[0;34m,\u001b[0m \u001b[0mcorpus\u001b[0m\u001b[0;34m=\u001b[0m\u001b[0mcorpus\u001b[0m\u001b[0;34m,\u001b[0m \u001b[0mdictionary\u001b[0m\u001b[0;34m=\u001b[0m\u001b[0mdictionary\u001b[0m\u001b[0;34m,\u001b[0m \u001b[0mcoherence\u001b[0m\u001b[0;34m=\u001b[0m\u001b[0;34m'c_v'\u001b[0m\u001b[0;34m)\u001b[0m\u001b[0;34m\u001b[0m\u001b[0;34m\u001b[0m\u001b[0m\n\u001b[1;32m      7\u001b[0m    \u001b[0mtopics\u001b[0m\u001b[0;34m.\u001b[0m\u001b[0mappend\u001b[0m\u001b[0;34m(\u001b[0m\u001b[0mi\u001b[0m\u001b[0;34m)\u001b[0m\u001b[0;34m\u001b[0m\u001b[0;34m\u001b[0m\u001b[0m\n",
            "\u001b[0;32m/usr/local/lib/python3.10/dist-packages/gensim/models/ldamulticore.py\u001b[0m in \u001b[0;36m__init__\u001b[0;34m(self, corpus, num_topics, id2word, workers, chunksize, passes, batch, alpha, eta, decay, offset, eval_every, iterations, gamma_threshold, random_state, minimum_probability, minimum_phi_value, per_word_topics, dtype)\u001b[0m\n\u001b[1;32m    184\u001b[0m             \u001b[0;32mraise\u001b[0m \u001b[0mNotImplementedError\u001b[0m\u001b[0;34m(\u001b[0m\u001b[0;34m\"auto-tuning alpha not implemented in LdaMulticore; use plain LdaModel.\"\u001b[0m\u001b[0;34m)\u001b[0m\u001b[0;34m\u001b[0m\u001b[0;34m\u001b[0m\u001b[0m\n\u001b[1;32m    185\u001b[0m \u001b[0;34m\u001b[0m\u001b[0m\n\u001b[0;32m--> 186\u001b[0;31m         super(LdaMulticore, self).__init__(\n\u001b[0m\u001b[1;32m    187\u001b[0m             \u001b[0mcorpus\u001b[0m\u001b[0;34m=\u001b[0m\u001b[0mcorpus\u001b[0m\u001b[0;34m,\u001b[0m \u001b[0mnum_topics\u001b[0m\u001b[0;34m=\u001b[0m\u001b[0mnum_topics\u001b[0m\u001b[0;34m,\u001b[0m\u001b[0;34m\u001b[0m\u001b[0;34m\u001b[0m\u001b[0m\n\u001b[1;32m    188\u001b[0m             \u001b[0mid2word\u001b[0m\u001b[0;34m=\u001b[0m\u001b[0mid2word\u001b[0m\u001b[0;34m,\u001b[0m \u001b[0mchunksize\u001b[0m\u001b[0;34m=\u001b[0m\u001b[0mchunksize\u001b[0m\u001b[0;34m,\u001b[0m \u001b[0mpasses\u001b[0m\u001b[0;34m=\u001b[0m\u001b[0mpasses\u001b[0m\u001b[0;34m,\u001b[0m \u001b[0malpha\u001b[0m\u001b[0;34m=\u001b[0m\u001b[0malpha\u001b[0m\u001b[0;34m,\u001b[0m \u001b[0meta\u001b[0m\u001b[0;34m=\u001b[0m\u001b[0meta\u001b[0m\u001b[0;34m,\u001b[0m\u001b[0;34m\u001b[0m\u001b[0;34m\u001b[0m\u001b[0m\n",
            "\u001b[0;32m/usr/local/lib/python3.10/dist-packages/gensim/models/ldamodel.py\u001b[0m in \u001b[0;36m__init__\u001b[0;34m(self, corpus, num_topics, id2word, distributed, chunksize, passes, update_every, alpha, eta, decay, offset, eval_every, iterations, gamma_threshold, minimum_probability, random_state, ns_conf, minimum_phi_value, per_word_topics, callbacks, dtype)\u001b[0m\n\u001b[1;32m    519\u001b[0m             \u001b[0muse_numpy\u001b[0m \u001b[0;34m=\u001b[0m \u001b[0mself\u001b[0m\u001b[0;34m.\u001b[0m\u001b[0mdispatcher\u001b[0m \u001b[0;32mis\u001b[0m \u001b[0;32mnot\u001b[0m \u001b[0;32mNone\u001b[0m\u001b[0;34m\u001b[0m\u001b[0;34m\u001b[0m\u001b[0m\n\u001b[1;32m    520\u001b[0m             \u001b[0mstart\u001b[0m \u001b[0;34m=\u001b[0m \u001b[0mtime\u001b[0m\u001b[0;34m.\u001b[0m\u001b[0mtime\u001b[0m\u001b[0;34m(\u001b[0m\u001b[0;34m)\u001b[0m\u001b[0;34m\u001b[0m\u001b[0;34m\u001b[0m\u001b[0m\n\u001b[0;32m--> 521\u001b[0;31m             \u001b[0mself\u001b[0m\u001b[0;34m.\u001b[0m\u001b[0mupdate\u001b[0m\u001b[0;34m(\u001b[0m\u001b[0mcorpus\u001b[0m\u001b[0;34m,\u001b[0m \u001b[0mchunks_as_numpy\u001b[0m\u001b[0;34m=\u001b[0m\u001b[0muse_numpy\u001b[0m\u001b[0;34m)\u001b[0m\u001b[0;34m\u001b[0m\u001b[0;34m\u001b[0m\u001b[0m\n\u001b[0m\u001b[1;32m    522\u001b[0m             self.add_lifecycle_event(\n\u001b[1;32m    523\u001b[0m                 \u001b[0;34m\"created\"\u001b[0m\u001b[0;34m,\u001b[0m\u001b[0;34m\u001b[0m\u001b[0;34m\u001b[0m\u001b[0m\n",
            "\u001b[0;32m/usr/local/lib/python3.10/dist-packages/gensim/models/ldamulticore.py\u001b[0m in \u001b[0;36mupdate\u001b[0;34m(self, corpus, chunks_as_numpy)\u001b[0m\n\u001b[1;32m    314\u001b[0m             \u001b[0;31m# wait for all outstanding jobs to finish\u001b[0m\u001b[0;34m\u001b[0m\u001b[0;34m\u001b[0m\u001b[0m\n\u001b[1;32m    315\u001b[0m             \u001b[0;32mwhile\u001b[0m \u001b[0mqueue_size\u001b[0m\u001b[0;34m[\u001b[0m\u001b[0;36m0\u001b[0m\u001b[0;34m]\u001b[0m \u001b[0;34m>\u001b[0m \u001b[0;36m0\u001b[0m\u001b[0;34m:\u001b[0m\u001b[0;34m\u001b[0m\u001b[0;34m\u001b[0m\u001b[0m\n\u001b[0;32m--> 316\u001b[0;31m                 \u001b[0mprocess_result_queue\u001b[0m\u001b[0;34m(\u001b[0m\u001b[0mforce\u001b[0m\u001b[0;34m=\u001b[0m\u001b[0;32mTrue\u001b[0m\u001b[0;34m)\u001b[0m\u001b[0;34m\u001b[0m\u001b[0;34m\u001b[0m\u001b[0m\n\u001b[0m\u001b[1;32m    317\u001b[0m \u001b[0;34m\u001b[0m\u001b[0m\n\u001b[1;32m    318\u001b[0m             \u001b[0;32mif\u001b[0m \u001b[0mreallen\u001b[0m \u001b[0;34m!=\u001b[0m \u001b[0mlencorpus\u001b[0m\u001b[0;34m:\u001b[0m\u001b[0;34m\u001b[0m\u001b[0;34m\u001b[0m\u001b[0m\n",
            "\u001b[0;32m/usr/local/lib/python3.10/dist-packages/gensim/models/ldamulticore.py\u001b[0m in \u001b[0;36mprocess_result_queue\u001b[0;34m(force)\u001b[0m\n\u001b[1;32m    272\u001b[0m             \"\"\"\n\u001b[1;32m    273\u001b[0m             \u001b[0mmerged_new\u001b[0m \u001b[0;34m=\u001b[0m \u001b[0;32mFalse\u001b[0m\u001b[0;34m\u001b[0m\u001b[0;34m\u001b[0m\u001b[0m\n\u001b[0;32m--> 274\u001b[0;31m             \u001b[0;32mwhile\u001b[0m \u001b[0;32mnot\u001b[0m \u001b[0mresult_queue\u001b[0m\u001b[0;34m.\u001b[0m\u001b[0mempty\u001b[0m\u001b[0;34m(\u001b[0m\u001b[0;34m)\u001b[0m\u001b[0;34m:\u001b[0m\u001b[0;34m\u001b[0m\u001b[0;34m\u001b[0m\u001b[0m\n\u001b[0m\u001b[1;32m    275\u001b[0m                 \u001b[0mother\u001b[0m\u001b[0;34m.\u001b[0m\u001b[0mmerge\u001b[0m\u001b[0;34m(\u001b[0m\u001b[0mresult_queue\u001b[0m\u001b[0;34m.\u001b[0m\u001b[0mget\u001b[0m\u001b[0;34m(\u001b[0m\u001b[0;34m)\u001b[0m\u001b[0;34m)\u001b[0m\u001b[0;34m\u001b[0m\u001b[0;34m\u001b[0m\u001b[0m\n\u001b[1;32m    276\u001b[0m                 \u001b[0mqueue_size\u001b[0m\u001b[0;34m[\u001b[0m\u001b[0;36m0\u001b[0m\u001b[0;34m]\u001b[0m \u001b[0;34m-=\u001b[0m \u001b[0;36m1\u001b[0m\u001b[0;34m\u001b[0m\u001b[0;34m\u001b[0m\u001b[0m\n",
            "\u001b[0;32m/usr/lib/python3.10/multiprocessing/queues.py\u001b[0m in \u001b[0;36mempty\u001b[0;34m(self)\u001b[0m\n\u001b[1;32m    127\u001b[0m \u001b[0;34m\u001b[0m\u001b[0m\n\u001b[1;32m    128\u001b[0m     \u001b[0;32mdef\u001b[0m \u001b[0mempty\u001b[0m\u001b[0;34m(\u001b[0m\u001b[0mself\u001b[0m\u001b[0;34m)\u001b[0m\u001b[0;34m:\u001b[0m\u001b[0;34m\u001b[0m\u001b[0;34m\u001b[0m\u001b[0m\n\u001b[0;32m--> 129\u001b[0;31m         \u001b[0;32mreturn\u001b[0m \u001b[0;32mnot\u001b[0m \u001b[0mself\u001b[0m\u001b[0;34m.\u001b[0m\u001b[0m_poll\u001b[0m\u001b[0;34m(\u001b[0m\u001b[0;34m)\u001b[0m\u001b[0;34m\u001b[0m\u001b[0;34m\u001b[0m\u001b[0m\n\u001b[0m\u001b[1;32m    130\u001b[0m \u001b[0;34m\u001b[0m\u001b[0m\n\u001b[1;32m    131\u001b[0m     \u001b[0;32mdef\u001b[0m \u001b[0mfull\u001b[0m\u001b[0;34m(\u001b[0m\u001b[0mself\u001b[0m\u001b[0;34m)\u001b[0m\u001b[0;34m:\u001b[0m\u001b[0;34m\u001b[0m\u001b[0;34m\u001b[0m\u001b[0m\n",
            "\u001b[0;32m/usr/lib/python3.10/multiprocessing/connection.py\u001b[0m in \u001b[0;36mpoll\u001b[0;34m(self, timeout)\u001b[0m\n\u001b[1;32m    255\u001b[0m         \u001b[0mself\u001b[0m\u001b[0;34m.\u001b[0m\u001b[0m_check_closed\u001b[0m\u001b[0;34m(\u001b[0m\u001b[0;34m)\u001b[0m\u001b[0;34m\u001b[0m\u001b[0;34m\u001b[0m\u001b[0m\n\u001b[1;32m    256\u001b[0m         \u001b[0mself\u001b[0m\u001b[0;34m.\u001b[0m\u001b[0m_check_readable\u001b[0m\u001b[0;34m(\u001b[0m\u001b[0;34m)\u001b[0m\u001b[0;34m\u001b[0m\u001b[0;34m\u001b[0m\u001b[0m\n\u001b[0;32m--> 257\u001b[0;31m         \u001b[0;32mreturn\u001b[0m \u001b[0mself\u001b[0m\u001b[0;34m.\u001b[0m\u001b[0m_poll\u001b[0m\u001b[0;34m(\u001b[0m\u001b[0mtimeout\u001b[0m\u001b[0;34m)\u001b[0m\u001b[0;34m\u001b[0m\u001b[0;34m\u001b[0m\u001b[0m\n\u001b[0m\u001b[1;32m    258\u001b[0m \u001b[0;34m\u001b[0m\u001b[0m\n\u001b[1;32m    259\u001b[0m     \u001b[0;32mdef\u001b[0m \u001b[0m__enter__\u001b[0m\u001b[0;34m(\u001b[0m\u001b[0mself\u001b[0m\u001b[0;34m)\u001b[0m\u001b[0;34m:\u001b[0m\u001b[0;34m\u001b[0m\u001b[0;34m\u001b[0m\u001b[0m\n",
            "\u001b[0;32m/usr/lib/python3.10/multiprocessing/connection.py\u001b[0m in \u001b[0;36m_poll\u001b[0;34m(self, timeout)\u001b[0m\n\u001b[1;32m    422\u001b[0m \u001b[0;34m\u001b[0m\u001b[0m\n\u001b[1;32m    423\u001b[0m     \u001b[0;32mdef\u001b[0m \u001b[0m_poll\u001b[0m\u001b[0;34m(\u001b[0m\u001b[0mself\u001b[0m\u001b[0;34m,\u001b[0m \u001b[0mtimeout\u001b[0m\u001b[0;34m)\u001b[0m\u001b[0;34m:\u001b[0m\u001b[0;34m\u001b[0m\u001b[0;34m\u001b[0m\u001b[0m\n\u001b[0;32m--> 424\u001b[0;31m         \u001b[0mr\u001b[0m \u001b[0;34m=\u001b[0m \u001b[0mwait\u001b[0m\u001b[0;34m(\u001b[0m\u001b[0;34m[\u001b[0m\u001b[0mself\u001b[0m\u001b[0;34m]\u001b[0m\u001b[0;34m,\u001b[0m \u001b[0mtimeout\u001b[0m\u001b[0;34m)\u001b[0m\u001b[0;34m\u001b[0m\u001b[0;34m\u001b[0m\u001b[0m\n\u001b[0m\u001b[1;32m    425\u001b[0m         \u001b[0;32mreturn\u001b[0m \u001b[0mbool\u001b[0m\u001b[0;34m(\u001b[0m\u001b[0mr\u001b[0m\u001b[0;34m)\u001b[0m\u001b[0;34m\u001b[0m\u001b[0;34m\u001b[0m\u001b[0m\n\u001b[1;32m    426\u001b[0m \u001b[0;34m\u001b[0m\u001b[0m\n",
            "\u001b[0;32m/usr/lib/python3.10/multiprocessing/connection.py\u001b[0m in \u001b[0;36mwait\u001b[0;34m(object_list, timeout)\u001b[0m\n\u001b[1;32m    929\u001b[0m \u001b[0;34m\u001b[0m\u001b[0m\n\u001b[1;32m    930\u001b[0m             \u001b[0;32mwhile\u001b[0m \u001b[0;32mTrue\u001b[0m\u001b[0;34m:\u001b[0m\u001b[0;34m\u001b[0m\u001b[0;34m\u001b[0m\u001b[0m\n\u001b[0;32m--> 931\u001b[0;31m                 \u001b[0mready\u001b[0m \u001b[0;34m=\u001b[0m \u001b[0mselector\u001b[0m\u001b[0;34m.\u001b[0m\u001b[0mselect\u001b[0m\u001b[0;34m(\u001b[0m\u001b[0mtimeout\u001b[0m\u001b[0;34m)\u001b[0m\u001b[0;34m\u001b[0m\u001b[0;34m\u001b[0m\u001b[0m\n\u001b[0m\u001b[1;32m    932\u001b[0m                 \u001b[0;32mif\u001b[0m \u001b[0mready\u001b[0m\u001b[0;34m:\u001b[0m\u001b[0;34m\u001b[0m\u001b[0;34m\u001b[0m\u001b[0m\n\u001b[1;32m    933\u001b[0m                     \u001b[0;32mreturn\u001b[0m \u001b[0;34m[\u001b[0m\u001b[0mkey\u001b[0m\u001b[0;34m.\u001b[0m\u001b[0mfileobj\u001b[0m \u001b[0;32mfor\u001b[0m \u001b[0;34m(\u001b[0m\u001b[0mkey\u001b[0m\u001b[0;34m,\u001b[0m \u001b[0mevents\u001b[0m\u001b[0;34m)\u001b[0m \u001b[0;32min\u001b[0m \u001b[0mready\u001b[0m\u001b[0;34m]\u001b[0m\u001b[0;34m\u001b[0m\u001b[0;34m\u001b[0m\u001b[0m\n",
            "\u001b[0;32m/usr/lib/python3.10/selectors.py\u001b[0m in \u001b[0;36mselect\u001b[0;34m(self, timeout)\u001b[0m\n\u001b[1;32m    414\u001b[0m         \u001b[0mready\u001b[0m \u001b[0;34m=\u001b[0m \u001b[0;34m[\u001b[0m\u001b[0;34m]\u001b[0m\u001b[0;34m\u001b[0m\u001b[0;34m\u001b[0m\u001b[0m\n\u001b[1;32m    415\u001b[0m         \u001b[0;32mtry\u001b[0m\u001b[0;34m:\u001b[0m\u001b[0;34m\u001b[0m\u001b[0;34m\u001b[0m\u001b[0m\n\u001b[0;32m--> 416\u001b[0;31m             \u001b[0mfd_event_list\u001b[0m \u001b[0;34m=\u001b[0m \u001b[0mself\u001b[0m\u001b[0;34m.\u001b[0m\u001b[0m_selector\u001b[0m\u001b[0;34m.\u001b[0m\u001b[0mpoll\u001b[0m\u001b[0;34m(\u001b[0m\u001b[0mtimeout\u001b[0m\u001b[0;34m)\u001b[0m\u001b[0;34m\u001b[0m\u001b[0;34m\u001b[0m\u001b[0m\n\u001b[0m\u001b[1;32m    417\u001b[0m         \u001b[0;32mexcept\u001b[0m \u001b[0mInterruptedError\u001b[0m\u001b[0;34m:\u001b[0m\u001b[0;34m\u001b[0m\u001b[0;34m\u001b[0m\u001b[0m\n\u001b[1;32m    418\u001b[0m             \u001b[0;32mreturn\u001b[0m \u001b[0mready\u001b[0m\u001b[0;34m\u001b[0m\u001b[0;34m\u001b[0m\u001b[0m\n",
            "\u001b[0;31mKeyboardInterrupt\u001b[0m: "
          ]
        }
      ]
    },
    {
      "cell_type": "code",
      "source": [
        "for x in range(19):\n",
        "    print(topics[x], score[x])\n",
        "\n"
      ],
      "metadata": {
        "colab": {
          "base_uri": "https://localhost:8080/"
        },
        "id": "n_NHe_f7rjCI",
        "outputId": "da50e2b5-b87b-46ca-e62e-488496227744"
      },
      "execution_count": null,
      "outputs": [
        {
          "output_type": "stream",
          "name": "stdout",
          "text": [
            "1 0.47332881249368464\n",
            "2 0.42782374398089373\n",
            "3 0.4735843561052322\n",
            "4 0.4695128387798202\n",
            "5 0.45267682781506124\n",
            "6 0.46964903629276594\n",
            "7 0.4848820173825059\n",
            "8 0.4433178609644044\n",
            "9 0.4821173134415237\n",
            "10 0.493110415213731\n",
            "11 0.4943996042499148\n",
            "12 0.48656523058985707\n",
            "13 0.508760236242207\n",
            "14 0.48036478028404606\n",
            "15 0.48776799400643345\n",
            "16 0.4837586843363762\n",
            "17 0.4805822185630093\n",
            "18 0.49202900579602926\n",
            "19 0.48949898728116\n"
          ]
        }
      ]
    },
    {
      "cell_type": "markdown",
      "source": [
        " c_umass = 3 no lower"
      ],
      "metadata": {
        "id": "2JYJHtoyu0mC"
      }
    },
    {
      "cell_type": "code",
      "source": [
        "# Optimal model\n",
        "lda_model_cumass = LdaMulticore(corpus=corpus, id2word=dictionary, iterations=100, num_topics=3, workers = 4, passes=100)"
      ],
      "metadata": {
        "id": "sdT0G86RJEP4"
      },
      "execution_count": null,
      "outputs": []
    },
    {
      "cell_type": "code",
      "source": [
        "\n",
        "# lda_model_cumass.save(datapath(f'{dir_actual}lda_model_cumass'))\n",
        "lda_model_cumass = models.ldamodel.LdaModel.load(datapath(f'{dir_actual}lda_model_cumass'))\n"
      ],
      "metadata": {
        "id": "Uj1Ma7jZ4h1-"
      },
      "execution_count": 20,
      "outputs": []
    },
    {
      "cell_type": "code",
      "source": [
        "#Print topics\n",
        "lda_model_cumass.print_topics(-1)"
      ],
      "metadata": {
        "colab": {
          "base_uri": "https://localhost:8080/"
        },
        "outputId": "1e8bb2ec-d7dc-45d7-dd5f-302c0797dba7",
        "id": "WAKufjHbJEP5"
      },
      "execution_count": 21,
      "outputs": [
        {
          "output_type": "execute_result",
          "data": {
            "text/plain": [
              "[(0,\n",
              "  '0.083*\"President Ferdinand Marcos\" + 0.036*\"manila President Ferdinand\" + 0.014*\"MANILA Philippines President\" + 0.014*\"Secretary Jesus Crispin\" + 0.012*\"Department Justice DOJ\" + 0.012*\"Bureau Immigration BI\" + 0.012*\"Philippines President Ferdinand\" + 0.011*\"Armed Forces Philippines\" + 0.010*\"Jesus Crispin Remulla\" + 0.010*\"Coast Guard PCG\"'),\n",
              " (1,\n",
              "  '0.046*\"Philippine National Police\" + 0.038*\"National Police PNP\" + 0.032*\"Department Health DOH\" + 0.018*\"Governor Roel Degamo\" + 0.017*\"Negros oriental Governor\" + 0.016*\"oriental Governor Roel\" + 0.016*\"Commission Elections Comelec\" + 0.012*\"Department Education DepEd\" + 0.010*\"Arnolfo Arnie Teves\" + 0.010*\"Aquino International Airport\"'),\n",
              " (2,\n",
              "  '0.043*\"Ferdinand Bongbong Marcos\" + 0.036*\"President Ferdinand Bongbong\" + 0.018*\"South China Sea\" + 0.012*\"Atmospheric Geophysical Astronomical\" + 0.012*\"Philippine Atmospheric Geophysical\" + 0.012*\"Services Administration PAGASA\" + 0.012*\"Geophysical Astronomical Services\" + 0.012*\"Astronomical Services Administration\" + 0.011*\"weather bureau say\" + 0.010*\"Social Welfare Development\"')]"
            ]
          },
          "metadata": {},
          "execution_count": 21
        }
      ]
    },
    {
      "cell_type": "code",
      "source": [
        "# Where does a text belong to\n",
        "lda_model_cumass[corpus][0]\n",
        "ph['Text'][0]"
      ],
      "metadata": {
        "colab": {
          "base_uri": "https://localhost:8080/",
          "height": 35
        },
        "id": "A6Mzgr5dL5uY",
        "outputId": "4974da97-e1c1-42a0-e79b-a1ad8616caab"
      },
      "execution_count": 22,
      "outputs": [
        {
          "output_type": "execute_result",
          "data": {
            "text/plain": [
              "'Dumagat-Remontados opposed to Kaliwa Dam urge NCIP to defend their rights'"
            ],
            "application/vnd.google.colaboratory.intrinsic+json": {
              "type": "string"
            }
          },
          "metadata": {},
          "execution_count": 22
        }
      ]
    },
    {
      "cell_type": "code",
      "source": [
        "# Visualize topics\n",
        "lda_display_cumass = pyLDAvis.gensim_models.prepare(lda_model_cumass, corpus, dictionary)\n",
        "pyLDAvis.display(lda_display_cumass)"
      ],
      "metadata": {
        "colab": {
          "base_uri": "https://localhost:8080/",
          "height": 861
        },
        "id": "vI8npXJVL6y4",
        "outputId": "9deeeded-e642-4f73-c5db-41a83bd70363"
      },
      "execution_count": null,
      "outputs": [
        {
          "output_type": "execute_result",
          "data": {
            "text/plain": [
              "<IPython.core.display.HTML object>"
            ],
            "text/html": [
              "\n",
              "<link rel=\"stylesheet\" type=\"text/css\" href=\"https://cdn.jsdelivr.net/gh/bmabey/pyLDAvis@3.4.0/pyLDAvis/js/ldavis.v1.0.0.css\">\n",
              "\n",
              "\n",
              "<div id=\"ldavis_el29181339400395511206271130069\" style=\"background-color:white;\"></div>\n",
              "<script type=\"text/javascript\">\n",
              "\n",
              "var ldavis_el29181339400395511206271130069_data = {\"mdsDat\": {\"x\": [0.27818668181950273, 0.03147752861995502, -0.3096642104394579], \"y\": [0.18398098350759415, -0.31703357558010375, 0.1330525920725095], \"topics\": [1, 2, 3], \"cluster\": [1, 1, 1], \"Freq\": [33.987477404997264, 33.19219539968378, 32.82032719531896]}, \"tinfo\": {\"Term\": [\"President Ferdinand Marcos\", \"Philippine National Police\", \"Ferdinand Bongbong Marcos\", \"National Police PNP\", \"President Ferdinand Bongbong\", \"manila President Ferdinand\", \"Department Health DOH\", \"Governor Roel Degamo\", \"South China Sea\", \"Negros oriental Governor\", \"oriental Governor Roel\", \"Commission Elections Comelec\", \"MANILA Philippines President\", \"Secretary Jesus Crispin\", \"Philippines President Ferdinand\", \"Astronomical Services Administration\", \"Atmospheric Geophysical Astronomical\", \"Philippine Atmospheric Geophysical\", \"Geophysical Astronomical Services\", \"Services Administration PAGASA\", \"Department Education DepEd\", \"weather bureau say\", \"Social Welfare Development\", \"Supreme Court SC\", \"Department Foreign Affairs\", \"Arnolfo Arnie Teves\", \"Jesus Crispin Remulla\", \"Ninoy Aquino International\", \"Aquino International Airport\", \"Coast Guard PCG\", \"Ferdinand Bongbong Marcos\", \"President Ferdinand Bongbong\", \"Astronomical Services Administration\", \"Atmospheric Geophysical Astronomical\", \"Geophysical Astronomical Services\", \"Philippine Atmospheric Geophysical\", \"Services Administration PAGASA\", \"weather bureau say\", \"Social Welfare Development\", \"Department Foreign Affairs\", \"Supreme Court SC\", \"Department Social Welfare\", \"Interior Local Government\", \"President Rodrigo Duterte\", \"Foreign Affairs DFA\", \"Welfare Development DSWD\", \"Department Interior Local\", \"Local Government DILG\", \"International Criminal Court\", \"Administration PAGASA say\", \"Department National Defense\", \"Social Weather Stations\", \"National Defense DND\", \"Philippine Charity Sweepstakes\", \"Criminal Court ICC\", \"Mindoro oil spill\", \"Weather Stations SWS\", \"Charity Sweepstakes Office\", \"Sweepstakes Office PCSO\", \"low pressure area\", \"South China Sea\", \"West Philippine Sea\", \"Philippines United States\", \"President Ferdinand Marcos\", \"manila President Ferdinand\", \"Secretary Jesus Crispin\", \"MANILA Philippines President\", \"Philippines President Ferdinand\", \"Coast Guard PCG\", \"Jesus Crispin Remulla\", \"Philippine Coast Guard\", \"Ferdinand Marcos say\", \"Justice Secretary Jesus\", \"MT Princess Empress\", \"Defense Cooperation Agreement\", \"Enhanced Defense Cooperation\", \"Department Budget Management\", \"Cooperation Agreement EDCA\", \"Ferdinand Marcos Wednesday\", \"MANILA Philippines Philippines\", \"Budget Management DBM\", \"Bureau Customs BOC\", \"Department Public Works\", \"Public Works Highways\", \"John Matthew Salilig\", \"Works Highways DPWH\", \"Information Communications Technology\", \"Senator Risa Hontiveros\", \"Ferdinand Marcos Thursday\", \"Department Information Communications\", \"Communications Technology DICT\", \"DOJ Secretary Jesus\", \"Department Transportation DOTr\", \"Presidential Communications Office\", \"Department Justice DOJ\", \"Bureau Immigration BI\", \"Armed Forces Philippines\", \"Bureau Corrections BuCor\", \"Forces Philippines AFP\", \"isolated rain shower\", \"local government unit\", \"Philippine National Police\", \"National Police PNP\", \"Governor Roel Degamo\", \"Negros oriental Governor\", \"oriental Governor Roel\", \"Commission Elections Comelec\", \"Department Education DepEd\", \"Department Health DOH\", \"Arnolfo Arnie Teves\", \"Aquino International Airport\", \"Ninoy Aquino International\", \"killing Negros oriental\", \"manila Philippine National\", \"International Airport NAIA\", \"overseas filipino worker\", \"filipino worker ofw\", \"new case active\", \"Police PNP chief\", \"Speaker Martin Romualdez\", \"case active tally\", \"log new case\", \"Negros Oriental Representative\", \"manila Commission Elections\", \"Land Transportation Office\", \"Barangay Sangguniang Kabataan\", \"Oriental Representative Arnolfo\", \"Transportation Office LTO\", \"Kabataan Elections BSKE\", \"Sangguniang Kabataan Elections\", \"Representative Arnolfo Arnie\", \"National Bureau Investigation\"], \"Freq\": [519.0, 288.0, 274.0, 234.0, 231.0, 223.0, 199.0, 112.0, 119.0, 103.0, 100.0, 99.0, 91.0, 86.0, 76.0, 77.0, 77.0, 77.0, 77.0, 77.0, 72.0, 69.0, 67.0, 67.0, 66.0, 63.0, 64.0, 63.0, 63.0, 63.0, 274.0581963017485, 231.23247104117488, 77.09121305415484, 77.09121305415484, 77.09121305415484, 77.09121305415484, 77.09121305415484, 68.47476480688584, 66.91086144494416, 65.78453711143062, 66.46752534949634, 64.09997497025519, 63.69306235813694, 64.41371415536273, 60.34898521127966, 59.97639334521327, 57.48615333791455, 54.088669060484364, 50.989390071406184, 45.075983636507225, 46.789049549669855, 43.10078246675697, 44.753219455077975, 41.3939828304961, 43.51737605733912, 40.54996146025258, 39.023673731835, 38.67478109275081, 37.31693400261908, 37.31673630937075, 117.8508521670846, 54.26886346098941, 42.10481586305457, 518.5610339493105, 223.27796878843188, 85.93556248817123, 90.64401933902441, 75.49858025418509, 63.23460733382193, 63.68219600632075, 63.0361984316671, 59.123202553673245, 60.61033031034555, 48.261159099131405, 48.442267994690766, 48.44240255679821, 45.90701258107456, 44.965127558479736, 41.882695811807416, 41.30255176242888, 39.55470699733132, 38.16160890112646, 37.37807422635467, 37.37807422635467, 37.45026972225862, 33.805441498073606, 30.13353996292462, 29.92344755952829, 28.934626688806294, 28.69688177233136, 27.305872314054994, 27.05969678902272, 29.32941436045154, 27.19160568273409, 77.28273338618538, 75.6436616081094, 66.45481312693201, 46.416180969305714, 55.44625786475852, 36.337183670580394, 35.127625363658396, 288.20824258730397, 233.73217222406507, 111.5991393773678, 103.01520073239693, 100.20076161645423, 98.55529343656714, 72.02543238326056, 198.10595055531238, 63.141872262112486, 62.72457850499151, 62.72457850499151, 60.12272005410169, 57.078171783294415, 54.237370512872545, 55.767787007817425, 50.796527962837516, 45.34486102745427, 43.347524323292845, 44.921727332886135, 42.53071983798857, 41.264697182683506, 39.76242172360958, 39.61149737684482, 39.02337315631155, 38.014377168443275, 36.94823425430279, 36.91486359638901, 35.904606482851115, 35.904606482851115, 34.83745987465705, 35.24800255995947], \"Total\": [519.0, 288.0, 274.0, 234.0, 231.0, 223.0, 199.0, 112.0, 119.0, 103.0, 100.0, 99.0, 91.0, 86.0, 76.0, 77.0, 77.0, 77.0, 77.0, 77.0, 72.0, 69.0, 67.0, 67.0, 66.0, 63.0, 64.0, 63.0, 63.0, 63.0, 274.7180324202982, 231.89340810773712, 77.73321349704501, 77.73321349704501, 77.73321349704501, 77.73321349704501, 77.73321349704501, 69.13209993685598, 67.56409104672174, 66.43843491591086, 67.14138124853106, 64.7514659378087, 64.35021761701911, 65.08168321267969, 61.000386056484295, 60.62612397523464, 58.13997418683029, 54.73996072513471, 51.674085783986484, 45.717671106923746, 47.47660219380428, 43.74926224814984, 45.43730360833238, 42.037524371447745, 44.19665001427544, 41.21734310012592, 39.6707476728092, 39.318496183331725, 37.95898328062013, 37.96020799952388, 119.93549307246259, 80.12919444571567, 73.31098923927048, 519.2191240929434, 223.92331142933543, 86.59348129682252, 91.34265840664612, 76.14264406602364, 63.885572145653214, 64.34267505526907, 63.69392051018762, 59.764191831934184, 61.274099214063526, 48.901482102628556, 49.09204358261166, 49.092636643967126, 46.552696619000784, 45.61533976046813, 42.52438430432434, 41.97428137364681, 40.19902028237363, 38.80808486800839, 38.01489518974854, 38.01489518974854, 38.090547747897574, 34.44247494191921, 30.776068209201497, 30.58445211596997, 29.577442122707872, 29.337625108832494, 27.946941828077193, 27.708397452565492, 30.033439783965427, 27.84996574265256, 105.66533288771575, 106.89127141865922, 97.9311109123806, 59.59713912234398, 85.30061661584278, 53.64597740865584, 52.66216268169687, 288.8627691791467, 234.3795766098562, 112.24663615566274, 103.65938824854726, 100.84534649334171, 99.21789862845073, 72.6794847661023, 199.99628932869484, 63.77842941506089, 63.363959761890406, 63.363959761890406, 60.76968551892234, 57.7124515709786, 54.8736281998912, 56.426331754831246, 51.45350069527632, 45.97508096372192, 43.983909938727905, 45.581517100326, 43.1610283725886, 41.898389223526195, 40.39536036559543, 40.24702879888832, 39.66515444562741, 38.64656865492963, 37.58132779852003, 37.554732750970494, 36.53608644664181, 36.53608644664181, 35.47080913163917, 35.90574171436016], \"Category\": [\"Default\", \"Default\", \"Default\", \"Default\", \"Default\", \"Default\", \"Default\", \"Default\", \"Default\", \"Default\", \"Default\", \"Default\", \"Default\", \"Default\", \"Default\", \"Default\", \"Default\", \"Default\", \"Default\", \"Default\", \"Default\", \"Default\", \"Default\", \"Default\", \"Default\", \"Default\", \"Default\", \"Default\", \"Default\", \"Default\", \"Topic1\", \"Topic1\", \"Topic1\", \"Topic1\", \"Topic1\", \"Topic1\", \"Topic1\", \"Topic1\", \"Topic1\", \"Topic1\", \"Topic1\", \"Topic1\", \"Topic1\", \"Topic1\", \"Topic1\", \"Topic1\", \"Topic1\", \"Topic1\", \"Topic1\", \"Topic1\", \"Topic1\", \"Topic1\", \"Topic1\", \"Topic1\", \"Topic1\", \"Topic1\", \"Topic1\", \"Topic1\", \"Topic1\", \"Topic1\", \"Topic1\", \"Topic1\", \"Topic1\", \"Topic2\", \"Topic2\", \"Topic2\", \"Topic2\", \"Topic2\", \"Topic2\", \"Topic2\", \"Topic2\", \"Topic2\", \"Topic2\", \"Topic2\", \"Topic2\", \"Topic2\", \"Topic2\", \"Topic2\", \"Topic2\", \"Topic2\", \"Topic2\", \"Topic2\", \"Topic2\", \"Topic2\", \"Topic2\", \"Topic2\", \"Topic2\", \"Topic2\", \"Topic2\", \"Topic2\", \"Topic2\", \"Topic2\", \"Topic2\", \"Topic2\", \"Topic2\", \"Topic2\", \"Topic2\", \"Topic2\", \"Topic2\", \"Topic2\", \"Topic2\", \"Topic3\", \"Topic3\", \"Topic3\", \"Topic3\", \"Topic3\", \"Topic3\", \"Topic3\", \"Topic3\", \"Topic3\", \"Topic3\", \"Topic3\", \"Topic3\", \"Topic3\", \"Topic3\", \"Topic3\", \"Topic3\", \"Topic3\", \"Topic3\", \"Topic3\", \"Topic3\", \"Topic3\", \"Topic3\", \"Topic3\", \"Topic3\", \"Topic3\", \"Topic3\", \"Topic3\", \"Topic3\", \"Topic3\", \"Topic3\", \"Topic3\"], \"logprob\": [30.0, 29.0, 28.0, 27.0, 26.0, 25.0, 24.0, 23.0, 22.0, 21.0, 20.0, 19.0, 18.0, 17.0, 16.0, 15.0, 14.0, 13.0, 12.0, 11.0, 10.0, 9.0, 8.0, 7.0, 6.0, 5.0, 4.0, 3.0, 2.0, 1.0, -3.1558, -3.3257, -4.4241, -4.4241, -4.4241, -4.4241, -4.4241, -4.5426, -4.5658, -4.5827, -4.5724, -4.6087, -4.615, -4.6038, -4.669, -4.6752, -4.7176, -4.7785, -4.8375, -4.9608, -4.9235, -5.0056, -4.968, -5.046, -4.996, -5.0666, -5.1049, -5.1139, -5.1497, -5.1497, -3.9997, -4.7752, -5.029, -2.4944, -3.337, -4.2918, -4.2385, -4.4213, -4.5986, -4.5915, -4.6017, -4.6658, -4.641, -4.8688, -4.8651, -4.8651, -4.9188, -4.9395, -5.0106, -5.0245, -5.0678, -5.1036, -5.1244, -5.1244, -5.1224, -5.2248, -5.3398, -5.3468, -5.3804, -5.3886, -5.4383, -5.4474, -5.3668, -5.4425, -4.398, -4.4194, -4.5489, -4.9078, -4.73, -5.1526, -5.1864, -3.0705, -3.28, -4.0193, -4.0993, -4.127, -4.1436, -4.4572, -3.4454, -4.5888, -4.5954, -4.5954, -4.6378, -4.6897, -4.7408, -4.713, -4.8063, -4.9199, -4.9649, -4.9292, -4.9839, -5.0142, -5.0512, -5.0551, -5.07, -5.0962, -5.1247, -5.1256, -5.1533, -5.1533, -5.1835, -5.1718], \"loglift\": [30.0, 29.0, 28.0, 27.0, 26.0, 25.0, 24.0, 23.0, 22.0, 21.0, 20.0, 19.0, 18.0, 17.0, 16.0, 15.0, 14.0, 13.0, 12.0, 11.0, 10.0, 9.0, 8.0, 7.0, 6.0, 5.0, 4.0, 3.0, 2.0, 1.0, 1.0768, 1.0763, 1.0709, 1.0709, 1.0709, 1.0709, 1.0709, 1.0696, 1.0695, 1.0693, 1.0691, 1.0691, 1.0689, 1.0689, 1.0684, 1.0684, 1.0679, 1.0672, 1.0658, 1.065, 1.0646, 1.0642, 1.064, 1.0638, 1.0637, 1.0629, 1.0627, 1.0627, 1.0621, 1.0621, 1.0616, 0.6895, 0.5246, 1.1016, 1.1, 1.0952, 1.0952, 1.0944, 1.0926, 1.0925, 1.0925, 1.0921, 1.092, 1.0897, 1.0895, 1.0895, 1.0889, 1.0885, 1.0877, 1.0867, 1.0867, 1.0861, 1.086, 1.086, 1.0859, 1.0842, 1.0818, 1.081, 1.0809, 1.0808, 1.0796, 1.0792, 1.0791, 1.0789, 0.79, 0.7571, 0.7151, 0.8529, 0.6721, 0.7133, 0.6979, 1.1119, 1.1114, 1.1083, 1.1079, 1.1077, 1.1074, 1.1051, 1.1046, 1.1041, 1.104, 1.104, 1.1034, 1.1031, 1.1025, 1.1024, 1.1013, 1.1003, 1.0995, 1.0995, 1.0994, 1.0989, 1.0983, 1.0982, 1.0978, 1.0976, 1.0971, 1.0969, 1.0967, 1.0967, 1.0961, 1.0956]}, \"token.table\": {\"Topic\": [1, 3, 2, 3, 3, 1, 1, 3, 2, 1, 2, 2, 2, 3, 1, 2, 3, 2, 2, 1, 2, 2, 2, 3, 1, 2, 3, 2, 1, 2, 3, 1, 2, 1, 2, 2, 1, 2, 2, 2, 2, 3, 1, 1, 3, 2, 1, 3, 1, 2, 2, 2, 3, 3, 1, 2, 2, 2, 1, 3, 1, 3, 3, 3, 3, 3, 1, 1, 2, 3, 2, 1, 2, 3, 1, 2, 1, 2, 2, 3, 3, 2, 2, 1, 1, 1, 1, 2, 3, 1, 1, 3, 1, 1, 1, 2, 2, 3, 3, 1, 2, 3, 1, 2, 3, 1, 3, 3, 2, 3, 3, 3, 1], \"Freq\": [0.9843021070507886, 0.9942560445518541, 0.6739431359974104, 0.3165490487260564, 0.9877947854439157, 0.9905675648277054, 0.9905675648277054, 0.9832697008445236, 0.9950491260489526, 0.2181312759545882, 0.7718491303008506, 0.979177409275495, 0.7110028629216327, 0.29001432566540286, 0.9918995838028326, 0.9861381511363131, 0.9978038374984466, 0.9661164418667864, 0.9865102449373532, 0.9955505674250894, 0.9744338353101001, 0.9777551818397215, 0.9881275058344269, 0.9906509413448784, 0.9934008843455483, 0.010000185537007593, 0.9900183681637517, 0.9884917368880398, 0.9803925921403572, 0.728715822831158, 0.2649875719386029, 0.9899613246992962, 0.9733026966223958, 0.9883946111964406, 0.9655903622295982, 0.9777433701128905, 0.9973862930875989, 0.98047694184263, 0.9876686208888622, 0.9872132156646038, 0.6447784574371402, 0.3516973404202583, 0.9836003323723562, 0.9905675648277054, 0.9978027300941054, 0.9747833867560293, 0.9945576311939854, 0.984079270342599, 0.9869550515745094, 0.9946742180834925, 0.9713695965961066, 0.9955266708514808, 0.9853272066392572, 0.9832307612330315, 0.9864822569228673, 0.9767886109836176, 0.9962486486311725, 0.9815653419105655, 0.9947269017413871, 0.9747744602641667, 0.9903756699098627, 0.9983805047549512, 0.9902127283426303, 0.9936388950418439, 0.9942560445518541, 0.984531472606912, 0.9905675648277054, 0.9753190896238304, 0.98910538863632, 0.9970132212552056, 0.9849933755251151, 0.5729018314419616, 0.42285611368335263, 0.9776302302342255, 0.9961473328844171, 0.9995779737633389, 0.9833796060691167, 0.9694805462058136, 0.9733026966223958, 0.9867268567262758, 0.9853272066392572, 0.9931463513426814, 0.9808905481205337, 0.9905675648277054, 0.9828737169577865, 0.9916510229327046, 0.9838622160723247, 0.01667563078088686, 0.9872422609575264, 0.9830003311325081, 0.9747363285910311, 0.9852286859648559, 0.9830921343267514, 0.9896723733239089, 0.6739116794264398, 0.3244759937979155, 0.9871532187316574, 0.9962691256751688, 0.9911862032874674, 0.31689235281333566, 0.6710661588988285, 0.9873343837087544, 0.3228124166254281, 0.6646137989347048, 0.9785579054427767, 0.9747048804491292, 0.9938621854516837, 0.9876551497712347, 0.9958766623115665, 0.9787910984976549, 0.9916173971061965, 0.9924444538290451, 0.9836241060536275], \"Term\": [\"Administration PAGASA say\", \"Aquino International Airport\", \"Armed Forces Philippines\", \"Armed Forces Philippines\", \"Arnolfo Arnie Teves\", \"Astronomical Services Administration\", \"Atmospheric Geophysical Astronomical\", \"Barangay Sangguniang Kabataan\", \"Budget Management DBM\", \"Bureau Corrections BuCor\", \"Bureau Corrections BuCor\", \"Bureau Customs BOC\", \"Bureau Immigration BI\", \"Bureau Immigration BI\", \"Charity Sweepstakes Office\", \"Coast Guard PCG\", \"Commission Elections Comelec\", \"Communications Technology DICT\", \"Cooperation Agreement EDCA\", \"Criminal Court ICC\", \"DOJ Secretary Jesus\", \"Defense Cooperation Agreement\", \"Department Budget Management\", \"Department Education DepEd\", \"Department Foreign Affairs\", \"Department Health DOH\", \"Department Health DOH\", \"Department Information Communications\", \"Department Interior Local\", \"Department Justice DOJ\", \"Department Justice DOJ\", \"Department National Defense\", \"Department Public Works\", \"Department Social Welfare\", \"Department Transportation DOTr\", \"Enhanced Defense Cooperation\", \"Ferdinand Bongbong Marcos\", \"Ferdinand Marcos Thursday\", \"Ferdinand Marcos Wednesday\", \"Ferdinand Marcos say\", \"Forces Philippines AFP\", \"Forces Philippines AFP\", \"Foreign Affairs DFA\", \"Geophysical Astronomical Services\", \"Governor Roel Degamo\", \"Information Communications Technology\", \"Interior Local Government\", \"International Airport NAIA\", \"International Criminal Court\", \"Jesus Crispin Remulla\", \"John Matthew Salilig\", \"Justice Secretary Jesus\", \"Kabataan Elections BSKE\", \"Land Transportation Office\", \"Local Government DILG\", \"MANILA Philippines Philippines\", \"MANILA Philippines President\", \"MT Princess Empress\", \"Mindoro oil spill\", \"National Bureau Investigation\", \"National Defense DND\", \"National Police PNP\", \"Negros Oriental Representative\", \"Negros oriental Governor\", \"Ninoy Aquino International\", \"Oriental Representative Arnolfo\", \"Philippine Atmospheric Geophysical\", \"Philippine Charity Sweepstakes\", \"Philippine Coast Guard\", \"Philippine National Police\", \"Philippines President Ferdinand\", \"Philippines United States\", \"Philippines United States\", \"Police PNP chief\", \"President Ferdinand Bongbong\", \"President Ferdinand Marcos\", \"President Rodrigo Duterte\", \"Presidential Communications Office\", \"Public Works Highways\", \"Representative Arnolfo Arnie\", \"Sangguniang Kabataan Elections\", \"Secretary Jesus Crispin\", \"Senator Risa Hontiveros\", \"Services Administration PAGASA\", \"Social Weather Stations\", \"Social Welfare Development\", \"South China Sea\", \"South China Sea\", \"Speaker Martin Romualdez\", \"Supreme Court SC\", \"Sweepstakes Office PCSO\", \"Transportation Office LTO\", \"Weather Stations SWS\", \"Welfare Development DSWD\", \"West Philippine Sea\", \"West Philippine Sea\", \"Works Highways DPWH\", \"case active tally\", \"filipino worker ofw\", \"isolated rain shower\", \"isolated rain shower\", \"killing Negros oriental\", \"local government unit\", \"local government unit\", \"log new case\", \"low pressure area\", \"manila Commission Elections\", \"manila Philippine National\", \"manila President Ferdinand\", \"new case active\", \"oriental Governor Roel\", \"overseas filipino worker\", \"weather bureau say\"]}, \"R\": 30, \"lambda.step\": 0.01, \"plot.opts\": {\"xlab\": \"PC1\", \"ylab\": \"PC2\"}, \"topic.order\": [3, 1, 2]};\n",
              "\n",
              "function LDAvis_load_lib(url, callback){\n",
              "  var s = document.createElement('script');\n",
              "  s.src = url;\n",
              "  s.async = true;\n",
              "  s.onreadystatechange = s.onload = callback;\n",
              "  s.onerror = function(){console.warn(\"failed to load library \" + url);};\n",
              "  document.getElementsByTagName(\"head\")[0].appendChild(s);\n",
              "}\n",
              "\n",
              "if(typeof(LDAvis) !== \"undefined\"){\n",
              "   // already loaded: just create the visualization\n",
              "   !function(LDAvis){\n",
              "       new LDAvis(\"#\" + \"ldavis_el29181339400395511206271130069\", ldavis_el29181339400395511206271130069_data);\n",
              "   }(LDAvis);\n",
              "}else if(typeof define === \"function\" && define.amd){\n",
              "   // require.js is available: use it to load d3/LDAvis\n",
              "   require.config({paths: {d3: \"https://d3js.org/d3.v5\"}});\n",
              "   require([\"d3\"], function(d3){\n",
              "      window.d3 = d3;\n",
              "      LDAvis_load_lib(\"https://cdn.jsdelivr.net/gh/bmabey/pyLDAvis@3.4.0/pyLDAvis/js/ldavis.v3.0.0.js\", function(){\n",
              "        new LDAvis(\"#\" + \"ldavis_el29181339400395511206271130069\", ldavis_el29181339400395511206271130069_data);\n",
              "      });\n",
              "    });\n",
              "}else{\n",
              "    // require.js not available: dynamically load d3 & LDAvis\n",
              "    LDAvis_load_lib(\"https://d3js.org/d3.v5.js\", function(){\n",
              "         LDAvis_load_lib(\"https://cdn.jsdelivr.net/gh/bmabey/pyLDAvis@3.4.0/pyLDAvis/js/ldavis.v3.0.0.js\", function(){\n",
              "                 new LDAvis(\"#\" + \"ldavis_el29181339400395511206271130069\", ldavis_el29181339400395511206271130069_data);\n",
              "            })\n",
              "         });\n",
              "}\n",
              "</script>"
            ]
          },
          "metadata": {},
          "execution_count": 123
        }
      ]
    },
    {
      "cell_type": "code",
      "source": [
        "# Save the report\n",
        "pyLDAvis.save_html(lda_display_cumass, f'{dir_actual}lda-ph-trigram-cumass.html')"
      ],
      "metadata": {
        "id": "i3R565opJEP5"
      },
      "execution_count": null,
      "outputs": []
    },
    {
      "cell_type": "markdown",
      "source": [
        "trigram c_v = 13 no lower\n"
      ],
      "metadata": {
        "id": "sXYkKk2kKri4"
      }
    },
    {
      "cell_type": "code",
      "source": [
        "lda_model_cv = LdaMulticore(corpus=corpus, id2word=dictionary, iterations=100, num_topics=13, workers = 4, passes=100)"
      ],
      "metadata": {
        "id": "aNLXPbiIKtJZ"
      },
      "execution_count": null,
      "outputs": []
    },
    {
      "cell_type": "code",
      "source": [
        "\n",
        "# lda_model_cv.save(datapath(f'{dir_actual}lda_model_cv'))\n",
        "lda_model_cv = models.ldamodel.LdaModel.load(datapath(f'{dir_actual}lda_model_cv'))\n"
      ],
      "metadata": {
        "id": "u1EhlwaA3N4_"
      },
      "execution_count": 23,
      "outputs": []
    },
    {
      "cell_type": "code",
      "source": [
        "#Print topics\n",
        "lda_model_cv.print_topics(-1)"
      ],
      "metadata": {
        "colab": {
          "base_uri": "https://localhost:8080/"
        },
        "id": "S3sRmvnCLK9Z",
        "outputId": "09d3cb56-9d60-4438-b5c8-0e46e6ff671a"
      },
      "execution_count": 24,
      "outputs": [
        {
          "output_type": "execute_result",
          "data": {
            "text/plain": [
              "[(0,\n",
              "  '0.113*\"Ferdinand Bongbong Marcos\" + 0.095*\"President Ferdinand Bongbong\" + 0.032*\"Geophysical Astronomical Services\" + 0.032*\"Astronomical Services Administration\" + 0.032*\"Atmospheric Geophysical Astronomical\" + 0.032*\"Services Administration PAGASA\" + 0.032*\"Philippine Atmospheric Geophysical\" + 0.030*\"West Philippine Sea\" + 0.028*\"weather bureau say\" + 0.027*\"Department Foreign Affairs\"'),\n",
              " (1,\n",
              "  '0.120*\"Department Health DOH\" + 0.026*\"Negros Oriental Representative\" + 0.025*\"Health DOH say\" + 0.024*\"Oriental Representative Arnolfo\" + 0.023*\"Representative Arnolfo Arnie\" + 0.022*\"case active tally\" + 0.021*\"new case active\" + 0.021*\"Department Budget Management\" + 0.019*\"MANILA Philippines Department\" + 0.018*\"Budget Management DBM\"'),\n",
              " (2,\n",
              "  '0.043*\"MT Princess Empress\" + 0.033*\"Department Public Works\" + 0.033*\"Public Works Highways\" + 0.031*\"local government unit\" + 0.030*\"Works Highways DPWH\" + 0.023*\"oil spill oriental\" + 0.023*\"spill oriental Mindoro\" + 0.019*\"government unit lgu\" + 0.018*\"affect oil spill\" + 0.018*\"new EDCA site\"'),\n",
              " (3,\n",
              "  '0.089*\"South China Sea\" + 0.031*\"Philippine Charity Sweepstakes\" + 0.029*\"Charity Sweepstakes Office\" + 0.028*\"Sweepstakes Office PCSO\" + 0.024*\"Senate President Juan\" + 0.024*\"Juan Miguel Zubiri\" + 0.023*\"President Juan Miguel\" + 0.022*\"log new case\" + 0.015*\"draw Philippine Charity\" + 0.014*\"chief Gerald Bantag\"'),\n",
              " (4,\n",
              "  '0.081*\"Armed Forces Philippines\" + 0.070*\"Forces Philippines AFP\" + 0.040*\"Enhanced Defense Cooperation\" + 0.040*\"Defense Cooperation Agreement\" + 0.037*\"Cooperation Agreement EDCA\" + 0.034*\"Mindoro oil spill\" + 0.022*\"Percy Lapid Mabasa\" + 0.022*\"Bureau Corrections BuCor\" + 0.019*\"Percival Percy Lapid\" + 0.016*\"Philippines United States\"'),\n",
              " (5,\n",
              "  '0.074*\"Social Welfare Development\" + 0.070*\"Department Social Welfare\" + 0.066*\"Welfare Development DSWD\" + 0.033*\"Philippine Army PA\" + 0.028*\"Education Secretary Sara\" + 0.028*\"Secretary Sara Duterte\" + 0.028*\"Vice President Education\" + 0.028*\"President Education Secretary\" + 0.024*\"manila Philippine Army\" + 0.022*\"House Deputy Speaker\"'),\n",
              " (6,\n",
              "  '0.058*\"Department Justice DOJ\" + 0.057*\"Secretary Jesus Crispin\" + 0.042*\"Jesus Crispin Remulla\" + 0.042*\"Philippine Coast Guard\" + 0.040*\"Justice Secretary Jesus\" + 0.032*\"Coast Guard PCG\" + 0.029*\"Social Weather Stations\" + 0.026*\"Weather Stations SWS\" + 0.023*\"National Bureau Investigation\" + 0.019*\"Bureau Investigation NBI\"'),\n",
              " (7,\n",
              "  '0.076*\"Governor Roel Degamo\" + 0.070*\"Negros oriental Governor\" + 0.068*\"oriental Governor Roel\" + 0.049*\"Department Education DepEd\" + 0.041*\"killing Negros oriental\" + 0.030*\"Speaker Martin Romualdez\" + 0.026*\"Land Transportation Office\" + 0.025*\"Transportation Office LTO\" + 0.018*\"Arnolfo Arnie Teves\" + 0.018*\"House Speaker Martin\"'),\n",
              " (8,\n",
              "  '0.140*\"Philippine National Police\" + 0.117*\"National Police PNP\" + 0.054*\"Bureau Immigration BI\" + 0.033*\"Interior Local Government\" + 0.030*\"Department Interior Local\" + 0.029*\"manila Philippine National\" + 0.028*\"Local Government DILG\" + 0.024*\"Aquino International Airport\" + 0.024*\"Ninoy Aquino International\" + 0.022*\"International Airport NAIA\"'),\n",
              " (9,\n",
              "  '0.040*\"Philippines United States\" + 0.038*\"International Criminal Court\" + 0.033*\"Criminal Court ICC\" + 0.028*\"John Matthew Salilig\" + 0.025*\"Ferdinand Martin Romualdez\" + 0.025*\"Speaker Ferdinand Martin\" + 0.024*\"MANILA Philippines Philippines\" + 0.023*\"Commission Human Rights\" + 0.021*\"Human Rights CHR\" + 0.017*\"Bato dela Rosa\"'),\n",
              " (10,\n",
              "  '0.261*\"President Ferdinand Marcos\" + 0.113*\"manila President Ferdinand\" + 0.038*\"Philippines President Ferdinand\" + 0.036*\"MANILA Philippines President\" + 0.032*\"Supreme Court SC\" + 0.030*\"Ferdinand Marcos say\" + 0.021*\"Ferdinand Marcos Wednesday\" + 0.015*\"Philippines Supreme Court\" + 0.015*\"Ferdinand Marcos Thursday\" + 0.014*\"MANILA Philippines Supreme\"'),\n",
              " (11,\n",
              "  '0.051*\"overseas filipino worker\" + 0.046*\"filipino worker ofw\" + 0.027*\"Information Communications Technology\" + 0.027*\"Department National Defense\" + 0.026*\"Department Agriculture DA\" + 0.026*\"Department Information Communications\" + 0.026*\"National Defense DND\" + 0.025*\"Communications Technology DICT\" + 0.025*\"Presidential Communications Office\" + 0.025*\"Department Migrant Workers\"'),\n",
              " (12,\n",
              "  '0.089*\"Commission Elections Comelec\" + 0.045*\"President Rodrigo Duterte\" + 0.036*\"manila Commission Elections\" + 0.034*\"Barangay Sangguniang Kabataan\" + 0.032*\"Kabataan Elections BSKE\" + 0.032*\"Sangguniang Kabataan Elections\" + 0.027*\"Department Transportation DOTr\" + 0.023*\"National Capital Region\" + 0.022*\"Commission Audit COA\" + 0.020*\"MANILA Philippines Commission\"')]"
            ]
          },
          "metadata": {},
          "execution_count": 24
        }
      ]
    },
    {
      "cell_type": "code",
      "source": [
        "# Where does a text belong to\n",
        "print(lda_model_cv[corpus][0])\n",
        "print(ph['Text'][0])"
      ],
      "metadata": {
        "colab": {
          "base_uri": "https://localhost:8080/"
        },
        "id": "JY85eEPZLOCA",
        "outputId": "2bedff5c-34d8-4d45-8d03-46d5ab1483f2"
      },
      "execution_count": 25,
      "outputs": [
        {
          "output_type": "stream",
          "name": "stdout",
          "text": [
            "[(0, 0.07692308), (1, 0.07692308), (2, 0.07692308), (3, 0.07692308), (4, 0.07692308), (5, 0.07692308), (6, 0.07692308), (7, 0.07692308), (8, 0.07692308), (9, 0.07692308), (10, 0.07692308), (11, 0.07692308), (12, 0.07692308)]\n",
            "Dumagat-Remontados opposed to Kaliwa Dam urge NCIP to defend their rights\n"
          ]
        }
      ]
    },
    {
      "cell_type": "code",
      "source": [
        "# Visualize topics\n",
        "lda_display_cv = pyLDAvis.gensim_models.prepare(lda_model_cv, corpus, dictionary)\n",
        "pyLDAvis.display(lda_display_cv)"
      ],
      "metadata": {
        "colab": {
          "base_uri": "https://localhost:8080/",
          "height": 861
        },
        "id": "uqdR7a-4LRI2",
        "outputId": "620fabd6-7d5b-42a2-9052-4848b5a6e0a5"
      },
      "execution_count": null,
      "outputs": [
        {
          "output_type": "execute_result",
          "data": {
            "text/plain": [
              "<IPython.core.display.HTML object>"
            ],
            "text/html": [
              "\n",
              "<link rel=\"stylesheet\" type=\"text/css\" href=\"https://cdn.jsdelivr.net/gh/bmabey/pyLDAvis@3.4.0/pyLDAvis/js/ldavis.v1.0.0.css\">\n",
              "\n",
              "\n",
              "<div id=\"ldavis_el29181339400395498886024162722\" style=\"background-color:white;\"></div>\n",
              "<script type=\"text/javascript\">\n",
              "\n",
              "var ldavis_el29181339400395498886024162722_data = {\"mdsDat\": {\"x\": [-0.1584480231407186, -0.07205393646727579, -0.2272890380784291, -0.11989783908960441, 0.15331082202732074, -0.07449240580733964, 0.04488437940654257, 0.17278287559193453, 0.14597010387943574, 0.13988638280893986, -0.12846250983292276, 0.1405953365759972, -0.016786147873880258], \"y\": [-0.22123355439461956, -0.2836717231837899, 0.11423818335388466, 0.11057828386014336, 0.09433341439555111, 0.2094117507238309, 0.0927326747857148, -0.04020861416606104, -0.0655930324070623, 0.02296340538554425, -0.007741001027801259, -0.04710501784355753, 0.021295230518223452], \"topics\": [1, 2, 3, 4, 5, 6, 7, 8, 9, 10, 11, 12, 13], \"cluster\": [1, 1, 1, 1, 1, 1, 1, 1, 1, 1, 1, 1, 1], \"Freq\": [11.856767563608091, 9.579313679848037, 9.243161824391644, 8.602038149103192, 8.34451541446411, 8.007225686547839, 7.475851747539167, 7.45067345620094, 6.554754629671781, 6.212543228227039, 5.9395681491572265, 5.5501673031367815, 5.1834191681041535]}, \"tinfo\": {\"Term\": [\"President Ferdinand Marcos\", \"Philippine National Police\", \"Ferdinand Bongbong Marcos\", \"National Police PNP\", \"manila President Ferdinand\", \"President Ferdinand Bongbong\", \"Department Health DOH\", \"South China Sea\", \"Governor Roel Degamo\", \"Commission Elections Comelec\", \"Armed Forces Philippines\", \"Negros oriental Governor\", \"oriental Governor Roel\", \"Forces Philippines AFP\", \"Secretary Jesus Crispin\", \"Department Justice DOJ\", \"Bureau Immigration BI\", \"Social Welfare Development\", \"Department Social Welfare\", \"Welfare Development DSWD\", \"Department Education DepEd\", \"Jesus Crispin Remulla\", \"Philippine Coast Guard\", \"Justice Secretary Jesus\", \"Philippines President Ferdinand\", \"Philippines United States\", \"overseas filipino worker\", \"killing Negros oriental\", \"President Rodrigo Duterte\", \"Services Administration PAGASA\", \"Ferdinand Bongbong Marcos\", \"President Ferdinand Bongbong\", \"Astronomical Services Administration\", \"Atmospheric Geophysical Astronomical\", \"Geophysical Astronomical Services\", \"Philippine Atmospheric Geophysical\", \"Services Administration PAGASA\", \"weather bureau say\", \"Department Foreign Affairs\", \"Foreign Affairs DFA\", \"isolated rain shower\", \"Administration PAGASA say\", \"low pressure area\", \"Bureau Customs BOC\", \"northeast monsoon amihan\", \"pressure area LPA\", \"rain shower thunderstorm\", \"Bongbong Marcos say\", \"weather isolated rain\", \"Philippine Sea WPS\", \"scatter rain shower\", \"Affairs DFA say\", \"Philippines Huang Xilian\", \"country continue experience\", \"WASHINGTON President Ferdinand\", \"Ambassador Philippines Huang\", \"chinese Ambassador Philippines\", \"bureau say Thursday\", \"rain shower prevail\", \"philippine Coast Guard\", \"West Philippine Sea\", \"tropical depression Amang\", \"President Ferdinand Marcos\", \"manila President Ferdinand\", \"Philippines President Ferdinand\", \"Ferdinand Marcos say\", \"Ferdinand Marcos Wednesday\", \"Philippines Supreme Court\", \"Ferdinand Marcos Thursday\", \"MANILA Philippines Supreme\", \"administration President Ferdinand\", \"Minister Petr Fiala\", \"Prime Minister Petr\", \"Ferdinand Marcos Monday\", \"Health Insurance Corporation\", \"Insurance Corporation PhilHealth\", \"Ferdinand Marcos appoint\", \"Ferdinand Marcos Friday\", \"philippine President Ferdinand\", \"malaysian Prime Minister\", \"Commission Higher Education\", \"Ferdinand Marcos Jr\", \"Ferdinand Marcos Saturday\", \"Chinese Coast Guard\", \"Supreme Court SC\", \"Higher Education CHED\", \"MANILA Philippines area\", \"hurdle second reading\", \"Philippines area suspend\", \"area suspend class\", \"Minister Anwar Ibrahim\", \"Prime Minister Anwar\", \"Philippine Health Insurance\", \"Senator Risa Hontiveros\", \"MANILA Philippines President\", \"manila philippine government\", \"Department Tourism DOT\", \"National Police PNP\", \"Bureau Immigration BI\", \"Interior Local Government\", \"Department Interior Local\", \"manila Philippine National\", \"Local Government DILG\", \"Police PNP chief\", \"Government DILG Secretary\", \"DILG Secretary Benjamin\", \"chief Rodolfo Azurin\", \"PNP chief Rodolfo\", \"manila Bureau Immigration\", \"Philippine National Police\", \"Secretary Benhur Abalos\", \"Negros oriental district\", \"oriental district Arnolfo\", \"Southeast Asian Nations\", \"Asian Nations ASEAN\", \"Association Southeast Asian\", \"district Arnolfo Arnie\", \"MANILA Department Interior\", \"Secretary Benjamin Abalos\", \"Police PNP say\", \"Philippine Navy PN\", \"cloudy sky isolated\", \"sky isolated rain\", \"General Rodolfo Azurin\", \"involvement illegal drug\", \"MANILA Philippines year\", \"chief Police General\", \"International Airport NAIA\", \"Aquino International Airport\", \"Ninoy Aquino International\", \"Secretary Jesus Crispin\", \"Jesus Crispin Remulla\", \"Philippine Coast Guard\", \"Justice Secretary Jesus\", \"Social Weather Stations\", \"Weather Stations SWS\", \"National Bureau Investigation\", \"Bureau Investigation NBI\", \"DOJ Secretary Jesus\", \"Justice DOJ Secretary\", \"Civil Service Commission\", \"Leila de Lima\", \"Crispin Boying Remulla\", \"Jesus Crispin Boying\", \"Service Commission CSC\", \"Stations SWS survey\", \"Crispin Remulla say\", \"Philippine Drug Enforcement\", \"Drug Enforcement Agency\", \"People Power Revolution\", \"Philippines Department Justice\", \"Enforcement Agency PDEA\", \"EDSA People Power\", \"senator Leila de\", \"anti graft court\", \"face face class\", \"manila Civil Service\", \"National Police Criminal\", \"Police Criminal Investigation\", \"economic provision Constitution\", \"Department Justice DOJ\", \"Coast Guard PCG\", \"MANILA Philippines Department\", \"Negros Oriental Representative\", \"Health DOH say\", \"Oriental Representative Arnolfo\", \"Representative Arnolfo Arnie\", \"Department Labor Employment\", \"record new case\", \"Labor Employment DOLE\", \"Philippines Department Health\", \"Health DOH report\", \"daily average new\", \"suspend Negros Oriental\", \"MANILA Philippines House\", \"Institute Volcanology Seismology\", \"Philippine Institute Volcanology\", \"coronavirus disease case\", \"Drug Enforcement Group\", \"Volcanology Seismology Phivolcs\", \"Health DOH Tuesday\", \"Enforcement Group PDEG\", \"Health DOH Friday\", \"active tally climb\", \"wearing face mask\", \"average new coronavirus\", \"country daily average\", \"new coronavirus disease\", \"Davao de Oro\", \"West PH Sea\", \"DOH report Monday\", \"Foreign Affairs Secretary\", \"Philippines House Representatives\", \"Department Health DOH\", \"Senator Sherwin Gatchalian\", \"case active tally\", \"new case active\", \"Department Budget Management\", \"Budget Management DBM\", \"MANILA Philippines Department\", \"oil spill affect\", \"Arnolfo Arnie Teves\", \"Governor Roel Degamo\", \"Negros oriental Governor\", \"oriental Governor Roel\", \"Department Education DepEd\", \"killing Negros oriental\", \"Speaker Martin Romualdez\", \"Land Transportation Office\", \"Transportation Office LTO\", \"House Speaker Martin\", \"illegal possession firearm\", \"Disaster Risk Reduction\", \"National Disaster Risk\", \"Reduction Management Council\", \"Risk Reduction Management\", \"Bureau Jail Management\", \"Jail Management Penology\", \"National Task Force\", \"Philippines AFP chief\", \"Management Penology BJMP\", \"assassination Negros oriental\", \"Management Council NDRRMC\", \"suspend Negros oriental\", \"AFP chief staff\", \"possession firearm explosive\", \"Conflict NTF ELCAC\", \"Task Force end\", \"slain Negros oriental\", \"Armed Conflict NTF\", \"Communist Armed Conflict\", \"Philippines Department Education\", \"Negros oriental District\", \"say Tuesday April\", \"Arnolfo Arnie Teves\", \"oriental District Arnolfo\", \"Department Justice DOJ\", \"International Criminal Court\", \"Criminal Court ICC\", \"John Matthew Salilig\", \"Ferdinand Martin Romualdez\", \"Speaker Ferdinand Martin\", \"Commission Human Rights\", \"Human Rights CHR\", \"president Rodrigo Duterte\", \"Maharlika Investment Fund\", \"student John Matthew\", \"New Bilibid Prison\", \"person deprive liberty\", \"Manila Development Authority\", \"Adamson University student\", \"Gloria Macapagal Arroyo\", \"Metropolitan Manila Development\", \"manila Speaker Ferdinand\", \"University student John\", \"Investment Fund MIF\", \"Bilibid Prison NBP\", \"Development Authority MMDA\", \"operative Philippine National\", \"visit United States\", \"Bureau Fisheries Aquatic\", \"Fisheries Aquatic Resources\", \"House Representatives Wednesday\", \"death Adamson University\", \"manila operative Philippine\", \"Department Trade Industry\", \"House Speaker Ferdinand\", \"Philippines United States\", \"MANILA Philippines Philippines\", \"Bato dela Rosa\", \"Senator Ronald Bato\", \"Philippine Air Force\", \"Ronald Bato dela\", \"manila House Representatives\", \"worth illegal drug\", \"President Rodrigo Duterte\", \"South China Sea\", \"Philippine Charity Sweepstakes\", \"Charity Sweepstakes Office\", \"Sweepstakes Office PCSO\", \"Senate President Juan\", \"Juan Miguel Zubiri\", \"President Juan Miguel\", \"draw Philippine Charity\", \"DOH log new\", \"Comprehensive Economic Partnership\", \"Regional Comprehensive Economic\", \"Corrections BuCor chief\", \"Economic Partnership RCEP\", \"BuCor chief Gerald\", \"evening draw Philippine\", \"Lotto evening draw\", \"Philippine Statistics Authority\", \"philippine Navy PN\", \"broadcaster Percy Lapid\", \"manila philippine Navy\", \"manila United States\", \"Immigration BI report\", \"House Representatives Monday\", \"Minority Leader Aquilino\", \"Senate Minority Leader\", \"Statistics Authority PSA\", \"BRP Antonio Luna\", \"approval trust rating\", \"Representative Arnolfo Teves\", \"barangay Sangguniang Kabataan\", \"chief Gerald Bantag\", \"log new case\", \"approve final read\", \"Bureau Corrections BuCor\", \"new case active\", \"Maritime Industry Authority\", \"Armed Forces Philippines\", \"Forces Philippines AFP\", \"Enhanced Defense Cooperation\", \"Defense Cooperation Agreement\", \"Cooperation Agreement EDCA\", \"Mindoro oil spill\", \"Percy Lapid Mabasa\", \"Percival Percy Lapid\", \"Manila Water Company\", \"Agreement EDCA site\", \"Company Manila Water\", \"Water Company Manila\", \"Officers Training Corps\", \"broadcaster Percival Percy\", \"Training Corps ROTC\", \"manila Armed Forces\", \"Ferdinand Marcos Tuesday\", \"Reserve Officers Training\", \"United States President\", \"oil spill response\", \"President Kamala Harris\", \"Vice President Kamala\", \"Rail Transit Line\", \"service improvement activity\", \"oil spill cleanup\", \"National Security Council\", \"States President Joe\", \"interruption service improvement\", \"water interruption service\", \"manila Manila Water\", \"case Omicron subvariant\", \"Bureau Corrections BuCor\", \"Department National Defense\", \"National Defense DND\", \"Philippines United States\", \"President Joe Biden\", \"MT Princess Empress\", \"Department Public Works\", \"Public Works Highways\", \"Works Highways DPWH\", \"oil spill oriental\", \"spill oriental Mindoro\", \"affect oil spill\", \"new EDCA site\", \"constitutional convention con\", \"convention con con\", \"Bureau Internal Revenue\", \"Court Tax Appeals\", \"Maria Rosario Vergeire\", \"Department Science Technology\", \"Internal Revenue BIR\", \"Tax Appeals CTA\", \"charge Maria Rosario\", \"accord Department Health\", \"Civil Defense OCD\", \"officer charge Maria\", \"Science Technology DOST\", \"Rosario Vergeire say\", \"number new case\", \"Crispin Remulla Thursday\", \"Pryde Henry Teves\", \"Sugar Regulatory Administration\", \"cease desist order\", \"con con amend\", \"Regulatory Administration SRA\", \"call constitutional convention\", \"Office Civil Defense\", \"local government unit\", \"oriental Mindoro province\", \"government unit lgu\", \"Senator Imee Marcos\", \"Department Health DOH\", \"Communist Party Philippines\", \"House Representatives Tuesday\", \"Commission Elections Comelec\", \"manila Commission Elections\", \"Barangay Sangguniang Kabataan\", \"Kabataan Elections BSKE\", \"Sangguniang Kabataan Elections\", \"Department Transportation DOTr\", \"Commission Audit COA\", \"MANILA Philippines Commission\", \"Franchising Regulatory Board\", \"Land Transportation Franchising\", \"Transportation Franchising Regulatory\", \"Regulatory Board LTFRB\", \"Capital Region NCR\", \"Manila International Airport\", \"Senator Grace Poe\", \"International Airport Authority\", \"Professional Regulation Commission\", \"Department Agrarian Reform\", \"Davao del Norte\", \"public utility vehicle\", \"Regulation Commission PRC\", \"Agrarian Reform DAR\", \"Bureau Fire Protection\", \"Airport Authority MIAA\", \"Deputy Minority Leader\", \"Philippines President Rodrigo\", \"Fire Protection BFP\", \"Mega Lotto jackpot\", \"Philippines Commission Elections\", \"agrarian reform beneficiary\", \"President Rodrigo Duterte\", \"National Capital Region\", \"Albert del Rosario\", \"Aquino International Airport\", \"Ninoy Aquino International\", \"overseas filipino worker\", \"filipino worker ofw\", \"Information Communications Technology\", \"Department Information Communications\", \"Communications Technology DICT\", \"Presidential Communications Office\", \"Department Migrant Workers\", \"Migrant Workers DMW\", \"Communications Office PCO\", \"Secretary Amenah Pangandaman\", \"manila Department Agriculture\", \"Senator Raffy Tulfo\", \"warm humid weather\", \"Autonomous Region Muslim\", \"Region Muslim Mindanao\", \"MANILA Philippines Senate\", \"Bangsamoro Autonomous Region\", \"Maguindanao del Sur\", \"file measure seek\", \"MANILA Senate President\", \"Senate President Pro\", \"Muslim Mindanao BARMM\", \"Regional Trial Court\", \"Boying Remulla say\", \"DBM Secretary Amenah\", \"Management DBM Secretary\", \"DND chief Carlito\", \"Defense DND chief\", \"President Pro Tempore\", \"Pro Tempore Loren\", \"Department Agriculture DA\", \"President Sara Duterte\", \"Vice President Sara\", \"National Defense DND\", \"Department National Defense\", \"chief Carlito Galvez\", \"MANILA Department National\", \"Department Budget Management\", \"Budget Management DBM\", \"Social Welfare Development\", \"Department Social Welfare\", \"Welfare Development DSWD\", \"Philippine Army PA\", \"Education Secretary Sara\", \"President Education Secretary\", \"Secretary Sara Duterte\", \"Vice President Education\", \"manila Philippine Army\", \"Detection Group CIDG\", \"manila Department Social\", \"Cagayan de Oro\", \"President Leni Robredo\", \"Vice President Leni\", \"Secretary Rex Gatchalian\", \"DSWD Secretary Rex\", \"Development DSWD Secretary\", \"MANILA Department Social\", \"Deputy Speaker Batangas\", \"Capital Region Police\", \"dictator Ferdinand Marcos\", \"Batangas district Ralph\", \"district Ralph Recto\", \"Police Office NCRPO\", \"Region Police Office\", \"Speaker Batangas district\", \"Chief Justice Alexander\", \"Justice Alexander Gesmundo\", \"Super Lotto jackpot\", \"Sara Duterte Monday\", \"House Deputy Speaker\", \"human trafficking victim\", \"Criminal Investigation Detection\", \"Investigation Detection Group\", \"Kadiwa ng Pangulo\", \"National Capital Region\", \"local government unit\", \"Marcos Wednesday say\"], \"Freq\": [473.0, 256.0, 253.0, 206.0, 205.0, 213.0, 208.0, 126.0, 115.0, 101.0, 101.0, 106.0, 104.0, 88.0, 93.0, 113.0, 94.0, 73.0, 70.0, 65.0, 74.0, 69.0, 68.0, 66.0, 68.0, 77.0, 54.0, 62.0, 68.0, 72.0, 252.5705642852668, 213.00180686284043, 71.4436441278626, 71.4436441278626, 71.4436441278626, 71.4436441278626, 71.4436441278626, 63.95174541701111, 61.28664786683369, 56.26207121694241, 48.02041710837283, 41.87804969078935, 34.701566876281866, 34.70133489750782, 31.57203528107028, 31.49710195725555, 29.24964979631633, 28.586282458093585, 24.788980107750103, 24.638691300549855, 21.626877438723078, 17.101957989341443, 16.21711570876917, 15.845932951103945, 15.768018386557888, 14.960968411448054, 14.960968411448054, 14.589716687120273, 14.354748312747045, 14.332783475672917, 66.94920794333, 17.23036242057388, 472.91954789126845, 204.78719630794353, 68.05096855103973, 53.69132782780035, 38.17641564228475, 26.454872588799994, 26.289382263344407, 25.826564183323562, 23.64760204043488, 18.993042272808214, 18.993042272808214, 18.30050615552093, 17.479727361836858, 17.479727361836858, 16.85133284438844, 15.787368776407424, 12.632081758673358, 12.388916746016886, 12.132250726929131, 12.004014804412494, 11.824943270198776, 11.760449624356795, 57.98385091508981, 10.875736068413623, 10.747335520068189, 10.632544884471548, 10.119151217139619, 10.119151217139619, 9.747629556358724, 9.747629556358724, 20.121239118010198, 24.83349897227721, 65.27232770065471, 14.594147261536218, 11.196484590888879, 205.52306995205998, 93.93735792495556, 57.658152338305584, 52.22614000686873, 50.49825528819374, 48.92024896094383, 38.04299177969769, 30.441573066945008, 22.986164979227834, 22.60110390809119, 20.014819433809684, 19.46242614591873, 245.06133956628216, 18.729554471518817, 18.04347560186834, 17.428326419470107, 17.11406632726861, 15.883753299499304, 15.820914314812635, 15.520056179780767, 14.28982624219085, 14.289821354533238, 14.287082637051821, 14.226505008619885, 13.829192209071426, 13.829192209071426, 13.661394035624856, 12.93381162136975, 12.367706010050863, 11.753093655380248, 38.54250387067498, 42.70943074887798, 42.70943074887798, 92.73096212137246, 68.66083192767641, 67.84457541561375, 65.19105035810331, 47.509670270045376, 42.9965731680894, 37.70510972673928, 30.781760973608176, 29.20065971318211, 29.20065364832854, 28.70497013375713, 27.987258394900476, 25.65402128676357, 25.65402128676357, 25.61938794046127, 23.794626639284903, 21.37135829613862, 20.251114644880868, 19.49895150532897, 18.208907116290185, 18.132050259444743, 17.242430246192036, 16.70453231835784, 16.704503510303386, 16.70447621846233, 15.952024998365932, 14.310567831440627, 14.079939644795408, 14.079939644795408, 13.250404135844756, 94.1027713500069, 52.746504542878206, 19.018578713590962, 41.119629365872136, 38.866044888512114, 38.19340862105102, 35.99870702729885, 27.31040620656713, 26.413701990497714, 25.115763445690618, 24.219029813183372, 23.353776181621786, 21.607434050013776, 20.561072235653373, 20.56100457784636, 18.75285998117571, 18.75285998117571, 18.5317792718292, 18.307356855145006, 18.02129817627192, 17.127597378505126, 16.844212653830947, 15.51498972738977, 15.44026167954385, 15.082054774422689, 13.918218415581142, 13.918218415581142, 13.918218415581142, 13.843141782946915, 13.320093985147905, 13.111913854612517, 12.750475553795537, 12.513880615136559, 189.0341713413559, 19.84847226657594, 34.05661909342694, 33.55439225032525, 33.34610916225745, 28.03997504780782, 30.318195791851934, 17.57565679298341, 22.632260090237544, 114.91346935699897, 106.04019436125718, 103.15610956905472, 73.52646926066794, 61.47766146601068, 45.92195648545443, 39.981678737705145, 37.81861796629429, 26.72096944220398, 20.059465847682663, 17.61439631541301, 17.61439631541301, 17.61439631541301, 17.61439631541301, 17.175410694260552, 17.175410694260552, 16.38081192969196, 15.880601056572376, 15.733366886788831, 15.659793554382327, 15.37768458621856, 14.87746242213504, 14.364913348169523, 13.496612816479603, 13.423094527522311, 13.423094527522311, 13.201984992046857, 12.702078974953666, 12.702078974953666, 12.333743737917624, 20.904672124002875, 16.130155352954823, 27.13810281402018, 14.350230860935453, 18.943574235965443, 54.42547789019635, 46.44575654958517, 38.969089220742816, 34.92860215525025, 34.92860215525025, 32.37857882866378, 29.476890487972202, 21.33619117838611, 20.107835651854582, 19.086168115709757, 19.085867677966327, 16.983671844442764, 16.851385679965535, 16.110379704561545, 15.34834308711737, 15.326432215197304, 15.326328116154624, 14.659522357121752, 14.23034176979259, 14.007967766696218, 13.801457667078656, 13.801274505471916, 13.430455267513677, 13.35673337965513, 13.35673337965513, 12.779504187993808, 12.483205369791133, 12.276313134447278, 12.054120975248246, 11.40279698396789, 57.05842466938866, 33.32517909565162, 23.969734879937075, 23.21849293790601, 14.341436531682705, 19.58589622895042, 17.97537203338972, 14.120506738089844, 17.058088165155645, 125.57264950829999, 43.510305423076055, 40.651408092350266, 39.221964680073064, 33.62239333859652, 33.62238283242514, 32.907679512086446, 20.6844254484379, 19.3854437325198, 18.600804769131297, 18.600804769131297, 18.308726638462726, 17.886088316078382, 17.59400230578128, 16.964785075403427, 14.674561849217712, 14.516031602750566, 14.312445640328393, 13.728260487019964, 13.597756765975348, 13.597512497490806, 13.524091432086307, 12.517803771133817, 12.298930016085073, 12.298930016085073, 12.29891688337085, 12.095211413249254, 11.949238668121794, 11.656217608572037, 11.583907570790773, 20.06999171446047, 31.039374935545677, 15.207609526614613, 17.781695057451216, 13.11172551876691, 12.347402864280829, 100.4740876635828, 87.45573373525976, 49.61807862992981, 49.48433474904912, 45.908691631561915, 42.60039763325052, 27.761731256255356, 23.251870493706267, 19.618736917402348, 18.98593056408127, 18.115442294186785, 18.115442294186785, 17.034983294509875, 16.815751240011313, 15.531675962390635, 15.108751376526245, 14.96199011221533, 14.81653786498318, 14.597233023127194, 14.174300349778644, 13.736151652663693, 13.736151652663693, 12.817173138465801, 12.10221874248423, 11.736607846139952, 11.16762560708642, 10.948629244983326, 10.59891487642963, 10.59891487642963, 10.59890909965523, 15.531337443410866, 26.76298704115903, 19.421813610277017, 17.92419640094058, 19.67657860410251, 11.936894391320257, 50.946588212441206, 39.36780482462995, 39.36780482462995, 35.52376863317557, 27.574072444913067, 27.574072444913067, 21.212285735617645, 21.01150431917166, 20.62467629037499, 20.62467629037499, 18.408737398213, 18.257890717316183, 17.80527840225131, 17.255734597612157, 16.117475361394423, 16.042040523068263, 14.850789210855902, 14.111861124210705, 13.826206754359985, 13.373537497424353, 11.997158308045307, 11.896262788237303, 11.308484707454319, 10.870629097204267, 10.719722189328763, 10.645250982661631, 10.5199000243979, 9.906711633787975, 9.906678782708688, 9.90664374155745, 14.56483261107576, 36.41922335232596, 13.238447289188597, 22.819684664888534, 12.197602453410632, 18.94298793040901, 12.122435898898635, 11.459351098998706, 100.11758172949123, 40.35081561021295, 38.64170063253948, 36.512891851736576, 36.512891851736576, 30.038467627326494, 25.068108470189536, 22.78218828300565, 21.810438478381034, 21.810438478381034, 21.810438478381034, 20.391230530670807, 18.89946468910678, 18.88726806163734, 18.742028737273817, 18.17766932238629, 18.105149117681748, 17.902907048901408, 17.41994677413201, 15.976235644797564, 15.26675730143999, 14.919527169291207, 14.701956085969451, 14.629656781556415, 14.556920911164429, 13.557573226992876, 13.282779545883608, 13.089917887586202, 11.428783290764606, 11.15401997035891, 50.529197512048405, 25.880516927101844, 15.704366013518523, 14.033272059004503, 14.033272059004503, 53.113596571183585, 48.37920975978085, 28.82890051066178, 27.427578833232797, 26.09435356227065, 25.83331211996539, 25.756675292448456, 24.423473500307068, 21.167051063555437, 20.886111320659218, 19.68897320793734, 19.280298897284904, 16.817883220869597, 15.212719399918678, 15.212719399918678, 13.402365359820728, 13.14478704357702, 13.08801134185151, 12.682318841435125, 12.682238622130875, 12.54632168534109, 12.478175386380146, 12.341764416070282, 12.067935821010625, 11.281184994572195, 11.281184994572195, 11.281167385456628, 11.281167385456628, 11.144999029627911, 11.144999029627911, 27.7127173719076, 25.02742898946318, 25.02742898946318, 27.401501689646143, 28.00531826244611, 13.54521344015461, 13.472345941653256, 13.985007949435314, 12.684367368546111, 72.20372157004616, 69.13951054795724, 64.69210643603921, 32.63311537655996, 27.639451152424307, 27.639451152424307, 27.639451152424307, 27.639451152424307, 23.058759697380268, 18.96789278715949, 18.462470573458837, 17.817283306209227, 16.111363191257173, 16.111363191257173, 15.978222030594873, 12.988478182798405, 12.914023799471531, 12.334096038581709, 11.45625663942338, 10.591174401144562, 10.280494638311765, 9.120919604134357, 9.120919604134357, 9.059066149178909, 9.059066149178909, 8.392109572162333, 8.392026430886101, 8.392026430886101, 8.39191770767872, 8.317649706993071, 21.796583760129863, 12.325382650104455, 21.72509322625462, 21.72509322625462, 11.530584026734909, 14.651111842966424, 14.857996574725828, 9.26940900984535], \"Total\": [473.0, 256.0, 253.0, 206.0, 205.0, 213.0, 208.0, 126.0, 115.0, 101.0, 101.0, 106.0, 104.0, 88.0, 93.0, 113.0, 94.0, 73.0, 70.0, 65.0, 74.0, 69.0, 68.0, 66.0, 68.0, 77.0, 54.0, 62.0, 68.0, 72.0, 253.46755395541794, 213.8987965424643, 72.34063211322761, 72.34063211322761, 72.34063211322761, 72.34063211322761, 72.34063211322761, 64.84873357304461, 62.18363694531762, 57.159060172147356, 48.917405493548536, 42.775037687924446, 35.598555702797455, 35.59832362547868, 32.46902360850725, 32.394090569781795, 30.146637982776316, 29.483271171310253, 25.685968101010907, 25.535680893111934, 22.523865396074115, 17.99894636160377, 17.11410528104749, 16.742920908454984, 16.665007691268187, 15.857958128141094, 15.857958128141094, 15.486704843185285, 15.25173649920703, 15.229773620144789, 73.98769424836121, 19.659271976012352, 473.8165140762137, 205.6841613975496, 68.94793381249036, 54.58829287250451, 39.07338067316669, 27.351837505706698, 27.186347265639032, 26.723529193176603, 24.544568443140005, 19.890006740682935, 19.890006740682935, 19.197471153053545, 18.376691837095073, 18.376691837095073, 17.748298120967114, 16.68433333912054, 13.529047728863578, 13.285883381276113, 13.02921600143663, 12.900979611806576, 12.721908229256822, 12.657415765487372, 62.74346435788561, 11.772700922309074, 11.644300828792119, 11.529509087027074, 11.016115761713301, 11.016115761713301, 10.644593902221219, 10.644593902221219, 22.52040285312586, 28.23138076737974, 84.12395258798433, 17.015769147822397, 15.799142660675185, 206.42143015602957, 94.8357179329454, 58.55651216282419, 53.12449976681441, 51.396615418409645, 49.81860852357897, 38.94135119721342, 31.339932651644627, 23.88452461885106, 23.499463581787328, 20.91317876035525, 20.360785472464297, 256.3937176199685, 19.62791454925056, 18.941836063530612, 18.326686846807416, 18.01242687513807, 16.782113811569136, 16.719274728065052, 16.41841624403985, 15.18818581568781, 15.188180928030198, 15.185443081915945, 15.124866322928636, 14.72755307855014, 14.72755307855014, 14.559753856950636, 13.832171042678656, 13.266067523890953, 12.651453302953982, 49.61774734798768, 57.56571155996784, 57.56571155996784, 93.61477153383312, 69.5446414827184, 68.72838568744574, 66.07485990804771, 48.393479439304116, 43.880382082097235, 38.588919182096596, 31.66557028996534, 30.084468893668298, 30.08446287706048, 29.588778694433405, 28.871067578080122, 26.537830450524027, 26.537830450524027, 26.503196517495685, 24.67843549582297, 22.255167623498064, 21.134923966506403, 20.382760725744728, 19.092715868168984, 19.015859751653004, 18.12623918251952, 17.58834110406758, 17.588312639598964, 17.588285241630903, 16.835835166643335, 15.194376293968077, 14.963749285090763, 14.963749285090763, 14.13421730523801, 113.8535917765234, 66.49354158084628, 67.87283306101507, 42.005629352042554, 39.752044025332644, 39.079408392113045, 36.88470691389068, 28.19640544746947, 27.299701224276244, 26.001762366368666, 25.1050289300327, 24.239775015934327, 22.493432659279602, 21.447072342815922, 21.447004260707548, 19.638858614932538, 19.638858614932538, 19.41777794991614, 19.193423111109176, 18.907296810028747, 18.013596119786012, 17.730289033042038, 16.400988565278325, 16.326260591633723, 15.96805482742608, 14.804217024846968, 14.804217024846968, 14.804217024846968, 14.729143901414421, 14.206092813553948, 13.99791249956742, 13.636475766955906, 13.399879980153159, 208.78472549085848, 23.04408311059929, 44.62888929999976, 47.476221712224046, 48.14633046749305, 41.539555682780346, 67.87283306101507, 26.19318418454962, 63.73818410827594, 115.80058802995788, 106.92731280443492, 104.04322798482609, 74.41358814488882, 62.36477995501664, 46.80907548946855, 40.86879682761858, 38.70573596522464, 27.608087784773137, 20.94658452693976, 18.501514239247143, 18.501514239247143, 18.501514239247143, 18.501514239247143, 18.062529019821753, 18.062529019821753, 17.267929757530602, 16.76772002807185, 16.620485156010382, 16.546911459762228, 16.264802237955465, 15.764581032026138, 15.25203213417777, 14.38373118965518, 14.31021225574895, 14.31021225574895, 14.089103505495085, 13.589196666443803, 13.589196666443803, 13.220861674637739, 24.760583317137282, 18.50145531894127, 63.73818410827594, 18.197494673775974, 113.8535917765234, 55.3121288132073, 47.33240745409735, 39.85575285449256, 35.81525282386941, 35.81525282386941, 33.26523007778549, 30.363541509897377, 22.22284278430739, 20.99448661184342, 19.972818453224093, 19.97252022353795, 17.870326157807543, 17.738035877840534, 16.997029878144307, 16.234993407562886, 16.21308237528819, 16.212979099637266, 15.54617254847264, 15.116992720105815, 14.89461956876373, 14.688107863309481, 14.68792551012357, 14.317107369792513, 14.243384418600623, 14.243384418600623, 13.666154989472524, 13.369855576077441, 13.162964104449802, 12.940771229993791, 12.289447548005285, 77.54571720586875, 43.62215944373653, 35.364711886387575, 36.15486579811306, 16.797085625825854, 31.011951704940063, 28.422019271720213, 16.58155406868908, 68.3985860528263, 126.46043770259304, 44.398092405611344, 41.539195074885555, 40.10975164532321, 34.51018056811298, 34.510170131771424, 33.79546671452428, 21.572212320948495, 20.27323120551235, 19.488592004425414, 19.488592004425414, 19.19651448198049, 18.773875520479308, 18.48179014813637, 17.85257193363839, 15.562348707452674, 15.403819076912828, 15.200232778251682, 14.616048055678144, 14.48554380473451, 14.485299959042683, 14.411880402865497, 13.405594130704825, 13.186717465091489, 13.186717465091489, 13.186704048700104, 12.98299853253146, 12.837025703491909, 12.544010492176023, 12.471696669195449, 22.84388623817455, 42.75167805934621, 24.025661330869596, 62.15506309771523, 47.476221712224046, 18.518745965005923, 101.3618332282147, 88.34347903105589, 50.505823044898605, 50.372079168099745, 46.796436060890684, 43.48814248405694, 28.649477049517376, 24.13961588785609, 20.50648096499927, 19.873675037812973, 19.003186341783707, 19.003186341783707, 17.922727864577954, 17.703496482357867, 16.419420559114066, 15.99649562378181, 15.84973664831705, 15.704282516835237, 15.484977887274917, 15.062045406861856, 14.62389603981143, 14.62389603981143, 13.704917420350407, 12.98996279008115, 12.624352865054478, 12.055371147484866, 11.836373916919696, 11.48665892402655, 11.48665892402655, 11.48665314725215, 22.40331185619396, 62.15506309771523, 48.24409050739617, 46.14265672169943, 77.54571720586875, 27.72510891952818, 51.83183774781809, 40.25305375930466, 40.25305375930466, 36.40901758752015, 28.459322133638384, 28.459322133638384, 22.09753571686874, 21.89675314629859, 21.509925748384823, 21.509925748384823, 19.293986933263994, 19.143139893853164, 18.69052733220016, 18.140983596334973, 17.002724487397096, 16.927289616356713, 15.736038076755184, 14.997111466554566, 14.711455604468506, 14.258786358176332, 12.882407374356509, 12.781511715721566, 12.193733835996012, 11.7558846491009, 11.604977313389991, 11.53050012973126, 11.405149057881653, 10.791960760508685, 10.791927773100555, 10.791892926557372, 16.981823860547557, 56.75128100718608, 15.661247286560721, 32.48686181919337, 15.227937980164683, 208.78472549085848, 23.49228862373251, 18.995923167983342, 101.00591324167787, 41.23914667859635, 39.530031582972406, 37.401222814942315, 37.401222814942315, 30.926799569146066, 25.956440768769383, 23.670520554575262, 22.69876932883323, 22.69876932883323, 22.69876932883323, 21.279561381123003, 19.787795894007438, 19.77559894389911, 19.63036070714436, 19.066000214942665, 18.993479894065715, 18.79123824056007, 18.308278499612445, 16.864567015551067, 16.155088077823955, 15.807858453095141, 15.590287690475774, 15.51798769475256, 15.44525261450901, 14.445904317938453, 14.171111090340245, 13.978248663970168, 12.31711419748477, 12.042351048335485, 68.3985860528263, 48.804066928768975, 26.831357724455117, 57.56571155996784, 57.56571155996784, 54.006492872563626, 49.272106030690196, 29.7217964395454, 28.320474770295487, 26.987249490307132, 26.72620889661011, 26.649571325690978, 25.31636938632635, 22.059947658866243, 21.779007344581796, 20.58186961576068, 20.173195675140917, 17.710780351739462, 16.1056154905457, 16.1056154905457, 14.295269948827691, 14.037683170664028, 13.98090815011742, 13.575215087956604, 13.575136067268595, 13.439217486498713, 13.371071519455391, 13.234661513899448, 12.960844022893484, 12.174080829633542, 12.174080829633542, 12.17406345855139, 12.17406345855139, 12.037894837149672, 12.037894837149672, 39.72713556609135, 36.717363746762004, 36.717363746762004, 46.14265672169943, 48.24409050739617, 17.803125059655503, 18.02763110157479, 48.14633046749305, 41.539555682780346, 73.09001120267347, 70.02580013187064, 65.5783959648611, 33.519404981520765, 28.52574066678192, 28.52574066678192, 28.52574066678192, 28.52574066678192, 23.945049247214055, 19.854182689142444, 19.348760129611616, 18.70357384081184, 16.99765281612709, 16.99765281612709, 16.864511473506425, 13.874767531605302, 13.800313163053085, 13.220385387388607, 12.342546245818243, 11.477463977102456, 11.166784908243043, 10.007209160586116, 10.007209160586116, 9.94535576747862, 9.94535576747862, 9.278399073750725, 9.278316374091364, 9.278316374091364, 9.278207670680196, 9.203939346281148, 25.89523700841911, 14.60384860371018, 34.5950102151424, 34.5950102151424, 16.378910601121635, 48.804066928768975, 56.75128100718608, 13.35980182735527], \"Category\": [\"Default\", \"Default\", \"Default\", \"Default\", \"Default\", \"Default\", \"Default\", \"Default\", \"Default\", \"Default\", \"Default\", \"Default\", \"Default\", \"Default\", \"Default\", \"Default\", \"Default\", \"Default\", \"Default\", \"Default\", \"Default\", \"Default\", \"Default\", \"Default\", \"Default\", \"Default\", \"Default\", \"Default\", \"Default\", \"Default\", \"Topic1\", \"Topic1\", \"Topic1\", \"Topic1\", \"Topic1\", \"Topic1\", \"Topic1\", \"Topic1\", \"Topic1\", \"Topic1\", \"Topic1\", \"Topic1\", \"Topic1\", \"Topic1\", \"Topic1\", \"Topic1\", \"Topic1\", \"Topic1\", \"Topic1\", \"Topic1\", \"Topic1\", \"Topic1\", \"Topic1\", \"Topic1\", \"Topic1\", \"Topic1\", \"Topic1\", \"Topic1\", \"Topic1\", \"Topic1\", \"Topic1\", \"Topic1\", \"Topic2\", \"Topic2\", \"Topic2\", \"Topic2\", \"Topic2\", \"Topic2\", \"Topic2\", \"Topic2\", \"Topic2\", \"Topic2\", \"Topic2\", \"Topic2\", \"Topic2\", \"Topic2\", \"Topic2\", \"Topic2\", \"Topic2\", \"Topic2\", \"Topic2\", \"Topic2\", \"Topic2\", \"Topic2\", \"Topic2\", \"Topic2\", \"Topic2\", \"Topic2\", \"Topic2\", \"Topic2\", \"Topic2\", \"Topic2\", \"Topic2\", \"Topic2\", \"Topic2\", \"Topic2\", \"Topic2\", \"Topic3\", \"Topic3\", \"Topic3\", \"Topic3\", \"Topic3\", \"Topic3\", \"Topic3\", \"Topic3\", \"Topic3\", \"Topic3\", \"Topic3\", \"Topic3\", \"Topic3\", \"Topic3\", \"Topic3\", \"Topic3\", \"Topic3\", \"Topic3\", \"Topic3\", \"Topic3\", \"Topic3\", \"Topic3\", \"Topic3\", \"Topic3\", \"Topic3\", \"Topic3\", \"Topic3\", \"Topic3\", \"Topic3\", \"Topic3\", \"Topic3\", \"Topic3\", \"Topic3\", \"Topic4\", \"Topic4\", \"Topic4\", \"Topic4\", \"Topic4\", \"Topic4\", \"Topic4\", \"Topic4\", \"Topic4\", \"Topic4\", \"Topic4\", \"Topic4\", \"Topic4\", \"Topic4\", \"Topic4\", \"Topic4\", \"Topic4\", \"Topic4\", \"Topic4\", \"Topic4\", \"Topic4\", \"Topic4\", \"Topic4\", \"Topic4\", \"Topic4\", \"Topic4\", \"Topic4\", \"Topic4\", \"Topic4\", \"Topic4\", \"Topic4\", \"Topic4\", \"Topic4\", \"Topic5\", \"Topic5\", \"Topic5\", \"Topic5\", \"Topic5\", \"Topic5\", \"Topic5\", \"Topic5\", \"Topic5\", \"Topic5\", \"Topic5\", \"Topic5\", \"Topic5\", \"Topic5\", \"Topic5\", \"Topic5\", \"Topic5\", \"Topic5\", \"Topic5\", \"Topic5\", \"Topic5\", \"Topic5\", \"Topic5\", \"Topic5\", \"Topic5\", \"Topic5\", \"Topic5\", \"Topic5\", \"Topic5\", \"Topic5\", \"Topic5\", \"Topic5\", \"Topic5\", \"Topic5\", \"Topic5\", \"Topic5\", \"Topic5\", \"Topic5\", \"Topic5\", \"Topic6\", \"Topic6\", \"Topic6\", \"Topic6\", \"Topic6\", \"Topic6\", \"Topic6\", \"Topic6\", \"Topic6\", \"Topic6\", \"Topic6\", \"Topic6\", \"Topic6\", \"Topic6\", \"Topic6\", \"Topic6\", \"Topic6\", \"Topic6\", \"Topic6\", \"Topic6\", \"Topic6\", \"Topic6\", \"Topic6\", \"Topic6\", \"Topic6\", \"Topic6\", \"Topic6\", \"Topic6\", \"Topic6\", \"Topic6\", \"Topic6\", \"Topic6\", \"Topic6\", \"Topic6\", \"Topic6\", \"Topic7\", \"Topic7\", \"Topic7\", \"Topic7\", \"Topic7\", \"Topic7\", \"Topic7\", \"Topic7\", \"Topic7\", \"Topic7\", \"Topic7\", \"Topic7\", \"Topic7\", \"Topic7\", \"Topic7\", \"Topic7\", \"Topic7\", \"Topic7\", \"Topic7\", \"Topic7\", \"Topic7\", \"Topic7\", \"Topic7\", \"Topic7\", \"Topic7\", \"Topic7\", \"Topic7\", \"Topic7\", \"Topic7\", \"Topic7\", \"Topic7\", \"Topic7\", \"Topic7\", \"Topic7\", \"Topic7\", \"Topic7\", \"Topic7\", \"Topic7\", \"Topic7\", \"Topic8\", \"Topic8\", \"Topic8\", \"Topic8\", \"Topic8\", \"Topic8\", \"Topic8\", \"Topic8\", \"Topic8\", \"Topic8\", \"Topic8\", \"Topic8\", \"Topic8\", \"Topic8\", \"Topic8\", \"Topic8\", \"Topic8\", \"Topic8\", \"Topic8\", \"Topic8\", \"Topic8\", \"Topic8\", \"Topic8\", \"Topic8\", \"Topic8\", \"Topic8\", \"Topic8\", \"Topic8\", \"Topic8\", \"Topic8\", \"Topic8\", \"Topic8\", \"Topic8\", \"Topic8\", \"Topic8\", \"Topic8\", \"Topic9\", \"Topic9\", \"Topic9\", \"Topic9\", \"Topic9\", \"Topic9\", \"Topic9\", \"Topic9\", \"Topic9\", \"Topic9\", \"Topic9\", \"Topic9\", \"Topic9\", \"Topic9\", \"Topic9\", \"Topic9\", \"Topic9\", \"Topic9\", \"Topic9\", \"Topic9\", \"Topic9\", \"Topic9\", \"Topic9\", \"Topic9\", \"Topic9\", \"Topic9\", \"Topic9\", \"Topic9\", \"Topic9\", \"Topic9\", \"Topic9\", \"Topic9\", \"Topic9\", \"Topic9\", \"Topic9\", \"Topic9\", \"Topic10\", \"Topic10\", \"Topic10\", \"Topic10\", \"Topic10\", \"Topic10\", \"Topic10\", \"Topic10\", \"Topic10\", \"Topic10\", \"Topic10\", \"Topic10\", \"Topic10\", \"Topic10\", \"Topic10\", \"Topic10\", \"Topic10\", \"Topic10\", \"Topic10\", \"Topic10\", \"Topic10\", \"Topic10\", \"Topic10\", \"Topic10\", \"Topic10\", \"Topic10\", \"Topic10\", \"Topic10\", \"Topic10\", \"Topic10\", \"Topic10\", \"Topic10\", \"Topic10\", \"Topic10\", \"Topic10\", \"Topic10\", \"Topic10\", \"Topic10\", \"Topic11\", \"Topic11\", \"Topic11\", \"Topic11\", \"Topic11\", \"Topic11\", \"Topic11\", \"Topic11\", \"Topic11\", \"Topic11\", \"Topic11\", \"Topic11\", \"Topic11\", \"Topic11\", \"Topic11\", \"Topic11\", \"Topic11\", \"Topic11\", \"Topic11\", \"Topic11\", \"Topic11\", \"Topic11\", \"Topic11\", \"Topic11\", \"Topic11\", \"Topic11\", \"Topic11\", \"Topic11\", \"Topic11\", \"Topic11\", \"Topic11\", \"Topic11\", \"Topic11\", \"Topic11\", \"Topic11\", \"Topic12\", \"Topic12\", \"Topic12\", \"Topic12\", \"Topic12\", \"Topic12\", \"Topic12\", \"Topic12\", \"Topic12\", \"Topic12\", \"Topic12\", \"Topic12\", \"Topic12\", \"Topic12\", \"Topic12\", \"Topic12\", \"Topic12\", \"Topic12\", \"Topic12\", \"Topic12\", \"Topic12\", \"Topic12\", \"Topic12\", \"Topic12\", \"Topic12\", \"Topic12\", \"Topic12\", \"Topic12\", \"Topic12\", \"Topic12\", \"Topic12\", \"Topic12\", \"Topic12\", \"Topic12\", \"Topic12\", \"Topic12\", \"Topic12\", \"Topic12\", \"Topic12\", \"Topic13\", \"Topic13\", \"Topic13\", \"Topic13\", \"Topic13\", \"Topic13\", \"Topic13\", \"Topic13\", \"Topic13\", \"Topic13\", \"Topic13\", \"Topic13\", \"Topic13\", \"Topic13\", \"Topic13\", \"Topic13\", \"Topic13\", \"Topic13\", \"Topic13\", \"Topic13\", \"Topic13\", \"Topic13\", \"Topic13\", \"Topic13\", \"Topic13\", \"Topic13\", \"Topic13\", \"Topic13\", \"Topic13\", \"Topic13\", \"Topic13\", \"Topic13\", \"Topic13\", \"Topic13\", \"Topic13\", \"Topic13\", \"Topic13\", \"Topic13\"], \"logprob\": [30.0, 29.0, 28.0, 27.0, 26.0, 25.0, 24.0, 23.0, 22.0, 21.0, 20.0, 19.0, 18.0, 17.0, 16.0, 15.0, 14.0, 13.0, 12.0, 11.0, 10.0, 9.0, 8.0, 7.0, 6.0, 5.0, 4.0, 3.0, 2.0, 1.0, -2.1843, -2.3547, -3.4471, -3.4471, -3.4471, -3.4471, -3.4471, -3.5579, -3.6005, -3.686, -3.8444, -3.9813, -4.1692, -4.1692, -4.2637, -4.2661, -4.3402, -4.3631, -4.5056, -4.5117, -4.6421, -4.8768, -4.93, -4.9531, -4.958, -5.0106, -5.0106, -5.0357, -5.0519, -5.0535, -3.5121, -4.8693, -1.3438, -2.1808, -3.2825, -3.5195, -3.8605, -4.2273, -4.2336, -4.2513, -4.3395, -4.5587, -4.5587, -4.5958, -4.6417, -4.6417, -4.6783, -4.7435, -4.9665, -4.9859, -5.0069, -5.0175, -5.0325, -5.038, -3.4426, -5.1162, -5.1281, -5.1388, -5.1883, -5.1883, -5.2257, -5.2257, -4.501, -4.2905, -3.3242, -4.8221, -5.0871, -2.1414, -2.9244, -3.4125, -3.5114, -3.5451, -3.5768, -3.8283, -4.0512, -4.3321, -4.349, -4.4705, -4.4985, -1.9655, -4.5369, -4.5742, -4.6089, -4.6271, -4.7017, -4.7057, -4.7249, -4.8075, -4.8075, -4.8076, -4.8119, -4.8402, -4.8402, -4.8524, -4.9072, -4.9519, -5.0029, -3.8152, -3.7126, -3.7126, -2.8654, -3.1659, -3.1779, -3.2178, -3.5342, -3.634, -3.7653, -3.9682, -4.0209, -4.0209, -4.0381, -4.0634, -4.1504, -4.1504, -4.1518, -4.2257, -4.3331, -4.3869, -4.4248, -4.4932, -4.4974, -4.5477, -4.5794, -4.5794, -4.5794, -4.6255, -4.7341, -4.7504, -4.7504, -4.8111, -2.8507, -3.4296, -4.4497, -3.6482, -3.7046, -3.7221, -3.7812, -4.0575, -4.0908, -4.1412, -4.1776, -4.214, -4.2917, -4.3413, -4.3413, -4.4334, -4.4334, -4.4452, -4.4574, -4.4732, -4.524, -4.5407, -4.6229, -4.6277, -4.6512, -4.7315, -4.7315, -4.7315, -4.7369, -4.7755, -4.7912, -4.8192, -4.8379, -2.1228, -4.3766, -3.8367, -3.8516, -3.8578, -4.0311, -3.953, -4.4982, -4.2453, -2.5793, -2.6596, -2.6872, -3.0258, -3.2048, -3.4965, -3.635, -3.6907, -4.038, -4.3248, -4.4547, -4.4547, -4.4547, -4.4547, -4.48, -4.48, -4.5274, -4.5584, -4.5677, -4.5724, -4.5905, -4.6236, -4.6587, -4.721, -4.7265, -4.7265, -4.7431, -4.7817, -4.7817, -4.8111, -4.2835, -4.5428, -4.0225, -4.6597, -4.382, -3.258, -3.4165, -3.592, -3.7015, -3.7015, -3.7773, -3.8712, -4.1944, -4.2537, -4.3058, -4.3059, -4.4225, -4.4304, -4.4753, -4.5238, -4.5252, -4.5252, -4.5697, -4.5994, -4.6152, -4.63, -4.63, -4.6573, -4.6628, -4.6628, -4.707, -4.7304, -4.7471, -4.7654, -4.8209, -3.2107, -3.7485, -4.078, -4.1099, -4.5916, -4.28, -4.3658, -4.6072, -4.4182, -2.4185, -3.4784, -3.5464, -3.5822, -3.7362, -3.7362, -3.7577, -4.222, -4.2869, -4.3282, -4.3282, -4.344, -4.3674, -4.3839, -4.4203, -4.5653, -4.5762, -4.5903, -4.632, -4.6415, -4.6415, -4.647, -4.7243, -4.7419, -4.7419, -4.7419, -4.7586, -4.7708, -4.7956, -4.8018, -4.2522, -3.8162, -4.5296, -4.3733, -4.6779, -4.738, -2.5134, -2.6522, -3.219, -3.2217, -3.2967, -3.3714, -3.7997, -3.9769, -4.1468, -4.1796, -4.2265, -4.2265, -4.288, -4.301, -4.3804, -4.408, -4.4178, -4.4276, -4.4425, -4.4719, -4.5033, -4.5033, -4.5725, -4.6299, -4.6606, -4.7103, -4.7301, -4.7626, -4.7626, -4.7626, -4.3805, -3.8363, -4.1569, -4.2372, -4.1439, -4.6437, -3.1389, -3.3967, -3.3967, -3.4995, -3.7528, -3.7528, -4.0151, -4.0246, -4.0432, -4.0432, -4.1569, -4.1651, -4.1902, -4.2215, -4.2898, -4.2945, -4.3716, -4.4227, -4.4431, -4.4764, -4.585, -4.5935, -4.6441, -4.6836, -4.6976, -4.7046, -4.7164, -4.7765, -4.7765, -4.7765, -4.3911, -3.4746, -4.4866, -3.9421, -4.5685, -4.1283, -4.5746, -4.6309, -2.4184, -3.3271, -3.3704, -3.4271, -3.4271, -3.6223, -3.8032, -3.8988, -3.9424, -3.9424, -3.9424, -4.0097, -4.0856, -4.0863, -4.094, -4.1246, -4.1286, -4.1398, -4.1671, -4.2537, -4.2991, -4.3221, -4.3368, -4.3417, -4.3467, -4.4178, -4.4383, -4.4529, -4.5886, -4.613, -3.1022, -3.7713, -4.2708, -4.3833, -4.3833, -2.9845, -3.0779, -3.5956, -3.6454, -3.6952, -3.7053, -3.7083, -3.7614, -3.9045, -3.9179, -3.9769, -3.9979, -4.1345, -4.2348, -4.2348, -4.3615, -4.3809, -4.3853, -4.4167, -4.4167, -4.4275, -4.433, -4.444, -4.4664, -4.5338, -4.5338, -4.5338, -4.5338, -4.546, -4.546, -3.6351, -3.737, -3.737, -3.6464, -3.6246, -4.3509, -4.3563, -4.319, -4.4166, -2.6091, -2.6525, -2.7189, -3.4033, -3.5693, -3.5693, -3.5693, -3.5693, -3.7505, -3.9458, -3.9728, -4.0084, -4.1091, -4.1091, -4.1174, -4.3245, -4.3303, -4.3762, -4.4501, -4.5286, -4.5583, -4.678, -4.678, -4.6848, -4.6848, -4.7613, -4.7613, -4.7613, -4.7613, -4.7702, -3.8068, -4.3769, -3.8101, -3.8101, -4.4436, -4.2041, -4.19, -4.6619], \"loglift\": [30.0, 29.0, 28.0, 27.0, 26.0, 25.0, 24.0, 23.0, 22.0, 21.0, 20.0, 19.0, 18.0, 17.0, 16.0, 15.0, 14.0, 13.0, 12.0, 11.0, 10.0, 9.0, 8.0, 7.0, 6.0, 5.0, 4.0, 3.0, 2.0, 1.0, 2.1287, 2.1281, 2.1198, 2.1198, 2.1198, 2.1198, 2.1198, 2.1183, 2.1177, 2.1165, 2.1138, 2.1111, 2.1068, 2.1068, 2.1043, 2.1042, 2.1021, 2.1014, 2.0967, 2.0965, 2.0916, 2.0812, 2.0784, 2.0772, 2.0769, 2.074, 2.074, 2.0726, 2.0717, 2.0716, 2.0323, 2.0004, 2.3437, 2.3412, 2.3325, 2.329, 2.3223, 2.3122, 2.312, 2.3114, 2.3083, 2.2994, 2.2994, 2.2977, 2.2955, 2.2955, 2.2937, 2.2903, 2.277, 2.2757, 2.2742, 2.2735, 2.2724, 2.2721, 2.2667, 2.2663, 2.2654, 2.2646, 2.2606, 2.2606, 2.2575, 2.2575, 2.2329, 2.2173, 2.0918, 2.192, 2.0012, 2.3769, 2.3718, 2.3658, 2.3642, 2.3637, 2.3631, 2.3579, 2.3522, 2.3429, 2.3423, 2.3374, 2.3362, 2.3361, 2.3344, 2.3327, 2.331, 2.3301, 2.3263, 2.3261, 2.325, 2.3203, 2.3203, 2.3203, 2.3201, 2.3183, 2.3183, 2.3176, 2.3141, 2.3112, 2.3076, 2.1287, 2.0828, 2.0828, 2.4437, 2.4404, 2.4402, 2.4397, 2.4347, 2.4328, 2.43, 2.4249, 2.4234, 2.4234, 2.4228, 2.4221, 2.4193, 2.4193, 2.4193, 2.4167, 2.4126, 2.4105, 2.4088, 2.4058, 2.4056, 2.4032, 2.4016, 2.4016, 2.4016, 2.3992, 2.3932, 2.3923, 2.3923, 2.3886, 2.2626, 2.2216, 1.181, 2.4622, 2.461, 2.4606, 2.4593, 2.4516, 2.4506, 2.4489, 2.4476, 2.4463, 2.4434, 2.4414, 2.4414, 2.4374, 2.4374, 2.4369, 2.4363, 2.4356, 2.4331, 2.4323, 2.428, 2.4278, 2.4265, 2.4219, 2.4219, 2.4219, 2.4215, 2.4192, 2.4182, 2.4164, 2.4152, 2.3842, 2.3343, 2.2132, 2.1365, 2.1163, 2.0906, 1.6777, 2.0846, 1.4482, 2.5171, 2.5165, 2.5163, 2.5128, 2.5105, 2.5057, 2.5029, 2.5016, 2.4922, 2.4816, 2.4757, 2.4757, 2.4757, 2.4757, 2.4745, 2.4745, 2.4721, 2.4705, 2.47, 2.4697, 2.4687, 2.4669, 2.4649, 2.4612, 2.4608, 2.4608, 2.4598, 2.4573, 2.4573, 2.4554, 2.3555, 2.3877, 1.671, 2.2873, 0.7314, 2.5773, 2.5746, 2.571, 2.5684, 2.5684, 2.5665, 2.5639, 2.5528, 2.5503, 2.5481, 2.5481, 2.5426, 2.5422, 2.5399, 2.5373, 2.5373, 2.5373, 2.5348, 2.533, 2.5321, 2.5312, 2.5312, 2.5296, 2.5292, 2.5292, 2.5264, 2.5249, 2.5238, 2.5225, 2.5186, 2.2867, 2.3242, 2.2046, 2.1506, 2.4354, 2.1339, 2.1353, 2.4328, 1.2048, 2.5898, 2.5767, 2.5753, 2.5745, 2.5708, 2.5708, 2.5702, 2.5548, 2.5521, 2.5502, 2.5502, 2.5495, 2.5484, 2.5476, 2.5459, 2.5381, 2.5375, 2.5367, 2.5342, 2.5336, 2.5336, 2.5333, 2.5283, 2.5272, 2.5272, 2.5272, 2.526, 2.5252, 2.5235, 2.523, 2.4674, 2.2767, 2.1395, 1.3454, 1.3101, 2.1915, 2.7162, 2.7149, 2.7072, 2.7072, 2.7058, 2.7044, 2.6935, 2.6875, 2.6807, 2.6793, 2.6771, 2.6771, 2.6742, 2.6735, 2.6694, 2.6679, 2.6673, 2.6668, 2.6659, 2.6642, 2.6624, 2.6624, 2.658, 2.6542, 2.6521, 2.6485, 2.647, 2.6445, 2.6445, 2.6445, 2.3586, 1.8824, 1.8151, 1.7794, 1.3535, 1.8823, 2.7614, 2.7564, 2.7564, 2.754, 2.747, 2.747, 2.7377, 2.7373, 2.7366, 2.7366, 2.7316, 2.7313, 2.7301, 2.7286, 2.7251, 2.7249, 2.7207, 2.7178, 2.7165, 2.7145, 2.7074, 2.7068, 2.7032, 2.7003, 2.6993, 2.6987, 2.6978, 2.693, 2.693, 2.693, 2.6251, 2.335, 2.6105, 2.4254, 2.5567, 0.3787, 2.117, 2.2732, 2.8147, 2.8018, 2.8008, 2.7995, 2.7995, 2.7944, 2.7887, 2.7853, 2.7836, 2.7836, 2.7836, 2.7809, 2.7776, 2.7776, 2.7772, 2.7758, 2.7756, 2.7751, 2.7738, 2.7694, 2.767, 2.7657, 2.7649, 2.7646, 2.7643, 2.7601, 2.7588, 2.7579, 2.7487, 2.7469, 2.5207, 2.1892, 2.2879, 1.412, 1.412, 2.8747, 2.8731, 2.8608, 2.8593, 2.8577, 2.8574, 2.8573, 2.8554, 2.85, 2.8495, 2.847, 2.8461, 2.8396, 2.8343, 2.8343, 2.8268, 2.8256, 2.8253, 2.8233, 2.8233, 2.8226, 2.8222, 2.8215, 2.82, 2.8152, 2.8152, 2.8152, 2.8152, 2.8143, 2.8143, 2.5312, 2.5081, 2.5081, 2.3702, 2.3475, 2.618, 2.6001, 1.6551, 1.7051, 2.9475, 2.947, 2.9461, 2.9329, 2.9281, 2.9281, 2.9281, 2.9281, 2.922, 2.914, 2.9128, 2.9112, 2.9062, 2.9062, 2.9057, 2.8937, 2.8933, 2.8903, 2.8852, 2.8793, 2.877, 2.867, 2.867, 2.8664, 2.8664, 2.8593, 2.8593, 2.8593, 2.8593, 2.8585, 2.7874, 2.7901, 2.4945, 2.4945, 2.6087, 1.7564, 1.6196, 2.5942]}, \"token.table\": {\"Topic\": [6, 7, 1, 1, 11, 9, 11, 1, 11, 1, 3, 11, 6, 9, 3, 5, 6, 3, 3, 1, 1, 12, 8, 12, 11, 13, 6, 7, 7, 1, 12, 8, 5, 12, 7, 8, 9, 10, 1, 11, 7, 3, 10, 4, 6, 13, 11, 13, 8, 13, 2, 10, 4, 1, 4, 11, 11, 2, 7, 12, 12, 6, 3, 6, 10, 9, 8, 6, 9, 8, 10, 7, 4, 13, 4, 10, 4, 12, 3, 12, 8, 5, 4, 13, 5, 11, 9, 12, 11, 2, 10, 12, 5, 12, 6, 1, 5, 10, 12, 3, 4, 6, 5, 12, 9, 12, 10, 10, 13, 2, 10, 7, 11, 11, 13, 13, 7, 13, 6, 4, 5, 4, 8, 13, 4, 5, 9, 1, 2, 2, 2, 2, 2, 9, 2, 2, 2, 7, 11, 7, 9, 1, 5, 11, 3, 1, 7, 3, 6, 5, 5, 5, 5, 2, 2, 11, 13, 8, 8, 10, 7, 7, 6, 7, 8, 12, 5, 2, 3, 10, 11, 3, 11, 7, 4, 13, 7, 6, 4, 4, 7, 8, 13, 4, 4, 11, 2, 13, 5, 11, 6, 4, 3, 8, 3, 9, 12, 13, 11, 4, 5, 6, 13, 5, 7, 8, 1, 2, 11, 12, 2, 2, 3, 12, 10, 12, 7, 6, 12, 6, 7, 11, 9, 1, 13, 10, 8, 10, 11, 7, 12, 9, 2, 2, 8, 12, 4, 10, 11, 13, 9, 12, 6, 4, 3, 9, 6, 5, 4, 6, 6, 3, 7, 3, 11, 10, 13, 9, 5, 3, 4, 9, 9, 7, 13, 13, 1, 8, 4, 4, 2, 8, 5, 3, 4, 3, 1, 8, 6, 11, 6, 5, 4, 5, 1, 2, 11, 2, 7, 9, 2, 4, 13, 3, 3, 13, 1, 2, 1, 2, 9, 8, 9, 13, 12, 7, 11, 8, 12, 12, 2, 2, 12, 11, 10, 10, 9, 6, 12, 13, 8, 12, 11, 10, 11, 5, 8, 9, 6, 6, 7, 10, 11, 13, 10, 12, 3, 3, 4, 13, 13, 8, 8, 12, 11, 9, 10, 12, 2, 8, 6, 7, 5, 9, 4, 1, 4, 13, 8, 3, 13, 7, 6, 9, 4, 8, 10, 13, 2, 13, 8, 6, 10, 9, 11, 6, 9, 7, 13, 9, 13, 8, 12, 5, 1, 9, 4, 13, 5, 1, 2, 10, 10, 5, 2, 10, 11, 4, 8, 7, 8, 10, 2, 6, 5, 8, 9, 8, 1, 10, 9, 10, 5, 8, 10, 10, 9, 12, 8, 9, 3, 3, 1, 3, 10, 10, 10, 5, 1, 5, 5, 7, 13, 3, 13, 8, 4, 8, 4, 12, 12, 10, 13, 3, 13, 2, 6, 9, 3, 1, 6, 5, 10, 13, 5, 8, 1, 2, 9, 3, 4, 11, 12, 13, 7, 8, 10, 9, 13, 3, 2, 7, 8, 7, 8, 2, 7, 10, 5, 8, 5, 1, 10, 10, 5, 7, 10, 9, 10, 9, 7, 4, 6, 6, 5, 10, 3, 12, 7, 1, 8, 2, 6, 7, 1, 11, 1, 1, 5, 1, 6, 1, 4, 9, 3, 6, 10, 7, 5, 6, 1, 13, 7, 12, 9, 5, 1, 1, 3, 7], \"Freq\": [0.9179104710006392, 0.9413409351344177, 0.9818810752762179, 0.9444997311767775, 0.9488951362075889, 0.956038576853518, 0.9666201762147474, 0.3726982474273235, 0.5963171958837176, 0.9458973140672767, 0.7469724395781276, 0.24320032916497178, 0.9566422739396565, 0.9865646349829865, 0.20395937195066788, 0.3608511965281047, 0.4236079263590794, 0.9533959893044005, 0.9569793104208238, 0.981467785474569, 0.981467785474569, 0.93135217395481, 0.9242857087237311, 0.9260787440456998, 0.9865916731723352, 0.8993516429582527, 0.31104452470413224, 0.6786425993544704, 0.93993672919046, 0.9836086311962385, 0.9258656287201443, 0.97393162976775, 0.6740563190859313, 0.31295471957561094, 0.19306552679601593, 0.2895982901940239, 0.43439743529103586, 0.08044396949833997, 0.9831923651300691, 0.9621374728808638, 0.9127044259946483, 0.9911877302016493, 0.9329331497041141, 0.9789812631236187, 0.9411749584648009, 0.9623829196067002, 0.9601877895735718, 0.9583998714302221, 0.9870196070503169, 0.8622253949368534, 0.9480608223931516, 0.9516393466699239, 0.9801012843242437, 0.19550770933435585, 0.7970698919016046, 0.9631520832424696, 0.9900410460200383, 0.9210070658646579, 0.9619653892419517, 0.9519514880426186, 0.9634179285050254, 0.9566422739396565, 0.34053727706708814, 0.08513431926677203, 0.5108059156006322, 0.947209571924371, 0.9749293327955931, 0.9084421507988053, 0.982980839398659, 0.9376702222112435, 0.9402846189187478, 0.9718499961070117, 0.3468708326829036, 0.6359298599186566, 0.979733443111458, 0.9357015935709517, 0.9436010707835425, 0.9035589753293198, 0.9629666224065041, 0.9035602646110165, 0.9371964344210629, 0.9287099058807334, 0.963952533199064, 0.9369526350900892, 0.9504965185828348, 0.9285416977002977, 0.9727611170561196, 0.9035602646110165, 0.9578932356436088, 0.17620198134734819, 0.10068684648419896, 0.7048079253893927, 0.6854104908842555, 0.2907802082539266, 0.9944420346444854, 0.9809654596697444, 0.9052386354205555, 0.09100282578301881, 0.9533738476842029, 0.9788327462517237, 0.8256217351887074, 0.1668809890275047, 0.9575688663685021, 0.9756254493645542, 0.39383061842749756, 0.5803819639984175, 0.9688705913643877, 0.9371046453861804, 0.9853511115911724, 0.6962403110252002, 0.2531782949182546, 0.9273017648427866, 0.9700324772670406, 0.9711722025128454, 0.8912261522801174, 0.956977192034726, 0.9531520417937318, 0.9420076085522664, 0.9728933409037794, 0.9321602826844642, 0.9378212471949091, 0.9665493692334908, 0.9587791279624107, 0.9815696050481822, 0.9378669137497846, 0.958811216687947, 0.9899848569055307, 0.9981553696000862, 0.9589834771811979, 0.9301619226665525, 0.9376234951204458, 0.9432547212063175, 0.9563623882955964, 0.9463879642184921, 0.9725291066533226, 0.9578383168985027, 0.9892230945217775, 0.9772372729608075, 0.9173592611846411, 0.9127044259946483, 0.9847925501034025, 0.9797221968196016, 0.9533254942234985, 0.9692155412167824, 0.9615547170336664, 0.981467785474569, 0.9239301565107148, 0.957245196837578, 0.9930864942607134, 0.9755509514757399, 0.9437316062242184, 0.9488536912937787, 0.9810816262717612, 0.9250848929013387, 0.9343650257142931, 0.11585142082401619, 0.8495770860427854, 0.9697444121647818, 0.3685001217418136, 0.5790716198799929, 0.9512551269917775, 0.8950768500399697, 0.9779742882044689, 0.9550928039980806, 0.9714207729073575, 0.9757149120843505, 0.9674696667734662, 0.9250848929013387, 0.9904961524812691, 0.9410256580855413, 0.944088943515945, 0.7860090811152414, 0.20154079002954906, 0.9762777379688559, 0.3468708326829036, 0.6359298599186566, 0.9261101238330162, 0.9411749584648009, 0.979733443111458, 0.9921684622839886, 0.9785287494727102, 0.985216817830123, 0.8622253949368534, 0.9639527259804466, 0.9837326948624101, 0.9892724679904845, 0.2442164865181008, 0.7326494595543024, 0.9614732896849957, 0.9692155412167824, 0.9787418056057999, 0.9698290485544266, 0.9835682178238373, 0.9638647920038336, 0.9217690756416387, 0.22188162035613115, 0.7211152661574262, 0.9076891216384073, 0.9716727583988153, 0.27993527223063946, 0.4420030614167991, 0.1620677891861597, 0.1031340476639198, 0.9791577296636019, 0.7564962491726964, 0.20631715886528085, 0.05943610406049994, 0.7726693527864992, 0.15453387055729984, 0.9093917111419143, 0.9729253876631929, 0.9446681395246165, 0.9045634645224832, 0.9576331268859012, 0.9839512202545219, 0.9298394539478337, 0.95263105832355, 0.9222368511186734, 0.9035589753293198, 0.9626674462155517, 0.9583924689901808, 0.9607800023605159, 0.9753014197870548, 0.22455422907975015, 0.6736626872392505, 0.9630546896870847, 0.6479920412902624, 0.2699966838709427, 0.9300163641750295, 0.9251787940621853, 0.9480032319706421, 0.9887752739902401, 0.9394440118484265, 0.9552535726967594, 0.9100066056444279, 0.8974598619519436, 0.9847386453267178, 0.16392076528532437, 0.5327424871773042, 0.3073514349099832, 0.3900945736298528, 0.5851418604447791, 0.9728933409037794, 0.9355943977188256, 0.9979583992044284, 0.9124563537220461, 0.9265731459801859, 0.9760596527761902, 0.12116031199974363, 0.8481221839982054, 0.9913276338840485, 0.9502774672755213, 0.951307085302544, 0.7469724395781276, 0.24320032916497178, 0.8832973491644933, 0.11777297988859911, 0.9485163267807234, 0.97237910100167, 0.9563347700118, 0.942767918628552, 0.9527906370527878, 0.9773302302029867, 0.833477920626583, 0.11906827437522614, 0.9845043495907188, 0.981467785474569, 0.9910335695963138, 0.9894019671761505, 0.9463010149312591, 0.8880835804952741, 0.08880835804952741, 0.9674696667734662, 0.9555616349506016, 0.0429027672834964, 0.9256280155532094, 0.979022259271088, 0.9737844832572676, 0.9542144056087194, 0.8930663322295305, 0.9076564217459607, 0.9559837619342166, 0.9465782896529463, 0.970157943149832, 0.9349013423283499, 0.9862514543935668, 0.9691328207549635, 0.9505759894403932, 0.7350502652348435, 0.2579123737666118, 0.9077609764010625, 0.9355943977188256, 0.9049450025136416, 0.9758264372377304, 0.9219355618719044, 0.9815696050481822, 0.9957980289885087, 0.9982767293837244, 0.21641033106181598, 0.32461549659272393, 0.43282066212363196, 0.9764623249253009, 0.9573372213456001, 0.9413064364286501, 0.9137810347082727, 0.24854314951584502, 0.7456294485475351, 0.29958577843078554, 0.6808767691608762, 0.9728278372956135, 0.9394440118484265, 0.9552535726967594, 0.9137810347082727, 0.9476936348890908, 0.9478691515672366, 0.9688705913643877, 0.9485646356902759, 0.9728933409037794, 0.93135217395481, 0.9049450025136416, 0.9749293327955931, 0.9067100044377585, 0.9285000445519365, 0.9266185069293665, 0.9398689964419052, 0.9760142620637849, 0.9566318529057884, 0.9551534738323616, 0.9728933409037794, 0.35470195828557766, 0.6449126514283231, 0.9388560811034358, 0.9892724679904845, 0.8691930377868473, 0.9315029133364456, 0.9642312740770713, 0.9680091052121208, 0.9217693722730562, 0.993432964437552, 0.9487378288505692, 0.9815696050481822, 0.9100066056444279, 0.9852165198873407, 0.9673182246704498, 0.9678884806780478, 0.1313375456746095, 0.7880252740476571, 0.941843836046927, 0.8855394004988423, 0.10626472805986108, 0.3319055329096613, 0.636152271410184, 0.8679017474468689, 0.0867901747446869, 0.9810137423550587, 0.981467785474569, 0.9918691641133673, 0.9850867282035168, 0.996359037569711, 0.9437928668826139, 0.862217709802178, 0.9772372729608075, 0.9827154140301152, 0.9293386705430007, 0.9725089746496368, 0.91000753150162, 0.9539915767952362, 0.8622354967630845, 0.9243990683901494, 0.06375165988897583, 0.9723321237404718, 0.9084421507988053, 0.9452192502537039, 0.9744558245765101, 0.9692155412167824, 0.9817666310270211, 0.9686807504146675, 0.9648677160394505, 0.9815696050481822, 0.9573372213456001, 0.9413064364286501, 0.29958577843078554, 0.6808767691608762, 0.9520134041822678, 0.9600955664955003, 0.947209571924371, 0.9799367726459149, 0.9911800836792193, 0.9151003143944532, 0.9055559938804826, 0.08109456661616263, 0.9887660361464863, 0.9335130989205321, 0.9187651952392971, 0.9778130772842247, 0.9503322121103799, 0.9134428946514094, 0.9665524391065452, 0.9347959782253749, 0.20811081664485562, 0.6243324499345668, 0.12486648998691337, 0.9077609764010625, 0.9669478221907348, 0.945676490455578, 0.9621786288019241, 0.960262285867714, 0.9578512568287009, 0.9685727307317119, 0.9266214989393907, 0.7141801222383287, 0.2678175458393733, 0.7618383637434638, 0.2240701069833717, 0.9644766538494585, 0.953225959853107, 0.16850974140480768, 0.7863787932224358, 0.8755077744424188, 0.08755077744424188, 0.9485076309136853, 0.9787457454061026, 0.9458973140672767, 0.9505991881563964, 0.9266156745670603, 0.9762934677529924, 0.9762934677529924, 0.9784847704514026, 0.9556277597847448, 0.945676490455578, 0.9780632566512236, 0.8975414829066283, 0.8955129056545406, 0.9745154320720951, 0.8993516429582527, 0.9734745647578841, 0.9197537945862995, 0.9522437474663275, 0.9503538043482769, 0.9576275525485477, 0.9741820244115842, 0.707978509220349, 0.27703506882535395, 0.06847510044345058, 0.8217012053214069, 0.9540735791064274, 0.9548096003087119, 0.9576326826411978, 0.939838002283877, 0.9812458268321379, 0.9781161746100757, 0.08810373812296642, 0.6343469144853582, 0.26431121436889926, 0.25729984176832144, 0.7251177358925422, 0.9831859554136232, 0.9032143106804387, 0.9377053795269802, 0.9331663567545265, 0.9213935293650569, 0.9699521746108417, 0.9717290204134268, 0.9302921675302877, 0.6333117935047606, 0.1759199426402113, 0.1759199426402113, 0.9576331642460565, 0.960532582854303, 0.9728267045010635, 0.9966737283371702, 0.9251846873925592, 0.9664970721755937, 0.9116487673124736, 0.9664808024276028, 0.8815352318011221, 0.11753803090681629, 0.9590462960281316, 0.7161479741604159, 0.27382128423780605, 0.945676490455578, 0.9855547362876548, 0.9021026822422432, 0.9117185483703868, 0.687201673274131, 0.07635574147490343, 0.2290672244247103, 0.950543772680598, 0.9838603979574245, 0.9294886333048753, 0.9531638753444507, 0.16485785839098152, 0.769336672491247, 0.9899731293902354, 0.1277037494782581, 0.8300743716086777, 0.9276090185914575, 0.9813634839251903, 0.9512976903654723, 0.9192520092013622, 0.9210385264646104, 0.9608954200276136, 0.9037988703063109, 0.9449736113342395, 0.9569646640710993, 0.9487347042616726, 0.9179282634949725, 0.961964648149773, 0.9523913755099823, 0.1080996043566614, 0.8647968348532912, 0.9767417631537869, 0.9665509334719002, 0.9237901750698575, 0.9505991881563964, 0.9226988782451411, 0.9838603979574245, 0.9512928805965761, 0.9791546214014765, 0.9515000728231932, 0.8647319199176289, 0.10173316704913282, 0.9080046453677185, 0.9598673611425793, 0.9576326826411978, 0.9393755320927764, 0.9869121025765505, 0.9732940530676782, 0.12061595624360666, 0.8443116937052466], \"Term\": [\"AFP chief staff\", \"Adamson University student\", \"Administration PAGASA say\", \"Affairs DFA say\", \"Agrarian Reform DAR\", \"Agreement EDCA site\", \"Airport Authority MIAA\", \"Albert del Rosario\", \"Albert del Rosario\", \"Ambassador Philippines Huang\", \"Aquino International Airport\", \"Aquino International Airport\", \"Armed Conflict NTF\", \"Armed Forces Philippines\", \"Arnolfo Arnie Teves\", \"Arnolfo Arnie Teves\", \"Arnolfo Arnie Teves\", \"Asian Nations ASEAN\", \"Association Southeast Asian\", \"Astronomical Services Administration\", \"Atmospheric Geophysical Astronomical\", \"Autonomous Region Muslim\", \"BRP Antonio Luna\", \"Bangsamoro Autonomous Region\", \"Barangay Sangguniang Kabataan\", \"Batangas district Ralph\", \"Bato dela Rosa\", \"Bato dela Rosa\", \"Bilibid Prison NBP\", \"Bongbong Marcos say\", \"Boying Remulla say\", \"BuCor chief Gerald\", \"Budget Management DBM\", \"Budget Management DBM\", \"Bureau Corrections BuCor\", \"Bureau Corrections BuCor\", \"Bureau Corrections BuCor\", \"Bureau Corrections BuCor\", \"Bureau Customs BOC\", \"Bureau Fire Protection\", \"Bureau Fisheries Aquatic\", \"Bureau Immigration BI\", \"Bureau Internal Revenue\", \"Bureau Investigation NBI\", \"Bureau Jail Management\", \"Cagayan de Oro\", \"Capital Region NCR\", \"Capital Region Police\", \"Charity Sweepstakes Office\", \"Chief Justice Alexander\", \"Chinese Coast Guard\", \"Civil Defense OCD\", \"Civil Service Commission\", \"Coast Guard PCG\", \"Coast Guard PCG\", \"Commission Audit COA\", \"Commission Elections Comelec\", \"Commission Higher Education\", \"Commission Human Rights\", \"Communications Office PCO\", \"Communications Technology DICT\", \"Communist Armed Conflict\", \"Communist Party Philippines\", \"Communist Party Philippines\", \"Communist Party Philippines\", \"Company Manila Water\", \"Comprehensive Economic Partnership\", \"Conflict NTF ELCAC\", \"Cooperation Agreement EDCA\", \"Corrections BuCor chief\", \"Court Tax Appeals\", \"Criminal Court ICC\", \"Criminal Investigation Detection\", \"Criminal Investigation Detection\", \"Crispin Boying Remulla\", \"Crispin Remulla Thursday\", \"Crispin Remulla say\", \"DBM Secretary Amenah\", \"DILG Secretary Benjamin\", \"DND chief Carlito\", \"DOH log new\", \"DOH report Monday\", \"DOJ Secretary Jesus\", \"DSWD Secretary Rex\", \"Davao de Oro\", \"Davao del Norte\", \"Defense Cooperation Agreement\", \"Defense DND chief\", \"Department Agrarian Reform\", \"Department Agriculture DA\", \"Department Agriculture DA\", \"Department Agriculture DA\", \"Department Budget Management\", \"Department Budget Management\", \"Department Education DepEd\", \"Department Foreign Affairs\", \"Department Health DOH\", \"Department Health DOH\", \"Department Information Communications\", \"Department Interior Local\", \"Department Justice DOJ\", \"Department Justice DOJ\", \"Department Labor Employment\", \"Department Migrant Workers\", \"Department National Defense\", \"Department National Defense\", \"Department Public Works\", \"Department Science Technology\", \"Department Social Welfare\", \"Department Tourism DOT\", \"Department Tourism DOT\", \"Department Trade Industry\", \"Department Transportation DOTr\", \"Deputy Minority Leader\", \"Deputy Speaker Batangas\", \"Detection Group CIDG\", \"Development Authority MMDA\", \"Development DSWD Secretary\", \"Disaster Risk Reduction\", \"Drug Enforcement Agency\", \"Drug Enforcement Group\", \"EDSA People Power\", \"Economic Partnership RCEP\", \"Education Secretary Sara\", \"Enforcement Agency PDEA\", \"Enforcement Group PDEG\", \"Enhanced Defense Cooperation\", \"Ferdinand Bongbong Marcos\", \"Ferdinand Marcos Friday\", \"Ferdinand Marcos Jr\", \"Ferdinand Marcos Monday\", \"Ferdinand Marcos Saturday\", \"Ferdinand Marcos Thursday\", \"Ferdinand Marcos Tuesday\", \"Ferdinand Marcos Wednesday\", \"Ferdinand Marcos appoint\", \"Ferdinand Marcos say\", \"Ferdinand Martin Romualdez\", \"Fire Protection BFP\", \"Fisheries Aquatic Resources\", \"Forces Philippines AFP\", \"Foreign Affairs DFA\", \"Foreign Affairs Secretary\", \"Franchising Regulatory Board\", \"General Rodolfo Azurin\", \"Geophysical Astronomical Services\", \"Gloria Macapagal Arroyo\", \"Government DILG Secretary\", \"Governor Roel Degamo\", \"Health DOH Friday\", \"Health DOH Tuesday\", \"Health DOH report\", \"Health DOH say\", \"Health Insurance Corporation\", \"Higher Education CHED\", \"House Deputy Speaker\", \"House Deputy Speaker\", \"House Representatives Monday\", \"House Representatives Tuesday\", \"House Representatives Tuesday\", \"House Representatives Wednesday\", \"House Speaker Ferdinand\", \"House Speaker Martin\", \"Human Rights CHR\", \"Immigration BI report\", \"Information Communications Technology\", \"Institute Volcanology Seismology\", \"Insurance Corporation PhilHealth\", \"Interior Local Government\", \"Internal Revenue BIR\", \"International Airport Authority\", \"International Airport NAIA\", \"International Airport NAIA\", \"International Criminal Court\", \"Investigation Detection Group\", \"Investigation Detection Group\", \"Investment Fund MIF\", \"Jail Management Penology\", \"Jesus Crispin Boying\", \"Jesus Crispin Remulla\", \"John Matthew Salilig\", \"Juan Miguel Zubiri\", \"Justice Alexander Gesmundo\", \"Justice DOJ Secretary\", \"Justice Secretary Jesus\", \"Kabataan Elections BSKE\", \"Kadiwa ng Pangulo\", \"Kadiwa ng Pangulo\", \"Labor Employment DOLE\", \"Land Transportation Franchising\", \"Land Transportation Office\", \"Leila de Lima\", \"Local Government DILG\", \"Lotto evening draw\", \"MANILA Department Interior\", \"MANILA Department National\", \"MANILA Department National\", \"MANILA Department Social\", \"MANILA Philippines Commission\", \"MANILA Philippines Department\", \"MANILA Philippines Department\", \"MANILA Philippines Department\", \"MANILA Philippines Department\", \"MANILA Philippines House\", \"MANILA Philippines Philippines\", \"MANILA Philippines Philippines\", \"MANILA Philippines President\", \"MANILA Philippines President\", \"MANILA Philippines President\", \"MANILA Philippines Senate\", \"MANILA Philippines Supreme\", \"MANILA Philippines area\", \"MANILA Philippines year\", \"MANILA Senate President\", \"MT Princess Empress\", \"Maguindanao del Sur\", \"Maharlika Investment Fund\", \"Management Council NDRRMC\", \"Management DBM Secretary\", \"Management Penology BJMP\", \"Manila Development Authority\", \"Manila International Airport\", \"Manila Water Company\", \"Marcos Wednesday say\", \"Marcos Wednesday say\", \"Maria Rosario Vergeire\", \"Maritime Industry Authority\", \"Maritime Industry Authority\", \"Mega Lotto jackpot\", \"Metropolitan Manila Development\", \"Migrant Workers DMW\", \"Mindoro oil spill\", \"Minister Anwar Ibrahim\", \"Minister Petr Fiala\", \"Minority Leader Aquilino\", \"Muslim Mindanao BARMM\", \"National Bureau Investigation\", \"National Capital Region\", \"National Capital Region\", \"National Capital Region\", \"National Defense DND\", \"National Defense DND\", \"National Disaster Risk\", \"National Police Criminal\", \"National Police PNP\", \"National Security Council\", \"National Task Force\", \"Negros Oriental Representative\", \"Negros oriental District\", \"Negros oriental District\", \"Negros oriental Governor\", \"Negros oriental district\", \"New Bilibid Prison\", \"Ninoy Aquino International\", \"Ninoy Aquino International\", \"Office Civil Defense\", \"Office Civil Defense\", \"Officers Training Corps\", \"Oriental Representative Arnolfo\", \"PNP chief Rodolfo\", \"People Power Revolution\", \"Percival Percy Lapid\", \"Percy Lapid Mabasa\", \"Philippine Air Force\", \"Philippine Air Force\", \"Philippine Army PA\", \"Philippine Atmospheric Geophysical\", \"Philippine Charity Sweepstakes\", \"Philippine Coast Guard\", \"Philippine Drug Enforcement\", \"Philippine Health Insurance\", \"Philippine Health Insurance\", \"Philippine Institute Volcanology\", \"Philippine National Police\", \"Philippine National Police\", \"Philippine Navy PN\", \"Philippine Sea WPS\", \"Philippine Statistics Authority\", \"Philippines AFP chief\", \"Philippines Commission Elections\", \"Philippines Department Education\", \"Philippines Department Health\", \"Philippines Department Justice\", \"Philippines House Representatives\", \"Philippines Huang Xilian\", \"Philippines President Ferdinand\", \"Philippines President Rodrigo\", \"Philippines Supreme Court\", \"Philippines United States\", \"Philippines United States\", \"Philippines area suspend\", \"Police Criminal Investigation\", \"Police Office NCRPO\", \"Police PNP chief\", \"Police PNP say\", \"President Education Secretary\", \"President Ferdinand Bongbong\", \"President Ferdinand Marcos\", \"President Joe Biden\", \"President Joe Biden\", \"President Joe Biden\", \"President Juan Miguel\", \"President Kamala Harris\", \"President Leni Robredo\", \"President Pro Tempore\", \"President Rodrigo Duterte\", \"President Rodrigo Duterte\", \"President Sara Duterte\", \"President Sara Duterte\", \"Presidential Communications Office\", \"Prime Minister Anwar\", \"Prime Minister Petr\", \"Pro Tempore Loren\", \"Professional Regulation Commission\", \"Pryde Henry Teves\", \"Public Works Highways\", \"Rail Transit Line\", \"Reduction Management Council\", \"Region Muslim Mindanao\", \"Region Police Office\", \"Regional Comprehensive Economic\", \"Regional Trial Court\", \"Regulation Commission PRC\", \"Regulatory Administration SRA\", \"Regulatory Board LTFRB\", \"Representative Arnolfo Arnie\", \"Representative Arnolfo Teves\", \"Reserve Officers Training\", \"Risk Reduction Management\", \"Ronald Bato dela\", \"Ronald Bato dela\", \"Rosario Vergeire say\", \"Sangguniang Kabataan Elections\", \"Sara Duterte Monday\", \"Science Technology DOST\", \"Secretary Amenah Pangandaman\", \"Secretary Benhur Abalos\", \"Secretary Benjamin Abalos\", \"Secretary Jesus Crispin\", \"Secretary Rex Gatchalian\", \"Secretary Sara Duterte\", \"Senate Minority Leader\", \"Senate President Juan\", \"Senate President Pro\", \"Senator Grace Poe\", \"Senator Imee Marcos\", \"Senator Imee Marcos\", \"Senator Raffy Tulfo\", \"Senator Risa Hontiveros\", \"Senator Risa Hontiveros\", \"Senator Ronald Bato\", \"Senator Ronald Bato\", \"Senator Sherwin Gatchalian\", \"Senator Sherwin Gatchalian\", \"Service Commission CSC\", \"Services Administration PAGASA\", \"Social Weather Stations\", \"Social Welfare Development\", \"South China Sea\", \"Southeast Asian Nations\", \"Speaker Batangas district\", \"Speaker Ferdinand Martin\", \"Speaker Martin Romualdez\", \"States President Joe\", \"Stations SWS survey\", \"Statistics Authority PSA\", \"Sugar Regulatory Administration\", \"Super Lotto jackpot\", \"Supreme Court SC\", \"Supreme Court SC\", \"Sweepstakes Office PCSO\", \"Task Force end\", \"Tax Appeals CTA\", \"Training Corps ROTC\", \"Transportation Franchising Regulatory\", \"Transportation Office LTO\", \"United States President\", \"University student John\", \"Vice President Education\", \"Vice President Kamala\", \"Vice President Leni\", \"Vice President Sara\", \"Vice President Sara\", \"Volcanology Seismology Phivolcs\", \"WASHINGTON President Ferdinand\", \"Water Company Manila\", \"Weather Stations SWS\", \"Welfare Development DSWD\", \"West PH Sea\", \"West Philippine Sea\", \"West Philippine Sea\", \"Works Highways DPWH\", \"accord Department Health\", \"active tally climb\", \"administration President Ferdinand\", \"affect oil spill\", \"agrarian reform beneficiary\", \"anti graft court\", \"approval trust rating\", \"approve final read\", \"approve final read\", \"approve final read\", \"area suspend class\", \"assassination Negros oriental\", \"average new coronavirus\", \"barangay Sangguniang Kabataan\", \"broadcaster Percival Percy\", \"broadcaster Percy Lapid\", \"bureau say Thursday\", \"call constitutional convention\", \"case Omicron subvariant\", \"case Omicron subvariant\", \"case active tally\", \"case active tally\", \"cease desist order\", \"charge Maria Rosario\", \"chief Carlito Galvez\", \"chief Carlito Galvez\", \"chief Gerald Bantag\", \"chief Gerald Bantag\", \"chief Police General\", \"chief Rodolfo Azurin\", \"chinese Ambassador Philippines\", \"cloudy sky isolated\", \"con con amend\", \"constitutional convention con\", \"convention con con\", \"coronavirus disease case\", \"country continue experience\", \"country daily average\", \"daily average new\", \"death Adamson University\", \"dictator Ferdinand Marcos\", \"district Arnolfo Arnie\", \"district Ralph Recto\", \"draw Philippine Charity\", \"economic provision Constitution\", \"evening draw Philippine\", \"face face class\", \"file measure seek\", \"filipino worker ofw\", \"government unit lgu\", \"government unit lgu\", \"human trafficking victim\", \"human trafficking victim\", \"hurdle second reading\", \"illegal possession firearm\", \"interruption service improvement\", \"involvement illegal drug\", \"isolated rain shower\", \"killing Negros oriental\", \"local government unit\", \"local government unit\", \"local government unit\", \"log new case\", \"log new case\", \"low pressure area\", \"malaysian Prime Minister\", \"manila Armed Forces\", \"manila Bureau Immigration\", \"manila Civil Service\", \"manila Commission Elections\", \"manila Department Agriculture\", \"manila Department Social\", \"manila House Representatives\", \"manila House Representatives\", \"manila House Representatives\", \"manila Manila Water\", \"manila Philippine Army\", \"manila Philippine National\", \"manila President Ferdinand\", \"manila Speaker Ferdinand\", \"manila United States\", \"manila operative Philippine\", \"manila philippine Navy\", \"manila philippine government\", \"manila philippine government\", \"new EDCA site\", \"new case active\", \"new case active\", \"new coronavirus disease\", \"northeast monsoon amihan\", \"number new case\", \"officer charge Maria\", \"oil spill affect\", \"oil spill affect\", \"oil spill affect\", \"oil spill cleanup\", \"oil spill oriental\", \"oil spill response\", \"operative Philippine National\", \"oriental District Arnolfo\", \"oriental District Arnolfo\", \"oriental Governor Roel\", \"oriental Mindoro province\", \"oriental Mindoro province\", \"oriental district Arnolfo\", \"overseas filipino worker\", \"person deprive liberty\", \"philippine Coast Guard\", \"philippine Navy PN\", \"philippine President Ferdinand\", \"possession firearm explosive\", \"president Rodrigo Duterte\", \"pressure area LPA\", \"public utility vehicle\", \"rain shower prevail\", \"rain shower thunderstorm\", \"record new case\", \"say Tuesday April\", \"say Tuesday April\", \"scatter rain shower\", \"senator Leila de\", \"service improvement activity\", \"sky isolated rain\", \"slain Negros oriental\", \"spill oriental Mindoro\", \"student John Matthew\", \"suspend Negros Oriental\", \"suspend Negros oriental\", \"tropical depression Amang\", \"tropical depression Amang\", \"visit United States\", \"warm humid weather\", \"water interruption service\", \"wearing face mask\", \"weather bureau say\", \"weather isolated rain\", \"worth illegal drug\", \"worth illegal drug\"]}, \"R\": 30, \"lambda.step\": 0.01, \"plot.opts\": {\"xlab\": \"PC1\", \"ylab\": \"PC2\"}, \"topic.order\": [1, 11, 9, 7, 2, 8, 10, 4, 5, 3, 13, 12, 6]};\n",
              "\n",
              "function LDAvis_load_lib(url, callback){\n",
              "  var s = document.createElement('script');\n",
              "  s.src = url;\n",
              "  s.async = true;\n",
              "  s.onreadystatechange = s.onload = callback;\n",
              "  s.onerror = function(){console.warn(\"failed to load library \" + url);};\n",
              "  document.getElementsByTagName(\"head\")[0].appendChild(s);\n",
              "}\n",
              "\n",
              "if(typeof(LDAvis) !== \"undefined\"){\n",
              "   // already loaded: just create the visualization\n",
              "   !function(LDAvis){\n",
              "       new LDAvis(\"#\" + \"ldavis_el29181339400395498886024162722\", ldavis_el29181339400395498886024162722_data);\n",
              "   }(LDAvis);\n",
              "}else if(typeof define === \"function\" && define.amd){\n",
              "   // require.js is available: use it to load d3/LDAvis\n",
              "   require.config({paths: {d3: \"https://d3js.org/d3.v5\"}});\n",
              "   require([\"d3\"], function(d3){\n",
              "      window.d3 = d3;\n",
              "      LDAvis_load_lib(\"https://cdn.jsdelivr.net/gh/bmabey/pyLDAvis@3.4.0/pyLDAvis/js/ldavis.v3.0.0.js\", function(){\n",
              "        new LDAvis(\"#\" + \"ldavis_el29181339400395498886024162722\", ldavis_el29181339400395498886024162722_data);\n",
              "      });\n",
              "    });\n",
              "}else{\n",
              "    // require.js not available: dynamically load d3 & LDAvis\n",
              "    LDAvis_load_lib(\"https://d3js.org/d3.v5.js\", function(){\n",
              "         LDAvis_load_lib(\"https://cdn.jsdelivr.net/gh/bmabey/pyLDAvis@3.4.0/pyLDAvis/js/ldavis.v3.0.0.js\", function(){\n",
              "                 new LDAvis(\"#\" + \"ldavis_el29181339400395498886024162722\", ldavis_el29181339400395498886024162722_data);\n",
              "            })\n",
              "         });\n",
              "}\n",
              "</script>"
            ]
          },
          "metadata": {},
          "execution_count": 129
        }
      ]
    },
    {
      "cell_type": "code",
      "source": [
        "pyLDAvis.save_html(lda_display_cv, f'{dir_actual}lda-ph-trigram-cv.html')"
      ],
      "metadata": {
        "id": "81L_qkX6LWhe"
      },
      "execution_count": null,
      "outputs": []
    },
    {
      "cell_type": "markdown",
      "source": [
        "display load"
      ],
      "metadata": {
        "id": "7GlcBH3R0gYo"
      }
    },
    {
      "cell_type": "code",
      "source": [
        "from IPython.display import display, HTML\n",
        "\n",
        "# Path to the uploaded HTML file\n",
        "html_file_path = f'{dir_actual}lda-ph-index.html'\n",
        "\n",
        "# Read the HTML file and display it\n",
        "with open(html_file_path, 'r') as file:\n",
        "    html_contents = file.read()\n",
        "    display(HTML(html_contents))"
      ],
      "metadata": {
        "id": "OhCnW8nk0iAM"
      },
      "execution_count": null,
      "outputs": []
    },
    {
      "cell_type": "code",
      "source": [
        "cv_list = []\n",
        "for x in range(13):\n",
        "    l = []\n",
        "    print(x, lda_model_cv.show_topic(x, topn=30))\n",
        "    for i in lda_model_cv.show_topic(x, topn=30):\n",
        "        # print(i[0])\n",
        "        l.append(i[0])\n",
        "    cv_list.append(l)\n"
      ],
      "metadata": {
        "colab": {
          "base_uri": "https://localhost:8080/"
        },
        "id": "owdFSqZS9_kB",
        "outputId": "203d7148-0445-4d9b-903d-80ee86bb12dd"
      },
      "execution_count": 26,
      "outputs": [
        {
          "output_type": "stream",
          "name": "stdout",
          "text": [
            "0 [('Ferdinand Bongbong Marcos', 0.11255315), ('President Ferdinand Bongbong', 0.094920106), ('Services Administration PAGASA', 0.031837467), ('Philippine Atmospheric Geophysical', 0.031837467), ('Geophysical Astronomical Services', 0.031837467), ('Atmospheric Geophysical Astronomical', 0.031837467), ('Astronomical Services Administration', 0.031837467), ('West Philippine Sea', 0.02983461), ('weather bureau say', 0.028498849), ('Department Foreign Affairs', 0.0273112), ('Foreign Affairs DFA', 0.025072096), ('isolated rain shower', 0.021399362), ('Administration PAGASA say', 0.018662136), ('low pressure area', 0.015464077), ('Bureau Customs BOC', 0.015463973), ('northeast monsoon amihan', 0.014069462), ('pressure area LPA', 0.01403607), ('rain shower thunderstorm', 0.0130345365), ('Bongbong Marcos say', 0.01273892), ('weather isolated rain', 0.011046725), ('Philippine Sea WPS', 0.010979752), ('scatter rain shower', 0.009637596), ('tropical depression Amang', 0.007678375), ('Affairs DFA say', 0.007621154), ('Philippines Huang Xilian', 0.0072268415), ('country continue experience', 0.007061431), ('WASHINGTON President Ferdinand', 0.00702671), ('chinese Ambassador Philippines', 0.006667064), ('Ambassador Philippines Huang', 0.006667064), ('bureau say Thursday', 0.006501623)]\n",
            "1 [('Department Health DOH', 0.11969622), ('Negros Oriental Representative', 0.026036901), ('Health DOH say', 0.024609935), ('Oriental Representative Arnolfo', 0.024184022), ('Representative Arnolfo Arnie', 0.02279434), ('case active tally', 0.021564612), ('new case active', 0.021246603), ('Department Budget Management', 0.021114718), ('MANILA Philippines Department', 0.019197447), ('Budget Management DBM', 0.01775488), ('Department Labor Employment', 0.017292919), ('record new case', 0.016725127), ('Labor Employment DOLE', 0.015903274), ('Philippines Department Health', 0.015335462), ('Health DOH report', 0.014787585), ('Arnolfo Arnie Teves', 0.014330721), ('daily average new', 0.013681803), ('suspend Negros Oriental', 0.013019247), ('MANILA Philippines House', 0.013019204), ('Senator Sherwin Gatchalian', 0.01256803), ('Philippine Institute Volcanology', 0.011874289), ('Institute Volcanology Seismology', 0.011874289), ('coronavirus disease case', 0.011734301), ('Drug Enforcement Group', 0.011592197), ('Volcanology Seismology Phivolcs', 0.011411065), ('oil spill affect', 0.011128886), ('Health DOH Tuesday', 0.010845175), ('Enforcement Group PDEG', 0.010665736), ('Health DOH Friday', 0.009824074), ('active tally climb', 0.009776756)]\n",
            "2 [('MT Princess Empress', 0.04332982), ('Department Public Works', 0.033482123), ('Public Works Highways', 0.033482123), ('local government unit', 0.030974368), ('Works Highways DPWH', 0.030212788), ('oil spill oriental', 0.023451611), ('spill oriental Mindoro', 0.023451611), ('government unit lgu', 0.019408029), ('affect oil spill', 0.018040944), ('new EDCA site', 0.01787018), ('constitutional convention con', 0.017541185), ('convention con con', 0.017541185), ('Department Health DOH', 0.016110918), ('Bureau Internal Revenue', 0.01565654), ('Court Tax Appeals', 0.015528245), ('Maria Rosario Vergeire', 0.0151433), ('Department Science Technology', 0.014675916), ('Internal Revenue BIR', 0.013707832), ('Tax Appeals CTA', 0.0136436755), ('charge Maria Rosario', 0.012630522), ('Office Civil Defense', 0.012387318), ('accord Department Health', 0.012002068), ('Civil Defense OCD', 0.01175912), ('officer charge Maria', 0.011374127), ('oriental Mindoro province', 0.011259234), ('Senator Imee Marcos', 0.010374), ('Communist Party Philippines', 0.0103100715), ('Science Technology DOST', 0.010203524), ('Rosario Vergeire say', 0.010117712), ('House Representatives Tuesday', 0.009746121)]\n",
            "3 [('South China Sea', 0.08905139), ('Philippine Charity Sweepstakes', 0.030855868), ('Charity Sweepstakes Office', 0.028828446), ('Sweepstakes Office PCSO', 0.027814738), ('Senate President Juan', 0.023843734), ('Juan Miguel Zubiri', 0.023843726), ('President Juan Miguel', 0.023336885), ('log new case', 0.022011954), ('draw Philippine Charity', 0.014668615), ('chief Gerald Bantag', 0.014232881), ('DOH log new', 0.013747426), ('Regional Comprehensive Economic', 0.013190989), ('Comprehensive Economic Partnership', 0.013190989), ('Corrections BuCor chief', 0.012983859), ('Economic Partnership RCEP', 0.012684139), ('Bureau Corrections BuCor', 0.012610108), ('BuCor chief Gerald', 0.012477003), ('evening draw Philippine', 0.012030786), ('approve final read', 0.010784663), ('Lotto evening draw', 0.010406646), ('Philippine Statistics Authority', 0.010294222), ('philippine Navy PN', 0.010149847), ('broadcaster Percy Lapid', 0.009735565), ('manila philippine Navy', 0.009643016), ('manila United States', 0.009642843), ('Immigration BI report', 0.009590776), ('new case active', 0.009298341), ('House Representatives Monday', 0.008877154), ('Maritime Industry Authority', 0.008756313), ('Minority Leader Aquilino', 0.008721937)]\n",
            "4 [('Armed Forces Philippines', 0.08099138), ('Forces Philippines AFP', 0.070497386), ('Enhanced Defense Cooperation', 0.039996747), ('Defense Cooperation Agreement', 0.039888937), ('Cooperation Agreement EDCA', 0.03700664), ('Mindoro oil spill', 0.03433985), ('Percy Lapid Mabasa', 0.022378515), ('Bureau Corrections BuCor', 0.021573436), ('Percival Percy Lapid', 0.018743152), ('Philippines United States', 0.015861137), ('Manila Water Company', 0.015814511), ('Department National Defense', 0.015655773), ('Agreement EDCA site', 0.015304411), ('Water Company Manila', 0.014602717), ('Company Manila Water', 0.014602717), ('National Defense DND', 0.014448555), ('Officers Training Corps', 0.013731767), ('broadcaster Percival Percy', 0.013555046), ('Training Corps ROTC', 0.012519963), ('case Omicron subvariant', 0.01251969), ('manila Armed Forces', 0.012179047), ('Ferdinand Marcos Tuesday', 0.012060744), ('Reserve Officers Training', 0.011943496), ('United States President', 0.011766716), ('oil spill response', 0.011425793), ('Vice President Kamala', 0.011072605), ('President Kamala Harris', 0.011072605), ('Rail Transit Line', 0.0103318235), ('service improvement activity', 0.009755504), ('President Joe Biden', 0.009622238)]\n",
            "5 [('Social Welfare Development', 0.07360112), ('Department Social Welfare', 0.070477605), ('Welfare Development DSWD', 0.06594413), ('Philippine Army PA', 0.03326468), ('Vice President Education', 0.028174372), ('Secretary Sara Duterte', 0.028174372), ('President Education Secretary', 0.028174372), ('Education Secretary Sara', 0.028174372), ('manila Philippine Army', 0.023505028), ('House Deputy Speaker', 0.022218425), ('Criminal Investigation Detection', 0.02214555), ('Investigation Detection Group', 0.02214555), ('Detection Group CIDG', 0.019334989), ('manila Department Social', 0.018819785), ('Cagayan de Oro', 0.01816211), ('President Leni Robredo', 0.016423175), ('Vice President Leni', 0.016423175), ('Secretary Rex Gatchalian', 0.016287457), ('local government unit', 0.015145551), ('National Capital Region', 0.014934663), ('DSWD Secretary Rex', 0.013239851), ('Development DSWD Secretary', 0.013163956), ('MANILA Department Social', 0.0125728045), ('human trafficking victim', 0.012563922), ('Kadiwa ng Pangulo', 0.011753742), ('Deputy Speaker Batangas', 0.011677976), ('Capital Region Police', 0.010796151), ('dictator Ferdinand Marcos', 0.010479459), ('Marcos Wednesday say', 0.009448805), ('district Ralph Recto', 0.009297442)]\n",
            "6 [('Department Justice DOJ', 0.057801913), ('Secretary Jesus Crispin', 0.05695929), ('Jesus Crispin Remulla', 0.042174395), ('Philippine Coast Guard', 0.041673016), ('Justice Secretary Jesus', 0.04004311), ('Coast Guard PCG', 0.03239914), ('Social Weather Stations', 0.029182455), ('Weather Stations SWS', 0.026410319), ('National Bureau Investigation', 0.023160078), ('Bureau Investigation NBI', 0.018907463), ('DOJ Secretary Jesus', 0.017936284), ('Justice DOJ Secretary', 0.01793628), ('Civil Service Commission', 0.01763181), ('Leila de Lima', 0.017190961), ('Crispin Boying Remulla', 0.015757788), ('Jesus Crispin Boying', 0.015757788), ('Service Commission CSC', 0.015736515), ('Stations SWS survey', 0.014615669), ('Crispin Remulla say', 0.013127195), ('Philippine Drug Enforcement', 0.012439094), ('Drug Enforcement Agency', 0.011977083), ('MANILA Philippines Department', 0.011682018), ('People Power Revolution', 0.011184683), ('Philippines Department Justice', 0.011137474), ('Enforcement Agency PDEA', 0.010591032), ('EDSA People Power', 0.010260632), ('senator Leila de', 0.010260615), ('anti graft court', 0.010260598), ('face face class', 0.00979841), ('manila Civil Service', 0.008790158)]\n",
            "7 [('Governor Roel Degamo', 0.075828075), ('Negros oriental Governor', 0.06997286), ('oriental Governor Roel', 0.06806973), ('Department Education DepEd', 0.04851799), ('killing Negros oriental', 0.04056733), ('Speaker Martin Romualdez', 0.030302571), ('Land Transportation Office', 0.026382754), ('Transportation Office LTO', 0.024955412), ('Arnolfo Arnie Teves', 0.01790765), ('House Speaker Martin', 0.017632395), ('Negros oriental District', 0.013794389), ('illegal possession firearm', 0.013236661), ('Department Justice DOJ', 0.012500317), ('Reduction Management Council', 0.011623231), ('Risk Reduction Management', 0.011623231), ('Disaster Risk Reduction', 0.011623231), ('National Disaster Risk', 0.011623231), ('Bureau Jail Management', 0.011333557), ('Jail Management Penology', 0.011333557), ('National Task Force', 0.010809224), ('say Tuesday April', 0.010643823), ('Philippines AFP chief', 0.010479149), ('Management Penology BJMP', 0.010381994), ('assassination Negros oriental', 0.010333445), ('Management Council NDRRMC', 0.010147289), ('suspend Negros oriental', 0.009817207), ('AFP chief staff', 0.009478991), ('oriental District Arnolfo', 0.009469302), ('possession firearm explosive', 0.0089060245), ('Task Force end', 0.008857512)]\n",
            "8 [('Philippine National Police', 0.14008622), ('National Police PNP', 0.11748467), ('Bureau Immigration BI', 0.053698104), ('Interior Local Government', 0.032959554), ('Department Interior Local', 0.029854413), ('manila Philippine National', 0.02886669), ('Local Government DILG', 0.027964642), ('Ninoy Aquino International', 0.024414307), ('Aquino International Airport', 0.024414307), ('International Airport NAIA', 0.022032335), ('Police PNP chief', 0.021746796), ('Government DILG Secretary', 0.01740154), ('DILG Secretary Benjamin', 0.013139751), ('chief Rodolfo Azurin', 0.0129196355), ('PNP chief Rodolfo', 0.011441219), ('manila Bureau Immigration', 0.01112545), ('Secretary Benhur Abalos', 0.010706513), ('Negros oriental district', 0.010314325), ('oriental district Arnolfo', 0.009962683), ('Southeast Asian Nations', 0.00978304), ('Asian Nations ASEAN', 0.009079747), ('Association Southeast Asian', 0.009043826), ('district Arnolfo Arnie', 0.008871844), ('MANILA Department Interior', 0.008168599), ('Secretary Benjamin Abalos', 0.008168596), ('Police PNP say', 0.00816703), ('Philippine Navy PN', 0.008132402), ('cloudy sky isolated', 0.007905283), ('sky isolated rain', 0.007905283), ('General Rodolfo Azurin', 0.0078093633)]\n",
            "9 [('Philippines United States', 0.040327407), ('International Criminal Court', 0.03846651), ('Criminal Court ICC', 0.03282665), ('John Matthew Salilig', 0.027542336), ('Ferdinand Martin Romualdez', 0.024686625), ('Speaker Ferdinand Martin', 0.024686625), ('MANILA Philippines Philippines', 0.023553368), ('Commission Human Rights', 0.022884335), ('Human Rights CHR', 0.020833498), ('Bato dela Rosa', 0.016941184), ('Senator Ronald Bato', 0.016410226), ('president Rodrigo Duterte', 0.015079863), ('Maharlika Investment Fund', 0.014211694), ('Ronald Bato dela', 0.013842801), ('student John Matthew', 0.013489606), ('New Bilibid Prison', 0.0134893935), ('manila House Representatives', 0.012704524), ('President Rodrigo Duterte', 0.012056212), ('person deprive liberty', 0.012003616), ('Manila Development Authority', 0.01191012), ('Adamson University student', 0.011386396), ('Gloria Macapagal Arroyo', 0.010847809), ('Metropolitan Manila Development', 0.010832323), ('manila Speaker Ferdinand', 0.010832249), ('University student John', 0.010360968), ('Philippine Air Force', 0.010136154), ('Investment Fund MIF', 0.010057635), ('worth illegal drug', 0.009980006), ('Bilibid Prison NBP', 0.009900467), ('Development Authority MMDA', 0.009754511)]\n",
            "10 [('President Ferdinand Marcos', 0.26085186), ('manila President Ferdinand', 0.11295604), ('Philippines President Ferdinand', 0.037535395), ('MANILA Philippines President', 0.03600276), ('Supreme Court SC', 0.031982597), ('Ferdinand Marcos say', 0.029614937), ('Ferdinand Marcos Wednesday', 0.021057257), ('Philippines Supreme Court', 0.014591916), ('Ferdinand Marcos Thursday', 0.014500636), ('MANILA Philippines Supreme', 0.0142453555), ('Senator Risa Hontiveros', 0.013697603), ('administration President Ferdinand', 0.013043489), ('Philippine Health Insurance', 0.011098426), ('Prime Minister Petr', 0.0104761375), ('Minister Petr Fiala', 0.0104761375), ('Ferdinand Marcos Monday', 0.01009415), ('Health Insurance Corporation', 0.009641428), ('Insurance Corporation PhilHealth', 0.009641428), ('Ferdinand Marcos appoint', 0.009294819), ('Ferdinand Marcos Friday', 0.00870796), ('manila philippine government', 0.008049806), ('philippine President Ferdinand', 0.006967574), ('malaysian Prime Minister', 0.00683345), ('Commission Higher Education', 0.0066918787), ('Ferdinand Marcos Jr', 0.0066211466), ('Ferdinand Marcos Saturday', 0.0065223747), ('Chinese Coast Guard', 0.0064868014), ('Department Tourism DOT', 0.006175731), ('Higher Education CHED', 0.005998813), ('MANILA Philippines area', 0.00592799)]\n",
            "11 [('overseas filipino worker', 0.050563928), ('filipino worker ofw', 0.04605681), ('Information Communications Technology', 0.027444996), ('Department National Defense', 0.026660949), ('Department Agriculture DA', 0.026382394), ('Department Information Communications', 0.026110943), ('National Defense DND', 0.026086118), ('Communications Technology DICT', 0.024841718), ('Presidential Communications Office', 0.024593208), ('Department Migrant Workers', 0.02452025), ('President Sara Duterte', 0.02382601), ('Vice President Sara', 0.02382601), ('Migrant Workers DMW', 0.023251047), ('Communications Office PCO', 0.020150946), ('Secretary Amenah Pangandaman', 0.019883493), ('manila Department Agriculture', 0.018743822), ('Senator Raffy Tulfo', 0.018354766), ('warm humid weather', 0.016010556), ('Autonomous Region Muslim', 0.014482447), ('Region Muslim Mindanao', 0.014482447), ('Department Budget Management', 0.013313671), ('chief Carlito Galvez', 0.012894988), ('MANILA Department National', 0.0128256185), ('MANILA Philippines Senate', 0.012758997), ('Bangsamoro Autonomous Region', 0.012513784), ('Maguindanao del Sur', 0.0124597335), ('Budget Management DBM', 0.012075466), ('file measure seek', 0.012073516), ('MANILA Senate President', 0.01207344), ('Senate President Pro', 0.011944047)]\n",
            "12 [('Commission Elections Comelec', 0.08906287), ('President Rodrigo Duterte', 0.0449499), ('manila Commission Elections', 0.03589539), ('Barangay Sangguniang Kabataan', 0.03437499), ('Kabataan Elections BSKE', 0.03248124), ('Sangguniang Kabataan Elections', 0.03248124), ('Department Transportation DOTr', 0.026721701), ('National Capital Region', 0.02302286), ('Commission Audit COA', 0.022300156), ('MANILA Philippines Commission', 0.020266641), ('Franchising Regulatory Board', 0.01940219), ('Land Transportation Franchising', 0.01940219), ('Transportation Franchising Regulatory', 0.01940219), ('Regulatory Board LTFRB', 0.018139686), ('Capital Region NCR', 0.016812637), ('Manila International Airport', 0.016801788), ('Senator Grace Poe', 0.016672585), ('International Airport Authority', 0.01617054), ('Professional Regulation Commission', 0.016106028), ('Department Agrarian Reform', 0.015926117), ('Davao del Norte', 0.015496483), ('public utility vehicle', 0.014212183), ('Albert del Rosario', 0.013970332), ('Regulation Commission PRC', 0.013581043), ('Agrarian Reform DAR', 0.013272153), ('Bureau Fire Protection', 0.013078606), ('Airport Authority MIAA', 0.01301429), ('Deputy Minority Leader', 0.012949585), ('Ninoy Aquino International', 0.012483756), ('Aquino International Airport', 0.012483756)]\n"
          ]
        }
      ]
    },
    {
      "cell_type": "code",
      "source": [
        "cv_list"
      ],
      "metadata": {
        "colab": {
          "base_uri": "https://localhost:8080/"
        },
        "id": "UhQWRv_o_SL3",
        "outputId": "486e7d75-d864-45ea-f29b-fc7ae26d6a69"
      },
      "execution_count": 27,
      "outputs": [
        {
          "output_type": "execute_result",
          "data": {
            "text/plain": [
              "[['Ferdinand Bongbong Marcos',\n",
              "  'President Ferdinand Bongbong',\n",
              "  'Services Administration PAGASA',\n",
              "  'Philippine Atmospheric Geophysical',\n",
              "  'Geophysical Astronomical Services',\n",
              "  'Atmospheric Geophysical Astronomical',\n",
              "  'Astronomical Services Administration',\n",
              "  'West Philippine Sea',\n",
              "  'weather bureau say',\n",
              "  'Department Foreign Affairs',\n",
              "  'Foreign Affairs DFA',\n",
              "  'isolated rain shower',\n",
              "  'Administration PAGASA say',\n",
              "  'low pressure area',\n",
              "  'Bureau Customs BOC',\n",
              "  'northeast monsoon amihan',\n",
              "  'pressure area LPA',\n",
              "  'rain shower thunderstorm',\n",
              "  'Bongbong Marcos say',\n",
              "  'weather isolated rain',\n",
              "  'Philippine Sea WPS',\n",
              "  'scatter rain shower',\n",
              "  'tropical depression Amang',\n",
              "  'Affairs DFA say',\n",
              "  'Philippines Huang Xilian',\n",
              "  'country continue experience',\n",
              "  'WASHINGTON President Ferdinand',\n",
              "  'chinese Ambassador Philippines',\n",
              "  'Ambassador Philippines Huang',\n",
              "  'bureau say Thursday'],\n",
              " ['Department Health DOH',\n",
              "  'Negros Oriental Representative',\n",
              "  'Health DOH say',\n",
              "  'Oriental Representative Arnolfo',\n",
              "  'Representative Arnolfo Arnie',\n",
              "  'case active tally',\n",
              "  'new case active',\n",
              "  'Department Budget Management',\n",
              "  'MANILA Philippines Department',\n",
              "  'Budget Management DBM',\n",
              "  'Department Labor Employment',\n",
              "  'record new case',\n",
              "  'Labor Employment DOLE',\n",
              "  'Philippines Department Health',\n",
              "  'Health DOH report',\n",
              "  'Arnolfo Arnie Teves',\n",
              "  'daily average new',\n",
              "  'suspend Negros Oriental',\n",
              "  'MANILA Philippines House',\n",
              "  'Senator Sherwin Gatchalian',\n",
              "  'Philippine Institute Volcanology',\n",
              "  'Institute Volcanology Seismology',\n",
              "  'coronavirus disease case',\n",
              "  'Drug Enforcement Group',\n",
              "  'Volcanology Seismology Phivolcs',\n",
              "  'oil spill affect',\n",
              "  'Health DOH Tuesday',\n",
              "  'Enforcement Group PDEG',\n",
              "  'Health DOH Friday',\n",
              "  'active tally climb'],\n",
              " ['MT Princess Empress',\n",
              "  'Department Public Works',\n",
              "  'Public Works Highways',\n",
              "  'local government unit',\n",
              "  'Works Highways DPWH',\n",
              "  'oil spill oriental',\n",
              "  'spill oriental Mindoro',\n",
              "  'government unit lgu',\n",
              "  'affect oil spill',\n",
              "  'new EDCA site',\n",
              "  'constitutional convention con',\n",
              "  'convention con con',\n",
              "  'Department Health DOH',\n",
              "  'Bureau Internal Revenue',\n",
              "  'Court Tax Appeals',\n",
              "  'Maria Rosario Vergeire',\n",
              "  'Department Science Technology',\n",
              "  'Internal Revenue BIR',\n",
              "  'Tax Appeals CTA',\n",
              "  'charge Maria Rosario',\n",
              "  'Office Civil Defense',\n",
              "  'accord Department Health',\n",
              "  'Civil Defense OCD',\n",
              "  'officer charge Maria',\n",
              "  'oriental Mindoro province',\n",
              "  'Senator Imee Marcos',\n",
              "  'Communist Party Philippines',\n",
              "  'Science Technology DOST',\n",
              "  'Rosario Vergeire say',\n",
              "  'House Representatives Tuesday'],\n",
              " ['South China Sea',\n",
              "  'Philippine Charity Sweepstakes',\n",
              "  'Charity Sweepstakes Office',\n",
              "  'Sweepstakes Office PCSO',\n",
              "  'Senate President Juan',\n",
              "  'Juan Miguel Zubiri',\n",
              "  'President Juan Miguel',\n",
              "  'log new case',\n",
              "  'draw Philippine Charity',\n",
              "  'chief Gerald Bantag',\n",
              "  'DOH log new',\n",
              "  'Regional Comprehensive Economic',\n",
              "  'Comprehensive Economic Partnership',\n",
              "  'Corrections BuCor chief',\n",
              "  'Economic Partnership RCEP',\n",
              "  'Bureau Corrections BuCor',\n",
              "  'BuCor chief Gerald',\n",
              "  'evening draw Philippine',\n",
              "  'approve final read',\n",
              "  'Lotto evening draw',\n",
              "  'Philippine Statistics Authority',\n",
              "  'philippine Navy PN',\n",
              "  'broadcaster Percy Lapid',\n",
              "  'manila philippine Navy',\n",
              "  'manila United States',\n",
              "  'Immigration BI report',\n",
              "  'new case active',\n",
              "  'House Representatives Monday',\n",
              "  'Maritime Industry Authority',\n",
              "  'Minority Leader Aquilino'],\n",
              " ['Armed Forces Philippines',\n",
              "  'Forces Philippines AFP',\n",
              "  'Enhanced Defense Cooperation',\n",
              "  'Defense Cooperation Agreement',\n",
              "  'Cooperation Agreement EDCA',\n",
              "  'Mindoro oil spill',\n",
              "  'Percy Lapid Mabasa',\n",
              "  'Bureau Corrections BuCor',\n",
              "  'Percival Percy Lapid',\n",
              "  'Philippines United States',\n",
              "  'Manila Water Company',\n",
              "  'Department National Defense',\n",
              "  'Agreement EDCA site',\n",
              "  'Water Company Manila',\n",
              "  'Company Manila Water',\n",
              "  'National Defense DND',\n",
              "  'Officers Training Corps',\n",
              "  'broadcaster Percival Percy',\n",
              "  'Training Corps ROTC',\n",
              "  'case Omicron subvariant',\n",
              "  'manila Armed Forces',\n",
              "  'Ferdinand Marcos Tuesday',\n",
              "  'Reserve Officers Training',\n",
              "  'United States President',\n",
              "  'oil spill response',\n",
              "  'Vice President Kamala',\n",
              "  'President Kamala Harris',\n",
              "  'Rail Transit Line',\n",
              "  'service improvement activity',\n",
              "  'President Joe Biden'],\n",
              " ['Social Welfare Development',\n",
              "  'Department Social Welfare',\n",
              "  'Welfare Development DSWD',\n",
              "  'Philippine Army PA',\n",
              "  'Vice President Education',\n",
              "  'Secretary Sara Duterte',\n",
              "  'President Education Secretary',\n",
              "  'Education Secretary Sara',\n",
              "  'manila Philippine Army',\n",
              "  'House Deputy Speaker',\n",
              "  'Criminal Investigation Detection',\n",
              "  'Investigation Detection Group',\n",
              "  'Detection Group CIDG',\n",
              "  'manila Department Social',\n",
              "  'Cagayan de Oro',\n",
              "  'President Leni Robredo',\n",
              "  'Vice President Leni',\n",
              "  'Secretary Rex Gatchalian',\n",
              "  'local government unit',\n",
              "  'National Capital Region',\n",
              "  'DSWD Secretary Rex',\n",
              "  'Development DSWD Secretary',\n",
              "  'MANILA Department Social',\n",
              "  'human trafficking victim',\n",
              "  'Kadiwa ng Pangulo',\n",
              "  'Deputy Speaker Batangas',\n",
              "  'Capital Region Police',\n",
              "  'dictator Ferdinand Marcos',\n",
              "  'Marcos Wednesday say',\n",
              "  'district Ralph Recto'],\n",
              " ['Department Justice DOJ',\n",
              "  'Secretary Jesus Crispin',\n",
              "  'Jesus Crispin Remulla',\n",
              "  'Philippine Coast Guard',\n",
              "  'Justice Secretary Jesus',\n",
              "  'Coast Guard PCG',\n",
              "  'Social Weather Stations',\n",
              "  'Weather Stations SWS',\n",
              "  'National Bureau Investigation',\n",
              "  'Bureau Investigation NBI',\n",
              "  'DOJ Secretary Jesus',\n",
              "  'Justice DOJ Secretary',\n",
              "  'Civil Service Commission',\n",
              "  'Leila de Lima',\n",
              "  'Crispin Boying Remulla',\n",
              "  'Jesus Crispin Boying',\n",
              "  'Service Commission CSC',\n",
              "  'Stations SWS survey',\n",
              "  'Crispin Remulla say',\n",
              "  'Philippine Drug Enforcement',\n",
              "  'Drug Enforcement Agency',\n",
              "  'MANILA Philippines Department',\n",
              "  'People Power Revolution',\n",
              "  'Philippines Department Justice',\n",
              "  'Enforcement Agency PDEA',\n",
              "  'EDSA People Power',\n",
              "  'senator Leila de',\n",
              "  'anti graft court',\n",
              "  'face face class',\n",
              "  'manila Civil Service'],\n",
              " ['Governor Roel Degamo',\n",
              "  'Negros oriental Governor',\n",
              "  'oriental Governor Roel',\n",
              "  'Department Education DepEd',\n",
              "  'killing Negros oriental',\n",
              "  'Speaker Martin Romualdez',\n",
              "  'Land Transportation Office',\n",
              "  'Transportation Office LTO',\n",
              "  'Arnolfo Arnie Teves',\n",
              "  'House Speaker Martin',\n",
              "  'Negros oriental District',\n",
              "  'illegal possession firearm',\n",
              "  'Department Justice DOJ',\n",
              "  'Reduction Management Council',\n",
              "  'Risk Reduction Management',\n",
              "  'Disaster Risk Reduction',\n",
              "  'National Disaster Risk',\n",
              "  'Bureau Jail Management',\n",
              "  'Jail Management Penology',\n",
              "  'National Task Force',\n",
              "  'say Tuesday April',\n",
              "  'Philippines AFP chief',\n",
              "  'Management Penology BJMP',\n",
              "  'assassination Negros oriental',\n",
              "  'Management Council NDRRMC',\n",
              "  'suspend Negros oriental',\n",
              "  'AFP chief staff',\n",
              "  'oriental District Arnolfo',\n",
              "  'possession firearm explosive',\n",
              "  'Task Force end'],\n",
              " ['Philippine National Police',\n",
              "  'National Police PNP',\n",
              "  'Bureau Immigration BI',\n",
              "  'Interior Local Government',\n",
              "  'Department Interior Local',\n",
              "  'manila Philippine National',\n",
              "  'Local Government DILG',\n",
              "  'Ninoy Aquino International',\n",
              "  'Aquino International Airport',\n",
              "  'International Airport NAIA',\n",
              "  'Police PNP chief',\n",
              "  'Government DILG Secretary',\n",
              "  'DILG Secretary Benjamin',\n",
              "  'chief Rodolfo Azurin',\n",
              "  'PNP chief Rodolfo',\n",
              "  'manila Bureau Immigration',\n",
              "  'Secretary Benhur Abalos',\n",
              "  'Negros oriental district',\n",
              "  'oriental district Arnolfo',\n",
              "  'Southeast Asian Nations',\n",
              "  'Asian Nations ASEAN',\n",
              "  'Association Southeast Asian',\n",
              "  'district Arnolfo Arnie',\n",
              "  'MANILA Department Interior',\n",
              "  'Secretary Benjamin Abalos',\n",
              "  'Police PNP say',\n",
              "  'Philippine Navy PN',\n",
              "  'cloudy sky isolated',\n",
              "  'sky isolated rain',\n",
              "  'General Rodolfo Azurin'],\n",
              " ['Philippines United States',\n",
              "  'International Criminal Court',\n",
              "  'Criminal Court ICC',\n",
              "  'John Matthew Salilig',\n",
              "  'Ferdinand Martin Romualdez',\n",
              "  'Speaker Ferdinand Martin',\n",
              "  'MANILA Philippines Philippines',\n",
              "  'Commission Human Rights',\n",
              "  'Human Rights CHR',\n",
              "  'Bato dela Rosa',\n",
              "  'Senator Ronald Bato',\n",
              "  'president Rodrigo Duterte',\n",
              "  'Maharlika Investment Fund',\n",
              "  'Ronald Bato dela',\n",
              "  'student John Matthew',\n",
              "  'New Bilibid Prison',\n",
              "  'manila House Representatives',\n",
              "  'President Rodrigo Duterte',\n",
              "  'person deprive liberty',\n",
              "  'Manila Development Authority',\n",
              "  'Adamson University student',\n",
              "  'Gloria Macapagal Arroyo',\n",
              "  'Metropolitan Manila Development',\n",
              "  'manila Speaker Ferdinand',\n",
              "  'University student John',\n",
              "  'Philippine Air Force',\n",
              "  'Investment Fund MIF',\n",
              "  'worth illegal drug',\n",
              "  'Bilibid Prison NBP',\n",
              "  'Development Authority MMDA'],\n",
              " ['President Ferdinand Marcos',\n",
              "  'manila President Ferdinand',\n",
              "  'Philippines President Ferdinand',\n",
              "  'MANILA Philippines President',\n",
              "  'Supreme Court SC',\n",
              "  'Ferdinand Marcos say',\n",
              "  'Ferdinand Marcos Wednesday',\n",
              "  'Philippines Supreme Court',\n",
              "  'Ferdinand Marcos Thursday',\n",
              "  'MANILA Philippines Supreme',\n",
              "  'Senator Risa Hontiveros',\n",
              "  'administration President Ferdinand',\n",
              "  'Philippine Health Insurance',\n",
              "  'Prime Minister Petr',\n",
              "  'Minister Petr Fiala',\n",
              "  'Ferdinand Marcos Monday',\n",
              "  'Health Insurance Corporation',\n",
              "  'Insurance Corporation PhilHealth',\n",
              "  'Ferdinand Marcos appoint',\n",
              "  'Ferdinand Marcos Friday',\n",
              "  'manila philippine government',\n",
              "  'philippine President Ferdinand',\n",
              "  'malaysian Prime Minister',\n",
              "  'Commission Higher Education',\n",
              "  'Ferdinand Marcos Jr',\n",
              "  'Ferdinand Marcos Saturday',\n",
              "  'Chinese Coast Guard',\n",
              "  'Department Tourism DOT',\n",
              "  'Higher Education CHED',\n",
              "  'MANILA Philippines area'],\n",
              " ['overseas filipino worker',\n",
              "  'filipino worker ofw',\n",
              "  'Information Communications Technology',\n",
              "  'Department National Defense',\n",
              "  'Department Agriculture DA',\n",
              "  'Department Information Communications',\n",
              "  'National Defense DND',\n",
              "  'Communications Technology DICT',\n",
              "  'Presidential Communications Office',\n",
              "  'Department Migrant Workers',\n",
              "  'President Sara Duterte',\n",
              "  'Vice President Sara',\n",
              "  'Migrant Workers DMW',\n",
              "  'Communications Office PCO',\n",
              "  'Secretary Amenah Pangandaman',\n",
              "  'manila Department Agriculture',\n",
              "  'Senator Raffy Tulfo',\n",
              "  'warm humid weather',\n",
              "  'Autonomous Region Muslim',\n",
              "  'Region Muslim Mindanao',\n",
              "  'Department Budget Management',\n",
              "  'chief Carlito Galvez',\n",
              "  'MANILA Department National',\n",
              "  'MANILA Philippines Senate',\n",
              "  'Bangsamoro Autonomous Region',\n",
              "  'Maguindanao del Sur',\n",
              "  'Budget Management DBM',\n",
              "  'file measure seek',\n",
              "  'MANILA Senate President',\n",
              "  'Senate President Pro'],\n",
              " ['Commission Elections Comelec',\n",
              "  'President Rodrigo Duterte',\n",
              "  'manila Commission Elections',\n",
              "  'Barangay Sangguniang Kabataan',\n",
              "  'Kabataan Elections BSKE',\n",
              "  'Sangguniang Kabataan Elections',\n",
              "  'Department Transportation DOTr',\n",
              "  'National Capital Region',\n",
              "  'Commission Audit COA',\n",
              "  'MANILA Philippines Commission',\n",
              "  'Franchising Regulatory Board',\n",
              "  'Land Transportation Franchising',\n",
              "  'Transportation Franchising Regulatory',\n",
              "  'Regulatory Board LTFRB',\n",
              "  'Capital Region NCR',\n",
              "  'Manila International Airport',\n",
              "  'Senator Grace Poe',\n",
              "  'International Airport Authority',\n",
              "  'Professional Regulation Commission',\n",
              "  'Department Agrarian Reform',\n",
              "  'Davao del Norte',\n",
              "  'public utility vehicle',\n",
              "  'Albert del Rosario',\n",
              "  'Regulation Commission PRC',\n",
              "  'Agrarian Reform DAR',\n",
              "  'Bureau Fire Protection',\n",
              "  'Airport Authority MIAA',\n",
              "  'Deputy Minority Leader',\n",
              "  'Ninoy Aquino International',\n",
              "  'Aquino International Airport']]"
            ]
          },
          "metadata": {},
          "execution_count": 27
        }
      ]
    },
    {
      "cell_type": "code",
      "source": [
        "cumass_list = []\n",
        "for x in range(3):\n",
        "    l = []\n",
        "    print(x, lda_model_cumass.show_topic(x, topn=30))\n",
        "    for i in lda_model_cumass.show_topic(x, topn=30):\n",
        "        # print(i[0])\n",
        "        l.append(i[0])\n",
        "    cumass_list.append(l)\n"
      ],
      "metadata": {
        "colab": {
          "base_uri": "https://localhost:8080/"
        },
        "id": "ly4fBkB_-CW-",
        "outputId": "bf7a1935-f53f-4b27-e88e-d8e900c6e0bc"
      },
      "execution_count": 28,
      "outputs": [
        {
          "output_type": "stream",
          "name": "stdout",
          "text": [
            "0 [('President Ferdinand Marcos', 0.08254772), ('manila President Ferdinand', 0.035542753), ('MANILA Philippines President', 0.014429269), ('Secretary Jesus Crispin', 0.013679748), ('Department Justice DOJ', 0.012302338), ('Bureau Immigration BI', 0.012041421), ('Philippines President Ferdinand', 0.012018326), ('Armed Forces Philippines', 0.010578684), ('Jesus Crispin Remulla', 0.010137321), ('Coast Guard PCG', 0.0100660715), ('Philippine Coast Guard', 0.010034488), ('Justice Secretary Jesus', 0.009648323), ('Ferdinand Marcos say', 0.009411593), ('Forces Philippines AFP', 0.008826274), ('Enhanced Defense Cooperation', 0.007711358), ('Defense Cooperation Agreement', 0.0077113365), ('MT Princess Empress', 0.0076825065), ('Bureau Corrections BuCor', 0.0073888116), ('Department Budget Management', 0.007307759), ('Cooperation Agreement EDCA', 0.007157824), ('Ferdinand Marcos Wednesday', 0.0066671437), ('MANILA Philippines Philippines', 0.006574793), ('Budget Management DBM', 0.00629656), ('Bureau Customs BOC', 0.0060747983), ('John Matthew Salilig', 0.005961563), ('Public Works Highways', 0.0059500705), ('Department Public Works', 0.0059500705), ('isolated rain shower', 0.005784375), ('local government unit', 0.0055918302), ('Works Highways DPWH', 0.005381357)]\n",
            "1 [('Philippine National Police', 0.046398576), ('National Police PNP', 0.037628487), ('Department Health DOH', 0.03189303), ('Governor Roel Degamo', 0.017966319), ('Negros oriental Governor', 0.016584393), ('oriental Governor Roel', 0.016131297), ('Commission Elections Comelec', 0.015866393), ('Department Education DepEd', 0.011595357), ('Arnolfo Arnie Teves', 0.010165195), ('Ninoy Aquino International', 0.010098015), ('Aquino International Airport', 0.010098015), ('killing Negros oriental', 0.009679142), ('manila Philippine National', 0.009189001), ('overseas filipino worker', 0.008978043), ('International Airport NAIA', 0.008731661), ('filipino worker ofw', 0.008177721), ('new case active', 0.0073000584), ('Speaker Martin Romualdez', 0.007231938), ('Police PNP chief', 0.0069785076), ('case active tally', 0.0068470105), ('log new case', 0.006643194), ('Negros Oriental Representative', 0.006401343), ('manila Commission Elections', 0.0063770455), ('Land Transportation Office', 0.0062823636), ('Barangay Sangguniang Kabataan', 0.0061199255), ('Oriental Representative Arnolfo', 0.0059482874), ('Transportation Office LTO', 0.005942915), ('Sangguniang Kabataan Elections', 0.005780274), ('Kabataan Elections BSKE', 0.005780274), ('National Bureau Investigation', 0.0056745675)]\n",
            "2 [('Ferdinand Bongbong Marcos', 0.04260544), ('President Ferdinand Bongbong', 0.0359477), ('South China Sea', 0.018321246), ('Atmospheric Geophysical Astronomical', 0.0119847), ('Astronomical Services Administration', 0.0119847), ('Services Administration PAGASA', 0.0119847), ('Philippine Atmospheric Geophysical', 0.0119847), ('Geophysical Astronomical Services', 0.0119847), ('weather bureau say', 0.010645175), ('Social Welfare Development', 0.010402049), ('Supreme Court SC', 0.010333127), ('Department Foreign Affairs', 0.010226949), ('President Rodrigo Duterte', 0.010013839), ('Department Social Welfare', 0.009965065), ('Interior Local Government', 0.009901806), ('Foreign Affairs DFA', 0.009381931), ('Welfare Development DSWD', 0.009324008), ('Department Interior Local', 0.008936872), ('West Philippine Sea', 0.008436708), ('Local Government DILG', 0.0084086945), ('International Criminal Court', 0.007926877), ('Department National Defense', 0.0072738864), ('Administration PAGASA say', 0.007007571), ('National Defense DND', 0.0069573936), ('Criminal Court ICC', 0.006765268), ('Social Weather Stations', 0.0067005036), ('Philippines United States', 0.0065456694), ('Philippine Charity Sweepstakes', 0.0064351624), ('Mindoro oil spill', 0.0063039497), ('Weather Stations SWS', 0.006066671)]\n"
          ]
        }
      ]
    },
    {
      "cell_type": "code",
      "source": [
        "cumass_list"
      ],
      "metadata": {
        "colab": {
          "base_uri": "https://localhost:8080/"
        },
        "id": "DoenmM4G-LSc",
        "outputId": "83145666-b01f-44c6-ce4b-81a4dfcb7965"
      },
      "execution_count": 29,
      "outputs": [
        {
          "output_type": "execute_result",
          "data": {
            "text/plain": [
              "[['President Ferdinand Marcos',\n",
              "  'manila President Ferdinand',\n",
              "  'MANILA Philippines President',\n",
              "  'Secretary Jesus Crispin',\n",
              "  'Department Justice DOJ',\n",
              "  'Bureau Immigration BI',\n",
              "  'Philippines President Ferdinand',\n",
              "  'Armed Forces Philippines',\n",
              "  'Jesus Crispin Remulla',\n",
              "  'Coast Guard PCG',\n",
              "  'Philippine Coast Guard',\n",
              "  'Justice Secretary Jesus',\n",
              "  'Ferdinand Marcos say',\n",
              "  'Forces Philippines AFP',\n",
              "  'Enhanced Defense Cooperation',\n",
              "  'Defense Cooperation Agreement',\n",
              "  'MT Princess Empress',\n",
              "  'Bureau Corrections BuCor',\n",
              "  'Department Budget Management',\n",
              "  'Cooperation Agreement EDCA',\n",
              "  'Ferdinand Marcos Wednesday',\n",
              "  'MANILA Philippines Philippines',\n",
              "  'Budget Management DBM',\n",
              "  'Bureau Customs BOC',\n",
              "  'John Matthew Salilig',\n",
              "  'Public Works Highways',\n",
              "  'Department Public Works',\n",
              "  'isolated rain shower',\n",
              "  'local government unit',\n",
              "  'Works Highways DPWH'],\n",
              " ['Philippine National Police',\n",
              "  'National Police PNP',\n",
              "  'Department Health DOH',\n",
              "  'Governor Roel Degamo',\n",
              "  'Negros oriental Governor',\n",
              "  'oriental Governor Roel',\n",
              "  'Commission Elections Comelec',\n",
              "  'Department Education DepEd',\n",
              "  'Arnolfo Arnie Teves',\n",
              "  'Ninoy Aquino International',\n",
              "  'Aquino International Airport',\n",
              "  'killing Negros oriental',\n",
              "  'manila Philippine National',\n",
              "  'overseas filipino worker',\n",
              "  'International Airport NAIA',\n",
              "  'filipino worker ofw',\n",
              "  'new case active',\n",
              "  'Speaker Martin Romualdez',\n",
              "  'Police PNP chief',\n",
              "  'case active tally',\n",
              "  'log new case',\n",
              "  'Negros Oriental Representative',\n",
              "  'manila Commission Elections',\n",
              "  'Land Transportation Office',\n",
              "  'Barangay Sangguniang Kabataan',\n",
              "  'Oriental Representative Arnolfo',\n",
              "  'Transportation Office LTO',\n",
              "  'Sangguniang Kabataan Elections',\n",
              "  'Kabataan Elections BSKE',\n",
              "  'National Bureau Investigation'],\n",
              " ['Ferdinand Bongbong Marcos',\n",
              "  'President Ferdinand Bongbong',\n",
              "  'South China Sea',\n",
              "  'Atmospheric Geophysical Astronomical',\n",
              "  'Astronomical Services Administration',\n",
              "  'Services Administration PAGASA',\n",
              "  'Philippine Atmospheric Geophysical',\n",
              "  'Geophysical Astronomical Services',\n",
              "  'weather bureau say',\n",
              "  'Social Welfare Development',\n",
              "  'Supreme Court SC',\n",
              "  'Department Foreign Affairs',\n",
              "  'President Rodrigo Duterte',\n",
              "  'Department Social Welfare',\n",
              "  'Interior Local Government',\n",
              "  'Foreign Affairs DFA',\n",
              "  'Welfare Development DSWD',\n",
              "  'Department Interior Local',\n",
              "  'West Philippine Sea',\n",
              "  'Local Government DILG',\n",
              "  'International Criminal Court',\n",
              "  'Department National Defense',\n",
              "  'Administration PAGASA say',\n",
              "  'National Defense DND',\n",
              "  'Criminal Court ICC',\n",
              "  'Social Weather Stations',\n",
              "  'Philippines United States',\n",
              "  'Philippine Charity Sweepstakes',\n",
              "  'Mindoro oil spill',\n",
              "  'Weather Stations SWS']]"
            ]
          },
          "metadata": {},
          "execution_count": 29
        }
      ]
    },
    {
      "cell_type": "markdown",
      "source": [
        "## NER PH"
      ],
      "metadata": {
        "id": "sAkk_mucdfzr"
      }
    },
    {
      "cell_type": "code",
      "source": [
        "NER = spacy.load(\"en_core_web_sm\")\n"
      ],
      "metadata": {
        "id": "hN4YGnbxF1um"
      },
      "execution_count": 31,
      "outputs": []
    },
    {
      "cell_type": "code",
      "source": [
        "NER(\"President Ferdinan Marcos\")"
      ],
      "metadata": {
        "id": "eORM8vSTesuP",
        "outputId": "74c3b8b7-de05-42e2-97f5-34360746df07",
        "colab": {
          "base_uri": "https://localhost:8080/"
        }
      },
      "execution_count": 36,
      "outputs": [
        {
          "output_type": "execute_result",
          "data": {
            "text/plain": [
              "President Ferdinan Marcos"
            ]
          },
          "metadata": {},
          "execution_count": 36
        }
      ]
    },
    {
      "cell_type": "code",
      "source": [
        "ph_cumass_NER = []\n",
        "\n",
        "for cluster in cumass_list:\n",
        "    clusterlist = []\n",
        "\n",
        "    for ngram in cluster:\n",
        "        ners = NER(ngram)\n",
        "\n",
        "        for word in ners.ents:\n",
        "            clusterlist.append((ngram ,word.text, word.label_))\n",
        "\n",
        "    ph_cumass_NER.append(clusterlist)\n",
        "    print(\"=====\")  # Move the print statement outside the inner loop\n"
      ],
      "metadata": {
        "colab": {
          "base_uri": "https://localhost:8080/"
        },
        "id": "_u4jvaKUeFOP",
        "outputId": "03212562-d202-4365-879d-78eaafdc645e"
      },
      "execution_count": 58,
      "outputs": [
        {
          "output_type": "stream",
          "name": "stdout",
          "text": [
            "=====\n",
            "=====\n",
            "=====\n"
          ]
        }
      ]
    },
    {
      "cell_type": "code",
      "source": [
        "ph_cumass_NER"
      ],
      "metadata": {
        "id": "NS7xSk2aeP-5",
        "outputId": "9e525dc1-0de0-4e12-be35-3b5f99f6b6f7",
        "colab": {
          "base_uri": "https://localhost:8080/"
        }
      },
      "execution_count": 59,
      "outputs": [
        {
          "output_type": "execute_result",
          "data": {
            "text/plain": [
              "[[('President Ferdinand Marcos', 'Ferdinand Marcos', 'PERSON'),\n",
              "  ('manila President Ferdinand', 'manila', 'GPE'),\n",
              "  ('manila President Ferdinand', 'Ferdinand', 'GPE'),\n",
              "  ('MANILA Philippines President', 'MANILA', 'GPE'),\n",
              "  ('MANILA Philippines President', 'Philippines', 'GPE'),\n",
              "  ('Secretary Jesus Crispin', 'Jesus Crispin', 'PERSON'),\n",
              "  ('Bureau Immigration BI', 'Bureau Immigration BI', 'ORG'),\n",
              "  ('Philippines President Ferdinand', 'Philippines', 'GPE'),\n",
              "  ('Philippines President Ferdinand', 'Ferdinand', 'GPE'),\n",
              "  ('Armed Forces Philippines', 'Philippines', 'GPE'),\n",
              "  ('Jesus Crispin Remulla', 'Jesus Crispin Remulla', 'PERSON'),\n",
              "  ('Coast Guard PCG', 'Coast Guard', 'ORG'),\n",
              "  ('Philippine Coast Guard', 'Philippine Coast Guard', 'ORG'),\n",
              "  ('Justice Secretary Jesus', 'Justice', 'ORG'),\n",
              "  ('Justice Secretary Jesus', 'Jesus', 'PERSON'),\n",
              "  ('Ferdinand Marcos say', 'Ferdinand Marcos', 'PERSON'),\n",
              "  ('MT Princess Empress', 'MT Princess Empress', 'ORG'),\n",
              "  ('Department Budget Management', 'Department Budget Management', 'ORG'),\n",
              "  ('Cooperation Agreement EDCA', 'Cooperation Agreement', 'ORG'),\n",
              "  ('Ferdinand Marcos Wednesday', 'Ferdinand Marcos', 'PERSON'),\n",
              "  ('Ferdinand Marcos Wednesday', 'Wednesday', 'DATE'),\n",
              "  ('MANILA Philippines Philippines', 'MANILA', 'GPE'),\n",
              "  ('MANILA Philippines Philippines', 'Philippines', 'GPE'),\n",
              "  ('MANILA Philippines Philippines', 'Philippines', 'GPE'),\n",
              "  ('Budget Management DBM', 'Budget Management DBM', 'ORG'),\n",
              "  ('Bureau Customs BOC', 'Bureau Customs BOC', 'ORG'),\n",
              "  ('John Matthew Salilig', 'John Matthew Salilig', 'PERSON'),\n",
              "  ('Department Public Works', 'Department Public Works', 'ORG')],\n",
              " [('Philippine National Police', 'Philippine National Police', 'ORG'),\n",
              "  ('National Police PNP', 'National Police PNP', 'ORG'),\n",
              "  ('Department Health DOH', 'Department Health DOH', 'ORG'),\n",
              "  ('Governor Roel Degamo', 'Roel Degamo', 'PERSON'),\n",
              "  ('oriental Governor Roel', 'Roel', 'PERSON'),\n",
              "  ('Ninoy Aquino International', 'Ninoy Aquino', 'PERSON'),\n",
              "  ('Aquino International Airport', 'Aquino International Airport', 'FAC'),\n",
              "  ('killing Negros oriental', 'Negros', 'ORG'),\n",
              "  ('manila Philippine National', 'Philippine National', 'ORG'),\n",
              "  ('overseas filipino worker', 'filipino', 'NORP'),\n",
              "  ('International Airport NAIA', 'International Airport', 'FAC'),\n",
              "  ('International Airport NAIA', 'NAIA', 'GPE'),\n",
              "  ('filipino worker ofw', 'filipino', 'NORP'),\n",
              "  ('Speaker Martin Romualdez', 'Martin Romualdez', 'PERSON'),\n",
              "  ('Police PNP chief', 'PNP', 'ORG'),\n",
              "  ('Negros Oriental Representative', 'Negros Oriental', 'ORG'),\n",
              "  ('manila Commission Elections', 'manila Commission', 'ORG'),\n",
              "  ('Land Transportation Office', 'Land Transportation Office', 'ORG'),\n",
              "  ('Barangay Sangguniang Kabataan', 'Sangguniang Kabataan', 'PERSON'),\n",
              "  ('Oriental Representative Arnolfo', 'Oriental', 'NORP'),\n",
              "  ('Oriental Representative Arnolfo', 'Arnolfo', 'GPE'),\n",
              "  ('Transportation Office LTO', 'Transportation Office', 'ORG'),\n",
              "  ('Sangguniang Kabataan Elections', 'Sangguniang Kabataan', 'ORG'),\n",
              "  ('Kabataan Elections BSKE', 'Kabataan', 'GPE'),\n",
              "  ('Kabataan Elections BSKE', 'BSKE', 'GPE'),\n",
              "  ('National Bureau Investigation', 'National Bureau Investigation', 'ORG')],\n",
              " [('Ferdinand Bongbong Marcos', 'Ferdinand Bongbong Marcos', 'PERSON'),\n",
              "  ('President Ferdinand Bongbong', 'Ferdinand Bongbong', 'PERSON'),\n",
              "  ('South China Sea', 'South China Sea', 'LOC'),\n",
              "  ('Atmospheric Geophysical Astronomical',\n",
              "   'Atmospheric Geophysical Astronomical',\n",
              "   'ORG'),\n",
              "  ('Astronomical Services Administration',\n",
              "   'Astronomical Services Administration',\n",
              "   'ORG'),\n",
              "  ('Philippine Atmospheric Geophysical',\n",
              "   'Philippine Atmospheric Geophysical',\n",
              "   'ORG'),\n",
              "  ('Social Welfare Development', 'Social Welfare Development', 'ORG'),\n",
              "  ('Supreme Court SC', 'Supreme Court', 'ORG'),\n",
              "  ('Department Foreign Affairs', 'Department Foreign Affairs', 'ORG'),\n",
              "  ('President Rodrigo Duterte', 'Rodrigo Duterte', 'PERSON'),\n",
              "  ('Department Social Welfare', 'Department Social Welfare', 'ORG'),\n",
              "  ('Interior Local Government', 'Interior Local Government', 'ORG'),\n",
              "  ('Welfare Development DSWD', 'Welfare Development', 'ORG'),\n",
              "  ('Department Interior Local', 'Department Interior Local', 'ORG'),\n",
              "  ('West Philippine Sea', 'West Philippine', 'NORP'),\n",
              "  ('International Criminal Court', 'International Criminal Court', 'ORG'),\n",
              "  ('Department National Defense', 'Department National Defense', 'ORG'),\n",
              "  ('Criminal Court ICC', 'Criminal Court', 'ORG'),\n",
              "  ('Philippines United States', 'Philippines United States', 'GPE'),\n",
              "  ('Philippine Charity Sweepstakes', 'Philippine', 'NORP'),\n",
              "  ('Mindoro oil spill', 'Mindoro', 'GPE')]]"
            ]
          },
          "metadata": {},
          "execution_count": 59
        }
      ]
    },
    {
      "cell_type": "code",
      "source": [
        "with open(f\"{dir_actual}ph_NER_cumass_list.txt\", \"w\") as output:\n",
        "    output.write(str(ph_cumass_NER))\n"
      ],
      "metadata": {
        "id": "ATWsOZcNi3dT"
      },
      "execution_count": 60,
      "outputs": []
    }
  ]
}