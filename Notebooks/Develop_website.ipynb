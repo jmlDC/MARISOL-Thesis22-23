{
  "nbformat": 4,
  "nbformat_minor": 0,
  "metadata": {
    "colab": {
      "provenance": [],
      "authorship_tag": "ABX9TyMyMe3sBVrS55VAl1Do17iJ",
      "include_colab_link": true
    },
    "kernelspec": {
      "name": "python3",
      "display_name": "Python 3"
    },
    "language_info": {
      "name": "python"
    }
  },
  "cells": [
    {
      "cell_type": "markdown",
      "metadata": {
        "id": "view-in-github",
        "colab_type": "text"
      },
      "source": [
        "<a href=\"https://colab.research.google.com/github/jmlDC/MediaBias-Thesis22-23/blob/PostAnnotation/Notebooks/Develop_website.ipynb\" target=\"_parent\"><img src=\"https://colab.research.google.com/assets/colab-badge.svg\" alt=\"Open In Colab\"/></a>"
      ]
    },
    {
      "cell_type": "code",
      "execution_count": 13,
      "metadata": {
        "id": "PJljDE6pKfXC",
        "colab": {
          "base_uri": "https://localhost:8080/"
        },
        "outputId": "a8ae4027-f119-422a-8ab0-ba81072bf395"
      },
      "outputs": [
        {
          "output_type": "stream",
          "name": "stdout",
          "text": [
            "\u001b[2K     \u001b[90m━━━━━━━━━━━━━━━━━━━━━━━━━━━━━━━━━━━━━━━━\u001b[0m \u001b[32m7.6/7.6 MB\u001b[0m \u001b[31m26.1 MB/s\u001b[0m eta \u001b[36m0:00:00\u001b[0m\n",
            "\u001b[2K     \u001b[90m━━━━━━━━━━━━━━━━━━━━━━━━━━━━━━━━━━━━━━━━\u001b[0m \u001b[32m7.8/7.8 MB\u001b[0m \u001b[31m48.0 MB/s\u001b[0m eta \u001b[36m0:00:00\u001b[0m\n",
            "\u001b[2K     \u001b[90m━━━━━━━━━━━━━━━━━━━━━━━━━━━━━━━━━━━━━━━━\u001b[0m \u001b[32m1.3/1.3 MB\u001b[0m \u001b[31m38.9 MB/s\u001b[0m eta \u001b[36m0:00:00\u001b[0m\n",
            "\u001b[?25h"
          ]
        }
      ],
      "source": [
        "!pip install -q gradio\n",
        "!pip install transformers -q"
      ]
    },
    {
      "cell_type": "code",
      "source": [
        "# from transformers import AutoModelForSequenceClassification\n",
        "# import torch\n",
        "# from transformers import AutoTokenizer"
      ],
      "metadata": {
        "id": "3E4cwsWwRji_"
      },
      "execution_count": null,
      "outputs": []
    },
    {
      "cell_type": "code",
      "source": [
        "# def classifyFrame(model_name):\n",
        "#     tokenizer = AutoTokenizer.from_pretrained(f\"jmLuis/{model_name}\")\n",
        "#     inputs = tokenizer(text, return_tensors=\"pt\")\n",
        "\n",
        "#     model = AutoModelForSequenceClassification.from_pretrained(f\"jmLuis/{model_name}\")\n",
        "\n",
        "#     with torch.no_grad():\n",
        "#         logits = model(**inputs).logits\n",
        "#     predicted_class_id = logits.argmax().item()\n",
        "#     out = model.config.id2label[predicted_class_id]\n",
        "#     return out+1"
      ],
      "metadata": {
        "id": "1fXh82NbRmu_"
      },
      "execution_count": null,
      "outputs": []
    },
    {
      "cell_type": "code",
      "source": [
        "# https://www.gradio.app/docs/interface\n",
        "# https://www.gradio.app/guides/using-hugging-face-integrations\n",
        "# https://colab.research.google.com/github/gradio-app/gradio/blob/main/demo/gpt2_xl/run.ipynb#scrollTo=2.8891853944186117e%2B38"
      ],
      "metadata": {
        "id": "_c2mVyDqWa5q"
      },
      "execution_count": null,
      "outputs": []
    },
    {
      "cell_type": "code",
      "source": [
        "import gradio as gr\n",
        "from transformers import pipeline\n",
        "\n",
        "\n",
        "title = \"MARISOL - Policy Issue Frame Classification\"\n",
        "\n",
        "examples = [\n",
        "    [\"Immigrants without HOPE need help entering college\"],\n",
        "    [\"This was a masterpiece. Not completely faithful to the books, but enthralling from beginning to end. Might be my favorite of the three.\"],\n",
        "    [\"Nan\"],\n",
        "]\n",
        "\n",
        "pipe = pipeline(\"text-classification\", model=\"jmLuis/RoBERTa-THESIS\")\n",
        "\n",
        "def classify(text):\n",
        "    frame = pipe(text)[0][\"label\"]+1\n",
        "\n",
        "\n",
        "\n",
        "    return Frame\n",
        "demo = gr.Interface(\n",
        "    fn=classify,\n",
        "    inputs=gr.Textbox(lines=10, label=\"Input Text\"),\n",
        "    outputs=gr.Label(num_top_classes=15),\n",
        "    title=title,\n",
        "    examples=examples,\n",
        ")\n",
        "\n",
        "\n",
        "if __name__ == \"__main__\":\n",
        "    demo.launch(debug=True, share=True)\n"
      ],
      "metadata": {
        "colab": {
          "base_uri": "https://localhost:8080/",
          "height": 625
        },
        "id": "zMpFIhaZKzjL",
        "outputId": "fd80551d-2a12-4f3d-d037-1a2e8eca3a27"
      },
      "execution_count": 24,
      "outputs": [
        {
          "output_type": "stream",
          "name": "stdout",
          "text": [
            "Colab notebook detected. This cell will run indefinitely so that you can see errors and logs. To turn off, set debug=False in launch().\n",
            "Running on public URL: https://efbb786994ac96c9c6.gradio.live\n",
            "\n",
            "This share link expires in 72 hours. For free permanent hosting and GPU upgrades, run `gradio deploy` from Terminal to deploy to Spaces (https://huggingface.co/spaces)\n"
          ]
        },
        {
          "output_type": "display_data",
          "data": {
            "text/plain": [
              "<IPython.core.display.HTML object>"
            ],
            "text/html": [
              "<div><iframe src=\"https://efbb786994ac96c9c6.gradio.live\" width=\"100%\" height=\"500\" allow=\"autoplay; camera; microphone; clipboard-read; clipboard-write;\" frameborder=\"0\" allowfullscreen></iframe></div>"
            ]
          },
          "metadata": {}
        },
        {
          "output_type": "stream",
          "name": "stdout",
          "text": [
            "Keyboard interruption in main thread... closing server.\n",
            "Killing tunnel 127.0.0.1:7862 <> https://efbb786994ac96c9c6.gradio.live\n"
          ]
        }
      ]
    },
    {
      "cell_type": "code",
      "source": [],
      "metadata": {
        "id": "aOEREwHfWIEi"
      },
      "execution_count": null,
      "outputs": []
    }
  ]
}