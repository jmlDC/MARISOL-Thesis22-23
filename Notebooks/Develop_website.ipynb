{
  "nbformat": 4,
  "nbformat_minor": 0,
  "metadata": {
    "colab": {
      "provenance": [],
      "authorship_tag": "ABX9TyPzxtbjTjLxCUOXvAWYg/Eo",
      "include_colab_link": true
    },
    "kernelspec": {
      "name": "python3",
      "display_name": "Python 3"
    },
    "language_info": {
      "name": "python"
    }
  },
  "cells": [
    {
      "cell_type": "markdown",
      "metadata": {
        "id": "view-in-github",
        "colab_type": "text"
      },
      "source": [
        "<a href=\"https://colab.research.google.com/github/jmlDC/MediaBias-Thesis22-23/blob/PostAnnotation/Notebooks/Develop_website.ipynb\" target=\"_parent\"><img src=\"https://colab.research.google.com/assets/colab-badge.svg\" alt=\"Open In Colab\"/></a>"
      ]
    },
    {
      "cell_type": "code",
      "execution_count": null,
      "metadata": {
        "id": "PJljDE6pKfXC"
      },
      "outputs": [],
      "source": [
        "!pip install -q gradio\n",
        "!pip install transformers -q"
      ]
    },
    {
      "cell_type": "code",
      "source": [
        "# https://www.gradio.app/docs/interface\n",
        "# https://www.gradio.app/guides/using-hugging-face-integrations\n",
        "# https://colab.research.google.com/github/gradio-app/gradio/blob/main/demo/gpt2_xl/run.ipynb#scrollTo=2.8891853944186117e%2B38\n",
        "# https://huggingface.co/blog/gradio-spaces"
      ],
      "metadata": {
        "id": "_c2mVyDqWa5q"
      },
      "execution_count": null,
      "outputs": []
    },
    {
      "cell_type": "code",
      "source": [
        "import gradio as gr\n",
        "from transformers import pipeline\n",
        "import html\n",
        "\n",
        "title = \"MARISOL - Policy Issue Frame Classification using fine-tuned RoBERTa\"\n",
        "\n",
        "examples = [\n",
        "    \"Immigrants without HOPE need help entering college\\n\",   #10\n",
        "    \"Dumagat-Remontados opposed to Kaliwa Dam urge NCIP to defend their rights\\n\",  # 4\n",
        "    \"SC asked to declare SIM Registration Act unconstitutional\\n\",   #5\n",
        "]\n",
        "\n",
        "pipe = pipeline(\"text-classification\", model=\"jmLuis/RoBERTa-THESIS\")\n",
        "\n",
        "code_frame_dict_toStr = {\n",
        "    1: '1. Economic Frame',\n",
        "    2: '2. Capacity and Resources Frame',\n",
        "    3: '3. Morality Frame',\n",
        "    4: '4. Fairness and Equality Frame',\n",
        "    5: '5. Constitutionality and Jurisprudence Frame',\n",
        "    6: '6. Policy Prescription and Evaluation Frame',\n",
        "    7: '7. Law and Order, Crime and Justice Frame',\n",
        "    8: '8. Security and Defense Frame',\n",
        "    9: '9. Health and Safety Frame',\n",
        "    10: '10. Quality of Life Frame',\n",
        "    11: '11. Cultural Identity Frame',\n",
        "    12: '12. Public Opinion Frame',\n",
        "    13: '13. Political Frame',\n",
        "    14: '14. External Regulation and Reputation Frame',\n",
        "    15: '15. Other'\n",
        "}\n",
        "\n",
        "def classify(text):\n",
        "    paragraphs = text.strip().split('\\n')\n",
        "    results = []\n",
        "    for paragraph in paragraphs:\n",
        "        if (paragraph!=\"\"):\n",
        "            frame = pipe(paragraph)[0][\"label\"] + 1\n",
        "            policyIssueFrame = code_frame_dict_toStr.get(frame, \"Unknown Frame\")\n",
        "            results.extend([(paragraph, policyIssueFrame), (\"\\n\\n\", None)])\n",
        "    return results\n",
        "\n",
        "\n",
        "values = [\n",
        "    [\"1. Economic Frame\", \"Cost, benefits, or monetary/financial implications\"],\n",
        "    [\"2. Capacity and Resources Frame\", \"Lack of or availability of physical, geographical, spatial, human, and financial resources, or the capacity of existing systems and resources to implement policy goals.\"],\n",
        "    [\"3. Morality Frame\", \"Policy objective or action that is compelled by religious doctrine or interpretation, duty, honor, righteousness, or any other sense of ethics or social responsibility\"],\n",
        "    [\"4. Fairness and Equality Frame\", \"Equality or inequality with which laws, punishment, rewards, and resources are applied or distributed. And the balance between the rights or interests\"],\n",
        "    [\"5. Constitutionality and Jurisprudence Frame\", \"The constraints imposed on or freedoms granted to individuals, government, and corporations via the Constitution, Bill of Rights, and other amendments, or judicial interpretation.\"],\n",
        "    [\"6. Policy Prescription and Evaluation Frame\", \"Policies proposed for addressing an identified problem, and figuring out if certain policies will work\"],\n",
        "    [\"7. Law and Order, Crime and Justice Frame\", \"Policies in practice and their enforcement, incentives, and implications\"],\n",
        "    [\"8. Security and Defense Frame\", \"Security, threats to security, and protection of one’s person, family, in-group, nation, etc\"],\n",
        "    [\"9. Health and Safety Frame\", \"Healthcare access and effectiveness, illness, disease, sanitation, obesity, and mental health effects\"],\n",
        "    [\"10. Quality of Life Frame\", \"Effects of a policy on individuals’ wealth, mobility, access to resources, happiness, social structures, ease of day-to-day routines, quality of community life, etc\"],\n",
        "    [\"11. Cultural Identity Frame\", \"Social norms, trends, values, and customs constituting culture(s)\"],\n",
        "    [\"12. Public Opinion Frame\", \"References to general social attitudes\"],\n",
        "    [\"13. Political Frame\", \"Political considerations surrounding an issue\"],\n",
        "    [\"14. External Regulation and Reputation Frame\", \"Country’s external relations with other nation\"],\n",
        "    [\"15. Other\", \"Any frames that do not fit into the above categories\"]\n",
        "]\n",
        "\n",
        "values_extended = [\n",
        "    [\"1. Economic Frame\", \"The costs, benefits, or monetary/financial implications of the issue (to an individual, family, community, or the economy as a whole).\"],\n",
        "    [\"2. Capacity and Resources Frame\", \"The lack of or availability of physical, geographical, spatial, human, and financial resources, or the capacity of existing systems and resources to implement or carry out policy goals.\"],\n",
        "    [\"3. Morality Frame\", \"Any perspective—or policy objective or action (including proposed action)— that is compelled by religious doctrine or interpretation, duty, honor, righteousness, or any other sense of ethics or social responsibility.\"],\n",
        "    [\"4. Fairness and Equality Frame\", \"Equality or inequality with which laws, punishment, rewards, and resources are applied or distributed among individuals or groups. Also, the balance between the rights or interests of one individual or group compared to another individual or Group.\"],\n",
        "    [\"5. Constitutionality and Jurisprudence Frame\", \"The constraints imposed on or freedoms granted to individuals, government, and corporations via the Constitution, Bill of Rights, and other amendments, or judicial interpretation. This deals specifically with the authority of government to regulate, and the authority of individuals/corporations to act independently of government.\"],\n",
        "    [\"6. Policy Prescription and Evaluation Frame\", \"Particular policies proposed for addressing an identified problem, and figuring out if certain policies will work, or if existing policies are effective.\"],\n",
        "    [\"7. Law and Order, Crime and Justice Frame\", \"Specific policies in practice and their enforcement, incentives, and implications. Includes stories about enforcement and interpretation of laws by individuals and law enforcement, breaking laws, loopholes, fines, sentencing, and punishment. Increases or reductions in crime.\"],\n",
        "    [\"8. Security and Defense Frame\", \"Security, threats to security, and protection of one’s person, family, in-group, nation, etc. Generally, it is an action or a call to action that can be taken to protect the welfare of a person, group, or nation sometimes from a not yet manifested threat.\"],\n",
        "    [\"9. Health and Safety Frame\", \"Healthcare access and effectiveness, illness, disease, sanitation, obesity, mental health effects, prevention of or perpetuation of gun violence, infrastructure, and building safety.\"],\n",
        "    [\"10. Quality of Life Frame\", \"The effects of a policy on individuals’ wealth, mobility, access to resources, happiness, social structures, ease of day-to-day routines, quality of community life, etc.\"],\n",
        "    [\"11. Cultural Identity Frame\", \"The social norms, trends, values, and customs constituting culture(s), as they relate to a specific policy issue.\"],\n",
        "    [\"12. Public Opinion Frame\", \"References to general social attitudes, polling, and demographic information, as well as implied or actual consequences of diverging from or getting ahead of public opinion or polls\"],\n",
        "    [\"13. Political Frame\", \"Any political considerations surrounding an issue. Issue actions or efforts or stances that are political, such as partisan filibusters, lobbyist involvement, bipartisan efforts, deal-making and vote trading, appealing to one’s base, and mentions of political maneuvering. Explicit statements that a policy issue is good or bad for a particular political party.\"],\n",
        "    [\"14. External Regulation and Reputation Frame\", \"The country’s external relations with another nation; the external relations of one state with another; or relations between groups. This includes trade agreements and outcomes, comparisons of policy outcomes, or desired policy outcomes.\"],\n",
        "    [\"15. Other\", \"Any frames that do not fit into the above categories\"]\n",
        "]\n",
        "\n",
        "with gr.Blocks() as demo:\n",
        "    with gr.Column():\n",
        "        gr.Interface(\n",
        "            fn=classify,\n",
        "            inputs=gr.Textbox(lines=10, label=\"Input Text\", placeholder=\"Insert article sentence here. Each sentence should be divided by line break to be classified separately...\"),\n",
        "            outputs=gr.HighlightedText(),\n",
        "            title=title,\n",
        "            examples=examples,\n",
        "            allow_flagging=\"never\",)\n",
        "        gr.Dataframe(\n",
        "            value= values_extended,\n",
        "            headers=[\"Policy Issue Frame\", \"Description\"],\n",
        "            datatype=[\"str\", \"str\"],\n",
        "            col_widths=[200, 200],\n",
        "            row_count=(15, \"fixed\"),\n",
        "            col_count=(2, \"fixed\"),\n",
        "        )\n",
        "        gr.HTML('<h2>Google colab <a href=\"https://colab.research.google.com/drive/1RtQNGbpY2sMtKTNzbZfdm1l_ScJ9pQkC?usp=sharing\"> link for the Scraping Tool </a></h@>')\n",
        "\n",
        "if __name__ == \"__main__\":\n",
        "    demo.launch(share=True, debug=True)"
      ],
      "metadata": {
        "colab": {
          "base_uri": "https://localhost:8080/",
          "height": 625
        },
        "id": "aOEREwHfWIEi",
        "outputId": "ed599434-dc19-4d95-b5aa-d77ff2da67df"
      },
      "execution_count": null,
      "outputs": [
        {
          "output_type": "stream",
          "name": "stdout",
          "text": [
            "Colab notebook detected. This cell will run indefinitely so that you can see errors and logs. To turn off, set debug=False in launch().\n",
            "Running on public URL: https://89dc60ac1e68df83d1.gradio.live\n",
            "\n",
            "This share link expires in 72 hours. For free permanent hosting and GPU upgrades, run `gradio deploy` from Terminal to deploy to Spaces (https://huggingface.co/spaces)\n"
          ]
        },
        {
          "output_type": "display_data",
          "data": {
            "text/plain": [
              "<IPython.core.display.HTML object>"
            ],
            "text/html": [
              "<div><iframe src=\"https://89dc60ac1e68df83d1.gradio.live\" width=\"100%\" height=\"500\" allow=\"autoplay; camera; microphone; clipboard-read; clipboard-write;\" frameborder=\"0\" allowfullscreen></iframe></div>"
            ]
          },
          "metadata": {}
        },
        {
          "output_type": "stream",
          "name": "stdout",
          "text": [
            "Keyboard interruption in main thread... closing server.\n",
            "Killing tunnel 127.0.0.1:7863 <> https://89dc60ac1e68df83d1.gradio.live\n"
          ]
        }
      ]
    },
    {
      "cell_type": "code",
      "source": [],
      "metadata": {
        "id": "0ezNNWP2qP8w"
      },
      "execution_count": null,
      "outputs": []
    }
  ]
}