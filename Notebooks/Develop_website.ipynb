{
  "nbformat": 4,
  "nbformat_minor": 0,
  "metadata": {
    "colab": {
      "provenance": [],
      "authorship_tag": "ABX9TyPcQHxRV2rjh5bAmkssRm1U",
      "include_colab_link": true
    },
    "kernelspec": {
      "name": "python3",
      "display_name": "Python 3"
    },
    "language_info": {
      "name": "python"
    }
  },
  "cells": [
    {
      "cell_type": "markdown",
      "metadata": {
        "id": "view-in-github",
        "colab_type": "text"
      },
      "source": [
        "<a href=\"https://colab.research.google.com/github/jmlDC/MediaBias-Thesis22-23/blob/PostAnnotation/Notebooks/Develop_website.ipynb\" target=\"_parent\"><img src=\"https://colab.research.google.com/assets/colab-badge.svg\" alt=\"Open In Colab\"/></a>"
      ]
    },
    {
      "cell_type": "code",
      "execution_count": 26,
      "metadata": {
        "id": "PJljDE6pKfXC"
      },
      "outputs": [],
      "source": [
        "!pip install -q gradio\n",
        "!pip install transformers -q"
      ]
    },
    {
      "cell_type": "code",
      "source": [
        "# https://www.gradio.app/docs/interface\n",
        "# https://www.gradio.app/guides/using-hugging-face-integrations\n",
        "# https://colab.research.google.com/github/gradio-app/gradio/blob/main/demo/gpt2_xl/run.ipynb#scrollTo=2.8891853944186117e%2B38\n",
        "# https://huggingface.co/blog/gradio-spaces"
      ],
      "metadata": {
        "id": "_c2mVyDqWa5q"
      },
      "execution_count": null,
      "outputs": []
    },
    {
      "cell_type": "code",
      "source": [
        "import gradio as gr\n",
        "from transformers import pipeline\n",
        "import html\n",
        "\n",
        "title = \"MARISOL - Policy Issue Frame Classification\"\n",
        "\n",
        "examples = [\n",
        "    \"Immigrants without HOPE need help entering college\\n\",   #10\n",
        "    \"Dumagat-Remontados opposed to Kaliwa Dam urge NCIP to defend their rights\\n\",  # 4\n",
        "    \"SC asked to declare SIM Registration Act unconstitutional\\n\",   #5\n",
        "]\n",
        "\n",
        "pipe = pipeline(\"text-classification\", model=\"jmLuis/RoBERTa-THESIS\")\n",
        "\n",
        "code_frame_dict_toStr = {\n",
        "    1: '1. Economic Frame',\n",
        "    2: '2. Capacity and Resources Frame',\n",
        "    3: '3. Morality Frame',\n",
        "    4: '4. Fairness and Equality Frame',\n",
        "    5: '5. Constitutionality and Jurisprudence Frame',\n",
        "    6: '6. Policy Prescription and Evaluation Frame',\n",
        "    7: '7. Law and Order, Crime and Justice Frame',\n",
        "    8: '8. Security and Defense Frame',\n",
        "    9: '9. Health and Safety Frame',\n",
        "    10: '10. Quality of Life Frame',\n",
        "    11: '11. Cultural Identity Frame',\n",
        "    12: '12. Public Opinion Frame',\n",
        "    13: '13. Political Frame',\n",
        "    14: '14. External Regulation and Reputation Frame',\n",
        "    15: '15. Other'\n",
        "}\n",
        "\n",
        "def classify(text):\n",
        "    paragraphs = text.strip().split('\\n')\n",
        "    results = []\n",
        "    for paragraph in paragraphs:\n",
        "        frame = pipe(paragraph)[0][\"label\"] + 1\n",
        "        policyIssueFrame = code_frame_dict_toStr.get(frame, \"Unknown Frame\")\n",
        "        results.extend([(paragraph, policyIssueFrame), (\"\\n\\n\", None)])\n",
        "    return results\n",
        "\n",
        "demo = gr.Interface(\n",
        "    fn=classify,\n",
        "    inputs=gr.Textbox(lines=10, label=\"Input Text\"),\n",
        "    outputs=gr.HighlightedText(),\n",
        "    title=title,\n",
        "    examples=examples,\n",
        "    allow_flagging=\"never\",\n",
        ")\n",
        "\n",
        "if __name__ == \"__main__\":\n",
        "    demo.launch(debug=True, share=True)\n"
      ],
      "metadata": {
        "colab": {
          "base_uri": "https://localhost:8080/",
          "height": 625
        },
        "id": "aOEREwHfWIEi",
        "outputId": "8893fae6-d1d9-428b-e48d-2cc72c6043bb"
      },
      "execution_count": 49,
      "outputs": [
        {
          "output_type": "stream",
          "name": "stdout",
          "text": [
            "Colab notebook detected. This cell will run indefinitely so that you can see errors and logs. To turn off, set debug=False in launch().\n",
            "Running on public URL: https://c463b9143582c9c4ae.gradio.live\n",
            "\n",
            "This share link expires in 72 hours. For free permanent hosting and GPU upgrades, run `gradio deploy` from Terminal to deploy to Spaces (https://huggingface.co/spaces)\n"
          ]
        },
        {
          "output_type": "display_data",
          "data": {
            "text/plain": [
              "<IPython.core.display.HTML object>"
            ],
            "text/html": [
              "<div><iframe src=\"https://c463b9143582c9c4ae.gradio.live\" width=\"100%\" height=\"500\" allow=\"autoplay; camera; microphone; clipboard-read; clipboard-write;\" frameborder=\"0\" allowfullscreen></iframe></div>"
            ]
          },
          "metadata": {}
        },
        {
          "output_type": "stream",
          "name": "stdout",
          "text": [
            "Keyboard interruption in main thread... closing server.\n",
            "Killing tunnel 127.0.0.1:7863 <> https://c463b9143582c9c4ae.gradio.live\n"
          ]
        }
      ]
    },
    {
      "cell_type": "code",
      "source": [],
      "metadata": {
        "id": "0ezNNWP2qP8w"
      },
      "execution_count": null,
      "outputs": []
    }
  ]
}