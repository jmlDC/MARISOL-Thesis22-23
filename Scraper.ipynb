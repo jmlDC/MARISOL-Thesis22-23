<<<<<<< HEAD
{"nbformat":4,"nbformat_minor":0,"metadata":{"colab":{"provenance":[],"toc_visible":true},"kernelspec":{"name":"python3","display_name":"Python 3"},"language_info":{"name":"python"}},"cells":[{"cell_type":"markdown","metadata":{"id":"view-in-github"},"source":["<a href=\"https://colab.research.google.com/github/jmlDC/MediaBias-Thesis22-23/blob/Developing-Tool/Scraper.ipynb\" target=\"_parent\"><img src=\"https://colab.research.google.com/assets/colab-badge.svg\" alt=\"Open In Colab\"/></a>"]},{"cell_type":"markdown","source":["# MEDIA BIAS Thesis"],"metadata":{"id":"5UbRZ1dHzH2h"}},{"cell_type":"markdown","source":["# Setting up Environment"],"metadata":{"id":"9DnFpdsboI45"}},{"cell_type":"markdown","source":["### PIP install"],"metadata":{"id":"Pk8TPLKJoaiD"}},{"cell_type":"code","source":["!pip3 install requests-html\n","!apt update\n","!apt install chromium-chromedriver\n","!pip3 install selenium\n","!pip3 install webdriver-manager"],"metadata":{"id":"qhBA8KY9oipI","colab":{"base_uri":"https://localhost:8080/"},"outputId":"b265c192-3b69-48a6-b2d8-15551c6657d0","executionInfo":{"status":"ok","timestamp":1683017598681,"user_tz":-480,"elapsed":65649,"user":{"displayName":"Luis Dela Cruz","userId":"08059294841354101641"}}},"execution_count":1,"outputs":[{"output_type":"stream","name":"stdout","text":["Looking in indexes: https://pypi.org/simple, https://us-python.pkg.dev/colab-wheels/public/simple/\n","Collecting requests-html\n","  Downloading requests_html-0.10.0-py3-none-any.whl (13 kB)\n","Requirement already satisfied: requests in /usr/local/lib/python3.10/dist-packages (from requests-html) (2.27.1)\n","Collecting pyquery (from requests-html)\n","  Downloading pyquery-2.0.0-py3-none-any.whl (22 kB)\n","Collecting fake-useragent (from requests-html)\n","  Downloading fake_useragent-1.1.3-py3-none-any.whl (50 kB)\n","\u001b[2K     \u001b[90m━━━━━━━━━━━━━━━━━━━━━━━━━━━━━━━━━━━━━━━━\u001b[0m \u001b[32m50.5/50.5 kB\u001b[0m \u001b[31m2.7 MB/s\u001b[0m eta \u001b[36m0:00:00\u001b[0m\n","\u001b[?25hCollecting parse (from requests-html)\n","  Downloading parse-1.19.0.tar.gz (30 kB)\n","  Preparing metadata (setup.py) ... \u001b[?25l\u001b[?25hdone\n","Collecting bs4 (from requests-html)\n","  Downloading bs4-0.0.1.tar.gz (1.1 kB)\n","  Preparing metadata (setup.py) ... \u001b[?25l\u001b[?25hdone\n","Collecting w3lib (from requests-html)\n","  Downloading w3lib-2.1.1-py3-none-any.whl (21 kB)\n","Collecting pyppeteer>=0.0.14 (from requests-html)\n","  Downloading pyppeteer-1.0.2-py3-none-any.whl (83 kB)\n","\u001b[2K     \u001b[90m━━━━━━━━━━━━━━━━━━━━━━━━━━━━━━━━━━━━━━━━\u001b[0m \u001b[32m83.4/83.4 kB\u001b[0m \u001b[31m6.8 MB/s\u001b[0m eta \u001b[36m0:00:00\u001b[0m\n","\u001b[?25hRequirement already satisfied: appdirs<2.0.0,>=1.4.3 in /usr/local/lib/python3.10/dist-packages (from pyppeteer>=0.0.14->requests-html) (1.4.4)\n","Requirement already satisfied: certifi>=2021 in /usr/local/lib/python3.10/dist-packages (from pyppeteer>=0.0.14->requests-html) (2022.12.7)\n","Requirement already satisfied: importlib-metadata>=1.4 in /usr/local/lib/python3.10/dist-packages (from pyppeteer>=0.0.14->requests-html) (6.6.0)\n","Collecting pyee<9.0.0,>=8.1.0 (from pyppeteer>=0.0.14->requests-html)\n","  Downloading pyee-8.2.2-py2.py3-none-any.whl (12 kB)\n","Requirement already satisfied: tqdm<5.0.0,>=4.42.1 in /usr/local/lib/python3.10/dist-packages (from pyppeteer>=0.0.14->requests-html) (4.65.0)\n","Requirement already satisfied: urllib3<2.0.0,>=1.25.8 in /usr/local/lib/python3.10/dist-packages (from pyppeteer>=0.0.14->requests-html) (1.26.15)\n","Collecting websockets<11.0,>=10.0 (from pyppeteer>=0.0.14->requests-html)\n","  Downloading websockets-10.4-cp310-cp310-manylinux_2_5_x86_64.manylinux1_x86_64.manylinux_2_17_x86_64.manylinux2014_x86_64.whl (106 kB)\n","\u001b[2K     \u001b[90m━━━━━━━━━━━━━━━━━━━━━━━━━━━━━━━━━━━━━━━\u001b[0m \u001b[32m106.8/106.8 kB\u001b[0m \u001b[31m1.0 MB/s\u001b[0m eta \u001b[36m0:00:00\u001b[0m\n","\u001b[?25hRequirement already satisfied: beautifulsoup4 in /usr/local/lib/python3.10/dist-packages (from bs4->requests-html) (4.11.2)\n","Requirement already satisfied: lxml>=2.1 in /usr/local/lib/python3.10/dist-packages (from pyquery->requests-html) (4.9.2)\n","Collecting cssselect>=1.2.0 (from pyquery->requests-html)\n","  Downloading cssselect-1.2.0-py2.py3-none-any.whl (18 kB)\n","Requirement already satisfied: charset-normalizer~=2.0.0 in /usr/local/lib/python3.10/dist-packages (from requests->requests-html) (2.0.12)\n","Requirement already satisfied: idna<4,>=2.5 in /usr/local/lib/python3.10/dist-packages (from requests->requests-html) (3.4)\n","Requirement already satisfied: zipp>=0.5 in /usr/local/lib/python3.10/dist-packages (from importlib-metadata>=1.4->pyppeteer>=0.0.14->requests-html) (3.15.0)\n","Requirement already satisfied: soupsieve>1.2 in /usr/local/lib/python3.10/dist-packages (from beautifulsoup4->bs4->requests-html) (2.4.1)\n","Building wheels for collected packages: bs4, parse\n","  Building wheel for bs4 (setup.py) ... \u001b[?25l\u001b[?25hdone\n","  Created wheel for bs4: filename=bs4-0.0.1-py3-none-any.whl size=1270 sha256=b29c52060253f1a8ed7cbc972c9cc43024886b16196292f4cf92c99106a669c6\n","  Stored in directory: /root/.cache/pip/wheels/25/42/45/b773edc52acb16cd2db4cf1a0b47117e2f69bb4eb300ed0e70\n","  Building wheel for parse (setup.py) ... \u001b[?25l\u001b[?25hdone\n","  Created wheel for parse: filename=parse-1.19.0-py3-none-any.whl size=24589 sha256=d873ce7219a83bc225af0522e559206aa721306cf56c70b2f9ddcb373d645109\n","  Stored in directory: /root/.cache/pip/wheels/70/4b/f0/eaf5a8de646d8676dc25caa01949b9f9d883b8fa2efb435bc3\n","Successfully built bs4 parse\n","Installing collected packages: pyee, parse, fake-useragent, websockets, w3lib, cssselect, pyquery, pyppeteer, bs4, requests-html\n","Successfully installed bs4-0.0.1 cssselect-1.2.0 fake-useragent-1.1.3 parse-1.19.0 pyee-8.2.2 pyppeteer-1.0.2 pyquery-2.0.0 requests-html-0.10.0 w3lib-2.1.1 websockets-10.4\n","Get:1 https://cloud.r-project.org/bin/linux/ubuntu focal-cran40/ InRelease [3,622 B]\n","Hit:2 https://developer.download.nvidia.com/compute/cuda/repos/ubuntu2004/x86_64  InRelease\n","Get:3 http://security.ubuntu.com/ubuntu focal-security InRelease [114 kB]\n","Hit:4 http://archive.ubuntu.com/ubuntu focal InRelease\n","Hit:5 http://ppa.launchpad.net/c2d4u.team/c2d4u4.0+/ubuntu focal InRelease\n","Get:6 http://archive.ubuntu.com/ubuntu focal-updates InRelease [114 kB]\n","Hit:7 http://ppa.launchpad.net/cran/libgit2/ubuntu focal InRelease\n","Hit:8 http://ppa.launchpad.net/deadsnakes/ppa/ubuntu focal InRelease\n","Get:9 https://cloud.r-project.org/bin/linux/ubuntu focal-cran40/ Packages [77.6 kB]\n","Get:10 http://archive.ubuntu.com/ubuntu focal-backports InRelease [108 kB]\n","Hit:11 http://ppa.launchpad.net/graphics-drivers/ppa/ubuntu focal InRelease\n","Hit:12 http://ppa.launchpad.net/ubuntugis/ppa/ubuntu focal InRelease\n","Get:13 http://security.ubuntu.com/ubuntu focal-security/universe amd64 Packages [1,039 kB]\n","Get:14 http://security.ubuntu.com/ubuntu focal-security/main amd64 Packages [2,668 kB]\n","Get:15 http://archive.ubuntu.com/ubuntu focal-updates/universe amd64 Packages [1,334 kB]\n","Get:16 http://archive.ubuntu.com/ubuntu focal-updates/main amd64 Packages [3,150 kB]\n","Fetched 8,607 kB in 8s (1,041 kB/s)\n","Reading package lists... Done\n","Building dependency tree       \n","Reading state information... Done\n","27 packages can be upgraded. Run 'apt list --upgradable' to see them.\n","Reading package lists... Done\n","Building dependency tree       \n","Reading state information... Done\n","The following additional packages will be installed:\n","  apparmor chromium-browser liblzo2-2 libudev1 snapd squashfs-tools udev\n","Suggested packages:\n","  apparmor-profiles-extra apparmor-utils zenity | kdialog\n","The following NEW packages will be installed:\n","  apparmor chromium-browser chromium-chromedriver liblzo2-2 snapd\n","  squashfs-tools udev\n","The following packages will be upgraded:\n","  libudev1\n","1 upgraded, 7 newly installed, 0 to remove and 26 not upgraded.\n","Need to get 40.0 MB of archives.\n","After this operation, 183 MB of additional disk space will be used.\n","Get:1 http://archive.ubuntu.com/ubuntu focal-updates/main amd64 apparmor amd64 2.13.3-7ubuntu5.2 [502 kB]\n","Get:2 http://archive.ubuntu.com/ubuntu focal/main amd64 liblzo2-2 amd64 2.10-2 [50.8 kB]\n","Get:3 http://archive.ubuntu.com/ubuntu focal-updates/main amd64 squashfs-tools amd64 1:4.4-1ubuntu0.3 [117 kB]\n","Get:4 http://archive.ubuntu.com/ubuntu focal-updates/main amd64 libudev1 amd64 245.4-4ubuntu3.21 [75.9 kB]\n","Get:5 http://archive.ubuntu.com/ubuntu focal-updates/main amd64 udev amd64 245.4-4ubuntu3.21 [1,366 kB]\n","Get:6 http://archive.ubuntu.com/ubuntu focal-updates/main amd64 snapd amd64 2.58+20.04 [37.9 MB]\n","Get:7 http://archive.ubuntu.com/ubuntu focal-updates/universe amd64 chromium-browser amd64 1:85.0.4183.83-0ubuntu0.20.04.3 [48.5 kB]\n","Get:8 http://archive.ubuntu.com/ubuntu focal-updates/universe amd64 chromium-chromedriver amd64 1:85.0.4183.83-0ubuntu0.20.04.3 [2,496 B]\n","Fetched 40.0 MB in 3s (15.4 MB/s)\n","Preconfiguring packages ...\n","Selecting previously unselected package apparmor.\n","(Reading database ... 122518 files and directories currently installed.)\n","Preparing to unpack .../apparmor_2.13.3-7ubuntu5.2_amd64.deb ...\n","Unpacking apparmor (2.13.3-7ubuntu5.2) ...\n","Selecting previously unselected package liblzo2-2:amd64.\n","Preparing to unpack .../liblzo2-2_2.10-2_amd64.deb ...\n","Unpacking liblzo2-2:amd64 (2.10-2) ...\n","Selecting previously unselected package squashfs-tools.\n","Preparing to unpack .../squashfs-tools_1%3a4.4-1ubuntu0.3_amd64.deb ...\n","Unpacking squashfs-tools (1:4.4-1ubuntu0.3) ...\n","Preparing to unpack .../libudev1_245.4-4ubuntu3.21_amd64.deb ...\n","Unpacking libudev1:amd64 (245.4-4ubuntu3.21) over (245.4-4ubuntu3.19) ...\n","Setting up libudev1:amd64 (245.4-4ubuntu3.21) ...\n","Selecting previously unselected package udev.\n","(Reading database ... 122705 files and directories currently installed.)\n","Preparing to unpack .../udev_245.4-4ubuntu3.21_amd64.deb ...\n","Unpacking udev (245.4-4ubuntu3.21) ...\n","Selecting previously unselected package snapd.\n","Preparing to unpack .../snapd_2.58+20.04_amd64.deb ...\n","Unpacking snapd (2.58+20.04) ...\n","Setting up apparmor (2.13.3-7ubuntu5.2) ...\n","Created symlink /etc/systemd/system/sysinit.target.wants/apparmor.service → /lib/systemd/system/apparmor.service.\n","Setting up liblzo2-2:amd64 (2.10-2) ...\n","Setting up squashfs-tools (1:4.4-1ubuntu0.3) ...\n","Setting up udev (245.4-4ubuntu3.21) ...\n","invoke-rc.d: could not determine current runlevel\n","invoke-rc.d: policy-rc.d denied execution of start.\n","Setting up snapd (2.58+20.04) ...\n","Created symlink /etc/systemd/system/multi-user.target.wants/snapd.aa-prompt-listener.service → /lib/systemd/system/snapd.aa-prompt-listener.service.\n","Created symlink /etc/systemd/system/multi-user.target.wants/snapd.apparmor.service → /lib/systemd/system/snapd.apparmor.service.\n","Created symlink /etc/systemd/system/multi-user.target.wants/snapd.autoimport.service → /lib/systemd/system/snapd.autoimport.service.\n","Created symlink /etc/systemd/system/multi-user.target.wants/snapd.core-fixup.service → /lib/systemd/system/snapd.core-fixup.service.\n","Created symlink /etc/systemd/system/multi-user.target.wants/snapd.recovery-chooser-trigger.service → /lib/systemd/system/snapd.recovery-chooser-trigger.service.\n","Created symlink /etc/systemd/system/multi-user.target.wants/snapd.seeded.service → /lib/systemd/system/snapd.seeded.service.\n","Created symlink /etc/systemd/system/cloud-final.service.wants/snapd.seeded.service → /lib/systemd/system/snapd.seeded.service.\n","Created symlink /etc/systemd/system/multi-user.target.wants/snapd.service → /lib/systemd/system/snapd.service.\n","Created symlink /etc/systemd/system/timers.target.wants/snapd.snap-repair.timer → /lib/systemd/system/snapd.snap-repair.timer.\n","Created symlink /etc/systemd/system/sockets.target.wants/snapd.socket → /lib/systemd/system/snapd.socket.\n","Created symlink /etc/systemd/system/final.target.wants/snapd.system-shutdown.service → /lib/systemd/system/snapd.system-shutdown.service.\n","Selecting previously unselected package chromium-browser.\n","(Reading database ... 122926 files and directories currently installed.)\n","Preparing to unpack .../chromium-browser_1%3a85.0.4183.83-0ubuntu0.20.04.3_amd64.deb ...\n","=> Installing the chromium snap\n","==> Checking connectivity with the snap store\n","===> System doesn't have a working snapd, skipping\n","Unpacking chromium-browser (1:85.0.4183.83-0ubuntu0.20.04.3) ...\n","Selecting previously unselected package chromium-chromedriver.\n","Preparing to unpack .../chromium-chromedriver_1%3a85.0.4183.83-0ubuntu0.20.04.3_amd64.deb ...\n","Unpacking chromium-chromedriver (1:85.0.4183.83-0ubuntu0.20.04.3) ...\n","Setting up chromium-browser (1:85.0.4183.83-0ubuntu0.20.04.3) ...\n","update-alternatives: using /usr/bin/chromium-browser to provide /usr/bin/x-www-browser (x-www-browser) in auto mode\n","update-alternatives: using /usr/bin/chromium-browser to provide /usr/bin/gnome-www-browser (gnome-www-browser) in auto mode\n","Setting up chromium-chromedriver (1:85.0.4183.83-0ubuntu0.20.04.3) ...\n","Processing triggers for mime-support (3.64ubuntu1) ...\n","Processing triggers for hicolor-icon-theme (0.17-2) ...\n","Processing triggers for libc-bin (2.31-0ubuntu9.9) ...\n","Processing triggers for systemd (245.4-4ubuntu3.21) ...\n","Processing triggers for man-db (2.9.1-1) ...\n","Processing triggers for dbus (1.12.16-2ubuntu2.3) ...\n","Looking in indexes: https://pypi.org/simple, https://us-python.pkg.dev/colab-wheels/public/simple/\n","Collecting selenium\n","  Downloading selenium-4.9.0-py3-none-any.whl (6.5 MB)\n","\u001b[2K     \u001b[90m━━━━━━━━━━━━━━━━━━━━━━━━━━━━━━━━━━━━━━━━\u001b[0m \u001b[32m6.5/6.5 MB\u001b[0m \u001b[31m52.3 MB/s\u001b[0m eta \u001b[36m0:00:00\u001b[0m\n","\u001b[?25hRequirement already satisfied: urllib3[socks]~=1.26 in /usr/local/lib/python3.10/dist-packages (from selenium) (1.26.15)\n","Collecting trio~=0.17 (from selenium)\n","  Downloading trio-0.22.0-py3-none-any.whl (384 kB)\n","\u001b[2K     \u001b[90m━━━━━━━━━━━━━━━━━━━━━━━━━━━━━━━━━━━━━━\u001b[0m \u001b[32m384.9/384.9 kB\u001b[0m \u001b[31m33.6 MB/s\u001b[0m eta \u001b[36m0:00:00\u001b[0m\n","\u001b[?25hCollecting trio-websocket~=0.9 (from selenium)\n","  Downloading trio_websocket-0.10.2-py3-none-any.whl (17 kB)\n","Requirement already satisfied: certifi>=2021.10.8 in /usr/local/lib/python3.10/dist-packages (from selenium) (2022.12.7)\n","Requirement already satisfied: attrs>=19.2.0 in /usr/local/lib/python3.10/dist-packages (from trio~=0.17->selenium) (23.1.0)\n","Requirement already satisfied: sortedcontainers in /usr/local/lib/python3.10/dist-packages (from trio~=0.17->selenium) (2.4.0)\n","Collecting async-generator>=1.9 (from trio~=0.17->selenium)\n","  Downloading async_generator-1.10-py3-none-any.whl (18 kB)\n","Requirement already satisfied: idna in /usr/local/lib/python3.10/dist-packages (from trio~=0.17->selenium) (3.4)\n","Collecting outcome (from trio~=0.17->selenium)\n","  Downloading outcome-1.2.0-py2.py3-none-any.whl (9.7 kB)\n","Requirement already satisfied: sniffio in /usr/local/lib/python3.10/dist-packages (from trio~=0.17->selenium) (1.3.0)\n","Requirement already satisfied: exceptiongroup>=1.0.0rc9 in /usr/local/lib/python3.10/dist-packages (from trio~=0.17->selenium) (1.1.1)\n","Collecting wsproto>=0.14 (from trio-websocket~=0.9->selenium)\n","  Downloading wsproto-1.2.0-py3-none-any.whl (24 kB)\n","Requirement already satisfied: PySocks!=1.5.7,<2.0,>=1.5.6 in /usr/local/lib/python3.10/dist-packages (from urllib3[socks]~=1.26->selenium) (1.7.1)\n","Collecting h11<1,>=0.9.0 (from wsproto>=0.14->trio-websocket~=0.9->selenium)\n","  Downloading h11-0.14.0-py3-none-any.whl (58 kB)\n","\u001b[2K     \u001b[90m━━━━━━━━━━━━━━━━━━━━━━━━━━━━━━━━━━━━━━━━\u001b[0m \u001b[32m58.3/58.3 kB\u001b[0m \u001b[31m5.5 MB/s\u001b[0m eta \u001b[36m0:00:00\u001b[0m\n","\u001b[?25hInstalling collected packages: outcome, h11, async-generator, wsproto, trio, trio-websocket, selenium\n","Successfully installed async-generator-1.10 h11-0.14.0 outcome-1.2.0 selenium-4.9.0 trio-0.22.0 trio-websocket-0.10.2 wsproto-1.2.0\n","Looking in indexes: https://pypi.org/simple, https://us-python.pkg.dev/colab-wheels/public/simple/\n","Collecting webdriver-manager\n","  Downloading webdriver_manager-3.8.6-py2.py3-none-any.whl (27 kB)\n","Requirement already satisfied: requests in /usr/local/lib/python3.10/dist-packages (from webdriver-manager) (2.27.1)\n","Collecting python-dotenv (from webdriver-manager)\n","  Downloading python_dotenv-1.0.0-py3-none-any.whl (19 kB)\n","Requirement already satisfied: tqdm in /usr/local/lib/python3.10/dist-packages (from webdriver-manager) (4.65.0)\n","Requirement already satisfied: packaging in /usr/local/lib/python3.10/dist-packages (from webdriver-manager) (23.1)\n","Requirement already satisfied: urllib3<1.27,>=1.21.1 in /usr/local/lib/python3.10/dist-packages (from requests->webdriver-manager) (1.26.15)\n","Requirement already satisfied: certifi>=2017.4.17 in /usr/local/lib/python3.10/dist-packages (from requests->webdriver-manager) (2022.12.7)\n","Requirement already satisfied: charset-normalizer~=2.0.0 in /usr/local/lib/python3.10/dist-packages (from requests->webdriver-manager) (2.0.12)\n","Requirement already satisfied: idna<4,>=2.5 in /usr/local/lib/python3.10/dist-packages (from requests->webdriver-manager) (3.4)\n","Installing collected packages: python-dotenv, webdriver-manager\n","Successfully installed python-dotenv-1.0.0 webdriver-manager-3.8.6\n"]}]},{"cell_type":"code","source":["# Needed for Selenium\n","!cp /usr/lib/chromium-browser/chromedriver /usr/bin"],"metadata":{"colab":{"base_uri":"https://localhost:8080/"},"id":"rAD7RaaP1Z3s","outputId":"e103a46b-6d72-4cb3-9fe0-ce0954ef7a00","executionInfo":{"status":"ok","timestamp":1683017598682,"user_tz":-480,"elapsed":31,"user":{"displayName":"Luis Dela Cruz","userId":"08059294841354101641"}}},"execution_count":2,"outputs":[{"output_type":"stream","name":"stdout","text":["cp: '/usr/lib/chromium-browser/chromedriver' and '/usr/bin/chromedriver' are the same file\n"]}]},{"cell_type":"markdown","source":["### Imports"],"metadata":{"id":"4BDsarMioPoQ"}},{"cell_type":"code","source":["import sys\n","sys.path.insert(0,'/usr/lib/chromium-browser/chromedriver')"],"metadata":{"id":"kDHMeE4S1i2s","executionInfo":{"status":"ok","timestamp":1683017598683,"user_tz":-480,"elapsed":17,"user":{"displayName":"Luis Dela Cruz","userId":"08059294841354101641"}}},"execution_count":3,"outputs":[]},{"cell_type":"markdown","source":[],"metadata":{"id":"uWuhmODroQyR"}},{"cell_type":"code","execution_count":4,"metadata":{"id":"iTwWZbPg1TVG","colab":{"base_uri":"https://localhost:8080/"},"outputId":"7bedeb9e-a112-46be-d891-1f8e4256c981","executionInfo":{"status":"ok","timestamp":1683017599884,"user_tz":-480,"elapsed":1218,"user":{"displayName":"Luis Dela Cruz","userId":"08059294841354101641"}}},"outputs":[{"output_type":"stream","name":"stderr","text":["/usr/local/lib/python3.10/dist-packages/trio/_core/_multierror.py:406: RuntimeWarning: IPython detected, but you already have a custom exception handler installed. I'll skip installing Trio's custom handler, but this means exception groups will not show full tracebacks.\n","  warnings.warn(\n"]}],"source":["import urllib.request,sys,time\n","from bs4 import BeautifulSoup\n","import requests\n","import pandas as pd\n","\n","from requests_html import HTMLSession \n","\n","from selenium import webdriver\n","from selenium.webdriver.chrome.options import Options\n","from webdriver_manager.chrome import ChromeDriverManager\n","from selenium.webdriver.support.ui import WebDriverWait\n","from selenium.webdriver.support import expected_conditions as EC\n","from selenium.webdriver.common.by import By\n"]},{"cell_type":"markdown","source":["### Mounting to GDrive"],"metadata":{"id":"fygyA3BsoSRH"}},{"cell_type":"code","source":["from google.colab import drive\n","drive.mount('/content/gdrive')"],"metadata":{"id":"H7uTO8KVI0HL","colab":{"base_uri":"https://localhost:8080/"},"outputId":"106ddc86-bc64-42f0-e87a-edc603a01550","executionInfo":{"status":"ok","timestamp":1683017625608,"user_tz":-480,"elapsed":25730,"user":{"displayName":"Luis Dela Cruz","userId":"08059294841354101641"}}},"execution_count":5,"outputs":[{"output_type":"stream","name":"stdout","text":["Mounted at /content/gdrive\n"]}]},{"cell_type":"markdown","source":["### dir variable"],"metadata":{"id":"_CJm56YhoVDi"}},{"cell_type":"code","source":["dir  = \"/content/gdrive/MyDrive/THESIS-MS/Git-Thesis22-23/\""],"metadata":{"id":"FcAOB3l1JQD9","executionInfo":{"status":"ok","timestamp":1683017673200,"user_tz":-480,"elapsed":408,"user":{"displayName":"Luis Dela Cruz","userId":"08059294841354101641"}}},"execution_count":9,"outputs":[]},{"cell_type":"markdown","source":["# Scraping"],"metadata":{"id":"8IhlJmBFI7YI"}},{"cell_type":"markdown","source":["## Extract Source Function"],"metadata":{"id":"386CSzX1nloW"}},{"cell_type":"code","source":["def extract_source(url):\n","    agent = {\"User-Agent\":\"Chrome/105.0.0.0\"}\n","    try:\n","      source=requests.get(url, headers=agent)\n","    except Exception as e:                                   # this describes what to do if an exception is thrown\n","      error_type, error_obj, error_info = sys.exc_info()      # get the exception information\n","      print ('ERROR FOR LINK:',url)                          #print the link that cause the problem\n","      print (error_type, 'Line:', error_info.tb_lineno)     #print error info and line that threw the exception\n","    \n","    return source                                               #ignore this page. Abandon this and go back."],"metadata":{"id":"pWGtJbU6MOyL","executionInfo":{"status":"ok","timestamp":1683017673573,"user_tz":-480,"elapsed":3,"user":{"displayName":"Luis Dela Cruz","userId":"08059294841354101641"}}},"execution_count":10,"outputs":[]},{"cell_type":"markdown","source":["## Politifact"],"metadata":{"id":"YAbVIXQvngVo"}},{"cell_type":"code","source":["## Politifact \n","pagesToGet= 1\n","upperframe=[]  \n","site = \"politifact\"\n","\n","\n","for page in range(1,pagesToGet+1):\n","    print('processing page :', page)\n","    url = 'https://www.politifact.com/factchecks/list/?page='+str(page)\n","    print(url)\n","    \n","    #an exception might be thrown, so the code should be in a try-except block\n","    try:\n","        #use the browser to get the url. This is suspicious command that might blow up.\n","        page=requests.get(url)                             # this might throw an exception if something goes wrong.\n","    \n","    except Exception as e:                                   # this describes what to do if an exception is thrown\n","        error_type, error_obj, error_info = sys.exc_info()      # get the exception information\n","        print ('ERROR FOR LINK:',url)                          #print the link that cause the problem\n","        print (error_type, 'Line:', error_info.tb_lineno)     #print error info and line that threw the exception\n","        continue                                              #ignore this page. Abandon this and go back.\n","\n","    time.sleep(2)   \n","    soup=BeautifulSoup(page.text,'html.parser')\n","    frame=[]\n","    links=soup.find_all('li',attrs={'class':'o-listicle__item'})\n","    print(len(links))\n","\n","    \n","    filename= f\"{dir + site}NEWS.csv\"\n","    f=open(filename,\"w\", encoding = 'utf-8')\n","    headers=\"Statement,Link,Date, Source, Label\\n\"\n","    f.write(headers)\n","    \n","    for j in links:\n","        Statement = j.find(\"div\",attrs={'class':'m-statement__quote'}).text.strip()\n","        Link = \"https://www.politifact.com\"\n","        Link += j.find(\"div\",attrs={'class':'m-statement__quote'}).find('a')['href'].strip()\n","        Date = j.find('div',attrs={'class':'m-statement__body'}).find('footer').text[-14:-1].strip()\n","        Source = j.find('div', attrs={'class':'m-statement__meta'}).find('a').text.strip()\n","        Label = j.find('div', attrs ={'class':'m-statement__content'}).find('img',attrs={'class':'c-image__original'}).get('alt').strip()\n","        frame.append((Statement,Link,Date,Source,Label))\n","        f.write(Statement.replace(\",\",\"^\")+\",\"+Link+\",\"+Date.replace(\",\",\"^\")+\",\"+Source.replace(\",\",\"^\")+\",\"+Label.replace(\",\",\"^\")+\"\\n\")\n","    upperframe.extend(frame)\n","f.close()\n","data=pd.DataFrame(upperframe, columns=['Statement','Link','Date','Source','Label'])\n","data.head()"],"metadata":{"id":"BdgXD6mX2uhc","colab":{"base_uri":"https://localhost:8080/","height":389},"outputId":"f10332ab-f9d7-482a-afe7-654486936237","executionInfo":{"status":"ok","timestamp":1683017677949,"user_tz":-480,"elapsed":4379,"user":{"displayName":"Luis Dela Cruz","userId":"08059294841354101641"}}},"execution_count":11,"outputs":[{"output_type":"stream","name":"stdout","text":["processing page : 1\n","https://www.politifact.com/factchecks/list/?page=1\n","30\n"]},{"output_type":"execute_result","data":{"text/plain":["                                           Statement  \\\n","0  “Anheuser-Busch closing half its U.S. brewerie...   \n","1  There is “$500 billion of unspent COVID money”...   \n","2  “Joe Biden was older on his first day as presi...   \n","3  “El nuevo WhatsApp de 2023” permite “ver con q...   \n","4  New York Gov. Kathy Hochul wants “quarantine c...   \n","\n","                                                Link           Date  \\\n","0  https://www.politifact.com/factchecks/2023/may...  • May 1, 2023   \n","1  https://www.politifact.com/factchecks/2023/may...  • May 1, 2023   \n","2  https://www.politifact.com/factchecks/2023/may...  • May 1, 2023   \n","3  https://www.politifact.com/factchecks/2023/may...  • May 1, 2023   \n","4  https://www.politifact.com/factchecks/2023/apr...  pril 29, 2023   \n","\n","            Source       Label  \n","0   Facebook posts  pants-fire  \n","1      Nikki Haley   half-true  \n","2  Jonathan Martin        true  \n","3   Facebook posts       false  \n","4   Facebook posts  pants-fire  "],"text/html":["\n","  <div id=\"df-64d2ccec-5ad9-4fa1-a32c-b3436d809292\">\n","    <div class=\"colab-df-container\">\n","      <div>\n","<style scoped>\n","    .dataframe tbody tr th:only-of-type {\n","        vertical-align: middle;\n","    }\n","\n","    .dataframe tbody tr th {\n","        vertical-align: top;\n","    }\n","\n","    .dataframe thead th {\n","        text-align: right;\n","    }\n","</style>\n","<table border=\"1\" class=\"dataframe\">\n","  <thead>\n","    <tr style=\"text-align: right;\">\n","      <th></th>\n","      <th>Statement</th>\n","      <th>Link</th>\n","      <th>Date</th>\n","      <th>Source</th>\n","      <th>Label</th>\n","    </tr>\n","  </thead>\n","  <tbody>\n","    <tr>\n","      <th>0</th>\n","      <td>“Anheuser-Busch closing half its U.S. brewerie...</td>\n","      <td>https://www.politifact.com/factchecks/2023/may...</td>\n","      <td>• May 1, 2023</td>\n","      <td>Facebook posts</td>\n","      <td>pants-fire</td>\n","    </tr>\n","    <tr>\n","      <th>1</th>\n","      <td>There is “$500 billion of unspent COVID money”...</td>\n","      <td>https://www.politifact.com/factchecks/2023/may...</td>\n","      <td>• May 1, 2023</td>\n","      <td>Nikki Haley</td>\n","      <td>half-true</td>\n","    </tr>\n","    <tr>\n","      <th>2</th>\n","      <td>“Joe Biden was older on his first day as presi...</td>\n","      <td>https://www.politifact.com/factchecks/2023/may...</td>\n","      <td>• May 1, 2023</td>\n","      <td>Jonathan Martin</td>\n","      <td>true</td>\n","    </tr>\n","    <tr>\n","      <th>3</th>\n","      <td>“El nuevo WhatsApp de 2023” permite “ver con q...</td>\n","      <td>https://www.politifact.com/factchecks/2023/may...</td>\n","      <td>• May 1, 2023</td>\n","      <td>Facebook posts</td>\n","      <td>false</td>\n","    </tr>\n","    <tr>\n","      <th>4</th>\n","      <td>New York Gov. Kathy Hochul wants “quarantine c...</td>\n","      <td>https://www.politifact.com/factchecks/2023/apr...</td>\n","      <td>pril 29, 2023</td>\n","      <td>Facebook posts</td>\n","      <td>pants-fire</td>\n","    </tr>\n","  </tbody>\n","</table>\n","</div>\n","      <button class=\"colab-df-convert\" onclick=\"convertToInteractive('df-64d2ccec-5ad9-4fa1-a32c-b3436d809292')\"\n","              title=\"Convert this dataframe to an interactive table.\"\n","              style=\"display:none;\">\n","        \n","  <svg xmlns=\"http://www.w3.org/2000/svg\" height=\"24px\"viewBox=\"0 0 24 24\"\n","       width=\"24px\">\n","    <path d=\"M0 0h24v24H0V0z\" fill=\"none\"/>\n","    <path d=\"M18.56 5.44l.94 2.06.94-2.06 2.06-.94-2.06-.94-.94-2.06-.94 2.06-2.06.94zm-11 1L8.5 8.5l.94-2.06 2.06-.94-2.06-.94L8.5 2.5l-.94 2.06-2.06.94zm10 10l.94 2.06.94-2.06 2.06-.94-2.06-.94-.94-2.06-.94 2.06-2.06.94z\"/><path d=\"M17.41 7.96l-1.37-1.37c-.4-.4-.92-.59-1.43-.59-.52 0-1.04.2-1.43.59L10.3 9.45l-7.72 7.72c-.78.78-.78 2.05 0 2.83L4 21.41c.39.39.9.59 1.41.59.51 0 1.02-.2 1.41-.59l7.78-7.78 2.81-2.81c.8-.78.8-2.07 0-2.86zM5.41 20L4 18.59l7.72-7.72 1.47 1.35L5.41 20z\"/>\n","  </svg>\n","      </button>\n","      \n","  <style>\n","    .colab-df-container {\n","      display:flex;\n","      flex-wrap:wrap;\n","      gap: 12px;\n","    }\n","\n","    .colab-df-convert {\n","      background-color: #E8F0FE;\n","      border: none;\n","      border-radius: 50%;\n","      cursor: pointer;\n","      display: none;\n","      fill: #1967D2;\n","      height: 32px;\n","      padding: 0 0 0 0;\n","      width: 32px;\n","    }\n","\n","    .colab-df-convert:hover {\n","      background-color: #E2EBFA;\n","      box-shadow: 0px 1px 2px rgba(60, 64, 67, 0.3), 0px 1px 3px 1px rgba(60, 64, 67, 0.15);\n","      fill: #174EA6;\n","    }\n","\n","    [theme=dark] .colab-df-convert {\n","      background-color: #3B4455;\n","      fill: #D2E3FC;\n","    }\n","\n","    [theme=dark] .colab-df-convert:hover {\n","      background-color: #434B5C;\n","      box-shadow: 0px 1px 3px 1px rgba(0, 0, 0, 0.15);\n","      filter: drop-shadow(0px 1px 2px rgba(0, 0, 0, 0.3));\n","      fill: #FFFFFF;\n","    }\n","  </style>\n","\n","      <script>\n","        const buttonEl =\n","          document.querySelector('#df-64d2ccec-5ad9-4fa1-a32c-b3436d809292 button.colab-df-convert');\n","        buttonEl.style.display =\n","          google.colab.kernel.accessAllowed ? 'block' : 'none';\n","\n","        async function convertToInteractive(key) {\n","          const element = document.querySelector('#df-64d2ccec-5ad9-4fa1-a32c-b3436d809292');\n","          const dataTable =\n","            await google.colab.kernel.invokeFunction('convertToInteractive',\n","                                                     [key], {});\n","          if (!dataTable) return;\n","\n","          const docLinkHtml = 'Like what you see? Visit the ' +\n","            '<a target=\"_blank\" href=https://colab.research.google.com/notebooks/data_table.ipynb>data table notebook</a>'\n","            + ' to learn more about interactive tables.';\n","          element.innerHTML = '';\n","          dataTable['output_type'] = 'display_data';\n","          await google.colab.output.renderOutput(dataTable, element);\n","          const docLink = document.createElement('div');\n","          docLink.innerHTML = docLinkHtml;\n","          element.appendChild(docLink);\n","        }\n","      </script>\n","    </div>\n","  </div>\n","  "]},"metadata":{},"execution_count":11}]},{"cell_type":"markdown","source":["## Manila Bulletin"],"metadata":{"id":"Hi1eB--NnqyY"}},{"cell_type":"code","source":[],"metadata":{"id":"cAfjwAudx_NQ"},"execution_count":null,"outputs":[]},{"cell_type":"code","source":["## Manila bulletin\n","pagesToGet= 1\n","upperframe=[]  \n","topic = \"ukraine war\"\n","site = \"manilaBulletin\"\n","\n","data=pd.DataFrame(columns=['Statement','Link','Date',\"Topic\"])\n","\n","\n","for page in range(1,pagesToGet+1):\n","    print('processing page :', page)\n","    #  https://mb.com.ph/search-results?s=ukraine%20war\n","    url = 'https://mb.com.ph/search-results/?s='+topic.replace(\" \", \"%20\")\n","    print(url)\n","\n","    time.sleep(2)   \n","    soup=BeautifulSoup(extract_source(url).text, 'html.parser')\n","\n","    links=soup.find(\"div\", {'class' : 'container pr-0 pl-0 max-width'}).find_all('div',attrs={'class':'row mb-16'})\n","    print(len(links))\n","    \n","    filename= f\"{dir}{site}-{topic}-NEWS-List.csv\"    \n","    index = 0\n","    for j in links:\n","        Statement = j.find('h4', {'class' : 'mb-font-article-title'}).find('a').text.strip()\n","        Link = j.find(\"h4\", {'class' : 'mb-font-article-title'}).find('a')['href'].strip()\n","        Date = j.find('div', {'class': 'ml-1 mb-font-article-date'}).text.strip()\n","        df_new_row = { 'Statement': Statement, 'Link': Link, 'Date': Date, 'Topic': topic }\n","        index += 1\n","        data = data.append(pd.Series(df_new_row, index=data.columns[:len(df_new_row)]), ignore_index=True)\n","        # pd.concat([data, pd.DataFrame((df_new_row), index=[index])], ignore_index = True)\n","data.to_csv(filename)\n","data.head()"],"metadata":{"id":"qQegsdzKBVWv","colab":{"base_uri":"https://localhost:8080/","height":717},"outputId":"5d21c26e-acfa-406e-f100-e566166813fc","executionInfo":{"status":"ok","timestamp":1683021359396,"user_tz":-480,"elapsed":2853,"user":{"displayName":"Luis Dela Cruz","userId":"08059294841354101641"}}},"execution_count":63,"outputs":[{"output_type":"stream","name":"stdout","text":["processing page : 1\n","https://mb.com.ph/search-results/?s=ukraine%20war\n","10\n"]},{"output_type":"stream","name":"stderr","text":["<ipython-input-63-d33300d98d44>:30: FutureWarning: The frame.append method is deprecated and will be removed from pandas in a future version. Use pandas.concat instead.\n","  data = data.append(pd.Series(df_new_row, index=data.columns[:len(df_new_row)]), ignore_index=True)\n","<ipython-input-63-d33300d98d44>:30: FutureWarning: The frame.append method is deprecated and will be removed from pandas in a future version. Use pandas.concat instead.\n","  data = data.append(pd.Series(df_new_row, index=data.columns[:len(df_new_row)]), ignore_index=True)\n","<ipython-input-63-d33300d98d44>:30: FutureWarning: The frame.append method is deprecated and will be removed from pandas in a future version. Use pandas.concat instead.\n","  data = data.append(pd.Series(df_new_row, index=data.columns[:len(df_new_row)]), ignore_index=True)\n","<ipython-input-63-d33300d98d44>:30: FutureWarning: The frame.append method is deprecated and will be removed from pandas in a future version. Use pandas.concat instead.\n","  data = data.append(pd.Series(df_new_row, index=data.columns[:len(df_new_row)]), ignore_index=True)\n","<ipython-input-63-d33300d98d44>:30: FutureWarning: The frame.append method is deprecated and will be removed from pandas in a future version. Use pandas.concat instead.\n","  data = data.append(pd.Series(df_new_row, index=data.columns[:len(df_new_row)]), ignore_index=True)\n","<ipython-input-63-d33300d98d44>:30: FutureWarning: The frame.append method is deprecated and will be removed from pandas in a future version. Use pandas.concat instead.\n","  data = data.append(pd.Series(df_new_row, index=data.columns[:len(df_new_row)]), ignore_index=True)\n","<ipython-input-63-d33300d98d44>:30: FutureWarning: The frame.append method is deprecated and will be removed from pandas in a future version. Use pandas.concat instead.\n","  data = data.append(pd.Series(df_new_row, index=data.columns[:len(df_new_row)]), ignore_index=True)\n","<ipython-input-63-d33300d98d44>:30: FutureWarning: The frame.append method is deprecated and will be removed from pandas in a future version. Use pandas.concat instead.\n","  data = data.append(pd.Series(df_new_row, index=data.columns[:len(df_new_row)]), ignore_index=True)\n","<ipython-input-63-d33300d98d44>:30: FutureWarning: The frame.append method is deprecated and will be removed from pandas in a future version. Use pandas.concat instead.\n","  data = data.append(pd.Series(df_new_row, index=data.columns[:len(df_new_row)]), ignore_index=True)\n","<ipython-input-63-d33300d98d44>:30: FutureWarning: The frame.append method is deprecated and will be removed from pandas in a future version. Use pandas.concat instead.\n","  data = data.append(pd.Series(df_new_row, index=data.columns[:len(df_new_row)]), ignore_index=True)\n"]},{"output_type":"execute_result","data":{"text/plain":["                                           Statement  \\\n","0  AI chatbots have been used to create dozens of...   \n","1  UN chief, envoys in key talks on Afghanistan c...   \n","2  China FM warns of 'dangerous consequences' of ...   \n","3  Brazil's Lula visits Europe amid row over Ukra...   \n","4                  ICTSI reports record year in 2022   \n","\n","                                                Link         Date        Topic  \n","0  /2023/5/1/ai-chatbots-have-been-used-to-create...    a day ago  ukraine war  \n","1  /2023/4/30/un-chief-envoys-in-key-talks-on-afg...   2 days ago  ukraine war  \n","2  /2023/4/21/china-fm-warns-of-dangerous-consequ...  11 days ago  ukraine war  \n","3  /2023/4/21/brazil-s-lula-visits-europe-amid-ro...  11 days ago  ukraine war  \n","4  /2023/4/20/razon-2022-a-record-year-for-ictsi-...  12 days ago  ukraine war  "],"text/html":["\n","  <div id=\"df-42cc2f7b-c80f-4b0c-b3d0-c02c45c77fb2\">\n","    <div class=\"colab-df-container\">\n","      <div>\n","<style scoped>\n","    .dataframe tbody tr th:only-of-type {\n","        vertical-align: middle;\n","    }\n","\n","    .dataframe tbody tr th {\n","        vertical-align: top;\n","    }\n","\n","    .dataframe thead th {\n","        text-align: right;\n","    }\n","</style>\n","<table border=\"1\" class=\"dataframe\">\n","  <thead>\n","    <tr style=\"text-align: right;\">\n","      <th></th>\n","      <th>Statement</th>\n","      <th>Link</th>\n","      <th>Date</th>\n","      <th>Topic</th>\n","    </tr>\n","  </thead>\n","  <tbody>\n","    <tr>\n","      <th>0</th>\n","      <td>AI chatbots have been used to create dozens of...</td>\n","      <td>/2023/5/1/ai-chatbots-have-been-used-to-create...</td>\n","      <td>a day ago</td>\n","      <td>ukraine war</td>\n","    </tr>\n","    <tr>\n","      <th>1</th>\n","      <td>UN chief, envoys in key talks on Afghanistan c...</td>\n","      <td>/2023/4/30/un-chief-envoys-in-key-talks-on-afg...</td>\n","      <td>2 days ago</td>\n","      <td>ukraine war</td>\n","    </tr>\n","    <tr>\n","      <th>2</th>\n","      <td>China FM warns of 'dangerous consequences' of ...</td>\n","      <td>/2023/4/21/china-fm-warns-of-dangerous-consequ...</td>\n","      <td>11 days ago</td>\n","      <td>ukraine war</td>\n","    </tr>\n","    <tr>\n","      <th>3</th>\n","      <td>Brazil's Lula visits Europe amid row over Ukra...</td>\n","      <td>/2023/4/21/brazil-s-lula-visits-europe-amid-ro...</td>\n","      <td>11 days ago</td>\n","      <td>ukraine war</td>\n","    </tr>\n","    <tr>\n","      <th>4</th>\n","      <td>ICTSI reports record year in 2022</td>\n","      <td>/2023/4/20/razon-2022-a-record-year-for-ictsi-...</td>\n","      <td>12 days ago</td>\n","      <td>ukraine war</td>\n","    </tr>\n","  </tbody>\n","</table>\n","</div>\n","      <button class=\"colab-df-convert\" onclick=\"convertToInteractive('df-42cc2f7b-c80f-4b0c-b3d0-c02c45c77fb2')\"\n","              title=\"Convert this dataframe to an interactive table.\"\n","              style=\"display:none;\">\n","        \n","  <svg xmlns=\"http://www.w3.org/2000/svg\" height=\"24px\"viewBox=\"0 0 24 24\"\n","       width=\"24px\">\n","    <path d=\"M0 0h24v24H0V0z\" fill=\"none\"/>\n","    <path d=\"M18.56 5.44l.94 2.06.94-2.06 2.06-.94-2.06-.94-.94-2.06-.94 2.06-2.06.94zm-11 1L8.5 8.5l.94-2.06 2.06-.94-2.06-.94L8.5 2.5l-.94 2.06-2.06.94zm10 10l.94 2.06.94-2.06 2.06-.94-2.06-.94-.94-2.06-.94 2.06-2.06.94z\"/><path d=\"M17.41 7.96l-1.37-1.37c-.4-.4-.92-.59-1.43-.59-.52 0-1.04.2-1.43.59L10.3 9.45l-7.72 7.72c-.78.78-.78 2.05 0 2.83L4 21.41c.39.39.9.59 1.41.59.51 0 1.02-.2 1.41-.59l7.78-7.78 2.81-2.81c.8-.78.8-2.07 0-2.86zM5.41 20L4 18.59l7.72-7.72 1.47 1.35L5.41 20z\"/>\n","  </svg>\n","      </button>\n","      \n","  <style>\n","    .colab-df-container {\n","      display:flex;\n","      flex-wrap:wrap;\n","      gap: 12px;\n","    }\n","\n","    .colab-df-convert {\n","      background-color: #E8F0FE;\n","      border: none;\n","      border-radius: 50%;\n","      cursor: pointer;\n","      display: none;\n","      fill: #1967D2;\n","      height: 32px;\n","      padding: 0 0 0 0;\n","      width: 32px;\n","    }\n","\n","    .colab-df-convert:hover {\n","      background-color: #E2EBFA;\n","      box-shadow: 0px 1px 2px rgba(60, 64, 67, 0.3), 0px 1px 3px 1px rgba(60, 64, 67, 0.15);\n","      fill: #174EA6;\n","    }\n","\n","    [theme=dark] .colab-df-convert {\n","      background-color: #3B4455;\n","      fill: #D2E3FC;\n","    }\n","\n","    [theme=dark] .colab-df-convert:hover {\n","      background-color: #434B5C;\n","      box-shadow: 0px 1px 3px 1px rgba(0, 0, 0, 0.15);\n","      filter: drop-shadow(0px 1px 2px rgba(0, 0, 0, 0.3));\n","      fill: #FFFFFF;\n","    }\n","  </style>\n","\n","      <script>\n","        const buttonEl =\n","          document.querySelector('#df-42cc2f7b-c80f-4b0c-b3d0-c02c45c77fb2 button.colab-df-convert');\n","        buttonEl.style.display =\n","          google.colab.kernel.accessAllowed ? 'block' : 'none';\n","\n","        async function convertToInteractive(key) {\n","          const element = document.querySelector('#df-42cc2f7b-c80f-4b0c-b3d0-c02c45c77fb2');\n","          const dataTable =\n","            await google.colab.kernel.invokeFunction('convertToInteractive',\n","                                                     [key], {});\n","          if (!dataTable) return;\n","\n","          const docLinkHtml = 'Like what you see? Visit the ' +\n","            '<a target=\"_blank\" href=https://colab.research.google.com/notebooks/data_table.ipynb>data table notebook</a>'\n","            + ' to learn more about interactive tables.';\n","          element.innerHTML = '';\n","          dataTable['output_type'] = 'display_data';\n","          await google.colab.output.renderOutput(dataTable, element);\n","          const docLink = document.createElement('div');\n","          docLink.innerHTML = docLinkHtml;\n","          element.appendChild(docLink);\n","        }\n","      </script>\n","    </div>\n","  </div>\n","  "]},"metadata":{},"execution_count":63}]},{"cell_type":"code","source":["data2 = pd.DataFrame(columns=[\"Title\", \"Author\", \"Date\", \"Text\"])\n","filename= f\"{dir+site+'-'+topic}NEWS.csv\"\n","\n","for index, row in data.iterrows():\n","  url = row[\"Link\"] \n","  print(url)\n","\n","  time.sleep(1)   \n","  soup=BeautifulSoup(extract_source(url).text, 'html.parser')\n","\n","  head=soup.find(\"article\", {'id' : 'the-article-content'})\n","  # print(content.prettify())\n","  textList =soup.find(\"article\", {'id' : 'the-article-content'}).find(\"section\", {'class': 'article-content'}).find_all(\"p\")\n","  \n","  \n","  row=[]\n","  try:\n","    Title = head.find('h2',{'class':'title'}).text.strip()\n","    Author = head.find('p',attrs={'class':'author'}).find('a').text[3:].strip()\n","    Date = head.find('p', attrs={'class': 'published'}).text[10:-9].strip(\",\") \n","  except Exception as e:\n","      pass\n","  \n","  body = \"\"\n","  for t in textList:\n","    body += (t.text.replace('\\u200b', '')) +\"\\n\" \n","\n","  row.extend((Title, Author, Date, body))\n","  \n","\n","  data2 = data2.append(pd.Series(row, index=data2.columns[:len(row)]), ignore_index=True)\n","  \n","data2.to_csv(filename)\n","data2.head()"],"metadata":{"id":"5Vt_oQKsLB7S","executionInfo":{"status":"aborted","timestamp":1683017683135,"user_tz":-480,"elapsed":15,"user":{"displayName":"Luis Dela Cruz","userId":"08059294841354101641"}}},"execution_count":null,"outputs":[]},{"cell_type":"markdown","source":["## ABS CBN"],"metadata":{"id":"00MJ5PJZn6M5"}},{"cell_type":"code","source":["## ABS CBN\n","pagesToGet= 2\n","topic = \"Queen Elizabeth Death\"\n","site = \"ABS-CBN_NEWS\"\n","\n","\n","chrome_options = webdriver.ChromeOptions()\n","chrome_options.add_argument('--headless')\n","chrome_options.add_argument('--no-sandbox')\n","chrome_options.add_argument('--disable-dev-shm-usage')\n","userAgent = \"Chrome/105.0.0.0\"\n","chrome_options.add_argument(f\"user-agent={userAgent}\")\n","driver = webdriver.Chrome('chromedriver',options=chrome_options)\n","\n","data=pd.DataFrame(columns=['Title','Link','Date',\"Topic\"])\n","\n","for page in range(1,pagesToGet+1):\n","  url = 'https://news.abs-cbn.com/special-pages/search?q='+topic.replace(\" \", \"%20\")+'&gsc.sort=&gsc.page='+str(page)+'#gsc.tab=0&gsc.q='+topic.replace(\" \", \"%20\")+'&gsc.sort=&gsc.page='+str(page)\n","  print(url)\n","\n","  driver.get(url)\n","  # WebDriverWait(driver, 30).until(EC.visibility_of_element_located((By.ID, '___gcse_0'))) \n","  source = driver.page_source\n","\n","  time.sleep(2)   \n","  soup = BeautifulSoup(source, 'html.parser')\n","  searches = soup.find_all('div', {'class':'gsc-webResult gsc-result'})\n","  filename= f\"{dir}{site}-{topic}-NEWS-List.csv\"     \n","\n","  for x in searches:\n","    frame=[]\n","    Title = x.find('div', class_=\"gs-title\").find(\"a\").text.strip()\n","    Date = x.find('div', class_=\"gs-bidi-start-align gs-snippet\").text[:12].strip()\n","    Link = x.find('a', class_=\"gs-title\")['href']\n","    frame.extend((Title, Link, Date, topic))\n","\n","    data = data.append(pd.Series(frame, index=data.columns[:len(frame)]), ignore_index=True)\n","\n","\n","\n","data.to_csv(filename)\n","driver.quit()\n","data\n","\n","\n","\n"],"metadata":{"id":"qg8vzExe8qtP","executionInfo":{"status":"aborted","timestamp":1683017683136,"user_tz":-480,"elapsed":16,"user":{"displayName":"Luis Dela Cruz","userId":"08059294841354101641"}}},"execution_count":null,"outputs":[]},{"cell_type":"code","source":["data2 = pd.DataFrame(columns=[\"Title\", \"Author\", \"Date\", \"Text\"])\n","filename= f\"{dir+site+'-'+topic}NEWS.csv\"\n","\n","for index, row in data.iterrows():\n","  url = row[\"Link\"] \n","  if ('multimedia/photo' in url):\n","    pass\n","  else:\n","    print(url)\n","\n","    time.sleep(1)   \n","    soup=BeautifulSoup(extract_source(url).text, 'html.parser')\n","      \n","    row=[]\n","    \n","    Title = soup.find('h1',{'class':'news-title'}).text.strip()\n","    Author = soup.find('span',attrs={'class':'editor'}).text.strip()\n","    Date = soup.find('span', attrs={'class': 'date-posted'}).text[:-8].strip() \n","    \n","    textList =soup.find(\"div\", {'class' :'article-content'}).find_all(\"p\")\n","    body = \"\"\n","    for t in textList:\n","      if (t.text != \"RELATED VIDEO:\"):\n","        body += (t.text) +\"\\n\" \n","\n","    row.extend((Title, Author, Date, body))\n","    \n","\n","    data2 = data2.append(pd.Series(row, index=data2.columns[:len(row)]), ignore_index=True)\n","  \n","data2.to_csv(filename)\n","data2.head()"],"metadata":{"id":"YIfu-vRWOzcf","executionInfo":{"status":"aborted","timestamp":1683017683136,"user_tz":-480,"elapsed":16,"user":{"displayName":"Luis Dela Cruz","userId":"08059294841354101641"}}},"execution_count":null,"outputs":[]},{"cell_type":"markdown","source":["## GMA "],"metadata":{"id":"WaPofL-jn9u0"}},{"cell_type":"code","source":["# https://www.gmanetwork.com/news/#/search;query=queen%20elizabeth%20death;sortBy=_score;isDesc=1\n","\n","topic = \"Queen Elizabeth Death\"\n","site = \"GMA-Network\"\n","\n","\n","chrome_options = webdriver.ChromeOptions()\n","chrome_options.add_argument('--headless')\n","chrome_options.add_argument('--no-sandbox')\n","chrome_options.add_argument('--disable-dev-shm-usage')\n","chrome_options.add_argument('--disable-blink-features=AutomationControlled')\n","userAgent = \"Chrome/105.0.0.0\"\n","chrome_options.add_argument(f\"user-agent={userAgent}\")\n","driver = webdriver.Chrome('chromedriver',options=chrome_options)\n","\n","data=pd.DataFrame(columns=['Title','Link','Date',\"Topic\"])\n","\n","url = 'https://www.gmanetwork.com/news/#/search;query='+topic.replace(\" \", \"%20\")+';sortBy=_score;isDesc=1'\n","print(url)\n","\n","driver.get(url)\n","WebDriverWait(driver, 50).until(EC.visibility_of_element_located((By.CLASS_NAME, 'clearfix'))) \n","source = driver.page_source\n","\n","time.sleep(2)   \n","soup = BeautifulSoup(source, 'html.parser')\n","searches = soup.find_all('div', {'class':'zd-row-text-wrap'})\n","filename= f\"{dir}{site}-{topic}-NEWS-List.csv\"     \n","print(len(searches))\n","\n","for x in searches:\n","  frame=[]\n","  Title = x.find('h4', class_=\"zd-result-title ng-star-inserted\").text.strip()\n","  Date = x.find('div', class_=\"zd-result-subTitle ng-star-inserted\").text[:-18].strip()\n","  partialTitle = ' '.join(Title.split()[:8])\n","\n","  try:\n","    Link = \"\"\n","    to_Click = driver.find_element(By.XPATH, f\"//*[contains(text(), '{Title}')]\")\n","    print(to_Click.text)\n","    to_Click.click()\n","    driver.switch_to.window(driver.window_handles[1])\n","    Link = driver.current_url\n","    driver.close()\n","    driver.switch_to.window(driver.window_handles[0])\n","  except Exception as e:\n","    print(\"Something wrong. Error:\", e.split()[0])\n","\n","  frame.extend((Title, Link, Date, topic))\n","\n","  data = data.append(pd.Series(frame, index=data.columns[:len(frame)]), ignore_index=True)\n","\n","data.to_csv(filename)\n","driver.quit()\n","data.head(10)\n"],"metadata":{"id":"RQ9n3DXbUD4G","executionInfo":{"status":"aborted","timestamp":1683017683137,"user_tz":-480,"elapsed":17,"user":{"displayName":"Luis Dela Cruz","userId":"08059294841354101641"}}},"execution_count":null,"outputs":[]},{"cell_type":"code","source":["data"],"metadata":{"id":"rqq5vKh0nHZn","executionInfo":{"status":"aborted","timestamp":1683017683137,"user_tz":-480,"elapsed":17,"user":{"displayName":"Luis Dela Cruz","userId":"08059294841354101641"}}},"execution_count":null,"outputs":[]},{"cell_type":"code","source":["data2 = pd.DataFrame(columns=[\"Title\", \"Author\", \"Date\", \"Text\"])\n","filename= f\"{dir+site+'-'+topic}NEWS.csv\"\n","\n","for index, row in data.iterrows():\n","  url = row[\"Link\"] \n","  if (url == \"\"):\n","    continue\n","  \n","  print(url)\n","  time.sleep(2)   \n","  soup=BeautifulSoup(extract_source(url).text, 'html.parser')\n","    \n","  row=[]\n","  \n","  Title = soup.find('h1',{'class':'story_links'}).text.strip()\n","  Author = soup.find('div',attrs={'class':'main-byline'}).find('div').find('div').text.strip()\n","  Date = soup.find('div', attrs={'class': 'article-time'}).find('time')['datetime'][:10].strip() \n","  \n","  textList =soup.find(\"div\", {'class' :'story_main'}).find_all(\"p\")\n","  body = \"\"\n","  for t in textList:\n","    if (t.find('p', class_=\"ad\")):\n","      pass\n","    else:\n","      body += (t.text) +\"\\n\" \n","\n","  row.extend((Title, Author, Date, body))\n","  \n","\n","  data2 = data2.append(pd.Series(row, index=data2.columns[:len(row)]), ignore_index=True)\n","  \n","data2.to_csv(filename)\n","data2.head()"],"metadata":{"id":"yl8f_da2j_yT","executionInfo":{"status":"aborted","timestamp":1683017683138,"user_tz":-480,"elapsed":17,"user":{"displayName":"Luis Dela Cruz","userId":"08059294841354101641"}}},"execution_count":null,"outputs":[]},{"cell_type":"markdown","source":["# Application"],"metadata":{"id":"DhFATEIp7J54"}},{"cell_type":"markdown","source":["## Scraping Function"],"metadata":{"id":"AAq7YZnx7E6e"}},{"cell_type":"code","source":["def abs_scrape(url):\n","  abs_df = pd.DataFrame(columns=[\"Title\", \"Author\", \"Date\", \"Text\"])\n","\n","  time.sleep(1)   \n","  soup=BeautifulSoup(extract_source(url).text, 'html.parser')\n","    \n","  row=[]\n","  \n","  Title = soup.find('h1',{'class':'news-title'}).text.strip()\n","  Author = soup.find('span',attrs={'class':'editor'}).text.strip()\n","  Date = soup.find('span', attrs={'class': 'date-posted'}).text[:-8].strip() \n","  \n","  textList =soup.find(\"div\", {'class' :'article-content'}).find_all(\"p\")\n","  body = \"\"\n","  for t in textList:\n","    if (t.text != \"RELATED VIDEO:\"):\n","      body += (t.text) +\"\\n\" \n","\n","  row.extend((Title, Author, Date, body))\n","  \n","  abs_df = abs_df.append(pd.Series(row, index=abs_df.columns[:len(row)]), ignore_index=True)\n","  \n","  return abs_df"],"metadata":{"id":"ZYNsYAKK3cpj","executionInfo":{"status":"aborted","timestamp":1683017683138,"user_tz":-480,"elapsed":17,"user":{"displayName":"Luis Dela Cruz","userId":"08059294841354101641"}}},"execution_count":null,"outputs":[]},{"cell_type":"code","source":["def gma_scrape(url):\n","  gma_df = pd.DataFrame(columns=[\"Title\", \"Author\", \"Date\", \"Text\"])\n","  \n","  time.sleep(2)   \n","  soup=BeautifulSoup(extract_source(url).text, 'html.parser')\n","    \n","  row=[]\n","\n","  Title = soup.find('h1',{'class':'story_links'}).text.strip()\n","  Author = soup.find('div',attrs={'class':'main-byline'})\n","  if (Author != None):\n","    Author = Author.find('div').find('div').text.strip() \n","  Date = soup.find('div', attrs={'class': 'article-time'}).find('time')['datetime'][:10].strip() \n","\n","  \n","  textList =soup.find(\"div\", {'class' :'story_main'}).find_all(\"p\")\n","  body = \"\"\n","  for t in textList:\n","    if (t.find('p', class_=\"ad\")):\n","      pass\n","    else:\n","      body += (t.text) +\"\\n\" \n","\n","  row.extend((Title, Author, Date, body))\n","  \n","  gma_df = gma_df.append(pd.Series(row, index=gma_df.columns[:len(row)]), ignore_index=True)\n","\n","  return gma_df\n","  \n"],"metadata":{"id":"rc4Qqqk-7Pi4","executionInfo":{"status":"aborted","timestamp":1683017683139,"user_tz":-480,"elapsed":17,"user":{"displayName":"Luis Dela Cruz","userId":"08059294841354101641"}}},"execution_count":null,"outputs":[]},{"cell_type":"code","source":["def cnn_scrape(url):\n","\n","  chrome_options = webdriver.ChromeOptions()\n","  chrome_options.add_argument('--headless')\n","  chrome_options.add_argument('--no-sandbox')\n","  chrome_options.add_argument('--disable-dev-shm-usage')\n","  chrome_options.add_argument('--disable-blink-features=AutomationControlled')\n","  userAgent = \"Chrome/105.0.0.0\"\n","  chrome_options.add_argument(f\"user-agent={userAgent}\")\n","  driver = webdriver.Chrome('chromedriver',options=chrome_options)\n","\n","  driver.get(url)\n","  WebDriverWait(driver, 50).until(EC.visibility_of_element_located((By.CLASS_NAME, 'title'))) \n","  source = driver.page_source\n","\n","  cnn_df = pd.DataFrame(columns=[\"Title\", \"Author\", \"Date\", \"Text\"])\n","  \n","  soup=BeautifulSoup(source, 'html.parser')\n","  # time.sleep(2)   \n","\n","  # print(soup)\n","  row=[]\n","  \n","  Title = soup.find('h1',{'class':'title'}).text.strip()\n","  Author = soup.find('div',attrs={'class':'author-byline'}).find('p').find('a').text.strip()\n","  Date = soup.find('div', attrs={'class': 'dateLine'}).find('p', {'class': 'dateString no-icon'}).text[10:-11].strip() \n","  \n","  textList =soup.find(\"div\", {'class' :'article-maincontent-p cnn-life-body'}).find_all(\"p\")\n","  body = \"\"\n","  for t in textList:\n","      body += (t.text) +\"\\n\" \n","\n","  row.extend((Title, Author, Date, body))\n","  \n","\n","  cnn_df = cnn_df.append(pd.Series(row, index=cnn_df.columns[:len(row)]), ignore_index=True)\n","\n","  return cnn_df"],"metadata":{"id":"qpXpr6qQkKfP","executionInfo":{"status":"aborted","timestamp":1683017683139,"user_tz":-480,"elapsed":17,"user":{"displayName":"Luis Dela Cruz","userId":"08059294841354101641"}}},"execution_count":null,"outputs":[]},{"cell_type":"code","source":["def clean(df, text, clean_col , sw = [] ):\n","    \"\"\"\n","    Remove blank texts, replaces text with lower case characters,\n","    remove special characters, remove other special texts like URLs and Twitter handles, \n","    remove leading and trailing whitespaces, and remove stopwords.\n","    \"\"\"\n","\n","    # Remove blank texts\n","    df[clean_col] = df[text].fillna('')     \n","\n","    # Transform into lowercase\n","    df[clean_col] = df[clean_col].str.lower()\n","\n","    # # Remove non-alphanumeric characters\n","    df[clean_col] = df[clean_col].str.replace(r'(@[A-Za-z0-9_]+)|([^A-Za-z0-9_ \\t])|(\\w+:\\/\\/\\S+)', '')\n","    \n","    # # Lemmatize verbs\n","    # df['cleaned_text'] = df['cleaned_text'].apply(lambda row: ' '.join([lemmatizer.lemmatize(x, 'v') for x in row.split()]))\n","\n","    # # Lemmatize adjectives\n","    # df['cleaned_text'] = df['cleaned_text'].apply(lambda row: ' '.join([lemmatizer.lemmatize(x, 'a') for x in row.split()]))\n","\n","    # # Lemmatize nouns\n","    # df['cleaned_text'] = df['cleaned_text'].apply(lambda row: ' '.join([lemmatizer.lemmatize(x, 'n') for x in row.split()]))\n","\n","    # Remove trailing and leading whitespaces\n","    df[clean_col] = df[clean_col].str.replace(r'^\\s+|\\s+$', '')\n","\n","    # # Remove stopwords \n","    df[clean_col] = df[clean_col].apply(lambda row: ' '.join([word for word in row.split() if word not in (stopwords + sw)])) \n","\n","    return df"],"metadata":{"id":"oAGB3dkZFyo1","executionInfo":{"status":"aborted","timestamp":1683017683140,"user_tz":-480,"elapsed":18,"user":{"displayName":"Luis Dela Cruz","userId":"08059294841354101641"}}},"execution_count":null,"outputs":[]},{"cell_type":"code","source":["def senti_Analysis(df, col, colLabel ):\n","  sia = SentimentIntensityAnalyzer()\n","  newcol = {'compoundScore' : [sia.polarity_scores(entry) for entry in col]}\n","  if (colLabel in df.columns):\n","      df[colLabel] =  newcol['compoundScore']\n","  else:\n","    df.insert(df.shape[1], colLabel, newcol['compoundScore'])\n","  "],"metadata":{"id":"b-Xwekv-LJOo","executionInfo":{"status":"aborted","timestamp":1683017683140,"user_tz":-480,"elapsed":18,"user":{"displayName":"Luis Dela Cruz","userId":"08059294841354101641"}}},"execution_count":null,"outputs":[]},{"cell_type":"markdown","source":["## Scrape"],"metadata":{"id":"nnlTbHfAQvlq"}},{"cell_type":"code","source":["df_ = pd.DataFrame(columns=[\"Title\", \"Author\", \"Date\", \"Text\"])\n","df_ = df_.append(abs_scrape(\"https://news.abs-cbn.com/news/09/29/22/ovp-eyes-coconut-palace-as-permanent-home\"), ignore_index=True)\n","df_ = df_.append(gma_scrape(\"https://www.gmanetwork.com/news/topstories/nation/846433/sara-duterte-ovp-in-talks-with-gsis-for-possible-acquisition-of-coconut-palace/story/\"), ignore_index=True)\n","df_.head()"],"metadata":{"id":"rLC433D46a3-","executionInfo":{"status":"aborted","timestamp":1683017683141,"user_tz":-480,"elapsed":19,"user":{"displayName":"Luis Dela Cruz","userId":"08059294841354101641"}}},"execution_count":null,"outputs":[]},{"cell_type":"markdown","source":["### Oct 6"],"metadata":{"id":"pNL6TdVmlv9-"}},{"cell_type":"code","source":["df = pd.DataFrame(columns=[\"Title\", \"Author\", \"Date\", \"Text\"])\n","abscbn = abs_scrape('https://news.abs-cbn.com/news/10/04/22/who-funded-marcos-sg-trip-not-relevant-says-bersamin')\n","gma = gma_scrape('https://www.gmanetwork.com/news/topstories/nation/846954/palace-marcos-performed-job-as-president-in-singapore/story/?just_in')\n","cnn = cnn_scrape('https://www.cnnphilippines.com/news/2022/10/4/Marcos-entitled-to-private-time-funding-source-irrelevant.html')\n","\n","df = df.append(abscbn)\n","df = df.append(gma)\n","df = df.append(cnn)\n"],"metadata":{"id":"5CHCl7HSlz0q","executionInfo":{"status":"aborted","timestamp":1683017683141,"user_tz":-480,"elapsed":19,"user":{"displayName":"Luis Dela Cruz","userId":"08059294841354101641"}}},"execution_count":null,"outputs":[]},{"cell_type":"code","source":["addedFilter = ['executive', 'president', 'trip', 'marcos', 'bersamin']\n","visualize((clean(abscbn,\"Text\", \"cleanText\",addedFilter )), \"cleanText\", \"ABS-CBN\")\n","visualize((clean(gma,\"Text\", \"cleanText\",addedFilter)), \"cleanText\", \"GMA\")\n","visualize((clean(cnn,\"Text\", \"cleanText\", addedFilter)), \"cleanText\", \"CNN\")"],"metadata":{"id":"5BcNpnAOmTVK","executionInfo":{"status":"aborted","timestamp":1683017683141,"user_tz":-480,"elapsed":19,"user":{"displayName":"Luis Dela Cruz","userId":"08059294841354101641"}}},"execution_count":null,"outputs":[]},{"cell_type":"code","source":[],"metadata":{"id":"bDJELKBYpmE_","executionInfo":{"status":"aborted","timestamp":1683017683143,"user_tz":-480,"elapsed":21,"user":{"displayName":"Luis Dela Cruz","userId":"08059294841354101641"}}},"execution_count":null,"outputs":[]},{"cell_type":"code","source":["df_clean= clean(df_, 'Text', 'clean_Textbody')\n","df_clean= clean(df_, 'Title', 'clean_Title')\n","df_clean[\"clean_Body_Title\"] = df_clean[\"clean_Title\"].str.cat(df_clean[\"clean_Textbody\"], sep = \"\\n\")\n","df_clean.head()"],"metadata":{"id":"hA-nRcFf9Bsv","executionInfo":{"status":"aborted","timestamp":1683017683144,"user_tz":-480,"elapsed":21,"user":{"displayName":"Luis Dela Cruz","userId":"08059294841354101641"}}},"execution_count":null,"outputs":[]},{"cell_type":"code","source":["def POS(df, dfCol, colLabel):\n","  POS = []\n","  for index, row in df.iterrows():\n","    # print(type(row[dfCol]), row[dfCol])\n","    tokenized = sent_tokenize(row[dfCol])\n","    for i in tokenized:\n","      \n","      # Word tokenizers is used to find the words\n","      # and punctuation in a string\n","      wordsList = nltk.word_tokenize(i)\n","\n","      wordsList = [w for w in wordsList if not w in stopwords]\n","  \n","      #  Using a Tagger. Which is part-of-speech\n","      # tagger or POS-tagger.\n","      tagged = nltk.pos_tag(wordsList)\n","      POS.append(tagged)\n","    df.loc[index, colLabel] =  POS\n","    \n"," "],"metadata":{"id":"Jler8A6aRQk9","executionInfo":{"status":"aborted","timestamp":1683017683144,"user_tz":-480,"elapsed":21,"user":{"displayName":"Luis Dela Cruz","userId":"08059294841354101641"}}},"execution_count":null,"outputs":[]},{"cell_type":"code","source":["# https://www.geeksforgeeks.org/part-speech-tagging-stop-words-using-nltk-python/\n","POS(df_clean, 'clean_Body_Title', \"POS\")\n","df_clean\n"],"metadata":{"id":"UwQo58BZSTbd","executionInfo":{"status":"aborted","timestamp":1683017683145,"user_tz":-480,"elapsed":22,"user":{"displayName":"Luis Dela Cruz","userId":"08059294841354101641"}}},"execution_count":null,"outputs":[]},{"cell_type":"code","source":["df_clean.to_csv(f\"{dir}textCompare.csv\")"],"metadata":{"id":"Mx6UTXguaEq5","executionInfo":{"status":"aborted","timestamp":1683017683145,"user_tz":-480,"elapsed":22,"user":{"displayName":"Luis Dela Cruz","userId":"08059294841354101641"}}},"execution_count":null,"outputs":[]}]}
=======
{
  "nbformat": 4,
  "nbformat_minor": 0,
  "metadata": {
    "colab": {
      "provenance": [],
      "toc_visible": true,
      "include_colab_link": true
    },
    "kernelspec": {
      "name": "python3",
      "display_name": "Python 3"
    },
    "language_info": {
      "name": "python"
    }
  },
  "cells": [
    {
      "cell_type": "markdown",
      "metadata": {
        "id": "view-in-github",
        "colab_type": "text"
      },
      "source": [
        "<a href=\"https://colab.research.google.com/github/jmlDC/MediaBias-Thesis22-23/blob/Developing-Tool/Scraper.ipynb\" target=\"_parent\"><img src=\"https://colab.research.google.com/assets/colab-badge.svg\" alt=\"Open In Colab\"/></a>"
      ]
    },
    {
      "cell_type": "markdown",
      "source": [
        "# MEDIA BIAS Thesis"
      ],
      "metadata": {
        "id": "5UbRZ1dHzH2h"
      }
    },
    {
      "cell_type": "markdown",
      "source": [
        "# Setting up Environment"
      ],
      "metadata": {
        "id": "9DnFpdsboI45"
      }
    },
    {
      "cell_type": "markdown",
      "source": [
        "### PIP install"
      ],
      "metadata": {
        "id": "Pk8TPLKJoaiD"
      }
    },
    {
      "cell_type": "code",
      "source": [
        "!pip3 install requests-html"
      ],
      "metadata": {
        "id": "qhBA8KY9oipI",
        "colab": {
          "base_uri": "https://localhost:8080/"
        },
        "outputId": "84208b28-340e-4f53-b576-0474ad2f0a8b"
      },
      "execution_count": 1,
      "outputs": [
        {
          "output_type": "stream",
          "name": "stdout",
          "text": [
            "Looking in indexes: https://pypi.org/simple, https://us-python.pkg.dev/colab-wheels/public/simple/\n",
            "Collecting requests-html\n",
            "  Downloading requests_html-0.10.0-py3-none-any.whl (13 kB)\n",
            "Collecting w3lib\n",
            "  Downloading w3lib-2.1.1-py3-none-any.whl (21 kB)\n",
            "Collecting pyquery\n",
            "  Downloading pyquery-2.0.0-py3-none-any.whl (22 kB)\n",
            "Collecting fake-useragent\n",
            "  Downloading fake_useragent-1.1.3-py3-none-any.whl (50 kB)\n",
            "\u001b[2K     \u001b[90m━━━━━━━━━━━━━━━━━━━━━━━━━━━━━━━━━━━━━━━━\u001b[0m \u001b[32m50.5/50.5 kB\u001b[0m \u001b[31m3.4 MB/s\u001b[0m eta \u001b[36m0:00:00\u001b[0m\n",
            "\u001b[?25hRequirement already satisfied: requests in /usr/local/lib/python3.10/dist-packages (from requests-html) (2.27.1)\n",
            "Collecting pyppeteer>=0.0.14\n",
            "  Downloading pyppeteer-1.0.2-py3-none-any.whl (83 kB)\n",
            "\u001b[2K     \u001b[90m━━━━━━━━━━━━━━━━━━━━━━━━━━━━━━━━━━━━━━━━\u001b[0m \u001b[32m83.4/83.4 kB\u001b[0m \u001b[31m5.8 MB/s\u001b[0m eta \u001b[36m0:00:00\u001b[0m\n",
            "\u001b[?25hCollecting parse\n",
            "  Downloading parse-1.19.0.tar.gz (30 kB)\n",
            "  Preparing metadata (setup.py) ... \u001b[?25l\u001b[?25hdone\n",
            "Collecting bs4\n",
            "  Downloading bs4-0.0.1.tar.gz (1.1 kB)\n",
            "  Preparing metadata (setup.py) ... \u001b[?25l\u001b[?25hdone\n",
            "Collecting websockets<11.0,>=10.0\n",
            "  Downloading websockets-10.4-cp310-cp310-manylinux_2_5_x86_64.manylinux1_x86_64.manylinux_2_17_x86_64.manylinux2014_x86_64.whl (106 kB)\n",
            "\u001b[2K     \u001b[90m━━━━━━━━━━━━━━━━━━━━━━━━━━━━━━━━━━━━━━\u001b[0m \u001b[32m106.8/106.8 kB\u001b[0m \u001b[31m14.0 MB/s\u001b[0m eta \u001b[36m0:00:00\u001b[0m\n",
            "\u001b[?25hCollecting importlib-metadata>=1.4\n",
            "  Downloading importlib_metadata-6.6.0-py3-none-any.whl (22 kB)\n",
            "Requirement already satisfied: urllib3<2.0.0,>=1.25.8 in /usr/local/lib/python3.10/dist-packages (from pyppeteer>=0.0.14->requests-html) (1.26.15)\n",
            "Requirement already satisfied: appdirs<2.0.0,>=1.4.3 in /usr/local/lib/python3.10/dist-packages (from pyppeteer>=0.0.14->requests-html) (1.4.4)\n",
            "Collecting pyee<9.0.0,>=8.1.0\n",
            "  Downloading pyee-8.2.2-py2.py3-none-any.whl (12 kB)\n",
            "Requirement already satisfied: tqdm<5.0.0,>=4.42.1 in /usr/local/lib/python3.10/dist-packages (from pyppeteer>=0.0.14->requests-html) (4.65.0)\n",
            "Requirement already satisfied: certifi>=2021 in /usr/local/lib/python3.10/dist-packages (from pyppeteer>=0.0.14->requests-html) (2022.12.7)\n",
            "Requirement already satisfied: beautifulsoup4 in /usr/local/lib/python3.10/dist-packages (from bs4->requests-html) (4.11.2)\n",
            "Requirement already satisfied: lxml>=2.1 in /usr/local/lib/python3.10/dist-packages (from pyquery->requests-html) (4.9.2)\n",
            "Collecting cssselect>=1.2.0\n",
            "  Downloading cssselect-1.2.0-py2.py3-none-any.whl (18 kB)\n",
            "Requirement already satisfied: idna<4,>=2.5 in /usr/local/lib/python3.10/dist-packages (from requests->requests-html) (3.4)\n",
            "Requirement already satisfied: charset-normalizer~=2.0.0 in /usr/local/lib/python3.10/dist-packages (from requests->requests-html) (2.0.12)\n",
            "Requirement already satisfied: zipp>=0.5 in /usr/local/lib/python3.10/dist-packages (from importlib-metadata>=1.4->pyppeteer>=0.0.14->requests-html) (3.15.0)\n",
            "Requirement already satisfied: soupsieve>1.2 in /usr/local/lib/python3.10/dist-packages (from beautifulsoup4->bs4->requests-html) (2.4.1)\n",
            "Building wheels for collected packages: bs4, parse\n",
            "  Building wheel for bs4 (setup.py) ... \u001b[?25l\u001b[?25hdone\n",
            "  Created wheel for bs4: filename=bs4-0.0.1-py3-none-any.whl size=1270 sha256=8e18397db466b4ecd08eacf77cf276793e937728e5c2df6c074ab71447d71c03\n",
            "  Stored in directory: /root/.cache/pip/wheels/25/42/45/b773edc52acb16cd2db4cf1a0b47117e2f69bb4eb300ed0e70\n",
            "  Building wheel for parse (setup.py) ... \u001b[?25l\u001b[?25hdone\n",
            "  Created wheel for parse: filename=parse-1.19.0-py3-none-any.whl size=24589 sha256=d8015e543ae348c41a276a6a7e0445868bf15e330df7ee31737762c7057e7aa2\n",
            "  Stored in directory: /root/.cache/pip/wheels/70/4b/f0/eaf5a8de646d8676dc25caa01949b9f9d883b8fa2efb435bc3\n",
            "Successfully built bs4 parse\n",
            "Installing collected packages: pyee, parse, fake-useragent, websockets, w3lib, importlib-metadata, cssselect, pyquery, pyppeteer, bs4, requests-html\n",
            "Successfully installed bs4-0.0.1 cssselect-1.2.0 fake-useragent-1.1.3 importlib-metadata-6.6.0 parse-1.19.0 pyee-8.2.2 pyppeteer-1.0.2 pyquery-2.0.0 requests-html-0.10.0 w3lib-2.1.1 websockets-10.4\n"
          ]
        }
      ]
    },
    {
      "cell_type": "markdown",
      "source": [
        "### Imports"
      ],
      "metadata": {
        "id": "4BDsarMioPoQ"
      }
    },
    {
      "cell_type": "code",
      "source": [
        "import warnings\n",
        "warnings.simplefilter(action='ignore', category=FutureWarning)"
      ],
      "metadata": {
        "id": "cDvttYykhT5g"
      },
      "execution_count": null,
      "outputs": []
    },
    {
      "cell_type": "code",
      "source": [
        "%%shell\n",
        "# Ubuntu no longer distributes chromium-browser outside of snap\n",
        "#\n",
        "# Proposed solution: https://askubuntu.com/questions/1204571/how-to-install-chromium-without-snap\n",
        "\n",
        "# Add debian buster\n",
        "cat > /etc/apt/sources.list.d/debian.list <<'EOF'\n",
        "deb [arch=amd64 signed-by=/usr/share/keyrings/debian-buster.gpg] http://deb.debian.org/debian buster main\n",
        "deb [arch=amd64 signed-by=/usr/share/keyrings/debian-buster-updates.gpg] http://deb.debian.org/debian buster-updates main\n",
        "deb [arch=amd64 signed-by=/usr/share/keyrings/debian-security-buster.gpg] http://deb.debian.org/debian-security buster/updates main\n",
        "EOF\n",
        "\n",
        "# Add keys\n",
        "apt-key adv --keyserver keyserver.ubuntu.com --recv-keys DCC9EFBF77E11517\n",
        "apt-key adv --keyserver keyserver.ubuntu.com --recv-keys 648ACFD622F3D138\n",
        "apt-key adv --keyserver keyserver.ubuntu.com --recv-keys 112695A0E562B32A\n",
        "\n",
        "apt-key export 77E11517 | gpg --dearmour -o /usr/share/keyrings/debian-buster.gpg\n",
        "apt-key export 22F3D138 | gpg --dearmour -o /usr/share/keyrings/debian-buster-updates.gpg\n",
        "apt-key export E562B32A | gpg --dearmour -o /usr/share/keyrings/debian-security-buster.gpg\n",
        "\n",
        "# Prefer debian repo for chromium* packages only\n",
        "# Note the double-blank lines between entries\n",
        "cat > /etc/apt/preferences.d/chromium.pref << 'EOF'\n",
        "Package: *\n",
        "Pin: release a=eoan\n",
        "Pin-Priority: 500\n",
        "\n",
        "\n",
        "Package: *\n",
        "Pin: origin \"deb.debian.org\"\n",
        "Pin-Priority: 300\n",
        "\n",
        "\n",
        "Package: chromium*\n",
        "Pin: origin \"deb.debian.org\"\n",
        "Pin-Priority: 700\n",
        "EOF\n",
        "\n",
        "# Install chromium and chromium-driver\n",
        "apt-get update\n",
        "apt-get install chromium\n",
        "\n",
        "# Install xvfb\n",
        "apt install -y xvfb\n",
        "\n",
        "# Install Selenium-Profiles\n",
        "pip uninstall -y selenium_profiles\n",
        "pip install --no-cache-dir selenium_profiles>=2.2.6\n",
        "\n",
        "# pip install https://github.com/kaliiiiiiiiii/Selenium-Profiles/archive/refs/heads/dev.zip # dev-branch\n",
        "\n",
        "# install python packages\n",
        "pip install google-colab-shell\n",
        "pip install webdriver-manager\n",
        "pip install Pyvirtualdisplay "
      ],
      "metadata": {
        "id": "8WwnQpm7DWhS",
        "outputId": "f7ef07e8-8090-4165-f6d5-bf8d49a7924d",
        "colab": {
          "base_uri": "https://localhost:8080/"
        }
      },
      "execution_count": 2,
      "outputs": [
        {
          "output_type": "stream",
          "name": "stdout",
          "text": [
            "Executing: /tmp/apt-key-gpghome.mh5NzwwcNr/gpg.1.sh --keyserver keyserver.ubuntu.com --recv-keys DCC9EFBF77E11517\n",
            "gpg: key DCC9EFBF77E11517: public key \"Debian Stable Release Key (10/buster) <debian-release@lists.debian.org>\" imported\n",
            "gpg: Total number processed: 1\n",
            "gpg:               imported: 1\n",
            "Executing: /tmp/apt-key-gpghome.bEA7nhTqPd/gpg.1.sh --keyserver keyserver.ubuntu.com --recv-keys 648ACFD622F3D138\n",
            "gpg: key DC30D7C23CBBABEE: public key \"Debian Archive Automatic Signing Key (10/buster) <ftpmaster@debian.org>\" imported\n",
            "gpg: Total number processed: 1\n",
            "gpg:               imported: 1\n",
            "Executing: /tmp/apt-key-gpghome.nyosNtr3iR/gpg.1.sh --keyserver keyserver.ubuntu.com --recv-keys 112695A0E562B32A\n",
            "gpg: key 4DFAB270CAA96DFA: public key \"Debian Security Archive Automatic Signing Key (10/buster) <ftpmaster@debian.org>\" imported\n",
            "gpg: Total number processed: 1\n",
            "gpg:               imported: 1\n",
            "Warning: apt-key output should not be parsed (stdout is not a terminal)\n",
            "Warning: apt-key output should not be parsed (stdout is not a terminal)\n",
            "Warning: apt-key output should not be parsed (stdout is not a terminal)\n",
            "Get:1 http://deb.debian.org/debian buster InRelease [122 kB]\n",
            "Get:2 http://deb.debian.org/debian buster-updates InRelease [56.6 kB]\n",
            "Get:3 http://deb.debian.org/debian-security buster/updates InRelease [34.8 kB]\n",
            "Get:4 https://cloud.r-project.org/bin/linux/ubuntu focal-cran40/ InRelease [3,622 B]\n",
            "Get:5 https://developer.download.nvidia.com/compute/cuda/repos/ubuntu2004/x86_64  InRelease [1,581 B]\n",
            "Get:6 http://deb.debian.org/debian buster/main amd64 Packages [10.7 MB]\n",
            "Hit:7 http://ppa.launchpad.net/c2d4u.team/c2d4u4.0+/ubuntu focal InRelease\n",
            "Get:8 http://security.ubuntu.com/ubuntu focal-security InRelease [114 kB]\n",
            "Hit:9 http://archive.ubuntu.com/ubuntu focal InRelease\n",
            "Get:10 http://deb.debian.org/debian buster-updates/main amd64 Packages [9,745 B]\n",
            "Hit:11 http://ppa.launchpad.net/cran/libgit2/ubuntu focal InRelease\n",
            "Get:12 http://archive.ubuntu.com/ubuntu focal-updates InRelease [114 kB]\n",
            "Get:13 http://deb.debian.org/debian-security buster/updates/main amd64 Packages [620 kB]\n",
            "Hit:14 http://ppa.launchpad.net/deadsnakes/ppa/ubuntu focal InRelease\n",
            "Hit:15 http://ppa.launchpad.net/graphics-drivers/ppa/ubuntu focal InRelease\n",
            "Get:16 https://developer.download.nvidia.com/compute/cuda/repos/ubuntu2004/x86_64  Packages [1,006 kB]\n",
            "Get:17 http://archive.ubuntu.com/ubuntu focal-backports InRelease [108 kB]\n",
            "Hit:18 http://ppa.launchpad.net/ubuntugis/ppa/ubuntu focal InRelease\n",
            "Get:19 http://security.ubuntu.com/ubuntu focal-security/main amd64 Packages [2,668 kB]\n",
            "Get:20 http://archive.ubuntu.com/ubuntu focal-updates/main amd64 Packages [3,150 kB]\n",
            "Fetched 18.8 MB in 2s (8,531 kB/s)\n",
            "Reading package lists... Done\n",
            "Reading package lists... Done\n",
            "Building dependency tree       \n",
            "Reading state information... Done\n",
            "The following additional packages will be installed:\n",
            "  chromium-common chromium-sandbox libevent-2.1-6 libfontenc1 libicu63\n",
            "  libimobiledevice6 libjpeg62-turbo libplist3 libre2-5 libu2f-udev libudev1\n",
            "  libupower-glib3 libusbmuxd6 libvpx5 libxkbfile1 libxtst6 libxxf86dga1\n",
            "  notification-daemon udev upower usbmuxd x11-utils\n",
            "Suggested packages:\n",
            "  chromium-l10n chromium-shell chromium-driver libusbmuxd-tools mesa-utils\n",
            "The following NEW packages will be installed:\n",
            "  chromium chromium-common chromium-sandbox libevent-2.1-6 libfontenc1\n",
            "  libicu63 libimobiledevice6 libjpeg62-turbo libplist3 libre2-5 libu2f-udev\n",
            "  libupower-glib3 libusbmuxd6 libvpx5 libxkbfile1 libxtst6 libxxf86dga1\n",
            "  notification-daemon udev upower usbmuxd x11-utils\n",
            "The following packages will be upgraded:\n",
            "  libudev1\n",
            "1 upgraded, 22 newly installed, 0 to remove and 23 not upgraded.\n",
            "Need to get 71.5 MB of archives.\n",
            "After this operation, 253 MB of additional disk space will be used.\n",
            "Get:1 http://deb.debian.org/debian buster/main amd64 libevent-2.1-6 amd64 2.1.8-stable-4 [177 kB]\n",
            "Get:2 http://deb.debian.org/debian buster/main amd64 libicu63 amd64 63.1-6+deb10u3 [8,293 kB]\n",
            "Get:3 http://archive.ubuntu.com/ubuntu focal-updates/main amd64 libudev1 amd64 245.4-4ubuntu3.21 [75.9 kB]\n",
            "Get:4 http://deb.debian.org/debian buster/main amd64 libjpeg62-turbo amd64 1:1.5.2-2+deb10u1 [133 kB]\n",
            "Get:5 http://deb.debian.org/debian buster/main amd64 libvpx5 amd64 1.7.0-3+deb10u1 [800 kB]\n",
            "Get:6 http://deb.debian.org/debian buster/main amd64 chromium-common amd64 90.0.4430.212-1~deb10u1 [1,423 kB]\n",
            "Get:7 http://deb.debian.org/debian buster/main amd64 chromium amd64 90.0.4430.212-1~deb10u1 [58.3 MB]\n",
            "Get:8 http://archive.ubuntu.com/ubuntu focal-updates/main amd64 udev amd64 245.4-4ubuntu3.21 [1,366 kB]\n",
            "Get:9 http://archive.ubuntu.com/ubuntu focal/main amd64 libre2-5 amd64 20200101+dfsg-1build1 [162 kB]\n",
            "Get:10 http://archive.ubuntu.com/ubuntu focal/main amd64 libfontenc1 amd64 1:1.1.4-0ubuntu1 [14.0 kB]\n",
            "Get:11 http://archive.ubuntu.com/ubuntu focal/main amd64 libxkbfile1 amd64 1:1.1.0-1 [65.3 kB]\n",
            "Get:12 http://archive.ubuntu.com/ubuntu focal/main amd64 libxtst6 amd64 2:1.2.3-1 [12.8 kB]\n",
            "Get:13 http://archive.ubuntu.com/ubuntu focal/main amd64 libxxf86dga1 amd64 2:1.1.5-0ubuntu1 [12.0 kB]\n",
            "Get:14 http://archive.ubuntu.com/ubuntu focal/main amd64 x11-utils amd64 7.7+5 [199 kB]\n",
            "Get:15 http://archive.ubuntu.com/ubuntu focal/main amd64 libplist3 amd64 2.1.0-4build2 [31.6 kB]\n",
            "Get:16 http://archive.ubuntu.com/ubuntu focal/main amd64 libusbmuxd6 amd64 2.0.1-2 [19.1 kB]\n",
            "Get:17 http://archive.ubuntu.com/ubuntu focal/main amd64 libimobiledevice6 amd64 1.2.1~git20191129.9f79242-1build1 [65.2 kB]\n",
            "Get:18 http://archive.ubuntu.com/ubuntu focal/main amd64 libu2f-udev all 1.1.10-1 [6,108 B]\n",
            "Get:19 http://archive.ubuntu.com/ubuntu focal/main amd64 libupower-glib3 amd64 0.99.11-1build2 [43.2 kB]\n",
            "Get:20 http://archive.ubuntu.com/ubuntu focal/universe amd64 notification-daemon amd64 3.20.0-4 [37.0 kB]\n",
            "Get:21 http://archive.ubuntu.com/ubuntu focal/main amd64 upower amd64 0.99.11-1build2 [104 kB]\n",
            "Get:22 http://archive.ubuntu.com/ubuntu focal/main amd64 usbmuxd amd64 1.1.1~git20191130.9af2b12-1 [38.4 kB]\n",
            "Get:23 http://deb.debian.org/debian buster/main amd64 chromium-sandbox amd64 90.0.4430.212-1~deb10u1 [146 kB]\n",
            "Fetched 71.5 MB in 2s (35.3 MB/s)\n",
            "(Reading database ... 122518 files and directories currently installed.)\n",
            "Preparing to unpack .../libudev1_245.4-4ubuntu3.21_amd64.deb ...\n",
            "Unpacking libudev1:amd64 (245.4-4ubuntu3.21) over (245.4-4ubuntu3.19) ...\n",
            "Setting up libudev1:amd64 (245.4-4ubuntu3.21) ...\n",
            "Selecting previously unselected package udev.\n",
            "(Reading database ... 122518 files and directories currently installed.)\n",
            "Preparing to unpack .../00-udev_245.4-4ubuntu3.21_amd64.deb ...\n",
            "Unpacking udev (245.4-4ubuntu3.21) ...\n",
            "Selecting previously unselected package libevent-2.1-6:amd64.\n",
            "Preparing to unpack .../01-libevent-2.1-6_2.1.8-stable-4_amd64.deb ...\n",
            "Unpacking libevent-2.1-6:amd64 (2.1.8-stable-4) ...\n",
            "Selecting previously unselected package libicu63:amd64.\n",
            "Preparing to unpack .../02-libicu63_63.1-6+deb10u3_amd64.deb ...\n",
            "Unpacking libicu63:amd64 (63.1-6+deb10u3) ...\n",
            "Selecting previously unselected package libjpeg62-turbo:amd64.\n",
            "Preparing to unpack .../03-libjpeg62-turbo_1%3a1.5.2-2+deb10u1_amd64.deb ...\n",
            "Unpacking libjpeg62-turbo:amd64 (1:1.5.2-2+deb10u1) ...\n",
            "Selecting previously unselected package libre2-5:amd64.\n",
            "Preparing to unpack .../04-libre2-5_20200101+dfsg-1build1_amd64.deb ...\n",
            "Unpacking libre2-5:amd64 (20200101+dfsg-1build1) ...\n",
            "Selecting previously unselected package libvpx5:amd64.\n",
            "Preparing to unpack .../05-libvpx5_1.7.0-3+deb10u1_amd64.deb ...\n",
            "Unpacking libvpx5:amd64 (1.7.0-3+deb10u1) ...\n",
            "Selecting previously unselected package libfontenc1:amd64.\n",
            "Preparing to unpack .../06-libfontenc1_1%3a1.1.4-0ubuntu1_amd64.deb ...\n",
            "Unpacking libfontenc1:amd64 (1:1.1.4-0ubuntu1) ...\n",
            "Selecting previously unselected package libxkbfile1:amd64.\n",
            "Preparing to unpack .../07-libxkbfile1_1%3a1.1.0-1_amd64.deb ...\n",
            "Unpacking libxkbfile1:amd64 (1:1.1.0-1) ...\n",
            "Selecting previously unselected package libxtst6:amd64.\n",
            "Preparing to unpack .../08-libxtst6_2%3a1.2.3-1_amd64.deb ...\n",
            "Unpacking libxtst6:amd64 (2:1.2.3-1) ...\n",
            "Selecting previously unselected package libxxf86dga1:amd64.\n",
            "Preparing to unpack .../09-libxxf86dga1_2%3a1.1.5-0ubuntu1_amd64.deb ...\n",
            "Unpacking libxxf86dga1:amd64 (2:1.1.5-0ubuntu1) ...\n",
            "Selecting previously unselected package x11-utils.\n",
            "Preparing to unpack .../10-x11-utils_7.7+5_amd64.deb ...\n",
            "Unpacking x11-utils (7.7+5) ...\n",
            "Selecting previously unselected package chromium-common.\n",
            "Preparing to unpack .../11-chromium-common_90.0.4430.212-1~deb10u1_amd64.deb ...\n",
            "Unpacking chromium-common (90.0.4430.212-1~deb10u1) ...\n",
            "Selecting previously unselected package chromium.\n",
            "Preparing to unpack .../12-chromium_90.0.4430.212-1~deb10u1_amd64.deb ...\n",
            "Unpacking chromium (90.0.4430.212-1~deb10u1) ...\n",
            "Selecting previously unselected package chromium-sandbox.\n",
            "Preparing to unpack .../13-chromium-sandbox_90.0.4430.212-1~deb10u1_amd64.deb ...\n",
            "Unpacking chromium-sandbox (90.0.4430.212-1~deb10u1) ...\n",
            "Selecting previously unselected package libplist3:amd64.\n",
            "Preparing to unpack .../14-libplist3_2.1.0-4build2_amd64.deb ...\n",
            "Unpacking libplist3:amd64 (2.1.0-4build2) ...\n",
            "Selecting previously unselected package libusbmuxd6:amd64.\n",
            "Preparing to unpack .../15-libusbmuxd6_2.0.1-2_amd64.deb ...\n",
            "Unpacking libusbmuxd6:amd64 (2.0.1-2) ...\n",
            "Selecting previously unselected package libimobiledevice6:amd64.\n",
            "Preparing to unpack .../16-libimobiledevice6_1.2.1~git20191129.9f79242-1build1_amd64.deb ...\n",
            "Unpacking libimobiledevice6:amd64 (1.2.1~git20191129.9f79242-1build1) ...\n",
            "Selecting previously unselected package libu2f-udev.\n",
            "Preparing to unpack .../17-libu2f-udev_1.1.10-1_all.deb ...\n",
            "Unpacking libu2f-udev (1.1.10-1) ...\n",
            "Selecting previously unselected package libupower-glib3:amd64.\n",
            "Preparing to unpack .../18-libupower-glib3_0.99.11-1build2_amd64.deb ...\n",
            "Unpacking libupower-glib3:amd64 (0.99.11-1build2) ...\n",
            "Selecting previously unselected package notification-daemon.\n",
            "Preparing to unpack .../19-notification-daemon_3.20.0-4_amd64.deb ...\n",
            "Unpacking notification-daemon (3.20.0-4) ...\n",
            "Selecting previously unselected package upower.\n",
            "Preparing to unpack .../20-upower_0.99.11-1build2_amd64.deb ...\n",
            "Unpacking upower (0.99.11-1build2) ...\n",
            "Selecting previously unselected package usbmuxd.\n",
            "Preparing to unpack .../21-usbmuxd_1.1.1~git20191130.9af2b12-1_amd64.deb ...\n",
            "Unpacking usbmuxd (1.1.1~git20191130.9af2b12-1) ...\n",
            "Setting up libplist3:amd64 (2.1.0-4build2) ...\n",
            "Setting up libxtst6:amd64 (2:1.2.3-1) ...\n",
            "Setting up libxxf86dga1:amd64 (2:1.1.5-0ubuntu1) ...\n",
            "Setting up chromium-sandbox (90.0.4430.212-1~deb10u1) ...\n",
            "Setting up libicu63:amd64 (63.1-6+deb10u3) ...\n",
            "Setting up notification-daemon (3.20.0-4) ...\n",
            "Setting up libfontenc1:amd64 (1:1.1.4-0ubuntu1) ...\n",
            "Setting up libjpeg62-turbo:amd64 (1:1.5.2-2+deb10u1) ...\n",
            "Setting up udev (245.4-4ubuntu3.21) ...\n",
            "invoke-rc.d: could not determine current runlevel\n",
            "invoke-rc.d: policy-rc.d denied execution of start.\n",
            "Setting up libevent-2.1-6:amd64 (2.1.8-stable-4) ...\n",
            "Setting up libusbmuxd6:amd64 (2.0.1-2) ...\n",
            "Setting up libupower-glib3:amd64 (0.99.11-1build2) ...\n",
            "Setting up libre2-5:amd64 (20200101+dfsg-1build1) ...\n",
            "Setting up libxkbfile1:amd64 (1:1.1.0-1) ...\n",
            "Setting up libimobiledevice6:amd64 (1.2.1~git20191129.9f79242-1build1) ...\n",
            "Setting up libvpx5:amd64 (1.7.0-3+deb10u1) ...\n",
            "Setting up libu2f-udev (1.1.10-1) ...\n",
            "Failed to send reload request: No such file or directory\n",
            "Setting up upower (0.99.11-1build2) ...\n",
            "Setting up usbmuxd (1.1.1~git20191130.9af2b12-1) ...\n",
            "Warning: The home dir /var/lib/usbmux you specified can't be accessed: No such file or directory\n",
            "Adding system user `usbmux' (UID 105) ...\n",
            "Adding new user `usbmux' (UID 105) with group `plugdev' ...\n",
            "Not creating home directory `/var/lib/usbmux'.\n",
            "Setting up x11-utils (7.7+5) ...\n",
            "Setting up chromium-common (90.0.4430.212-1~deb10u1) ...\n",
            "Setting up chromium (90.0.4430.212-1~deb10u1) ...\n",
            "update-alternatives: using /usr/bin/chromium to provide /usr/bin/x-www-browser (x-www-browser) in auto mode\n",
            "update-alternatives: using /usr/bin/chromium to provide /usr/bin/gnome-www-browser (gnome-www-browser) in auto mode\n",
            "Processing triggers for hicolor-icon-theme (0.17-2) ...\n",
            "Processing triggers for libc-bin (2.31-0ubuntu9.9) ...\n",
            "Processing triggers for systemd (245.4-4ubuntu3.21) ...\n",
            "Processing triggers for man-db (2.9.1-1) ...\n",
            "Processing triggers for dbus (1.12.16-2ubuntu2.3) ...\n",
            "Processing triggers for mime-support (3.64ubuntu1) ...\n",
            "Reading package lists... Done\n",
            "Building dependency tree       \n",
            "Reading state information... Done\n",
            "The following additional packages will be installed:\n",
            "  libxfont2 x11-xkb-utils xfonts-base xfonts-encodings xfonts-utils\n",
            "  xserver-common\n",
            "The following NEW packages will be installed:\n",
            "  libxfont2 x11-xkb-utils xfonts-base xfonts-encodings xfonts-utils\n",
            "  xserver-common xvfb\n",
            "0 upgraded, 7 newly installed, 0 to remove and 23 not upgraded.\n",
            "Need to get 7,618 kB of archives.\n",
            "After this operation, 11.7 MB of additional disk space will be used.\n",
            "Get:1 http://archive.ubuntu.com/ubuntu focal/main amd64 libxfont2 amd64 1:2.0.3-1 [91.7 kB]\n",
            "Get:2 http://archive.ubuntu.com/ubuntu focal/main amd64 x11-xkb-utils amd64 7.7+5 [158 kB]\n",
            "Get:3 http://archive.ubuntu.com/ubuntu focal/main amd64 xfonts-encodings all 1:1.0.5-0ubuntu1 [573 kB]\n",
            "Get:4 http://archive.ubuntu.com/ubuntu focal/main amd64 xfonts-utils amd64 1:7.7+6 [91.5 kB]\n",
            "Get:5 http://archive.ubuntu.com/ubuntu focal/main amd64 xfonts-base all 1:1.0.5 [5,896 kB]\n",
            "Get:6 http://archive.ubuntu.com/ubuntu focal-updates/main amd64 xserver-common all 2:1.20.13-1ubuntu1~20.04.8 [27.2 kB]\n",
            "Get:7 http://archive.ubuntu.com/ubuntu focal-updates/universe amd64 xvfb amd64 2:1.20.13-1ubuntu1~20.04.8 [780 kB]\n",
            "Fetched 7,618 kB in 1s (7,580 kB/s)\n",
            "Selecting previously unselected package libxfont2:amd64.\n",
            "(Reading database ... 122868 files and directories currently installed.)\n",
            "Preparing to unpack .../0-libxfont2_1%3a2.0.3-1_amd64.deb ...\n",
            "Unpacking libxfont2:amd64 (1:2.0.3-1) ...\n",
            "Selecting previously unselected package x11-xkb-utils.\n",
            "Preparing to unpack .../1-x11-xkb-utils_7.7+5_amd64.deb ...\n",
            "Unpacking x11-xkb-utils (7.7+5) ...\n",
            "Selecting previously unselected package xfonts-encodings.\n",
            "Preparing to unpack .../2-xfonts-encodings_1%3a1.0.5-0ubuntu1_all.deb ...\n",
            "Unpacking xfonts-encodings (1:1.0.5-0ubuntu1) ...\n",
            "Selecting previously unselected package xfonts-utils.\n",
            "Preparing to unpack .../3-xfonts-utils_1%3a7.7+6_amd64.deb ...\n",
            "Unpacking xfonts-utils (1:7.7+6) ...\n",
            "Selecting previously unselected package xfonts-base.\n",
            "Preparing to unpack .../4-xfonts-base_1%3a1.0.5_all.deb ...\n",
            "Unpacking xfonts-base (1:1.0.5) ...\n",
            "Selecting previously unselected package xserver-common.\n",
            "Preparing to unpack .../5-xserver-common_2%3a1.20.13-1ubuntu1~20.04.8_all.deb ...\n",
            "Unpacking xserver-common (2:1.20.13-1ubuntu1~20.04.8) ...\n",
            "Selecting previously unselected package xvfb.\n",
            "Preparing to unpack .../6-xvfb_2%3a1.20.13-1ubuntu1~20.04.8_amd64.deb ...\n",
            "Unpacking xvfb (2:1.20.13-1ubuntu1~20.04.8) ...\n",
            "Setting up x11-xkb-utils (7.7+5) ...\n",
            "Setting up xfonts-encodings (1:1.0.5-0ubuntu1) ...\n",
            "Setting up xserver-common (2:1.20.13-1ubuntu1~20.04.8) ...\n",
            "Setting up libxfont2:amd64 (1:2.0.3-1) ...\n",
            "Setting up xvfb (2:1.20.13-1ubuntu1~20.04.8) ...\n",
            "Setting up xfonts-utils (1:7.7+6) ...\n",
            "Setting up xfonts-base (1:1.0.5) ...\n",
            "Processing triggers for libc-bin (2.31-0ubuntu9.9) ...\n",
            "Processing triggers for man-db (2.9.1-1) ...\n",
            "Processing triggers for fontconfig (2.13.1-2ubuntu3) ...\n",
            "\u001b[33mWARNING: Skipping selenium_profiles as it is not installed.\u001b[0m\u001b[33m\n",
            "\u001b[0mLooking in indexes: https://pypi.org/simple, https://us-python.pkg.dev/colab-wheels/public/simple/\n",
            "Collecting google-colab-shell\n",
            "  Downloading google-colab-shell-0.2.tar.gz (4.2 kB)\n",
            "  Preparing metadata (setup.py) ... \u001b[?25l\u001b[?25hdone\n",
            "Building wheels for collected packages: google-colab-shell\n",
            "  Building wheel for google-colab-shell (setup.py) ... \u001b[?25l\u001b[?25hdone\n",
            "  Created wheel for google-colab-shell: filename=google_colab_shell-0.2-py3-none-any.whl size=4124 sha256=a72f121f6a0a940a5ce42057e5a99b036ea55b5d8733554dad5d30be4121925a\n",
            "  Stored in directory: /root/.cache/pip/wheels/f9/36/65/95dd4599be065418a9fe1f482674c8e716ce540f3f484681d2\n",
            "Successfully built google-colab-shell\n",
            "Installing collected packages: google-colab-shell\n",
            "Successfully installed google-colab-shell-0.2\n",
            "Looking in indexes: https://pypi.org/simple, https://us-python.pkg.dev/colab-wheels/public/simple/\n",
            "Requirement already satisfied: webdriver-manager in /usr/local/lib/python3.10/dist-packages (3.8.6)\n",
            "Requirement already satisfied: tqdm in /usr/local/lib/python3.10/dist-packages (from webdriver-manager) (4.65.0)\n",
            "Requirement already satisfied: python-dotenv in /usr/local/lib/python3.10/dist-packages (from webdriver-manager) (1.0.0)\n",
            "Requirement already satisfied: packaging in /usr/local/lib/python3.10/dist-packages (from webdriver-manager) (23.1)\n",
            "Requirement already satisfied: requests in /usr/local/lib/python3.10/dist-packages (from webdriver-manager) (2.30.0)\n",
            "Requirement already satisfied: charset-normalizer<4,>=2 in /usr/local/lib/python3.10/dist-packages (from requests->webdriver-manager) (2.0.12)\n",
            "Requirement already satisfied: idna<4,>=2.5 in /usr/local/lib/python3.10/dist-packages (from requests->webdriver-manager) (3.4)\n",
            "Requirement already satisfied: urllib3<3,>=1.21.1 in /usr/local/lib/python3.10/dist-packages (from requests->webdriver-manager) (1.26.15)\n",
            "Requirement already satisfied: certifi>=2017.4.17 in /usr/local/lib/python3.10/dist-packages (from requests->webdriver-manager) (2022.12.7)\n",
            "Looking in indexes: https://pypi.org/simple, https://us-python.pkg.dev/colab-wheels/public/simple/\n",
            "Collecting Pyvirtualdisplay\n",
            "  Downloading PyVirtualDisplay-3.0-py3-none-any.whl (15 kB)\n",
            "Installing collected packages: Pyvirtualdisplay\n",
            "Successfully installed Pyvirtualdisplay-3.0\n"
          ]
        },
        {
          "output_type": "execute_result",
          "data": {
            "text/plain": []
          },
          "metadata": {},
          "execution_count": 2
        }
      ]
    },
    {
      "cell_type": "code",
      "execution_count": 3,
      "metadata": {
        "id": "iTwWZbPg1TVG",
        "colab": {
          "base_uri": "https://localhost:8080/"
        },
        "outputId": "7e412ade-b1b1-402f-c88c-362b4e3d8b68"
      },
      "outputs": [
        {
          "output_type": "stream",
          "name": "stderr",
          "text": [
            "/usr/local/lib/python3.10/dist-packages/trio/_core/_multierror.py:406: RuntimeWarning: IPython detected, but you already have a custom exception handler installed. I'll skip installing Trio's custom handler, but this means exception groups will not show full tracebacks.\n",
            "  warnings.warn(\n"
          ]
        }
      ],
      "source": [
        "import urllib.request,sys,time\n",
        "from bs4 import BeautifulSoup\n",
        "import requests\n",
        "import pandas as pd\n",
        "from datetime import date\n",
        "from requests_html import HTMLSession "
      ]
    },
    {
      "cell_type": "markdown",
      "source": [
        "### Mounting to GDrive"
      ],
      "metadata": {
        "id": "fygyA3BsoSRH"
      }
    },
    {
      "cell_type": "code",
      "source": [
        "from google.colab import drive\n",
        "drive.mount('/content/gdrive')"
      ],
      "metadata": {
        "id": "H7uTO8KVI0HL",
        "colab": {
          "base_uri": "https://localhost:8080/"
        },
        "outputId": "fae3c623-bbc2-4706-a2cb-005da32f15bf"
      },
      "execution_count": 4,
      "outputs": [
        {
          "output_type": "stream",
          "name": "stdout",
          "text": [
            "Mounted at /content/gdrive\n"
          ]
        }
      ]
    },
    {
      "cell_type": "markdown",
      "source": [
        "### dir variable"
      ],
      "metadata": {
        "id": "_CJm56YhoVDi"
      }
    },
    {
      "cell_type": "code",
      "source": [
        "dir  = \"/content/gdrive/MyDrive/THESIS-MS/Git-Thesis22-23/\""
      ],
      "metadata": {
        "id": "FcAOB3l1JQD9"
      },
      "execution_count": 5,
      "outputs": []
    },
    {
      "cell_type": "markdown",
      "source": [
        "# Scraping"
      ],
      "metadata": {
        "id": "8IhlJmBFI7YI"
      }
    },
    {
      "cell_type": "markdown",
      "source": [
        "1. GMA7\n",
        "2. ABS CBN (Online)\n",
        "3. CNN Philippines \n",
        "4. Philippine Star \n",
        "5. Rappler\n",
        "6. Manila Bulletin - \n",
        "  (infinite more)\n",
        "7. TV5\n",
        "8. Manila Standard\n",
        "9. Sunstar Philippines"
      ],
      "metadata": {
        "id": "addLpW_M8dFr"
      }
    },
    {
      "cell_type": "markdown",
      "source": [
        "## Extract Source Function"
      ],
      "metadata": {
        "id": "386CSzX1nloW"
      }
    },
    {
      "cell_type": "code",
      "source": [
        "def extract_source(url):\n",
        "    agent = {\"User-Agent\":\"Chrome/105.0.0.0\"}\n",
        "    try:\n",
        "      source=requests.get(url, headers=agent)\n",
        "    except Exception as e:                                   # this describes what to do if an exception is thrown\n",
        "      error_type, error_obj, error_info = sys.exc_info()      # get the exception information\n",
        "      print ('ERROR FOR LINK:',url)                          #print the link that cause the problem\n",
        "      print (error_type, 'Line:', error_info.tb_lineno)     #print error info and line that threw the exception\n",
        "    \n",
        "    return source                                               #ignore this page. Abandon this and go back."
      ],
      "metadata": {
        "id": "pWGtJbU6MOyL"
      },
      "execution_count": 6,
      "outputs": []
    },
    {
      "cell_type": "markdown",
      "source": [
        "## Chrome driver"
      ],
      "metadata": {
        "id": "LSQE9C7pEWTc"
      }
    },
    {
      "cell_type": "code",
      "source": [
        "# https://colab.research.google.com/github/kaliiiiiiiiii/Selenium-Profiles/blob/master/google-colab/selenium_profiles.ipynb#scrollTo=lThF-0LvpZf3\n",
        "## @title Start actual driver\n",
        "from selenium_profiles.webdriver import Chrome\n",
        "from selenium_profiles.profiles import profiles\n",
        "from selenium.webdriver.common.by import By  # locate elements\n",
        "from selenium_profiles.utils.colab_utils import display, showscreen, show_html # virtual display\n",
        "from selenium.webdriver.support.ui import WebDriverWait\n",
        "from selenium.webdriver.support import expected_conditions as EC\n",
        "from selenium.common.exceptions import NoSuchElementException, ElementNotVisibleException, ElementNotSelectableException\n",
        "from selenium.webdriver.chrome.options import Options\n",
        "from webdriver_manager.chrome import ChromeDriverManager\n",
        "\n",
        "options = Options()\n",
        "# options.add_argument('--disable-blink-features=AutomationControlled')\n",
        "\n",
        "chromedriver_path = ChromeDriverManager(version=\"90.0.4430.24\").install()\n",
        "\n",
        "profile = profiles.Windows() # or .Android\n",
        "profile[\"cdp\"][\"cores\"] = None # Chrome 90 doesn't allow emulating cores :(driver = mydriver.start(profile, uc_driver=False, executable_path=chromedriver_path)\n",
        "\n",
        "mydriver = Chrome(profile, executable_path=chromedriver_path, options=options)\n",
        "\n",
        "display = display()\n",
        "\n",
        "display.start_display()\n",
        "driver = mydriver.start()"
      ],
      "metadata": {
        "id": "RoBLs0-FH8DB"
      },
      "execution_count": 36,
      "outputs": []
    },
    {
      "cell_type": "markdown",
      "source": [
        "## Manila Bulletin"
      ],
      "metadata": {
        "id": "Hi1eB--NnqyY"
      }
    },
    {
      "cell_type": "markdown",
      "source": [
        "https://www.scrapingbee.com/webscraping-questions/selenium/how-to-scroll-to-element-selenium/#:~:text=You%20can%20scroll%20to%20an,the%20execute_script%20as%20an%20argument."
      ],
      "metadata": {
        "id": "JvkFNSq_LpjF"
      }
    },
    {
      "cell_type": "code",
      "source": [
        "## Manila bulletin\n",
        "# News link getter for National News\n",
        "# Simulate clicking the more button in MB site, and then extract all the news link\n",
        "\n",
        "site = \"manilaBulletin\"\n",
        "data=pd.DataFrame(columns=['Statement','Link','Date'])\n",
        "url = 'https://mb.com.ph/category/national'\n",
        "print(url)\n",
        "\n",
        "driver.get(url)\n",
        "driver.implicitly_wait(10)\n",
        "\n",
        "for x in range(100):\n",
        "  try:\n",
        "    js_code = \"arguments[0].scrollIntoView();\"\n",
        "    # The WebElement you want to scroll to\n",
        "    # element = driver.find_element(By.XPATH, '//*[@id=\"app\"]/div/main/div/div/div/div[3]/div[2]/div[2]/div/div[2]/button')\n",
        "    element = WebDriverWait(driver, timeout=5).until(EC.element_to_be_clickable((By.XPATH, '//*[@id=\"app\"]/div/main/div/div/div/div[3]/div[2]/div[2]/div/div[2]/button')))\n",
        "    # Execute the JS script\n",
        "    driver.execute_script(js_code, element)\n",
        "    element.click()\n",
        "    print(x,'clicked')\n",
        "    # showscreen(driver)\n",
        "    # time.sleep(2)  \n",
        "  except Exception as e:                                   \n",
        "      error_type, error_obj, error_info = sys.exc_info()      \n",
        "      print ('ERROR FOR LINK:',url)                          \n",
        "      print (error_type, 'Line:', error_info.tb_lineno)  \n",
        "\n",
        "source = driver.page_source\n",
        "\n",
        "soup = BeautifulSoup(source, 'html.parser')\n",
        "links=soup.find(\"div\", {'class' : 'article-list mx-auto'}).find_all('div',attrs={'class':'row mb-5'})\n",
        "print(len(links))\n",
        "\n",
        "filename= f\"{dir}{site}_{date.today()}_NEWS_LinkList.csv\"    \n",
        "\n",
        "for j in links:\n",
        "    Statement = j.find('h4', {'class' : 'mb-font-article-title mt-0 mb-1'}).find('a').text.strip()\n",
        "    Link = \"https://mb.com.ph\"+j.find(\"h4\", {'class' : 'mb-font-article-title mt-0 mb-1'}).find('a')['href'].strip()\n",
        "    Date = j.find('div', {'class': 'ml-2'}).text.strip()\n",
        "    df_new_row = { 'Statement': Statement, 'Link': Link, 'Date': Date}\n",
        "    data = data.append(pd.Series(df_new_row, index=data.columns[:len(df_new_row)]), ignore_index=True)\n",
        "\n",
        "driver.quit()\n",
        "# display.stop_display()\n",
        "data.to_csv(filename)\n",
        "data.head()"
      ],
      "metadata": {
        "id": "qQegsdzKBVWv"
      },
      "execution_count": null,
      "outputs": []
    },
    {
      "cell_type": "code",
      "source": [
        "data.tail()"
      ],
      "metadata": {
        "id": "L1Se0iWFLTEn",
        "outputId": "47f12cf5-3189-4db9-b2ad-1612086e54b6",
        "colab": {
          "base_uri": "https://localhost:8080/",
          "height": 423
        }
      },
      "execution_count": 38,
      "outputs": [
        {
          "output_type": "execute_result",
          "data": {
            "text/plain": [
              "                                             Statement  \\\n",
              "0    Japan ready to help PH education programs — VP...   \n",
              "1    Metro Manila Covid-19 positivity rate may reac...   \n",
              "2        Grand, Mega Lotto jackpots still up for grabs   \n",
              "3    Japanese minister tells VP Duterte: More jobs ...   \n",
              "4    Enforce ample measures vs El Niño: Abalos orde...   \n",
              "..                                                 ...   \n",
              "495  Finally! DPWH moves to relocate electric posts...   \n",
              "496  DOH records 3,148 new Covid-19 cases in the pa...   \n",
              "497  CSC issues rule on authority to dismiss 'defec...   \n",
              "498  DICT assessing possible SIM registration exten...   \n",
              "499  Here's why Senate sugar smuggling probe won't ...   \n",
              "\n",
              "                                                  Link         Date  \n",
              "0    https://mb.com.ph/2023/5/3/japan-ready-to-help...  2 hours ago  \n",
              "1    https://mb.com.ph/2023/5/3/metro-manila-covid-...  3 hours ago  \n",
              "2    https://mb.com.ph/2023/5/3/grand-mega-lotto-ja...  3 hours ago  \n",
              "3    https://mb.com.ph/2023/5/3/japanese-minister-t...  4 hours ago  \n",
              "4    https://mb.com.ph/2023/5/3/enforce-ample-measu...  4 hours ago  \n",
              "..                                                 ...          ...  \n",
              "495  https://mb.com.ph/2023/4/24/finally-dpwh-moves...   9 days ago  \n",
              "496  https://mb.com.ph/2023/4/24/doh-records-3-148-...   9 days ago  \n",
              "497  https://mb.com.ph/2023/4/24/csc-issues-rule-on...   9 days ago  \n",
              "498  https://mb.com.ph/2023/4/24/dict-assessing-pos...   9 days ago  \n",
              "499  https://mb.com.ph/2023/4/24/here-s-why-senate-...   9 days ago  \n",
              "\n",
              "[500 rows x 3 columns]"
            ],
            "text/html": [
              "\n",
              "  <div id=\"df-1a3dc38e-7f42-4955-93c4-f4aadef72d9f\">\n",
              "    <div class=\"colab-df-container\">\n",
              "      <div>\n",
              "<style scoped>\n",
              "    .dataframe tbody tr th:only-of-type {\n",
              "        vertical-align: middle;\n",
              "    }\n",
              "\n",
              "    .dataframe tbody tr th {\n",
              "        vertical-align: top;\n",
              "    }\n",
              "\n",
              "    .dataframe thead th {\n",
              "        text-align: right;\n",
              "    }\n",
              "</style>\n",
              "<table border=\"1\" class=\"dataframe\">\n",
              "  <thead>\n",
              "    <tr style=\"text-align: right;\">\n",
              "      <th></th>\n",
              "      <th>Statement</th>\n",
              "      <th>Link</th>\n",
              "      <th>Date</th>\n",
              "    </tr>\n",
              "  </thead>\n",
              "  <tbody>\n",
              "    <tr>\n",
              "      <th>0</th>\n",
              "      <td>Japan ready to help PH education programs — VP...</td>\n",
              "      <td>https://mb.com.ph/2023/5/3/japan-ready-to-help...</td>\n",
              "      <td>2 hours ago</td>\n",
              "    </tr>\n",
              "    <tr>\n",
              "      <th>1</th>\n",
              "      <td>Metro Manila Covid-19 positivity rate may reac...</td>\n",
              "      <td>https://mb.com.ph/2023/5/3/metro-manila-covid-...</td>\n",
              "      <td>3 hours ago</td>\n",
              "    </tr>\n",
              "    <tr>\n",
              "      <th>2</th>\n",
              "      <td>Grand, Mega Lotto jackpots still up for grabs</td>\n",
              "      <td>https://mb.com.ph/2023/5/3/grand-mega-lotto-ja...</td>\n",
              "      <td>3 hours ago</td>\n",
              "    </tr>\n",
              "    <tr>\n",
              "      <th>3</th>\n",
              "      <td>Japanese minister tells VP Duterte: More jobs ...</td>\n",
              "      <td>https://mb.com.ph/2023/5/3/japanese-minister-t...</td>\n",
              "      <td>4 hours ago</td>\n",
              "    </tr>\n",
              "    <tr>\n",
              "      <th>4</th>\n",
              "      <td>Enforce ample measures vs El Niño: Abalos orde...</td>\n",
              "      <td>https://mb.com.ph/2023/5/3/enforce-ample-measu...</td>\n",
              "      <td>4 hours ago</td>\n",
              "    </tr>\n",
              "    <tr>\n",
              "      <th>...</th>\n",
              "      <td>...</td>\n",
              "      <td>...</td>\n",
              "      <td>...</td>\n",
              "    </tr>\n",
              "    <tr>\n",
              "      <th>495</th>\n",
              "      <td>Finally! DPWH moves to relocate electric posts...</td>\n",
              "      <td>https://mb.com.ph/2023/4/24/finally-dpwh-moves...</td>\n",
              "      <td>9 days ago</td>\n",
              "    </tr>\n",
              "    <tr>\n",
              "      <th>496</th>\n",
              "      <td>DOH records 3,148 new Covid-19 cases in the pa...</td>\n",
              "      <td>https://mb.com.ph/2023/4/24/doh-records-3-148-...</td>\n",
              "      <td>9 days ago</td>\n",
              "    </tr>\n",
              "    <tr>\n",
              "      <th>497</th>\n",
              "      <td>CSC issues rule on authority to dismiss 'defec...</td>\n",
              "      <td>https://mb.com.ph/2023/4/24/csc-issues-rule-on...</td>\n",
              "      <td>9 days ago</td>\n",
              "    </tr>\n",
              "    <tr>\n",
              "      <th>498</th>\n",
              "      <td>DICT assessing possible SIM registration exten...</td>\n",
              "      <td>https://mb.com.ph/2023/4/24/dict-assessing-pos...</td>\n",
              "      <td>9 days ago</td>\n",
              "    </tr>\n",
              "    <tr>\n",
              "      <th>499</th>\n",
              "      <td>Here's why Senate sugar smuggling probe won't ...</td>\n",
              "      <td>https://mb.com.ph/2023/4/24/here-s-why-senate-...</td>\n",
              "      <td>9 days ago</td>\n",
              "    </tr>\n",
              "  </tbody>\n",
              "</table>\n",
              "<p>500 rows × 3 columns</p>\n",
              "</div>\n",
              "      <button class=\"colab-df-convert\" onclick=\"convertToInteractive('df-1a3dc38e-7f42-4955-93c4-f4aadef72d9f')\"\n",
              "              title=\"Convert this dataframe to an interactive table.\"\n",
              "              style=\"display:none;\">\n",
              "        \n",
              "  <svg xmlns=\"http://www.w3.org/2000/svg\" height=\"24px\"viewBox=\"0 0 24 24\"\n",
              "       width=\"24px\">\n",
              "    <path d=\"M0 0h24v24H0V0z\" fill=\"none\"/>\n",
              "    <path d=\"M18.56 5.44l.94 2.06.94-2.06 2.06-.94-2.06-.94-.94-2.06-.94 2.06-2.06.94zm-11 1L8.5 8.5l.94-2.06 2.06-.94-2.06-.94L8.5 2.5l-.94 2.06-2.06.94zm10 10l.94 2.06.94-2.06 2.06-.94-2.06-.94-.94-2.06-.94 2.06-2.06.94z\"/><path d=\"M17.41 7.96l-1.37-1.37c-.4-.4-.92-.59-1.43-.59-.52 0-1.04.2-1.43.59L10.3 9.45l-7.72 7.72c-.78.78-.78 2.05 0 2.83L4 21.41c.39.39.9.59 1.41.59.51 0 1.02-.2 1.41-.59l7.78-7.78 2.81-2.81c.8-.78.8-2.07 0-2.86zM5.41 20L4 18.59l7.72-7.72 1.47 1.35L5.41 20z\"/>\n",
              "  </svg>\n",
              "      </button>\n",
              "      \n",
              "  <style>\n",
              "    .colab-df-container {\n",
              "      display:flex;\n",
              "      flex-wrap:wrap;\n",
              "      gap: 12px;\n",
              "    }\n",
              "\n",
              "    .colab-df-convert {\n",
              "      background-color: #E8F0FE;\n",
              "      border: none;\n",
              "      border-radius: 50%;\n",
              "      cursor: pointer;\n",
              "      display: none;\n",
              "      fill: #1967D2;\n",
              "      height: 32px;\n",
              "      padding: 0 0 0 0;\n",
              "      width: 32px;\n",
              "    }\n",
              "\n",
              "    .colab-df-convert:hover {\n",
              "      background-color: #E2EBFA;\n",
              "      box-shadow: 0px 1px 2px rgba(60, 64, 67, 0.3), 0px 1px 3px 1px rgba(60, 64, 67, 0.15);\n",
              "      fill: #174EA6;\n",
              "    }\n",
              "\n",
              "    [theme=dark] .colab-df-convert {\n",
              "      background-color: #3B4455;\n",
              "      fill: #D2E3FC;\n",
              "    }\n",
              "\n",
              "    [theme=dark] .colab-df-convert:hover {\n",
              "      background-color: #434B5C;\n",
              "      box-shadow: 0px 1px 3px 1px rgba(0, 0, 0, 0.15);\n",
              "      filter: drop-shadow(0px 1px 2px rgba(0, 0, 0, 0.3));\n",
              "      fill: #FFFFFF;\n",
              "    }\n",
              "  </style>\n",
              "\n",
              "      <script>\n",
              "        const buttonEl =\n",
              "          document.querySelector('#df-1a3dc38e-7f42-4955-93c4-f4aadef72d9f button.colab-df-convert');\n",
              "        buttonEl.style.display =\n",
              "          google.colab.kernel.accessAllowed ? 'block' : 'none';\n",
              "\n",
              "        async function convertToInteractive(key) {\n",
              "          const element = document.querySelector('#df-1a3dc38e-7f42-4955-93c4-f4aadef72d9f');\n",
              "          const dataTable =\n",
              "            await google.colab.kernel.invokeFunction('convertToInteractive',\n",
              "                                                     [key], {});\n",
              "          if (!dataTable) return;\n",
              "\n",
              "          const docLinkHtml = 'Like what you see? Visit the ' +\n",
              "            '<a target=\"_blank\" href=https://colab.research.google.com/notebooks/data_table.ipynb>data table notebook</a>'\n",
              "            + ' to learn more about interactive tables.';\n",
              "          element.innerHTML = '';\n",
              "          dataTable['output_type'] = 'display_data';\n",
              "          await google.colab.output.renderOutput(dataTable, element);\n",
              "          const docLink = document.createElement('div');\n",
              "          docLink.innerHTML = docLinkHtml;\n",
              "          element.appendChild(docLink);\n",
              "        }\n",
              "      </script>\n",
              "    </div>\n",
              "  </div>\n",
              "  "
            ]
          },
          "metadata": {},
          "execution_count": 38
        }
      ]
    },
    {
      "cell_type": "code",
      "source": [
        "# Article Reader from LINK\n",
        "data2 = pd.DataFrame(columns=[\"Title\", \"Author\", \"Date\", \"Text\"])\n",
        "filename= f\"{dir}{site}_{date.today()}_NEWS.csv\"\n",
        "\n",
        "for index, row in data.iterrows():\n",
        "  url = row[\"Link\"] \n",
        "  print(url)\n",
        "\n",
        "  time.sleep(1)   \n",
        "  soup=BeautifulSoup(extract_source(url).text, 'html.parser')\n",
        "\n",
        "  text=soup.find(\"div\", {'class' : 'col-md-8 col-xl-8 col-12'})\n",
        "  # print(content.prettify())\n",
        "  # textList =soup.find(\"div\", {'class' : 'the-article-content'}).find(\"section\", {'class': 'article-content'}).find_all(\"p\")\n",
        "  \n",
        "  \n",
        "  row=[]\n",
        "  try:\n",
        "    Title = text.find('h1',{'class':'pt-3 mb-font-article-title'}).text.strip()\n",
        "    Author = text.find('div',attrs={'class':'mb-font-author-name overflow-nowrap'}).find('a').text.strip()\n",
        "    Date = text.find('div', attrs={'class': 'pt-0'}).text[:-8]\n",
        "  except Exception as e:\n",
        "      pass\n",
        "  \n",
        "  body = \"\"\n",
        "  textList =  soup.find('div', {'class':'pt-8 custom-article-body mb-font-article-body'}).find_all('p')\n",
        "  for t in textList:\n",
        "    body += (t.text.replace('\\u200b', '')) +\"\\n\" \n",
        "\n",
        "  row.extend((Title, Author, Date, body))\n",
        "  \n",
        "\n",
        "  data2 = data2.append(pd.Series(row, index=data2.columns[:len(row)]), ignore_index=True)\n",
        "  print(index)\n",
        "data2.to_csv(filename)\n",
        "data2.head()"
      ],
      "metadata": {
        "id": "5Vt_oQKsLB7S",
        "colab": {
          "base_uri": "https://localhost:8080/",
          "height": 1000
        },
        "outputId": "205c86a2-9a34-4b3f-bcf3-dae2e9288182"
      },
      "execution_count": 40,
      "outputs": [
        {
          "output_type": "stream",
          "name": "stdout",
          "text": [
            "https://mb.com.ph/2023/5/3/japan-ready-to-help-ph-education-programs-vp-duterte\n"
          ]
        },
        {
          "output_type": "stream",
          "name": "stderr",
          "text": [
            "<ipython-input-40-4a1cb05fa26f>:33: FutureWarning: The frame.append method is deprecated and will be removed from pandas in a future version. Use pandas.concat instead.\n",
            "  data2 = data2.append(pd.Series(row, index=data2.columns[:len(row)]), ignore_index=True)\n"
          ]
        },
        {
          "output_type": "stream",
          "name": "stdout",
          "text": [
            "https://mb.com.ph/2023/5/3/metro-manila-covid-19-positivity-rate-may-reach-25-octa\n"
          ]
        },
        {
          "output_type": "stream",
          "name": "stderr",
          "text": [
            "<ipython-input-40-4a1cb05fa26f>:33: FutureWarning: The frame.append method is deprecated and will be removed from pandas in a future version. Use pandas.concat instead.\n",
            "  data2 = data2.append(pd.Series(row, index=data2.columns[:len(row)]), ignore_index=True)\n"
          ]
        },
        {
          "output_type": "stream",
          "name": "stdout",
          "text": [
            "https://mb.com.ph/2023/5/3/grand-mega-lotto-jackpots-still-up-for-grabs-3\n"
          ]
        },
        {
          "output_type": "stream",
          "name": "stderr",
          "text": [
            "<ipython-input-40-4a1cb05fa26f>:33: FutureWarning: The frame.append method is deprecated and will be removed from pandas in a future version. Use pandas.concat instead.\n",
            "  data2 = data2.append(pd.Series(row, index=data2.columns[:len(row)]), ignore_index=True)\n"
          ]
        },
        {
          "output_type": "stream",
          "name": "stdout",
          "text": [
            "https://mb.com.ph/2023/5/3/japanese-minister-tells-vp-duterte-more-jobs-await-pinoy-workers-in-japan\n"
          ]
        },
        {
          "output_type": "stream",
          "name": "stderr",
          "text": [
            "<ipython-input-40-4a1cb05fa26f>:33: FutureWarning: The frame.append method is deprecated and will be removed from pandas in a future version. Use pandas.concat instead.\n",
            "  data2 = data2.append(pd.Series(row, index=data2.columns[:len(row)]), ignore_index=True)\n"
          ]
        },
        {
          "output_type": "stream",
          "name": "stdout",
          "text": [
            "https://mb.com.ph/2023/5/3/enforce-ample-measures-vs-el-nino-abalos-orders-lg-us\n"
          ]
        },
        {
          "output_type": "stream",
          "name": "stderr",
          "text": [
            "<ipython-input-40-4a1cb05fa26f>:33: FutureWarning: The frame.append method is deprecated and will be removed from pandas in a future version. Use pandas.concat instead.\n",
            "  data2 = data2.append(pd.Series(row, index=data2.columns[:len(row)]), ignore_index=True)\n"
          ]
        },
        {
          "output_type": "stream",
          "name": "stdout",
          "text": [
            "https://mb.com.ph/2023/5/3/abalos-to-name-pnp-officials-whose-resignations-would-be-accepted-in-2-days\n"
          ]
        },
        {
          "output_type": "stream",
          "name": "stderr",
          "text": [
            "<ipython-input-40-4a1cb05fa26f>:33: FutureWarning: The frame.append method is deprecated and will be removed from pandas in a future version. Use pandas.concat instead.\n",
            "  data2 = data2.append(pd.Series(row, index=data2.columns[:len(row)]), ignore_index=True)\n"
          ]
        },
        {
          "output_type": "stream",
          "name": "stdout",
          "text": [
            "https://mb.com.ph/2023/5/3/global-semiconductor-firm-to-expand-in-ph-with-us-200-m-investment-pledge\n"
          ]
        },
        {
          "output_type": "stream",
          "name": "stderr",
          "text": [
            "<ipython-input-40-4a1cb05fa26f>:33: FutureWarning: The frame.append method is deprecated and will be removed from pandas in a future version. Use pandas.concat instead.\n",
            "  data2 = data2.append(pd.Series(row, index=data2.columns[:len(row)]), ignore_index=True)\n"
          ]
        },
        {
          "output_type": "stream",
          "name": "stdout",
          "text": [
            "https://mb.com.ph/2023/5/3/bu-cor-suspends-pd-ls-visitation-privileges-at-bilibid-ciw-due-to-covid-19\n"
          ]
        },
        {
          "output_type": "stream",
          "name": "stderr",
          "text": [
            "<ipython-input-40-4a1cb05fa26f>:33: FutureWarning: The frame.append method is deprecated and will be removed from pandas in a future version. Use pandas.concat instead.\n",
            "  data2 = data2.append(pd.Series(row, index=data2.columns[:len(row)]), ignore_index=True)\n"
          ]
        },
        {
          "output_type": "stream",
          "name": "stdout",
          "text": [
            "https://mb.com.ph/2023/5/3/up-cebu-to-temporarily-shift-to-online-classes-due-to-covid-19-1\n"
          ]
        },
        {
          "output_type": "stream",
          "name": "stderr",
          "text": [
            "<ipython-input-40-4a1cb05fa26f>:33: FutureWarning: The frame.append method is deprecated and will be removed from pandas in a future version. Use pandas.concat instead.\n",
            "  data2 = data2.append(pd.Series(row, index=data2.columns[:len(row)]), ignore_index=True)\n"
          ]
        },
        {
          "output_type": "stream",
          "name": "stdout",
          "text": [
            "https://mb.com.ph/2023/5/3/advocacy-group-highlights-importance-of-integrating-civic-education-in-all-subjects\n"
          ]
        },
        {
          "output_type": "stream",
          "name": "stderr",
          "text": [
            "<ipython-input-40-4a1cb05fa26f>:33: FutureWarning: The frame.append method is deprecated and will be removed from pandas in a future version. Use pandas.concat instead.\n",
            "  data2 = data2.append(pd.Series(row, index=data2.columns[:len(row)]), ignore_index=True)\n"
          ]
        },
        {
          "output_type": "stream",
          "name": "stdout",
          "text": [
            "https://mb.com.ph/2023/5/3/ombudsman-orders-6-month-preventive-suspension-of-miaa-acting-gm-chiong-acting-gm-for-finance-montalbo\n"
          ]
        },
        {
          "output_type": "stream",
          "name": "stderr",
          "text": [
            "<ipython-input-40-4a1cb05fa26f>:33: FutureWarning: The frame.append method is deprecated and will be removed from pandas in a future version. Use pandas.concat instead.\n",
            "  data2 = data2.append(pd.Series(row, index=data2.columns[:len(row)]), ignore_index=True)\n"
          ]
        },
        {
          "output_type": "stream",
          "name": "stdout",
          "text": [
            "https://mb.com.ph/2023/5/3/44-of-sim-owners-have-yet-to-register-survey\n"
          ]
        },
        {
          "output_type": "stream",
          "name": "stderr",
          "text": [
            "<ipython-input-40-4a1cb05fa26f>:33: FutureWarning: The frame.append method is deprecated and will be removed from pandas in a future version. Use pandas.concat instead.\n",
            "  data2 = data2.append(pd.Series(row, index=data2.columns[:len(row)]), ignore_index=True)\n"
          ]
        },
        {
          "output_type": "stream",
          "name": "stdout",
          "text": [
            "https://mb.com.ph/2023/5/3/doh-reaffirms-push-for-salary-standardization-for-hc-ws-in-public-private-sector\n"
          ]
        },
        {
          "output_type": "stream",
          "name": "stderr",
          "text": [
            "<ipython-input-40-4a1cb05fa26f>:33: FutureWarning: The frame.append method is deprecated and will be removed from pandas in a future version. Use pandas.concat instead.\n",
            "  data2 = data2.append(pd.Series(row, index=data2.columns[:len(row)]), ignore_index=True)\n"
          ]
        },
        {
          "output_type": "stream",
          "name": "stdout",
          "text": [
            "https://mb.com.ph/2023/5/3/pmftc-reduces-carbon-footprint-with-ev-shift\n"
          ]
        },
        {
          "output_type": "stream",
          "name": "stderr",
          "text": [
            "<ipython-input-40-4a1cb05fa26f>:33: FutureWarning: The frame.append method is deprecated and will be removed from pandas in a future version. Use pandas.concat instead.\n",
            "  data2 = data2.append(pd.Series(row, index=data2.columns[:len(row)]), ignore_index=True)\n"
          ]
        },
        {
          "output_type": "stream",
          "name": "stdout",
          "text": [
            "https://mb.com.ph/2023/5/3/above-normal-rainfall-conditions-possible-over-western-luzon-despite-el-nino\n"
          ]
        },
        {
          "output_type": "stream",
          "name": "stderr",
          "text": [
            "<ipython-input-40-4a1cb05fa26f>:33: FutureWarning: The frame.append method is deprecated and will be removed from pandas in a future version. Use pandas.concat instead.\n",
            "  data2 = data2.append(pd.Series(row, index=data2.columns[:len(row)]), ignore_index=True)\n"
          ]
        },
        {
          "output_type": "stream",
          "name": "stdout",
          "text": [
            "https://mb.com.ph/2023/5/3/aics-office-in-sjdm-bulacan-ready-to-accept-clients-dswd\n"
          ]
        },
        {
          "output_type": "stream",
          "name": "stderr",
          "text": [
            "<ipython-input-40-4a1cb05fa26f>:33: FutureWarning: The frame.append method is deprecated and will be removed from pandas in a future version. Use pandas.concat instead.\n",
            "  data2 = data2.append(pd.Series(row, index=data2.columns[:len(row)]), ignore_index=True)\n"
          ]
        },
        {
          "output_type": "stream",
          "name": "stdout",
          "text": [
            "https://mb.com.ph/2023/5/3/ph-cambodia-fortify-defense-ties\n"
          ]
        },
        {
          "output_type": "stream",
          "name": "stderr",
          "text": [
            "<ipython-input-40-4a1cb05fa26f>:33: FutureWarning: The frame.append method is deprecated and will be removed from pandas in a future version. Use pandas.concat instead.\n",
            "  data2 = data2.append(pd.Series(row, index=data2.columns[:len(row)]), ignore_index=True)\n"
          ]
        },
        {
          "output_type": "stream",
          "name": "stdout",
          "text": [
            "https://mb.com.ph/2023/5/3/dep-ed-seeks-help-of-partners-for-key-reform-objectives-priority-interventions-in-education\n"
          ]
        },
        {
          "output_type": "stream",
          "name": "stderr",
          "text": [
            "<ipython-input-40-4a1cb05fa26f>:33: FutureWarning: The frame.append method is deprecated and will be removed from pandas in a future version. Use pandas.concat instead.\n",
            "  data2 = data2.append(pd.Series(row, index=data2.columns[:len(row)]), ignore_index=True)\n"
          ]
        },
        {
          "output_type": "stream",
          "name": "stdout",
          "text": [
            "https://mb.com.ph/2023/5/3/mb-daily-news-summary-41\n"
          ]
        },
        {
          "output_type": "stream",
          "name": "stderr",
          "text": [
            "<ipython-input-40-4a1cb05fa26f>:33: FutureWarning: The frame.append method is deprecated and will be removed from pandas in a future version. Use pandas.concat instead.\n",
            "  data2 = data2.append(pd.Series(row, index=data2.columns[:len(row)]), ignore_index=True)\n"
          ]
        },
        {
          "output_type": "stream",
          "name": "stdout",
          "text": [
            "https://mb.com.ph/2023/5/3/we-cannot-be-free-if-journalists-aren-t-free-diplomats-in-ph-celebrate-world-press-freedom-day\n"
          ]
        },
        {
          "output_type": "stream",
          "name": "stderr",
          "text": [
            "<ipython-input-40-4a1cb05fa26f>:33: FutureWarning: The frame.append method is deprecated and will be removed from pandas in a future version. Use pandas.concat instead.\n",
            "  data2 = data2.append(pd.Series(row, index=data2.columns[:len(row)]), ignore_index=True)\n"
          ]
        },
        {
          "output_type": "stream",
          "name": "stdout",
          "text": [
            "https://mb.com.ph/2023/5/3/ph-has-a-lot-to-offer-romualdez\n"
          ]
        },
        {
          "output_type": "stream",
          "name": "stderr",
          "text": [
            "<ipython-input-40-4a1cb05fa26f>:33: FutureWarning: The frame.append method is deprecated and will be removed from pandas in a future version. Use pandas.concat instead.\n",
            "  data2 = data2.append(pd.Series(row, index=data2.columns[:len(row)]), ignore_index=True)\n"
          ]
        },
        {
          "output_type": "stream",
          "name": "stdout",
          "text": [
            "https://mb.com.ph/2023/5/3/chr-to-gov-t-agencies-emulate-dep-ed-s-stand-on-red-tagging-trolling-extrajudicial-killings\n"
          ]
        },
        {
          "output_type": "stream",
          "name": "stderr",
          "text": [
            "<ipython-input-40-4a1cb05fa26f>:33: FutureWarning: The frame.append method is deprecated and will be removed from pandas in a future version. Use pandas.concat instead.\n",
            "  data2 = data2.append(pd.Series(row, index=data2.columns[:len(row)]), ignore_index=True)\n"
          ]
        },
        {
          "output_type": "stream",
          "name": "stdout",
          "text": [
            "https://mb.com.ph/2023/5/3/pcg-400-liters-of-oily-water-mixtures-collected-as-leak-continues-in-oriental-mindoro\n"
          ]
        },
        {
          "output_type": "stream",
          "name": "stderr",
          "text": [
            "<ipython-input-40-4a1cb05fa26f>:33: FutureWarning: The frame.append method is deprecated and will be removed from pandas in a future version. Use pandas.concat instead.\n",
            "  data2 = data2.append(pd.Series(row, index=data2.columns[:len(row)]), ignore_index=True)\n"
          ]
        },
        {
          "output_type": "stream",
          "name": "stdout",
          "text": [
            "https://mb.com.ph/2023/5/3/zubiri-no-need-for-edc-as-if-there-are-no-bullies-1\n"
          ]
        },
        {
          "output_type": "stream",
          "name": "stderr",
          "text": [
            "<ipython-input-40-4a1cb05fa26f>:33: FutureWarning: The frame.append method is deprecated and will be removed from pandas in a future version. Use pandas.concat instead.\n",
            "  data2 = data2.append(pd.Series(row, index=data2.columns[:len(row)]), ignore_index=True)\n"
          ]
        },
        {
          "output_type": "stream",
          "name": "stdout",
          "text": [
            "https://mb.com.ph/2023/5/3/dep-ed-beefs-up-training-programs-for-teachers-school-leaders\n"
          ]
        },
        {
          "output_type": "stream",
          "name": "stderr",
          "text": [
            "<ipython-input-40-4a1cb05fa26f>:33: FutureWarning: The frame.append method is deprecated and will be removed from pandas in a future version. Use pandas.concat instead.\n",
            "  data2 = data2.append(pd.Series(row, index=data2.columns[:len(row)]), ignore_index=True)\n"
          ]
        },
        {
          "output_type": "stream",
          "name": "stdout",
          "text": [
            "https://mb.com.ph/2023/5/3/ople-340-rescued-of-ws-from-sudan-off-to-ph-first-2-batches-to-arrive-may-4\n"
          ]
        },
        {
          "output_type": "stream",
          "name": "stderr",
          "text": [
            "<ipython-input-40-4a1cb05fa26f>:33: FutureWarning: The frame.append method is deprecated and will be removed from pandas in a future version. Use pandas.concat instead.\n",
            "  data2 = data2.append(pd.Series(row, index=data2.columns[:len(row)]), ignore_index=True)\n"
          ]
        },
        {
          "output_type": "stream",
          "name": "stdout",
          "text": [
            "https://mb.com.ph/2023/5/3/vp-duterte-thanks-envoy-for-singapore-s-assistance-to-ph-in-farewell-call\n"
          ]
        },
        {
          "output_type": "stream",
          "name": "stderr",
          "text": [
            "<ipython-input-40-4a1cb05fa26f>:33: FutureWarning: The frame.append method is deprecated and will be removed from pandas in a future version. Use pandas.concat instead.\n",
            "  data2 = data2.append(pd.Series(row, index=data2.columns[:len(row)]), ignore_index=True)\n"
          ]
        },
        {
          "output_type": "stream",
          "name": "stdout",
          "text": [
            "https://mb.com.ph/2023/5/3/kadiwa-stores-to-sell-4-m-kilos-of-sugar-seized-in-anti-smuggling-ops-sra-says\n"
          ]
        },
        {
          "output_type": "stream",
          "name": "stderr",
          "text": [
            "<ipython-input-40-4a1cb05fa26f>:33: FutureWarning: The frame.append method is deprecated and will be removed from pandas in a future version. Use pandas.concat instead.\n",
            "  data2 = data2.append(pd.Series(row, index=data2.columns[:len(row)]), ignore_index=True)\n"
          ]
        },
        {
          "output_type": "stream",
          "name": "stdout",
          "text": [
            "https://mb.com.ph/2023/5/3/5-man-panel-recommendas-filing-of-charges-vs-4-pnp-officials-over-drug-links\n"
          ]
        },
        {
          "output_type": "stream",
          "name": "stderr",
          "text": [
            "<ipython-input-40-4a1cb05fa26f>:33: FutureWarning: The frame.append method is deprecated and will be removed from pandas in a future version. Use pandas.concat instead.\n",
            "  data2 = data2.append(pd.Series(row, index=data2.columns[:len(row)]), ignore_index=True)\n"
          ]
        },
        {
          "output_type": "stream",
          "name": "stdout",
          "text": [
            "https://mb.com.ph/2023/5/3/pro-ofw-solon-reacts-to-america-s-hiring-of-75-000-pinoy-seamen\n"
          ]
        },
        {
          "output_type": "stream",
          "name": "stderr",
          "text": [
            "<ipython-input-40-4a1cb05fa26f>:33: FutureWarning: The frame.append method is deprecated and will be removed from pandas in a future version. Use pandas.concat instead.\n",
            "  data2 = data2.append(pd.Series(row, index=data2.columns[:len(row)]), ignore_index=True)\n"
          ]
        },
        {
          "output_type": "stream",
          "name": "stdout",
          "text": [
            "https://mb.com.ph/2023/5/3/new-lawyers-should-register-with-ibp\n"
          ]
        },
        {
          "output_type": "stream",
          "name": "stderr",
          "text": [
            "<ipython-input-40-4a1cb05fa26f>:33: FutureWarning: The frame.append method is deprecated and will be removed from pandas in a future version. Use pandas.concat instead.\n",
            "  data2 = data2.append(pd.Series(row, index=data2.columns[:len(row)]), ignore_index=True)\n"
          ]
        },
        {
          "output_type": "stream",
          "name": "stdout",
          "text": [
            "https://mb.com.ph/2023/5/3/prioritize-developing-a-thriving-national-innovation-system-legarda-tells-gov-t\n"
          ]
        },
        {
          "output_type": "stream",
          "name": "stderr",
          "text": [
            "<ipython-input-40-4a1cb05fa26f>:33: FutureWarning: The frame.append method is deprecated and will be removed from pandas in a future version. Use pandas.concat instead.\n",
            "  data2 = data2.append(pd.Series(row, index=data2.columns[:len(row)]), ignore_index=True)\n"
          ]
        },
        {
          "output_type": "stream",
          "name": "stdout",
          "text": [
            "https://mb.com.ph/2023/5/3/us-so-kor-to-help-ph-vs-climate-change\n"
          ]
        },
        {
          "output_type": "stream",
          "name": "stderr",
          "text": [
            "<ipython-input-40-4a1cb05fa26f>:33: FutureWarning: The frame.append method is deprecated and will be removed from pandas in a future version. Use pandas.concat instead.\n",
            "  data2 = data2.append(pd.Series(row, index=data2.columns[:len(row)]), ignore_index=True)\n"
          ]
        },
        {
          "output_type": "stream",
          "name": "stdout",
          "text": [
            "https://mb.com.ph/2023/5/3/robin-ph-press-freedom-remains-under-threat-due-to-disinformation-fake-news\n"
          ]
        },
        {
          "output_type": "stream",
          "name": "stderr",
          "text": [
            "<ipython-input-40-4a1cb05fa26f>:33: FutureWarning: The frame.append method is deprecated and will be removed from pandas in a future version. Use pandas.concat instead.\n",
            "  data2 = data2.append(pd.Series(row, index=data2.columns[:len(row)]), ignore_index=True)\n"
          ]
        },
        {
          "output_type": "stream",
          "name": "stdout",
          "text": [
            "https://mb.com.ph/2023/5/3/upca-2023-results-are-out-1\n"
          ]
        },
        {
          "output_type": "stream",
          "name": "stderr",
          "text": [
            "<ipython-input-40-4a1cb05fa26f>:33: FutureWarning: The frame.append method is deprecated and will be removed from pandas in a future version. Use pandas.concat instead.\n",
            "  data2 = data2.append(pd.Series(row, index=data2.columns[:len(row)]), ignore_index=True)\n"
          ]
        },
        {
          "output_type": "stream",
          "name": "stdout",
          "text": [
            "https://mb.com.ph/2023/5/3/villar-is-gawad-agila-s-most-trusted-public-servant-of-the-year\n"
          ]
        },
        {
          "output_type": "stream",
          "name": "stderr",
          "text": [
            "<ipython-input-40-4a1cb05fa26f>:33: FutureWarning: The frame.append method is deprecated and will be removed from pandas in a future version. Use pandas.concat instead.\n",
            "  data2 = data2.append(pd.Series(row, index=data2.columns[:len(row)]), ignore_index=True)\n"
          ]
        },
        {
          "output_type": "stream",
          "name": "stdout",
          "text": [
            "https://mb.com.ph/2023/5/3/up-diliman-leads-top-100-best-universities-in-ph-list-1\n"
          ]
        },
        {
          "output_type": "stream",
          "name": "stderr",
          "text": [
            "<ipython-input-40-4a1cb05fa26f>:33: FutureWarning: The frame.append method is deprecated and will be removed from pandas in a future version. Use pandas.concat instead.\n",
            "  data2 = data2.append(pd.Series(row, index=data2.columns[:len(row)]), ignore_index=True)\n"
          ]
        },
        {
          "output_type": "stream",
          "name": "stdout",
          "text": [
            "https://mb.com.ph/2023/5/3/house-to-thank-of-ws-by-working-with-marcos-admin-to-give-pinoys-a-brighter-future\n"
          ]
        },
        {
          "output_type": "stream",
          "name": "stderr",
          "text": [
            "<ipython-input-40-4a1cb05fa26f>:33: FutureWarning: The frame.append method is deprecated and will be removed from pandas in a future version. Use pandas.concat instead.\n",
            "  data2 = data2.append(pd.Series(row, index=data2.columns[:len(row)]), ignore_index=True)\n"
          ]
        },
        {
          "output_type": "stream",
          "name": "stdout",
          "text": [
            "https://mb.com.ph/2023/5/3/dswd-opens-applications-for-government-internship-program\n"
          ]
        },
        {
          "output_type": "stream",
          "name": "stderr",
          "text": [
            "<ipython-input-40-4a1cb05fa26f>:33: FutureWarning: The frame.append method is deprecated and will be removed from pandas in a future version. Use pandas.concat instead.\n",
            "  data2 = data2.append(pd.Series(row, index=data2.columns[:len(row)]), ignore_index=True)\n"
          ]
        },
        {
          "output_type": "stream",
          "name": "stdout",
          "text": [
            "https://mb.com.ph/2023/5/3/boc-exceeds-april-2023-collection-target\n"
          ]
        },
        {
          "output_type": "stream",
          "name": "stderr",
          "text": [
            "<ipython-input-40-4a1cb05fa26f>:33: FutureWarning: The frame.append method is deprecated and will be removed from pandas in a future version. Use pandas.concat instead.\n",
            "  data2 = data2.append(pd.Series(row, index=data2.columns[:len(row)]), ignore_index=True)\n"
          ]
        },
        {
          "output_type": "stream",
          "name": "stdout",
          "text": [
            "https://mb.com.ph/2023/5/3/bong-go-urges-china-to-stop-all-forms-of-bullying-encroachment-in-the-west-ph-sea-1\n"
          ]
        },
        {
          "output_type": "stream",
          "name": "stderr",
          "text": [
            "<ipython-input-40-4a1cb05fa26f>:33: FutureWarning: The frame.append method is deprecated and will be removed from pandas in a future version. Use pandas.concat instead.\n",
            "  data2 = data2.append(pd.Series(row, index=data2.columns[:len(row)]), ignore_index=True)\n"
          ]
        },
        {
          "output_type": "stream",
          "name": "stdout",
          "text": [
            "https://mb.com.ph/2023/5/3/water-allocation-cut-for-irrigation-to-start-may-10-nwrb\n"
          ]
        },
        {
          "output_type": "stream",
          "name": "stderr",
          "text": [
            "<ipython-input-40-4a1cb05fa26f>:33: FutureWarning: The frame.append method is deprecated and will be removed from pandas in a future version. Use pandas.concat instead.\n",
            "  data2 = data2.append(pd.Series(row, index=data2.columns[:len(row)]), ignore_index=True)\n"
          ]
        },
        {
          "output_type": "stream",
          "name": "stdout",
          "text": [
            "https://mb.com.ph/2023/5/3/sc-on-anti-terrorism-cases-protect-public-but-respect-human-rights\n"
          ]
        },
        {
          "output_type": "stream",
          "name": "stderr",
          "text": [
            "<ipython-input-40-4a1cb05fa26f>:33: FutureWarning: The frame.append method is deprecated and will be removed from pandas in a future version. Use pandas.concat instead.\n",
            "  data2 = data2.append(pd.Series(row, index=data2.columns[:len(row)]), ignore_index=True)\n"
          ]
        },
        {
          "output_type": "stream",
          "name": "stdout",
          "text": [
            "https://mb.com.ph/2023/5/3/pimentel-seeks-senate-probe-into-delayed-release-of-national-i-ds\n"
          ]
        },
        {
          "output_type": "stream",
          "name": "stderr",
          "text": [
            "<ipython-input-40-4a1cb05fa26f>:33: FutureWarning: The frame.append method is deprecated and will be removed from pandas in a future version. Use pandas.concat instead.\n",
            "  data2 = data2.append(pd.Series(row, index=data2.columns[:len(row)]), ignore_index=True)\n"
          ]
        },
        {
          "output_type": "stream",
          "name": "stdout",
          "text": [
            "https://mb.com.ph/2023/5/3/lpa-in-mindanao-could-become-a-tropical-depression-pagasa\n"
          ]
        },
        {
          "output_type": "stream",
          "name": "stderr",
          "text": [
            "<ipython-input-40-4a1cb05fa26f>:33: FutureWarning: The frame.append method is deprecated and will be removed from pandas in a future version. Use pandas.concat instead.\n",
            "  data2 = data2.append(pd.Series(row, index=data2.columns[:len(row)]), ignore_index=True)\n"
          ]
        },
        {
          "output_type": "stream",
          "name": "stdout",
          "text": [
            "https://mb.com.ph/2023/5/3/tulfo-announces-probe-on-power-generation-firms-greedy-practices\n"
          ]
        },
        {
          "output_type": "stream",
          "name": "stderr",
          "text": [
            "<ipython-input-40-4a1cb05fa26f>:33: FutureWarning: The frame.append method is deprecated and will be removed from pandas in a future version. Use pandas.concat instead.\n",
            "  data2 = data2.append(pd.Series(row, index=data2.columns[:len(row)]), ignore_index=True)\n"
          ]
        },
        {
          "output_type": "stream",
          "name": "stdout",
          "text": [
            "https://mb.com.ph/2023/5/3/rodriguez-calls-china-a-frenemy-says-even-digong-got-fed-up\n"
          ]
        },
        {
          "output_type": "stream",
          "name": "stderr",
          "text": [
            "<ipython-input-40-4a1cb05fa26f>:33: FutureWarning: The frame.append method is deprecated and will be removed from pandas in a future version. Use pandas.concat instead.\n",
            "  data2 = data2.append(pd.Series(row, index=data2.columns[:len(row)]), ignore_index=True)\n"
          ]
        },
        {
          "output_type": "stream",
          "name": "stdout",
          "text": [
            "https://mb.com.ph/2023/5/3/malay-cops-go-green-with-the-use-of-6-e-trikes-in-boracay-police-patrol\n"
          ]
        },
        {
          "output_type": "stream",
          "name": "stderr",
          "text": [
            "<ipython-input-40-4a1cb05fa26f>:33: FutureWarning: The frame.append method is deprecated and will be removed from pandas in a future version. Use pandas.concat instead.\n",
            "  data2 = data2.append(pd.Series(row, index=data2.columns[:len(row)]), ignore_index=True)\n"
          ]
        },
        {
          "output_type": "stream",
          "name": "stdout",
          "text": [
            "https://mb.com.ph/2023/5/3/senate-bill-seeks-automatic-refund-for-telco-isp-service-interruptions\n"
          ]
        },
        {
          "output_type": "stream",
          "name": "stderr",
          "text": [
            "<ipython-input-40-4a1cb05fa26f>:33: FutureWarning: The frame.append method is deprecated and will be removed from pandas in a future version. Use pandas.concat instead.\n",
            "  data2 = data2.append(pd.Series(row, index=data2.columns[:len(row)]), ignore_index=True)\n"
          ]
        },
        {
          "output_type": "stream",
          "name": "stdout",
          "text": [
            "https://mb.com.ph/2023/5/3/poe-seeks-probe-long-term-solutions-to-panay-island-brownouts\n"
          ]
        },
        {
          "output_type": "stream",
          "name": "stderr",
          "text": [
            "<ipython-input-40-4a1cb05fa26f>:33: FutureWarning: The frame.append method is deprecated and will be removed from pandas in a future version. Use pandas.concat instead.\n",
            "  data2 = data2.append(pd.Series(row, index=data2.columns[:len(row)]), ignore_index=True)\n"
          ]
        },
        {
          "output_type": "stream",
          "name": "stdout",
          "text": [
            "https://mb.com.ph/2023/5/3/us-based-solar-firm-to-expand-in-ph-with-900-m-investment-3k-jobs\n"
          ]
        },
        {
          "output_type": "stream",
          "name": "stderr",
          "text": [
            "<ipython-input-40-4a1cb05fa26f>:33: FutureWarning: The frame.append method is deprecated and will be removed from pandas in a future version. Use pandas.concat instead.\n",
            "  data2 = data2.append(pd.Series(row, index=data2.columns[:len(row)]), ignore_index=True)\n"
          ]
        },
        {
          "output_type": "stream",
          "name": "stdout",
          "text": [
            "https://mb.com.ph/2023/5/3/poe-faults-miaa-for-power-outages\n"
          ]
        },
        {
          "output_type": "stream",
          "name": "stderr",
          "text": [
            "<ipython-input-40-4a1cb05fa26f>:33: FutureWarning: The frame.append method is deprecated and will be removed from pandas in a future version. Use pandas.concat instead.\n",
            "  data2 = data2.append(pd.Series(row, index=data2.columns[:len(row)]), ignore_index=True)\n"
          ]
        },
        {
          "output_type": "stream",
          "name": "stdout",
          "text": [
            "https://mb.com.ph/2023/5/3/mimaropa-cops-donate-over-p1-2-m-cash-to-oil-spill-affected-families-in-oriental-mindoro-town\n"
          ]
        },
        {
          "output_type": "stream",
          "name": "stderr",
          "text": [
            "<ipython-input-40-4a1cb05fa26f>:33: FutureWarning: The frame.append method is deprecated and will be removed from pandas in a future version. Use pandas.concat instead.\n",
            "  data2 = data2.append(pd.Series(row, index=data2.columns[:len(row)]), ignore_index=True)\n"
          ]
        },
        {
          "output_type": "stream",
          "name": "stdout",
          "text": [
            "https://mb.com.ph/2023/5/3/this-house-leader-calls-for-complete-check-up-of-naia\n"
          ]
        },
        {
          "output_type": "stream",
          "name": "stderr",
          "text": [
            "<ipython-input-40-4a1cb05fa26f>:33: FutureWarning: The frame.append method is deprecated and will be removed from pandas in a future version. Use pandas.concat instead.\n",
            "  data2 = data2.append(pd.Series(row, index=data2.columns[:len(row)]), ignore_index=True)\n"
          ]
        },
        {
          "output_type": "stream",
          "name": "stdout",
          "text": [
            "https://mb.com.ph/2023/5/3/bi-nabs-american-wanted-for-alleged-financial-fraud\n"
          ]
        },
        {
          "output_type": "stream",
          "name": "stderr",
          "text": [
            "<ipython-input-40-4a1cb05fa26f>:33: FutureWarning: The frame.append method is deprecated and will be removed from pandas in a future version. Use pandas.concat instead.\n",
            "  data2 = data2.append(pd.Series(row, index=data2.columns[:len(row)]), ignore_index=True)\n"
          ]
        },
        {
          "output_type": "stream",
          "name": "stdout",
          "text": [
            "https://mb.com.ph/2023/5/3/dpwh-warns-vs-illegal-solicitation\n"
          ]
        },
        {
          "output_type": "stream",
          "name": "stderr",
          "text": [
            "<ipython-input-40-4a1cb05fa26f>:33: FutureWarning: The frame.append method is deprecated and will be removed from pandas in a future version. Use pandas.concat instead.\n",
            "  data2 = data2.append(pd.Series(row, index=data2.columns[:len(row)]), ignore_index=True)\n"
          ]
        },
        {
          "output_type": "stream",
          "name": "stdout",
          "text": [
            "https://mb.com.ph/2023/5/3/us-firms-want-to-employ-75-000-pinoy-seafarers\n"
          ]
        },
        {
          "output_type": "stream",
          "name": "stderr",
          "text": [
            "<ipython-input-40-4a1cb05fa26f>:33: FutureWarning: The frame.append method is deprecated and will be removed from pandas in a future version. Use pandas.concat instead.\n",
            "  data2 = data2.append(pd.Series(row, index=data2.columns[:len(row)]), ignore_index=True)\n"
          ]
        },
        {
          "output_type": "stream",
          "name": "stdout",
          "text": [
            "https://mb.com.ph/2023/5/3/int-l-vaccine-maker-bpo-firm-mull-expansion-to-ph\n"
          ]
        },
        {
          "output_type": "stream",
          "name": "stderr",
          "text": [
            "<ipython-input-40-4a1cb05fa26f>:33: FutureWarning: The frame.append method is deprecated and will be removed from pandas in a future version. Use pandas.concat instead.\n",
            "  data2 = data2.append(pd.Series(row, index=data2.columns[:len(row)]), ignore_index=True)\n"
          ]
        },
        {
          "output_type": "stream",
          "name": "stdout",
          "text": [
            "https://mb.com.ph/2023/5/3/marcos-keen-on-micro-nuclear-fuel-technology-to-end-power-crisis\n"
          ]
        },
        {
          "output_type": "stream",
          "name": "stderr",
          "text": [
            "<ipython-input-40-4a1cb05fa26f>:33: FutureWarning: The frame.append method is deprecated and will be removed from pandas in a future version. Use pandas.concat instead.\n",
            "  data2 = data2.append(pd.Series(row, index=data2.columns[:len(row)]), ignore_index=True)\n"
          ]
        },
        {
          "output_type": "stream",
          "name": "stdout",
          "text": [
            "https://mb.com.ph/2023/5/3/china-must-respect-int-l-law-arbitral-ruling-to-avoid-another-near-collision-in-scs-us-official\n"
          ]
        },
        {
          "output_type": "stream",
          "name": "stderr",
          "text": [
            "<ipython-input-40-4a1cb05fa26f>:33: FutureWarning: The frame.append method is deprecated and will be removed from pandas in a future version. Use pandas.concat instead.\n",
            "  data2 = data2.append(pd.Series(row, index=data2.columns[:len(row)]), ignore_index=True)\n"
          ]
        },
        {
          "output_type": "stream",
          "name": "stdout",
          "text": [
            "https://mb.com.ph/2023/5/3/ph-gains-p800-m-investment-pledge-in-medical-bpo\n"
          ]
        },
        {
          "output_type": "stream",
          "name": "stderr",
          "text": [
            "<ipython-input-40-4a1cb05fa26f>:33: FutureWarning: The frame.append method is deprecated and will be removed from pandas in a future version. Use pandas.concat instead.\n",
            "  data2 = data2.append(pd.Series(row, index=data2.columns[:len(row)]), ignore_index=True)\n"
          ]
        },
        {
          "output_type": "stream",
          "name": "stdout",
          "text": [
            "https://mb.com.ph/2023/5/3/romualdez-confident-marcos-can-score-gains-in-energy-security-nuclear-plans-during-us-trip\n"
          ]
        },
        {
          "output_type": "stream",
          "name": "stderr",
          "text": [
            "<ipython-input-40-4a1cb05fa26f>:33: FutureWarning: The frame.append method is deprecated and will be removed from pandas in a future version. Use pandas.concat instead.\n",
            "  data2 = data2.append(pd.Series(row, index=data2.columns[:len(row)]), ignore_index=True)\n"
          ]
        },
        {
          "output_type": "stream",
          "name": "stdout",
          "text": [
            "https://mb.com.ph/2023/5/3/lunar-eclipse-meteor-shower-to-illuminate-ph-skies-this-weekend\n"
          ]
        },
        {
          "output_type": "stream",
          "name": "stderr",
          "text": [
            "<ipython-input-40-4a1cb05fa26f>:33: FutureWarning: The frame.append method is deprecated and will be removed from pandas in a future version. Use pandas.concat instead.\n",
            "  data2 = data2.append(pd.Series(row, index=data2.columns[:len(row)]), ignore_index=True)\n"
          ]
        },
        {
          "output_type": "stream",
          "name": "stdout",
          "text": [
            "https://mb.com.ph/2023/5/3/zubiri-urges-doe-ngcp-to-step-up-and-solve-western-visayas-blackouts\n"
          ]
        },
        {
          "output_type": "stream",
          "name": "stderr",
          "text": [
            "<ipython-input-40-4a1cb05fa26f>:33: FutureWarning: The frame.append method is deprecated and will be removed from pandas in a future version. Use pandas.concat instead.\n",
            "  data2 = data2.append(pd.Series(row, index=data2.columns[:len(row)]), ignore_index=True)\n"
          ]
        },
        {
          "output_type": "stream",
          "name": "stdout",
          "text": [
            "https://mb.com.ph/2023/5/3/feast-of-saints-philip-and-james-on-may-3\n"
          ]
        },
        {
          "output_type": "stream",
          "name": "stderr",
          "text": [
            "<ipython-input-40-4a1cb05fa26f>:33: FutureWarning: The frame.append method is deprecated and will be removed from pandas in a future version. Use pandas.concat instead.\n",
            "  data2 = data2.append(pd.Series(row, index=data2.columns[:len(row)]), ignore_index=True)\n"
          ]
        },
        {
          "output_type": "stream",
          "name": "stdout",
          "text": [
            "https://mb.com.ph/2023/5/3/go-renews-call-for-filipinos-not-to-be-complacent-vs-covid-19\n"
          ]
        },
        {
          "output_type": "stream",
          "name": "stderr",
          "text": [
            "<ipython-input-40-4a1cb05fa26f>:33: FutureWarning: The frame.append method is deprecated and will be removed from pandas in a future version. Use pandas.concat instead.\n",
            "  data2 = data2.append(pd.Series(row, index=data2.columns[:len(row)]), ignore_index=True)\n"
          ]
        },
        {
          "output_type": "stream",
          "name": "stdout",
          "text": [
            "https://mb.com.ph/2023/5/3/cayetano-vows-to-continue-pushing-for-p10-k-ayuda-bill\n"
          ]
        },
        {
          "output_type": "stream",
          "name": "stderr",
          "text": [
            "<ipython-input-40-4a1cb05fa26f>:33: FutureWarning: The frame.append method is deprecated and will be removed from pandas in a future version. Use pandas.concat instead.\n",
            "  data2 = data2.append(pd.Series(row, index=data2.columns[:len(row)]), ignore_index=True)\n"
          ]
        },
        {
          "output_type": "stream",
          "name": "stdout",
          "text": [
            "https://mb.com.ph/2023/5/3/scattered-rains-thunderstorms-to-persist-over-several-parts-of-ph\n"
          ]
        },
        {
          "output_type": "stream",
          "name": "stderr",
          "text": [
            "<ipython-input-40-4a1cb05fa26f>:33: FutureWarning: The frame.append method is deprecated and will be removed from pandas in a future version. Use pandas.concat instead.\n",
            "  data2 = data2.append(pd.Series(row, index=data2.columns[:len(row)]), ignore_index=True)\n"
          ]
        },
        {
          "output_type": "stream",
          "name": "stdout",
          "text": [
            "https://mb.com.ph/2023/5/3/tolentino-possible-deal-with-us-nuclear-firm-will-help-address-ph-s-energy-woes\n"
          ]
        },
        {
          "output_type": "stream",
          "name": "stderr",
          "text": [
            "<ipython-input-40-4a1cb05fa26f>:33: FutureWarning: The frame.append method is deprecated and will be removed from pandas in a future version. Use pandas.concat instead.\n",
            "  data2 = data2.append(pd.Series(row, index=data2.columns[:len(row)]), ignore_index=True)\n"
          ]
        },
        {
          "output_type": "stream",
          "name": "stdout",
          "text": [
            "https://mb.com.ph/2023/5/3/us-to-bolster-aid-to-ph-in-building-transport-systems\n"
          ]
        },
        {
          "output_type": "stream",
          "name": "stderr",
          "text": [
            "<ipython-input-40-4a1cb05fa26f>:33: FutureWarning: The frame.append method is deprecated and will be removed from pandas in a future version. Use pandas.concat instead.\n",
            "  data2 = data2.append(pd.Series(row, index=data2.columns[:len(row)]), ignore_index=True)\n"
          ]
        },
        {
          "output_type": "stream",
          "name": "stdout",
          "text": [
            "https://mb.com.ph/2023/5/2/speaker-romualdez-reacts-to-marcos-harris-meeting-in-us\n"
          ]
        },
        {
          "output_type": "stream",
          "name": "stderr",
          "text": [
            "<ipython-input-40-4a1cb05fa26f>:33: FutureWarning: The frame.append method is deprecated and will be removed from pandas in a future version. Use pandas.concat instead.\n",
            "  data2 = data2.append(pd.Series(row, index=data2.columns[:len(row)]), ignore_index=True)\n"
          ]
        },
        {
          "output_type": "stream",
          "name": "stdout",
          "text": [
            "https://mb.com.ph/2023/5/2/marcos-concerned-over-china-s-provocation-in-south-china-sea\n"
          ]
        },
        {
          "output_type": "stream",
          "name": "stderr",
          "text": [
            "<ipython-input-40-4a1cb05fa26f>:33: FutureWarning: The frame.append method is deprecated and will be removed from pandas in a future version. Use pandas.concat instead.\n",
            "  data2 = data2.append(pd.Series(row, index=data2.columns[:len(row)]), ignore_index=True)\n"
          ]
        },
        {
          "output_type": "stream",
          "name": "stdout",
          "text": [
            "https://mb.com.ph/2023/5/2/pinoys-are-fundamental-part-of-us-says-us-exec\n"
          ]
        },
        {
          "output_type": "stream",
          "name": "stderr",
          "text": [
            "<ipython-input-40-4a1cb05fa26f>:33: FutureWarning: The frame.append method is deprecated and will be removed from pandas in a future version. Use pandas.concat instead.\n",
            "  data2 = data2.append(pd.Series(row, index=data2.columns[:len(row)]), ignore_index=True)\n"
          ]
        },
        {
          "output_type": "stream",
          "name": "stdout",
          "text": [
            "https://mb.com.ph/2023/5/2/strong-alliance-key-to-navigating-chaotic-int-l-scene-marcos\n"
          ]
        },
        {
          "output_type": "stream",
          "name": "stderr",
          "text": [
            "<ipython-input-40-4a1cb05fa26f>:33: FutureWarning: The frame.append method is deprecated and will be removed from pandas in a future version. Use pandas.concat instead.\n",
            "  data2 = data2.append(pd.Series(row, index=data2.columns[:len(row)]), ignore_index=True)\n"
          ]
        },
        {
          "output_type": "stream",
          "name": "stdout",
          "text": [
            "https://mb.com.ph/2023/5/2/no-jackpot-winners-for-pcso-major-lotto-games-in-may-2-evening-draw\n"
          ]
        },
        {
          "output_type": "stream",
          "name": "stderr",
          "text": [
            "<ipython-input-40-4a1cb05fa26f>:33: FutureWarning: The frame.append method is deprecated and will be removed from pandas in a future version. Use pandas.concat instead.\n",
            "  data2 = data2.append(pd.Series(row, index=data2.columns[:len(row)]), ignore_index=True)\n"
          ]
        },
        {
          "output_type": "stream",
          "name": "stdout",
          "text": [
            "https://mb.com.ph/2023/5/2/france-opposes-actions-increasing-tension-in-scs\n"
          ]
        },
        {
          "output_type": "stream",
          "name": "stderr",
          "text": [
            "<ipython-input-40-4a1cb05fa26f>:33: FutureWarning: The frame.append method is deprecated and will be removed from pandas in a future version. Use pandas.concat instead.\n",
            "  data2 = data2.append(pd.Series(row, index=data2.columns[:len(row)]), ignore_index=True)\n"
          ]
        },
        {
          "output_type": "stream",
          "name": "stdout",
          "text": [
            "https://mb.com.ph/2023/5/2/ai-to-render-many-jobs-obsolete-salceda-warns-here-s-what-should-be-done\n"
          ]
        },
        {
          "output_type": "stream",
          "name": "stderr",
          "text": [
            "<ipython-input-40-4a1cb05fa26f>:33: FutureWarning: The frame.append method is deprecated and will be removed from pandas in a future version. Use pandas.concat instead.\n",
            "  data2 = data2.append(pd.Series(row, index=data2.columns[:len(row)]), ignore_index=True)\n"
          ]
        },
        {
          "output_type": "stream",
          "name": "stdout",
          "text": [
            "https://mb.com.ph/2023/5/2/visayas-mindanao-parts-of-luzon-to-continue-to-have-rains-due-to-lpa-itcz\n"
          ]
        },
        {
          "output_type": "stream",
          "name": "stderr",
          "text": [
            "<ipython-input-40-4a1cb05fa26f>:33: FutureWarning: The frame.append method is deprecated and will be removed from pandas in a future version. Use pandas.concat instead.\n",
            "  data2 = data2.append(pd.Series(row, index=data2.columns[:len(row)]), ignore_index=True)\n"
          ]
        },
        {
          "output_type": "stream",
          "name": "stdout",
          "text": [
            "https://mb.com.ph/2023/5/2/us-presidential-trade-mission-to-create-more-jobs-for-pinoys-says-romualdez\n"
          ]
        },
        {
          "output_type": "stream",
          "name": "stderr",
          "text": [
            "<ipython-input-40-4a1cb05fa26f>:33: FutureWarning: The frame.append method is deprecated and will be removed from pandas in a future version. Use pandas.concat instead.\n",
            "  data2 = data2.append(pd.Series(row, index=data2.columns[:len(row)]), ignore_index=True)\n"
          ]
        },
        {
          "output_type": "stream",
          "name": "stdout",
          "text": [
            "https://mb.com.ph/2023/5/2/farmers-to-ph-gov-t-support-organic-farming\n"
          ]
        },
        {
          "output_type": "stream",
          "name": "stderr",
          "text": [
            "<ipython-input-40-4a1cb05fa26f>:33: FutureWarning: The frame.append method is deprecated and will be removed from pandas in a future version. Use pandas.concat instead.\n",
            "  data2 = data2.append(pd.Series(row, index=data2.columns[:len(row)]), ignore_index=True)\n"
          ]
        },
        {
          "output_type": "stream",
          "name": "stdout",
          "text": [
            "https://mb.com.ph/2023/5/2/doh-expects-390-000-doses-of-covid-19-bivalent-vaccines-by-the-end-of-may\n"
          ]
        },
        {
          "output_type": "stream",
          "name": "stderr",
          "text": [
            "<ipython-input-40-4a1cb05fa26f>:33: FutureWarning: The frame.append method is deprecated and will be removed from pandas in a future version. Use pandas.concat instead.\n",
            "  data2 = data2.append(pd.Series(row, index=data2.columns[:len(row)]), ignore_index=True)\n"
          ]
        },
        {
          "output_type": "stream",
          "name": "stdout",
          "text": [
            "https://mb.com.ph/2023/5/2/lapid-tolentino-ok-with-revival-of-mandatory-face-mask-policy\n"
          ]
        },
        {
          "output_type": "stream",
          "name": "stderr",
          "text": [
            "<ipython-input-40-4a1cb05fa26f>:33: FutureWarning: The frame.append method is deprecated and will be removed from pandas in a future version. Use pandas.concat instead.\n",
            "  data2 = data2.append(pd.Series(row, index=data2.columns[:len(row)]), ignore_index=True)\n"
          ]
        },
        {
          "output_type": "stream",
          "name": "stdout",
          "text": [
            "https://mb.com.ph/2023/5/2/mb-daily-news-summary-40\n"
          ]
        },
        {
          "output_type": "stream",
          "name": "stderr",
          "text": [
            "<ipython-input-40-4a1cb05fa26f>:33: FutureWarning: The frame.append method is deprecated and will be removed from pandas in a future version. Use pandas.concat instead.\n",
            "  data2 = data2.append(pd.Series(row, index=data2.columns[:len(row)]), ignore_index=True)\n"
          ]
        },
        {
          "output_type": "stream",
          "name": "stdout",
          "text": [
            "https://mb.com.ph/2023/5/2/cardinal-advincula-cites-virtues-of-patron-of-firemen\n"
          ]
        },
        {
          "output_type": "stream",
          "name": "stderr",
          "text": [
            "<ipython-input-40-4a1cb05fa26f>:33: FutureWarning: The frame.append method is deprecated and will be removed from pandas in a future version. Use pandas.concat instead.\n",
            "  data2 = data2.append(pd.Series(row, index=data2.columns[:len(row)]), ignore_index=True)\n"
          ]
        },
        {
          "output_type": "stream",
          "name": "stdout",
          "text": [
            "https://mb.com.ph/2023/5/2/paf-usaf-jets-take-over-ph-skies-for-cope-thunder\n"
          ]
        },
        {
          "output_type": "stream",
          "name": "stderr",
          "text": [
            "<ipython-input-40-4a1cb05fa26f>:33: FutureWarning: The frame.append method is deprecated and will be removed from pandas in a future version. Use pandas.concat instead.\n",
            "  data2 = data2.append(pd.Series(row, index=data2.columns[:len(row)]), ignore_index=True)\n"
          ]
        },
        {
          "output_type": "stream",
          "name": "stdout",
          "text": [
            "https://mb.com.ph/2023/5/2/increase-in-covid-19-cases-far-from-figures-during-pandemic-s-height-doh\n"
          ]
        },
        {
          "output_type": "stream",
          "name": "stderr",
          "text": [
            "<ipython-input-40-4a1cb05fa26f>:33: FutureWarning: The frame.append method is deprecated and will be removed from pandas in a future version. Use pandas.concat instead.\n",
            "  data2 = data2.append(pd.Series(row, index=data2.columns[:len(row)]), ignore_index=True)\n"
          ]
        },
        {
          "output_type": "stream",
          "name": "stdout",
          "text": [
            "https://mb.com.ph/2023/5/2/nbi-arrests-ex-radio-dj-for-sextortion\n"
          ]
        },
        {
          "output_type": "stream",
          "name": "stderr",
          "text": [
            "<ipython-input-40-4a1cb05fa26f>:33: FutureWarning: The frame.append method is deprecated and will be removed from pandas in a future version. Use pandas.concat instead.\n",
            "  data2 = data2.append(pd.Series(row, index=data2.columns[:len(row)]), ignore_index=True)\n"
          ]
        },
        {
          "output_type": "stream",
          "name": "stdout",
          "text": [
            "https://mb.com.ph/2023/5/2/p10-m-farm-machinery-equipment-provided-to-ifugao-farmers\n"
          ]
        },
        {
          "output_type": "stream",
          "name": "stderr",
          "text": [
            "<ipython-input-40-4a1cb05fa26f>:33: FutureWarning: The frame.append method is deprecated and will be removed from pandas in a future version. Use pandas.concat instead.\n",
            "  data2 = data2.append(pd.Series(row, index=data2.columns[:len(row)]), ignore_index=True)\n"
          ]
        },
        {
          "output_type": "stream",
          "name": "stdout",
          "text": [
            "https://mb.com.ph/2023/5/2/ph-has-3-992-new-lawyers\n"
          ]
        },
        {
          "output_type": "stream",
          "name": "stderr",
          "text": [
            "<ipython-input-40-4a1cb05fa26f>:33: FutureWarning: The frame.append method is deprecated and will be removed from pandas in a future version. Use pandas.concat instead.\n",
            "  data2 = data2.append(pd.Series(row, index=data2.columns[:len(row)]), ignore_index=True)\n"
          ]
        },
        {
          "output_type": "stream",
          "name": "stdout",
          "text": [
            "https://mb.com.ph/2023/5/2/ph-airspace-to-be-shut-down-on-may-3-17-for-repair-of-air-traffic-system-caap\n"
          ]
        },
        {
          "output_type": "stream",
          "name": "stderr",
          "text": [
            "<ipython-input-40-4a1cb05fa26f>:33: FutureWarning: The frame.append method is deprecated and will be removed from pandas in a future version. Use pandas.concat instead.\n",
            "  data2 = data2.append(pd.Series(row, index=data2.columns[:len(row)]), ignore_index=True)\n"
          ]
        },
        {
          "output_type": "stream",
          "name": "stdout",
          "text": [
            "https://mb.com.ph/2023/5/2/look-speaker-romualdez-shakes-hands-with-us-president-biden\n"
          ]
        },
        {
          "output_type": "stream",
          "name": "stderr",
          "text": [
            "<ipython-input-40-4a1cb05fa26f>:33: FutureWarning: The frame.append method is deprecated and will be removed from pandas in a future version. Use pandas.concat instead.\n",
            "  data2 = data2.append(pd.Series(row, index=data2.columns[:len(row)]), ignore_index=True)\n"
          ]
        },
        {
          "output_type": "stream",
          "name": "stdout",
          "text": [
            "https://mb.com.ph/2023/5/2/no-need-for-return-of-face-mask-mandate-doh-says\n"
          ]
        },
        {
          "output_type": "stream",
          "name": "stderr",
          "text": [
            "<ipython-input-40-4a1cb05fa26f>:33: FutureWarning: The frame.append method is deprecated and will be removed from pandas in a future version. Use pandas.concat instead.\n",
            "  data2 = data2.append(pd.Series(row, index=data2.columns[:len(row)]), ignore_index=True)\n"
          ]
        },
        {
          "output_type": "stream",
          "name": "stdout",
          "text": [
            "https://mb.com.ph/2023/5/2/anti-god-bro-eddie-wants-to-probe-inclusion-of-lgbtq-related-topics-in-dep-ed-s-draft-curriculum\n"
          ]
        },
        {
          "output_type": "stream",
          "name": "stderr",
          "text": [
            "<ipython-input-40-4a1cb05fa26f>:33: FutureWarning: The frame.append method is deprecated and will be removed from pandas in a future version. Use pandas.concat instead.\n",
            "  data2 = data2.append(pd.Series(row, index=data2.columns[:len(row)]), ignore_index=True)\n"
          ]
        },
        {
          "output_type": "stream",
          "name": "stdout",
          "text": [
            "https://mb.com.ph/2023/5/2/villar-pushes-creation-of-special-courts-on-anti-agricultural-smuggling\n"
          ]
        },
        {
          "output_type": "stream",
          "name": "stderr",
          "text": [
            "<ipython-input-40-4a1cb05fa26f>:33: FutureWarning: The frame.append method is deprecated and will be removed from pandas in a future version. Use pandas.concat instead.\n",
            "  data2 = data2.append(pd.Series(row, index=data2.columns[:len(row)]), ignore_index=True)\n"
          ]
        },
        {
          "output_type": "stream",
          "name": "stdout",
          "text": [
            "https://mb.com.ph/2023/5/2/sandigan-denies-ex-qc-mayor-bautista-s-plea-to-dismiss-graft-charge\n"
          ]
        },
        {
          "output_type": "stream",
          "name": "stderr",
          "text": [
            "<ipython-input-40-4a1cb05fa26f>:33: FutureWarning: The frame.append method is deprecated and will be removed from pandas in a future version. Use pandas.concat instead.\n",
            "  data2 = data2.append(pd.Series(row, index=data2.columns[:len(row)]), ignore_index=True)\n"
          ]
        },
        {
          "output_type": "stream",
          "name": "stdout",
          "text": [
            "https://mb.com.ph/2023/5/2/uk-canada-stand-behind-ph-in-south-china-sea-dispute\n"
          ]
        },
        {
          "output_type": "stream",
          "name": "stderr",
          "text": [
            "<ipython-input-40-4a1cb05fa26f>:33: FutureWarning: The frame.append method is deprecated and will be removed from pandas in a future version. Use pandas.concat instead.\n",
            "  data2 = data2.append(pd.Series(row, index=data2.columns[:len(row)]), ignore_index=True)\n"
          ]
        },
        {
          "output_type": "stream",
          "name": "stdout",
          "text": [
            "https://mb.com.ph/2023/5/2/make-good-governance-viral-in-bureaucracy-cong-yamsuan-tells-gcg\n"
          ]
        },
        {
          "output_type": "stream",
          "name": "stderr",
          "text": [
            "<ipython-input-40-4a1cb05fa26f>:33: FutureWarning: The frame.append method is deprecated and will be removed from pandas in a future version. Use pandas.concat instead.\n",
            "  data2 = data2.append(pd.Series(row, index=data2.columns[:len(row)]), ignore_index=True)\n"
          ]
        },
        {
          "output_type": "stream",
          "name": "stdout",
          "text": [
            "https://mb.com.ph/2023/5/2/pagasa-raises-el-nino-alert\n"
          ]
        },
        {
          "output_type": "stream",
          "name": "stderr",
          "text": [
            "<ipython-input-40-4a1cb05fa26f>:33: FutureWarning: The frame.append method is deprecated and will be removed from pandas in a future version. Use pandas.concat instead.\n",
            "  data2 = data2.append(pd.Series(row, index=data2.columns[:len(row)]), ignore_index=True)\n"
          ]
        },
        {
          "output_type": "stream",
          "name": "stdout",
          "text": [
            "https://mb.com.ph/2023/5/2/chr-supports-dep-ed-s-blended-alternative-learning-modes-to-protect-students\n"
          ]
        },
        {
          "output_type": "stream",
          "name": "stderr",
          "text": [
            "<ipython-input-40-4a1cb05fa26f>:33: FutureWarning: The frame.append method is deprecated and will be removed from pandas in a future version. Use pandas.concat instead.\n",
            "  data2 = data2.append(pd.Series(row, index=data2.columns[:len(row)]), ignore_index=True)\n"
          ]
        },
        {
          "output_type": "stream",
          "name": "stdout",
          "text": [
            "https://mb.com.ph/2023/5/2/in-washington-the-pro-and-anti-marcos-met-and-trade-shots\n"
          ]
        },
        {
          "output_type": "stream",
          "name": "stderr",
          "text": [
            "<ipython-input-40-4a1cb05fa26f>:33: FutureWarning: The frame.append method is deprecated and will be removed from pandas in a future version. Use pandas.concat instead.\n",
            "  data2 = data2.append(pd.Series(row, index=data2.columns[:len(row)]), ignore_index=True)\n"
          ]
        },
        {
          "output_type": "stream",
          "name": "stdout",
          "text": [
            "https://mb.com.ph/2023/5/2/ako-bicol-solon-pulls-out-all-the-stops-for-planned-cruise-ship-port\n"
          ]
        },
        {
          "output_type": "stream",
          "name": "stderr",
          "text": [
            "<ipython-input-40-4a1cb05fa26f>:33: FutureWarning: The frame.append method is deprecated and will be removed from pandas in a future version. Use pandas.concat instead.\n",
            "  data2 = data2.append(pd.Series(row, index=data2.columns[:len(row)]), ignore_index=True)\n"
          ]
        },
        {
          "output_type": "stream",
          "name": "stdout",
          "text": [
            "https://mb.com.ph/2023/5/2/bi-chief-slams-overseas-job-misinformation-on-social-media\n"
          ]
        },
        {
          "output_type": "stream",
          "name": "stderr",
          "text": [
            "<ipython-input-40-4a1cb05fa26f>:33: FutureWarning: The frame.append method is deprecated and will be removed from pandas in a future version. Use pandas.concat instead.\n",
            "  data2 = data2.append(pd.Series(row, index=data2.columns[:len(row)]), ignore_index=True)\n"
          ]
        },
        {
          "output_type": "stream",
          "name": "stdout",
          "text": [
            "https://mb.com.ph/2023/5/2/mental-health-and-psychosocial-support-spearheaded-in-masbate-schools\n"
          ]
        },
        {
          "output_type": "stream",
          "name": "stderr",
          "text": [
            "<ipython-input-40-4a1cb05fa26f>:33: FutureWarning: The frame.append method is deprecated and will be removed from pandas in a future version. Use pandas.concat instead.\n",
            "  data2 = data2.append(pd.Series(row, index=data2.columns[:len(row)]), ignore_index=True)\n"
          ]
        },
        {
          "output_type": "stream",
          "name": "stdout",
          "text": [
            "https://mb.com.ph/2023/5/2/bi-arrests-undesirable-american-indian-visitors-1\n"
          ]
        },
        {
          "output_type": "stream",
          "name": "stderr",
          "text": [
            "<ipython-input-40-4a1cb05fa26f>:33: FutureWarning: The frame.append method is deprecated and will be removed from pandas in a future version. Use pandas.concat instead.\n",
            "  data2 = data2.append(pd.Series(row, index=data2.columns[:len(row)]), ignore_index=True)\n"
          ]
        },
        {
          "output_type": "stream",
          "name": "stdout",
          "text": [
            "https://mb.com.ph/2023/5/2/ibp-to-new-lawyers-uphold-integrity-ethics-of-legal-profession\n"
          ]
        },
        {
          "output_type": "stream",
          "name": "stderr",
          "text": [
            "<ipython-input-40-4a1cb05fa26f>:33: FutureWarning: The frame.append method is deprecated and will be removed from pandas in a future version. Use pandas.concat instead.\n",
            "  data2 = data2.append(pd.Series(row, index=data2.columns[:len(row)]), ignore_index=True)\n"
          ]
        },
        {
          "output_type": "stream",
          "name": "stdout",
          "text": [
            "https://mb.com.ph/2023/5/2/what-is-a-squall-the-cause-of-dream-keeper-s-sinking-in-palawan\n"
          ]
        },
        {
          "output_type": "stream",
          "name": "stderr",
          "text": [
            "<ipython-input-40-4a1cb05fa26f>:33: FutureWarning: The frame.append method is deprecated and will be removed from pandas in a future version. Use pandas.concat instead.\n",
            "  data2 = data2.append(pd.Series(row, index=data2.columns[:len(row)]), ignore_index=True)\n"
          ]
        },
        {
          "output_type": "stream",
          "name": "stdout",
          "text": [
            "https://mb.com.ph/2023/5/2/marcos-orders-ngcp-solve-visayas-power-crisis\n"
          ]
        },
        {
          "output_type": "stream",
          "name": "stderr",
          "text": [
            "<ipython-input-40-4a1cb05fa26f>:33: FutureWarning: The frame.append method is deprecated and will be removed from pandas in a future version. Use pandas.concat instead.\n",
            "  data2 = data2.append(pd.Series(row, index=data2.columns[:len(row)]), ignore_index=True)\n"
          ]
        },
        {
          "output_type": "stream",
          "name": "stdout",
          "text": [
            "https://mb.com.ph/2023/5/2/villafuerte-hopes-proposed-wps-joint-patrols-would-make-headway-during-marcos-us-visit\n"
          ]
        },
        {
          "output_type": "stream",
          "name": "stderr",
          "text": [
            "<ipython-input-40-4a1cb05fa26f>:33: FutureWarning: The frame.append method is deprecated and will be removed from pandas in a future version. Use pandas.concat instead.\n",
            "  data2 = data2.append(pd.Series(row, index=data2.columns[:len(row)]), ignore_index=True)\n"
          ]
        },
        {
          "output_type": "stream",
          "name": "stdout",
          "text": [
            "https://mb.com.ph/2023/5/2/marcos-to-pinoys-in-us-you-are-valued-members-of-american-society\n"
          ]
        },
        {
          "output_type": "stream",
          "name": "stderr",
          "text": [
            "<ipython-input-40-4a1cb05fa26f>:33: FutureWarning: The frame.append method is deprecated and will be removed from pandas in a future version. Use pandas.concat instead.\n",
            "  data2 = data2.append(pd.Series(row, index=data2.columns[:len(row)]), ignore_index=True)\n"
          ]
        },
        {
          "output_type": "stream",
          "name": "stdout",
          "text": [
            "https://mb.com.ph/2023/5/2/us-expected-to-send-seven-military-assets-to-ph-1\n"
          ]
        },
        {
          "output_type": "stream",
          "name": "stderr",
          "text": [
            "<ipython-input-40-4a1cb05fa26f>:33: FutureWarning: The frame.append method is deprecated and will be removed from pandas in a future version. Use pandas.concat instead.\n",
            "  data2 = data2.append(pd.Series(row, index=data2.columns[:len(row)]), ignore_index=True)\n"
          ]
        },
        {
          "output_type": "stream",
          "name": "stdout",
          "text": [
            "https://mb.com.ph/2023/5/2/biden-to-marcos-i-can-t-think-of-any-better-partner-than-you-1\n"
          ]
        },
        {
          "output_type": "stream",
          "name": "stderr",
          "text": [
            "<ipython-input-40-4a1cb05fa26f>:33: FutureWarning: The frame.append method is deprecated and will be removed from pandas in a future version. Use pandas.concat instead.\n",
            "  data2 = data2.append(pd.Series(row, index=data2.columns[:len(row)]), ignore_index=True)\n"
          ]
        },
        {
          "output_type": "stream",
          "name": "stdout",
          "text": [
            "https://mb.com.ph/2023/5/2/high-level-exchanges-trade-missions-part-of-us-commitment-to-ph\n"
          ]
        },
        {
          "output_type": "stream",
          "name": "stderr",
          "text": [
            "<ipython-input-40-4a1cb05fa26f>:33: FutureWarning: The frame.append method is deprecated and will be removed from pandas in a future version. Use pandas.concat instead.\n",
            "  data2 = data2.append(pd.Series(row, index=data2.columns[:len(row)]), ignore_index=True)\n"
          ]
        },
        {
          "output_type": "stream",
          "name": "stdout",
          "text": [
            "https://mb.com.ph/2023/5/2/pbbm-witnesses-signing-of-deal-to-bring-200-jobs-to-ph-in-ev-bike-building\n"
          ]
        },
        {
          "output_type": "stream",
          "name": "stderr",
          "text": [
            "<ipython-input-40-4a1cb05fa26f>:33: FutureWarning: The frame.append method is deprecated and will be removed from pandas in a future version. Use pandas.concat instead.\n",
            "  data2 = data2.append(pd.Series(row, index=data2.columns[:len(row)]), ignore_index=True)\n"
          ]
        },
        {
          "output_type": "stream",
          "name": "stdout",
          "text": [
            "https://mb.com.ph/2023/5/2/us-nuclear-power-energy-firm-to-invest-in-ph-will-provide-430-mw-palace\n"
          ]
        },
        {
          "output_type": "stream",
          "name": "stderr",
          "text": [
            "<ipython-input-40-4a1cb05fa26f>:33: FutureWarning: The frame.append method is deprecated and will be removed from pandas in a future version. Use pandas.concat instead.\n",
            "  data2 = data2.append(pd.Series(row, index=data2.columns[:len(row)]), ignore_index=True)\n"
          ]
        },
        {
          "output_type": "stream",
          "name": "stdout",
          "text": [
            "https://mb.com.ph/2023/5/2/ph-us-to-form-ministerial-team-on-agri-cooperation\n"
          ]
        },
        {
          "output_type": "stream",
          "name": "stderr",
          "text": [
            "<ipython-input-40-4a1cb05fa26f>:33: FutureWarning: The frame.append method is deprecated and will be removed from pandas in a future version. Use pandas.concat instead.\n",
            "  data2 = data2.append(pd.Series(row, index=data2.columns[:len(row)]), ignore_index=True)\n"
          ]
        },
        {
          "output_type": "stream",
          "name": "stdout",
          "text": [
            "https://mb.com.ph/2023/5/2/biden-reaffirms-us-support-to-ph-over-attacks-at-sea\n"
          ]
        },
        {
          "output_type": "stream",
          "name": "stderr",
          "text": [
            "<ipython-input-40-4a1cb05fa26f>:33: FutureWarning: The frame.append method is deprecated and will be removed from pandas in a future version. Use pandas.concat instead.\n",
            "  data2 = data2.append(pd.Series(row, index=data2.columns[:len(row)]), ignore_index=True)\n"
          ]
        },
        {
          "output_type": "stream",
          "name": "stdout",
          "text": [
            "https://mb.com.ph/2023/5/2/marcos-us-visit-has-already-produced-benefits-says-romualdez\n"
          ]
        },
        {
          "output_type": "stream",
          "name": "stderr",
          "text": [
            "<ipython-input-40-4a1cb05fa26f>:33: FutureWarning: The frame.append method is deprecated and will be removed from pandas in a future version. Use pandas.concat instead.\n",
            "  data2 = data2.append(pd.Series(row, index=data2.columns[:len(row)]), ignore_index=True)\n"
          ]
        },
        {
          "output_type": "stream",
          "name": "stdout",
          "text": [
            "https://mb.com.ph/2023/5/2/abalos-urges-parents-teach-children-to-say-no-to-drugs\n"
          ]
        },
        {
          "output_type": "stream",
          "name": "stderr",
          "text": [
            "<ipython-input-40-4a1cb05fa26f>:33: FutureWarning: The frame.append method is deprecated and will be removed from pandas in a future version. Use pandas.concat instead.\n",
            "  data2 = data2.append(pd.Series(row, index=data2.columns[:len(row)]), ignore_index=True)\n"
          ]
        },
        {
          "output_type": "stream",
          "name": "stdout",
          "text": [
            "https://mb.com.ph/2023/5/2/scattered-rain-showers-to-affect-mindanao-parts-of-visayas-due-to-lpa-itcz\n"
          ]
        },
        {
          "output_type": "stream",
          "name": "stderr",
          "text": [
            "<ipython-input-40-4a1cb05fa26f>:33: FutureWarning: The frame.append method is deprecated and will be removed from pandas in a future version. Use pandas.concat instead.\n",
            "  data2 = data2.append(pd.Series(row, index=data2.columns[:len(row)]), ignore_index=True)\n"
          ]
        },
        {
          "output_type": "stream",
          "name": "stdout",
          "text": [
            "https://mb.com.ph/2023/5/2/devotees-mark-feast-of-saint-peregrine-1\n"
          ]
        },
        {
          "output_type": "stream",
          "name": "stderr",
          "text": [
            "<ipython-input-40-4a1cb05fa26f>:33: FutureWarning: The frame.append method is deprecated and will be removed from pandas in a future version. Use pandas.concat instead.\n",
            "  data2 = data2.append(pd.Series(row, index=data2.columns[:len(row)]), ignore_index=True)\n"
          ]
        },
        {
          "output_type": "stream",
          "name": "stdout",
          "text": [
            "https://mb.com.ph/2023/5/2/4-luzon-areas-log-high-positivity-rates-octa\n"
          ]
        },
        {
          "output_type": "stream",
          "name": "stderr",
          "text": [
            "<ipython-input-40-4a1cb05fa26f>:33: FutureWarning: The frame.append method is deprecated and will be removed from pandas in a future version. Use pandas.concat instead.\n",
            "  data2 = data2.append(pd.Series(row, index=data2.columns[:len(row)]), ignore_index=True)\n"
          ]
        },
        {
          "output_type": "stream",
          "name": "stdout",
          "text": [
            "https://mb.com.ph/2023/5/2/look-cong-frasco-takes-boys-to-lakers-game-gets-photo-with-le-bron-james\n"
          ]
        },
        {
          "output_type": "stream",
          "name": "stderr",
          "text": [
            "<ipython-input-40-4a1cb05fa26f>:33: FutureWarning: The frame.append method is deprecated and will be removed from pandas in a future version. Use pandas.concat instead.\n",
            "  data2 = data2.append(pd.Series(row, index=data2.columns[:len(row)]), ignore_index=True)\n"
          ]
        },
        {
          "output_type": "stream",
          "name": "stdout",
          "text": [
            "https://mb.com.ph/2023/5/2/gatchalian-to-miaa-do-tr-pour-all-attention-to-details-on-naia-power-outage\n"
          ]
        },
        {
          "output_type": "stream",
          "name": "stderr",
          "text": [
            "<ipython-input-40-4a1cb05fa26f>:33: FutureWarning: The frame.append method is deprecated and will be removed from pandas in a future version. Use pandas.concat instead.\n",
            "  data2 = data2.append(pd.Series(row, index=data2.columns[:len(row)]), ignore_index=True)\n"
          ]
        },
        {
          "output_type": "stream",
          "name": "stdout",
          "text": [
            "https://mb.com.ph/2023/5/2/amid-migration-fears-qc-solon-reiterates-need-to-hike-nurses-pay\n"
          ]
        },
        {
          "output_type": "stream",
          "name": "stderr",
          "text": [
            "<ipython-input-40-4a1cb05fa26f>:33: FutureWarning: The frame.append method is deprecated and will be removed from pandas in a future version. Use pandas.concat instead.\n",
            "  data2 = data2.append(pd.Series(row, index=data2.columns[:len(row)]), ignore_index=True)\n"
          ]
        },
        {
          "output_type": "stream",
          "name": "stdout",
          "text": [
            "https://mb.com.ph/2023/5/2/biden-to-send-first-presidential-trade-investment-mission-to-ph\n"
          ]
        },
        {
          "output_type": "stream",
          "name": "stderr",
          "text": [
            "<ipython-input-40-4a1cb05fa26f>:33: FutureWarning: The frame.append method is deprecated and will be removed from pandas in a future version. Use pandas.concat instead.\n",
            "  data2 = data2.append(pd.Series(row, index=data2.columns[:len(row)]), ignore_index=True)\n"
          ]
        },
        {
          "output_type": "stream",
          "name": "stdout",
          "text": [
            "https://mb.com.ph/2023/5/2/marcos-biden-affirm-ironclad-alliance-during-white-house-meet\n"
          ]
        },
        {
          "output_type": "stream",
          "name": "stderr",
          "text": [
            "<ipython-input-40-4a1cb05fa26f>:33: FutureWarning: The frame.append method is deprecated and will be removed from pandas in a future version. Use pandas.concat instead.\n",
            "  data2 = data2.append(pd.Series(row, index=data2.columns[:len(row)]), ignore_index=True)\n"
          ]
        },
        {
          "output_type": "stream",
          "name": "stdout",
          "text": [
            "https://mb.com.ph/2023/5/2/solon-renews-push-for-enactment-of-magna-carta-of-barangay-health-workers\n"
          ]
        },
        {
          "output_type": "stream",
          "name": "stderr",
          "text": [
            "<ipython-input-40-4a1cb05fa26f>:33: FutureWarning: The frame.append method is deprecated and will be removed from pandas in a future version. Use pandas.concat instead.\n",
            "  data2 = data2.append(pd.Series(row, index=data2.columns[:len(row)]), ignore_index=True)\n"
          ]
        },
        {
          "output_type": "stream",
          "name": "stdout",
          "text": [
            "https://mb.com.ph/2023/5/1/2022-bar-passers-take-oath-sign-roll-of-attorneys-at-picc-starting-10-am-may-2\n"
          ]
        },
        {
          "output_type": "stream",
          "name": "stderr",
          "text": [
            "<ipython-input-40-4a1cb05fa26f>:33: FutureWarning: The frame.append method is deprecated and will be removed from pandas in a future version. Use pandas.concat instead.\n",
            "  data2 = data2.append(pd.Series(row, index=data2.columns[:len(row)]), ignore_index=True)\n"
          ]
        },
        {
          "output_type": "stream",
          "name": "stdout",
          "text": [
            "https://mb.com.ph/2023/5/1/no-jackpot-winners-for-grand-mega-lotto-in-may-1-evening-draw\n"
          ]
        },
        {
          "output_type": "stream",
          "name": "stderr",
          "text": [
            "<ipython-input-40-4a1cb05fa26f>:33: FutureWarning: The frame.append method is deprecated and will be removed from pandas in a future version. Use pandas.concat instead.\n",
            "  data2 = data2.append(pd.Series(row, index=data2.columns[:len(row)]), ignore_index=True)\n"
          ]
        },
        {
          "output_type": "stream",
          "name": "stdout",
          "text": [
            "https://mb.com.ph/2023/5/1/pnp-labor-day-protests-celebrations-peaceful-and-orderly\n"
          ]
        },
        {
          "output_type": "stream",
          "name": "stderr",
          "text": [
            "<ipython-input-40-4a1cb05fa26f>:33: FutureWarning: The frame.append method is deprecated and will be removed from pandas in a future version. Use pandas.concat instead.\n",
            "  data2 = data2.append(pd.Series(row, index=data2.columns[:len(row)]), ignore_index=True)\n"
          ]
        },
        {
          "output_type": "stream",
          "name": "stdout",
          "text": [
            "https://mb.com.ph/2023/5/1/heat-index-in-aparri-reaches-44-c-pagasa\n"
          ]
        },
        {
          "output_type": "stream",
          "name": "stderr",
          "text": [
            "<ipython-input-40-4a1cb05fa26f>:33: FutureWarning: The frame.append method is deprecated and will be removed from pandas in a future version. Use pandas.concat instead.\n",
            "  data2 = data2.append(pd.Series(row, index=data2.columns[:len(row)]), ignore_index=True)\n"
          ]
        },
        {
          "output_type": "stream",
          "name": "stdout",
          "text": [
            "https://mb.com.ph/2023/5/1/dilg-bfp-warn-public-as-april-fire-incidents-surge-by-nearly-40\n"
          ]
        },
        {
          "output_type": "stream",
          "name": "stderr",
          "text": [
            "<ipython-input-40-4a1cb05fa26f>:33: FutureWarning: The frame.append method is deprecated and will be removed from pandas in a future version. Use pandas.concat instead.\n",
            "  data2 = data2.append(pd.Series(row, index=data2.columns[:len(row)]), ignore_index=True)\n"
          ]
        },
        {
          "output_type": "stream",
          "name": "stdout",
          "text": [
            "https://mb.com.ph/2023/5/1/biggest-in-ph-history-boc-zamboanga-destroys-p1-43-b-smuggled-cigarettes\n"
          ]
        },
        {
          "output_type": "stream",
          "name": "stderr",
          "text": [
            "<ipython-input-40-4a1cb05fa26f>:33: FutureWarning: The frame.append method is deprecated and will be removed from pandas in a future version. Use pandas.concat instead.\n",
            "  data2 = data2.append(pd.Series(row, index=data2.columns[:len(row)]), ignore_index=True)\n"
          ]
        },
        {
          "output_type": "stream",
          "name": "stdout",
          "text": [
            "https://mb.com.ph/2023/5/1/ph-red-cross-joins-doh-s-measles-rubella-polio-vaccination-campaign\n"
          ]
        },
        {
          "output_type": "stream",
          "name": "stderr",
          "text": [
            "<ipython-input-40-4a1cb05fa26f>:33: FutureWarning: The frame.append method is deprecated and will be removed from pandas in a future version. Use pandas.concat instead.\n",
            "  data2 = data2.append(pd.Series(row, index=data2.columns[:len(row)]), ignore_index=True)\n"
          ]
        },
        {
          "output_type": "stream",
          "name": "stdout",
          "text": [
            "https://mb.com.ph/2023/5/1/bishop-bendico-celebrates-farewell-mass\n"
          ]
        },
        {
          "output_type": "stream",
          "name": "stderr",
          "text": [
            "<ipython-input-40-4a1cb05fa26f>:33: FutureWarning: The frame.append method is deprecated and will be removed from pandas in a future version. Use pandas.concat instead.\n",
            "  data2 = data2.append(pd.Series(row, index=data2.columns[:len(row)]), ignore_index=True)\n"
          ]
        },
        {
          "output_type": "stream",
          "name": "stdout",
          "text": [
            "https://mb.com.ph/2023/5/1/pbbm-should-recall-ambassador-to-beijing-over-ayungin-near-collision-solon-says\n"
          ]
        },
        {
          "output_type": "stream",
          "name": "stderr",
          "text": [
            "<ipython-input-40-4a1cb05fa26f>:33: FutureWarning: The frame.append method is deprecated and will be removed from pandas in a future version. Use pandas.concat instead.\n",
            "  data2 = data2.append(pd.Series(row, index=data2.columns[:len(row)]), ignore_index=True)\n"
          ]
        },
        {
          "output_type": "stream",
          "name": "stdout",
          "text": [
            "https://mb.com.ph/2023/5/1/zubiri-senate-to-pursue-wage-hike-other-laws-advancing-filipino-workers-rights-1\n"
          ]
        },
        {
          "output_type": "stream",
          "name": "stderr",
          "text": [
            "<ipython-input-40-4a1cb05fa26f>:33: FutureWarning: The frame.append method is deprecated and will be removed from pandas in a future version. Use pandas.concat instead.\n",
            "  data2 = data2.append(pd.Series(row, index=data2.columns[:len(row)]), ignore_index=True)\n"
          ]
        },
        {
          "output_type": "stream",
          "name": "stdout",
          "text": [
            "https://mb.com.ph/2023/5/1/tolentino-wants-clearer-definition-of-ph-territory-inclusion-of-cyber-attack-provision-in-ph-us-mdt\n"
          ]
        },
        {
          "output_type": "stream",
          "name": "stderr",
          "text": [
            "<ipython-input-40-4a1cb05fa26f>:33: FutureWarning: The frame.append method is deprecated and will be removed from pandas in a future version. Use pandas.concat instead.\n",
            "  data2 = data2.append(pd.Series(row, index=data2.columns[:len(row)]), ignore_index=True)\n"
          ]
        },
        {
          "output_type": "stream",
          "name": "stdout",
          "text": [
            "https://mb.com.ph/2023/5/1/pimentel-backs-proposed-legislated-wage-hike-1\n"
          ]
        },
        {
          "output_type": "stream",
          "name": "stderr",
          "text": [
            "<ipython-input-40-4a1cb05fa26f>:33: FutureWarning: The frame.append method is deprecated and will be removed from pandas in a future version. Use pandas.concat instead.\n",
            "  data2 = data2.append(pd.Series(row, index=data2.columns[:len(row)]), ignore_index=True)\n"
          ]
        },
        {
          "output_type": "stream",
          "name": "stdout",
          "text": [
            "https://mb.com.ph/2023/5/1/binay-ph-travel-now-becoming-an-unpleasant-frustrating-experience-for-travelers\n"
          ]
        },
        {
          "output_type": "stream",
          "name": "stderr",
          "text": [
            "<ipython-input-40-4a1cb05fa26f>:33: FutureWarning: The frame.append method is deprecated and will be removed from pandas in a future version. Use pandas.concat instead.\n",
            "  data2 = data2.append(pd.Series(row, index=data2.columns[:len(row)]), ignore_index=True)\n"
          ]
        },
        {
          "output_type": "stream",
          "name": "stdout",
          "text": [
            "https://mb.com.ph/2023/5/1/tulfo-rotational-brownouts-might-continue-to-pester-panay-negros-in-the-coming-days-1\n"
          ]
        },
        {
          "output_type": "stream",
          "name": "stderr",
          "text": [
            "<ipython-input-40-4a1cb05fa26f>:33: FutureWarning: The frame.append method is deprecated and will be removed from pandas in a future version. Use pandas.concat instead.\n",
            "  data2 = data2.append(pd.Series(row, index=data2.columns[:len(row)]), ignore_index=True)\n"
          ]
        },
        {
          "output_type": "stream",
          "name": "stdout",
          "text": [
            "https://mb.com.ph/2023/5/1/senators-slam-naia-power-outage-1\n"
          ]
        },
        {
          "output_type": "stream",
          "name": "stderr",
          "text": [
            "<ipython-input-40-4a1cb05fa26f>:33: FutureWarning: The frame.append method is deprecated and will be removed from pandas in a future version. Use pandas.concat instead.\n",
            "  data2 = data2.append(pd.Series(row, index=data2.columns[:len(row)]), ignore_index=True)\n"
          ]
        },
        {
          "output_type": "stream",
          "name": "stdout",
          "text": [
            "https://mb.com.ph/2023/5/1/lpa-spotted-east-of-mindanao-pagasa\n"
          ]
        },
        {
          "output_type": "stream",
          "name": "stderr",
          "text": [
            "<ipython-input-40-4a1cb05fa26f>:33: FutureWarning: The frame.append method is deprecated and will be removed from pandas in a future version. Use pandas.concat instead.\n",
            "  data2 = data2.append(pd.Series(row, index=data2.columns[:len(row)]), ignore_index=True)\n"
          ]
        },
        {
          "output_type": "stream",
          "name": "stdout",
          "text": [
            "https://mb.com.ph/2023/5/1/mb-daily-news-summary-39\n"
          ]
        },
        {
          "output_type": "stream",
          "name": "stderr",
          "text": [
            "<ipython-input-40-4a1cb05fa26f>:33: FutureWarning: The frame.append method is deprecated and will be removed from pandas in a future version. Use pandas.concat instead.\n",
            "  data2 = data2.append(pd.Series(row, index=data2.columns[:len(row)]), ignore_index=True)\n"
          ]
        },
        {
          "output_type": "stream",
          "name": "stdout",
          "text": [
            "https://mb.com.ph/2023/5/1/dole-reviews-10-wage-hike-petitions-in-ncr-3-other-regions-p1-8-b-assistance-distributed-on-labor-day\n"
          ]
        },
        {
          "output_type": "stream",
          "name": "stderr",
          "text": [
            "<ipython-input-40-4a1cb05fa26f>:33: FutureWarning: The frame.append method is deprecated and will be removed from pandas in a future version. Use pandas.concat instead.\n",
            "  data2 = data2.append(pd.Series(row, index=data2.columns[:len(row)]), ignore_index=True)\n"
          ]
        },
        {
          "output_type": "stream",
          "name": "stdout",
          "text": [
            "https://mb.com.ph/2023/5/1/do-tr-eyes-full-audit-of-naia-electrical-system-after-power-outage-cancels-delays-flights-anew\n"
          ]
        },
        {
          "output_type": "stream",
          "name": "stderr",
          "text": [
            "<ipython-input-40-4a1cb05fa26f>:33: FutureWarning: The frame.append method is deprecated and will be removed from pandas in a future version. Use pandas.concat instead.\n",
            "  data2 = data2.append(pd.Series(row, index=data2.columns[:len(row)]), ignore_index=True)\n"
          ]
        },
        {
          "output_type": "stream",
          "name": "stdout",
          "text": [
            "https://mb.com.ph/2023/5/1/on-labor-day-phil-health-reminds-employers-to-remit-workers-premiums-on-time\n"
          ]
        },
        {
          "output_type": "stream",
          "name": "stderr",
          "text": [
            "<ipython-input-40-4a1cb05fa26f>:33: FutureWarning: The frame.append method is deprecated and will be removed from pandas in a future version. Use pandas.concat instead.\n",
            "  data2 = data2.append(pd.Series(row, index=data2.columns[:len(row)]), ignore_index=True)\n"
          ]
        },
        {
          "output_type": "stream",
          "name": "stdout",
          "text": [
            "https://mb.com.ph/2023/5/1/solon-marcos-gov-t-should-rechannel-ntf-elcac-funds-to-fuel-subsidies-for-occidental-mindoro\n"
          ]
        },
        {
          "output_type": "stream",
          "name": "stderr",
          "text": [
            "<ipython-input-40-4a1cb05fa26f>:33: FutureWarning: The frame.append method is deprecated and will be removed from pandas in a future version. Use pandas.concat instead.\n",
            "  data2 = data2.append(pd.Series(row, index=data2.columns[:len(row)]), ignore_index=True)\n"
          ]
        },
        {
          "output_type": "stream",
          "name": "stdout",
          "text": [
            "https://mb.com.ph/2023/5/1/sec-remulla-pays-tribute-to-filipino-workers\n"
          ]
        },
        {
          "output_type": "stream",
          "name": "stderr",
          "text": [
            "<ipython-input-40-4a1cb05fa26f>:33: FutureWarning: The frame.append method is deprecated and will be removed from pandas in a future version. Use pandas.concat instead.\n",
            "  data2 = data2.append(pd.Series(row, index=data2.columns[:len(row)]), ignore_index=True)\n"
          ]
        },
        {
          "output_type": "stream",
          "name": "stdout",
          "text": [
            "https://mb.com.ph/2023/5/1/mt-kanlaon-records-highest-sulfur-dioxide-emission-for-this-year\n"
          ]
        },
        {
          "output_type": "stream",
          "name": "stderr",
          "text": [
            "<ipython-input-40-4a1cb05fa26f>:33: FutureWarning: The frame.append method is deprecated and will be removed from pandas in a future version. Use pandas.concat instead.\n",
            "  data2 = data2.append(pd.Series(row, index=data2.columns[:len(row)]), ignore_index=True)\n"
          ]
        },
        {
          "output_type": "stream",
          "name": "stdout",
          "text": [
            "https://mb.com.ph/2023/5/1/sandigan-affirms-conviction-of-ex-cebu-town-treasurer\n"
          ]
        },
        {
          "output_type": "stream",
          "name": "stderr",
          "text": [
            "<ipython-input-40-4a1cb05fa26f>:33: FutureWarning: The frame.append method is deprecated and will be removed from pandas in a future version. Use pandas.concat instead.\n",
            "  data2 = data2.append(pd.Series(row, index=data2.columns[:len(row)]), ignore_index=True)\n"
          ]
        },
        {
          "output_type": "stream",
          "name": "stdout",
          "text": [
            "https://mb.com.ph/2023/5/1/bi-nabs-foreigner-wanted-in-korea\n"
          ]
        },
        {
          "output_type": "stream",
          "name": "stderr",
          "text": [
            "<ipython-input-40-4a1cb05fa26f>:33: FutureWarning: The frame.append method is deprecated and will be removed from pandas in a future version. Use pandas.concat instead.\n",
            "  data2 = data2.append(pd.Series(row, index=data2.columns[:len(row)]), ignore_index=True)\n"
          ]
        },
        {
          "output_type": "stream",
          "name": "stdout",
          "text": [
            "https://mb.com.ph/2023/5/1/rebate-for-all-lifeline-customers-in-effect-on-may-billing-maynilad-says\n"
          ]
        },
        {
          "output_type": "stream",
          "name": "stderr",
          "text": [
            "<ipython-input-40-4a1cb05fa26f>:33: FutureWarning: The frame.append method is deprecated and will be removed from pandas in a future version. Use pandas.concat instead.\n",
            "  data2 = data2.append(pd.Series(row, index=data2.columns[:len(row)]), ignore_index=True)\n"
          ]
        },
        {
          "output_type": "stream",
          "name": "stdout",
          "text": [
            "https://mb.com.ph/2023/5/1/makati-city-taguig-city-urged-to-iron-out-smooth-transition-to-enforce-sc-s-final-ruling-on-land-dispute\n"
          ]
        },
        {
          "output_type": "stream",
          "name": "stderr",
          "text": [
            "<ipython-input-40-4a1cb05fa26f>:33: FutureWarning: The frame.append method is deprecated and will be removed from pandas in a future version. Use pandas.concat instead.\n",
            "  data2 = data2.append(pd.Series(row, index=data2.columns[:len(row)]), ignore_index=True)\n"
          ]
        },
        {
          "output_type": "stream",
          "name": "stdout",
          "text": [
            "https://mb.com.ph/2023/5/1/pcg-prepares-for-contingency-as-oil-sheen-spotted-at-yacht-sinking-site-near-tubbataha\n"
          ]
        },
        {
          "output_type": "stream",
          "name": "stderr",
          "text": [
            "<ipython-input-40-4a1cb05fa26f>:33: FutureWarning: The frame.append method is deprecated and will be removed from pandas in a future version. Use pandas.concat instead.\n",
            "  data2 = data2.append(pd.Series(row, index=data2.columns[:len(row)]), ignore_index=True)\n"
          ]
        },
        {
          "output_type": "stream",
          "name": "stdout",
          "text": [
            "https://mb.com.ph/2023/5/1/pnp-prioritizes-deployment-of-cops-to-crime-prone-barangays\n"
          ]
        },
        {
          "output_type": "stream",
          "name": "stderr",
          "text": [
            "<ipython-input-40-4a1cb05fa26f>:33: FutureWarning: The frame.append method is deprecated and will be removed from pandas in a future version. Use pandas.concat instead.\n",
            "  data2 = data2.append(pd.Series(row, index=data2.columns[:len(row)]), ignore_index=True)\n"
          ]
        },
        {
          "output_type": "stream",
          "name": "stdout",
          "text": [
            "https://mb.com.ph/2023/5/1/group-backs-local-production-of-e-vehicles-incentives-for-e-motorcycles\n"
          ]
        },
        {
          "output_type": "stream",
          "name": "stderr",
          "text": [
            "<ipython-input-40-4a1cb05fa26f>:33: FutureWarning: The frame.append method is deprecated and will be removed from pandas in a future version. Use pandas.concat instead.\n",
            "  data2 = data2.append(pd.Series(row, index=data2.columns[:len(row)]), ignore_index=True)\n"
          ]
        },
        {
          "output_type": "stream",
          "name": "stdout",
          "text": [
            "https://mb.com.ph/2023/5/1/phil-health-to-roll-out-expanded-benefits-for-members\n"
          ]
        },
        {
          "output_type": "stream",
          "name": "stderr",
          "text": [
            "<ipython-input-40-4a1cb05fa26f>:33: FutureWarning: The frame.append method is deprecated and will be removed from pandas in a future version. Use pandas.concat instead.\n",
            "  data2 = data2.append(pd.Series(row, index=data2.columns[:len(row)]), ignore_index=True)\n"
          ]
        },
        {
          "output_type": "stream",
          "name": "stdout",
          "text": [
            "https://mb.com.ph/2023/5/1/bu-cor-has-256-applicants-to-posts-of-corrections-officer-in-iwahig-prison\n"
          ]
        },
        {
          "output_type": "stream",
          "name": "stderr",
          "text": [
            "<ipython-input-40-4a1cb05fa26f>:33: FutureWarning: The frame.append method is deprecated and will be removed from pandas in a future version. Use pandas.concat instead.\n",
            "  data2 = data2.append(pd.Series(row, index=data2.columns[:len(row)]), ignore_index=True)\n"
          ]
        },
        {
          "output_type": "stream",
          "name": "stdout",
          "text": [
            "https://mb.com.ph/2023/5/1/coa-cites-tacurong-city-s-covid-19-vaccination-program\n"
          ]
        },
        {
          "output_type": "stream",
          "name": "stderr",
          "text": [
            "<ipython-input-40-4a1cb05fa26f>:33: FutureWarning: The frame.append method is deprecated and will be removed from pandas in a future version. Use pandas.concat instead.\n",
            "  data2 = data2.append(pd.Series(row, index=data2.columns[:len(row)]), ignore_index=True)\n"
          ]
        },
        {
          "output_type": "stream",
          "name": "stdout",
          "text": [
            "https://mb.com.ph/2023/5/1/house-backs-pbbm-s-bid-to-boost-ph-us-ties-for-peace-in-the-indo-pacific-region-romualdez\n"
          ]
        },
        {
          "output_type": "stream",
          "name": "stderr",
          "text": [
            "<ipython-input-40-4a1cb05fa26f>:33: FutureWarning: The frame.append method is deprecated and will be removed from pandas in a future version. Use pandas.concat instead.\n",
            "  data2 = data2.append(pd.Series(row, index=data2.columns[:len(row)]), ignore_index=True)\n"
          ]
        },
        {
          "output_type": "stream",
          "name": "stdout",
          "text": [
            "https://mb.com.ph/2023/5/1/pbbm-provide-aid-to-passengers-affected-by-naia-power-outage\n"
          ]
        },
        {
          "output_type": "stream",
          "name": "stderr",
          "text": [
            "<ipython-input-40-4a1cb05fa26f>:33: FutureWarning: The frame.append method is deprecated and will be removed from pandas in a future version. Use pandas.concat instead.\n",
            "  data2 = data2.append(pd.Series(row, index=data2.columns[:len(row)]), ignore_index=True)\n"
          ]
        },
        {
          "output_type": "stream",
          "name": "stdout",
          "text": [
            "https://mb.com.ph/2023/5/1/mega-lotto-jackpot-reaches-p158-m-before-may-1-evening-draw\n"
          ]
        },
        {
          "output_type": "stream",
          "name": "stderr",
          "text": [
            "<ipython-input-40-4a1cb05fa26f>:33: FutureWarning: The frame.append method is deprecated and will be removed from pandas in a future version. Use pandas.concat instead.\n",
            "  data2 = data2.append(pd.Series(row, index=data2.columns[:len(row)]), ignore_index=True)\n"
          ]
        },
        {
          "output_type": "stream",
          "name": "stdout",
          "text": [
            "https://mb.com.ph/2023/5/1/romualdez-house-to-pursue-laws-promoting-filipino-workers-welfare\n"
          ]
        },
        {
          "output_type": "stream",
          "name": "stderr",
          "text": [
            "<ipython-input-40-4a1cb05fa26f>:33: FutureWarning: The frame.append method is deprecated and will be removed from pandas in a future version. Use pandas.concat instead.\n",
            "  data2 = data2.append(pd.Series(row, index=data2.columns[:len(row)]), ignore_index=True)\n"
          ]
        },
        {
          "output_type": "stream",
          "name": "stdout",
          "text": [
            "https://mb.com.ph/2023/5/1/duterte-vows-to-boost-ph-education-system-for-youth-to-have-quality-jobs\n"
          ]
        },
        {
          "output_type": "stream",
          "name": "stderr",
          "text": [
            "<ipython-input-40-4a1cb05fa26f>:33: FutureWarning: The frame.append method is deprecated and will be removed from pandas in a future version. Use pandas.concat instead.\n",
            "  data2 = data2.append(pd.Series(row, index=data2.columns[:len(row)]), ignore_index=True)\n"
          ]
        },
        {
          "output_type": "stream",
          "name": "stdout",
          "text": [
            "https://mb.com.ph/2023/5/1/bong-go-urges-do-tr-to-help-lto-resolve-license-plates-shortage\n"
          ]
        },
        {
          "output_type": "stream",
          "name": "stderr",
          "text": [
            "<ipython-input-40-4a1cb05fa26f>:33: FutureWarning: The frame.append method is deprecated and will be removed from pandas in a future version. Use pandas.concat instead.\n",
            "  data2 = data2.append(pd.Series(row, index=data2.columns[:len(row)]), ignore_index=True)\n"
          ]
        },
        {
          "output_type": "stream",
          "name": "stdout",
          "text": [
            "https://mb.com.ph/2023/5/1/feast-of-saint-joseph-the-worker-on-labor-day\n"
          ]
        },
        {
          "output_type": "stream",
          "name": "stderr",
          "text": [
            "<ipython-input-40-4a1cb05fa26f>:33: FutureWarning: The frame.append method is deprecated and will be removed from pandas in a future version. Use pandas.concat instead.\n",
            "  data2 = data2.append(pd.Series(row, index=data2.columns[:len(row)]), ignore_index=True)\n"
          ]
        },
        {
          "output_type": "stream",
          "name": "stdout",
          "text": [
            "https://mb.com.ph/2023/5/1/marcos-vows-more-opportunities-for-filipino-workers\n"
          ]
        },
        {
          "output_type": "stream",
          "name": "stderr",
          "text": [
            "<ipython-input-40-4a1cb05fa26f>:33: FutureWarning: The frame.append method is deprecated and will be removed from pandas in a future version. Use pandas.concat instead.\n",
            "  data2 = data2.append(pd.Series(row, index=data2.columns[:len(row)]), ignore_index=True)\n"
          ]
        },
        {
          "output_type": "stream",
          "name": "stdout",
          "text": [
            "https://mb.com.ph/2023/5/1/marcos-asks-china-to-finally-discuss-with-ph-issues-concerning-pinoy-fishers\n"
          ]
        },
        {
          "output_type": "stream",
          "name": "stderr",
          "text": [
            "<ipython-input-40-4a1cb05fa26f>:33: FutureWarning: The frame.append method is deprecated and will be removed from pandas in a future version. Use pandas.concat instead.\n",
            "  data2 = data2.append(pd.Series(row, index=data2.columns[:len(row)]), ignore_index=True)\n"
          ]
        },
        {
          "output_type": "stream",
          "name": "stdout",
          "text": [
            "https://mb.com.ph/2023/5/1/marcos-hopes-mandatory-facemask-policy-won-t-return-due-to-rising-covid-cases\n"
          ]
        },
        {
          "output_type": "stream",
          "name": "stderr",
          "text": [
            "<ipython-input-40-4a1cb05fa26f>:33: FutureWarning: The frame.append method is deprecated and will be removed from pandas in a future version. Use pandas.concat instead.\n",
            "  data2 = data2.append(pd.Series(row, index=data2.columns[:len(row)]), ignore_index=True)\n"
          ]
        },
        {
          "output_type": "stream",
          "name": "stdout",
          "text": [
            "https://mb.com.ph/2023/5/1/marcos-arrives-in-washington\n"
          ]
        },
        {
          "output_type": "stream",
          "name": "stderr",
          "text": [
            "<ipython-input-40-4a1cb05fa26f>:33: FutureWarning: The frame.append method is deprecated and will be removed from pandas in a future version. Use pandas.concat instead.\n",
            "  data2 = data2.append(pd.Series(row, index=data2.columns[:len(row)]), ignore_index=True)\n"
          ]
        },
        {
          "output_type": "stream",
          "name": "stdout",
          "text": [
            "https://mb.com.ph/2023/5/1/we-will-not-allow-the-philippines-to-be-a-staging-post-of-military-action-marcos\n"
          ]
        },
        {
          "output_type": "stream",
          "name": "stderr",
          "text": [
            "<ipython-input-40-4a1cb05fa26f>:33: FutureWarning: The frame.append method is deprecated and will be removed from pandas in a future version. Use pandas.concat instead.\n",
            "  data2 = data2.append(pd.Series(row, index=data2.columns[:len(row)]), ignore_index=True)\n"
          ]
        },
        {
          "output_type": "stream",
          "name": "stdout",
          "text": [
            "https://mb.com.ph/2023/5/1/pbbm-hints-tapping-losing-election-candidates-as-part-of-his-cabinet\n"
          ]
        },
        {
          "output_type": "stream",
          "name": "stderr",
          "text": [
            "<ipython-input-40-4a1cb05fa26f>:33: FutureWarning: The frame.append method is deprecated and will be removed from pandas in a future version. Use pandas.concat instead.\n",
            "  data2 = data2.append(pd.Series(row, index=data2.columns[:len(row)]), ignore_index=True)\n"
          ]
        },
        {
          "output_type": "stream",
          "name": "stdout",
          "text": [
            "https://mb.com.ph/2023/5/1/dhsud-party-list-group-commit-to-housing-projects-for-of-ws\n"
          ]
        },
        {
          "output_type": "stream",
          "name": "stderr",
          "text": [
            "<ipython-input-40-4a1cb05fa26f>:33: FutureWarning: The frame.append method is deprecated and will be removed from pandas in a future version. Use pandas.concat instead.\n",
            "  data2 = data2.append(pd.Series(row, index=data2.columns[:len(row)]), ignore_index=True)\n"
          ]
        },
        {
          "output_type": "stream",
          "name": "stdout",
          "text": [
            "https://mb.com.ph/2023/5/1/robin-mariel-feted-in-gawad-agila-awards-1\n"
          ]
        },
        {
          "output_type": "stream",
          "name": "stderr",
          "text": [
            "<ipython-input-40-4a1cb05fa26f>:33: FutureWarning: The frame.append method is deprecated and will be removed from pandas in a future version. Use pandas.concat instead.\n",
            "  data2 = data2.append(pd.Series(row, index=data2.columns[:len(row)]), ignore_index=True)\n"
          ]
        },
        {
          "output_type": "stream",
          "name": "stdout",
          "text": [
            "https://mb.com.ph/2023/5/1/robin-flies-to-israel-for-conferences-on-medical-marijuana-1\n"
          ]
        },
        {
          "output_type": "stream",
          "name": "stderr",
          "text": [
            "<ipython-input-40-4a1cb05fa26f>:33: FutureWarning: The frame.append method is deprecated and will be removed from pandas in a future version. Use pandas.concat instead.\n",
            "  data2 = data2.append(pd.Series(row, index=data2.columns[:len(row)]), ignore_index=True)\n"
          ]
        },
        {
          "output_type": "stream",
          "name": "stdout",
          "text": [
            "https://mb.com.ph/2023/5/1/rains-expected-in-palawan-mindanao-due-to-itcz-pagasa\n"
          ]
        },
        {
          "output_type": "stream",
          "name": "stderr",
          "text": [
            "<ipython-input-40-4a1cb05fa26f>:33: FutureWarning: The frame.append method is deprecated and will be removed from pandas in a future version. Use pandas.concat instead.\n",
            "  data2 = data2.append(pd.Series(row, index=data2.columns[:len(row)]), ignore_index=True)\n"
          ]
        },
        {
          "output_type": "stream",
          "name": "stdout",
          "text": [
            "https://mb.com.ph/2023/5/1/flights-cancelled-more-delays-expected-as-power-outage-hits-naia-anew\n"
          ]
        },
        {
          "output_type": "stream",
          "name": "stderr",
          "text": [
            "<ipython-input-40-4a1cb05fa26f>:33: FutureWarning: The frame.append method is deprecated and will be removed from pandas in a future version. Use pandas.concat instead.\n",
            "  data2 = data2.append(pd.Series(row, index=data2.columns[:len(row)]), ignore_index=True)\n"
          ]
        },
        {
          "output_type": "stream",
          "name": "stdout",
          "text": [
            "https://mb.com.ph/2023/4/30/japanese-solon-meets-vp-duterte-here-s-what-happened\n"
          ]
        },
        {
          "output_type": "stream",
          "name": "stderr",
          "text": [
            "<ipython-input-40-4a1cb05fa26f>:33: FutureWarning: The frame.append method is deprecated and will be removed from pandas in a future version. Use pandas.concat instead.\n",
            "  data2 = data2.append(pd.Series(row, index=data2.columns[:len(row)]), ignore_index=True)\n"
          ]
        },
        {
          "output_type": "stream",
          "name": "stdout",
          "text": [
            "https://mb.com.ph/2023/4/30/ultra-super-lotto-jackpots-still-up-for-grabs-2\n"
          ]
        },
        {
          "output_type": "stream",
          "name": "stderr",
          "text": [
            "<ipython-input-40-4a1cb05fa26f>:33: FutureWarning: The frame.append method is deprecated and will be removed from pandas in a future version. Use pandas.concat instead.\n",
            "  data2 = data2.append(pd.Series(row, index=data2.columns[:len(row)]), ignore_index=True)\n"
          ]
        },
        {
          "output_type": "stream",
          "name": "stdout",
          "text": [
            "https://mb.com.ph/2023/4/30/here-are-3-of-kabayan-solon-s-pro-pinoy-workers-bills\n"
          ]
        },
        {
          "output_type": "stream",
          "name": "stderr",
          "text": [
            "<ipython-input-40-4a1cb05fa26f>:33: FutureWarning: The frame.append method is deprecated and will be removed from pandas in a future version. Use pandas.concat instead.\n",
            "  data2 = data2.append(pd.Series(row, index=data2.columns[:len(row)]), ignore_index=True)\n"
          ]
        },
        {
          "output_type": "stream",
          "name": "stdout",
          "text": [
            "https://mb.com.ph/2023/4/30/public-told-keep-transactions-with-online-sellers-within-e-commerce-platforms\n"
          ]
        },
        {
          "output_type": "stream",
          "name": "stderr",
          "text": [
            "<ipython-input-40-4a1cb05fa26f>:33: FutureWarning: The frame.append method is deprecated and will be removed from pandas in a future version. Use pandas.concat instead.\n",
            "  data2 = data2.append(pd.Series(row, index=data2.columns[:len(row)]), ignore_index=True)\n"
          ]
        },
        {
          "output_type": "stream",
          "name": "stdout",
          "text": [
            "https://mb.com.ph/2023/4/30/pagasa-records-dangerous-heat-index-in-6-ph-areas-on-sunday\n"
          ]
        },
        {
          "output_type": "stream",
          "name": "stderr",
          "text": [
            "<ipython-input-40-4a1cb05fa26f>:33: FutureWarning: The frame.append method is deprecated and will be removed from pandas in a future version. Use pandas.concat instead.\n",
            "  data2 = data2.append(pd.Series(row, index=data2.columns[:len(row)]), ignore_index=True)\n"
          ]
        },
        {
          "output_type": "stream",
          "name": "stdout",
          "text": [
            "https://mb.com.ph/2023/4/30/dep-ed-s-revised-curriculum-dilutes-nationalism-in-foundational-grades-group-says\n"
          ]
        },
        {
          "output_type": "stream",
          "name": "stderr",
          "text": [
            "<ipython-input-40-4a1cb05fa26f>:33: FutureWarning: The frame.append method is deprecated and will be removed from pandas in a future version. Use pandas.concat instead.\n",
            "  data2 = data2.append(pd.Series(row, index=data2.columns[:len(row)]), ignore_index=True)\n"
          ]
        },
        {
          "output_type": "stream",
          "name": "stdout",
          "text": [
            "https://mb.com.ph/2023/4/30/bi-to-maximize-airport-operations-updates-via-social-media\n"
          ]
        },
        {
          "output_type": "stream",
          "name": "stderr",
          "text": [
            "<ipython-input-40-4a1cb05fa26f>:33: FutureWarning: The frame.append method is deprecated and will be removed from pandas in a future version. Use pandas.concat instead.\n",
            "  data2 = data2.append(pd.Series(row, index=data2.columns[:len(row)]), ignore_index=True)\n"
          ]
        },
        {
          "output_type": "stream",
          "name": "stdout",
          "text": [
            "https://mb.com.ph/2023/4/30/bi-to-enhance-skills-of-frontliners\n"
          ]
        },
        {
          "output_type": "stream",
          "name": "stderr",
          "text": [
            "<ipython-input-40-4a1cb05fa26f>:33: FutureWarning: The frame.append method is deprecated and will be removed from pandas in a future version. Use pandas.concat instead.\n",
            "  data2 = data2.append(pd.Series(row, index=data2.columns[:len(row)]), ignore_index=True)\n"
          ]
        },
        {
          "output_type": "stream",
          "name": "stdout",
          "text": [
            "https://mb.com.ph/2023/4/30/mb-daily-news-summary-38\n"
          ]
        },
        {
          "output_type": "stream",
          "name": "stderr",
          "text": [
            "<ipython-input-40-4a1cb05fa26f>:33: FutureWarning: The frame.append method is deprecated and will be removed from pandas in a future version. Use pandas.concat instead.\n",
            "  data2 = data2.append(pd.Series(row, index=data2.columns[:len(row)]), ignore_index=True)\n"
          ]
        },
        {
          "output_type": "stream",
          "name": "stdout",
          "text": [
            "https://mb.com.ph/2023/4/30/a-first-house-sets-aside-p10-b-for-nationwide-solar-powered-water-supply-system-program\n"
          ]
        },
        {
          "output_type": "stream",
          "name": "stderr",
          "text": [
            "<ipython-input-40-4a1cb05fa26f>:33: FutureWarning: The frame.append method is deprecated and will be removed from pandas in a future version. Use pandas.concat instead.\n",
            "  data2 = data2.append(pd.Series(row, index=data2.columns[:len(row)]), ignore_index=True)\n"
          ]
        },
        {
          "output_type": "stream",
          "name": "stdout",
          "text": [
            "https://mb.com.ph/2023/4/30/7-npa-rebels-dead-in-n-samar-clash-military\n"
          ]
        },
        {
          "output_type": "stream",
          "name": "stderr",
          "text": [
            "<ipython-input-40-4a1cb05fa26f>:33: FutureWarning: The frame.append method is deprecated and will be removed from pandas in a future version. Use pandas.concat instead.\n",
            "  data2 = data2.append(pd.Series(row, index=data2.columns[:len(row)]), ignore_index=True)\n"
          ]
        },
        {
          "output_type": "stream",
          "name": "stdout",
          "text": [
            "https://mb.com.ph/2023/4/30/china-told-to-follow-int-l-law-amid-its-dangerous-conduct-against-ph\n"
          ]
        },
        {
          "output_type": "stream",
          "name": "stderr",
          "text": [
            "<ipython-input-40-4a1cb05fa26f>:33: FutureWarning: The frame.append method is deprecated and will be removed from pandas in a future version. Use pandas.concat instead.\n",
            "  data2 = data2.append(pd.Series(row, index=data2.columns[:len(row)]), ignore_index=True)\n"
          ]
        },
        {
          "output_type": "stream",
          "name": "stdout",
          "text": [
            "https://mb.com.ph/2023/4/30/marcos-o-ks-eo-creating-body-to-resolve-labor-cases\n"
          ]
        },
        {
          "output_type": "stream",
          "name": "stderr",
          "text": [
            "<ipython-input-40-4a1cb05fa26f>:33: FutureWarning: The frame.append method is deprecated and will be removed from pandas in a future version. Use pandas.concat instead.\n",
            "  data2 = data2.append(pd.Series(row, index=data2.columns[:len(row)]), ignore_index=True)\n"
          ]
        },
        {
          "output_type": "stream",
          "name": "stdout",
          "text": [
            "https://mb.com.ph/2023/4/30/gov-t-gifts-house-and-lots-to-5-lucky-picks-for-labor-day\n"
          ]
        },
        {
          "output_type": "stream",
          "name": "stderr",
          "text": [
            "<ipython-input-40-4a1cb05fa26f>:33: FutureWarning: The frame.append method is deprecated and will be removed from pandas in a future version. Use pandas.concat instead.\n",
            "  data2 = data2.append(pd.Series(row, index=data2.columns[:len(row)]), ignore_index=True)\n"
          ]
        },
        {
          "output_type": "stream",
          "name": "stdout",
          "text": [
            "https://mb.com.ph/2023/4/30/provide-perks-to-qualified-senior-citizens-dilg-urges-car-lg-us\n"
          ]
        },
        {
          "output_type": "stream",
          "name": "stderr",
          "text": [
            "<ipython-input-40-4a1cb05fa26f>:33: FutureWarning: The frame.append method is deprecated and will be removed from pandas in a future version. Use pandas.concat instead.\n",
            "  data2 = data2.append(pd.Series(row, index=data2.columns[:len(row)]), ignore_index=True)\n"
          ]
        },
        {
          "output_type": "stream",
          "name": "stdout",
          "text": [
            "https://mb.com.ph/2023/4/30/safeguarding-pdl-s-rights-and-dignity-a-focal-point-in-zamboanga-city-jail-reforms-bjmp\n"
          ]
        },
        {
          "output_type": "stream",
          "name": "stderr",
          "text": [
            "<ipython-input-40-4a1cb05fa26f>:33: FutureWarning: The frame.append method is deprecated and will be removed from pandas in a future version. Use pandas.concat instead.\n",
            "  data2 = data2.append(pd.Series(row, index=data2.columns[:len(row)]), ignore_index=True)\n"
          ]
        },
        {
          "output_type": "stream",
          "name": "stdout",
          "text": [
            "https://mb.com.ph/2023/4/30/dnd-opapru-peace-development-await-maguindanao-del-norte-sur\n"
          ]
        },
        {
          "output_type": "stream",
          "name": "stderr",
          "text": [
            "<ipython-input-40-4a1cb05fa26f>:33: FutureWarning: The frame.append method is deprecated and will be removed from pandas in a future version. Use pandas.concat instead.\n",
            "  data2 = data2.append(pd.Series(row, index=data2.columns[:len(row)]), ignore_index=True)\n"
          ]
        },
        {
          "output_type": "stream",
          "name": "stdout",
          "text": [
            "https://mb.com.ph/2023/4/30/cops-beefs-up-school-presence-to-implement-anti-smoking-other-lgu-ordinances\n"
          ]
        },
        {
          "output_type": "stream",
          "name": "stderr",
          "text": [
            "<ipython-input-40-4a1cb05fa26f>:33: FutureWarning: The frame.append method is deprecated and will be removed from pandas in a future version. Use pandas.concat instead.\n",
            "  data2 = data2.append(pd.Series(row, index=data2.columns[:len(row)]), ignore_index=True)\n"
          ]
        },
        {
          "output_type": "stream",
          "name": "stdout",
          "text": [
            "https://mb.com.ph/2023/4/30/cong-duterte-proposes-tweaks-to-nlrc-to-make-it-more-effective-in-resolving-labor-cases\n"
          ]
        },
        {
          "output_type": "stream",
          "name": "stderr",
          "text": [
            "<ipython-input-40-4a1cb05fa26f>:33: FutureWarning: The frame.append method is deprecated and will be removed from pandas in a future version. Use pandas.concat instead.\n",
            "  data2 = data2.append(pd.Series(row, index=data2.columns[:len(row)]), ignore_index=True)\n"
          ]
        },
        {
          "output_type": "stream",
          "name": "stdout",
          "text": [
            "https://mb.com.ph/2023/4/30/pnp-senior-officers-up-for-promotion-need-to-be-cleared-first-from-drug-link-evaluations\n"
          ]
        },
        {
          "output_type": "stream",
          "name": "stderr",
          "text": [
            "<ipython-input-40-4a1cb05fa26f>:33: FutureWarning: The frame.append method is deprecated and will be removed from pandas in a future version. Use pandas.concat instead.\n",
            "  data2 = data2.append(pd.Series(row, index=data2.columns[:len(row)]), ignore_index=True)\n"
          ]
        },
        {
          "output_type": "stream",
          "name": "stdout",
          "text": [
            "https://mb.com.ph/2023/4/30/poorest-of-the-poor-solon-asks-gov-t-to-improve-lives-of-farmers-fishers\n"
          ]
        },
        {
          "output_type": "stream",
          "name": "stderr",
          "text": [
            "<ipython-input-40-4a1cb05fa26f>:33: FutureWarning: The frame.append method is deprecated and will be removed from pandas in a future version. Use pandas.concat instead.\n",
            "  data2 = data2.append(pd.Series(row, index=data2.columns[:len(row)]), ignore_index=True)\n"
          ]
        },
        {
          "output_type": "stream",
          "name": "stdout",
          "text": [
            "https://mb.com.ph/2023/4/30/pcg-death-toll-from-foreign-vessels-collision-off-corregidor-island-rises-to-3\n"
          ]
        },
        {
          "output_type": "stream",
          "name": "stderr",
          "text": [
            "<ipython-input-40-4a1cb05fa26f>:33: FutureWarning: The frame.append method is deprecated and will be removed from pandas in a future version. Use pandas.concat instead.\n",
            "  data2 = data2.append(pd.Series(row, index=data2.columns[:len(row)]), ignore_index=True)\n"
          ]
        },
        {
          "output_type": "stream",
          "name": "stdout",
          "text": [
            "https://mb.com.ph/2023/4/30/marcos-to-reinforce-ph-us-ties-in-washington-visit\n"
          ]
        },
        {
          "output_type": "stream",
          "name": "stderr",
          "text": [
            "<ipython-input-40-4a1cb05fa26f>:33: FutureWarning: The frame.append method is deprecated and will be removed from pandas in a future version. Use pandas.concat instead.\n",
            "  data2 = data2.append(pd.Series(row, index=data2.columns[:len(row)]), ignore_index=True)\n"
          ]
        },
        {
          "output_type": "stream",
          "name": "stdout",
          "text": [
            "https://mb.com.ph/2023/4/30/proud-ilocano-moment-sandro-hails-civil-engineer-exam-top-notcher\n"
          ]
        },
        {
          "output_type": "stream",
          "name": "stderr",
          "text": [
            "<ipython-input-40-4a1cb05fa26f>:33: FutureWarning: The frame.append method is deprecated and will be removed from pandas in a future version. Use pandas.concat instead.\n",
            "  data2 = data2.append(pd.Series(row, index=data2.columns[:len(row)]), ignore_index=True)\n"
          ]
        },
        {
          "output_type": "stream",
          "name": "stdout",
          "text": [
            "https://mb.com.ph/2023/4/30/sc-on-decision-writing-period-may-2-to-june-9-no-division-full-court-sessions\n"
          ]
        },
        {
          "output_type": "stream",
          "name": "stderr",
          "text": [
            "<ipython-input-40-4a1cb05fa26f>:33: FutureWarning: The frame.append method is deprecated and will be removed from pandas in a future version. Use pandas.concat instead.\n",
            "  data2 = data2.append(pd.Series(row, index=data2.columns[:len(row)]), ignore_index=True)\n"
          ]
        },
        {
          "output_type": "stream",
          "name": "stdout",
          "text": [
            "https://mb.com.ph/2023/4/30/don-t-self-medicate-vs-sore-eyes-doh-exec\n"
          ]
        },
        {
          "output_type": "stream",
          "name": "stderr",
          "text": [
            "<ipython-input-40-4a1cb05fa26f>:33: FutureWarning: The frame.append method is deprecated and will be removed from pandas in a future version. Use pandas.concat instead.\n",
            "  data2 = data2.append(pd.Series(row, index=data2.columns[:len(row)]), ignore_index=True)\n"
          ]
        },
        {
          "output_type": "stream",
          "name": "stdout",
          "text": [
            "https://mb.com.ph/2023/4/30/we-re-counting-on-you-libanan-tells-us-bound-marcos\n"
          ]
        },
        {
          "output_type": "stream",
          "name": "stderr",
          "text": [
            "<ipython-input-40-4a1cb05fa26f>:33: FutureWarning: The frame.append method is deprecated and will be removed from pandas in a future version. Use pandas.concat instead.\n",
            "  data2 = data2.append(pd.Series(row, index=data2.columns[:len(row)]), ignore_index=True)\n"
          ]
        },
        {
          "output_type": "stream",
          "name": "stdout",
          "text": [
            "https://mb.com.ph/2023/4/30/maynilad-water-interruption-in-some-parts-of-qc-caloocan-navotas\n"
          ]
        },
        {
          "output_type": "stream",
          "name": "stderr",
          "text": [
            "<ipython-input-40-4a1cb05fa26f>:33: FutureWarning: The frame.append method is deprecated and will be removed from pandas in a future version. Use pandas.concat instead.\n",
            "  data2 = data2.append(pd.Series(row, index=data2.columns[:len(row)]), ignore_index=True)\n"
          ]
        },
        {
          "output_type": "stream",
          "name": "stdout",
          "text": [
            "https://mb.com.ph/2023/4/30/nightmare-as-dive-yacht-sinks-off-palawan\n"
          ]
        },
        {
          "output_type": "stream",
          "name": "stderr",
          "text": [
            "<ipython-input-40-4a1cb05fa26f>:33: FutureWarning: The frame.append method is deprecated and will be removed from pandas in a future version. Use pandas.concat instead.\n",
            "  data2 = data2.append(pd.Series(row, index=data2.columns[:len(row)]), ignore_index=True)\n"
          ]
        },
        {
          "output_type": "stream",
          "name": "stdout",
          "text": [
            "https://mb.com.ph/2023/4/30/villanueva-dole-neda-should-carefully-study-proposed-wage-adjustments-for-filipino-workers\n"
          ]
        },
        {
          "output_type": "stream",
          "name": "stderr",
          "text": [
            "<ipython-input-40-4a1cb05fa26f>:33: FutureWarning: The frame.append method is deprecated and will be removed from pandas in a future version. Use pandas.concat instead.\n",
            "  data2 = data2.append(pd.Series(row, index=data2.columns[:len(row)]), ignore_index=True)\n"
          ]
        },
        {
          "output_type": "stream",
          "name": "stdout",
          "text": [
            "https://mb.com.ph/2023/4/30/house-leader-stresses-need-to-revert-to-pre-pandemic-school-calendar-amid-searing-summer\n"
          ]
        },
        {
          "output_type": "stream",
          "name": "stderr",
          "text": [
            "<ipython-input-40-4a1cb05fa26f>:33: FutureWarning: The frame.append method is deprecated and will be removed from pandas in a future version. Use pandas.concat instead.\n",
            "  data2 = data2.append(pd.Series(row, index=data2.columns[:len(row)]), ignore_index=True)\n"
          ]
        },
        {
          "output_type": "stream",
          "name": "stdout",
          "text": [
            "https://mb.com.ph/2023/4/30/ph-a-significant-beneficiary-of-australia-s-p3-6-b-maritime-programs\n"
          ]
        },
        {
          "output_type": "stream",
          "name": "stderr",
          "text": [
            "<ipython-input-40-4a1cb05fa26f>:33: FutureWarning: The frame.append method is deprecated and will be removed from pandas in a future version. Use pandas.concat instead.\n",
            "  data2 = data2.append(pd.Series(row, index=data2.columns[:len(row)]), ignore_index=True)\n"
          ]
        },
        {
          "output_type": "stream",
          "name": "stdout",
          "text": [
            "https://mb.com.ph/2023/4/30/villafuerte-bats-for-passage-of-these-2-pro-teacher-bills-ahead-of-labor-day\n"
          ]
        },
        {
          "output_type": "stream",
          "name": "stderr",
          "text": [
            "<ipython-input-40-4a1cb05fa26f>:33: FutureWarning: The frame.append method is deprecated and will be removed from pandas in a future version. Use pandas.concat instead.\n",
            "  data2 = data2.append(pd.Series(row, index=data2.columns[:len(row)]), ignore_index=True)\n"
          ]
        },
        {
          "output_type": "stream",
          "name": "stdout",
          "text": [
            "https://mb.com.ph/2023/4/30/gatchalian-renews-push-for-bill-creating-virology-and-vaccine-institute-of-the-philippines\n"
          ]
        },
        {
          "output_type": "stream",
          "name": "stderr",
          "text": [
            "<ipython-input-40-4a1cb05fa26f>:33: FutureWarning: The frame.append method is deprecated and will be removed from pandas in a future version. Use pandas.concat instead.\n",
            "  data2 = data2.append(pd.Series(row, index=data2.columns[:len(row)]), ignore_index=True)\n"
          ]
        },
        {
          "output_type": "stream",
          "name": "stdout",
          "text": [
            "https://mb.com.ph/2023/4/30/ph-should-keep-protesting-even-if-china-is-deaf-recto\n"
          ]
        },
        {
          "output_type": "stream",
          "name": "stderr",
          "text": [
            "<ipython-input-40-4a1cb05fa26f>:33: FutureWarning: The frame.append method is deprecated and will be removed from pandas in a future version. Use pandas.concat instead.\n",
            "  data2 = data2.append(pd.Series(row, index=data2.columns[:len(row)]), ignore_index=True)\n"
          ]
        },
        {
          "output_type": "stream",
          "name": "stdout",
          "text": [
            "https://mb.com.ph/2023/4/30/vp-duterte-shows-fun-side-in-pangasinan-boodle-fight\n"
          ]
        },
        {
          "output_type": "stream",
          "name": "stderr",
          "text": [
            "<ipython-input-40-4a1cb05fa26f>:33: FutureWarning: The frame.append method is deprecated and will be removed from pandas in a future version. Use pandas.concat instead.\n",
            "  data2 = data2.append(pd.Series(row, index=data2.columns[:len(row)]), ignore_index=True)\n"
          ]
        },
        {
          "output_type": "stream",
          "name": "stdout",
          "text": [
            "https://mb.com.ph/2023/4/30/marcos-labor-day-promise-promoting-workers-welfare-remains-admin-s-top-priority\n"
          ]
        },
        {
          "output_type": "stream",
          "name": "stderr",
          "text": [
            "<ipython-input-40-4a1cb05fa26f>:33: FutureWarning: The frame.append method is deprecated and will be removed from pandas in a future version. Use pandas.concat instead.\n",
            "  data2 = data2.append(pd.Series(row, index=data2.columns[:len(row)]), ignore_index=True)\n"
          ]
        },
        {
          "output_type": "stream",
          "name": "stdout",
          "text": [
            "https://mb.com.ph/2023/4/30/dmw-secures-over-300-more-pinoys-in-sudan\n"
          ]
        },
        {
          "output_type": "stream",
          "name": "stderr",
          "text": [
            "<ipython-input-40-4a1cb05fa26f>:33: FutureWarning: The frame.append method is deprecated and will be removed from pandas in a future version. Use pandas.concat instead.\n",
            "  data2 = data2.append(pd.Series(row, index=data2.columns[:len(row)]), ignore_index=True)\n"
          ]
        },
        {
          "output_type": "stream",
          "name": "stdout",
          "text": [
            "https://mb.com.ph/2023/4/30/gov-t-urged-to-regularly-review-deployment-policies-on-of-ws\n"
          ]
        },
        {
          "output_type": "stream",
          "name": "stderr",
          "text": [
            "<ipython-input-40-4a1cb05fa26f>:33: FutureWarning: The frame.append method is deprecated and will be removed from pandas in a future version. Use pandas.concat instead.\n",
            "  data2 = data2.append(pd.Series(row, index=data2.columns[:len(row)]), ignore_index=True)\n"
          ]
        },
        {
          "output_type": "stream",
          "name": "stdout",
          "text": [
            "https://mb.com.ph/2023/4/30/expert-calls-for-routine-immunization-ramp-up\n"
          ]
        },
        {
          "output_type": "stream",
          "name": "stderr",
          "text": [
            "<ipython-input-40-4a1cb05fa26f>:33: FutureWarning: The frame.append method is deprecated and will be removed from pandas in a future version. Use pandas.concat instead.\n",
            "  data2 = data2.append(pd.Series(row, index=data2.columns[:len(row)]), ignore_index=True)\n"
          ]
        },
        {
          "output_type": "stream",
          "name": "stdout",
          "text": [
            "https://mb.com.ph/2023/4/30/ncrpo-urges-labor-day-protesters-to-observe-laws-existing-lgu-ordinances\n"
          ]
        },
        {
          "output_type": "stream",
          "name": "stderr",
          "text": [
            "<ipython-input-40-4a1cb05fa26f>:33: FutureWarning: The frame.append method is deprecated and will be removed from pandas in a future version. Use pandas.concat instead.\n",
            "  data2 = data2.append(pd.Series(row, index=data2.columns[:len(row)]), ignore_index=True)\n"
          ]
        },
        {
          "output_type": "stream",
          "name": "stdout",
          "text": [
            "https://mb.com.ph/2023/4/30/happiness-at-home-to-make-pinoy-workers-more-productive-says-pro-divorce-solon\n"
          ]
        },
        {
          "output_type": "stream",
          "name": "stderr",
          "text": [
            "<ipython-input-40-4a1cb05fa26f>:33: FutureWarning: The frame.append method is deprecated and will be removed from pandas in a future version. Use pandas.concat instead.\n",
            "  data2 = data2.append(pd.Series(row, index=data2.columns[:len(row)]), ignore_index=True)\n"
          ]
        },
        {
          "output_type": "stream",
          "name": "stdout",
          "text": [
            "https://mb.com.ph/2023/4/30/feast-of-saint-pius-v-on-april-30-1\n"
          ]
        },
        {
          "output_type": "stream",
          "name": "stderr",
          "text": [
            "<ipython-input-40-4a1cb05fa26f>:33: FutureWarning: The frame.append method is deprecated and will be removed from pandas in a future version. Use pandas.concat instead.\n",
            "  data2 = data2.append(pd.Series(row, index=data2.columns[:len(row)]), ignore_index=True)\n"
          ]
        },
        {
          "output_type": "stream",
          "name": "stdout",
          "text": [
            "https://mb.com.ph/2023/4/30/rains-expected-in-mindanao-due-to-itcz-pagasa\n"
          ]
        },
        {
          "output_type": "stream",
          "name": "stderr",
          "text": [
            "<ipython-input-40-4a1cb05fa26f>:33: FutureWarning: The frame.append method is deprecated and will be removed from pandas in a future version. Use pandas.concat instead.\n",
            "  data2 = data2.append(pd.Series(row, index=data2.columns[:len(row)]), ignore_index=True)\n"
          ]
        },
        {
          "output_type": "stream",
          "name": "stdout",
          "text": [
            "https://mb.com.ph/2023/4/30/japan-recognizes-lorenzana-3-others-with-conferment-of-decorations\n"
          ]
        },
        {
          "output_type": "stream",
          "name": "stderr",
          "text": [
            "<ipython-input-40-4a1cb05fa26f>:33: FutureWarning: The frame.append method is deprecated and will be removed from pandas in a future version. Use pandas.concat instead.\n",
            "  data2 = data2.append(pd.Series(row, index=data2.columns[:len(row)]), ignore_index=True)\n"
          ]
        },
        {
          "output_type": "stream",
          "name": "stdout",
          "text": [
            "https://mb.com.ph/2023/4/30/us-warns-china-anew-attack-on-ph-in-south-china-sea-to-trigger-defense-treaty\n"
          ]
        },
        {
          "output_type": "stream",
          "name": "stderr",
          "text": [
            "<ipython-input-40-4a1cb05fa26f>:33: FutureWarning: The frame.append method is deprecated and will be removed from pandas in a future version. Use pandas.concat instead.\n",
            "  data2 = data2.append(pd.Series(row, index=data2.columns[:len(row)]), ignore_index=True)\n"
          ]
        },
        {
          "output_type": "stream",
          "name": "stdout",
          "text": [
            "https://mb.com.ph/2023/4/29/no-lotto-jackpot-winners-in-april-29-evening-draw\n"
          ]
        },
        {
          "output_type": "stream",
          "name": "stderr",
          "text": [
            "<ipython-input-40-4a1cb05fa26f>:33: FutureWarning: The frame.append method is deprecated and will be removed from pandas in a future version. Use pandas.concat instead.\n",
            "  data2 = data2.append(pd.Series(row, index=data2.columns[:len(row)]), ignore_index=True)\n"
          ]
        },
        {
          "output_type": "stream",
          "name": "stdout",
          "text": [
            "https://mb.com.ph/2023/4/29/f-ilipino-evacuees-from-sudan-start-arriving-in-ph\n"
          ]
        },
        {
          "output_type": "stream",
          "name": "stderr",
          "text": [
            "<ipython-input-40-4a1cb05fa26f>:33: FutureWarning: The frame.append method is deprecated and will be removed from pandas in a future version. Use pandas.concat instead.\n",
            "  data2 = data2.append(pd.Series(row, index=data2.columns[:len(row)]), ignore_index=True)\n"
          ]
        },
        {
          "output_type": "stream",
          "name": "stdout",
          "text": [
            "https://mb.com.ph/2023/4/29/ph-sees-304-additional-covid-19-cases\n"
          ]
        },
        {
          "output_type": "stream",
          "name": "stderr",
          "text": [
            "<ipython-input-40-4a1cb05fa26f>:33: FutureWarning: The frame.append method is deprecated and will be removed from pandas in a future version. Use pandas.concat instead.\n",
            "  data2 = data2.append(pd.Series(row, index=data2.columns[:len(row)]), ignore_index=True)\n"
          ]
        },
        {
          "output_type": "stream",
          "name": "stdout",
          "text": [
            "https://mb.com.ph/2023/4/29/pagasa-heat-index-in-cagayan-hits-43-c\n"
          ]
        },
        {
          "output_type": "stream",
          "name": "stderr",
          "text": [
            "<ipython-input-40-4a1cb05fa26f>:33: FutureWarning: The frame.append method is deprecated and will be removed from pandas in a future version. Use pandas.concat instead.\n",
            "  data2 = data2.append(pd.Series(row, index=data2.columns[:len(row)]), ignore_index=True)\n"
          ]
        },
        {
          "output_type": "stream",
          "name": "stdout",
          "text": [
            "https://mb.com.ph/2023/4/29/lto-not-allowed-to-use-earnings-to-buy-plastic-cards\n"
          ]
        },
        {
          "output_type": "stream",
          "name": "stderr",
          "text": [
            "<ipython-input-40-4a1cb05fa26f>:33: FutureWarning: The frame.append method is deprecated and will be removed from pandas in a future version. Use pandas.concat instead.\n",
            "  data2 = data2.append(pd.Series(row, index=data2.columns[:len(row)]), ignore_index=True)\n"
          ]
        },
        {
          "output_type": "stream",
          "name": "stdout",
          "text": [
            "https://mb.com.ph/2023/4/29/kaibigan-jv-slams-china-s-bullying-of-ph\n"
          ]
        },
        {
          "output_type": "stream",
          "name": "stderr",
          "text": [
            "<ipython-input-40-4a1cb05fa26f>:33: FutureWarning: The frame.append method is deprecated and will be removed from pandas in a future version. Use pandas.concat instead.\n",
            "  data2 = data2.append(pd.Series(row, index=data2.columns[:len(row)]), ignore_index=True)\n"
          ]
        },
        {
          "output_type": "stream",
          "name": "stdout",
          "text": [
            "https://mb.com.ph/2023/4/29/dpwh-sets-sight-in-the-construction-of-a-major-batangas-road-network\n"
          ]
        },
        {
          "output_type": "stream",
          "name": "stderr",
          "text": [
            "<ipython-input-40-4a1cb05fa26f>:33: FutureWarning: The frame.append method is deprecated and will be removed from pandas in a future version. Use pandas.concat instead.\n",
            "  data2 = data2.append(pd.Series(row, index=data2.columns[:len(row)]), ignore_index=True)\n"
          ]
        },
        {
          "output_type": "stream",
          "name": "stdout",
          "text": [
            "https://mb.com.ph/2023/4/29/teacher-from-ilocos-to-receive-2023-princess-maha-chakri-award-in-october\n"
          ]
        },
        {
          "output_type": "stream",
          "name": "stderr",
          "text": [
            "<ipython-input-40-4a1cb05fa26f>:33: FutureWarning: The frame.append method is deprecated and will be removed from pandas in a future version. Use pandas.concat instead.\n",
            "  data2 = data2.append(pd.Series(row, index=data2.columns[:len(row)]), ignore_index=True)\n"
          ]
        },
        {
          "output_type": "stream",
          "name": "stdout",
          "text": [
            "https://mb.com.ph/2023/4/29/dswd-to-assist-filipinos-arriving-from-sudan-1\n"
          ]
        },
        {
          "output_type": "stream",
          "name": "stderr",
          "text": [
            "<ipython-input-40-4a1cb05fa26f>:33: FutureWarning: The frame.append method is deprecated and will be removed from pandas in a future version. Use pandas.concat instead.\n",
            "  data2 = data2.append(pd.Series(row, index=data2.columns[:len(row)]), ignore_index=True)\n"
          ]
        },
        {
          "output_type": "stream",
          "name": "stdout",
          "text": [
            "https://mb.com.ph/2023/4/29/solidum-cites-genomics-research-s-contribution-to-ph-healthcare\n"
          ]
        },
        {
          "output_type": "stream",
          "name": "stderr",
          "text": [
            "<ipython-input-40-4a1cb05fa26f>:33: FutureWarning: The frame.append method is deprecated and will be removed from pandas in a future version. Use pandas.concat instead.\n",
            "  data2 = data2.append(pd.Series(row, index=data2.columns[:len(row)]), ignore_index=True)\n"
          ]
        },
        {
          "output_type": "stream",
          "name": "stdout",
          "text": [
            "https://mb.com.ph/2023/4/29/drug-addiction-problem-must-be-confronted-with-empathy-compassion-and-understanding-duterte\n"
          ]
        },
        {
          "output_type": "stream",
          "name": "stderr",
          "text": [
            "<ipython-input-40-4a1cb05fa26f>:33: FutureWarning: The frame.append method is deprecated and will be removed from pandas in a future version. Use pandas.concat instead.\n",
            "  data2 = data2.append(pd.Series(row, index=data2.columns[:len(row)]), ignore_index=True)\n"
          ]
        },
        {
          "output_type": "stream",
          "name": "stdout",
          "text": [
            "https://mb.com.ph/2023/4/29/mb-daily-news-summary-37\n"
          ]
        },
        {
          "output_type": "stream",
          "name": "stderr",
          "text": [
            "<ipython-input-40-4a1cb05fa26f>:33: FutureWarning: The frame.append method is deprecated and will be removed from pandas in a future version. Use pandas.concat instead.\n",
            "  data2 = data2.append(pd.Series(row, index=data2.columns[:len(row)]), ignore_index=True)\n"
          ]
        },
        {
          "output_type": "stream",
          "name": "stdout",
          "text": [
            "https://mb.com.ph/2023/4/29/senate-panel-submits-to-palace-recommendation-to-ban-pogo-in-ph\n"
          ]
        },
        {
          "output_type": "stream",
          "name": "stderr",
          "text": [
            "<ipython-input-40-4a1cb05fa26f>:33: FutureWarning: The frame.append method is deprecated and will be removed from pandas in a future version. Use pandas.concat instead.\n",
            "  data2 = data2.append(pd.Series(row, index=data2.columns[:len(row)]), ignore_index=True)\n"
          ]
        },
        {
          "output_type": "stream",
          "name": "stdout",
          "text": [
            "https://mb.com.ph/2023/4/29/4-ps-beneficiary-tops-civil-engineers-licensure-exam-1\n"
          ]
        },
        {
          "output_type": "stream",
          "name": "stderr",
          "text": [
            "<ipython-input-40-4a1cb05fa26f>:33: FutureWarning: The frame.append method is deprecated and will be removed from pandas in a future version. Use pandas.concat instead.\n",
            "  data2 = data2.append(pd.Series(row, index=data2.columns[:len(row)]), ignore_index=True)\n"
          ]
        },
        {
          "output_type": "stream",
          "name": "stdout",
          "text": [
            "https://mb.com.ph/2023/4/29/cong-aniela-scores-souvenir-photo-with-nba-legend-dirk-nowitzki\n"
          ]
        },
        {
          "output_type": "stream",
          "name": "stderr",
          "text": [
            "<ipython-input-40-4a1cb05fa26f>:33: FutureWarning: The frame.append method is deprecated and will be removed from pandas in a future version. Use pandas.concat instead.\n",
            "  data2 = data2.append(pd.Series(row, index=data2.columns[:len(row)]), ignore_index=True)\n"
          ]
        },
        {
          "output_type": "stream",
          "name": "stdout",
          "text": [
            "https://mb.com.ph/2023/4/29/ph-us-to-discuss-planned-joint-naval-sails-in-indo-pacific-after-success-of-balikatan\n"
          ]
        },
        {
          "output_type": "stream",
          "name": "stderr",
          "text": [
            "<ipython-input-40-4a1cb05fa26f>:33: FutureWarning: The frame.append method is deprecated and will be removed from pandas in a future version. Use pandas.concat instead.\n",
            "  data2 = data2.append(pd.Series(row, index=data2.columns[:len(row)]), ignore_index=True)\n"
          ]
        },
        {
          "output_type": "stream",
          "name": "stdout",
          "text": [
            "https://mb.com.ph/2023/4/29/war-games-showed-innovation-in-ph-us-military-ties-us-envoy\n"
          ]
        },
        {
          "output_type": "stream",
          "name": "stderr",
          "text": [
            "<ipython-input-40-4a1cb05fa26f>:33: FutureWarning: The frame.append method is deprecated and will be removed from pandas in a future version. Use pandas.concat instead.\n",
            "  data2 = data2.append(pd.Series(row, index=data2.columns[:len(row)]), ignore_index=True)\n"
          ]
        },
        {
          "output_type": "stream",
          "name": "stdout",
          "text": [
            "https://mb.com.ph/2023/4/29/no-casualty-significant-damage-after-m5-2-earthquake-hits-occidental-mindoro-ocd\n"
          ]
        },
        {
          "output_type": "stream",
          "name": "stderr",
          "text": [
            "<ipython-input-40-4a1cb05fa26f>:33: FutureWarning: The frame.append method is deprecated and will be removed from pandas in a future version. Use pandas.concat instead.\n",
            "  data2 = data2.append(pd.Series(row, index=data2.columns[:len(row)]), ignore_index=True)\n"
          ]
        },
        {
          "output_type": "stream",
          "name": "stdout",
          "text": [
            "https://mb.com.ph/2023/4/29/fire-onboard-scrap-ship-in-cebu-declared-out-after-10-hours\n"
          ]
        },
        {
          "output_type": "stream",
          "name": "stderr",
          "text": [
            "<ipython-input-40-4a1cb05fa26f>:33: FutureWarning: The frame.append method is deprecated and will be removed from pandas in a future version. Use pandas.concat instead.\n",
            "  data2 = data2.append(pd.Series(row, index=data2.columns[:len(row)]), ignore_index=True)\n"
          ]
        },
        {
          "output_type": "stream",
          "name": "stdout",
          "text": [
            "https://mb.com.ph/2023/4/29/recto-on-lto-s-plastic-card-problem-kulang-sa-diskarte\n"
          ]
        },
        {
          "output_type": "stream",
          "name": "stderr",
          "text": [
            "<ipython-input-40-4a1cb05fa26f>:33: FutureWarning: The frame.append method is deprecated and will be removed from pandas in a future version. Use pandas.concat instead.\n",
            "  data2 = data2.append(pd.Series(row, index=data2.columns[:len(row)]), ignore_index=True)\n"
          ]
        },
        {
          "output_type": "stream",
          "name": "stdout",
          "text": [
            "https://mb.com.ph/2023/4/29/sc-reverses-comelec-nullifies-election-overspending-charge-vs-ex-dinagat-islands-gov-glenda-ecleo\n"
          ]
        },
        {
          "output_type": "stream",
          "name": "stderr",
          "text": [
            "<ipython-input-40-4a1cb05fa26f>:33: FutureWarning: The frame.append method is deprecated and will be removed from pandas in a future version. Use pandas.concat instead.\n",
            "  data2 = data2.append(pd.Series(row, index=data2.columns[:len(row)]), ignore_index=True)\n"
          ]
        },
        {
          "output_type": "stream",
          "name": "stdout",
          "text": [
            "https://mb.com.ph/2023/4/29/abalos-orders-pnp-lg-us-to-prepare-for-protest-related-security-issues-on-labor-day\n"
          ]
        },
        {
          "output_type": "stream",
          "name": "stderr",
          "text": [
            "<ipython-input-40-4a1cb05fa26f>:33: FutureWarning: The frame.append method is deprecated and will be removed from pandas in a future version. Use pandas.concat instead.\n",
            "  data2 = data2.append(pd.Series(row, index=data2.columns[:len(row)]), ignore_index=True)\n"
          ]
        },
        {
          "output_type": "stream",
          "name": "stdout",
          "text": [
            "https://mb.com.ph/2023/4/29/2-dead-as-foreign-flagged-vessels-collide-off-corregidor-island\n"
          ]
        },
        {
          "output_type": "stream",
          "name": "stderr",
          "text": [
            "<ipython-input-40-4a1cb05fa26f>:33: FutureWarning: The frame.append method is deprecated and will be removed from pandas in a future version. Use pandas.concat instead.\n",
            "  data2 = data2.append(pd.Series(row, index=data2.columns[:len(row)]), ignore_index=True)\n"
          ]
        },
        {
          "output_type": "stream",
          "name": "stdout",
          "text": [
            "https://mb.com.ph/2023/4/29/pnp-to-deploy-18-000-cops-for-long-weekend-labor-day\n"
          ]
        },
        {
          "output_type": "stream",
          "name": "stderr",
          "text": [
            "<ipython-input-40-4a1cb05fa26f>:33: FutureWarning: The frame.append method is deprecated and will be removed from pandas in a future version. Use pandas.concat instead.\n",
            "  data2 = data2.append(pd.Series(row, index=data2.columns[:len(row)]), ignore_index=True)\n"
          ]
        },
        {
          "output_type": "stream",
          "name": "stdout",
          "text": [
            "https://mb.com.ph/2023/4/29/go-cool-with-adoption-of-modular-learning-amid-extreme-hot-weather\n"
          ]
        },
        {
          "output_type": "stream",
          "name": "stderr",
          "text": [
            "<ipython-input-40-4a1cb05fa26f>:33: FutureWarning: The frame.append method is deprecated and will be removed from pandas in a future version. Use pandas.concat instead.\n",
            "  data2 = data2.append(pd.Series(row, index=data2.columns[:len(row)]), ignore_index=True)\n"
          ]
        },
        {
          "output_type": "stream",
          "name": "stdout",
          "text": [
            "https://mb.com.ph/2023/4/29/gatchalian-has-high-hopes-for-evoss\n"
          ]
        },
        {
          "output_type": "stream",
          "name": "stderr",
          "text": [
            "<ipython-input-40-4a1cb05fa26f>:33: FutureWarning: The frame.append method is deprecated and will be removed from pandas in a future version. Use pandas.concat instead.\n",
            "  data2 = data2.append(pd.Series(row, index=data2.columns[:len(row)]), ignore_index=True)\n"
          ]
        },
        {
          "output_type": "stream",
          "name": "stdout",
          "text": [
            "https://mb.com.ph/2023/4/29/cloudy-skies-scattered-rains-to-persist-in-e-visayas-caraga-pagasa\n"
          ]
        },
        {
          "output_type": "stream",
          "name": "stderr",
          "text": [
            "<ipython-input-40-4a1cb05fa26f>:33: FutureWarning: The frame.append method is deprecated and will be removed from pandas in a future version. Use pandas.concat instead.\n",
            "  data2 = data2.append(pd.Series(row, index=data2.columns[:len(row)]), ignore_index=True)\n"
          ]
        },
        {
          "output_type": "stream",
          "name": "stdout",
          "text": [
            "https://mb.com.ph/2023/4/29/makabayan-solon-slams-china-over-near-crash-in-spratlys\n"
          ]
        },
        {
          "output_type": "stream",
          "name": "stderr",
          "text": [
            "<ipython-input-40-4a1cb05fa26f>:33: FutureWarning: The frame.append method is deprecated and will be removed from pandas in a future version. Use pandas.concat instead.\n",
            "  data2 = data2.append(pd.Series(row, index=data2.columns[:len(row)]), ignore_index=True)\n"
          ]
        },
        {
          "output_type": "stream",
          "name": "stdout",
          "text": [
            "https://mb.com.ph/2023/4/29/clarita-carlos-tells-pinoys-what-the-real-enemy-is\n"
          ]
        },
        {
          "output_type": "stream",
          "name": "stderr",
          "text": [
            "<ipython-input-40-4a1cb05fa26f>:33: FutureWarning: The frame.append method is deprecated and will be removed from pandas in a future version. Use pandas.concat instead.\n",
            "  data2 = data2.append(pd.Series(row, index=data2.columns[:len(row)]), ignore_index=True)\n"
          ]
        },
        {
          "output_type": "stream",
          "name": "stdout",
          "text": [
            "https://mb.com.ph/2023/4/29/good-shepherd-sunday-59th-world-day-of-prayer-for-vocations-on-april-30\n"
          ]
        },
        {
          "output_type": "stream",
          "name": "stderr",
          "text": [
            "<ipython-input-40-4a1cb05fa26f>:33: FutureWarning: The frame.append method is deprecated and will be removed from pandas in a future version. Use pandas.concat instead.\n",
            "  data2 = data2.append(pd.Series(row, index=data2.columns[:len(row)]), ignore_index=True)\n"
          ]
        },
        {
          "output_type": "stream",
          "name": "stdout",
          "text": [
            "https://mb.com.ph/2023/4/29/5-887-out-of-16-936-pass-april-2023-civil-engineers-licensure-exam-prc-1\n"
          ]
        },
        {
          "output_type": "stream",
          "name": "stderr",
          "text": [
            "<ipython-input-40-4a1cb05fa26f>:33: FutureWarning: The frame.append method is deprecated and will be removed from pandas in a future version. Use pandas.concat instead.\n",
            "  data2 = data2.append(pd.Series(row, index=data2.columns[:len(row)]), ignore_index=True)\n"
          ]
        },
        {
          "output_type": "stream",
          "name": "stdout",
          "text": [
            "https://mb.com.ph/2023/4/29/tourism-stars-vloggers-influencers-headline-go-negosyo-s-tourism-summit-2023\n"
          ]
        },
        {
          "output_type": "stream",
          "name": "stderr",
          "text": [
            "<ipython-input-40-4a1cb05fa26f>:33: FutureWarning: The frame.append method is deprecated and will be removed from pandas in a future version. Use pandas.concat instead.\n",
            "  data2 = data2.append(pd.Series(row, index=data2.columns[:len(row)]), ignore_index=True)\n"
          ]
        },
        {
          "output_type": "stream",
          "name": "stdout",
          "text": [
            "https://mb.com.ph/2023/4/29/gov-t-prioritizing-dev-t-of-2-new-maguindanao-provinces-marcos\n"
          ]
        },
        {
          "output_type": "stream",
          "name": "stderr",
          "text": [
            "<ipython-input-40-4a1cb05fa26f>:33: FutureWarning: The frame.append method is deprecated and will be removed from pandas in a future version. Use pandas.concat instead.\n",
            "  data2 = data2.append(pd.Series(row, index=data2.columns[:len(row)]), ignore_index=True)\n"
          ]
        },
        {
          "output_type": "stream",
          "name": "stdout",
          "text": [
            "https://mb.com.ph/2023/4/29/marcos-admin-acts-on-occidental-mindoro-power-crisis\n"
          ]
        },
        {
          "output_type": "stream",
          "name": "stderr",
          "text": [
            "<ipython-input-40-4a1cb05fa26f>:33: FutureWarning: The frame.append method is deprecated and will be removed from pandas in a future version. Use pandas.concat instead.\n",
            "  data2 = data2.append(pd.Series(row, index=data2.columns[:len(row)]), ignore_index=True)\n"
          ]
        },
        {
          "output_type": "stream",
          "name": "stdout",
          "text": [
            "https://mb.com.ph/2023/4/29/dep-ed-releases-draft-of-k-to-10-curriculum-what-s-new-this-time\n"
          ]
        },
        {
          "output_type": "stream",
          "name": "stderr",
          "text": [
            "<ipython-input-40-4a1cb05fa26f>:33: FutureWarning: The frame.append method is deprecated and will be removed from pandas in a future version. Use pandas.concat instead.\n",
            "  data2 = data2.append(pd.Series(row, index=data2.columns[:len(row)]), ignore_index=True)\n"
          ]
        },
        {
          "output_type": "stream",
          "name": "stdout",
          "text": [
            "https://mb.com.ph/2023/4/29/pbbm-to-push-for-food-energy-security-at-asean-summit-in-indonesia\n"
          ]
        },
        {
          "output_type": "stream",
          "name": "stderr",
          "text": [
            "<ipython-input-40-4a1cb05fa26f>:33: FutureWarning: The frame.append method is deprecated and will be removed from pandas in a future version. Use pandas.concat instead.\n",
            "  data2 = data2.append(pd.Series(row, index=data2.columns[:len(row)]), ignore_index=True)\n"
          ]
        },
        {
          "output_type": "stream",
          "name": "stdout",
          "text": [
            "https://mb.com.ph/2023/4/29/youth-leader-receives-recognition-for-community-service\n"
          ]
        },
        {
          "output_type": "stream",
          "name": "stderr",
          "text": [
            "<ipython-input-40-4a1cb05fa26f>:33: FutureWarning: The frame.append method is deprecated and will be removed from pandas in a future version. Use pandas.concat instead.\n",
            "  data2 = data2.append(pd.Series(row, index=data2.columns[:len(row)]), ignore_index=True)\n"
          ]
        },
        {
          "output_type": "stream",
          "name": "stdout",
          "text": [
            "https://mb.com.ph/2023/4/29/like-father-like-son-marcos-excited-to-reenact-dad-s-1978-jumpball-toss-for-fiba-world-cup-2023\n"
          ]
        },
        {
          "output_type": "stream",
          "name": "stderr",
          "text": [
            "<ipython-input-40-4a1cb05fa26f>:33: FutureWarning: The frame.append method is deprecated and will be removed from pandas in a future version. Use pandas.concat instead.\n",
            "  data2 = data2.append(pd.Series(row, index=data2.columns[:len(row)]), ignore_index=True)\n"
          ]
        },
        {
          "output_type": "stream",
          "name": "stdout",
          "text": [
            "https://mb.com.ph/2023/4/28/marcos-biden-meeting-to-create-decent-jobs-with-living-wages-for-pinoys-says-house-leader\n"
          ]
        },
        {
          "output_type": "stream",
          "name": "stderr",
          "text": [
            "<ipython-input-40-4a1cb05fa26f>:33: FutureWarning: The frame.append method is deprecated and will be removed from pandas in a future version. Use pandas.concat instead.\n",
            "  data2 = data2.append(pd.Series(row, index=data2.columns[:len(row)]), ignore_index=True)\n"
          ]
        },
        {
          "output_type": "stream",
          "name": "stdout",
          "text": [
            "https://mb.com.ph/2023/4/28/magnitude-5-5-quake-hits-occidental-mindoro\n"
          ]
        },
        {
          "output_type": "stream",
          "name": "stderr",
          "text": [
            "<ipython-input-40-4a1cb05fa26f>:33: FutureWarning: The frame.append method is deprecated and will be removed from pandas in a future version. Use pandas.concat instead.\n",
            "  data2 = data2.append(pd.Series(row, index=data2.columns[:len(row)]), ignore_index=True)\n"
          ]
        },
        {
          "output_type": "stream",
          "name": "stdout",
          "text": [
            "https://mb.com.ph/2023/4/28/p146-3-m-mega-lotto-jackpot-still-up-for-grabs\n"
          ]
        },
        {
          "output_type": "stream",
          "name": "stderr",
          "text": [
            "<ipython-input-40-4a1cb05fa26f>:33: FutureWarning: The frame.append method is deprecated and will be removed from pandas in a future version. Use pandas.concat instead.\n",
            "  data2 = data2.append(pd.Series(row, index=data2.columns[:len(row)]), ignore_index=True)\n"
          ]
        },
        {
          "output_type": "stream",
          "name": "stdout",
          "text": [
            "https://mb.com.ph/2023/4/28/guanzon-s-proposal-to-benefit-unbanked-pw-ds-seniors\n"
          ]
        },
        {
          "output_type": "stream",
          "name": "stderr",
          "text": [
            "<ipython-input-40-4a1cb05fa26f>:33: FutureWarning: The frame.append method is deprecated and will be removed from pandas in a future version. Use pandas.concat instead.\n",
            "  data2 = data2.append(pd.Series(row, index=data2.columns[:len(row)]), ignore_index=True)\n"
          ]
        },
        {
          "output_type": "stream",
          "name": "stdout",
          "text": [
            "https://mb.com.ph/2023/4/28/ph-china-pin-blame-on-each-other-over-vessels-near-collision-incident\n"
          ]
        },
        {
          "output_type": "stream",
          "name": "stderr",
          "text": [
            "<ipython-input-40-4a1cb05fa26f>:33: FutureWarning: The frame.append method is deprecated and will be removed from pandas in a future version. Use pandas.concat instead.\n",
            "  data2 = data2.append(pd.Series(row, index=data2.columns[:len(row)]), ignore_index=True)\n"
          ]
        },
        {
          "output_type": "stream",
          "name": "stdout",
          "text": [
            "https://mb.com.ph/2023/4/28/bi-adds-bantag-zulueta-in-hdo-list\n"
          ]
        },
        {
          "output_type": "stream",
          "name": "stderr",
          "text": [
            "<ipython-input-40-4a1cb05fa26f>:33: FutureWarning: The frame.append method is deprecated and will be removed from pandas in a future version. Use pandas.concat instead.\n",
            "  data2 = data2.append(pd.Series(row, index=data2.columns[:len(row)]), ignore_index=True)\n"
          ]
        },
        {
          "output_type": "stream",
          "name": "stdout",
          "text": [
            "https://mb.com.ph/2023/4/28/hontiveros-slams-release-of-smuggled-sugar-insists-sugar-order-a-req-t-under-law\n"
          ]
        },
        {
          "output_type": "stream",
          "name": "stderr",
          "text": [
            "<ipython-input-40-4a1cb05fa26f>:33: FutureWarning: The frame.append method is deprecated and will be removed from pandas in a future version. Use pandas.concat instead.\n",
            "  data2 = data2.append(pd.Series(row, index=data2.columns[:len(row)]), ignore_index=True)\n"
          ]
        },
        {
          "output_type": "stream",
          "name": "stdout",
          "text": [
            "https://mb.com.ph/2023/4/28/legarda-pushes-for-immediate-enactment-of-zero-food-waste-act\n"
          ]
        },
        {
          "output_type": "stream",
          "name": "stderr",
          "text": [
            "<ipython-input-40-4a1cb05fa26f>:33: FutureWarning: The frame.append method is deprecated and will be removed from pandas in a future version. Use pandas.concat instead.\n",
            "  data2 = data2.append(pd.Series(row, index=data2.columns[:len(row)]), ignore_index=True)\n"
          ]
        },
        {
          "output_type": "stream",
          "name": "stdout",
          "text": [
            "https://mb.com.ph/2023/4/28/13-areas-record-heat-indices-above-the-danger-threshold-on-april-28\n"
          ]
        },
        {
          "output_type": "stream",
          "name": "stderr",
          "text": [
            "<ipython-input-40-4a1cb05fa26f>:33: FutureWarning: The frame.append method is deprecated and will be removed from pandas in a future version. Use pandas.concat instead.\n",
            "  data2 = data2.append(pd.Series(row, index=data2.columns[:len(row)]), ignore_index=True)\n"
          ]
        },
        {
          "output_type": "stream",
          "name": "stdout",
          "text": [
            "https://mb.com.ph/2023/4/28/ship-catches-fire-off-lapu-lapu-city\n"
          ]
        },
        {
          "output_type": "stream",
          "name": "stderr",
          "text": [
            "<ipython-input-40-4a1cb05fa26f>:33: FutureWarning: The frame.append method is deprecated and will be removed from pandas in a future version. Use pandas.concat instead.\n",
            "  data2 = data2.append(pd.Series(row, index=data2.columns[:len(row)]), ignore_index=True)\n"
          ]
        },
        {
          "output_type": "stream",
          "name": "stdout",
          "text": [
            "https://mb.com.ph/2023/4/28/after-us-trip-marcos-to-fly-to-uk-indonesia\n"
          ]
        },
        {
          "output_type": "stream",
          "name": "stderr",
          "text": [
            "<ipython-input-40-4a1cb05fa26f>:33: FutureWarning: The frame.append method is deprecated and will be removed from pandas in a future version. Use pandas.concat instead.\n",
            "  data2 = data2.append(pd.Series(row, index=data2.columns[:len(row)]), ignore_index=True)\n"
          ]
        },
        {
          "output_type": "stream",
          "name": "stdout",
          "text": [
            "https://mb.com.ph/2023/4/28/omicron-subvariant-arcturus-could-be-driving-rise-in-ph-s-covid-19-cases-expert\n"
          ]
        },
        {
          "output_type": "stream",
          "name": "stderr",
          "text": [
            "<ipython-input-40-4a1cb05fa26f>:33: FutureWarning: The frame.append method is deprecated and will be removed from pandas in a future version. Use pandas.concat instead.\n",
            "  data2 = data2.append(pd.Series(row, index=data2.columns[:len(row)]), ignore_index=True)\n"
          ]
        },
        {
          "output_type": "stream",
          "name": "stdout",
          "text": [
            "https://mb.com.ph/2023/4/28/villar-vows-to-continue-support-to-filipino-farmers\n"
          ]
        },
        {
          "output_type": "stream",
          "name": "stderr",
          "text": [
            "<ipython-input-40-4a1cb05fa26f>:33: FutureWarning: The frame.append method is deprecated and will be removed from pandas in a future version. Use pandas.concat instead.\n",
            "  data2 = data2.append(pd.Series(row, index=data2.columns[:len(row)]), ignore_index=True)\n"
          ]
        },
        {
          "output_type": "stream",
          "name": "stdout",
          "text": [
            "https://mb.com.ph/2023/4/28/dep-ed-s-matatag-agenda-programs-receive-support-from-local-partners\n"
          ]
        },
        {
          "output_type": "stream",
          "name": "stderr",
          "text": [
            "<ipython-input-40-4a1cb05fa26f>:33: FutureWarning: The frame.append method is deprecated and will be removed from pandas in a future version. Use pandas.concat instead.\n",
            "  data2 = data2.append(pd.Series(row, index=data2.columns[:len(row)]), ignore_index=True)\n"
          ]
        },
        {
          "output_type": "stream",
          "name": "stdout",
          "text": [
            "https://mb.com.ph/2023/4/28/pimentel-pushes-for-code-of-conduct-in-south-china-sea\n"
          ]
        },
        {
          "output_type": "stream",
          "name": "stderr",
          "text": [
            "<ipython-input-40-4a1cb05fa26f>:33: FutureWarning: The frame.append method is deprecated and will be removed from pandas in a future version. Use pandas.concat instead.\n",
            "  data2 = data2.append(pd.Series(row, index=data2.columns[:len(row)]), ignore_index=True)\n"
          ]
        },
        {
          "output_type": "stream",
          "name": "stdout",
          "text": [
            "https://mb.com.ph/2023/4/28/bring-home-the-bacon-zubiri-vouches-for-pbbm-s-success-in-upcoming-us-trip\n"
          ]
        },
        {
          "output_type": "stream",
          "name": "stderr",
          "text": [
            "<ipython-input-40-4a1cb05fa26f>:33: FutureWarning: The frame.append method is deprecated and will be removed from pandas in a future version. Use pandas.concat instead.\n",
            "  data2 = data2.append(pd.Series(row, index=data2.columns[:len(row)]), ignore_index=True)\n"
          ]
        },
        {
          "output_type": "stream",
          "name": "stdout",
          "text": [
            "https://mb.com.ph/2023/4/28/in-aftermath-of-amang-villafuerte-asks-senate-to-pass-bill-on-permanent-evacuation-centers\n"
          ]
        },
        {
          "output_type": "stream",
          "name": "stderr",
          "text": [
            "<ipython-input-40-4a1cb05fa26f>:33: FutureWarning: The frame.append method is deprecated and will be removed from pandas in a future version. Use pandas.concat instead.\n",
            "  data2 = data2.append(pd.Series(row, index=data2.columns[:len(row)]), ignore_index=True)\n"
          ]
        },
        {
          "output_type": "stream",
          "name": "stdout",
          "text": [
            "https://mb.com.ph/2023/4/28/marcos-to-raise-defense-treaty-in-us-trip-but-specifics-remain-unknown\n"
          ]
        },
        {
          "output_type": "stream",
          "name": "stderr",
          "text": [
            "<ipython-input-40-4a1cb05fa26f>:33: FutureWarning: The frame.append method is deprecated and will be removed from pandas in a future version. Use pandas.concat instead.\n",
            "  data2 = data2.append(pd.Series(row, index=data2.columns[:len(row)]), ignore_index=True)\n"
          ]
        },
        {
          "output_type": "stream",
          "name": "stdout",
          "text": [
            "https://mb.com.ph/2023/4/28/four-filipinos-die-in-taiwan-factory-fire\n"
          ]
        },
        {
          "output_type": "stream",
          "name": "stderr",
          "text": [
            "<ipython-input-40-4a1cb05fa26f>:33: FutureWarning: The frame.append method is deprecated and will be removed from pandas in a future version. Use pandas.concat instead.\n",
            "  data2 = data2.append(pd.Series(row, index=data2.columns[:len(row)]), ignore_index=True)\n"
          ]
        },
        {
          "output_type": "stream",
          "name": "stdout",
          "text": [
            "https://mb.com.ph/2023/4/28/chr-conducts-own-probe-on-killing-of-union-organizer-in-bacolod-city\n"
          ]
        },
        {
          "output_type": "stream",
          "name": "stderr",
          "text": [
            "<ipython-input-40-4a1cb05fa26f>:33: FutureWarning: The frame.append method is deprecated and will be removed from pandas in a future version. Use pandas.concat instead.\n",
            "  data2 = data2.append(pd.Series(row, index=data2.columns[:len(row)]), ignore_index=True)\n"
          ]
        },
        {
          "output_type": "stream",
          "name": "stdout",
          "text": [
            "https://mb.com.ph/2023/4/28/uwi-na-lang-be-safe-ople-appeals-to-pinoys-in-conflict-torn-sudan-to-return-home-to-ph\n"
          ]
        },
        {
          "output_type": "stream",
          "name": "stderr",
          "text": [
            "<ipython-input-40-4a1cb05fa26f>:33: FutureWarning: The frame.append method is deprecated and will be removed from pandas in a future version. Use pandas.concat instead.\n",
            "  data2 = data2.append(pd.Series(row, index=data2.columns[:len(row)]), ignore_index=True)\n"
          ]
        },
        {
          "output_type": "stream",
          "name": "stdout",
          "text": [
            "https://mb.com.ph/2023/4/28/up-governance-receives-criticism-after-up-diliman-chancellorship-appointment\n"
          ]
        },
        {
          "output_type": "stream",
          "name": "stderr",
          "text": [
            "<ipython-input-40-4a1cb05fa26f>:33: FutureWarning: The frame.append method is deprecated and will be removed from pandas in a future version. Use pandas.concat instead.\n",
            "  data2 = data2.append(pd.Series(row, index=data2.columns[:len(row)]), ignore_index=True)\n"
          ]
        },
        {
          "output_type": "stream",
          "name": "stdout",
          "text": [
            "https://mb.com.ph/2023/4/28/marcos-to-meet-biden-in-washington-to-reaffirm-us-ph-special-ties\n"
          ]
        },
        {
          "output_type": "stream",
          "name": "stderr",
          "text": [
            "<ipython-input-40-4a1cb05fa26f>:33: FutureWarning: The frame.append method is deprecated and will be removed from pandas in a future version. Use pandas.concat instead.\n",
            "  data2 = data2.append(pd.Series(row, index=data2.columns[:len(row)]), ignore_index=True)\n"
          ]
        },
        {
          "output_type": "stream",
          "name": "stdout",
          "text": [
            "https://mb.com.ph/2023/4/28/after-balikatan-comes-cope-thunder\n"
          ]
        },
        {
          "output_type": "stream",
          "name": "stderr",
          "text": [
            "<ipython-input-40-4a1cb05fa26f>:33: FutureWarning: The frame.append method is deprecated and will be removed from pandas in a future version. Use pandas.concat instead.\n",
            "  data2 = data2.append(pd.Series(row, index=data2.columns[:len(row)]), ignore_index=True)\n"
          ]
        },
        {
          "output_type": "stream",
          "name": "stdout",
          "text": [
            "https://mb.com.ph/2023/4/28/dfa-tells-china-respect-ph-rights-over-west-ph-sea\n"
          ]
        },
        {
          "output_type": "stream",
          "name": "stderr",
          "text": [
            "<ipython-input-40-4a1cb05fa26f>:33: FutureWarning: The frame.append method is deprecated and will be removed from pandas in a future version. Use pandas.concat instead.\n",
            "  data2 = data2.append(pd.Series(row, index=data2.columns[:len(row)]), ignore_index=True)\n"
          ]
        },
        {
          "output_type": "stream",
          "name": "stdout",
          "text": [
            "https://mb.com.ph/2023/4/28/marcos-names-new-sra-chief\n"
          ]
        },
        {
          "output_type": "stream",
          "name": "stderr",
          "text": [
            "<ipython-input-40-4a1cb05fa26f>:33: FutureWarning: The frame.append method is deprecated and will be removed from pandas in a future version. Use pandas.concat instead.\n",
            "  data2 = data2.append(pd.Series(row, index=data2.columns[:len(row)]), ignore_index=True)\n"
          ]
        },
        {
          "output_type": "stream",
          "name": "stdout",
          "text": [
            "https://mb.com.ph/2023/4/28/ph-won-t-yield-to-intrusions-illegal-actions-in-west-ph-sea-dfa\n"
          ]
        },
        {
          "output_type": "stream",
          "name": "stderr",
          "text": [
            "<ipython-input-40-4a1cb05fa26f>:33: FutureWarning: The frame.append method is deprecated and will be removed from pandas in a future version. Use pandas.concat instead.\n",
            "  data2 = data2.append(pd.Series(row, index=data2.columns[:len(row)]), ignore_index=True)\n"
          ]
        },
        {
          "output_type": "stream",
          "name": "stdout",
          "text": [
            "https://mb.com.ph/2023/4/28/health-expert-highlights-importance-of-vaccine-confidence\n"
          ]
        },
        {
          "output_type": "stream",
          "name": "stderr",
          "text": [
            "<ipython-input-40-4a1cb05fa26f>:33: FutureWarning: The frame.append method is deprecated and will be removed from pandas in a future version. Use pandas.concat instead.\n",
            "  data2 = data2.append(pd.Series(row, index=data2.columns[:len(row)]), ignore_index=True)\n"
          ]
        },
        {
          "output_type": "stream",
          "name": "stdout",
          "text": [
            "https://mb.com.ph/2023/4/28/mwss-appeals-for-regulation-not-closure-of-establishments-consuming-huge-volume-of-water-exec\n"
          ]
        },
        {
          "output_type": "stream",
          "name": "stderr",
          "text": [
            "<ipython-input-40-4a1cb05fa26f>:33: FutureWarning: The frame.append method is deprecated and will be removed from pandas in a future version. Use pandas.concat instead.\n",
            "  data2 = data2.append(pd.Series(row, index=data2.columns[:len(row)]), ignore_index=True)\n"
          ]
        },
        {
          "output_type": "stream",
          "name": "stdout",
          "text": [
            "https://mb.com.ph/2023/4/28/women-s-group-no-better-way-to-honor-workers-than-to-advance-our-fight-for-better-living-working-conditions\n"
          ]
        },
        {
          "output_type": "stream",
          "name": "stderr",
          "text": [
            "<ipython-input-40-4a1cb05fa26f>:33: FutureWarning: The frame.append method is deprecated and will be removed from pandas in a future version. Use pandas.concat instead.\n",
            "  data2 = data2.append(pd.Series(row, index=data2.columns[:len(row)]), ignore_index=True)\n"
          ]
        },
        {
          "output_type": "stream",
          "name": "stdout",
          "text": [
            "https://mb.com.ph/2023/4/28/senators-urge-gov-t-to-review-ph-policy-with-china-after-near-collision-in-west-ph-sea\n"
          ]
        },
        {
          "output_type": "stream",
          "name": "stderr",
          "text": [
            "<ipython-input-40-4a1cb05fa26f>:33: FutureWarning: The frame.append method is deprecated and will be removed from pandas in a future version. Use pandas.concat instead.\n",
            "  data2 = data2.append(pd.Series(row, index=data2.columns[:len(row)]), ignore_index=True)\n"
          ]
        },
        {
          "output_type": "stream",
          "name": "stdout",
          "text": [
            "https://mb.com.ph/2023/4/28/seaweed-wine-iloilo-s-new-product-to-generate-livelihood-for-coastal-communities-dost-pchrd\n"
          ]
        },
        {
          "output_type": "stream",
          "name": "stderr",
          "text": [
            "<ipython-input-40-4a1cb05fa26f>:33: FutureWarning: The frame.append method is deprecated and will be removed from pandas in a future version. Use pandas.concat instead.\n",
            "  data2 = data2.append(pd.Series(row, index=data2.columns[:len(row)]), ignore_index=True)\n"
          ]
        },
        {
          "output_type": "stream",
          "name": "stdout",
          "text": [
            "https://mb.com.ph/2023/4/28/army-blames-cpp-npa-ndf-for-soldier-s-killing-in-occ-mindoro\n"
          ]
        },
        {
          "output_type": "stream",
          "name": "stderr",
          "text": [
            "<ipython-input-40-4a1cb05fa26f>:33: FutureWarning: The frame.append method is deprecated and will be removed from pandas in a future version. Use pandas.concat instead.\n",
            "  data2 = data2.append(pd.Series(row, index=data2.columns[:len(row)]), ignore_index=True)\n"
          ]
        },
        {
          "output_type": "stream",
          "name": "stdout",
          "text": [
            "https://mb.com.ph/2023/4/28/tesda-to-accept-scholarship-applicants-offer-services-nationwide-on-labor-day\n"
          ]
        },
        {
          "output_type": "stream",
          "name": "stderr",
          "text": [
            "<ipython-input-40-4a1cb05fa26f>:33: FutureWarning: The frame.append method is deprecated and will be removed from pandas in a future version. Use pandas.concat instead.\n",
            "  data2 = data2.append(pd.Series(row, index=data2.columns[:len(row)]), ignore_index=True)\n"
          ]
        },
        {
          "output_type": "stream",
          "name": "stdout",
          "text": [
            "https://mb.com.ph/2023/4/28/speaker-asks-telcos-reveal-total-of-postpaid-subscribers-active-but-unlisted-si-ms\n"
          ]
        },
        {
          "output_type": "stream",
          "name": "stderr",
          "text": [
            "<ipython-input-40-4a1cb05fa26f>:33: FutureWarning: The frame.append method is deprecated and will be removed from pandas in a future version. Use pandas.concat instead.\n",
            "  data2 = data2.append(pd.Series(row, index=data2.columns[:len(row)]), ignore_index=True)\n"
          ]
        },
        {
          "output_type": "stream",
          "name": "stdout",
          "text": [
            "https://mb.com.ph/2023/4/28/pao-asks-sc-to-consider-public-lawyers-safety\n"
          ]
        },
        {
          "output_type": "stream",
          "name": "stderr",
          "text": [
            "<ipython-input-40-4a1cb05fa26f>:33: FutureWarning: The frame.append method is deprecated and will be removed from pandas in a future version. Use pandas.concat instead.\n",
            "  data2 = data2.append(pd.Series(row, index=data2.columns[:len(row)]), ignore_index=True)\n"
          ]
        },
        {
          "output_type": "stream",
          "name": "stdout",
          "text": [
            "https://mb.com.ph/2023/4/28/us-barmm-launch-new-roro-services-in-mindanao\n"
          ]
        },
        {
          "output_type": "stream",
          "name": "stderr",
          "text": [
            "<ipython-input-40-4a1cb05fa26f>:33: FutureWarning: The frame.append method is deprecated and will be removed from pandas in a future version. Use pandas.concat instead.\n",
            "  data2 = data2.append(pd.Series(row, index=data2.columns[:len(row)]), ignore_index=True)\n"
          ]
        },
        {
          "output_type": "stream",
          "name": "stdout",
          "text": [
            "https://mb.com.ph/2023/4/28/half-of-filipinos-in-sudan-evacuated-dfa\n"
          ]
        },
        {
          "output_type": "stream",
          "name": "stderr",
          "text": [
            "<ipython-input-40-4a1cb05fa26f>:33: FutureWarning: The frame.append method is deprecated and will be removed from pandas in a future version. Use pandas.concat instead.\n",
            "  data2 = data2.append(pd.Series(row, index=data2.columns[:len(row)]), ignore_index=True)\n"
          ]
        },
        {
          "output_type": "stream",
          "name": "stdout",
          "text": [
            "https://mb.com.ph/2023/4/28/sweet-craving-cong-rufus-professes-love-for-wife-and-cake\n"
          ]
        },
        {
          "output_type": "stream",
          "name": "stderr",
          "text": [
            "<ipython-input-40-4a1cb05fa26f>:33: FutureWarning: The frame.append method is deprecated and will be removed from pandas in a future version. Use pandas.concat instead.\n",
            "  data2 = data2.append(pd.Series(row, index=data2.columns[:len(row)]), ignore_index=True)\n"
          ]
        },
        {
          "output_type": "stream",
          "name": "stdout",
          "text": [
            "https://mb.com.ph/2023/4/28/visayas-mindanao-may-experience-scattered-rain-showers-over-labor-day-weekend-pagasa\n"
          ]
        },
        {
          "output_type": "stream",
          "name": "stderr",
          "text": [
            "<ipython-input-40-4a1cb05fa26f>:33: FutureWarning: The frame.append method is deprecated and will be removed from pandas in a future version. Use pandas.concat instead.\n",
            "  data2 = data2.append(pd.Series(row, index=data2.columns[:len(row)]), ignore_index=True)\n"
          ]
        },
        {
          "output_type": "stream",
          "name": "stdout",
          "text": [
            "https://mb.com.ph/2023/4/28/coa-unearths-irregularities-in-hiring-of-pampanga-employees\n"
          ]
        },
        {
          "output_type": "stream",
          "name": "stderr",
          "text": [
            "<ipython-input-40-4a1cb05fa26f>:33: FutureWarning: The frame.append method is deprecated and will be removed from pandas in a future version. Use pandas.concat instead.\n",
            "  data2 = data2.append(pd.Series(row, index=data2.columns[:len(row)]), ignore_index=True)\n"
          ]
        },
        {
          "output_type": "stream",
          "name": "stdout",
          "text": [
            "https://mb.com.ph/2023/4/28/hontiveros-lauds-miaa-move-to-retain-cctv-footage-for-90-days\n"
          ]
        },
        {
          "output_type": "stream",
          "name": "stderr",
          "text": [
            "<ipython-input-40-4a1cb05fa26f>:33: FutureWarning: The frame.append method is deprecated and will be removed from pandas in a future version. Use pandas.concat instead.\n",
            "  data2 = data2.append(pd.Series(row, index=data2.columns[:len(row)]), ignore_index=True)\n"
          ]
        },
        {
          "output_type": "stream",
          "name": "stdout",
          "text": [
            "https://mb.com.ph/2023/4/28/poe-urges-new-water-management-body-to-solve-massive-service-interruptions-quickly\n"
          ]
        },
        {
          "output_type": "stream",
          "name": "stderr",
          "text": [
            "<ipython-input-40-4a1cb05fa26f>:33: FutureWarning: The frame.append method is deprecated and will be removed from pandas in a future version. Use pandas.concat instead.\n",
            "  data2 = data2.append(pd.Series(row, index=data2.columns[:len(row)]), ignore_index=True)\n"
          ]
        },
        {
          "output_type": "stream",
          "name": "stdout",
          "text": [
            "https://mb.com.ph/2023/4/28/pcg-8-2-kms-of-shoreline-in-oriental-mindoro-still-contaminated-by-oil-spill\n"
          ]
        },
        {
          "output_type": "stream",
          "name": "stderr",
          "text": [
            "<ipython-input-40-4a1cb05fa26f>:33: FutureWarning: The frame.append method is deprecated and will be removed from pandas in a future version. Use pandas.concat instead.\n",
            "  data2 = data2.append(pd.Series(row, index=data2.columns[:len(row)]), ignore_index=True)\n"
          ]
        },
        {
          "output_type": "stream",
          "name": "stdout",
          "text": [
            "https://mb.com.ph/2023/4/28/romualdez-says-ofw-families-could-be-finding-sim-registration-difficult\n"
          ]
        },
        {
          "output_type": "stream",
          "name": "stderr",
          "text": [
            "<ipython-input-40-4a1cb05fa26f>:33: FutureWarning: The frame.append method is deprecated and will be removed from pandas in a future version. Use pandas.concat instead.\n",
            "  data2 = data2.append(pd.Series(row, index=data2.columns[:len(row)]), ignore_index=True)\n"
          ]
        },
        {
          "output_type": "stream",
          "name": "stdout",
          "text": [
            "https://mb.com.ph/2023/4/28/pcg-vessels-confronted-by-chinese-navy-coast-guard-in-wps\n"
          ]
        },
        {
          "output_type": "stream",
          "name": "stderr",
          "text": [
            "<ipython-input-40-4a1cb05fa26f>:33: FutureWarning: The frame.append method is deprecated and will be removed from pandas in a future version. Use pandas.concat instead.\n",
            "  data2 = data2.append(pd.Series(row, index=data2.columns[:len(row)]), ignore_index=True)\n"
          ]
        },
        {
          "output_type": "stream",
          "name": "stdout",
          "text": [
            "https://mb.com.ph/2023/4/28/ticket-bought-in-zamboanga-yields-new-lotto-millionaire\n"
          ]
        },
        {
          "output_type": "stream",
          "name": "stderr",
          "text": [
            "<ipython-input-40-4a1cb05fa26f>:33: FutureWarning: The frame.append method is deprecated and will be removed from pandas in a future version. Use pandas.concat instead.\n",
            "  data2 = data2.append(pd.Series(row, index=data2.columns[:len(row)]), ignore_index=True)\n"
          ]
        },
        {
          "output_type": "stream",
          "name": "stdout",
          "text": [
            "https://mb.com.ph/2023/4/28/marina-teams-up-with-france-to-boost-ph-maritime-industry\n"
          ]
        },
        {
          "output_type": "stream",
          "name": "stderr",
          "text": [
            "<ipython-input-40-4a1cb05fa26f>:33: FutureWarning: The frame.append method is deprecated and will be removed from pandas in a future version. Use pandas.concat instead.\n",
            "  data2 = data2.append(pd.Series(row, index=data2.columns[:len(row)]), ignore_index=True)\n"
          ]
        },
        {
          "output_type": "stream",
          "name": "stdout",
          "text": [
            "https://mb.com.ph/2023/4/28/pro-ofw-solon-thankful-of-ph-gov-t-efforts-in-conflict-torn-sudan\n"
          ]
        },
        {
          "output_type": "stream",
          "name": "stderr",
          "text": [
            "<ipython-input-40-4a1cb05fa26f>:33: FutureWarning: The frame.append method is deprecated and will be removed from pandas in a future version. Use pandas.concat instead.\n",
            "  data2 = data2.append(pd.Series(row, index=data2.columns[:len(row)]), ignore_index=True)\n"
          ]
        },
        {
          "output_type": "stream",
          "name": "stdout",
          "text": [
            "https://mb.com.ph/2023/4/28/dpwh-improved-road-network-spurs-agri-tourism-industry-in-ilocos-norte-town\n"
          ]
        },
        {
          "output_type": "stream",
          "name": "stderr",
          "text": [
            "<ipython-input-40-4a1cb05fa26f>:33: FutureWarning: The frame.append method is deprecated and will be removed from pandas in a future version. Use pandas.concat instead.\n",
            "  data2 = data2.append(pd.Series(row, index=data2.columns[:len(row)]), ignore_index=True)\n"
          ]
        },
        {
          "output_type": "stream",
          "name": "stdout",
          "text": [
            "https://mb.com.ph/2023/4/28/bi-to-deport-two-korean-fugitives-1\n"
          ]
        },
        {
          "output_type": "stream",
          "name": "stderr",
          "text": [
            "<ipython-input-40-4a1cb05fa26f>:33: FutureWarning: The frame.append method is deprecated and will be removed from pandas in a future version. Use pandas.concat instead.\n",
            "  data2 = data2.append(pd.Series(row, index=data2.columns[:len(row)]), ignore_index=True)\n"
          ]
        },
        {
          "output_type": "stream",
          "name": "stdout",
          "text": [
            "https://mb.com.ph/2023/4/28/feast-of-saint-catherine-of-siena-on-april-29-1\n"
          ]
        },
        {
          "output_type": "stream",
          "name": "stderr",
          "text": [
            "<ipython-input-40-4a1cb05fa26f>:33: FutureWarning: The frame.append method is deprecated and will be removed from pandas in a future version. Use pandas.concat instead.\n",
            "  data2 = data2.append(pd.Series(row, index=data2.columns[:len(row)]), ignore_index=True)\n"
          ]
        },
        {
          "output_type": "stream",
          "name": "stdout",
          "text": [
            "https://mb.com.ph/2023/4/28/villar-bats-for-use-of-digital-copy-of-i-ds-in-gov-t-transactions\n"
          ]
        },
        {
          "output_type": "stream",
          "name": "stderr",
          "text": [
            "<ipython-input-40-4a1cb05fa26f>:33: FutureWarning: The frame.append method is deprecated and will be removed from pandas in a future version. Use pandas.concat instead.\n",
            "  data2 = data2.append(pd.Series(row, index=data2.columns[:len(row)]), ignore_index=True)\n"
          ]
        },
        {
          "output_type": "stream",
          "name": "stdout",
          "text": [
            "https://mb.com.ph/2023/4/28/bong-go-renews-call-to-dbm-give-healthcare-workers-their-unpaid-covid-19-allowances\n"
          ]
        },
        {
          "output_type": "stream",
          "name": "stderr",
          "text": [
            "<ipython-input-40-4a1cb05fa26f>:33: FutureWarning: The frame.append method is deprecated and will be removed from pandas in a future version. Use pandas.concat instead.\n",
            "  data2 = data2.append(pd.Series(row, index=data2.columns[:len(row)]), ignore_index=True)\n"
          ]
        },
        {
          "output_type": "stream",
          "name": "stdout",
          "text": [
            "https://mb.com.ph/2023/4/28/marcos-vows-manila-airport-improvements-for-easier-travel\n"
          ]
        },
        {
          "output_type": "stream",
          "name": "stderr",
          "text": [
            "<ipython-input-40-4a1cb05fa26f>:33: FutureWarning: The frame.append method is deprecated and will be removed from pandas in a future version. Use pandas.concat instead.\n",
            "  data2 = data2.append(pd.Series(row, index=data2.columns[:len(row)]), ignore_index=True)\n"
          ]
        },
        {
          "output_type": "stream",
          "name": "stdout",
          "text": [
            "https://mb.com.ph/2023/4/28/pbbm-wants-review-of-tieza-s-non-operating-tourism-zones\n"
          ]
        },
        {
          "output_type": "stream",
          "name": "stderr",
          "text": [
            "<ipython-input-40-4a1cb05fa26f>:33: FutureWarning: The frame.append method is deprecated and will be removed from pandas in a future version. Use pandas.concat instead.\n",
            "  data2 = data2.append(pd.Series(row, index=data2.columns[:len(row)]), ignore_index=True)\n"
          ]
        },
        {
          "output_type": "stream",
          "name": "stdout",
          "text": [
            "https://mb.com.ph/2023/4/28/marcos-commits-to-working-with-media-to-strengthen-press-freedom\n"
          ]
        },
        {
          "output_type": "stream",
          "name": "stderr",
          "text": [
            "<ipython-input-40-4a1cb05fa26f>:33: FutureWarning: The frame.append method is deprecated and will be removed from pandas in a future version. Use pandas.concat instead.\n",
            "  data2 = data2.append(pd.Series(row, index=data2.columns[:len(row)]), ignore_index=True)\n"
          ]
        },
        {
          "output_type": "stream",
          "name": "stdout",
          "text": [
            "https://mb.com.ph/2023/4/27/pbbm-signs-eo-creating-denr-s-water-management-office-amid-el-nino-threat\n"
          ]
        },
        {
          "output_type": "stream",
          "name": "stderr",
          "text": [
            "<ipython-input-40-4a1cb05fa26f>:33: FutureWarning: The frame.append method is deprecated and will be removed from pandas in a future version. Use pandas.concat instead.\n",
            "  data2 = data2.append(pd.Series(row, index=data2.columns[:len(row)]), ignore_index=True)\n"
          ]
        },
        {
          "output_type": "stream",
          "name": "stdout",
          "text": [
            "https://mb.com.ph/2023/4/27/doh-reports-over-700-new-covid-19-cases-active-infections-near-5-000\n"
          ]
        },
        {
          "output_type": "stream",
          "name": "stderr",
          "text": [
            "<ipython-input-40-4a1cb05fa26f>:33: FutureWarning: The frame.append method is deprecated and will be removed from pandas in a future version. Use pandas.concat instead.\n",
            "  data2 = data2.append(pd.Series(row, index=data2.columns[:len(row)]), ignore_index=True)\n"
          ]
        },
        {
          "output_type": "stream",
          "name": "stdout",
          "text": [
            "https://mb.com.ph/2023/4/27/lone-bettor-wins-p21-2-m-super-lotto-6-49-jackpot-prize\n"
          ]
        },
        {
          "output_type": "stream",
          "name": "stderr",
          "text": [
            "<ipython-input-40-4a1cb05fa26f>:33: FutureWarning: The frame.append method is deprecated and will be removed from pandas in a future version. Use pandas.concat instead.\n",
            "  data2 = data2.append(pd.Series(row, index=data2.columns[:len(row)]), ignore_index=True)\n"
          ]
        },
        {
          "output_type": "stream",
          "name": "stdout",
          "text": [
            "https://mb.com.ph/2023/4/27/metro-manila-covid-19-positivity-rate-increasing-may-reach-20-octa\n"
          ]
        },
        {
          "output_type": "stream",
          "name": "stderr",
          "text": [
            "<ipython-input-40-4a1cb05fa26f>:33: FutureWarning: The frame.append method is deprecated and will be removed from pandas in a future version. Use pandas.concat instead.\n",
            "  data2 = data2.append(pd.Series(row, index=data2.columns[:len(row)]), ignore_index=True)\n"
          ]
        },
        {
          "output_type": "stream",
          "name": "stdout",
          "text": [
            "https://mb.com.ph/2023/4/27/keep-an-eye-on-electric-fan-prices-roman-tells-dti\n"
          ]
        },
        {
          "output_type": "stream",
          "name": "stderr",
          "text": [
            "<ipython-input-40-4a1cb05fa26f>:33: FutureWarning: The frame.append method is deprecated and will be removed from pandas in a future version. Use pandas.concat instead.\n",
            "  data2 = data2.append(pd.Series(row, index=data2.columns[:len(row)]), ignore_index=True)\n"
          ]
        },
        {
          "output_type": "stream",
          "name": "stdout",
          "text": [
            "https://mb.com.ph/2023/4/27/uk-eyes-more-trade-opportunities-with-ph\n"
          ]
        },
        {
          "output_type": "stream",
          "name": "stderr",
          "text": [
            "<ipython-input-40-4a1cb05fa26f>:33: FutureWarning: The frame.append method is deprecated and will be removed from pandas in a future version. Use pandas.concat instead.\n",
            "  data2 = data2.append(pd.Series(row, index=data2.columns[:len(row)]), ignore_index=True)\n"
          ]
        },
        {
          "output_type": "stream",
          "name": "stdout",
          "text": [
            "https://mb.com.ph/2023/4/27/follow-int-l-standards-vs-biosafety-threats-salceda-tells-da-amid-livestock-concerns\n"
          ]
        },
        {
          "output_type": "stream",
          "name": "stderr",
          "text": [
            "<ipython-input-40-4a1cb05fa26f>:33: FutureWarning: The frame.append method is deprecated and will be removed from pandas in a future version. Use pandas.concat instead.\n",
            "  data2 = data2.append(pd.Series(row, index=data2.columns[:len(row)]), ignore_index=True)\n"
          ]
        },
        {
          "output_type": "stream",
          "name": "stdout",
          "text": [
            "https://mb.com.ph/2023/4/27/marcos-asks-media-to-take-lead-in-helping-filipinos-discern-real-information-fake-news-propaganda\n"
          ]
        },
        {
          "output_type": "stream",
          "name": "stderr",
          "text": [
            "<ipython-input-40-4a1cb05fa26f>:33: FutureWarning: The frame.append method is deprecated and will be removed from pandas in a future version. Use pandas.concat instead.\n",
            "  data2 = data2.append(pd.Series(row, index=data2.columns[:len(row)]), ignore_index=True)\n"
          ]
        },
        {
          "output_type": "stream",
          "name": "stdout",
          "text": [
            "https://mb.com.ph/2023/4/27/progressive-groups-demand-wage-increase-lower-food-prices-anew\n"
          ]
        },
        {
          "output_type": "stream",
          "name": "stderr",
          "text": [
            "<ipython-input-40-4a1cb05fa26f>:33: FutureWarning: The frame.append method is deprecated and will be removed from pandas in a future version. Use pandas.concat instead.\n",
            "  data2 = data2.append(pd.Series(row, index=data2.columns[:len(row)]), ignore_index=True)\n"
          ]
        },
        {
          "output_type": "stream",
          "name": "stdout",
          "text": [
            "https://mb.com.ph/2023/4/27/naranasan-ko-po-yan-bosita-blows-lid-off-pnp-quota-system-during-duterte-s-drug-war\n"
          ]
        },
        {
          "output_type": "stream",
          "name": "stderr",
          "text": [
            "<ipython-input-40-4a1cb05fa26f>:33: FutureWarning: The frame.append method is deprecated and will be removed from pandas in a future version. Use pandas.concat instead.\n",
            "  data2 = data2.append(pd.Series(row, index=data2.columns[:len(row)]), ignore_index=True)\n"
          ]
        },
        {
          "output_type": "stream",
          "name": "stdout",
          "text": [
            "https://mb.com.ph/2023/4/27/hold-departure-order-issued-vs-bantag-zulueta\n"
          ]
        },
        {
          "output_type": "stream",
          "name": "stderr",
          "text": [
            "<ipython-input-40-4a1cb05fa26f>:33: FutureWarning: The frame.append method is deprecated and will be removed from pandas in a future version. Use pandas.concat instead.\n",
            "  data2 = data2.append(pd.Series(row, index=data2.columns[:len(row)]), ignore_index=True)\n"
          ]
        },
        {
          "output_type": "stream",
          "name": "stdout",
          "text": [
            "https://mb.com.ph/2023/4/27/group-reiterates-call-to-junk-k-to-12-program\n"
          ]
        },
        {
          "output_type": "stream",
          "name": "stderr",
          "text": [
            "<ipython-input-40-4a1cb05fa26f>:33: FutureWarning: The frame.append method is deprecated and will be removed from pandas in a future version. Use pandas.concat instead.\n",
            "  data2 = data2.append(pd.Series(row, index=data2.columns[:len(row)]), ignore_index=True)\n"
          ]
        },
        {
          "output_type": "stream",
          "name": "stdout",
          "text": [
            "https://mb.com.ph/2023/4/27/doj-orders-probe-case-build-up-on-killing-of-union-organizer-in-bacolod-city\n"
          ]
        },
        {
          "output_type": "stream",
          "name": "stderr",
          "text": [
            "<ipython-input-40-4a1cb05fa26f>:33: FutureWarning: The frame.append method is deprecated and will be removed from pandas in a future version. Use pandas.concat instead.\n",
            "  data2 = data2.append(pd.Series(row, index=data2.columns[:len(row)]), ignore_index=True)\n"
          ]
        },
        {
          "output_type": "stream",
          "name": "stdout",
          "text": [
            "https://mb.com.ph/2023/4/27/state-run-banks-to-expand-credit-program-for-agribusinesses\n"
          ]
        },
        {
          "output_type": "stream",
          "name": "stderr",
          "text": [
            "<ipython-input-40-4a1cb05fa26f>:33: FutureWarning: The frame.append method is deprecated and will be removed from pandas in a future version. Use pandas.concat instead.\n",
            "  data2 = data2.append(pd.Series(row, index=data2.columns[:len(row)]), ignore_index=True)\n"
          ]
        },
        {
          "output_type": "stream",
          "name": "stdout",
          "text": [
            "https://mb.com.ph/2023/4/27/coa-assails-pampanga-provincial-gov-t-for-failure-to-put-to-good-use-donated-construction-materials\n"
          ]
        },
        {
          "output_type": "stream",
          "name": "stderr",
          "text": [
            "<ipython-input-40-4a1cb05fa26f>:33: FutureWarning: The frame.append method is deprecated and will be removed from pandas in a future version. Use pandas.concat instead.\n",
            "  data2 = data2.append(pd.Series(row, index=data2.columns[:len(row)]), ignore_index=True)\n"
          ]
        },
        {
          "output_type": "stream",
          "name": "stdout",
          "text": [
            "https://mb.com.ph/2023/4/27/heat-indices-in-8-areas-stay-at-danger-level\n"
          ]
        },
        {
          "output_type": "stream",
          "name": "stderr",
          "text": [
            "<ipython-input-40-4a1cb05fa26f>:33: FutureWarning: The frame.append method is deprecated and will be removed from pandas in a future version. Use pandas.concat instead.\n",
            "  data2 = data2.append(pd.Series(row, index=data2.columns[:len(row)]), ignore_index=True)\n"
          ]
        },
        {
          "output_type": "stream",
          "name": "stdout",
          "text": [
            "https://mb.com.ph/2023/4/27/pnp-quota-system-to-boost-icc-case-vs-duterte-says-makabayan-solon\n"
          ]
        },
        {
          "output_type": "stream",
          "name": "stderr",
          "text": [
            "<ipython-input-40-4a1cb05fa26f>:33: FutureWarning: The frame.append method is deprecated and will be removed from pandas in a future version. Use pandas.concat instead.\n",
            "  data2 = data2.append(pd.Series(row, index=data2.columns[:len(row)]), ignore_index=True)\n"
          ]
        },
        {
          "output_type": "stream",
          "name": "stdout",
          "text": [
            "https://mb.com.ph/2023/4/27/revilla-to-gov-t-ensure-no-filipino-is-left-behind-in-sudan\n"
          ]
        },
        {
          "output_type": "stream",
          "name": "stderr",
          "text": [
            "<ipython-input-40-4a1cb05fa26f>:33: FutureWarning: The frame.append method is deprecated and will be removed from pandas in a future version. Use pandas.concat instead.\n",
            "  data2 = data2.append(pd.Series(row, index=data2.columns[:len(row)]), ignore_index=True)\n"
          ]
        },
        {
          "output_type": "stream",
          "name": "stdout",
          "text": [
            "https://mb.com.ph/2023/4/27/nbi-to-file-criminal-charges-next-week-vs-rep-teves-in-killings-of-degamo-8-others-sec-remulla\n"
          ]
        },
        {
          "output_type": "stream",
          "name": "stderr",
          "text": [
            "<ipython-input-40-4a1cb05fa26f>:33: FutureWarning: The frame.append method is deprecated and will be removed from pandas in a future version. Use pandas.concat instead.\n",
            "  data2 = data2.append(pd.Series(row, index=data2.columns[:len(row)]), ignore_index=True)\n"
          ]
        },
        {
          "output_type": "stream",
          "name": "stdout",
          "text": [
            "https://mb.com.ph/2023/4/27/vp-duterte-tells-graduates-be-grateful-to-your-parents-teachers\n"
          ]
        },
        {
          "output_type": "stream",
          "name": "stderr",
          "text": [
            "<ipython-input-40-4a1cb05fa26f>:33: FutureWarning: The frame.append method is deprecated and will be removed from pandas in a future version. Use pandas.concat instead.\n",
            "  data2 = data2.append(pd.Series(row, index=data2.columns[:len(row)]), ignore_index=True)\n"
          ]
        },
        {
          "output_type": "stream",
          "name": "stdout",
          "text": [
            "https://mb.com.ph/2023/4/27/proposed-national-land-use-act-moves-forward-in-house\n"
          ]
        },
        {
          "output_type": "stream",
          "name": "stderr",
          "text": [
            "<ipython-input-40-4a1cb05fa26f>:33: FutureWarning: The frame.append method is deprecated and will be removed from pandas in a future version. Use pandas.concat instead.\n",
            "  data2 = data2.append(pd.Series(row, index=data2.columns[:len(row)]), ignore_index=True)\n"
          ]
        },
        {
          "output_type": "stream",
          "name": "stdout",
          "text": [
            "https://mb.com.ph/2023/4/27/pnp-starts-probe-into-its-online-recruitment-platform-over-alleged-data-leak\n"
          ]
        },
        {
          "output_type": "stream",
          "name": "stderr",
          "text": [
            "<ipython-input-40-4a1cb05fa26f>:33: FutureWarning: The frame.append method is deprecated and will be removed from pandas in a future version. Use pandas.concat instead.\n",
            "  data2 = data2.append(pd.Series(row, index=data2.columns[:len(row)]), ignore_index=True)\n"
          ]
        },
        {
          "output_type": "stream",
          "name": "stdout",
          "text": [
            "https://mb.com.ph/2023/4/27/phivolcs-modernization-bill-to-minimize-prevent-casualties-from-natural-hazards-dost\n"
          ]
        },
        {
          "output_type": "stream",
          "name": "stderr",
          "text": [
            "<ipython-input-40-4a1cb05fa26f>:33: FutureWarning: The frame.append method is deprecated and will be removed from pandas in a future version. Use pandas.concat instead.\n",
            "  data2 = data2.append(pd.Series(row, index=data2.columns[:len(row)]), ignore_index=True)\n"
          ]
        },
        {
          "output_type": "stream",
          "name": "stdout",
          "text": [
            "https://mb.com.ph/2023/4/27/mindoro-oil-spill-s-potential-damage-to-environment-at-p7-b-denr\n"
          ]
        },
        {
          "output_type": "stream",
          "name": "stderr",
          "text": [
            "<ipython-input-40-4a1cb05fa26f>:33: FutureWarning: The frame.append method is deprecated and will be removed from pandas in a future version. Use pandas.concat instead.\n",
            "  data2 = data2.append(pd.Series(row, index=data2.columns[:len(row)]), ignore_index=True)\n"
          ]
        },
        {
          "output_type": "stream",
          "name": "stdout",
          "text": [
            "https://mb.com.ph/2023/4/27/afp-eyes-amnesty-for-reds-amid-final-push-to-end-communist-insurgency\n"
          ]
        },
        {
          "output_type": "stream",
          "name": "stderr",
          "text": [
            "<ipython-input-40-4a1cb05fa26f>:33: FutureWarning: The frame.append method is deprecated and will be removed from pandas in a future version. Use pandas.concat instead.\n",
            "  data2 = data2.append(pd.Series(row, index=data2.columns[:len(row)]), ignore_index=True)\n"
          ]
        },
        {
          "output_type": "stream",
          "name": "stdout",
          "text": [
            "https://mb.com.ph/2023/4/27/doh-launches-chikiting-ligtas-2023-immunization-drive-vs-measles-rubella-polio\n"
          ]
        },
        {
          "output_type": "stream",
          "name": "stderr",
          "text": [
            "<ipython-input-40-4a1cb05fa26f>:33: FutureWarning: The frame.append method is deprecated and will be removed from pandas in a future version. Use pandas.concat instead.\n",
            "  data2 = data2.append(pd.Series(row, index=data2.columns[:len(row)]), ignore_index=True)\n"
          ]
        },
        {
          "output_type": "stream",
          "name": "stdout",
          "text": [
            "https://mb.com.ph/2023/4/27/ntc-gauging-if-deactivation-of-social-media-access-due-to-unregistered-si-ms-legally-technically-feasible\n"
          ]
        },
        {
          "output_type": "stream",
          "name": "stderr",
          "text": [
            "<ipython-input-40-4a1cb05fa26f>:33: FutureWarning: The frame.append method is deprecated and will be removed from pandas in a future version. Use pandas.concat instead.\n",
            "  data2 = data2.append(pd.Series(row, index=data2.columns[:len(row)]), ignore_index=True)\n"
          ]
        },
        {
          "output_type": "stream",
          "name": "stdout",
          "text": [
            "https://mb.com.ph/2023/4/27/ph-malaysia-sharing-info-on-sudan-update-to-secure-of-ws\n"
          ]
        },
        {
          "output_type": "stream",
          "name": "stderr",
          "text": [
            "<ipython-input-40-4a1cb05fa26f>:33: FutureWarning: The frame.append method is deprecated and will be removed from pandas in a future version. Use pandas.concat instead.\n",
            "  data2 = data2.append(pd.Series(row, index=data2.columns[:len(row)]), ignore_index=True)\n"
          ]
        },
        {
          "output_type": "stream",
          "name": "stdout",
          "text": [
            "https://mb.com.ph/2023/4/27/sc-reiterates-ex-surigao-del-sur-rep-pichay-s-perpetual-ban-to-hold-public-office\n"
          ]
        },
        {
          "output_type": "stream",
          "name": "stderr",
          "text": [
            "<ipython-input-40-4a1cb05fa26f>:33: FutureWarning: The frame.append method is deprecated and will be removed from pandas in a future version. Use pandas.concat instead.\n",
            "  data2 = data2.append(pd.Series(row, index=data2.columns[:len(row)]), ignore_index=True)\n"
          ]
        },
        {
          "output_type": "stream",
          "name": "stdout",
          "text": [
            "https://mb.com.ph/2023/4/27/this-solon-agrees-with-bato-says-lgu-execs-shouldn-t-choose-their-police-chiefs\n"
          ]
        },
        {
          "output_type": "stream",
          "name": "stderr",
          "text": [
            "<ipython-input-40-4a1cb05fa26f>:33: FutureWarning: The frame.append method is deprecated and will be removed from pandas in a future version. Use pandas.concat instead.\n",
            "  data2 = data2.append(pd.Series(row, index=data2.columns[:len(row)]), ignore_index=True)\n"
          ]
        },
        {
          "output_type": "stream",
          "name": "stdout",
          "text": [
            "https://mb.com.ph/2023/4/27/dost-pushes-for-the-use-of-locally-made-air-quality-monitors\n"
          ]
        },
        {
          "output_type": "stream",
          "name": "stderr",
          "text": [
            "<ipython-input-40-4a1cb05fa26f>:33: FutureWarning: The frame.append method is deprecated and will be removed from pandas in a future version. Use pandas.concat instead.\n",
            "  data2 = data2.append(pd.Series(row, index=data2.columns[:len(row)]), ignore_index=True)\n"
          ]
        },
        {
          "output_type": "stream",
          "name": "stdout",
          "text": [
            "https://mb.com.ph/2023/4/27/409-pinoys-move-out-of-khartoum-sudan-as-evacuation-continues\n"
          ]
        },
        {
          "output_type": "stream",
          "name": "stderr",
          "text": [
            "<ipython-input-40-4a1cb05fa26f>:33: FutureWarning: The frame.append method is deprecated and will be removed from pandas in a future version. Use pandas.concat instead.\n",
            "  data2 = data2.append(pd.Series(row, index=data2.columns[:len(row)]), ignore_index=True)\n"
          ]
        },
        {
          "output_type": "stream",
          "name": "stdout",
          "text": [
            "https://mb.com.ph/2023/4/27/marcos-asks-public-to-be-patient-over-inconvenience-during-mega-railway-system-construction\n"
          ]
        },
        {
          "output_type": "stream",
          "name": "stderr",
          "text": [
            "<ipython-input-40-4a1cb05fa26f>:33: FutureWarning: The frame.append method is deprecated and will be removed from pandas in a future version. Use pandas.concat instead.\n",
            "  data2 = data2.append(pd.Series(row, index=data2.columns[:len(row)]), ignore_index=True)\n"
          ]
        },
        {
          "output_type": "stream",
          "name": "stdout",
          "text": [
            "https://mb.com.ph/2023/4/27/marcos-appoints-new-pco-officials-other-agencies\n"
          ]
        },
        {
          "output_type": "stream",
          "name": "stderr",
          "text": [
            "<ipython-input-40-4a1cb05fa26f>:33: FutureWarning: The frame.append method is deprecated and will be removed from pandas in a future version. Use pandas.concat instead.\n",
            "  data2 = data2.append(pd.Series(row, index=data2.columns[:len(row)]), ignore_index=True)\n"
          ]
        },
        {
          "output_type": "stream",
          "name": "stdout",
          "text": [
            "https://mb.com.ph/2023/4/27/binay-urges-gov-t-to-step-up-immunization-program-for-children\n"
          ]
        },
        {
          "output_type": "stream",
          "name": "stderr",
          "text": [
            "<ipython-input-40-4a1cb05fa26f>:33: FutureWarning: The frame.append method is deprecated and will be removed from pandas in a future version. Use pandas.concat instead.\n",
            "  data2 = data2.append(pd.Series(row, index=data2.columns[:len(row)]), ignore_index=True)\n"
          ]
        },
        {
          "output_type": "stream",
          "name": "stdout",
          "text": [
            "https://mb.com.ph/2023/4/27/most-of-ph-may-receive-below-normal-rainfall-by-october-pagasa\n"
          ]
        },
        {
          "output_type": "stream",
          "name": "stderr",
          "text": [
            "<ipython-input-40-4a1cb05fa26f>:33: FutureWarning: The frame.append method is deprecated and will be removed from pandas in a future version. Use pandas.concat instead.\n",
            "  data2 = data2.append(pd.Series(row, index=data2.columns[:len(row)]), ignore_index=True)\n"
          ]
        },
        {
          "output_type": "stream",
          "name": "stdout",
          "text": [
            "https://mb.com.ph/2023/4/27/concepcion-calls-for-review-of-agrarian-reform-to-allow-agri-lands-as-collateral\n"
          ]
        },
        {
          "output_type": "stream",
          "name": "stderr",
          "text": [
            "<ipython-input-40-4a1cb05fa26f>:33: FutureWarning: The frame.append method is deprecated and will be removed from pandas in a future version. Use pandas.concat instead.\n",
            "  data2 = data2.append(pd.Series(row, index=data2.columns[:len(row)]), ignore_index=True)\n"
          ]
        },
        {
          "output_type": "stream",
          "name": "stdout",
          "text": [
            "https://mb.com.ph/2023/4/27/fear-grips-filipino-evacuees-fleeing-sudan\n"
          ]
        },
        {
          "output_type": "stream",
          "name": "stderr",
          "text": [
            "<ipython-input-40-4a1cb05fa26f>:33: FutureWarning: The frame.append method is deprecated and will be removed from pandas in a future version. Use pandas.concat instead.\n",
            "  data2 = data2.append(pd.Series(row, index=data2.columns[:len(row)]), ignore_index=True)\n"
          ]
        },
        {
          "output_type": "stream",
          "name": "stdout",
          "text": [
            "https://mb.com.ph/2023/4/27/poe-slams-lto-s-diy-vehicle-plates\n"
          ]
        },
        {
          "output_type": "stream",
          "name": "stderr",
          "text": [
            "<ipython-input-40-4a1cb05fa26f>:33: FutureWarning: The frame.append method is deprecated and will be removed from pandas in a future version. Use pandas.concat instead.\n",
            "  data2 = data2.append(pd.Series(row, index=data2.columns[:len(row)]), ignore_index=True)\n"
          ]
        },
        {
          "output_type": "stream",
          "name": "stdout",
          "text": [
            "https://mb.com.ph/2023/4/27/dela-rosa-seeks-amendment-to-firearms-law-after-senate-probe-on-degamo-slay\n"
          ]
        },
        {
          "output_type": "stream",
          "name": "stderr",
          "text": [
            "<ipython-input-40-4a1cb05fa26f>:33: FutureWarning: The frame.append method is deprecated and will be removed from pandas in a future version. Use pandas.concat instead.\n",
            "  data2 = data2.append(pd.Series(row, index=data2.columns[:len(row)]), ignore_index=True)\n"
          ]
        },
        {
          "output_type": "stream",
          "name": "stdout",
          "text": [
            "https://mb.com.ph/2023/4/27/lto-re-orients-personnel-on-anti-red-tape\n"
          ]
        },
        {
          "output_type": "stream",
          "name": "stderr",
          "text": [
            "<ipython-input-40-4a1cb05fa26f>:33: FutureWarning: The frame.append method is deprecated and will be removed from pandas in a future version. Use pandas.concat instead.\n",
            "  data2 = data2.append(pd.Series(row, index=data2.columns[:len(row)]), ignore_index=True)\n"
          ]
        },
        {
          "output_type": "stream",
          "name": "stdout",
          "text": [
            "https://mb.com.ph/2023/4/27/villanueva-include-agri-insurance-woes-in-gov-t-s-el-nino-plan\n"
          ]
        },
        {
          "output_type": "stream",
          "name": "stderr",
          "text": [
            "<ipython-input-40-4a1cb05fa26f>:33: FutureWarning: The frame.append method is deprecated and will be removed from pandas in a future version. Use pandas.concat instead.\n",
            "  data2 = data2.append(pd.Series(row, index=data2.columns[:len(row)]), ignore_index=True)\n"
          ]
        },
        {
          "output_type": "stream",
          "name": "stdout",
          "text": [
            "https://mb.com.ph/2023/4/27/cong-villar-bats-for-passage-of-bill-banning-no-permit-no-exam-rule\n"
          ]
        },
        {
          "output_type": "stream",
          "name": "stderr",
          "text": [
            "<ipython-input-40-4a1cb05fa26f>:33: FutureWarning: The frame.append method is deprecated and will be removed from pandas in a future version. Use pandas.concat instead.\n",
            "  data2 = data2.append(pd.Series(row, index=data2.columns[:len(row)]), ignore_index=True)\n"
          ]
        },
        {
          "output_type": "stream",
          "name": "stdout",
          "text": [
            "https://mb.com.ph/2023/4/27/delays-in-stenographic-notes-affect-court-proceedings-sc-vows-to-resolve-thru-automation\n"
          ]
        },
        {
          "output_type": "stream",
          "name": "stderr",
          "text": [
            "<ipython-input-40-4a1cb05fa26f>:33: FutureWarning: The frame.append method is deprecated and will be removed from pandas in a future version. Use pandas.concat instead.\n",
            "  data2 = data2.append(pd.Series(row, index=data2.columns[:len(row)]), ignore_index=True)\n"
          ]
        },
        {
          "output_type": "stream",
          "name": "stdout",
          "text": [
            "https://mb.com.ph/2023/4/27/stores-not-violating-any-law-for-charging-sim-card-holders-p20-for-registration-dict-chief\n"
          ]
        },
        {
          "output_type": "stream",
          "name": "stderr",
          "text": [
            "<ipython-input-40-4a1cb05fa26f>:33: FutureWarning: The frame.append method is deprecated and will be removed from pandas in a future version. Use pandas.concat instead.\n",
            "  data2 = data2.append(pd.Series(row, index=data2.columns[:len(row)]), ignore_index=True)\n"
          ]
        },
        {
          "output_type": "stream",
          "name": "stdout",
          "text": [
            "https://mb.com.ph/2023/4/27/price-of-evacuation-buses-in-sudan-shoots-up-dfa\n"
          ]
        },
        {
          "output_type": "stream",
          "name": "stderr",
          "text": [
            "<ipython-input-40-4a1cb05fa26f>:33: FutureWarning: The frame.append method is deprecated and will be removed from pandas in a future version. Use pandas.concat instead.\n",
            "  data2 = data2.append(pd.Series(row, index=data2.columns[:len(row)]), ignore_index=True)\n"
          ]
        },
        {
          "output_type": "stream",
          "name": "stdout",
          "text": [
            "https://mb.com.ph/2023/4/27/legarda-urges-women-leaders-to-take-the-lead-in-addressing-climate-change-1\n"
          ]
        },
        {
          "output_type": "stream",
          "name": "stderr",
          "text": [
            "<ipython-input-40-4a1cb05fa26f>:33: FutureWarning: The frame.append method is deprecated and will be removed from pandas in a future version. Use pandas.concat instead.\n",
            "  data2 = data2.append(pd.Series(row, index=data2.columns[:len(row)]), ignore_index=True)\n"
          ]
        },
        {
          "output_type": "stream",
          "name": "stdout",
          "text": [
            "https://mb.com.ph/2023/4/27/chr-to-gov-t-rebels-handle-conflicts-without-bloodshed-human-rights-abuses\n"
          ]
        },
        {
          "output_type": "stream",
          "name": "stderr",
          "text": [
            "<ipython-input-40-4a1cb05fa26f>:33: FutureWarning: The frame.append method is deprecated and will be removed from pandas in a future version. Use pandas.concat instead.\n",
            "  data2 = data2.append(pd.Series(row, index=data2.columns[:len(row)]), ignore_index=True)\n"
          ]
        },
        {
          "output_type": "stream",
          "name": "stdout",
          "text": [
            "https://mb.com.ph/2023/4/27/dep-ed-commits-to-participate-in-hearings-on-proposed-k-10-2-bill\n"
          ]
        },
        {
          "output_type": "stream",
          "name": "stderr",
          "text": [
            "<ipython-input-40-4a1cb05fa26f>:33: FutureWarning: The frame.append method is deprecated and will be removed from pandas in a future version. Use pandas.concat instead.\n",
            "  data2 = data2.append(pd.Series(row, index=data2.columns[:len(row)]), ignore_index=True)\n"
          ]
        },
        {
          "output_type": "stream",
          "name": "stdout",
          "text": [
            "https://mb.com.ph/2023/4/27/chinese-ship-carrying-nickel-ore-runs-aground-off-eastern-samar-waters\n"
          ]
        },
        {
          "output_type": "stream",
          "name": "stderr",
          "text": [
            "<ipython-input-40-4a1cb05fa26f>:33: FutureWarning: The frame.append method is deprecated and will be removed from pandas in a future version. Use pandas.concat instead.\n",
            "  data2 = data2.append(pd.Series(row, index=data2.columns[:len(row)]), ignore_index=True)\n"
          ]
        },
        {
          "output_type": "stream",
          "name": "stdout",
          "text": [
            "https://mb.com.ph/2023/4/27/dhsud-to-use-solar-other-renewable-energy-sources-in-some-housing-projects\n"
          ]
        },
        {
          "output_type": "stream",
          "name": "stderr",
          "text": [
            "<ipython-input-40-4a1cb05fa26f>:33: FutureWarning: The frame.append method is deprecated and will be removed from pandas in a future version. Use pandas.concat instead.\n",
            "  data2 = data2.append(pd.Series(row, index=data2.columns[:len(row)]), ignore_index=True)\n"
          ]
        },
        {
          "output_type": "stream",
          "name": "stdout",
          "text": [
            "https://mb.com.ph/2023/4/27/poe-sc-verdict-on-the-sim-law-is-a-big-boost\n"
          ]
        },
        {
          "output_type": "stream",
          "name": "stderr",
          "text": [
            "<ipython-input-40-4a1cb05fa26f>:33: FutureWarning: The frame.append method is deprecated and will be removed from pandas in a future version. Use pandas.concat instead.\n",
            "  data2 = data2.append(pd.Series(row, index=data2.columns[:len(row)]), ignore_index=True)\n"
          ]
        },
        {
          "output_type": "stream",
          "name": "stdout",
          "text": [
            "https://mb.com.ph/2023/4/27/evacuate-pinoys-from-sudan-asap-solon-tells-dfa-dmw\n"
          ]
        },
        {
          "output_type": "stream",
          "name": "stderr",
          "text": [
            "<ipython-input-40-4a1cb05fa26f>:33: FutureWarning: The frame.append method is deprecated and will be removed from pandas in a future version. Use pandas.concat instead.\n",
            "  data2 = data2.append(pd.Series(row, index=data2.columns[:len(row)]), ignore_index=True)\n"
          ]
        },
        {
          "output_type": "stream",
          "name": "stdout",
          "text": [
            "https://mb.com.ph/2023/4/27/policeman-s-attack-vs-girlfriend-deplorable-unacceptable-chr\n"
          ]
        },
        {
          "output_type": "stream",
          "name": "stderr",
          "text": [
            "<ipython-input-40-4a1cb05fa26f>:33: FutureWarning: The frame.append method is deprecated and will be removed from pandas in a future version. Use pandas.concat instead.\n",
            "  data2 = data2.append(pd.Series(row, index=data2.columns[:len(row)]), ignore_index=True)\n"
          ]
        },
        {
          "output_type": "stream",
          "name": "stdout",
          "text": [
            "https://mb.com.ph/2023/4/27/implementing-rules-on-law-vs-online-sexual-abuse-exploitation-of-children-expected-in-may\n"
          ]
        },
        {
          "output_type": "stream",
          "name": "stderr",
          "text": [
            "<ipython-input-40-4a1cb05fa26f>:33: FutureWarning: The frame.append method is deprecated and will be removed from pandas in a future version. Use pandas.concat instead.\n",
            "  data2 = data2.append(pd.Series(row, index=data2.columns[:len(row)]), ignore_index=True)\n"
          ]
        },
        {
          "output_type": "stream",
          "name": "stdout",
          "text": [
            "https://mb.com.ph/2023/4/27/huge-dividends-from-marcos-biden-meeting-await-ph-says-romualdez\n"
          ]
        },
        {
          "output_type": "stream",
          "name": "stderr",
          "text": [
            "<ipython-input-40-4a1cb05fa26f>:33: FutureWarning: The frame.append method is deprecated and will be removed from pandas in a future version. Use pandas.concat instead.\n",
            "  data2 = data2.append(pd.Series(row, index=data2.columns[:len(row)]), ignore_index=True)\n"
          ]
        },
        {
          "output_type": "stream",
          "name": "stdout",
          "text": [
            "https://mb.com.ph/2023/4/27/bi-rescues-4-pinay-victims-of-human-trafficking\n"
          ]
        },
        {
          "output_type": "stream",
          "name": "stderr",
          "text": [
            "<ipython-input-40-4a1cb05fa26f>:33: FutureWarning: The frame.append method is deprecated and will be removed from pandas in a future version. Use pandas.concat instead.\n",
            "  data2 = data2.append(pd.Series(row, index=data2.columns[:len(row)]), ignore_index=True)\n"
          ]
        },
        {
          "output_type": "stream",
          "name": "stdout",
          "text": [
            "https://mb.com.ph/2023/4/27/feast-of-the-virgin-of-montserrat-on-april-27-1\n"
          ]
        },
        {
          "output_type": "stream",
          "name": "stderr",
          "text": [
            "<ipython-input-40-4a1cb05fa26f>:33: FutureWarning: The frame.append method is deprecated and will be removed from pandas in a future version. Use pandas.concat instead.\n",
            "  data2 = data2.append(pd.Series(row, index=data2.columns[:len(row)]), ignore_index=True)\n"
          ]
        },
        {
          "output_type": "stream",
          "name": "stdout",
          "text": [
            "https://mb.com.ph/2023/4/27/336-wanted-persons-arrested-as-mimaropa-cops-step-up-drive-vs-fugitives\n"
          ]
        },
        {
          "output_type": "stream",
          "name": "stderr",
          "text": [
            "<ipython-input-40-4a1cb05fa26f>:33: FutureWarning: The frame.append method is deprecated and will be removed from pandas in a future version. Use pandas.concat instead.\n",
            "  data2 = data2.append(pd.Series(row, index=data2.columns[:len(row)]), ignore_index=True)\n"
          ]
        },
        {
          "output_type": "stream",
          "name": "stdout",
          "text": [
            "https://mb.com.ph/2023/4/27/wanted-abu-sayyaf-man-arrested-in-tawi-tawi-after-26-years-of-hiding\n"
          ]
        },
        {
          "output_type": "stream",
          "name": "stderr",
          "text": [
            "<ipython-input-40-4a1cb05fa26f>:33: FutureWarning: The frame.append method is deprecated and will be removed from pandas in a future version. Use pandas.concat instead.\n",
            "  data2 = data2.append(pd.Series(row, index=data2.columns[:len(row)]), ignore_index=True)\n"
          ]
        },
        {
          "output_type": "stream",
          "name": "stdout",
          "text": [
            "https://mb.com.ph/2023/4/27/keep-fishing-bans-in-oriental-mindoro-bfar-recommends\n"
          ]
        },
        {
          "output_type": "stream",
          "name": "stderr",
          "text": [
            "<ipython-input-40-4a1cb05fa26f>:33: FutureWarning: The frame.append method is deprecated and will be removed from pandas in a future version. Use pandas.concat instead.\n",
            "  data2 = data2.append(pd.Series(row, index=data2.columns[:len(row)]), ignore_index=True)\n"
          ]
        },
        {
          "output_type": "stream",
          "name": "stdout",
          "text": [
            "https://mb.com.ph/2023/4/27/no-special-treatment-ex-cop-mayo-under-tight-bjmp-security-abalos\n"
          ]
        },
        {
          "output_type": "stream",
          "name": "stderr",
          "text": [
            "<ipython-input-40-4a1cb05fa26f>:33: FutureWarning: The frame.append method is deprecated and will be removed from pandas in a future version. Use pandas.concat instead.\n",
            "  data2 = data2.append(pd.Series(row, index=data2.columns[:len(row)]), ignore_index=True)\n"
          ]
        },
        {
          "output_type": "stream",
          "name": "stdout",
          "text": [
            "https://mb.com.ph/2023/4/27/tulfo-alarmed-over-rising-cases-of-autism-in-ph\n"
          ]
        },
        {
          "output_type": "stream",
          "name": "stderr",
          "text": [
            "<ipython-input-40-4a1cb05fa26f>:33: FutureWarning: The frame.append method is deprecated and will be removed from pandas in a future version. Use pandas.concat instead.\n",
            "  data2 = data2.append(pd.Series(row, index=data2.columns[:len(row)]), ignore_index=True)\n"
          ]
        },
        {
          "output_type": "stream",
          "name": "stdout",
          "text": [
            "https://mb.com.ph/2023/4/26/arroyo-wants-to-replace-k-to-12-with-k-10-2-find-out-more\n"
          ]
        },
        {
          "output_type": "stream",
          "name": "stderr",
          "text": [
            "<ipython-input-40-4a1cb05fa26f>:33: FutureWarning: The frame.append method is deprecated and will be removed from pandas in a future version. Use pandas.concat instead.\n",
            "  data2 = data2.append(pd.Series(row, index=data2.columns[:len(row)]), ignore_index=True)\n"
          ]
        },
        {
          "output_type": "stream",
          "name": "stdout",
          "text": [
            "https://mb.com.ph/2023/4/26/grand-mega-lotto-jackpots-still-up-for-grabs-2\n"
          ]
        },
        {
          "output_type": "stream",
          "name": "stderr",
          "text": [
            "<ipython-input-40-4a1cb05fa26f>:33: FutureWarning: The frame.append method is deprecated and will be removed from pandas in a future version. Use pandas.concat instead.\n",
            "  data2 = data2.append(pd.Series(row, index=data2.columns[:len(row)]), ignore_index=True)\n"
          ]
        },
        {
          "output_type": "stream",
          "name": "stdout",
          "text": [
            "https://mb.com.ph/2023/4/26/prc-announces-results-for-april-2023-electronics-engineers-technicians-board-exams\n"
          ]
        },
        {
          "output_type": "stream",
          "name": "stderr",
          "text": [
            "<ipython-input-40-4a1cb05fa26f>:33: FutureWarning: The frame.append method is deprecated and will be removed from pandas in a future version. Use pandas.concat instead.\n",
            "  data2 = data2.append(pd.Series(row, index=data2.columns[:len(row)]), ignore_index=True)\n"
          ]
        },
        {
          "output_type": "stream",
          "name": "stdout",
          "text": [
            "https://mb.com.ph/2023/4/26/tulfo-most-trusted-approved-senator-survey\n"
          ]
        },
        {
          "output_type": "stream",
          "name": "stderr",
          "text": [
            "<ipython-input-40-4a1cb05fa26f>:33: FutureWarning: The frame.append method is deprecated and will be removed from pandas in a future version. Use pandas.concat instead.\n",
            "  data2 = data2.append(pd.Series(row, index=data2.columns[:len(row)]), ignore_index=True)\n"
          ]
        },
        {
          "output_type": "stream",
          "name": "stdout",
          "text": [
            "https://mb.com.ph/2023/4/26/dep-ed-told-blended-learning-not-a-cure-all-solution-to-education-problems\n"
          ]
        },
        {
          "output_type": "stream",
          "name": "stderr",
          "text": [
            "<ipython-input-40-4a1cb05fa26f>:33: FutureWarning: The frame.append method is deprecated and will be removed from pandas in a future version. Use pandas.concat instead.\n",
            "  data2 = data2.append(pd.Series(row, index=data2.columns[:len(row)]), ignore_index=True)\n"
          ]
        },
        {
          "output_type": "stream",
          "name": "stdout",
          "text": [
            "https://mb.com.ph/2023/4/26/once-bantag-surrenders-or-arrested-doj-eyes-pnp-custodial-center-as-detention-cell\n"
          ]
        },
        {
          "output_type": "stream",
          "name": "stderr",
          "text": [
            "<ipython-input-40-4a1cb05fa26f>:33: FutureWarning: The frame.append method is deprecated and will be removed from pandas in a future version. Use pandas.concat instead.\n",
            "  data2 = data2.append(pd.Series(row, index=data2.columns[:len(row)]), ignore_index=True)\n"
          ]
        },
        {
          "output_type": "stream",
          "name": "stdout",
          "text": [
            "https://mb.com.ph/2023/4/26/concepcion-sees-no-need-for-alert-levels-but-public-health-warning\n"
          ]
        },
        {
          "output_type": "stream",
          "name": "stderr",
          "text": [
            "<ipython-input-40-4a1cb05fa26f>:33: FutureWarning: The frame.append method is deprecated and will be removed from pandas in a future version. Use pandas.concat instead.\n",
            "  data2 = data2.append(pd.Series(row, index=data2.columns[:len(row)]), ignore_index=True)\n"
          ]
        },
        {
          "output_type": "stream",
          "name": "stdout",
          "text": [
            "https://mb.com.ph/2023/4/26/terrorism-complaint-is-set-for-filing-simultaneously-with-murder-charges-vs-rep-teves-sec-remulla\n"
          ]
        },
        {
          "output_type": "stream",
          "name": "stderr",
          "text": [
            "<ipython-input-40-4a1cb05fa26f>:33: FutureWarning: The frame.append method is deprecated and will be removed from pandas in a future version. Use pandas.concat instead.\n",
            "  data2 = data2.append(pd.Series(row, index=data2.columns[:len(row)]), ignore_index=True)\n"
          ]
        },
        {
          "output_type": "stream",
          "name": "stdout",
          "text": [
            "https://mb.com.ph/2023/4/26/hot-weather-isolated-rain-showers-localized-thunderstorms-to-prevail-over-most-of-ph\n"
          ]
        },
        {
          "output_type": "stream",
          "name": "stderr",
          "text": [
            "<ipython-input-40-4a1cb05fa26f>:33: FutureWarning: The frame.append method is deprecated and will be removed from pandas in a future version. Use pandas.concat instead.\n",
            "  data2 = data2.append(pd.Series(row, index=data2.columns[:len(row)]), ignore_index=True)\n"
          ]
        },
        {
          "output_type": "stream",
          "name": "stdout",
          "text": [
            "https://mb.com.ph/2023/4/26/dpwh-completes-farm-to-market-road-in-south-cotabato\n"
          ]
        },
        {
          "output_type": "stream",
          "name": "stderr",
          "text": [
            "<ipython-input-40-4a1cb05fa26f>:33: FutureWarning: The frame.append method is deprecated and will be removed from pandas in a future version. Use pandas.concat instead.\n",
            "  data2 = data2.append(pd.Series(row, index=data2.columns[:len(row)]), ignore_index=True)\n"
          ]
        },
        {
          "output_type": "stream",
          "name": "stdout",
          "text": [
            "https://mb.com.ph/2023/4/26/mayo-zips-mouth-in-house-probe-invokes-right-to-remain-silent\n"
          ]
        },
        {
          "output_type": "stream",
          "name": "stderr",
          "text": [
            "<ipython-input-40-4a1cb05fa26f>:33: FutureWarning: The frame.append method is deprecated and will be removed from pandas in a future version. Use pandas.concat instead.\n",
            "  data2 = data2.append(pd.Series(row, index=data2.columns[:len(row)]), ignore_index=True)\n"
          ]
        },
        {
          "output_type": "stream",
          "name": "stdout",
          "text": [
            "https://mb.com.ph/2023/4/26/pagasa-not-ruling-out-possible-strong-el-nino-this-year\n"
          ]
        },
        {
          "output_type": "stream",
          "name": "stderr",
          "text": [
            "<ipython-input-40-4a1cb05fa26f>:33: FutureWarning: The frame.append method is deprecated and will be removed from pandas in a future version. Use pandas.concat instead.\n",
            "  data2 = data2.append(pd.Series(row, index=data2.columns[:len(row)]), ignore_index=True)\n"
          ]
        },
        {
          "output_type": "stream",
          "name": "stdout",
          "text": [
            "https://mb.com.ph/2023/4/26/lazada-snubs-dti-warnings-as-pma-urges-gov-t-to-fight-illicit-tobacco-vapes-1\n"
          ]
        },
        {
          "output_type": "stream",
          "name": "stderr",
          "text": [
            "<ipython-input-40-4a1cb05fa26f>:33: FutureWarning: The frame.append method is deprecated and will be removed from pandas in a future version. Use pandas.concat instead.\n",
            "  data2 = data2.append(pd.Series(row, index=data2.columns[:len(row)]), ignore_index=True)\n"
          ]
        },
        {
          "output_type": "stream",
          "name": "stdout",
          "text": [
            "https://mb.com.ph/2023/4/26/persons-affected-by-oriental-mindoro-oil-spill-may-get-total-of-284-m-in-compensation-doj\n"
          ]
        },
        {
          "output_type": "stream",
          "name": "stderr",
          "text": [
            "<ipython-input-40-4a1cb05fa26f>:33: FutureWarning: The frame.append method is deprecated and will be removed from pandas in a future version. Use pandas.concat instead.\n",
            "  data2 = data2.append(pd.Series(row, index=data2.columns[:len(row)]), ignore_index=True)\n"
          ]
        },
        {
          "output_type": "stream",
          "name": "stdout",
          "text": [
            "https://mb.com.ph/2023/4/26/mb-daily-news-summary-36\n"
          ]
        },
        {
          "output_type": "stream",
          "name": "stderr",
          "text": [
            "<ipython-input-40-4a1cb05fa26f>:33: FutureWarning: The frame.append method is deprecated and will be removed from pandas in a future version. Use pandas.concat instead.\n",
            "  data2 = data2.append(pd.Series(row, index=data2.columns[:len(row)]), ignore_index=True)\n"
          ]
        },
        {
          "output_type": "stream",
          "name": "stdout",
          "text": [
            "https://mb.com.ph/2023/4/26/afp-us-counterpart-s-live-fire-drill-a-success-as-mock-vessel-sinks-off-zambales\n"
          ]
        },
        {
          "output_type": "stream",
          "name": "stderr",
          "text": [
            "<ipython-input-40-4a1cb05fa26f>:33: FutureWarning: The frame.append method is deprecated and will be removed from pandas in a future version. Use pandas.concat instead.\n",
            "  data2 = data2.append(pd.Series(row, index=data2.columns[:len(row)]), ignore_index=True)\n"
          ]
        },
        {
          "output_type": "stream",
          "name": "stdout",
          "text": [
            "https://mb.com.ph/2023/4/26/pbbm-vows-to-fix-ph-agri-sector\n"
          ]
        },
        {
          "output_type": "stream",
          "name": "stderr",
          "text": [
            "<ipython-input-40-4a1cb05fa26f>:33: FutureWarning: The frame.append method is deprecated and will be removed from pandas in a future version. Use pandas.concat instead.\n",
            "  data2 = data2.append(pd.Series(row, index=data2.columns[:len(row)]), ignore_index=True)\n"
          ]
        },
        {
          "output_type": "stream",
          "name": "stdout",
          "text": [
            "https://mb.com.ph/2023/4/26/bigger-than-a-foreign-drug-lord-solons-stumped-over-how-mayo-gathered-nearly-a-ton-of-shabu\n"
          ]
        },
        {
          "output_type": "stream",
          "name": "stderr",
          "text": [
            "<ipython-input-40-4a1cb05fa26f>:33: FutureWarning: The frame.append method is deprecated and will be removed from pandas in a future version. Use pandas.concat instead.\n",
            "  data2 = data2.append(pd.Series(row, index=data2.columns[:len(row)]), ignore_index=True)\n"
          ]
        },
        {
          "output_type": "stream",
          "name": "stdout",
          "text": [
            "https://mb.com.ph/2023/4/26/csc-urges-gov-t-workers-to-avail-of-training-courses-in-may\n"
          ]
        },
        {
          "output_type": "stream",
          "name": "stderr",
          "text": [
            "<ipython-input-40-4a1cb05fa26f>:33: FutureWarning: The frame.append method is deprecated and will be removed from pandas in a future version. Use pandas.concat instead.\n",
            "  data2 = data2.append(pd.Series(row, index=data2.columns[:len(row)]), ignore_index=True)\n"
          ]
        },
        {
          "output_type": "stream",
          "name": "stdout",
          "text": [
            "https://mb.com.ph/2023/4/26/bishop-asks-for-prayers-for-more-vocations-to-the-priesthood\n"
          ]
        },
        {
          "output_type": "stream",
          "name": "stderr",
          "text": [
            "<ipython-input-40-4a1cb05fa26f>:33: FutureWarning: The frame.append method is deprecated and will be removed from pandas in a future version. Use pandas.concat instead.\n",
            "  data2 = data2.append(pd.Series(row, index=data2.columns[:len(row)]), ignore_index=True)\n"
          ]
        },
        {
          "output_type": "stream",
          "name": "stdout",
          "text": [
            "https://mb.com.ph/2023/4/26/afp-says-ph-has-right-to-hold-drills-within-territory-as-intruder-delays-balikatan-main-event\n"
          ]
        },
        {
          "output_type": "stream",
          "name": "stderr",
          "text": [
            "<ipython-input-40-4a1cb05fa26f>:33: FutureWarning: The frame.append method is deprecated and will be removed from pandas in a future version. Use pandas.concat instead.\n",
            "  data2 = data2.append(pd.Series(row, index=data2.columns[:len(row)]), ignore_index=True)\n"
          ]
        },
        {
          "output_type": "stream",
          "name": "stdout",
          "text": [
            "https://mb.com.ph/2023/4/26/dpwh-dict-ink-mou-for-digital-connectivity-service\n"
          ]
        },
        {
          "output_type": "stream",
          "name": "stderr",
          "text": [
            "<ipython-input-40-4a1cb05fa26f>:33: FutureWarning: The frame.append method is deprecated and will be removed from pandas in a future version. Use pandas.concat instead.\n",
            "  data2 = data2.append(pd.Series(row, index=data2.columns[:len(row)]), ignore_index=True)\n"
          ]
        },
        {
          "output_type": "stream",
          "name": "stdout",
          "text": [
            "https://mb.com.ph/2023/4/26/sandigan-affirms-conviction-of-ex-quezon-town-mayor\n"
          ]
        },
        {
          "output_type": "stream",
          "name": "stderr",
          "text": [
            "<ipython-input-40-4a1cb05fa26f>:33: FutureWarning: The frame.append method is deprecated and will be removed from pandas in a future version. Use pandas.concat instead.\n",
            "  data2 = data2.append(pd.Series(row, index=data2.columns[:len(row)]), ignore_index=True)\n"
          ]
        },
        {
          "output_type": "stream",
          "name": "stdout",
          "text": [
            "https://mb.com.ph/2023/4/26/13-inch-screens-send-to-all-system-comelec-s-bid-for-transparency-in-2025\n"
          ]
        },
        {
          "output_type": "stream",
          "name": "stderr",
          "text": [
            "<ipython-input-40-4a1cb05fa26f>:33: FutureWarning: The frame.append method is deprecated and will be removed from pandas in a future version. Use pandas.concat instead.\n",
            "  data2 = data2.append(pd.Series(row, index=data2.columns[:len(row)]), ignore_index=True)\n"
          ]
        },
        {
          "output_type": "stream",
          "name": "stdout",
          "text": [
            "https://mb.com.ph/2023/4/26/owwa-dole-urged-to-provide-alternative-livelihood-programs-for-displaced-sudan-of-ws-1\n"
          ]
        },
        {
          "output_type": "stream",
          "name": "stderr",
          "text": [
            "<ipython-input-40-4a1cb05fa26f>:33: FutureWarning: The frame.append method is deprecated and will be removed from pandas in a future version. Use pandas.concat instead.\n",
            "  data2 = data2.append(pd.Series(row, index=data2.columns[:len(row)]), ignore_index=True)\n"
          ]
        },
        {
          "output_type": "stream",
          "name": "stdout",
          "text": [
            "https://mb.com.ph/2023/4/26/in-kalap-meeting-pbbm-hears-recommendations-from-private-agribusinesses\n"
          ]
        },
        {
          "output_type": "stream",
          "name": "stderr",
          "text": [
            "<ipython-input-40-4a1cb05fa26f>:33: FutureWarning: The frame.append method is deprecated and will be removed from pandas in a future version. Use pandas.concat instead.\n",
            "  data2 = data2.append(pd.Series(row, index=data2.columns[:len(row)]), ignore_index=True)\n"
          ]
        },
        {
          "output_type": "stream",
          "name": "stdout",
          "text": [
            "https://mb.com.ph/2023/4/26/filipino-diplomats-heading-to-evacuate-filipinos-in-sudan-figure-in-car-accident\n"
          ]
        },
        {
          "output_type": "stream",
          "name": "stderr",
          "text": [
            "<ipython-input-40-4a1cb05fa26f>:33: FutureWarning: The frame.append method is deprecated and will be removed from pandas in a future version. Use pandas.concat instead.\n",
            "  data2 = data2.append(pd.Series(row, index=data2.columns[:len(row)]), ignore_index=True)\n"
          ]
        },
        {
          "output_type": "stream",
          "name": "stdout",
          "text": [
            "https://mb.com.ph/2023/4/26/nfa-rice-buffer-stocks-should-only-be-available-in-selected-areas-hontiveros\n"
          ]
        },
        {
          "output_type": "stream",
          "name": "stderr",
          "text": [
            "<ipython-input-40-4a1cb05fa26f>:33: FutureWarning: The frame.append method is deprecated and will be removed from pandas in a future version. Use pandas.concat instead.\n",
            "  data2 = data2.append(pd.Series(row, index=data2.columns[:len(row)]), ignore_index=True)\n"
          ]
        },
        {
          "output_type": "stream",
          "name": "stdout",
          "text": [
            "https://mb.com.ph/2023/4/26/clean-the-house-revilla-urges-new-pnp-chief-acorda\n"
          ]
        },
        {
          "output_type": "stream",
          "name": "stderr",
          "text": [
            "<ipython-input-40-4a1cb05fa26f>:33: FutureWarning: The frame.append method is deprecated and will be removed from pandas in a future version. Use pandas.concat instead.\n",
            "  data2 = data2.append(pd.Series(row, index=data2.columns[:len(row)]), ignore_index=True)\n"
          ]
        },
        {
          "output_type": "stream",
          "name": "stdout",
          "text": [
            "https://mb.com.ph/2023/4/26/dswd-to-open-aics-satellite-offices-in-caloocan-paranaque\n"
          ]
        },
        {
          "output_type": "stream",
          "name": "stderr",
          "text": [
            "<ipython-input-40-4a1cb05fa26f>:33: FutureWarning: The frame.append method is deprecated and will be removed from pandas in a future version. Use pandas.concat instead.\n",
            "  data2 = data2.append(pd.Series(row, index=data2.columns[:len(row)]), ignore_index=True)\n"
          ]
        },
        {
          "output_type": "stream",
          "name": "stdout",
          "text": [
            "https://mb.com.ph/2023/4/26/ph-scrambles-to-evacuate-filipinos-in-sudan-ambassador-unharmed-after-car-accident\n"
          ]
        },
        {
          "output_type": "stream",
          "name": "stderr",
          "text": [
            "<ipython-input-40-4a1cb05fa26f>:33: FutureWarning: The frame.append method is deprecated and will be removed from pandas in a future version. Use pandas.concat instead.\n",
            "  data2 = data2.append(pd.Series(row, index=data2.columns[:len(row)]), ignore_index=True)\n"
          ]
        },
        {
          "output_type": "stream",
          "name": "stdout",
          "text": [
            "https://mb.com.ph/2023/4/26/court-fight-between-villar-bf-homeowners-association-may-go-into-its-second-round\n"
          ]
        },
        {
          "output_type": "stream",
          "name": "stderr",
          "text": [
            "<ipython-input-40-4a1cb05fa26f>:33: FutureWarning: The frame.append method is deprecated and will be removed from pandas in a future version. Use pandas.concat instead.\n",
            "  data2 = data2.append(pd.Series(row, index=data2.columns[:len(row)]), ignore_index=True)\n"
          ]
        },
        {
          "output_type": "stream",
          "name": "stdout",
          "text": [
            "https://mb.com.ph/2023/4/26/sc-asked-to-review-dismissal-of-charges-vs-2-dentists-for-denying-dental-service-to-hiv-afflicted-patient\n"
          ]
        },
        {
          "output_type": "stream",
          "name": "stderr",
          "text": [
            "<ipython-input-40-4a1cb05fa26f>:33: FutureWarning: The frame.append method is deprecated and will be removed from pandas in a future version. Use pandas.concat instead.\n",
            "  data2 = data2.append(pd.Series(row, index=data2.columns[:len(row)]), ignore_index=True)\n"
          ]
        },
        {
          "output_type": "stream",
          "name": "stdout",
          "text": [
            "https://mb.com.ph/2023/4/26/solons-slam-pnp-official-s-claim-that-mayo-could-escape-charges-due-to-house-probe\n"
          ]
        },
        {
          "output_type": "stream",
          "name": "stderr",
          "text": [
            "<ipython-input-40-4a1cb05fa26f>:33: FutureWarning: The frame.append method is deprecated and will be removed from pandas in a future version. Use pandas.concat instead.\n",
            "  data2 = data2.append(pd.Series(row, index=data2.columns[:len(row)]), ignore_index=True)\n"
          ]
        },
        {
          "output_type": "stream",
          "name": "stdout",
          "text": [
            "https://mb.com.ph/2023/4/26/36-pnp-senior-officers-to-undergo-further-evaluation-on-drug-links-917-others-cleared\n"
          ]
        },
        {
          "output_type": "stream",
          "name": "stderr",
          "text": [
            "<ipython-input-40-4a1cb05fa26f>:33: FutureWarning: The frame.append method is deprecated and will be removed from pandas in a future version. Use pandas.concat instead.\n",
            "  data2 = data2.append(pd.Series(row, index=data2.columns[:len(row)]), ignore_index=True)\n"
          ]
        },
        {
          "output_type": "stream",
          "name": "stdout",
          "text": [
            "https://mb.com.ph/2023/4/26/doh-no-return-of-mandatory-face-mask-policy-in-metro-manila\n"
          ]
        },
        {
          "output_type": "stream",
          "name": "stderr",
          "text": [
            "<ipython-input-40-4a1cb05fa26f>:33: FutureWarning: The frame.append method is deprecated and will be removed from pandas in a future version. Use pandas.concat instead.\n",
            "  data2 = data2.append(pd.Series(row, index=data2.columns[:len(row)]), ignore_index=True)\n"
          ]
        },
        {
          "output_type": "stream",
          "name": "stdout",
          "text": [
            "https://mb.com.ph/2023/4/26/what-will-the-weather-do-ph-multi-hazard-impact-forecasting-early-warning-system-unveiled\n"
          ]
        },
        {
          "output_type": "stream",
          "name": "stderr",
          "text": [
            "<ipython-input-40-4a1cb05fa26f>:33: FutureWarning: The frame.append method is deprecated and will be removed from pandas in a future version. Use pandas.concat instead.\n",
            "  data2 = data2.append(pd.Series(row, index=data2.columns[:len(row)]), ignore_index=True)\n"
          ]
        },
        {
          "output_type": "stream",
          "name": "stdout",
          "text": [
            "https://mb.com.ph/2023/4/26/balikatan-main-event-what-happened-during-the-ph-us-littoral-live-fire-exercise\n"
          ]
        },
        {
          "output_type": "stream",
          "name": "stderr",
          "text": [
            "<ipython-input-40-4a1cb05fa26f>:33: FutureWarning: The frame.append method is deprecated and will be removed from pandas in a future version. Use pandas.concat instead.\n",
            "  data2 = data2.append(pd.Series(row, index=data2.columns[:len(row)]), ignore_index=True)\n"
          ]
        },
        {
          "output_type": "stream",
          "name": "stdout",
          "text": [
            "https://mb.com.ph/2023/4/26/bfp-cites-sm-prime-holdings-fire-safety-awareness-support\n"
          ]
        },
        {
          "output_type": "stream",
          "name": "stderr",
          "text": [
            "<ipython-input-40-4a1cb05fa26f>:33: FutureWarning: The frame.append method is deprecated and will be removed from pandas in a future version. Use pandas.concat instead.\n",
            "  data2 = data2.append(pd.Series(row, index=data2.columns[:len(row)]), ignore_index=True)\n"
          ]
        },
        {
          "output_type": "stream",
          "name": "stdout",
          "text": [
            "https://mb.com.ph/2023/4/26/prepare-contingency-plans-during-el-nino-abalos-urges-lg-us\n"
          ]
        },
        {
          "output_type": "stream",
          "name": "stderr",
          "text": [
            "<ipython-input-40-4a1cb05fa26f>:33: FutureWarning: The frame.append method is deprecated and will be removed from pandas in a future version. Use pandas.concat instead.\n",
            "  data2 = data2.append(pd.Series(row, index=data2.columns[:len(row)]), ignore_index=True)\n"
          ]
        },
        {
          "output_type": "stream",
          "name": "stdout",
          "text": [
            "https://mb.com.ph/2023/4/26/bir-forms-task-force-vs-traders-using-fake-receipts-invoices\n"
          ]
        },
        {
          "output_type": "stream",
          "name": "stderr",
          "text": [
            "<ipython-input-40-4a1cb05fa26f>:33: FutureWarning: The frame.append method is deprecated and will be removed from pandas in a future version. Use pandas.concat instead.\n",
            "  data2 = data2.append(pd.Series(row, index=data2.columns[:len(row)]), ignore_index=True)\n"
          ]
        },
        {
          "output_type": "stream",
          "name": "stdout",
          "text": [
            "https://mb.com.ph/2023/4/26/viado-joins-bi-as-deputy-commissioner-1\n"
          ]
        },
        {
          "output_type": "stream",
          "name": "stderr",
          "text": [
            "<ipython-input-40-4a1cb05fa26f>:33: FutureWarning: The frame.append method is deprecated and will be removed from pandas in a future version. Use pandas.concat instead.\n",
            "  data2 = data2.append(pd.Series(row, index=data2.columns[:len(row)]), ignore_index=True)\n"
          ]
        },
        {
          "output_type": "stream",
          "name": "stdout",
          "text": [
            "https://mb.com.ph/2023/4/26/risk-assessment-for-covid-19-subvariant-arcturus-remains-low-doh\n"
          ]
        },
        {
          "output_type": "stream",
          "name": "stderr",
          "text": [
            "<ipython-input-40-4a1cb05fa26f>:33: FutureWarning: The frame.append method is deprecated and will be removed from pandas in a future version. Use pandas.concat instead.\n",
            "  data2 = data2.append(pd.Series(row, index=data2.columns[:len(row)]), ignore_index=True)\n"
          ]
        },
        {
          "output_type": "stream",
          "name": "stdout",
          "text": [
            "https://mb.com.ph/2023/4/26/ecuador-envoy-meets-pbbm-here-s-what-happened\n"
          ]
        },
        {
          "output_type": "stream",
          "name": "stderr",
          "text": [
            "<ipython-input-40-4a1cb05fa26f>:33: FutureWarning: The frame.append method is deprecated and will be removed from pandas in a future version. Use pandas.concat instead.\n",
            "  data2 = data2.append(pd.Series(row, index=data2.columns[:len(row)]), ignore_index=True)\n"
          ]
        },
        {
          "output_type": "stream",
          "name": "stdout",
          "text": [
            "https://mb.com.ph/2023/4/26/palacio-del-gobernador-employees-gsis-members-coa\n"
          ]
        },
        {
          "output_type": "stream",
          "name": "stderr",
          "text": [
            "<ipython-input-40-4a1cb05fa26f>:33: FutureWarning: The frame.append method is deprecated and will be removed from pandas in a future version. Use pandas.concat instead.\n",
            "  data2 = data2.append(pd.Series(row, index=data2.columns[:len(row)]), ignore_index=True)\n"
          ]
        },
        {
          "output_type": "stream",
          "name": "stdout",
          "text": [
            "https://mb.com.ph/2023/4/26/church-assures-filipino-repatriates-from-sudan-of-support\n"
          ]
        },
        {
          "output_type": "stream",
          "name": "stderr",
          "text": [
            "<ipython-input-40-4a1cb05fa26f>:33: FutureWarning: The frame.append method is deprecated and will be removed from pandas in a future version. Use pandas.concat instead.\n",
            "  data2 = data2.append(pd.Series(row, index=data2.columns[:len(row)]), ignore_index=True)\n"
          ]
        },
        {
          "output_type": "stream",
          "name": "stdout",
          "text": [
            "https://mb.com.ph/2023/4/26/ranking-solon-warns-pinoys-vs-complacency-amid-extension-of-sim-registration-window\n"
          ]
        },
        {
          "output_type": "stream",
          "name": "stderr",
          "text": [
            "<ipython-input-40-4a1cb05fa26f>:33: FutureWarning: The frame.append method is deprecated and will be removed from pandas in a future version. Use pandas.concat instead.\n",
            "  data2 = data2.append(pd.Series(row, index=data2.columns[:len(row)]), ignore_index=True)\n"
          ]
        },
        {
          "output_type": "stream",
          "name": "stdout",
          "text": [
            "https://mb.com.ph/2023/4/26/blended-learning-implemented-by-some-schools-amid-extreme-heat-dep-ed\n"
          ]
        },
        {
          "output_type": "stream",
          "name": "stderr",
          "text": [
            "<ipython-input-40-4a1cb05fa26f>:33: FutureWarning: The frame.append method is deprecated and will be removed from pandas in a future version. Use pandas.concat instead.\n",
            "  data2 = data2.append(pd.Series(row, index=data2.columns[:len(row)]), ignore_index=True)\n"
          ]
        },
        {
          "output_type": "stream",
          "name": "stdout",
          "text": [
            "https://mb.com.ph/2023/4/26/human-rights-lawyers-fear-for-their-safety\n"
          ]
        },
        {
          "output_type": "stream",
          "name": "stderr",
          "text": [
            "<ipython-input-40-4a1cb05fa26f>:33: FutureWarning: The frame.append method is deprecated and will be removed from pandas in a future version. Use pandas.concat instead.\n",
            "  data2 = data2.append(pd.Series(row, index=data2.columns[:len(row)]), ignore_index=True)\n"
          ]
        },
        {
          "output_type": "stream",
          "name": "stdout",
          "text": [
            "https://mb.com.ph/2023/4/26/marcos-witnesses-ph-us-joint-live-fire-exercise\n"
          ]
        },
        {
          "output_type": "stream",
          "name": "stderr",
          "text": [
            "<ipython-input-40-4a1cb05fa26f>:33: FutureWarning: The frame.append method is deprecated and will be removed from pandas in a future version. Use pandas.concat instead.\n",
            "  data2 = data2.append(pd.Series(row, index=data2.columns[:len(row)]), ignore_index=True)\n"
          ]
        },
        {
          "output_type": "stream",
          "name": "stdout",
          "text": [
            "https://mb.com.ph/2023/4/26/ph-ports-move-up-in-world-bank-s-logistics-index-global-ranking\n"
          ]
        },
        {
          "output_type": "stream",
          "name": "stderr",
          "text": [
            "<ipython-input-40-4a1cb05fa26f>:33: FutureWarning: The frame.append method is deprecated and will be removed from pandas in a future version. Use pandas.concat instead.\n",
            "  data2 = data2.append(pd.Series(row, index=data2.columns[:len(row)]), ignore_index=True)\n"
          ]
        },
        {
          "output_type": "stream",
          "name": "stdout",
          "text": [
            "https://mb.com.ph/2023/4/26/acorda-attends-house-probe-on-manila-drug-bust-says-he-won-t-tolerate-erring-cops\n"
          ]
        },
        {
          "output_type": "stream",
          "name": "stderr",
          "text": [
            "<ipython-input-40-4a1cb05fa26f>:33: FutureWarning: The frame.append method is deprecated and will be removed from pandas in a future version. Use pandas.concat instead.\n",
            "  data2 = data2.append(pd.Series(row, index=data2.columns[:len(row)]), ignore_index=True)\n"
          ]
        },
        {
          "output_type": "stream",
          "name": "stdout",
          "text": [
            "https://mb.com.ph/2023/4/26/conditions-are-right-for-marcos-biden-meeting-says-speaker-romualdez\n"
          ]
        },
        {
          "output_type": "stream",
          "name": "stderr",
          "text": [
            "<ipython-input-40-4a1cb05fa26f>:33: FutureWarning: The frame.append method is deprecated and will be removed from pandas in a future version. Use pandas.concat instead.\n",
            "  data2 = data2.append(pd.Series(row, index=data2.columns[:len(row)]), ignore_index=True)\n"
          ]
        },
        {
          "output_type": "stream",
          "name": "stdout",
          "text": [
            "https://mb.com.ph/2023/4/26/bong-go-to-subscribers-consider-the-benefits-of-sim-registration\n"
          ]
        },
        {
          "output_type": "stream",
          "name": "stderr",
          "text": [
            "<ipython-input-40-4a1cb05fa26f>:33: FutureWarning: The frame.append method is deprecated and will be removed from pandas in a future version. Use pandas.concat instead.\n",
            "  data2 = data2.append(pd.Series(row, index=data2.columns[:len(row)]), ignore_index=True)\n"
          ]
        },
        {
          "output_type": "stream",
          "name": "stdout",
          "text": [
            "https://mb.com.ph/2023/4/26/croatian-envoy-visits-ex-president-arroyo-here-s-what-happened\n"
          ]
        },
        {
          "output_type": "stream",
          "name": "stderr",
          "text": [
            "<ipython-input-40-4a1cb05fa26f>:33: FutureWarning: The frame.append method is deprecated and will be removed from pandas in a future version. Use pandas.concat instead.\n",
            "  data2 = data2.append(pd.Series(row, index=data2.columns[:len(row)]), ignore_index=True)\n"
          ]
        },
        {
          "output_type": "stream",
          "name": "stdout",
          "text": [
            "https://mb.com.ph/2023/4/25/no-jackpot-winners-for-pcso-major-lotto-games-in-april-25-draw\n"
          ]
        },
        {
          "output_type": "stream",
          "name": "stderr",
          "text": [
            "<ipython-input-40-4a1cb05fa26f>:33: FutureWarning: The frame.append method is deprecated and will be removed from pandas in a future version. Use pandas.concat instead.\n",
            "  data2 = data2.append(pd.Series(row, index=data2.columns[:len(row)]), ignore_index=True)\n"
          ]
        },
        {
          "output_type": "stream",
          "name": "stdout",
          "text": [
            "https://mb.com.ph/2023/4/25/vp-duterte-highlights-value-of-sports-in-filipino-youth\n"
          ]
        },
        {
          "output_type": "stream",
          "name": "stderr",
          "text": [
            "<ipython-input-40-4a1cb05fa26f>:33: FutureWarning: The frame.append method is deprecated and will be removed from pandas in a future version. Use pandas.concat instead.\n",
            "  data2 = data2.append(pd.Series(row, index=data2.columns[:len(row)]), ignore_index=True)\n"
          ]
        },
        {
          "output_type": "stream",
          "name": "stdout",
          "text": [
            "https://mb.com.ph/2023/4/25/pope-francis-appoints-new-zamboanga-archbishop\n"
          ]
        },
        {
          "output_type": "stream",
          "name": "stderr",
          "text": [
            "<ipython-input-40-4a1cb05fa26f>:33: FutureWarning: The frame.append method is deprecated and will be removed from pandas in a future version. Use pandas.concat instead.\n",
            "  data2 = data2.append(pd.Series(row, index=data2.columns[:len(row)]), ignore_index=True)\n"
          ]
        },
        {
          "output_type": "stream",
          "name": "stdout",
          "text": [
            "https://mb.com.ph/2023/4/25/baguio-solon-shares-key-update-on-kennon-road-rehab\n"
          ]
        },
        {
          "output_type": "stream",
          "name": "stderr",
          "text": [
            "<ipython-input-40-4a1cb05fa26f>:33: FutureWarning: The frame.append method is deprecated and will be removed from pandas in a future version. Use pandas.concat instead.\n",
            "  data2 = data2.append(pd.Series(row, index=data2.columns[:len(row)]), ignore_index=True)\n"
          ]
        },
        {
          "output_type": "stream",
          "name": "stdout",
          "text": [
            "https://mb.com.ph/2023/4/25/dhsud-lg-us-to-construct-housing-for-around-48-000-families-in-mindanao\n"
          ]
        },
        {
          "output_type": "stream",
          "name": "stderr",
          "text": [
            "<ipython-input-40-4a1cb05fa26f>:33: FutureWarning: The frame.append method is deprecated and will be removed from pandas in a future version. Use pandas.concat instead.\n",
            "  data2 = data2.append(pd.Series(row, index=data2.columns[:len(row)]), ignore_index=True)\n"
          ]
        },
        {
          "output_type": "stream",
          "name": "stdout",
          "text": [
            "https://mb.com.ph/2023/4/25/doh-ph-s-risk-classification-for-covid-19-still-at-low-risk\n"
          ]
        },
        {
          "output_type": "stream",
          "name": "stderr",
          "text": [
            "<ipython-input-40-4a1cb05fa26f>:33: FutureWarning: The frame.append method is deprecated and will be removed from pandas in a future version. Use pandas.concat instead.\n",
            "  data2 = data2.append(pd.Series(row, index=data2.columns[:len(row)]), ignore_index=True)\n"
          ]
        },
        {
          "output_type": "stream",
          "name": "stdout",
          "text": [
            "https://mb.com.ph/2023/4/25/dswd-ensures-assistance-to-farmers-farmworkers-to-be-affected-by-el-nino\n"
          ]
        },
        {
          "output_type": "stream",
          "name": "stderr",
          "text": [
            "<ipython-input-40-4a1cb05fa26f>:33: FutureWarning: The frame.append method is deprecated and will be removed from pandas in a future version. Use pandas.concat instead.\n",
            "  data2 = data2.append(pd.Series(row, index=data2.columns[:len(row)]), ignore_index=True)\n"
          ]
        },
        {
          "output_type": "stream",
          "name": "stdout",
          "text": [
            "https://mb.com.ph/2023/4/25/nograles-tells-new-doctors-you-must-be-accountable-to-the-people\n"
          ]
        },
        {
          "output_type": "stream",
          "name": "stderr",
          "text": [
            "<ipython-input-40-4a1cb05fa26f>:33: FutureWarning: The frame.append method is deprecated and will be removed from pandas in a future version. Use pandas.concat instead.\n",
            "  data2 = data2.append(pd.Series(row, index=data2.columns[:len(row)]), ignore_index=True)\n"
          ]
        },
        {
          "output_type": "stream",
          "name": "stdout",
          "text": [
            "https://mb.com.ph/2023/4/25/no-facebook-no-tik-tok-dict-explores-harsh-consequences-for-unregistered-sim-card-users-within-90-day-extension\n"
          ]
        },
        {
          "output_type": "stream",
          "name": "stderr",
          "text": [
            "<ipython-input-40-4a1cb05fa26f>:33: FutureWarning: The frame.append method is deprecated and will be removed from pandas in a future version. Use pandas.concat instead.\n",
            "  data2 = data2.append(pd.Series(row, index=data2.columns[:len(row)]), ignore_index=True)\n"
          ]
        },
        {
          "output_type": "stream",
          "name": "stdout",
          "text": [
            "https://mb.com.ph/2023/4/25/vp-duterte-s-advice-to-learners-don-t-heckle-your-classmates-who-can-t-read-teach-them\n"
          ]
        },
        {
          "output_type": "stream",
          "name": "stderr",
          "text": [
            "<ipython-input-40-4a1cb05fa26f>:33: FutureWarning: The frame.append method is deprecated and will be removed from pandas in a future version. Use pandas.concat instead.\n",
            "  data2 = data2.append(pd.Series(row, index=data2.columns[:len(row)]), ignore_index=True)\n"
          ]
        },
        {
          "output_type": "stream",
          "name": "stdout",
          "text": [
            "https://mb.com.ph/2023/4/25/matigas-ang-ulo-dict-chief-laments-pinoy-bad-habit-as-sim-registration-extended\n"
          ]
        },
        {
          "output_type": "stream",
          "name": "stderr",
          "text": [
            "<ipython-input-40-4a1cb05fa26f>:33: FutureWarning: The frame.append method is deprecated and will be removed from pandas in a future version. Use pandas.concat instead.\n",
            "  data2 = data2.append(pd.Series(row, index=data2.columns[:len(row)]), ignore_index=True)\n"
          ]
        },
        {
          "output_type": "stream",
          "name": "stdout",
          "text": [
            "https://mb.com.ph/2023/4/25/pisay-s-nce-returns-applications-open-on-july-3\n"
          ]
        },
        {
          "output_type": "stream",
          "name": "stderr",
          "text": [
            "<ipython-input-40-4a1cb05fa26f>:33: FutureWarning: The frame.append method is deprecated and will be removed from pandas in a future version. Use pandas.concat instead.\n",
            "  data2 = data2.append(pd.Series(row, index=data2.columns[:len(row)]), ignore_index=True)\n"
          ]
        },
        {
          "output_type": "stream",
          "name": "stdout",
          "text": [
            "https://mb.com.ph/2023/4/25/phil-sa-argentinian-space-agency-sign-agreement-on-75th-year-of-diplomatic-ties\n"
          ]
        },
        {
          "output_type": "stream",
          "name": "stderr",
          "text": [
            "<ipython-input-40-4a1cb05fa26f>:33: FutureWarning: The frame.append method is deprecated and will be removed from pandas in a future version. Use pandas.concat instead.\n",
            "  data2 = data2.append(pd.Series(row, index=data2.columns[:len(row)]), ignore_index=True)\n"
          ]
        },
        {
          "output_type": "stream",
          "name": "stdout",
          "text": [
            "https://mb.com.ph/2023/4/25/20-m-unregistered-sim-cards-low-turn-out-in-islands-prompt-pbbm-to-extend-registration\n"
          ]
        },
        {
          "output_type": "stream",
          "name": "stderr",
          "text": [
            "<ipython-input-40-4a1cb05fa26f>:33: FutureWarning: The frame.append method is deprecated and will be removed from pandas in a future version. Use pandas.concat instead.\n",
            "  data2 = data2.append(pd.Series(row, index=data2.columns[:len(row)]), ignore_index=True)\n"
          ]
        },
        {
          "output_type": "stream",
          "name": "stdout",
          "text": [
            "https://mb.com.ph/2023/4/25/unicef-over-1-million-filipino-kids-missed-out-routine-immunization-in-2021\n"
          ]
        },
        {
          "output_type": "stream",
          "name": "stderr",
          "text": [
            "<ipython-input-40-4a1cb05fa26f>:33: FutureWarning: The frame.append method is deprecated and will be removed from pandas in a future version. Use pandas.concat instead.\n",
            "  data2 = data2.append(pd.Series(row, index=data2.columns[:len(row)]), ignore_index=True)\n"
          ]
        },
        {
          "output_type": "stream",
          "name": "stdout",
          "text": [
            "https://mb.com.ph/2023/4/25/house-panel-invites-these-pnp-members-to-join-probe-on-tondo-drug-bust\n"
          ]
        },
        {
          "output_type": "stream",
          "name": "stderr",
          "text": [
            "<ipython-input-40-4a1cb05fa26f>:33: FutureWarning: The frame.append method is deprecated and will be removed from pandas in a future version. Use pandas.concat instead.\n",
            "  data2 = data2.append(pd.Series(row, index=data2.columns[:len(row)]), ignore_index=True)\n"
          ]
        },
        {
          "output_type": "stream",
          "name": "stdout",
          "text": [
            "https://mb.com.ph/2023/4/25/bi-nabs-japanese-wanted-for-theft\n"
          ]
        },
        {
          "output_type": "stream",
          "name": "stderr",
          "text": [
            "<ipython-input-40-4a1cb05fa26f>:33: FutureWarning: The frame.append method is deprecated and will be removed from pandas in a future version. Use pandas.concat instead.\n",
            "  data2 = data2.append(pd.Series(row, index=data2.columns[:len(row)]), ignore_index=True)\n"
          ]
        },
        {
          "output_type": "stream",
          "name": "stdout",
          "text": [
            "https://mb.com.ph/2023/4/25/ople-leaves-for-egypt-as-repatriation-in-sudan-starts-assures-affected-of-ws-of-assistance\n"
          ]
        },
        {
          "output_type": "stream",
          "name": "stderr",
          "text": [
            "<ipython-input-40-4a1cb05fa26f>:33: FutureWarning: The frame.append method is deprecated and will be removed from pandas in a future version. Use pandas.concat instead.\n",
            "  data2 = data2.append(pd.Series(row, index=data2.columns[:len(row)]), ignore_index=True)\n"
          ]
        },
        {
          "output_type": "stream",
          "name": "stdout",
          "text": [
            "https://mb.com.ph/2023/4/25/estrada-telcos-should-make-sim-registration-user-friendly-fuss-free\n"
          ]
        },
        {
          "output_type": "stream",
          "name": "stderr",
          "text": [
            "<ipython-input-40-4a1cb05fa26f>:33: FutureWarning: The frame.append method is deprecated and will be removed from pandas in a future version. Use pandas.concat instead.\n",
            "  data2 = data2.append(pd.Series(row, index=data2.columns[:len(row)]), ignore_index=True)\n"
          ]
        },
        {
          "output_type": "stream",
          "name": "stdout",
          "text": [
            "https://mb.com.ph/2023/4/25/da-to-comply-with-sc-s-order-vs-propagation-of-genetically-modified-rice-eggplant\n"
          ]
        },
        {
          "output_type": "stream",
          "name": "stderr",
          "text": [
            "<ipython-input-40-4a1cb05fa26f>:33: FutureWarning: The frame.append method is deprecated and will be removed from pandas in a future version. Use pandas.concat instead.\n",
            "  data2 = data2.append(pd.Series(row, index=data2.columns[:len(row)]), ignore_index=True)\n"
          ]
        },
        {
          "output_type": "stream",
          "name": "stdout",
          "text": [
            "https://mb.com.ph/2023/4/25/ph-starts-evacuation-of-filipinos-in-sudan\n"
          ]
        },
        {
          "output_type": "stream",
          "name": "stderr",
          "text": [
            "<ipython-input-40-4a1cb05fa26f>:33: FutureWarning: The frame.append method is deprecated and will be removed from pandas in a future version. Use pandas.concat instead.\n",
            "  data2 = data2.append(pd.Series(row, index=data2.columns[:len(row)]), ignore_index=True)\n"
          ]
        },
        {
          "output_type": "stream",
          "name": "stdout",
          "text": [
            "https://mb.com.ph/2023/4/25/mb-daily-news-summary-35\n"
          ]
        },
        {
          "output_type": "stream",
          "name": "stderr",
          "text": [
            "<ipython-input-40-4a1cb05fa26f>:33: FutureWarning: The frame.append method is deprecated and will be removed from pandas in a future version. Use pandas.concat instead.\n",
            "  data2 = data2.append(pd.Series(row, index=data2.columns[:len(row)]), ignore_index=True)\n"
          ]
        },
        {
          "output_type": "stream",
          "name": "stdout",
          "text": [
            "https://mb.com.ph/2023/4/25/expect-surge-in-text-scams-following-extension-of-sim-registration-dict\n"
          ]
        },
        {
          "output_type": "stream",
          "name": "stderr",
          "text": [
            "<ipython-input-40-4a1cb05fa26f>:33: FutureWarning: The frame.append method is deprecated and will be removed from pandas in a future version. Use pandas.concat instead.\n",
            "  data2 = data2.append(pd.Series(row, index=data2.columns[:len(row)]), ignore_index=True)\n"
          ]
        },
        {
          "output_type": "stream",
          "name": "stdout",
          "text": [
            "https://mb.com.ph/2023/4/25/insurance-firm-commits-to-retrieve-remaining-oil-inside-sunken-mt-princess-empress-doj\n"
          ]
        },
        {
          "output_type": "stream",
          "name": "stderr",
          "text": [
            "<ipython-input-40-4a1cb05fa26f>:33: FutureWarning: The frame.append method is deprecated and will be removed from pandas in a future version. Use pandas.concat instead.\n",
            "  data2 = data2.append(pd.Series(row, index=data2.columns[:len(row)]), ignore_index=True)\n"
          ]
        },
        {
          "output_type": "stream",
          "name": "stdout",
          "text": [
            "https://mb.com.ph/2023/4/25/dict-anticipates-achieving-100-m-sim-registrants-during-90-day-extension\n"
          ]
        },
        {
          "output_type": "stream",
          "name": "stderr",
          "text": [
            "<ipython-input-40-4a1cb05fa26f>:33: FutureWarning: The frame.append method is deprecated and will be removed from pandas in a future version. Use pandas.concat instead.\n",
            "  data2 = data2.append(pd.Series(row, index=data2.columns[:len(row)]), ignore_index=True)\n"
          ]
        },
        {
          "output_type": "stream",
          "name": "stdout",
          "text": [
            "https://mb.com.ph/2023/4/25/sc-denies-plea-to-stop-sim-registration\n"
          ]
        },
        {
          "output_type": "stream",
          "name": "stderr",
          "text": [
            "<ipython-input-40-4a1cb05fa26f>:33: FutureWarning: The frame.append method is deprecated and will be removed from pandas in a future version. Use pandas.concat instead.\n",
            "  data2 = data2.append(pd.Series(row, index=data2.columns[:len(row)]), ignore_index=True)\n"
          ]
        },
        {
          "output_type": "stream",
          "name": "stdout",
          "text": [
            "https://mb.com.ph/2023/4/25/gov-t-task-force-brings-37-4-k-former-rebels-violent-extremists-back-to-society\n"
          ]
        },
        {
          "output_type": "stream",
          "name": "stderr",
          "text": [
            "<ipython-input-40-4a1cb05fa26f>:33: FutureWarning: The frame.append method is deprecated and will be removed from pandas in a future version. Use pandas.concat instead.\n",
            "  data2 = data2.append(pd.Series(row, index=data2.columns[:len(row)]), ignore_index=True)\n"
          ]
        },
        {
          "output_type": "stream",
          "name": "stdout",
          "text": [
            "https://mb.com.ph/2023/4/25/marcos-ph-gov-t-to-attempt-to-bring-pinoys-out-of-sudan-amid-72-hour-ceasefire\n"
          ]
        },
        {
          "output_type": "stream",
          "name": "stderr",
          "text": [
            "<ipython-input-40-4a1cb05fa26f>:33: FutureWarning: The frame.append method is deprecated and will be removed from pandas in a future version. Use pandas.concat instead.\n",
            "  data2 = data2.append(pd.Series(row, index=data2.columns[:len(row)]), ignore_index=True)\n"
          ]
        },
        {
          "output_type": "stream",
          "name": "stdout",
          "text": [
            "https://mb.com.ph/2023/4/25/house-leader-welcomes-sim-card-registration-period-extension\n"
          ]
        },
        {
          "output_type": "stream",
          "name": "stderr",
          "text": [
            "<ipython-input-40-4a1cb05fa26f>:33: FutureWarning: The frame.append method is deprecated and will be removed from pandas in a future version. Use pandas.concat instead.\n",
            "  data2 = data2.append(pd.Series(row, index=data2.columns[:len(row)]), ignore_index=True)\n"
          ]
        },
        {
          "output_type": "stream",
          "name": "stdout",
          "text": [
            "https://mb.com.ph/2023/4/25/balikatan-main-event-ph-us-militaries-to-sink-mock-vessel-in-zambales-1\n"
          ]
        },
        {
          "output_type": "stream",
          "name": "stderr",
          "text": [
            "<ipython-input-40-4a1cb05fa26f>:33: FutureWarning: The frame.append method is deprecated and will be removed from pandas in a future version. Use pandas.concat instead.\n",
            "  data2 = data2.append(pd.Series(row, index=data2.columns[:len(row)]), ignore_index=True)\n"
          ]
        },
        {
          "output_type": "stream",
          "name": "stdout",
          "text": [
            "https://mb.com.ph/2023/4/25/bill-extending-estate-tax-amnesty-period-hurdles-house-panel\n"
          ]
        },
        {
          "output_type": "stream",
          "name": "stderr",
          "text": [
            "<ipython-input-40-4a1cb05fa26f>:33: FutureWarning: The frame.append method is deprecated and will be removed from pandas in a future version. Use pandas.concat instead.\n",
            "  data2 = data2.append(pd.Series(row, index=data2.columns[:len(row)]), ignore_index=True)\n"
          ]
        },
        {
          "output_type": "stream",
          "name": "stdout",
          "text": [
            "https://mb.com.ph/2023/4/25/lawyer-claims-2-degamo-employees-participated-in-plan-to-kill-negros-oriental-governor\n"
          ]
        },
        {
          "output_type": "stream",
          "name": "stderr",
          "text": [
            "<ipython-input-40-4a1cb05fa26f>:33: FutureWarning: The frame.append method is deprecated and will be removed from pandas in a future version. Use pandas.concat instead.\n",
            "  data2 = data2.append(pd.Series(row, index=data2.columns[:len(row)]), ignore_index=True)\n"
          ]
        },
        {
          "output_type": "stream",
          "name": "stdout",
          "text": [
            "https://mb.com.ph/2023/4/25/alibaba-lazada-express-excitement-over-ph-market-during-arroyo-s-china-visit\n"
          ]
        },
        {
          "output_type": "stream",
          "name": "stderr",
          "text": [
            "<ipython-input-40-4a1cb05fa26f>:33: FutureWarning: The frame.append method is deprecated and will be removed from pandas in a future version. Use pandas.concat instead.\n",
            "  data2 = data2.append(pd.Series(row, index=data2.columns[:len(row)]), ignore_index=True)\n"
          ]
        },
        {
          "output_type": "stream",
          "name": "stdout",
          "text": [
            "https://mb.com.ph/2023/4/25/tolentino-to-gov-t-move-fast-in-evacuating-filipinos-from-conflict-ridden-sudan\n"
          ]
        },
        {
          "output_type": "stream",
          "name": "stderr",
          "text": [
            "<ipython-input-40-4a1cb05fa26f>:33: FutureWarning: The frame.append method is deprecated and will be removed from pandas in a future version. Use pandas.concat instead.\n",
            "  data2 = data2.append(pd.Series(row, index=data2.columns[:len(row)]), ignore_index=True)\n"
          ]
        },
        {
          "output_type": "stream",
          "name": "stdout",
          "text": [
            "https://mb.com.ph/2023/4/25/pimentel-just-follow-the-sim-registration-timetables\n"
          ]
        },
        {
          "output_type": "stream",
          "name": "stderr",
          "text": [
            "<ipython-input-40-4a1cb05fa26f>:33: FutureWarning: The frame.append method is deprecated and will be removed from pandas in a future version. Use pandas.concat instead.\n",
            "  data2 = data2.append(pd.Series(row, index=data2.columns[:len(row)]), ignore_index=True)\n"
          ]
        },
        {
          "output_type": "stream",
          "name": "stdout",
          "text": [
            "https://mb.com.ph/2023/4/25/marcos-approves-dict-s-proposal-to-extend-sim-registration-period\n"
          ]
        },
        {
          "output_type": "stream",
          "name": "stderr",
          "text": [
            "<ipython-input-40-4a1cb05fa26f>:33: FutureWarning: The frame.append method is deprecated and will be removed from pandas in a future version. Use pandas.concat instead.\n",
            "  data2 = data2.append(pd.Series(row, index=data2.columns[:len(row)]), ignore_index=True)\n"
          ]
        },
        {
          "output_type": "stream",
          "name": "stdout",
          "text": [
            "https://mb.com.ph/2023/4/25/dict-to-target-70-active-sim-registrants-during-90-day-extension\n"
          ]
        },
        {
          "output_type": "stream",
          "name": "stderr",
          "text": [
            "<ipython-input-40-4a1cb05fa26f>:33: FutureWarning: The frame.append method is deprecated and will be removed from pandas in a future version. Use pandas.concat instead.\n",
            "  data2 = data2.append(pd.Series(row, index=data2.columns[:len(row)]), ignore_index=True)\n"
          ]
        },
        {
          "output_type": "stream",
          "name": "stdout",
          "text": [
            "https://mb.com.ph/2023/4/25/hontiveros-pushes-for-true-gender-equality-at-japan-parliamentary-meet\n"
          ]
        },
        {
          "output_type": "stream",
          "name": "stderr",
          "text": [
            "<ipython-input-40-4a1cb05fa26f>:33: FutureWarning: The frame.append method is deprecated and will be removed from pandas in a future version. Use pandas.concat instead.\n",
            "  data2 = data2.append(pd.Series(row, index=data2.columns[:len(row)]), ignore_index=True)\n"
          ]
        },
        {
          "output_type": "stream",
          "name": "stdout",
          "text": [
            "https://mb.com.ph/2023/4/25/acorda-more-funds-strong-support-system-for-cops-on-the-ground\n"
          ]
        },
        {
          "output_type": "stream",
          "name": "stderr",
          "text": [
            "<ipython-input-40-4a1cb05fa26f>:33: FutureWarning: The frame.append method is deprecated and will be removed from pandas in a future version. Use pandas.concat instead.\n",
            "  data2 = data2.append(pd.Series(row, index=data2.columns[:len(row)]), ignore_index=True)\n"
          ]
        },
        {
          "output_type": "stream",
          "name": "stdout",
          "text": [
            "https://mb.com.ph/2023/4/25/coa-points-out-losses-of-dbp-s-leasing-firm-on-foreclosed-heavy-equipment\n"
          ]
        },
        {
          "output_type": "stream",
          "name": "stderr",
          "text": [
            "<ipython-input-40-4a1cb05fa26f>:33: FutureWarning: The frame.append method is deprecated and will be removed from pandas in a future version. Use pandas.concat instead.\n",
            "  data2 = data2.append(pd.Series(row, index=data2.columns[:len(row)]), ignore_index=True)\n"
          ]
        },
        {
          "output_type": "stream",
          "name": "stdout",
          "text": [
            "https://mb.com.ph/2023/4/25/poe-welcomes-extension-of-sim-registration-deadline\n"
          ]
        },
        {
          "output_type": "stream",
          "name": "stderr",
          "text": [
            "<ipython-input-40-4a1cb05fa26f>:33: FutureWarning: The frame.append method is deprecated and will be removed from pandas in a future version. Use pandas.concat instead.\n",
            "  data2 = data2.append(pd.Series(row, index=data2.columns[:len(row)]), ignore_index=True)\n"
          ]
        },
        {
          "output_type": "stream",
          "name": "stdout",
          "text": [
            "https://mb.com.ph/2023/4/25/ndrrmc-braces-for-drought-forms-el-nino-team\n"
          ]
        },
        {
          "output_type": "stream",
          "name": "stderr",
          "text": [
            "<ipython-input-40-4a1cb05fa26f>:33: FutureWarning: The frame.append method is deprecated and will be removed from pandas in a future version. Use pandas.concat instead.\n",
            "  data2 = data2.append(pd.Series(row, index=data2.columns[:len(row)]), ignore_index=True)\n"
          ]
        },
        {
          "output_type": "stream",
          "name": "stdout",
          "text": [
            "https://mb.com.ph/2023/4/25/sim-registration-extended-for-90-days-sec-remulla\n"
          ]
        },
        {
          "output_type": "stream",
          "name": "stderr",
          "text": [
            "<ipython-input-40-4a1cb05fa26f>:33: FutureWarning: The frame.append method is deprecated and will be removed from pandas in a future version. Use pandas.concat instead.\n",
            "  data2 = data2.append(pd.Series(row, index=data2.columns[:len(row)]), ignore_index=True)\n"
          ]
        },
        {
          "output_type": "stream",
          "name": "stdout",
          "text": [
            "https://mb.com.ph/2023/4/25/gatchalian-urges-dfa-dmw-to-expedite-repatriation-of-filipinos-in-sudan\n"
          ]
        },
        {
          "output_type": "stream",
          "name": "stderr",
          "text": [
            "<ipython-input-40-4a1cb05fa26f>:33: FutureWarning: The frame.append method is deprecated and will be removed from pandas in a future version. Use pandas.concat instead.\n",
            "  data2 = data2.append(pd.Series(row, index=data2.columns[:len(row)]), ignore_index=True)\n"
          ]
        },
        {
          "output_type": "stream",
          "name": "stdout",
          "text": [
            "https://mb.com.ph/2023/4/25/solon-rejects-temporary-driver-s-license-print-outs-says-official-receipt-will-do\n"
          ]
        },
        {
          "output_type": "stream",
          "name": "stderr",
          "text": [
            "<ipython-input-40-4a1cb05fa26f>:33: FutureWarning: The frame.append method is deprecated and will be removed from pandas in a future version. Use pandas.concat instead.\n",
            "  data2 = data2.append(pd.Series(row, index=data2.columns[:len(row)]), ignore_index=True)\n"
          ]
        },
        {
          "output_type": "stream",
          "name": "stdout",
          "text": [
            "https://mb.com.ph/2023/4/25/extortion-and-exploitation-house-leader-hits-sim-card-sellers-asking-for-registration-fee\n"
          ]
        },
        {
          "output_type": "stream",
          "name": "stderr",
          "text": [
            "<ipython-input-40-4a1cb05fa26f>:33: FutureWarning: The frame.append method is deprecated and will be removed from pandas in a future version. Use pandas.concat instead.\n",
            "  data2 = data2.append(pd.Series(row, index=data2.columns[:len(row)]), ignore_index=True)\n"
          ]
        },
        {
          "output_type": "stream",
          "name": "stdout",
          "text": [
            "https://mb.com.ph/2023/4/25/go-for-gold-go-vouches-for-pinoy-athletes-in-upcoming-sea-games-in-cambodia\n"
          ]
        },
        {
          "output_type": "stream",
          "name": "stderr",
          "text": [
            "<ipython-input-40-4a1cb05fa26f>:33: FutureWarning: The frame.append method is deprecated and will be removed from pandas in a future version. Use pandas.concat instead.\n",
            "  data2 = data2.append(pd.Series(row, index=data2.columns[:len(row)]), ignore_index=True)\n"
          ]
        },
        {
          "output_type": "stream",
          "name": "stdout",
          "text": [
            "https://mb.com.ph/2023/4/25/easterlies-to-bring-isolated-rain-showers-thunderstorms-over-parts-of-ph\n"
          ]
        },
        {
          "output_type": "stream",
          "name": "stderr",
          "text": [
            "<ipython-input-40-4a1cb05fa26f>:33: FutureWarning: The frame.append method is deprecated and will be removed from pandas in a future version. Use pandas.concat instead.\n",
            "  data2 = data2.append(pd.Series(row, index=data2.columns[:len(row)]), ignore_index=True)\n"
          ]
        },
        {
          "output_type": "stream",
          "name": "stdout",
          "text": [
            "https://mb.com.ph/2023/4/25/dswd-main-office-resumes-processing-of-aid-for-crisis-affected-individuals\n"
          ]
        },
        {
          "output_type": "stream",
          "name": "stderr",
          "text": [
            "<ipython-input-40-4a1cb05fa26f>:33: FutureWarning: The frame.append method is deprecated and will be removed from pandas in a future version. Use pandas.concat instead.\n",
            "  data2 = data2.append(pd.Series(row, index=data2.columns[:len(row)]), ignore_index=True)\n"
          ]
        },
        {
          "output_type": "stream",
          "name": "stdout",
          "text": [
            "https://mb.com.ph/2023/4/25/1-rider-party-list-thanks-lto-for-pro-rider-move\n"
          ]
        },
        {
          "output_type": "stream",
          "name": "stderr",
          "text": [
            "<ipython-input-40-4a1cb05fa26f>:33: FutureWarning: The frame.append method is deprecated and will be removed from pandas in a future version. Use pandas.concat instead.\n",
            "  data2 = data2.append(pd.Series(row, index=data2.columns[:len(row)]), ignore_index=True)\n"
          ]
        },
        {
          "output_type": "stream",
          "name": "stdout",
          "text": [
            "https://mb.com.ph/2023/4/25/metro-manila-covid-19-positivity-rate-further-rises-to-10-6-octa\n"
          ]
        },
        {
          "output_type": "stream",
          "name": "stderr",
          "text": [
            "<ipython-input-40-4a1cb05fa26f>:33: FutureWarning: The frame.append method is deprecated and will be removed from pandas in a future version. Use pandas.concat instead.\n",
            "  data2 = data2.append(pd.Series(row, index=data2.columns[:len(row)]), ignore_index=True)\n"
          ]
        },
        {
          "output_type": "stream",
          "name": "stdout",
          "text": [
            "https://mb.com.ph/2023/4/24/vp-duterte-prods-parents-local-execs-ensure-100-of-youth-are-in-schools\n"
          ]
        },
        {
          "output_type": "stream",
          "name": "stderr",
          "text": [
            "<ipython-input-40-4a1cb05fa26f>:33: FutureWarning: The frame.append method is deprecated and will be removed from pandas in a future version. Use pandas.concat instead.\n",
            "  data2 = data2.append(pd.Series(row, index=data2.columns[:len(row)]), ignore_index=True)\n"
          ]
        },
        {
          "output_type": "stream",
          "name": "stdout",
          "text": [
            "https://mb.com.ph/2023/4/24/p124-9-m-mega-lotto-jackpot-still-up-for-grabs\n"
          ]
        },
        {
          "output_type": "stream",
          "name": "stderr",
          "text": [
            "<ipython-input-40-4a1cb05fa26f>:33: FutureWarning: The frame.append method is deprecated and will be removed from pandas in a future version. Use pandas.concat instead.\n",
            "  data2 = data2.append(pd.Series(row, index=data2.columns[:len(row)]), ignore_index=True)\n"
          ]
        },
        {
          "output_type": "stream",
          "name": "stdout",
          "text": [
            "https://mb.com.ph/2023/4/24/pimentel-to-dole-protect-workers-from-extreme-heat-1\n"
          ]
        },
        {
          "output_type": "stream",
          "name": "stderr",
          "text": [
            "<ipython-input-40-4a1cb05fa26f>:33: FutureWarning: The frame.append method is deprecated and will be removed from pandas in a future version. Use pandas.concat instead.\n",
            "  data2 = data2.append(pd.Series(row, index=data2.columns[:len(row)]), ignore_index=True)\n"
          ]
        },
        {
          "output_type": "stream",
          "name": "stdout",
          "text": [
            "https://mb.com.ph/2023/4/24/vp-duterte-s-office-opens-8th-satellite-office-in-isabela\n"
          ]
        },
        {
          "output_type": "stream",
          "name": "stderr",
          "text": [
            "<ipython-input-40-4a1cb05fa26f>:33: FutureWarning: The frame.append method is deprecated and will be removed from pandas in a future version. Use pandas.concat instead.\n",
            "  data2 = data2.append(pd.Series(row, index=data2.columns[:len(row)]), ignore_index=True)\n"
          ]
        },
        {
          "output_type": "stream",
          "name": "stdout",
          "text": [
            "https://mb.com.ph/2023/4/24/use-confidential-funds-to-buy-electric-fans-for-public-schools-pimentel-tells-dep-ed\n"
          ]
        },
        {
          "output_type": "stream",
          "name": "stderr",
          "text": [
            "<ipython-input-40-4a1cb05fa26f>:33: FutureWarning: The frame.append method is deprecated and will be removed from pandas in a future version. Use pandas.concat instead.\n",
            "  data2 = data2.append(pd.Series(row, index=data2.columns[:len(row)]), ignore_index=True)\n"
          ]
        },
        {
          "output_type": "stream",
          "name": "stdout",
          "text": [
            "https://mb.com.ph/2023/4/24/magnitude-5-1-quake-jolts-agusan-del-norte-phivolcs\n"
          ]
        },
        {
          "output_type": "stream",
          "name": "stderr",
          "text": [
            "<ipython-input-40-4a1cb05fa26f>:33: FutureWarning: The frame.append method is deprecated and will be removed from pandas in a future version. Use pandas.concat instead.\n",
            "  data2 = data2.append(pd.Series(row, index=data2.columns[:len(row)]), ignore_index=True)\n"
          ]
        },
        {
          "output_type": "stream",
          "name": "stdout",
          "text": [
            "https://mb.com.ph/2023/4/24/pioneer-study-on-treatment-for-rugby-boys-and-girls-in-progress-up-1\n"
          ]
        },
        {
          "output_type": "stream",
          "name": "stderr",
          "text": [
            "<ipython-input-40-4a1cb05fa26f>:33: FutureWarning: The frame.append method is deprecated and will be removed from pandas in a future version. Use pandas.concat instead.\n",
            "  data2 = data2.append(pd.Series(row, index=data2.columns[:len(row)]), ignore_index=True)\n"
          ]
        },
        {
          "output_type": "stream",
          "name": "stdout",
          "text": [
            "https://mb.com.ph/2023/4/24/finally-dpwh-moves-to-relocate-electric-posts-in-the-middle-of-widened-roads\n"
          ]
        },
        {
          "output_type": "stream",
          "name": "stderr",
          "text": [
            "<ipython-input-40-4a1cb05fa26f>:33: FutureWarning: The frame.append method is deprecated and will be removed from pandas in a future version. Use pandas.concat instead.\n",
            "  data2 = data2.append(pd.Series(row, index=data2.columns[:len(row)]), ignore_index=True)\n"
          ]
        },
        {
          "output_type": "stream",
          "name": "stdout",
          "text": [
            "https://mb.com.ph/2023/4/24/doh-records-3-148-new-covid-19-cases-in-the-past-week\n"
          ]
        },
        {
          "output_type": "stream",
          "name": "stderr",
          "text": [
            "<ipython-input-40-4a1cb05fa26f>:33: FutureWarning: The frame.append method is deprecated and will be removed from pandas in a future version. Use pandas.concat instead.\n",
            "  data2 = data2.append(pd.Series(row, index=data2.columns[:len(row)]), ignore_index=True)\n"
          ]
        },
        {
          "output_type": "stream",
          "name": "stdout",
          "text": [
            "https://mb.com.ph/2023/4/24/csc-issues-rule-on-authority-to-dismiss-defective-administrative-cases\n"
          ]
        },
        {
          "output_type": "stream",
          "name": "stderr",
          "text": [
            "<ipython-input-40-4a1cb05fa26f>:33: FutureWarning: The frame.append method is deprecated and will be removed from pandas in a future version. Use pandas.concat instead.\n",
            "  data2 = data2.append(pd.Series(row, index=data2.columns[:len(row)]), ignore_index=True)\n"
          ]
        },
        {
          "output_type": "stream",
          "name": "stdout",
          "text": [
            "https://mb.com.ph/2023/4/24/dict-assessing-possible-sim-registration-extension\n"
          ]
        },
        {
          "output_type": "stream",
          "name": "stderr",
          "text": [
            "<ipython-input-40-4a1cb05fa26f>:33: FutureWarning: The frame.append method is deprecated and will be removed from pandas in a future version. Use pandas.concat instead.\n",
            "  data2 = data2.append(pd.Series(row, index=data2.columns[:len(row)]), ignore_index=True)\n"
          ]
        },
        {
          "output_type": "stream",
          "name": "stdout",
          "text": [
            "https://mb.com.ph/2023/4/24/here-s-why-senate-sugar-smuggling-probe-won-t-push-through-1\n"
          ]
        },
        {
          "output_type": "stream",
          "name": "stderr",
          "text": [
            "<ipython-input-40-4a1cb05fa26f>:33: FutureWarning: The frame.append method is deprecated and will be removed from pandas in a future version. Use pandas.concat instead.\n",
            "  data2 = data2.append(pd.Series(row, index=data2.columns[:len(row)]), ignore_index=True)\n"
          ]
        },
        {
          "output_type": "execute_result",
          "data": {
            "text/plain": [
              "                                               Title                Author  \\\n",
              "0  Japan ready to help PH education programs — VP...       Raymund Antonio   \n",
              "1  Metro Manila Covid-19 positivity rate may reac...  Ellalyn De Vera-Ruiz   \n",
              "2      Grand, Mega Lotto jackpots still up for grabs       Luisa K. Cabato   \n",
              "3  Japanese minister tells VP Duterte: More jobs ...       Raymund Antonio   \n",
              "4  Enforce ample measures vs El Niño: Abalos orde...          Chito Chavez   \n",
              "\n",
              "           Date                                               Text  \n",
              "0  May 3, 2023   The Japanese government has extended its invit...  \n",
              "1  May 3, 2023   The Covid-19 positivity rate in Metro Manila c...  \n",
              "2  May 3, 2023   There were no jackpot winners for Grand Lotto ...  \n",
              "3  May 3, 2023   Vice President and Education Secretary Sara Du...  \n",
              "4  May 3, 2023   Department of the Interior and Local Governmen...  "
            ],
            "text/html": [
              "\n",
              "  <div id=\"df-c1bf3ea6-8f09-4fcf-b492-8c53ad1a504f\">\n",
              "    <div class=\"colab-df-container\">\n",
              "      <div>\n",
              "<style scoped>\n",
              "    .dataframe tbody tr th:only-of-type {\n",
              "        vertical-align: middle;\n",
              "    }\n",
              "\n",
              "    .dataframe tbody tr th {\n",
              "        vertical-align: top;\n",
              "    }\n",
              "\n",
              "    .dataframe thead th {\n",
              "        text-align: right;\n",
              "    }\n",
              "</style>\n",
              "<table border=\"1\" class=\"dataframe\">\n",
              "  <thead>\n",
              "    <tr style=\"text-align: right;\">\n",
              "      <th></th>\n",
              "      <th>Title</th>\n",
              "      <th>Author</th>\n",
              "      <th>Date</th>\n",
              "      <th>Text</th>\n",
              "    </tr>\n",
              "  </thead>\n",
              "  <tbody>\n",
              "    <tr>\n",
              "      <th>0</th>\n",
              "      <td>Japan ready to help PH education programs — VP...</td>\n",
              "      <td>Raymund Antonio</td>\n",
              "      <td>May 3, 2023</td>\n",
              "      <td>The Japanese government has extended its invit...</td>\n",
              "    </tr>\n",
              "    <tr>\n",
              "      <th>1</th>\n",
              "      <td>Metro Manila Covid-19 positivity rate may reac...</td>\n",
              "      <td>Ellalyn De Vera-Ruiz</td>\n",
              "      <td>May 3, 2023</td>\n",
              "      <td>The Covid-19 positivity rate in Metro Manila c...</td>\n",
              "    </tr>\n",
              "    <tr>\n",
              "      <th>2</th>\n",
              "      <td>Grand, Mega Lotto jackpots still up for grabs</td>\n",
              "      <td>Luisa K. Cabato</td>\n",
              "      <td>May 3, 2023</td>\n",
              "      <td>There were no jackpot winners for Grand Lotto ...</td>\n",
              "    </tr>\n",
              "    <tr>\n",
              "      <th>3</th>\n",
              "      <td>Japanese minister tells VP Duterte: More jobs ...</td>\n",
              "      <td>Raymund Antonio</td>\n",
              "      <td>May 3, 2023</td>\n",
              "      <td>Vice President and Education Secretary Sara Du...</td>\n",
              "    </tr>\n",
              "    <tr>\n",
              "      <th>4</th>\n",
              "      <td>Enforce ample measures vs El Niño: Abalos orde...</td>\n",
              "      <td>Chito Chavez</td>\n",
              "      <td>May 3, 2023</td>\n",
              "      <td>Department of the Interior and Local Governmen...</td>\n",
              "    </tr>\n",
              "  </tbody>\n",
              "</table>\n",
              "</div>\n",
              "      <button class=\"colab-df-convert\" onclick=\"convertToInteractive('df-c1bf3ea6-8f09-4fcf-b492-8c53ad1a504f')\"\n",
              "              title=\"Convert this dataframe to an interactive table.\"\n",
              "              style=\"display:none;\">\n",
              "        \n",
              "  <svg xmlns=\"http://www.w3.org/2000/svg\" height=\"24px\"viewBox=\"0 0 24 24\"\n",
              "       width=\"24px\">\n",
              "    <path d=\"M0 0h24v24H0V0z\" fill=\"none\"/>\n",
              "    <path d=\"M18.56 5.44l.94 2.06.94-2.06 2.06-.94-2.06-.94-.94-2.06-.94 2.06-2.06.94zm-11 1L8.5 8.5l.94-2.06 2.06-.94-2.06-.94L8.5 2.5l-.94 2.06-2.06.94zm10 10l.94 2.06.94-2.06 2.06-.94-2.06-.94-.94-2.06-.94 2.06-2.06.94z\"/><path d=\"M17.41 7.96l-1.37-1.37c-.4-.4-.92-.59-1.43-.59-.52 0-1.04.2-1.43.59L10.3 9.45l-7.72 7.72c-.78.78-.78 2.05 0 2.83L4 21.41c.39.39.9.59 1.41.59.51 0 1.02-.2 1.41-.59l7.78-7.78 2.81-2.81c.8-.78.8-2.07 0-2.86zM5.41 20L4 18.59l7.72-7.72 1.47 1.35L5.41 20z\"/>\n",
              "  </svg>\n",
              "      </button>\n",
              "      \n",
              "  <style>\n",
              "    .colab-df-container {\n",
              "      display:flex;\n",
              "      flex-wrap:wrap;\n",
              "      gap: 12px;\n",
              "    }\n",
              "\n",
              "    .colab-df-convert {\n",
              "      background-color: #E8F0FE;\n",
              "      border: none;\n",
              "      border-radius: 50%;\n",
              "      cursor: pointer;\n",
              "      display: none;\n",
              "      fill: #1967D2;\n",
              "      height: 32px;\n",
              "      padding: 0 0 0 0;\n",
              "      width: 32px;\n",
              "    }\n",
              "\n",
              "    .colab-df-convert:hover {\n",
              "      background-color: #E2EBFA;\n",
              "      box-shadow: 0px 1px 2px rgba(60, 64, 67, 0.3), 0px 1px 3px 1px rgba(60, 64, 67, 0.15);\n",
              "      fill: #174EA6;\n",
              "    }\n",
              "\n",
              "    [theme=dark] .colab-df-convert {\n",
              "      background-color: #3B4455;\n",
              "      fill: #D2E3FC;\n",
              "    }\n",
              "\n",
              "    [theme=dark] .colab-df-convert:hover {\n",
              "      background-color: #434B5C;\n",
              "      box-shadow: 0px 1px 3px 1px rgba(0, 0, 0, 0.15);\n",
              "      filter: drop-shadow(0px 1px 2px rgba(0, 0, 0, 0.3));\n",
              "      fill: #FFFFFF;\n",
              "    }\n",
              "  </style>\n",
              "\n",
              "      <script>\n",
              "        const buttonEl =\n",
              "          document.querySelector('#df-c1bf3ea6-8f09-4fcf-b492-8c53ad1a504f button.colab-df-convert');\n",
              "        buttonEl.style.display =\n",
              "          google.colab.kernel.accessAllowed ? 'block' : 'none';\n",
              "\n",
              "        async function convertToInteractive(key) {\n",
              "          const element = document.querySelector('#df-c1bf3ea6-8f09-4fcf-b492-8c53ad1a504f');\n",
              "          const dataTable =\n",
              "            await google.colab.kernel.invokeFunction('convertToInteractive',\n",
              "                                                     [key], {});\n",
              "          if (!dataTable) return;\n",
              "\n",
              "          const docLinkHtml = 'Like what you see? Visit the ' +\n",
              "            '<a target=\"_blank\" href=https://colab.research.google.com/notebooks/data_table.ipynb>data table notebook</a>'\n",
              "            + ' to learn more about interactive tables.';\n",
              "          element.innerHTML = '';\n",
              "          dataTable['output_type'] = 'display_data';\n",
              "          await google.colab.output.renderOutput(dataTable, element);\n",
              "          const docLink = document.createElement('div');\n",
              "          docLink.innerHTML = docLinkHtml;\n",
              "          element.appendChild(docLink);\n",
              "        }\n",
              "      </script>\n",
              "    </div>\n",
              "  </div>\n",
              "  "
            ]
          },
          "metadata": {},
          "execution_count": 40
        }
      ]
    },
    {
      "cell_type": "markdown",
      "source": [
        "## ABS CBN"
      ],
      "metadata": {
        "id": "00MJ5PJZn6M5"
      }
    },
    {
      "cell_type": "code",
      "source": [
        "## ABS CBN\n",
        "pagesToGet= 2\n",
        "topic = \"Queen Elizabeth Death\"\n",
        "site = \"ABS-CBN_NEWS\"\n",
        "\n",
        "\n",
        "data=pd.DataFrame(columns=['Title','Link','Date',\"Topic\"])\n",
        "\n",
        "for page in range(1,pagesToGet+1):\n",
        "  url = 'https://news.abs-cbn.com/special-pages/search?q='+topic.replace(\" \", \"%20\")+'&gsc.sort=&gsc.page='+str(page)+'#gsc.tab=0&gsc.q='+topic.replace(\" \", \"%20\")+'&gsc.sort=&gsc.page='+str(page)\n",
        "  print(url)\n",
        "\n",
        "  driver.get(url)\n",
        "  # WebDriverWait(driver, 30).until(EC.visibility_of_element_located((By.ID, '___gcse_0'))) \n",
        "  source = driver.page_source\n",
        "\n",
        "  time.sleep(2)   \n",
        "  soup = BeautifulSoup(source, 'html.parser')\n",
        "  searches = soup.find_all('div', {'class':'gsc-webResult gsc-result'})\n",
        "  filename= f\"{dir}{site}-{topic}-NEWS-List.csv\"     \n",
        "\n",
        "  for x in searches:\n",
        "    frame=[]\n",
        "    Title = x.find('div', class_=\"gs-title\").find(\"a\").text.strip()\n",
        "    Date = x.find('div', class_=\"gs-bidi-start-align gs-snippet\").text[:12].strip()\n",
        "    Link = x.find('a', class_=\"gs-title\")['href']\n",
        "    frame.extend((Title, Link, Date, topic))\n",
        "\n",
        "    data = data.append(pd.Series(frame, index=data.columns[:len(frame)]), ignore_index=True)\n",
        "\n",
        "\n",
        "\n",
        "data.to_csv(filename)\n",
        "driver.quit()\n",
        "data\n",
        "\n",
        "\n",
        "\n"
      ],
      "metadata": {
        "id": "qg8vzExe8qtP",
        "outputId": "de8a5fd8-3ed7-4cf2-d7ab-afb094b7a598",
        "colab": {
          "base_uri": "https://localhost:8080/",
          "height": 415
        }
      },
      "execution_count": null,
      "outputs": [
        {
          "output_type": "error",
          "ename": "WebDriverException",
          "evalue": "ignored",
          "traceback": [
            "\u001b[0;31m---------------------------------------------------------------------------\u001b[0m",
            "\u001b[0;31mWebDriverException\u001b[0m                        Traceback (most recent call last)",
            "\u001b[0;32m<ipython-input-14-96f31870f03c>\u001b[0m in \u001b[0;36m<cell line: 13>\u001b[0;34m()\u001b[0m\n\u001b[1;32m     11\u001b[0m \u001b[0muserAgent\u001b[0m \u001b[0;34m=\u001b[0m \u001b[0;34m\"Chrome/105.0.0.0\"\u001b[0m\u001b[0;34m\u001b[0m\u001b[0;34m\u001b[0m\u001b[0m\n\u001b[1;32m     12\u001b[0m \u001b[0mchrome_options\u001b[0m\u001b[0;34m.\u001b[0m\u001b[0madd_argument\u001b[0m\u001b[0;34m(\u001b[0m\u001b[0;34mf\"user-agent={userAgent}\"\u001b[0m\u001b[0;34m)\u001b[0m\u001b[0;34m\u001b[0m\u001b[0;34m\u001b[0m\u001b[0m\n\u001b[0;32m---> 13\u001b[0;31m \u001b[0mdriver\u001b[0m \u001b[0;34m=\u001b[0m \u001b[0mwebdriver\u001b[0m\u001b[0;34m.\u001b[0m\u001b[0mChrome\u001b[0m\u001b[0;34m(\u001b[0m\u001b[0;34m'chromedriver'\u001b[0m\u001b[0;34m,\u001b[0m\u001b[0moptions\u001b[0m\u001b[0;34m=\u001b[0m\u001b[0mchrome_options\u001b[0m\u001b[0;34m)\u001b[0m\u001b[0;34m\u001b[0m\u001b[0;34m\u001b[0m\u001b[0m\n\u001b[0m\u001b[1;32m     14\u001b[0m \u001b[0;34m\u001b[0m\u001b[0m\n\u001b[1;32m     15\u001b[0m \u001b[0mdata\u001b[0m\u001b[0;34m=\u001b[0m\u001b[0mpd\u001b[0m\u001b[0;34m.\u001b[0m\u001b[0mDataFrame\u001b[0m\u001b[0;34m(\u001b[0m\u001b[0mcolumns\u001b[0m\u001b[0;34m=\u001b[0m\u001b[0;34m[\u001b[0m\u001b[0;34m'Title'\u001b[0m\u001b[0;34m,\u001b[0m\u001b[0;34m'Link'\u001b[0m\u001b[0;34m,\u001b[0m\u001b[0;34m'Date'\u001b[0m\u001b[0;34m,\u001b[0m\u001b[0;34m\"Topic\"\u001b[0m\u001b[0;34m]\u001b[0m\u001b[0;34m)\u001b[0m\u001b[0;34m\u001b[0m\u001b[0;34m\u001b[0m\u001b[0m\n",
            "\u001b[0;32m/usr/local/lib/python3.10/dist-packages/selenium/webdriver/chrome/webdriver.py\u001b[0m in \u001b[0;36m__init__\u001b[0;34m(self, executable_path, port, options, service_args, desired_capabilities, service_log_path, chrome_options, service, keep_alive)\u001b[0m\n\u001b[1;32m     82\u001b[0m         \u001b[0mservice\u001b[0m\u001b[0;34m.\u001b[0m\u001b[0mpath\u001b[0m \u001b[0;34m=\u001b[0m \u001b[0mDriverFinder\u001b[0m\u001b[0;34m.\u001b[0m\u001b[0mget_path\u001b[0m\u001b[0;34m(\u001b[0m\u001b[0mservice\u001b[0m\u001b[0;34m,\u001b[0m \u001b[0moptions\u001b[0m\u001b[0;34m)\u001b[0m\u001b[0;34m\u001b[0m\u001b[0;34m\u001b[0m\u001b[0m\n\u001b[1;32m     83\u001b[0m \u001b[0;34m\u001b[0m\u001b[0m\n\u001b[0;32m---> 84\u001b[0;31m         super().__init__(\n\u001b[0m\u001b[1;32m     85\u001b[0m             \u001b[0mDesiredCapabilities\u001b[0m\u001b[0;34m.\u001b[0m\u001b[0mCHROME\u001b[0m\u001b[0;34m[\u001b[0m\u001b[0;34m\"browserName\"\u001b[0m\u001b[0;34m]\u001b[0m\u001b[0;34m,\u001b[0m\u001b[0;34m\u001b[0m\u001b[0;34m\u001b[0m\u001b[0m\n\u001b[1;32m     86\u001b[0m             \u001b[0;34m\"goog\"\u001b[0m\u001b[0;34m,\u001b[0m\u001b[0;34m\u001b[0m\u001b[0;34m\u001b[0m\u001b[0m\n",
            "\u001b[0;32m/usr/local/lib/python3.10/dist-packages/selenium/webdriver/chromium/webdriver.py\u001b[0m in \u001b[0;36m__init__\u001b[0;34m(self, browser_name, vendor_prefix, port, options, service_args, desired_capabilities, service_log_path, service, keep_alive)\u001b[0m\n\u001b[1;32m     99\u001b[0m \u001b[0;34m\u001b[0m\u001b[0m\n\u001b[1;32m    100\u001b[0m         \u001b[0mself\u001b[0m\u001b[0;34m.\u001b[0m\u001b[0mservice\u001b[0m \u001b[0;34m=\u001b[0m \u001b[0mservice\u001b[0m\u001b[0;34m\u001b[0m\u001b[0;34m\u001b[0m\u001b[0m\n\u001b[0;32m--> 101\u001b[0;31m         \u001b[0mself\u001b[0m\u001b[0;34m.\u001b[0m\u001b[0mservice\u001b[0m\u001b[0;34m.\u001b[0m\u001b[0mstart\u001b[0m\u001b[0;34m(\u001b[0m\u001b[0;34m)\u001b[0m\u001b[0;34m\u001b[0m\u001b[0;34m\u001b[0m\u001b[0m\n\u001b[0m\u001b[1;32m    102\u001b[0m \u001b[0;34m\u001b[0m\u001b[0m\n\u001b[1;32m    103\u001b[0m         \u001b[0;32mtry\u001b[0m\u001b[0;34m:\u001b[0m\u001b[0;34m\u001b[0m\u001b[0;34m\u001b[0m\u001b[0m\n",
            "\u001b[0;32m/usr/local/lib/python3.10/dist-packages/selenium/webdriver/common/service.py\u001b[0m in \u001b[0;36mstart\u001b[0;34m(self)\u001b[0m\n\u001b[1;32m     98\u001b[0m         \u001b[0mcount\u001b[0m \u001b[0;34m=\u001b[0m \u001b[0;36m0\u001b[0m\u001b[0;34m\u001b[0m\u001b[0;34m\u001b[0m\u001b[0m\n\u001b[1;32m     99\u001b[0m         \u001b[0;32mwhile\u001b[0m \u001b[0;32mTrue\u001b[0m\u001b[0;34m:\u001b[0m\u001b[0;34m\u001b[0m\u001b[0;34m\u001b[0m\u001b[0m\n\u001b[0;32m--> 100\u001b[0;31m             \u001b[0mself\u001b[0m\u001b[0;34m.\u001b[0m\u001b[0massert_process_still_running\u001b[0m\u001b[0;34m(\u001b[0m\u001b[0;34m)\u001b[0m\u001b[0;34m\u001b[0m\u001b[0;34m\u001b[0m\u001b[0m\n\u001b[0m\u001b[1;32m    101\u001b[0m             \u001b[0;32mif\u001b[0m \u001b[0mself\u001b[0m\u001b[0;34m.\u001b[0m\u001b[0mis_connectable\u001b[0m\u001b[0;34m(\u001b[0m\u001b[0;34m)\u001b[0m\u001b[0;34m:\u001b[0m\u001b[0;34m\u001b[0m\u001b[0;34m\u001b[0m\u001b[0m\n\u001b[1;32m    102\u001b[0m                 \u001b[0;32mbreak\u001b[0m\u001b[0;34m\u001b[0m\u001b[0;34m\u001b[0m\u001b[0m\n",
            "\u001b[0;32m/usr/local/lib/python3.10/dist-packages/selenium/webdriver/common/service.py\u001b[0m in \u001b[0;36massert_process_still_running\u001b[0;34m(self)\u001b[0m\n\u001b[1;32m    111\u001b[0m         \u001b[0mreturn_code\u001b[0m \u001b[0;34m=\u001b[0m \u001b[0mself\u001b[0m\u001b[0;34m.\u001b[0m\u001b[0mprocess\u001b[0m\u001b[0;34m.\u001b[0m\u001b[0mpoll\u001b[0m\u001b[0;34m(\u001b[0m\u001b[0;34m)\u001b[0m\u001b[0;34m\u001b[0m\u001b[0;34m\u001b[0m\u001b[0m\n\u001b[1;32m    112\u001b[0m         \u001b[0;32mif\u001b[0m \u001b[0mreturn_code\u001b[0m\u001b[0;34m:\u001b[0m\u001b[0;34m\u001b[0m\u001b[0;34m\u001b[0m\u001b[0m\n\u001b[0;32m--> 113\u001b[0;31m             \u001b[0;32mraise\u001b[0m \u001b[0mWebDriverException\u001b[0m\u001b[0;34m(\u001b[0m\u001b[0;34mf\"Service {self._path} unexpectedly exited. Status code was: {return_code}\"\u001b[0m\u001b[0;34m)\u001b[0m\u001b[0;34m\u001b[0m\u001b[0;34m\u001b[0m\u001b[0m\n\u001b[0m\u001b[1;32m    114\u001b[0m \u001b[0;34m\u001b[0m\u001b[0m\n\u001b[1;32m    115\u001b[0m     \u001b[0;32mdef\u001b[0m \u001b[0mis_connectable\u001b[0m\u001b[0;34m(\u001b[0m\u001b[0mself\u001b[0m\u001b[0;34m)\u001b[0m \u001b[0;34m->\u001b[0m \u001b[0mbool\u001b[0m\u001b[0;34m:\u001b[0m\u001b[0;34m\u001b[0m\u001b[0;34m\u001b[0m\u001b[0m\n",
            "\u001b[0;31mWebDriverException\u001b[0m: Message: Service /usr/bin/chromedriver unexpectedly exited. Status code was: 1\n"
          ]
        }
      ]
    },
    {
      "cell_type": "code",
      "source": [
        "data2 = pd.DataFrame(columns=[\"Title\", \"Author\", \"Date\", \"Text\"])\n",
        "filename= f\"{dir+site+'-'+topic}NEWS.csv\"\n",
        "\n",
        "for index, row in data.iterrows():\n",
        "  url = row[\"Link\"] \n",
        "  if ('multimedia/photo' in url):\n",
        "    pass\n",
        "  else:\n",
        "    print(url)\n",
        "\n",
        "    time.sleep(1)   \n",
        "    soup=BeautifulSoup(extract_source(url).text, 'html.parser')\n",
        "      \n",
        "    row=[]\n",
        "    \n",
        "    Title = soup.find('h1',{'class':'news-title'}).text.strip()\n",
        "    Author = soup.find('span',attrs={'class':'editor'}).text.strip()\n",
        "    Date = soup.find('span', attrs={'class': 'date-posted'}).text[:-8].strip() \n",
        "    \n",
        "    textList =soup.find(\"div\", {'class' :'article-content'}).find_all(\"p\")\n",
        "    body = \"\"\n",
        "    for t in textList:\n",
        "      if (t.text != \"RELATED VIDEO:\"):\n",
        "        body += (t.text) +\"\\n\" \n",
        "\n",
        "    row.extend((Title, Author, Date, body))\n",
        "    \n",
        "\n",
        "    data2 = data2.append(pd.Series(row, index=data2.columns[:len(row)]), ignore_index=True)\n",
        "  \n",
        "data2.to_csv(filename)\n",
        "data2.head()"
      ],
      "metadata": {
        "id": "YIfu-vRWOzcf"
      },
      "execution_count": null,
      "outputs": []
    },
    {
      "cell_type": "markdown",
      "source": [
        "## GMA "
      ],
      "metadata": {
        "id": "WaPofL-jn9u0"
      }
    },
    {
      "cell_type": "code",
      "source": [
        "# https://www.gmanetwork.com/news/#/search;query=queen%20elizabeth%20death;sortBy=_score;isDesc=1\n",
        "\n",
        "topic = \"Queen Elizabeth Death\"\n",
        "site = \"GMA-Network\"\n",
        "\n",
        "\n",
        "chrome_options = webdriver.ChromeOptions()\n",
        "chrome_options.add_argument('--headless')\n",
        "chrome_options.add_argument('--no-sandbox')\n",
        "chrome_options.add_argument('--disable-dev-shm-usage')\n",
        "chrome_options.add_argument('--disable-blink-features=AutomationControlled')\n",
        "userAgent = \"Chrome/105.0.0.0\"\n",
        "chrome_options.add_argument(f\"user-agent={userAgent}\")\n",
        "driver = webdriver.Chrome('chromedriver',options=chrome_options)\n",
        "\n",
        "data=pd.DataFrame(columns=['Title','Link','Date',\"Topic\"])\n",
        "\n",
        "url = 'https://www.gmanetwork.com/news/#/search;query='+topic.replace(\" \", \"%20\")+';sortBy=_score;isDesc=1'\n",
        "print(url)\n",
        "\n",
        "driver.get(url)\n",
        "WebDriverWait(driver, 50).until(EC.visibility_of_element_located((By.CLASS_NAME, 'clearfix'))) \n",
        "source = driver.page_source\n",
        "\n",
        "time.sleep(2)   \n",
        "soup = BeautifulSoup(source, 'html.parser')\n",
        "searches = soup.find_all('div', {'class':'zd-row-text-wrap'})\n",
        "filename= f\"{dir}{site}-{topic}-NEWS-List.csv\"     \n",
        "print(len(searches))\n",
        "\n",
        "for x in searches:\n",
        "  frame=[]\n",
        "  Title = x.find('h4', class_=\"zd-result-title ng-star-inserted\").text.strip()\n",
        "  Date = x.find('div', class_=\"zd-result-subTitle ng-star-inserted\").text[:-18].strip()\n",
        "  partialTitle = ' '.join(Title.split()[:8])\n",
        "\n",
        "  try:\n",
        "    Link = \"\"\n",
        "    to_Click = driver.find_element(By.XPATH, f\"//*[contains(text(), '{Title}')]\")\n",
        "    print(to_Click.text)\n",
        "    to_Click.click()\n",
        "    driver.switch_to.window(driver.window_handles[1])\n",
        "    Link = driver.current_url\n",
        "    driver.close()\n",
        "    driver.switch_to.window(driver.window_handles[0])\n",
        "  except Exception as e:\n",
        "    print(\"Something wrong. Error:\", e.split()[0])\n",
        "\n",
        "  frame.extend((Title, Link, Date, topic))\n",
        "\n",
        "  data = data.append(pd.Series(frame, index=data.columns[:len(frame)]), ignore_index=True)\n",
        "\n",
        "data.to_csv(filename)\n",
        "driver.quit()\n",
        "data.head(10)\n"
      ],
      "metadata": {
        "id": "RQ9n3DXbUD4G"
      },
      "execution_count": null,
      "outputs": []
    },
    {
      "cell_type": "code",
      "source": [
        "data"
      ],
      "metadata": {
        "id": "rqq5vKh0nHZn"
      },
      "execution_count": null,
      "outputs": []
    },
    {
      "cell_type": "code",
      "source": [
        "data2 = pd.DataFrame(columns=[\"Title\", \"Author\", \"Date\", \"Text\"])\n",
        "filename= f\"{dir+site+'-'+topic}NEWS.csv\"\n",
        "\n",
        "for index, row in data.iterrows():\n",
        "  url = row[\"Link\"] \n",
        "  if (url == \"\"):\n",
        "    continue\n",
        "  \n",
        "  print(url)\n",
        "  time.sleep(2)   \n",
        "  soup=BeautifulSoup(extract_source(url).text, 'html.parser')\n",
        "    \n",
        "  row=[]\n",
        "  \n",
        "  Title = soup.find('h1',{'class':'story_links'}).text.strip()\n",
        "  Author = soup.find('div',attrs={'class':'main-byline'}).find('div').find('div').text.strip()\n",
        "  Date = soup.find('div', attrs={'class': 'article-time'}).find('time')['datetime'][:10].strip() \n",
        "  \n",
        "  textList =soup.find(\"div\", {'class' :'story_main'}).find_all(\"p\")\n",
        "  body = \"\"\n",
        "  for t in textList:\n",
        "    if (t.find('p', class_=\"ad\")):\n",
        "      pass\n",
        "    else:\n",
        "      body += (t.text) +\"\\n\" \n",
        "\n",
        "  row.extend((Title, Author, Date, body))\n",
        "  \n",
        "\n",
        "  data2 = data2.append(pd.Series(row, index=data2.columns[:len(row)]), ignore_index=True)\n",
        "  \n",
        "data2.to_csv(filename)\n",
        "data2.head()"
      ],
      "metadata": {
        "id": "yl8f_da2j_yT"
      },
      "execution_count": null,
      "outputs": []
    },
    {
      "cell_type": "markdown",
      "source": [
        "# Application"
      ],
      "metadata": {
        "id": "DhFATEIp7J54"
      }
    },
    {
      "cell_type": "markdown",
      "source": [
        "## Scraping Function"
      ],
      "metadata": {
        "id": "AAq7YZnx7E6e"
      }
    },
    {
      "cell_type": "code",
      "source": [
        "def abs_scrape(url):\n",
        "  abs_df = pd.DataFrame(columns=[\"Title\", \"Author\", \"Date\", \"Text\"])\n",
        "\n",
        "  time.sleep(1)   \n",
        "  soup=BeautifulSoup(extract_source(url).text, 'html.parser')\n",
        "    \n",
        "  row=[]\n",
        "  \n",
        "  Title = soup.find('h1',{'class':'news-title'}).text.strip()\n",
        "  Author = soup.find('span',attrs={'class':'editor'}).text.strip()\n",
        "  Date = soup.find('span', attrs={'class': 'date-posted'}).text[:-8].strip() \n",
        "  \n",
        "  textList =soup.find(\"div\", {'class' :'article-content'}).find_all(\"p\")\n",
        "  body = \"\"\n",
        "  for t in textList:\n",
        "    if (t.text != \"RELATED VIDEO:\"):\n",
        "      body += (t.text) +\"\\n\" \n",
        "\n",
        "  row.extend((Title, Author, Date, body))\n",
        "  \n",
        "  abs_df = abs_df.append(pd.Series(row, index=abs_df.columns[:len(row)]), ignore_index=True)\n",
        "  \n",
        "  return abs_df"
      ],
      "metadata": {
        "id": "ZYNsYAKK3cpj"
      },
      "execution_count": null,
      "outputs": []
    },
    {
      "cell_type": "code",
      "source": [
        "def gma_scrape(url):\n",
        "  gma_df = pd.DataFrame(columns=[\"Title\", \"Author\", \"Date\", \"Text\"])\n",
        "  \n",
        "  time.sleep(2)   \n",
        "  soup=BeautifulSoup(extract_source(url).text, 'html.parser')\n",
        "    \n",
        "  row=[]\n",
        "\n",
        "  Title = soup.find('h1',{'class':'story_links'}).text.strip()\n",
        "  Author = soup.find('div',attrs={'class':'main-byline'})\n",
        "  if (Author != None):\n",
        "    Author = Author.find('div').find('div').text.strip() \n",
        "  Date = soup.find('div', attrs={'class': 'article-time'}).find('time')['datetime'][:10].strip() \n",
        "\n",
        "  \n",
        "  textList =soup.find(\"div\", {'class' :'story_main'}).find_all(\"p\")\n",
        "  body = \"\"\n",
        "  for t in textList:\n",
        "    if (t.find('p', class_=\"ad\")):\n",
        "      pass\n",
        "    else:\n",
        "      body += (t.text) +\"\\n\" \n",
        "\n",
        "  row.extend((Title, Author, Date, body))\n",
        "  \n",
        "  gma_df = gma_df.append(pd.Series(row, index=gma_df.columns[:len(row)]), ignore_index=True)\n",
        "\n",
        "  return gma_df\n",
        "  \n"
      ],
      "metadata": {
        "id": "rc4Qqqk-7Pi4"
      },
      "execution_count": null,
      "outputs": []
    },
    {
      "cell_type": "code",
      "source": [
        "def cnn_scrape(url):\n",
        "\n",
        "  chrome_options = webdriver.ChromeOptions()\n",
        "  chrome_options.add_argument('--headless')\n",
        "  chrome_options.add_argument('--no-sandbox')\n",
        "  chrome_options.add_argument('--disable-dev-shm-usage')\n",
        "  chrome_options.add_argument('--disable-blink-features=AutomationControlled')\n",
        "  userAgent = \"Chrome/105.0.0.0\"\n",
        "  chrome_options.add_argument(f\"user-agent={userAgent}\")\n",
        "  driver = webdriver.Chrome('chromedriver',options=chrome_options)\n",
        "\n",
        "  driver.get(url)\n",
        "  WebDriverWait(driver, 50).until(EC.visibility_of_element_located((By.CLASS_NAME, 'title'))) \n",
        "  source = driver.page_source\n",
        "\n",
        "  cnn_df = pd.DataFrame(columns=[\"Title\", \"Author\", \"Date\", \"Text\"])\n",
        "  \n",
        "  soup=BeautifulSoup(source, 'html.parser')\n",
        "  # time.sleep(2)   \n",
        "\n",
        "  # print(soup)\n",
        "  row=[]\n",
        "  \n",
        "  Title = soup.find('h1',{'class':'title'}).text.strip()\n",
        "  Author = soup.find('div',attrs={'class':'author-byline'}).find('p').find('a').text.strip()\n",
        "  Date = soup.find('div', attrs={'class': 'dateLine'}).find('p', {'class': 'dateString no-icon'}).text[10:-11].strip() \n",
        "  \n",
        "  textList =soup.find(\"div\", {'class' :'article-maincontent-p cnn-life-body'}).find_all(\"p\")\n",
        "  body = \"\"\n",
        "  for t in textList:\n",
        "      body += (t.text) +\"\\n\" \n",
        "\n",
        "  row.extend((Title, Author, Date, body))\n",
        "  \n",
        "\n",
        "  cnn_df = cnn_df.append(pd.Series(row, index=cnn_df.columns[:len(row)]), ignore_index=True)\n",
        "\n",
        "  return cnn_df"
      ],
      "metadata": {
        "id": "qpXpr6qQkKfP"
      },
      "execution_count": null,
      "outputs": []
    },
    {
      "cell_type": "code",
      "source": [
        "def clean(df, text, clean_col , sw = [] ):\n",
        "    \"\"\"\n",
        "    Remove blank texts, replaces text with lower case characters,\n",
        "    remove special characters, remove other special texts like URLs and Twitter handles, \n",
        "    remove leading and trailing whitespaces, and remove stopwords.\n",
        "    \"\"\"\n",
        "\n",
        "    # Remove blank texts\n",
        "    df[clean_col] = df[text].fillna('')     \n",
        "\n",
        "    # Transform into lowercase\n",
        "    df[clean_col] = df[clean_col].str.lower()\n",
        "\n",
        "    # # Remove non-alphanumeric characters\n",
        "    df[clean_col] = df[clean_col].str.replace(r'(@[A-Za-z0-9_]+)|([^A-Za-z0-9_ \\t])|(\\w+:\\/\\/\\S+)', '')\n",
        "    \n",
        "    # # Lemmatize verbs\n",
        "    # df['cleaned_text'] = df['cleaned_text'].apply(lambda row: ' '.join([lemmatizer.lemmatize(x, 'v') for x in row.split()]))\n",
        "\n",
        "    # # Lemmatize adjectives\n",
        "    # df['cleaned_text'] = df['cleaned_text'].apply(lambda row: ' '.join([lemmatizer.lemmatize(x, 'a') for x in row.split()]))\n",
        "\n",
        "    # # Lemmatize nouns\n",
        "    # df['cleaned_text'] = df['cleaned_text'].apply(lambda row: ' '.join([lemmatizer.lemmatize(x, 'n') for x in row.split()]))\n",
        "\n",
        "    # Remove trailing and leading whitespaces\n",
        "    df[clean_col] = df[clean_col].str.replace(r'^\\s+|\\s+$', '')\n",
        "\n",
        "    # # Remove stopwords \n",
        "    df[clean_col] = df[clean_col].apply(lambda row: ' '.join([word for word in row.split() if word not in (stopwords + sw)])) \n",
        "\n",
        "    return df"
      ],
      "metadata": {
        "id": "oAGB3dkZFyo1"
      },
      "execution_count": null,
      "outputs": []
    },
    {
      "cell_type": "code",
      "source": [
        "def senti_Analysis(df, col, colLabel ):\n",
        "  sia = SentimentIntensityAnalyzer()\n",
        "  newcol = {'compoundScore' : [sia.polarity_scores(entry) for entry in col]}\n",
        "  if (colLabel in df.columns):\n",
        "      df[colLabel] =  newcol['compoundScore']\n",
        "  else:\n",
        "    df.insert(df.shape[1], colLabel, newcol['compoundScore'])\n",
        "  "
      ],
      "metadata": {
        "id": "b-Xwekv-LJOo"
      },
      "execution_count": null,
      "outputs": []
    },
    {
      "cell_type": "markdown",
      "source": [
        "## Scrape"
      ],
      "metadata": {
        "id": "nnlTbHfAQvlq"
      }
    },
    {
      "cell_type": "code",
      "source": [
        "df_ = pd.DataFrame(columns=[\"Title\", \"Author\", \"Date\", \"Text\"])\n",
        "df_ = df_.append(abs_scrape(\"https://news.abs-cbn.com/news/09/29/22/ovp-eyes-coconut-palace-as-permanent-home\"), ignore_index=True)\n",
        "df_ = df_.append(gma_scrape(\"https://www.gmanetwork.com/news/topstories/nation/846433/sara-duterte-ovp-in-talks-with-gsis-for-possible-acquisition-of-coconut-palace/story/\"), ignore_index=True)\n",
        "df_.head()"
      ],
      "metadata": {
        "id": "rLC433D46a3-"
      },
      "execution_count": null,
      "outputs": []
    },
    {
      "cell_type": "markdown",
      "source": [
        "### Oct 6"
      ],
      "metadata": {
        "id": "pNL6TdVmlv9-"
      }
    },
    {
      "cell_type": "code",
      "source": [
        "df = pd.DataFrame(columns=[\"Title\", \"Author\", \"Date\", \"Text\"])\n",
        "abscbn = abs_scrape('https://news.abs-cbn.com/news/10/04/22/who-funded-marcos-sg-trip-not-relevant-says-bersamin')\n",
        "gma = gma_scrape('https://www.gmanetwork.com/news/topstories/nation/846954/palace-marcos-performed-job-as-president-in-singapore/story/?just_in')\n",
        "cnn = cnn_scrape('https://www.cnnphilippines.com/news/2022/10/4/Marcos-entitled-to-private-time-funding-source-irrelevant.html')\n",
        "\n",
        "df = df.append(abscbn)\n",
        "df = df.append(gma)\n",
        "df = df.append(cnn)\n"
      ],
      "metadata": {
        "id": "5CHCl7HSlz0q"
      },
      "execution_count": null,
      "outputs": []
    },
    {
      "cell_type": "code",
      "source": [
        "addedFilter = ['executive', 'president', 'trip', 'marcos', 'bersamin']\n",
        "visualize((clean(abscbn,\"Text\", \"cleanText\",addedFilter )), \"cleanText\", \"ABS-CBN\")\n",
        "visualize((clean(gma,\"Text\", \"cleanText\",addedFilter)), \"cleanText\", \"GMA\")\n",
        "visualize((clean(cnn,\"Text\", \"cleanText\", addedFilter)), \"cleanText\", \"CNN\")"
      ],
      "metadata": {
        "id": "5BcNpnAOmTVK"
      },
      "execution_count": null,
      "outputs": []
    },
    {
      "cell_type": "code",
      "source": [],
      "metadata": {
        "id": "bDJELKBYpmE_"
      },
      "execution_count": null,
      "outputs": []
    },
    {
      "cell_type": "code",
      "source": [
        "df_clean= clean(df_, 'Text', 'clean_Textbody')\n",
        "df_clean= clean(df_, 'Title', 'clean_Title')\n",
        "df_clean[\"clean_Body_Title\"] = df_clean[\"clean_Title\"].str.cat(df_clean[\"clean_Textbody\"], sep = \"\\n\")\n",
        "df_clean.head()"
      ],
      "metadata": {
        "id": "hA-nRcFf9Bsv"
      },
      "execution_count": null,
      "outputs": []
    },
    {
      "cell_type": "code",
      "source": [
        "def POS(df, dfCol, colLabel):\n",
        "  POS = []\n",
        "  for index, row in df.iterrows():\n",
        "    # print(type(row[dfCol]), row[dfCol])\n",
        "    tokenized = sent_tokenize(row[dfCol])\n",
        "    for i in tokenized:\n",
        "      \n",
        "      # Word tokenizers is used to find the words\n",
        "      # and punctuation in a string\n",
        "      wordsList = nltk.word_tokenize(i)\n",
        "\n",
        "      wordsList = [w for w in wordsList if not w in stopwords]\n",
        "  \n",
        "      #  Using a Tagger. Which is part-of-speech\n",
        "      # tagger or POS-tagger.\n",
        "      tagged = nltk.pos_tag(wordsList)\n",
        "      POS.append(tagged)\n",
        "    df.loc[index, colLabel] =  POS\n",
        "    \n",
        " "
      ],
      "metadata": {
        "id": "Jler8A6aRQk9"
      },
      "execution_count": null,
      "outputs": []
    },
    {
      "cell_type": "code",
      "source": [
        "# https://www.geeksforgeeks.org/part-speech-tagging-stop-words-using-nltk-python/\n",
        "POS(df_clean, 'clean_Body_Title', \"POS\")\n",
        "df_clean\n"
      ],
      "metadata": {
        "id": "UwQo58BZSTbd"
      },
      "execution_count": null,
      "outputs": []
    },
    {
      "cell_type": "code",
      "source": [
        "df_clean.to_csv(f\"{dir}textCompare.csv\")"
      ],
      "metadata": {
        "id": "Mx6UTXguaEq5"
      },
      "execution_count": null,
      "outputs": []
    }
  ]
}
>>>>>>> 5cd93ee6a46361eb8a20df3d8953b760032c22a1
